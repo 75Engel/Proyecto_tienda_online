{
 "cells": [
  {
   "attachments": {},
   "cell_type": "markdown",
   "metadata": {},
   "source": [
    "# Almacenamiento de datos"
   ]
  },
  {
   "attachments": {},
   "cell_type": "markdown",
   "metadata": {},
   "source": [
    "## Introducción\n",
    "\n",
    "Vamos a generar una BBDD Relacional para el almacenamiento de los registros que hemos obtenido hasta ahora.\n",
    "\n",
    "La estructura  de la base de datos será de 5 tablas relacionadas entre sí y 1/2 views para tener un acceso más rápido a una serie de datos en el momento de hacer el llamamiento a las queries.\n",
    "\n",
    "Realizaremos diversos llamamientos a la BBDD para visualizar los datos de la misma y hacer una evaluación de los datos de la página web."
   ]
  },
  {
   "attachments": {},
   "cell_type": "markdown",
   "metadata": {},
   "source": [
    "## Librerías"
   ]
  },
  {
   "cell_type": "code",
   "execution_count": 1,
   "metadata": {},
   "outputs": [
    {
     "name": "stdout",
     "output_type": "stream",
     "text": [
      "El directorio en el que te encuentras ahora es d:\\Data_science\\Javier\\Repositorios\\Proyecto_tienda_online\\src\n"
     ]
    }
   ],
   "source": [
    "import os\n",
    "os.chdir(os.path.split(os.getcwd())[0])\n",
    "folder=os.getcwd()\n",
    "import pandas as pd\n",
    "import numpy as np\n",
    "from datetime import datetime\n",
    "import sqlite3\n",
    "import matplotlib.pyplot as plt\n",
    "import seaborn as sns\n",
    "from Utils import functions as f\n",
    "\n",
    "print(\"El directorio en el que te encuentras ahora es\",folder)"
   ]
  },
  {
   "attachments": {},
   "cell_type": "markdown",
   "metadata": {},
   "source": [
    "## Estructuras de la BBDD"
   ]
  },
  {
   "attachments": {},
   "cell_type": "markdown",
   "metadata": {},
   "source": [
    "![Estructura_tablas](../Resources/image/Relacion_tablas.jpg)"
   ]
  },
  {
   "attachments": {},
   "cell_type": "markdown",
   "metadata": {},
   "source": [
    "### a.- Realizando la conexión a la Base de Datos."
   ]
  },
  {
   "cell_type": "code",
   "execution_count": 2,
   "metadata": {},
   "outputs": [],
   "source": [
    "# Conectamos con la base de datos\n",
    "conn = sqlite3.connect(\"Resources/online_shop.db\")\n",
    "\n",
    "# Obtenemos un cursor que utilizaremos para hacer las queries\n",
    "cursor = conn.cursor()"
   ]
  },
  {
   "attachments": {},
   "cell_type": "markdown",
   "metadata": {},
   "source": [
    "## 1. Construyendo la BBDD"
   ]
  },
  {
   "cell_type": "code",
   "execution_count": 36,
   "metadata": {},
   "outputs": [],
   "source": [
    "res = cursor.execute(\"SELECT name FROM sqlite_master WHERE type='table'\")\n",
    "# res = cursor.execute(\"SELECT name FROM sqlite_master WHERE type='view'\")\n",
    "for name in res:\n",
    "    print(name[0])"
   ]
  },
  {
   "attachments": {},
   "cell_type": "markdown",
   "metadata": {},
   "source": [
    "#### PRODUCT"
   ]
  },
  {
   "cell_type": "code",
   "execution_count": 37,
   "metadata": {},
   "outputs": [
    {
     "data": {
      "text/plain": [
       "<sqlite3.Cursor at 0x2b3cd2e5cc0>"
      ]
     },
     "execution_count": 37,
     "metadata": {},
     "output_type": "execute_result"
    }
   ],
   "source": [
    "query = '''\n",
    "CREATE TABLE PRODUCT  (\n",
    "    ID INT (3),\n",
    "    PRODUCT VARCHAR (100),\n",
    "    SLOGAN VARCHAR (100),\n",
    "    DESCRIPTION VARCHAR (250),\n",
    "    CHARACTERISTICS VARCHAR (250),\n",
    "    URL VARCHAR (50),\n",
    "    PRIMARY KEY (ID)\n",
    ")\n",
    "\n",
    "'''\n",
    "\n",
    "\n",
    "cursor.execute(query)"
   ]
  },
  {
   "cell_type": "markdown",
   "metadata": {},
   "source": [
    "#### PRICES"
   ]
  },
  {
   "cell_type": "code",
   "execution_count": 38,
   "metadata": {},
   "outputs": [
    {
     "data": {
      "text/plain": [
       "<sqlite3.Cursor at 0x2b3cd2e5cc0>"
      ]
     },
     "execution_count": 38,
     "metadata": {},
     "output_type": "execute_result"
    }
   ],
   "source": [
    "query = '''\n",
    "CREATE TABLE PRICES  (\n",
    "    ID INT (3),\n",
    "    ID_PRODUCT INT (3),\n",
    "    REGULAR_PRICE INT (3),\n",
    "    DISCOUNT_PRICE INT (3),\n",
    "    DATE_DOWNLOAD VARCHAR (100),\n",
    "    PRIMARY KEY (ID),\n",
    "    FOREIGN KEY (ID_PRODUCT) REFERENCES PRODUCT (ID)\n",
    "\n",
    ")\n",
    "\n",
    "'''\n",
    "\n",
    "\n",
    "cursor.execute(query)"
   ]
  },
  {
   "attachments": {},
   "cell_type": "markdown",
   "metadata": {},
   "source": [
    "#### COMMENTS"
   ]
  },
  {
   "cell_type": "code",
   "execution_count": 39,
   "metadata": {},
   "outputs": [
    {
     "data": {
      "text/plain": [
       "<sqlite3.Cursor at 0x2b3cd2e5cc0>"
      ]
     },
     "execution_count": 39,
     "metadata": {},
     "output_type": "execute_result"
    }
   ],
   "source": [
    "query = '''\n",
    "CREATE TABLE COMMENT  (\n",
    "    ID_COMMENT INT (5),\n",
    "    ID_PRODUCT INT (3),\n",
    "    DATE VARCHAR (100),\n",
    "    RATIO INT (2),\n",
    "    ID_USERS INT (3),\n",
    "    COMMENT VARCHAR (250), \n",
    "    PRIMARY KEY (ID_COMMENT),\n",
    "    FOREIGN KEY (ID_PRODUCT) REFERENCES PRODUCT (ID),\n",
    "    FOREIGN KEY (ID_USERS) REFERENCES USERS (ID)\n",
    "\n",
    ")\n",
    "\n",
    "'''\n",
    "\n",
    "cursor.execute(query)"
   ]
  },
  {
   "attachments": {},
   "cell_type": "markdown",
   "metadata": {},
   "source": [
    "#### TAGS"
   ]
  },
  {
   "cell_type": "code",
   "execution_count": 40,
   "metadata": {},
   "outputs": [
    {
     "data": {
      "text/plain": [
       "<sqlite3.Cursor at 0x2b3cd2e5cc0>"
      ]
     },
     "execution_count": 40,
     "metadata": {},
     "output_type": "execute_result"
    }
   ],
   "source": [
    "query = '''\n",
    "CREATE TABLE TAGS  (\n",
    "    ID INT (3),\n",
    "    JUGUETES INT(1),\n",
    "    MUEBLES INT(1),\n",
    "    LENCERIA INT(1),\n",
    "    MASCULINO INT(1),\n",
    "    FEMININO INT(1),\n",
    "    ANAL INT(1),\n",
    "    BDSM INT(1),\n",
    "    AMENITIES INT(1),\n",
    "    PRIMARY KEY (ID),\n",
    "    FOREIGN KEY (ID) REFERENCES PRODUCT (ID)\n",
    ")\n",
    "\n",
    "'''\n",
    "\n",
    "# En esta tabla hay que convertir primeramente los booleanos en 0 y 1 para guardarla.\n",
    "# También es importante tener esto en cuenta a la hora de extraer la información.\n",
    "cursor.execute(query)"
   ]
  },
  {
   "cell_type": "markdown",
   "metadata": {},
   "source": [
    "#### USERS"
   ]
  },
  {
   "cell_type": "code",
   "execution_count": 41,
   "metadata": {},
   "outputs": [
    {
     "data": {
      "text/plain": [
       "<sqlite3.Cursor at 0x2b3cd2e5cc0>"
      ]
     },
     "execution_count": 41,
     "metadata": {},
     "output_type": "execute_result"
    }
   ],
   "source": [
    "query = '''\n",
    "CREATE TABLE USERS  (\n",
    "    ID INT (5),\n",
    "    USERS VARCHAR (50),\n",
    "    PRIMARY KEY (ID)\n",
    ")\n",
    "\n",
    "'''\n",
    "\n",
    "cursor.execute(query)"
   ]
  },
  {
   "attachments": {},
   "cell_type": "markdown",
   "metadata": {},
   "source": [
    "### b.- Cargando los datos dentro de la BBDD"
   ]
  },
  {
   "cell_type": "markdown",
   "metadata": {},
   "source": [
    "#### Productos."
   ]
  },
  {
   "cell_type": "code",
   "execution_count": 42,
   "metadata": {},
   "outputs": [
    {
     "name": "stdout",
     "output_type": "stream",
     "text": [
      "Long. dataframe 6\n"
     ]
    },
    {
     "data": {
      "text/html": [
       "<div>\n",
       "<style scoped>\n",
       "    .dataframe tbody tr th:only-of-type {\n",
       "        vertical-align: middle;\n",
       "    }\n",
       "\n",
       "    .dataframe tbody tr th {\n",
       "        vertical-align: top;\n",
       "    }\n",
       "\n",
       "    .dataframe thead th {\n",
       "        text-align: right;\n",
       "    }\n",
       "</style>\n",
       "<table border=\"1\" class=\"dataframe\">\n",
       "  <thead>\n",
       "    <tr style=\"text-align: right;\">\n",
       "      <th></th>\n",
       "      <th>ID</th>\n",
       "      <th>PRODUCT</th>\n",
       "      <th>SLOGAN</th>\n",
       "      <th>DESCRIPTION</th>\n",
       "      <th>CHARACTERISTICS</th>\n",
       "      <th>LISTA_URL</th>\n",
       "    </tr>\n",
       "  </thead>\n",
       "  <tbody>\n",
       "    <tr>\n",
       "      <th>0</th>\n",
       "      <td>0</td>\n",
       "      <td>MASABOOM</td>\n",
       "      <td>El gran masajeador sexual</td>\n",
       "      <td>Este es el juguete para todas, todos y todes. ...</td>\n",
       "      <td>Masajeador con forma de micrófonoMaterial: sil...</td>\n",
       "      <td>https://www.amantis.net/masaboom-el-gran-masaj...</td>\n",
       "    </tr>\n",
       "    <tr>\n",
       "      <th>1</th>\n",
       "      <td>1</td>\n",
       "      <td>MASSAJI</td>\n",
       "      <td>Potente masajeador japonés sumergible de silicona</td>\n",
       "      <td>¿Quieres una velada perfecta tras un largo día...</td>\n",
       "      <td>Masajeador Japonés Massaji Material: Silicona ...</td>\n",
       "      <td>https://www.amantis.net/massaji-potente-masaje...</td>\n",
       "    </tr>\n",
       "    <tr>\n",
       "      <th>2</th>\n",
       "      <td>2</td>\n",
       "      <td>DIGIT PRO</td>\n",
       "      <td>dedal vibrador con sujeción</td>\n",
       "      <td>Los dedos siempre han sido grandes aliados de ...</td>\n",
       "      <td>Dedal vibradorMaterial: silicona de grado médi...</td>\n",
       "      <td>https://www.amantis.net/digit-pro-dedal-vibrad...</td>\n",
       "    </tr>\n",
       "    <tr>\n",
       "      <th>3</th>\n",
       "      <td>3</td>\n",
       "      <td>MINI CARNIVAL</td>\n",
       "      <td>mini_masajeador con cuatro cabezales</td>\n",
       "      <td>¿Conoces a MINI+? Puse hoy es tu día de suerte...</td>\n",
       "      <td>Mini masajeador con cuatro cabezalesCabezales ...</td>\n",
       "      <td>https://www.amantis.net/mini-carnival-mini-mas...</td>\n",
       "    </tr>\n",
       "    <tr>\n",
       "      <th>4</th>\n",
       "      <td>4</td>\n",
       "      <td>LINGÜS</td>\n",
       "      <td>Vibrador para Sexo Oral de amantis</td>\n",
       "      <td>Milenios de sabiduría en el arte del cunniling...</td>\n",
       "      <td>Material: silicona + abs10 modos de vibraciónT...</td>\n",
       "      <td>https://www.amantis.net/lingus-vibrador-sexo-o...</td>\n",
       "    </tr>\n",
       "  </tbody>\n",
       "</table>\n",
       "</div>"
      ],
      "text/plain": [
       "   ID        PRODUCT                                             SLOGAN  \\\n",
       "0   0       MASABOOM                          El gran masajeador sexual   \n",
       "1   1        MASSAJI  Potente masajeador japonés sumergible de silicona   \n",
       "2   2      DIGIT PRO                        dedal vibrador con sujeción   \n",
       "3   3  MINI CARNIVAL               mini_masajeador con cuatro cabezales   \n",
       "4   4         LINGÜS                 Vibrador para Sexo Oral de amantis   \n",
       "\n",
       "                                         DESCRIPTION  \\\n",
       "0  Este es el juguete para todas, todos y todes. ...   \n",
       "1  ¿Quieres una velada perfecta tras un largo día...   \n",
       "2  Los dedos siempre han sido grandes aliados de ...   \n",
       "3  ¿Conoces a MINI+? Puse hoy es tu día de suerte...   \n",
       "4  Milenios de sabiduría en el arte del cunniling...   \n",
       "\n",
       "                                     CHARACTERISTICS  \\\n",
       "0  Masajeador con forma de micrófonoMaterial: sil...   \n",
       "1  Masajeador Japonés Massaji Material: Silicona ...   \n",
       "2  Dedal vibradorMaterial: silicona de grado médi...   \n",
       "3  Mini masajeador con cuatro cabezalesCabezales ...   \n",
       "4  Material: silicona + abs10 modos de vibraciónT...   \n",
       "\n",
       "                                           LISTA_URL  \n",
       "0  https://www.amantis.net/masaboom-el-gran-masaj...  \n",
       "1  https://www.amantis.net/massaji-potente-masaje...  \n",
       "2  https://www.amantis.net/digit-pro-dedal-vibrad...  \n",
       "3  https://www.amantis.net/mini-carnival-mini-mas...  \n",
       "4  https://www.amantis.net/lingus-vibrador-sexo-o...  "
      ]
     },
     "execution_count": 42,
     "metadata": {},
     "output_type": "execute_result"
    }
   ],
   "source": [
    "df_products=pd.read_csv(r'Data\\productos.csv')\n",
    "print(\"Long. dataframe\",len(df_products.columns))\n",
    "df_products.head()"
   ]
  },
  {
   "cell_type": "markdown",
   "metadata": {},
   "source": [
    "#### Precios."
   ]
  },
  {
   "cell_type": "code",
   "execution_count": 43,
   "metadata": {},
   "outputs": [
    {
     "name": "stdout",
     "output_type": "stream",
     "text": [
      "Long. dataframe 5\n"
     ]
    },
    {
     "data": {
      "text/html": [
       "<div>\n",
       "<style scoped>\n",
       "    .dataframe tbody tr th:only-of-type {\n",
       "        vertical-align: middle;\n",
       "    }\n",
       "\n",
       "    .dataframe tbody tr th {\n",
       "        vertical-align: top;\n",
       "    }\n",
       "\n",
       "    .dataframe thead th {\n",
       "        text-align: right;\n",
       "    }\n",
       "</style>\n",
       "<table border=\"1\" class=\"dataframe\">\n",
       "  <thead>\n",
       "    <tr style=\"text-align: right;\">\n",
       "      <th></th>\n",
       "      <th>ID</th>\n",
       "      <th>ID_PRODUCT</th>\n",
       "      <th>REGULAR_PRICE</th>\n",
       "      <th>DISCOUNT_PRICE</th>\n",
       "      <th>FECHA</th>\n",
       "    </tr>\n",
       "  </thead>\n",
       "  <tbody>\n",
       "    <tr>\n",
       "      <th>556</th>\n",
       "      <td>571</td>\n",
       "      <td>571</td>\n",
       "      <td>59.99</td>\n",
       "      <td>49.99</td>\n",
       "      <td>231012</td>\n",
       "    </tr>\n",
       "    <tr>\n",
       "      <th>557</th>\n",
       "      <td>572</td>\n",
       "      <td>572</td>\n",
       "      <td>49.99</td>\n",
       "      <td>29.99</td>\n",
       "      <td>231012</td>\n",
       "    </tr>\n",
       "    <tr>\n",
       "      <th>558</th>\n",
       "      <td>573</td>\n",
       "      <td>573</td>\n",
       "      <td>29.99</td>\n",
       "      <td>18.99</td>\n",
       "      <td>231012</td>\n",
       "    </tr>\n",
       "    <tr>\n",
       "      <th>559</th>\n",
       "      <td>574</td>\n",
       "      <td>574</td>\n",
       "      <td>39.99</td>\n",
       "      <td>19.99</td>\n",
       "      <td>231012</td>\n",
       "    </tr>\n",
       "    <tr>\n",
       "      <th>560</th>\n",
       "      <td>575</td>\n",
       "      <td>575</td>\n",
       "      <td>79.99</td>\n",
       "      <td>27.99</td>\n",
       "      <td>231012</td>\n",
       "    </tr>\n",
       "  </tbody>\n",
       "</table>\n",
       "</div>"
      ],
      "text/plain": [
       "      ID  ID_PRODUCT  REGULAR_PRICE  DISCOUNT_PRICE   FECHA\n",
       "556  571         571          59.99           49.99  231012\n",
       "557  572         572          49.99           29.99  231012\n",
       "558  573         573          29.99           18.99  231012\n",
       "559  574         574          39.99           19.99  231012\n",
       "560  575         575          79.99           27.99  231012"
      ]
     },
     "execution_count": 43,
     "metadata": {},
     "output_type": "execute_result"
    }
   ],
   "source": [
    "df_price=pd.read_csv(r'Data\\precios_231012.csv')\n",
    "print(\"Long. dataframe\",len(df_price.columns))\n",
    "df_price.tail()"
   ]
  },
  {
   "cell_type": "markdown",
   "metadata": {},
   "source": [
    "#### Comentarios."
   ]
  },
  {
   "cell_type": "code",
   "execution_count": 44,
   "metadata": {},
   "outputs": [
    {
     "name": "stdout",
     "output_type": "stream",
     "text": [
      "<class 'pandas.core.frame.DataFrame'>\n",
      "RangeIndex: 10479 entries, 0 to 10478\n",
      "Data columns (total 6 columns):\n",
      " #   Column      Non-Null Count  Dtype \n",
      "---  ------      --------------  ----- \n",
      " 0   ID_COMMENT  10479 non-null  int64 \n",
      " 1   ID_PRODUCT  10479 non-null  int64 \n",
      " 2   DATE        10479 non-null  object\n",
      " 3   RATIO       10479 non-null  int64 \n",
      " 4   ID_USERS    10479 non-null  int64 \n",
      " 5   COMMENT     10479 non-null  object\n",
      "dtypes: int64(4), object(2)\n",
      "memory usage: 491.3+ KB\n"
     ]
    }
   ],
   "source": [
    "df_comments=pd.read_csv(r'Data\\comentarios.csv',index_col=False)\n",
    "# print(\"Long. dataframe\",len(df_comments.columns))\n",
    "df_comments.rename(columns={\"ID\":\"ID_PRODUCT\",\"Unnamed: 0\":\"ID_COMMENT\"},inplace=True)\n",
    "# df_comments.drop(columns=['DAY','MONTH','YEAR'],inplace=True)                     # Aplicar en el caso que no hayamos eliminado las columnas de YEAR, MONTH y DAY\n",
    "# Me falta pasar DATE nuevamente a DATETIME\n",
    "# df_comments['DATE'] = pd.to_datetime(df_comments['DATE'])\n",
    "df_comments.info()"
   ]
  },
  {
   "cell_type": "code",
   "execution_count": 45,
   "metadata": {},
   "outputs": [
    {
     "data": {
      "text/html": [
       "<div>\n",
       "<style scoped>\n",
       "    .dataframe tbody tr th:only-of-type {\n",
       "        vertical-align: middle;\n",
       "    }\n",
       "\n",
       "    .dataframe tbody tr th {\n",
       "        vertical-align: top;\n",
       "    }\n",
       "\n",
       "    .dataframe thead th {\n",
       "        text-align: right;\n",
       "    }\n",
       "</style>\n",
       "<table border=\"1\" class=\"dataframe\">\n",
       "  <thead>\n",
       "    <tr style=\"text-align: right;\">\n",
       "      <th></th>\n",
       "      <th>ID_COMMENT</th>\n",
       "      <th>ID_PRODUCT</th>\n",
       "      <th>DATE</th>\n",
       "      <th>RATIO</th>\n",
       "      <th>ID_USERS</th>\n",
       "      <th>COMMENT</th>\n",
       "    </tr>\n",
       "  </thead>\n",
       "  <tbody>\n",
       "    <tr>\n",
       "      <th>0</th>\n",
       "      <td>0</td>\n",
       "      <td>1</td>\n",
       "      <td>2023-01-25</td>\n",
       "      <td>5</td>\n",
       "      <td>0</td>\n",
       "      <td>Es un vibrador discreto y eficaz. Es uno de mi...</td>\n",
       "    </tr>\n",
       "    <tr>\n",
       "      <th>1</th>\n",
       "      <td>1</td>\n",
       "      <td>1</td>\n",
       "      <td>2023-01-09</td>\n",
       "      <td>5</td>\n",
       "      <td>1</td>\n",
       "      <td>el vibrador de cabecera de mi mujer. Después d...</td>\n",
       "    </tr>\n",
       "    <tr>\n",
       "      <th>2</th>\n",
       "      <td>2</td>\n",
       "      <td>1</td>\n",
       "      <td>2022-12-10</td>\n",
       "      <td>3</td>\n",
       "      <td>2</td>\n",
       "      <td>Tenía uno de otra tienda y compré este porque ...</td>\n",
       "    </tr>\n",
       "    <tr>\n",
       "      <th>3</th>\n",
       "      <td>3</td>\n",
       "      <td>1</td>\n",
       "      <td>2022-10-04</td>\n",
       "      <td>5</td>\n",
       "      <td>3</td>\n",
       "      <td>Es una buena compra. Muy agradable, con difere...</td>\n",
       "    </tr>\n",
       "    <tr>\n",
       "      <th>4</th>\n",
       "      <td>4</td>\n",
       "      <td>1</td>\n",
       "      <td>2022-07-07</td>\n",
       "      <td>5</td>\n",
       "      <td>4</td>\n",
       "      <td>Buen juguete más centrado en los precalentamie...</td>\n",
       "    </tr>\n",
       "  </tbody>\n",
       "</table>\n",
       "</div>"
      ],
      "text/plain": [
       "   ID_COMMENT  ID_PRODUCT        DATE  RATIO  ID_USERS  \\\n",
       "0           0           1  2023-01-25      5         0   \n",
       "1           1           1  2023-01-09      5         1   \n",
       "2           2           1  2022-12-10      3         2   \n",
       "3           3           1  2022-10-04      5         3   \n",
       "4           4           1  2022-07-07      5         4   \n",
       "\n",
       "                                             COMMENT  \n",
       "0  Es un vibrador discreto y eficaz. Es uno de mi...  \n",
       "1  el vibrador de cabecera de mi mujer. Después d...  \n",
       "2  Tenía uno de otra tienda y compré este porque ...  \n",
       "3  Es una buena compra. Muy agradable, con difere...  \n",
       "4  Buen juguete más centrado en los precalentamie...  "
      ]
     },
     "execution_count": 45,
     "metadata": {},
     "output_type": "execute_result"
    }
   ],
   "source": [
    "df_comments.head()"
   ]
  },
  {
   "cell_type": "markdown",
   "metadata": {},
   "source": [
    "#### Usuarios."
   ]
  },
  {
   "cell_type": "code",
   "execution_count": 46,
   "metadata": {},
   "outputs": [
    {
     "name": "stdout",
     "output_type": "stream",
     "text": [
      "Long. dataframe 2\n"
     ]
    },
    {
     "data": {
      "text/html": [
       "<div>\n",
       "<style scoped>\n",
       "    .dataframe tbody tr th:only-of-type {\n",
       "        vertical-align: middle;\n",
       "    }\n",
       "\n",
       "    .dataframe tbody tr th {\n",
       "        vertical-align: top;\n",
       "    }\n",
       "\n",
       "    .dataframe thead th {\n",
       "        text-align: right;\n",
       "    }\n",
       "</style>\n",
       "<table border=\"1\" class=\"dataframe\">\n",
       "  <thead>\n",
       "    <tr style=\"text-align: right;\">\n",
       "      <th></th>\n",
       "      <th>ID_USERS</th>\n",
       "      <th>USERS</th>\n",
       "    </tr>\n",
       "  </thead>\n",
       "  <tbody>\n",
       "    <tr>\n",
       "      <th>0</th>\n",
       "      <td>0</td>\n",
       "      <td>Sara</td>\n",
       "    </tr>\n",
       "    <tr>\n",
       "      <th>1</th>\n",
       "      <td>1</td>\n",
       "      <td>Jesús</td>\n",
       "    </tr>\n",
       "    <tr>\n",
       "      <th>2</th>\n",
       "      <td>2</td>\n",
       "      <td>Sara_2</td>\n",
       "    </tr>\n",
       "    <tr>\n",
       "      <th>3</th>\n",
       "      <td>3</td>\n",
       "      <td>Sara_3</td>\n",
       "    </tr>\n",
       "    <tr>\n",
       "      <th>4</th>\n",
       "      <td>4</td>\n",
       "      <td>Álvaro</td>\n",
       "    </tr>\n",
       "  </tbody>\n",
       "</table>\n",
       "</div>"
      ],
      "text/plain": [
       "   ID_USERS   USERS\n",
       "0         0    Sara\n",
       "1         1   Jesús\n",
       "2         2  Sara_2\n",
       "3         3  Sara_3\n",
       "4         4  Álvaro"
      ]
     },
     "execution_count": 46,
     "metadata": {},
     "output_type": "execute_result"
    }
   ],
   "source": [
    "df_usuarios=pd.read_csv(r'Data\\usuarios.csv')\n",
    "print(\"Long. dataframe\",len(df_usuarios.columns))\n",
    "df_usuarios.head()"
   ]
  },
  {
   "cell_type": "markdown",
   "metadata": {},
   "source": [
    "#### Tags."
   ]
  },
  {
   "cell_type": "code",
   "execution_count": 47,
   "metadata": {},
   "outputs": [
    {
     "name": "stdout",
     "output_type": "stream",
     "text": [
      "Long. dataframe 9\n"
     ]
    },
    {
     "data": {
      "text/html": [
       "<div>\n",
       "<style scoped>\n",
       "    .dataframe tbody tr th:only-of-type {\n",
       "        vertical-align: middle;\n",
       "    }\n",
       "\n",
       "    .dataframe tbody tr th {\n",
       "        vertical-align: top;\n",
       "    }\n",
       "\n",
       "    .dataframe thead th {\n",
       "        text-align: right;\n",
       "    }\n",
       "</style>\n",
       "<table border=\"1\" class=\"dataframe\">\n",
       "  <thead>\n",
       "    <tr style=\"text-align: right;\">\n",
       "      <th></th>\n",
       "      <th>ID</th>\n",
       "      <th>amenities</th>\n",
       "      <th>anal</th>\n",
       "      <th>BDSM</th>\n",
       "      <th>femenino</th>\n",
       "      <th>masculino</th>\n",
       "      <th>juguetes</th>\n",
       "      <th>lenceria</th>\n",
       "      <th>muebles</th>\n",
       "    </tr>\n",
       "  </thead>\n",
       "  <tbody>\n",
       "    <tr>\n",
       "      <th>0</th>\n",
       "      <td>0</td>\n",
       "      <td>True</td>\n",
       "      <td>False</td>\n",
       "      <td>False</td>\n",
       "      <td>True</td>\n",
       "      <td>False</td>\n",
       "      <td>False</td>\n",
       "      <td>False</td>\n",
       "      <td>False</td>\n",
       "    </tr>\n",
       "    <tr>\n",
       "      <th>1</th>\n",
       "      <td>1</td>\n",
       "      <td>True</td>\n",
       "      <td>True</td>\n",
       "      <td>False</td>\n",
       "      <td>False</td>\n",
       "      <td>False</td>\n",
       "      <td>True</td>\n",
       "      <td>False</td>\n",
       "      <td>False</td>\n",
       "    </tr>\n",
       "    <tr>\n",
       "      <th>2</th>\n",
       "      <td>2</td>\n",
       "      <td>False</td>\n",
       "      <td>False</td>\n",
       "      <td>True</td>\n",
       "      <td>True</td>\n",
       "      <td>False</td>\n",
       "      <td>True</td>\n",
       "      <td>False</td>\n",
       "      <td>False</td>\n",
       "    </tr>\n",
       "    <tr>\n",
       "      <th>3</th>\n",
       "      <td>3</td>\n",
       "      <td>True</td>\n",
       "      <td>True</td>\n",
       "      <td>False</td>\n",
       "      <td>False</td>\n",
       "      <td>False</td>\n",
       "      <td>False</td>\n",
       "      <td>False</td>\n",
       "      <td>False</td>\n",
       "    </tr>\n",
       "    <tr>\n",
       "      <th>4</th>\n",
       "      <td>4</td>\n",
       "      <td>False</td>\n",
       "      <td>False</td>\n",
       "      <td>False</td>\n",
       "      <td>False</td>\n",
       "      <td>False</td>\n",
       "      <td>True</td>\n",
       "      <td>False</td>\n",
       "      <td>False</td>\n",
       "    </tr>\n",
       "  </tbody>\n",
       "</table>\n",
       "</div>"
      ],
      "text/plain": [
       "   ID  amenities   anal   BDSM  femenino  masculino  juguetes  lenceria  \\\n",
       "0   0       True  False  False      True      False     False     False   \n",
       "1   1       True   True  False     False      False      True     False   \n",
       "2   2      False  False   True      True      False      True     False   \n",
       "3   3       True   True  False     False      False     False     False   \n",
       "4   4      False  False  False     False      False      True     False   \n",
       "\n",
       "   muebles  \n",
       "0    False  \n",
       "1    False  \n",
       "2    False  \n",
       "3    False  \n",
       "4    False  "
      ]
     },
     "execution_count": 47,
     "metadata": {},
     "output_type": "execute_result"
    }
   ],
   "source": [
    "df_tags=pd.read_csv(r'Data\\tags.csv')\n",
    "df_tags.pop('PRODUCT')\n",
    "print(\"Long. dataframe\",len(df_tags.columns))\n",
    "df_tags.head()"
   ]
  },
  {
   "cell_type": "code",
   "execution_count": 48,
   "metadata": {},
   "outputs": [
    {
     "data": {
      "text/plain": [
       "<sqlite3.Cursor at 0x2b3cd2e5cc0>"
      ]
     },
     "execution_count": 48,
     "metadata": {},
     "output_type": "execute_result"
    }
   ],
   "source": [
    "lista_products= df_products.values.tolist()                                                #   Pasamos a lista el dataframe\n",
    "\n",
    "cursor.executemany(\"INSERT INTO PRODUCT VALUES (?,?,?,?,?,?)\", lista_products)           #   Salvamos directamente todos los datos en la tabla PRODUCTS\n",
    "\n",
    "lista_price= df_price.values.tolist()                                                #   Pasamos a lista el dataframe\n",
    "\n",
    "cursor.executemany(\"INSERT INTO PRICES VALUES (?,?,?,?,?)\", lista_price)           #   Salvamos directamente todos los datos en la tabla PRODUCTS\n",
    "\n",
    "lista_comments= df_comments.values.tolist()                                                #   Pasamos a lista el dataframe\n",
    "\n",
    "cursor.executemany(\"INSERT INTO COMMENT VALUES (?,?,?,?,?,?)\", lista_comments)                 #   Salvamos directamente todos los datos en la tabla COMMENTS\n",
    "\n",
    "lista_usuarios= df_usuarios.values.tolist()                                                #   Pasamos a lista el dataframe\n",
    "\n",
    "cursor.executemany(\"INSERT INTO USERS VALUES (?,?)\", lista_usuarios)           #   Salvamos directamente todos los datos en la tabla PRODUCTSS\n",
    "\n",
    "lista_tags= df_tags.values.tolist()                                                #   Pasamos a lista el dataframe\n",
    "\n",
    "cursor.executemany(\"INSERT INTO TAGS VALUES (?,?,?,?,?,?,?,?,?)\", lista_tags)                 #   Salvamos directamente todos los datos en la tabla COMMENTS"
   ]
  },
  {
   "attachments": {},
   "cell_type": "markdown",
   "metadata": {},
   "source": [
    "### c. Generamos las *views* oportunas para el tratamiento de los datos.  (ESTO LO TENGO QUE MODIFICAR)"
   ]
  },
  {
   "cell_type": "markdown",
   "metadata": {},
   "source": [
    "Utilizaremos este codigo para eliminar view/table en caso necesario"
   ]
  },
  {
   "cell_type": "code",
   "execution_count": 45,
   "metadata": {},
   "outputs": [
    {
     "data": {
      "text/plain": [
       "<sqlite3.Cursor at 0x1726acbf840>"
      ]
     },
     "execution_count": 45,
     "metadata": {},
     "output_type": "execute_result"
    }
   ],
   "source": [
    "# XX='''DROP TABLE COMMENT'''\n",
    "# cursor.execute (XX)"
   ]
  },
  {
   "cell_type": "code",
   "execution_count": 49,
   "metadata": {},
   "outputs": [
    {
     "data": {
      "text/plain": [
       "'Tengo pendiente de crear una view donde enlace a los distintos usuarios con los productos y los comentarios'"
      ]
     },
     "execution_count": 49,
     "metadata": {},
     "output_type": "execute_result"
    }
   ],
   "source": [
    "view_1='''CREATE VIEW COMMENTS_PER_PRODUCT AS \n",
    "SELECT PRODUCT.PRODUCT,COMMENT.DATE,COMMENT.RATIO ,COMMENT.COMMENT \n",
    "FROM COMMENT \n",
    "JOIN PRODUCT ON PRODUCT.ID=COMMENT.ID_PRODUCT'''\n",
    "cursor.execute(view_1)\n",
    "\n",
    "\n",
    "'''Tengo pendiente de crear una view donde enlace a los distintos usuarios con los productos y los comentarios'''"
   ]
  },
  {
   "cell_type": "code",
   "execution_count": null,
   "metadata": {},
   "outputs": [],
   "source": [
    "# view_2='''CREATE VIEW NUMBER_TAGS_PER_PRODUCT \n",
    "# SELECT PRODUCT.PRODUCT, PRODUCT.ID\n",
    "# SUM(CASE WHEN TAGS.JUGUETES = TRUE THEN 1 ELSE 0 END)+\n",
    "# ,COMMENT.RATIO ,COMMENT.COMMENT \n",
    "# FROM COMMENT \n",
    "# JOIN PRODUCT ON PRODUCT.ID=COMMENT.ID_PRODUCT'''\n",
    "# cursor.execute(view_1)\n",
    "\n",
    "\n",
    "#     JUGUETES INT(1),\n",
    "#     MUEBLES INT(1),\n",
    "#     LENCERIA INT(1),\n",
    "#     MASCULINO INT(1),\n",
    "#     FEMININO INT(1),\n",
    "#     ANAL INT(1),\n",
    "#     BDSM INT(1),\n",
    "#     AMENITIES INT(1)"
   ]
  },
  {
   "cell_type": "code",
   "execution_count": 50,
   "metadata": {},
   "outputs": [
    {
     "data": {
      "text/html": [
       "<div>\n",
       "<style scoped>\n",
       "    .dataframe tbody tr th:only-of-type {\n",
       "        vertical-align: middle;\n",
       "    }\n",
       "\n",
       "    .dataframe tbody tr th {\n",
       "        vertical-align: top;\n",
       "    }\n",
       "\n",
       "    .dataframe thead th {\n",
       "        text-align: right;\n",
       "    }\n",
       "</style>\n",
       "<table border=\"1\" class=\"dataframe\">\n",
       "  <thead>\n",
       "    <tr style=\"text-align: right;\">\n",
       "      <th></th>\n",
       "      <th>PRODUCT</th>\n",
       "      <th>DATE</th>\n",
       "      <th>RATIO</th>\n",
       "      <th>COMMENT</th>\n",
       "    </tr>\n",
       "  </thead>\n",
       "  <tbody>\n",
       "    <tr>\n",
       "      <th>0</th>\n",
       "      <td>MASSAJI</td>\n",
       "      <td>2023-01-25</td>\n",
       "      <td>5</td>\n",
       "      <td>Es un vibrador discreto y eficaz. Es uno de mi...</td>\n",
       "    </tr>\n",
       "    <tr>\n",
       "      <th>1</th>\n",
       "      <td>MASSAJI</td>\n",
       "      <td>2023-01-09</td>\n",
       "      <td>5</td>\n",
       "      <td>el vibrador de cabecera de mi mujer. Después d...</td>\n",
       "    </tr>\n",
       "    <tr>\n",
       "      <th>2</th>\n",
       "      <td>MASSAJI</td>\n",
       "      <td>2022-12-10</td>\n",
       "      <td>3</td>\n",
       "      <td>Tenía uno de otra tienda y compré este porque ...</td>\n",
       "    </tr>\n",
       "    <tr>\n",
       "      <th>3</th>\n",
       "      <td>MASSAJI</td>\n",
       "      <td>2022-10-04</td>\n",
       "      <td>5</td>\n",
       "      <td>Es una buena compra. Muy agradable, con difere...</td>\n",
       "    </tr>\n",
       "    <tr>\n",
       "      <th>4</th>\n",
       "      <td>MASSAJI</td>\n",
       "      <td>2022-07-07</td>\n",
       "      <td>5</td>\n",
       "      <td>Buen juguete más centrado en los precalentamie...</td>\n",
       "    </tr>\n",
       "    <tr>\n",
       "      <th>5</th>\n",
       "      <td>MASSAJI</td>\n",
       "      <td>2022-06-24</td>\n",
       "      <td>5</td>\n",
       "      <td>Mi juguete de cabecera. Siempre a mano en mi m...</td>\n",
       "    </tr>\n",
       "    <tr>\n",
       "      <th>6</th>\n",
       "      <td>MASSAJI</td>\n",
       "      <td>2022-05-05</td>\n",
       "      <td>5</td>\n",
       "      <td>Es genial! Llevaba tiempo con ganas de algo as...</td>\n",
       "    </tr>\n",
       "    <tr>\n",
       "      <th>7</th>\n",
       "      <td>MASSAJI</td>\n",
       "      <td>2022-01-12</td>\n",
       "      <td>5</td>\n",
       "      <td>¡Una maravilla! Como estimulación externa pued...</td>\n",
       "    </tr>\n",
       "    <tr>\n",
       "      <th>8</th>\n",
       "      <td>MASSAJI</td>\n",
       "      <td>2022-01-03</td>\n",
       "      <td>5</td>\n",
       "      <td>Conocí este juguete gracias a las recomendacio...</td>\n",
       "    </tr>\n",
       "    <tr>\n",
       "      <th>9</th>\n",
       "      <td>MASSAJI</td>\n",
       "      <td>2021-08-25</td>\n",
       "      <td>5</td>\n",
       "      <td>Fabuloso. rnPotente pero no molesto.rnMás pequ...</td>\n",
       "    </tr>\n",
       "  </tbody>\n",
       "</table>\n",
       "</div>"
      ],
      "text/plain": [
       "   PRODUCT        DATE  RATIO  \\\n",
       "0  MASSAJI  2023-01-25      5   \n",
       "1  MASSAJI  2023-01-09      5   \n",
       "2  MASSAJI  2022-12-10      3   \n",
       "3  MASSAJI  2022-10-04      5   \n",
       "4  MASSAJI  2022-07-07      5   \n",
       "5  MASSAJI  2022-06-24      5   \n",
       "6  MASSAJI  2022-05-05      5   \n",
       "7  MASSAJI  2022-01-12      5   \n",
       "8  MASSAJI  2022-01-03      5   \n",
       "9  MASSAJI  2021-08-25      5   \n",
       "\n",
       "                                             COMMENT  \n",
       "0  Es un vibrador discreto y eficaz. Es uno de mi...  \n",
       "1  el vibrador de cabecera de mi mujer. Después d...  \n",
       "2  Tenía uno de otra tienda y compré este porque ...  \n",
       "3  Es una buena compra. Muy agradable, con difere...  \n",
       "4  Buen juguete más centrado en los precalentamie...  \n",
       "5  Mi juguete de cabecera. Siempre a mano en mi m...  \n",
       "6  Es genial! Llevaba tiempo con ganas de algo as...  \n",
       "7  ¡Una maravilla! Como estimulación externa pued...  \n",
       "8  Conocí este juguete gracias a las recomendacio...  \n",
       "9  Fabuloso. rnPotente pero no molesto.rnMás pequ...  "
      ]
     },
     "execution_count": 50,
     "metadata": {},
     "output_type": "execute_result"
    }
   ],
   "source": [
    "query='''SELECT * FROM COMMENTS_PER_PRODUCT LIMIT (10)'''\n",
    "f.sql_query(query,cursor)"
   ]
  },
  {
   "cell_type": "code",
   "execution_count": 28,
   "metadata": {},
   "outputs": [],
   "source": [
    "# conn.commit()\n",
    "# cursor.close()\n",
    "# conn.close()"
   ]
  },
  {
   "attachments": {},
   "cell_type": "markdown",
   "metadata": {},
   "source": [
    "## 2. Realizando consultas para visualizar datos."
   ]
  },
  {
   "attachments": {},
   "cell_type": "markdown",
   "metadata": {},
   "source": [
    "Vamos a verificar los datos cargados visualizando los 10 primeros registros en cada TABLA"
   ]
  },
  {
   "cell_type": "code",
   "execution_count": 5,
   "metadata": {},
   "outputs": [
    {
     "data": {
      "text/html": [
       "<div>\n",
       "<style scoped>\n",
       "    .dataframe tbody tr th:only-of-type {\n",
       "        vertical-align: middle;\n",
       "    }\n",
       "\n",
       "    .dataframe tbody tr th {\n",
       "        vertical-align: top;\n",
       "    }\n",
       "\n",
       "    .dataframe thead th {\n",
       "        text-align: right;\n",
       "    }\n",
       "</style>\n",
       "<table border=\"1\" class=\"dataframe\">\n",
       "  <thead>\n",
       "    <tr style=\"text-align: right;\">\n",
       "      <th></th>\n",
       "      <th>ID</th>\n",
       "      <th>PRODUCT</th>\n",
       "      <th>SLOGAN</th>\n",
       "      <th>DESCRIPTION</th>\n",
       "      <th>CHARACTERISTICS</th>\n",
       "      <th>URL</th>\n",
       "    </tr>\n",
       "  </thead>\n",
       "  <tbody>\n",
       "    <tr>\n",
       "      <th>0</th>\n",
       "      <td>0</td>\n",
       "      <td>MASABOOM</td>\n",
       "      <td>El gran masajeador sexual</td>\n",
       "      <td>Este es el juguete para todas, todos y todes. ...</td>\n",
       "      <td>Masajeador con forma de micrófonoMaterial: sil...</td>\n",
       "      <td>https://www.amantis.net/masaboom-el-gran-masaj...</td>\n",
       "    </tr>\n",
       "    <tr>\n",
       "      <th>1</th>\n",
       "      <td>1</td>\n",
       "      <td>MASSAJI</td>\n",
       "      <td>Potente masajeador japonés sumergible de silicona</td>\n",
       "      <td>¿Quieres una velada perfecta tras un largo día...</td>\n",
       "      <td>Masajeador Japonés Massaji Material: Silicona ...</td>\n",
       "      <td>https://www.amantis.net/massaji-potente-masaje...</td>\n",
       "    </tr>\n",
       "    <tr>\n",
       "      <th>2</th>\n",
       "      <td>2</td>\n",
       "      <td>DIGIT PRO</td>\n",
       "      <td>dedal vibrador con sujeción</td>\n",
       "      <td>Los dedos siempre han sido grandes aliados de ...</td>\n",
       "      <td>Dedal vibradorMaterial: silicona de grado médi...</td>\n",
       "      <td>https://www.amantis.net/digit-pro-dedal-vibrad...</td>\n",
       "    </tr>\n",
       "    <tr>\n",
       "      <th>3</th>\n",
       "      <td>3</td>\n",
       "      <td>MINI CARNIVAL</td>\n",
       "      <td>mini_masajeador con cuatro cabezales</td>\n",
       "      <td>¿Conoces a MINI+? Puse hoy es tu día de suerte...</td>\n",
       "      <td>Mini masajeador con cuatro cabezalesCabezales ...</td>\n",
       "      <td>https://www.amantis.net/mini-carnival-mini-mas...</td>\n",
       "    </tr>\n",
       "    <tr>\n",
       "      <th>4</th>\n",
       "      <td>4</td>\n",
       "      <td>LINGÜS</td>\n",
       "      <td>Vibrador para Sexo Oral de amantis</td>\n",
       "      <td>Milenios de sabiduría en el arte del cunniling...</td>\n",
       "      <td>Material: silicona + abs10 modos de vibraciónT...</td>\n",
       "      <td>https://www.amantis.net/lingus-vibrador-sexo-o...</td>\n",
       "    </tr>\n",
       "    <tr>\n",
       "      <th>5</th>\n",
       "      <td>5</td>\n",
       "      <td>MASAJE SEXY con 8 programas</td>\n",
       "      <td>potente masaje mágico de 220v</td>\n",
       "      <td>Probablemente el masajeador más potente que pu...</td>\n",
       "      <td>• Incluye cable extra largo de 3.5 metros  ...</td>\n",
       "      <td>https://www.amantis.net/masaje-sexy-8-programa...</td>\n",
       "    </tr>\n",
       "    <tr>\n",
       "      <th>6</th>\n",
       "      <td>6</td>\n",
       "      <td>MINI+ de amantis</td>\n",
       "      <td>minimasajeador sumergible con 5 cabezales</td>\n",
       "      <td>Por fin el clásico mini masajeador que ha dado...</td>\n",
       "      <td>•  Longitud 10 cm, 2.5cm diámetro de contac...</td>\n",
       "      <td>https://www.amantis.net/mini-amantis-minimasaj...</td>\n",
       "    </tr>\n",
       "    <tr>\n",
       "      <th>7</th>\n",
       "      <td>7</td>\n",
       "      <td>MINI MASSAJI</td>\n",
       "      <td>masajeador corporal portátil super potente</td>\n",
       "      <td>Está clarísimo que el masaje por vibración apo...</td>\n",
       "      <td>Medidas: 11cm de largo y 4 cm de ancho.Materia...</td>\n",
       "      <td>https://www.amantis.net/mini-massaji-masajeado...</td>\n",
       "    </tr>\n",
       "    <tr>\n",
       "      <th>8</th>\n",
       "      <td>8</td>\n",
       "      <td>PURE WAND</td>\n",
       "      <td>Sofisticada varita vibradora de metal dorada</td>\n",
       "      <td>Antes muertas que sencillas, antes muertas que...</td>\n",
       "      <td>Varita  Metálica vibradora1,85 cm de diámetro,...</td>\n",
       "      <td>https://www.amantis.net/pure-wand-varita-vibra...</td>\n",
       "    </tr>\n",
       "    <tr>\n",
       "      <th>9</th>\n",
       "      <td>9</td>\n",
       "      <td>MAX WAND el masajeador sexual más grande y pod...</td>\n",
       "      <td>None</td>\n",
       "      <td>Que te duela algo ya no es excusa para no tene...</td>\n",
       "      <td>Masajeador de silicona médica y ABS libre de f...</td>\n",
       "      <td>https://www.amantis.net/max-wand-el-masajeador...</td>\n",
       "    </tr>\n",
       "  </tbody>\n",
       "</table>\n",
       "</div>"
      ],
      "text/plain": [
       "   ID                                            PRODUCT  \\\n",
       "0   0                                           MASABOOM   \n",
       "1   1                                            MASSAJI   \n",
       "2   2                                          DIGIT PRO   \n",
       "3   3                                      MINI CARNIVAL   \n",
       "4   4                                             LINGÜS   \n",
       "5   5                        MASAJE SEXY con 8 programas   \n",
       "6   6                                   MINI+ de amantis   \n",
       "7   7                                       MINI MASSAJI   \n",
       "8   8                                          PURE WAND   \n",
       "9   9  MAX WAND el masajeador sexual más grande y pod...   \n",
       "\n",
       "                                              SLOGAN  \\\n",
       "0                          El gran masajeador sexual   \n",
       "1  Potente masajeador japonés sumergible de silicona   \n",
       "2                        dedal vibrador con sujeción   \n",
       "3               mini_masajeador con cuatro cabezales   \n",
       "4                 Vibrador para Sexo Oral de amantis   \n",
       "5                      potente masaje mágico de 220v   \n",
       "6          minimasajeador sumergible con 5 cabezales   \n",
       "7         masajeador corporal portátil super potente   \n",
       "8       Sofisticada varita vibradora de metal dorada   \n",
       "9                                               None   \n",
       "\n",
       "                                         DESCRIPTION  \\\n",
       "0  Este es el juguete para todas, todos y todes. ...   \n",
       "1  ¿Quieres una velada perfecta tras un largo día...   \n",
       "2  Los dedos siempre han sido grandes aliados de ...   \n",
       "3  ¿Conoces a MINI+? Puse hoy es tu día de suerte...   \n",
       "4  Milenios de sabiduría en el arte del cunniling...   \n",
       "5  Probablemente el masajeador más potente que pu...   \n",
       "6  Por fin el clásico mini masajeador que ha dado...   \n",
       "7  Está clarísimo que el masaje por vibración apo...   \n",
       "8  Antes muertas que sencillas, antes muertas que...   \n",
       "9  Que te duela algo ya no es excusa para no tene...   \n",
       "\n",
       "                                     CHARACTERISTICS  \\\n",
       "0  Masajeador con forma de micrófonoMaterial: sil...   \n",
       "1  Masajeador Japonés Massaji Material: Silicona ...   \n",
       "2  Dedal vibradorMaterial: silicona de grado médi...   \n",
       "3  Mini masajeador con cuatro cabezalesCabezales ...   \n",
       "4  Material: silicona + abs10 modos de vibraciónT...   \n",
       "5     • Incluye cable extra largo de 3.5 metros  ...   \n",
       "6     •  Longitud 10 cm, 2.5cm diámetro de contac...   \n",
       "7  Medidas: 11cm de largo y 4 cm de ancho.Materia...   \n",
       "8  Varita  Metálica vibradora1,85 cm de diámetro,...   \n",
       "9  Masajeador de silicona médica y ABS libre de f...   \n",
       "\n",
       "                                                 URL  \n",
       "0  https://www.amantis.net/masaboom-el-gran-masaj...  \n",
       "1  https://www.amantis.net/massaji-potente-masaje...  \n",
       "2  https://www.amantis.net/digit-pro-dedal-vibrad...  \n",
       "3  https://www.amantis.net/mini-carnival-mini-mas...  \n",
       "4  https://www.amantis.net/lingus-vibrador-sexo-o...  \n",
       "5  https://www.amantis.net/masaje-sexy-8-programa...  \n",
       "6  https://www.amantis.net/mini-amantis-minimasaj...  \n",
       "7  https://www.amantis.net/mini-massaji-masajeado...  \n",
       "8  https://www.amantis.net/pure-wand-varita-vibra...  \n",
       "9  https://www.amantis.net/max-wand-el-masajeador...  "
      ]
     },
     "execution_count": 5,
     "metadata": {},
     "output_type": "execute_result"
    }
   ],
   "source": [
    "query='''SELECT * FROM PRODUCT LIMIT (10)'''\n",
    "f.sql_query(query,cursor)"
   ]
  },
  {
   "cell_type": "code",
   "execution_count": 3,
   "metadata": {},
   "outputs": [
    {
     "data": {
      "text/html": [
       "<div>\n",
       "<style scoped>\n",
       "    .dataframe tbody tr th:only-of-type {\n",
       "        vertical-align: middle;\n",
       "    }\n",
       "\n",
       "    .dataframe tbody tr th {\n",
       "        vertical-align: top;\n",
       "    }\n",
       "\n",
       "    .dataframe thead th {\n",
       "        text-align: right;\n",
       "    }\n",
       "</style>\n",
       "<table border=\"1\" class=\"dataframe\">\n",
       "  <thead>\n",
       "    <tr style=\"text-align: right;\">\n",
       "      <th></th>\n",
       "      <th>ID_COMMENT</th>\n",
       "      <th>ID_PRODUCT</th>\n",
       "      <th>DATE</th>\n",
       "      <th>RATIO</th>\n",
       "      <th>ID_USERS</th>\n",
       "      <th>COMMENT</th>\n",
       "    </tr>\n",
       "  </thead>\n",
       "  <tbody>\n",
       "    <tr>\n",
       "      <th>0</th>\n",
       "      <td>0</td>\n",
       "      <td>1</td>\n",
       "      <td>2023-01-25</td>\n",
       "      <td>5</td>\n",
       "      <td>0</td>\n",
       "      <td>Es un vibrador discreto y eficaz. Es uno de mi...</td>\n",
       "    </tr>\n",
       "    <tr>\n",
       "      <th>1</th>\n",
       "      <td>1</td>\n",
       "      <td>1</td>\n",
       "      <td>2023-01-09</td>\n",
       "      <td>5</td>\n",
       "      <td>1</td>\n",
       "      <td>el vibrador de cabecera de mi mujer. Después d...</td>\n",
       "    </tr>\n",
       "    <tr>\n",
       "      <th>2</th>\n",
       "      <td>2</td>\n",
       "      <td>1</td>\n",
       "      <td>2022-12-10</td>\n",
       "      <td>3</td>\n",
       "      <td>2</td>\n",
       "      <td>Tenía uno de otra tienda y compré este porque ...</td>\n",
       "    </tr>\n",
       "    <tr>\n",
       "      <th>3</th>\n",
       "      <td>3</td>\n",
       "      <td>1</td>\n",
       "      <td>2022-10-04</td>\n",
       "      <td>5</td>\n",
       "      <td>3</td>\n",
       "      <td>Es una buena compra. Muy agradable, con difere...</td>\n",
       "    </tr>\n",
       "    <tr>\n",
       "      <th>4</th>\n",
       "      <td>4</td>\n",
       "      <td>1</td>\n",
       "      <td>2022-07-07</td>\n",
       "      <td>5</td>\n",
       "      <td>4</td>\n",
       "      <td>Buen juguete más centrado en los precalentamie...</td>\n",
       "    </tr>\n",
       "    <tr>\n",
       "      <th>5</th>\n",
       "      <td>5</td>\n",
       "      <td>1</td>\n",
       "      <td>2022-06-24</td>\n",
       "      <td>5</td>\n",
       "      <td>5</td>\n",
       "      <td>Mi juguete de cabecera. Siempre a mano en mi m...</td>\n",
       "    </tr>\n",
       "    <tr>\n",
       "      <th>6</th>\n",
       "      <td>6</td>\n",
       "      <td>1</td>\n",
       "      <td>2022-05-05</td>\n",
       "      <td>5</td>\n",
       "      <td>6</td>\n",
       "      <td>Es genial! Llevaba tiempo con ganas de algo as...</td>\n",
       "    </tr>\n",
       "    <tr>\n",
       "      <th>7</th>\n",
       "      <td>7</td>\n",
       "      <td>1</td>\n",
       "      <td>2022-01-12</td>\n",
       "      <td>5</td>\n",
       "      <td>7</td>\n",
       "      <td>¡Una maravilla! Como estimulación externa pued...</td>\n",
       "    </tr>\n",
       "    <tr>\n",
       "      <th>8</th>\n",
       "      <td>8</td>\n",
       "      <td>1</td>\n",
       "      <td>2022-01-03</td>\n",
       "      <td>5</td>\n",
       "      <td>8</td>\n",
       "      <td>Conocí este juguete gracias a las recomendacio...</td>\n",
       "    </tr>\n",
       "    <tr>\n",
       "      <th>9</th>\n",
       "      <td>9</td>\n",
       "      <td>1</td>\n",
       "      <td>2021-08-25</td>\n",
       "      <td>5</td>\n",
       "      <td>9</td>\n",
       "      <td>Fabuloso. rnPotente pero no molesto.rnMás pequ...</td>\n",
       "    </tr>\n",
       "  </tbody>\n",
       "</table>\n",
       "</div>"
      ],
      "text/plain": [
       "   ID_COMMENT  ID_PRODUCT        DATE  RATIO  ID_USERS  \\\n",
       "0           0           1  2023-01-25      5         0   \n",
       "1           1           1  2023-01-09      5         1   \n",
       "2           2           1  2022-12-10      3         2   \n",
       "3           3           1  2022-10-04      5         3   \n",
       "4           4           1  2022-07-07      5         4   \n",
       "5           5           1  2022-06-24      5         5   \n",
       "6           6           1  2022-05-05      5         6   \n",
       "7           7           1  2022-01-12      5         7   \n",
       "8           8           1  2022-01-03      5         8   \n",
       "9           9           1  2021-08-25      5         9   \n",
       "\n",
       "                                             COMMENT  \n",
       "0  Es un vibrador discreto y eficaz. Es uno de mi...  \n",
       "1  el vibrador de cabecera de mi mujer. Después d...  \n",
       "2  Tenía uno de otra tienda y compré este porque ...  \n",
       "3  Es una buena compra. Muy agradable, con difere...  \n",
       "4  Buen juguete más centrado en los precalentamie...  \n",
       "5  Mi juguete de cabecera. Siempre a mano en mi m...  \n",
       "6  Es genial! Llevaba tiempo con ganas de algo as...  \n",
       "7  ¡Una maravilla! Como estimulación externa pued...  \n",
       "8  Conocí este juguete gracias a las recomendacio...  \n",
       "9  Fabuloso. rnPotente pero no molesto.rnMás pequ...  "
      ]
     },
     "execution_count": 3,
     "metadata": {},
     "output_type": "execute_result"
    }
   ],
   "source": [
    "query='''SELECT * FROM COMMENT LIMIT (10)'''\n",
    "f.sql_query(query,cursor)"
   ]
  },
  {
   "cell_type": "code",
   "execution_count": 5,
   "metadata": {},
   "outputs": [
    {
     "data": {
      "text/html": [
       "<div>\n",
       "<style scoped>\n",
       "    .dataframe tbody tr th:only-of-type {\n",
       "        vertical-align: middle;\n",
       "    }\n",
       "\n",
       "    .dataframe tbody tr th {\n",
       "        vertical-align: top;\n",
       "    }\n",
       "\n",
       "    .dataframe thead th {\n",
       "        text-align: right;\n",
       "    }\n",
       "</style>\n",
       "<table border=\"1\" class=\"dataframe\">\n",
       "  <thead>\n",
       "    <tr style=\"text-align: right;\">\n",
       "      <th></th>\n",
       "      <th>ID</th>\n",
       "      <th>JUGUETES</th>\n",
       "      <th>MUEBLES</th>\n",
       "      <th>LENCERIA</th>\n",
       "      <th>MASCULINO</th>\n",
       "      <th>FEMININO</th>\n",
       "      <th>ANAL</th>\n",
       "      <th>BDSM</th>\n",
       "      <th>AMENITIES</th>\n",
       "    </tr>\n",
       "  </thead>\n",
       "  <tbody>\n",
       "    <tr>\n",
       "      <th>0</th>\n",
       "      <td>0</td>\n",
       "      <td>1</td>\n",
       "      <td>0</td>\n",
       "      <td>0</td>\n",
       "      <td>1</td>\n",
       "      <td>0</td>\n",
       "      <td>0</td>\n",
       "      <td>0</td>\n",
       "      <td>0</td>\n",
       "    </tr>\n",
       "    <tr>\n",
       "      <th>1</th>\n",
       "      <td>1</td>\n",
       "      <td>1</td>\n",
       "      <td>1</td>\n",
       "      <td>0</td>\n",
       "      <td>0</td>\n",
       "      <td>0</td>\n",
       "      <td>1</td>\n",
       "      <td>0</td>\n",
       "      <td>0</td>\n",
       "    </tr>\n",
       "    <tr>\n",
       "      <th>2</th>\n",
       "      <td>2</td>\n",
       "      <td>0</td>\n",
       "      <td>0</td>\n",
       "      <td>1</td>\n",
       "      <td>1</td>\n",
       "      <td>0</td>\n",
       "      <td>1</td>\n",
       "      <td>0</td>\n",
       "      <td>0</td>\n",
       "    </tr>\n",
       "    <tr>\n",
       "      <th>3</th>\n",
       "      <td>3</td>\n",
       "      <td>1</td>\n",
       "      <td>1</td>\n",
       "      <td>0</td>\n",
       "      <td>0</td>\n",
       "      <td>0</td>\n",
       "      <td>0</td>\n",
       "      <td>0</td>\n",
       "      <td>0</td>\n",
       "    </tr>\n",
       "    <tr>\n",
       "      <th>4</th>\n",
       "      <td>4</td>\n",
       "      <td>0</td>\n",
       "      <td>0</td>\n",
       "      <td>0</td>\n",
       "      <td>0</td>\n",
       "      <td>0</td>\n",
       "      <td>1</td>\n",
       "      <td>0</td>\n",
       "      <td>0</td>\n",
       "    </tr>\n",
       "    <tr>\n",
       "      <th>5</th>\n",
       "      <td>5</td>\n",
       "      <td>0</td>\n",
       "      <td>0</td>\n",
       "      <td>0</td>\n",
       "      <td>0</td>\n",
       "      <td>0</td>\n",
       "      <td>1</td>\n",
       "      <td>0</td>\n",
       "      <td>0</td>\n",
       "    </tr>\n",
       "    <tr>\n",
       "      <th>6</th>\n",
       "      <td>6</td>\n",
       "      <td>0</td>\n",
       "      <td>0</td>\n",
       "      <td>0</td>\n",
       "      <td>1</td>\n",
       "      <td>0</td>\n",
       "      <td>1</td>\n",
       "      <td>0</td>\n",
       "      <td>0</td>\n",
       "    </tr>\n",
       "    <tr>\n",
       "      <th>7</th>\n",
       "      <td>7</td>\n",
       "      <td>1</td>\n",
       "      <td>1</td>\n",
       "      <td>1</td>\n",
       "      <td>1</td>\n",
       "      <td>0</td>\n",
       "      <td>1</td>\n",
       "      <td>0</td>\n",
       "      <td>0</td>\n",
       "    </tr>\n",
       "    <tr>\n",
       "      <th>8</th>\n",
       "      <td>8</td>\n",
       "      <td>0</td>\n",
       "      <td>0</td>\n",
       "      <td>1</td>\n",
       "      <td>0</td>\n",
       "      <td>0</td>\n",
       "      <td>0</td>\n",
       "      <td>0</td>\n",
       "      <td>0</td>\n",
       "    </tr>\n",
       "    <tr>\n",
       "      <th>9</th>\n",
       "      <td>9</td>\n",
       "      <td>0</td>\n",
       "      <td>1</td>\n",
       "      <td>0</td>\n",
       "      <td>0</td>\n",
       "      <td>0</td>\n",
       "      <td>0</td>\n",
       "      <td>0</td>\n",
       "      <td>0</td>\n",
       "    </tr>\n",
       "  </tbody>\n",
       "</table>\n",
       "</div>"
      ],
      "text/plain": [
       "   ID  JUGUETES  MUEBLES  LENCERIA  MASCULINO  FEMININO  ANAL  BDSM  AMENITIES\n",
       "0   0         1        0         0          1         0     0     0          0\n",
       "1   1         1        1         0          0         0     1     0          0\n",
       "2   2         0        0         1          1         0     1     0          0\n",
       "3   3         1        1         0          0         0     0     0          0\n",
       "4   4         0        0         0          0         0     1     0          0\n",
       "5   5         0        0         0          0         0     1     0          0\n",
       "6   6         0        0         0          1         0     1     0          0\n",
       "7   7         1        1         1          1         0     1     0          0\n",
       "8   8         0        0         1          0         0     0     0          0\n",
       "9   9         0        1         0          0         0     0     0          0"
      ]
     },
     "execution_count": 5,
     "metadata": {},
     "output_type": "execute_result"
    }
   ],
   "source": [
    "query='''SELECT * FROM TAGS LIMIT (10)'''\n",
    "f.sql_query(query,cursor)"
   ]
  },
  {
   "cell_type": "code",
   "execution_count": 6,
   "metadata": {},
   "outputs": [
    {
     "data": {
      "text/html": [
       "<div>\n",
       "<style scoped>\n",
       "    .dataframe tbody tr th:only-of-type {\n",
       "        vertical-align: middle;\n",
       "    }\n",
       "\n",
       "    .dataframe tbody tr th {\n",
       "        vertical-align: top;\n",
       "    }\n",
       "\n",
       "    .dataframe thead th {\n",
       "        text-align: right;\n",
       "    }\n",
       "</style>\n",
       "<table border=\"1\" class=\"dataframe\">\n",
       "  <thead>\n",
       "    <tr style=\"text-align: right;\">\n",
       "      <th></th>\n",
       "      <th>PRODUCT</th>\n",
       "      <th>DATE</th>\n",
       "      <th>RATIO</th>\n",
       "      <th>COMMENT</th>\n",
       "    </tr>\n",
       "  </thead>\n",
       "  <tbody>\n",
       "    <tr>\n",
       "      <th>0</th>\n",
       "      <td>MASSAJI</td>\n",
       "      <td>2023-01-25</td>\n",
       "      <td>5</td>\n",
       "      <td>Es un vibrador discreto y eficaz. Es uno de mi...</td>\n",
       "    </tr>\n",
       "    <tr>\n",
       "      <th>1</th>\n",
       "      <td>MASSAJI</td>\n",
       "      <td>2023-01-09</td>\n",
       "      <td>5</td>\n",
       "      <td>el vibrador de cabecera de mi mujer. Después d...</td>\n",
       "    </tr>\n",
       "    <tr>\n",
       "      <th>2</th>\n",
       "      <td>MASSAJI</td>\n",
       "      <td>2022-12-10</td>\n",
       "      <td>3</td>\n",
       "      <td>Tenía uno de otra tienda y compré este porque ...</td>\n",
       "    </tr>\n",
       "    <tr>\n",
       "      <th>3</th>\n",
       "      <td>MASSAJI</td>\n",
       "      <td>2022-10-04</td>\n",
       "      <td>5</td>\n",
       "      <td>Es una buena compra. Muy agradable, con difere...</td>\n",
       "    </tr>\n",
       "    <tr>\n",
       "      <th>4</th>\n",
       "      <td>MASSAJI</td>\n",
       "      <td>2022-07-07</td>\n",
       "      <td>5</td>\n",
       "      <td>Buen juguete más centrado en los precalentamie...</td>\n",
       "    </tr>\n",
       "    <tr>\n",
       "      <th>5</th>\n",
       "      <td>MASSAJI</td>\n",
       "      <td>2022-06-24</td>\n",
       "      <td>5</td>\n",
       "      <td>Mi juguete de cabecera. Siempre a mano en mi m...</td>\n",
       "    </tr>\n",
       "    <tr>\n",
       "      <th>6</th>\n",
       "      <td>MASSAJI</td>\n",
       "      <td>2022-05-05</td>\n",
       "      <td>5</td>\n",
       "      <td>Es genial! Llevaba tiempo con ganas de algo as...</td>\n",
       "    </tr>\n",
       "    <tr>\n",
       "      <th>7</th>\n",
       "      <td>MASSAJI</td>\n",
       "      <td>2022-01-12</td>\n",
       "      <td>5</td>\n",
       "      <td>¡Una maravilla! Como estimulación externa pued...</td>\n",
       "    </tr>\n",
       "    <tr>\n",
       "      <th>8</th>\n",
       "      <td>MASSAJI</td>\n",
       "      <td>2022-01-03</td>\n",
       "      <td>5</td>\n",
       "      <td>Conocí este juguete gracias a las recomendacio...</td>\n",
       "    </tr>\n",
       "    <tr>\n",
       "      <th>9</th>\n",
       "      <td>MASSAJI</td>\n",
       "      <td>2021-08-25</td>\n",
       "      <td>5</td>\n",
       "      <td>Fabuloso. rnPotente pero no molesto.rnMás pequ...</td>\n",
       "    </tr>\n",
       "  </tbody>\n",
       "</table>\n",
       "</div>"
      ],
      "text/plain": [
       "   PRODUCT        DATE  RATIO  \\\n",
       "0  MASSAJI  2023-01-25      5   \n",
       "1  MASSAJI  2023-01-09      5   \n",
       "2  MASSAJI  2022-12-10      3   \n",
       "3  MASSAJI  2022-10-04      5   \n",
       "4  MASSAJI  2022-07-07      5   \n",
       "5  MASSAJI  2022-06-24      5   \n",
       "6  MASSAJI  2022-05-05      5   \n",
       "7  MASSAJI  2022-01-12      5   \n",
       "8  MASSAJI  2022-01-03      5   \n",
       "9  MASSAJI  2021-08-25      5   \n",
       "\n",
       "                                             COMMENT  \n",
       "0  Es un vibrador discreto y eficaz. Es uno de mi...  \n",
       "1  el vibrador de cabecera de mi mujer. Después d...  \n",
       "2  Tenía uno de otra tienda y compré este porque ...  \n",
       "3  Es una buena compra. Muy agradable, con difere...  \n",
       "4  Buen juguete más centrado en los precalentamie...  \n",
       "5  Mi juguete de cabecera. Siempre a mano en mi m...  \n",
       "6  Es genial! Llevaba tiempo con ganas de algo as...  \n",
       "7  ¡Una maravilla! Como estimulación externa pued...  \n",
       "8  Conocí este juguete gracias a las recomendacio...  \n",
       "9  Fabuloso. rnPotente pero no molesto.rnMás pequ...  "
      ]
     },
     "execution_count": 6,
     "metadata": {},
     "output_type": "execute_result"
    }
   ],
   "source": [
    "query='''SELECT * FROM COMMENTS_PER_PRODUCT LIMIT (10)'''\n",
    "f.sql_query(query,cursor)"
   ]
  },
  {
   "cell_type": "markdown",
   "metadata": {},
   "source": [
    "## 3. Visualizando datos"
   ]
  },
  {
   "cell_type": "markdown",
   "metadata": {},
   "source": [
    "### a. Precios y descuentos"
   ]
  },
  {
   "attachments": {},
   "cell_type": "markdown",
   "metadata": {},
   "source": [
    "##### Estudio sobre los descuentos que se aplican.\n",
    "\n",
    "Para ello vamos a ver cuántos productos tienen un descuento en la fecha que hemos cargado los datos y también cuanto descuento hay aplicado."
   ]
  },
  {
   "cell_type": "code",
   "execution_count": 3,
   "metadata": {},
   "outputs": [
    {
     "data": {
      "text/html": [
       "<div>\n",
       "<style scoped>\n",
       "    .dataframe tbody tr th:only-of-type {\n",
       "        vertical-align: middle;\n",
       "    }\n",
       "\n",
       "    .dataframe tbody tr th {\n",
       "        vertical-align: top;\n",
       "    }\n",
       "\n",
       "    .dataframe thead th {\n",
       "        text-align: right;\n",
       "    }\n",
       "</style>\n",
       "<table border=\"1\" class=\"dataframe\">\n",
       "  <thead>\n",
       "    <tr style=\"text-align: right;\">\n",
       "      <th></th>\n",
       "      <th>NAME</th>\n",
       "      <th>DATE_DOWNLOAD</th>\n",
       "      <th>DISCOUNT</th>\n",
       "      <th>PERCENTUAL_DISCOUNT</th>\n",
       "    </tr>\n",
       "  </thead>\n",
       "  <tbody>\n",
       "    <tr>\n",
       "      <th>0</th>\n",
       "      <td>Bacanal FORTE TARRO 200ml</td>\n",
       "      <td>231012.0</td>\n",
       "      <td>0.0</td>\n",
       "      <td>0.000000</td>\n",
       "    </tr>\n",
       "    <tr>\n",
       "      <th>1</th>\n",
       "      <td>Desliz! de silicona 100ml</td>\n",
       "      <td>231012.0</td>\n",
       "      <td>0.0</td>\n",
       "      <td>0.000000</td>\n",
       "    </tr>\n",
       "    <tr>\n",
       "      <th>2</th>\n",
       "      <td>Pilas para tu TOK1</td>\n",
       "      <td>231012.0</td>\n",
       "      <td>0.0</td>\n",
       "      <td>0.000000</td>\n",
       "    </tr>\n",
       "    <tr>\n",
       "      <th>3</th>\n",
       "      <td>Desliz! Eco Mandarina</td>\n",
       "      <td>231012.0</td>\n",
       "      <td>-1.0</td>\n",
       "      <td>6.671114</td>\n",
       "    </tr>\n",
       "    <tr>\n",
       "      <th>4</th>\n",
       "      <td>Desliz! Eco Fresa</td>\n",
       "      <td>231012.0</td>\n",
       "      <td>-1.0</td>\n",
       "      <td>6.671114</td>\n",
       "    </tr>\n",
       "    <tr>\n",
       "      <th>5</th>\n",
       "      <td>Desliz! Lubricante íntimo de agua 100ml</td>\n",
       "      <td>231012.0</td>\n",
       "      <td>-2.0</td>\n",
       "      <td>20.020020</td>\n",
       "    </tr>\n",
       "    <tr>\n",
       "      <th>6</th>\n",
       "      <td>Bolsa de satén para guardar juguetes eróticos</td>\n",
       "      <td>231012.0</td>\n",
       "      <td>-2.0</td>\n",
       "      <td>66.889632</td>\n",
       "    </tr>\n",
       "    <tr>\n",
       "      <th>7</th>\n",
       "      <td>VELISSIMA</td>\n",
       "      <td>231012.0</td>\n",
       "      <td>-2.0</td>\n",
       "      <td>20.020020</td>\n",
       "    </tr>\n",
       "    <tr>\n",
       "      <th>8</th>\n",
       "      <td>Desliz! Anal</td>\n",
       "      <td>231012.0</td>\n",
       "      <td>-2.0</td>\n",
       "      <td>16.680567</td>\n",
       "    </tr>\n",
       "    <tr>\n",
       "      <th>9</th>\n",
       "      <td>Bolsas de terciopelo para guardar juguetes eró...</td>\n",
       "      <td>231012.0</td>\n",
       "      <td>-2.0</td>\n",
       "      <td>66.889632</td>\n",
       "    </tr>\n",
       "  </tbody>\n",
       "</table>\n",
       "</div>"
      ],
      "text/plain": [
       "                                                NAME DATE_DOWNLOAD  DISCOUNT  \\\n",
       "0                          Bacanal FORTE TARRO 200ml      231012.0       0.0   \n",
       "1                          Desliz! de silicona 100ml      231012.0       0.0   \n",
       "2                                 Pilas para tu TOK1      231012.0       0.0   \n",
       "3                              Desliz! Eco Mandarina      231012.0      -1.0   \n",
       "4                                  Desliz! Eco Fresa      231012.0      -1.0   \n",
       "5            Desliz! Lubricante íntimo de agua 100ml      231012.0      -2.0   \n",
       "6      Bolsa de satén para guardar juguetes eróticos      231012.0      -2.0   \n",
       "7                                          VELISSIMA      231012.0      -2.0   \n",
       "8                                       Desliz! Anal      231012.0      -2.0   \n",
       "9  Bolsas de terciopelo para guardar juguetes eró...      231012.0      -2.0   \n",
       "\n",
       "   PERCENTUAL_DISCOUNT  \n",
       "0             0.000000  \n",
       "1             0.000000  \n",
       "2             0.000000  \n",
       "3             6.671114  \n",
       "4             6.671114  \n",
       "5            20.020020  \n",
       "6            66.889632  \n",
       "7            20.020020  \n",
       "8            16.680567  \n",
       "9            66.889632  "
      ]
     },
     "execution_count": 3,
     "metadata": {},
     "output_type": "execute_result"
    }
   ],
   "source": [
    "query='''SELECT PRODUCT.PRODUCT AS NAME, DATE_DOWNLOAD, [DISCOUNT_PRICE]-[REGULAR_PRICE] AS DISCOUNT,\n",
    "ABS([DISCOUNT_PRICE]-[REGULAR_PRICE])/[REGULAR_PRICE]*100 as PERCENTUAL_DISCOUNT FROM PRICES \n",
    "JOIN PRODUCT ON PRODUCT.ID=PRICES.ID_PRODUCT\n",
    "ORDER BY DISCOUNT DESC'''                                           # Realizamos esta ordenación para verificar que no hay un producto que haya subido el precio\n",
    "discount_df=f.sql_query(query,cursor)\n",
    "discount_df.head(10)\n"
   ]
  },
  {
   "cell_type": "code",
   "execution_count": 26,
   "metadata": {},
   "outputs": [
    {
     "name": "stdout",
     "output_type": "stream",
     "text": [
      "<class 'pandas.core.frame.DataFrame'>\n",
      "RangeIndex: 561 entries, 0 to 560\n",
      "Data columns (total 4 columns):\n",
      " #   Column               Non-Null Count  Dtype  \n",
      "---  ------               --------------  -----  \n",
      " 0   NAME                 561 non-null    object \n",
      " 1   DATE_DOWNLOAD        561 non-null    object \n",
      " 2   DISCOUNT             561 non-null    float64\n",
      " 3   PERCENTUAL_DISCOUNT  561 non-null    float64\n",
      "dtypes: float64(2), object(2)\n",
      "memory usage: 17.7+ KB\n"
     ]
    }
   ],
   "source": [
    "discount_df.info()"
   ]
  },
  {
   "cell_type": "markdown",
   "metadata": {},
   "source": [
    "Aplicamos una mascara para poder discriminar entre los que tienen y no tienen descuento para realizar una gráfica.\n",
    "\n",
    "En esta gráfica utilizaremos los valores *True / False* para cada fecha concreta que tengamos almacenado el precio."
   ]
  },
  {
   "cell_type": "code",
   "execution_count": 4,
   "metadata": {},
   "outputs": [
    {
     "data": {
      "text/html": [
       "<div>\n",
       "<style scoped>\n",
       "    .dataframe tbody tr th:only-of-type {\n",
       "        vertical-align: middle;\n",
       "    }\n",
       "\n",
       "    .dataframe tbody tr th {\n",
       "        vertical-align: top;\n",
       "    }\n",
       "\n",
       "    .dataframe thead th {\n",
       "        text-align: right;\n",
       "    }\n",
       "</style>\n",
       "<table border=\"1\" class=\"dataframe\">\n",
       "  <thead>\n",
       "    <tr style=\"text-align: right;\">\n",
       "      <th></th>\n",
       "      <th>NAME</th>\n",
       "      <th>DATE_DOWNLOAD</th>\n",
       "      <th>DISCOUNT</th>\n",
       "      <th>PERCENTUAL_DISCOUNT</th>\n",
       "      <th>WITH_DISCOUNT</th>\n",
       "    </tr>\n",
       "  </thead>\n",
       "  <tbody>\n",
       "    <tr>\n",
       "      <th>0</th>\n",
       "      <td>Bacanal FORTE TARRO 200ml</td>\n",
       "      <td>231012.0</td>\n",
       "      <td>0.0</td>\n",
       "      <td>0.000000</td>\n",
       "      <td>False</td>\n",
       "    </tr>\n",
       "    <tr>\n",
       "      <th>1</th>\n",
       "      <td>Desliz! de silicona 100ml</td>\n",
       "      <td>231012.0</td>\n",
       "      <td>0.0</td>\n",
       "      <td>0.000000</td>\n",
       "      <td>False</td>\n",
       "    </tr>\n",
       "    <tr>\n",
       "      <th>2</th>\n",
       "      <td>Pilas para tu TOK1</td>\n",
       "      <td>231012.0</td>\n",
       "      <td>0.0</td>\n",
       "      <td>0.000000</td>\n",
       "      <td>False</td>\n",
       "    </tr>\n",
       "    <tr>\n",
       "      <th>3</th>\n",
       "      <td>Desliz! Eco Mandarina</td>\n",
       "      <td>231012.0</td>\n",
       "      <td>-1.0</td>\n",
       "      <td>6.671114</td>\n",
       "      <td>True</td>\n",
       "    </tr>\n",
       "    <tr>\n",
       "      <th>4</th>\n",
       "      <td>Desliz! Eco Fresa</td>\n",
       "      <td>231012.0</td>\n",
       "      <td>-1.0</td>\n",
       "      <td>6.671114</td>\n",
       "      <td>True</td>\n",
       "    </tr>\n",
       "  </tbody>\n",
       "</table>\n",
       "</div>"
      ],
      "text/plain": [
       "                        NAME DATE_DOWNLOAD  DISCOUNT  PERCENTUAL_DISCOUNT  \\\n",
       "0  Bacanal FORTE TARRO 200ml      231012.0       0.0             0.000000   \n",
       "1  Desliz! de silicona 100ml      231012.0       0.0             0.000000   \n",
       "2         Pilas para tu TOK1      231012.0       0.0             0.000000   \n",
       "3      Desliz! Eco Mandarina      231012.0      -1.0             6.671114   \n",
       "4          Desliz! Eco Fresa      231012.0      -1.0             6.671114   \n",
       "\n",
       "   WITH_DISCOUNT  \n",
       "0          False  \n",
       "1          False  \n",
       "2          False  \n",
       "3           True  \n",
       "4           True  "
      ]
     },
     "execution_count": 4,
     "metadata": {},
     "output_type": "execute_result"
    }
   ],
   "source": [
    "discount_df['WITH_DISCOUNT'] = np.where(discount_df['DISCOUNT']==0, False,True)\n",
    "discount_df.head()"
   ]
  },
  {
   "cell_type": "code",
   "execution_count": 49,
   "metadata": {},
   "outputs": [
    {
     "data": {
      "text/plain": [
       "list"
      ]
     },
     "execution_count": 49,
     "metadata": {},
     "output_type": "execute_result"
    },
    {
     "data": {
      "image/png": "[encoded data removed]",
      "text/plain": [
       "<Figure size 800x800 with 1 Axes>"
      ]
     },
     "metadata": {},
     "output_type": "display_data"
    }
   ],
   "source": [
    "label=['WITH_DISCOUNT','WITHOUT_DISCOUNT']\n",
    "plt.figure(figsize=(8,8))\n",
    "data = discount_df.groupby(['DATE_DOWNLOAD'])[\"WITH_DISCOUNT\"].value_counts()\n",
    "# label=data.index[0][1],data.index[1][1]\n",
    "\n",
    "my_circle=plt.Circle( (0,0),\n",
    "                     0.7, color='white')\n",
    "plt.pie(data.values,\n",
    "        labels=label,\n",
    "        autopct='%1.2f%%')\n",
    "\n",
    "plt.title(\"PERCENTAGE OFFERS\")\n",
    "plt.ylabel(data.index[0][0])\n",
    "p=plt.gcf()\n",
    "p.gca().add_artist(my_circle);"
   ]
  },
  {
   "cell_type": "markdown",
   "metadata": {},
   "source": [
    "Vamos a probar otro tipo de gráfico ya que en un futuro queremos realizar evaluaciones de diferentes fechas, para ello hemos pensado en un barplot."
   ]
  },
  {
   "cell_type": "code",
   "execution_count": 89,
   "metadata": {},
   "outputs": [
    {
     "data": {
      "image/png": "[encoded data removed]",
      "text/plain": [
       "<Figure size 1000x500 with 1 Axes>"
      ]
     },
     "metadata": {},
     "output_type": "display_data"
    }
   ],
   "source": [
    "data = discount_df.groupby('DATE_DOWNLOAD')['WITH_DISCOUNT'].value_counts(normalize=True).unstack().fillna(0)         # Realizamos una pequeña modificación para adecuarla visualizacióon de los datos.\n",
    "\n",
    "ax = data.plot(kind='bar', stacked=True, figsize=(10, 5))\n",
    "plt.title(\"PERCENTAGE OFFERS\", fontsize=16)\n",
    "plt.xlabel(\"DATE_DOWNLOAD\",fontsize=12)\n",
    "plt.ylabel(\"% WITH / WITHOUT\",fontsize=12)\n",
    "plt.xticks(rotation=0,fontsize=8)\n",
    "ax.legend(['WITHOUT_DISCOUNT', 'WITH_DISCOUNT'], loc='upper right',frameon=False,fontsize=8);"
   ]
  },
  {
   "cell_type": "markdown",
   "metadata": {},
   "source": [
    "El código para extraer la información y mostrarla directamente puede quedar del siguiente modo:"
   ]
  },
  {
   "cell_type": "code",
   "execution_count": 17,
   "metadata": {},
   "outputs": [
    {
     "data": {
      "image/png": "[encoded data removed]",
      "text/plain": [
       "<Figure size 1000x500 with 1 Axes>"
      ]
     },
     "metadata": {},
     "output_type": "display_data"
    }
   ],
   "source": [
    "plt.figure(figsize=(10,5))\n",
    "plt.title(\"PERCENTAGE OFFERS\", fontsize=16)\n",
    "\n",
    "label=['WITH_DISCOUNT','WITHOUT_DISCOUNT']                                  # Definimos los nombres de las labels\n",
    "\n",
    "'''Definimos un pieplot en blanco para dejar solo una circunferencia de la estrechez indicada'''\n",
    "e=0.7\n",
    "my_circle=plt.Circle( (0,0), e, color='white')            \n",
    "\n",
    "query='''SELECT PRODUCT.PRODUCT AS NAME, DATE_DOWNLOAD, REGULAR_PRICE,\n",
    "[DISCOUNT_PRICE]-[REGULAR_PRICE] AS DISCOUNT,\n",
    "ABS([DISCOUNT_PRICE]-[REGULAR_PRICE])/[REGULAR_PRICE]*100 as PERCENTUAL_DISCOUNT,\n",
    "CASE WHEN [DISCOUNT_PRICE] = [REGULAR_PRICE] THEN 0 ELSE 1 END AS WITH_DISCOUNT\n",
    "FROM PRICES  JOIN PRODUCT ON PRODUCT.ID=PRICES.ID_PRODUCT\n",
    "ORDER BY DISCOUNT DESC'''                                                        # Realizamos esta ordenación para verificar que no hay un producto que haya subido el precio\n",
    "discount_df=f.sql_query(query,cursor)\n",
    "\n",
    "data = discount_df.groupby(['DATE_DOWNLOAD'])[\"WITH_DISCOUNT\"].value_counts()\n",
    "\n",
    "plt.pie(data.values,\n",
    "        labels=label,\n",
    "        autopct='%1.2f%%',\n",
    "        textprops={'fontsize': 8},\n",
    "        startangle=90, counterclock=True)\n",
    "\n",
    "plt.ylabel(data.index[0][0],fontsize=12)\n",
    "plt.yticks()\n",
    "plt.xticks(rotation=90)\n",
    "p=plt.gcf()\n",
    "p.gca().add_artist(my_circle)\n",
    "file=str('\\Resources\\image\\Percentage_offers')\n",
    "folder+file\n",
    "plt.savefig(folder+file);"
   ]
  },
  {
   "cell_type": "markdown",
   "metadata": {},
   "source": [
    "Como resultado de esta visualización podemos considerar que prácticamente **todos los productos** que ofrecen en la página web tienen un precio rebajado.\n",
    "Habrá que ver después cuanto es el descuento para saber si es puramente testimonial o si tienen descuentos atractivos. \n",
    "\n",
    "Los productos que no tienen descuento son:"
   ]
  },
  {
   "cell_type": "code",
   "execution_count": 97,
   "metadata": {},
   "outputs": [
    {
     "name": "stdout",
     "output_type": "stream",
     "text": [
      "Los productos que no tienen descuentos son: 3 \n",
      "y están representados en la siguiente tabla\n"
     ]
    },
    {
     "data": {
      "text/html": [
       "<div>\n",
       "<style scoped>\n",
       "    .dataframe tbody tr th:only-of-type {\n",
       "        vertical-align: middle;\n",
       "    }\n",
       "\n",
       "    .dataframe tbody tr th {\n",
       "        vertical-align: top;\n",
       "    }\n",
       "\n",
       "    .dataframe thead th {\n",
       "        text-align: right;\n",
       "    }\n",
       "</style>\n",
       "<table border=\"1\" class=\"dataframe\">\n",
       "  <thead>\n",
       "    <tr style=\"text-align: right;\">\n",
       "      <th></th>\n",
       "      <th>NAME</th>\n",
       "      <th>DATE_DOWNLOAD</th>\n",
       "      <th>REGULAR_PRICE</th>\n",
       "      <th>DISCOUNT</th>\n",
       "      <th>PERCENTUAL_DISCOUNT</th>\n",
       "      <th>WITH_DISCOUNT</th>\n",
       "    </tr>\n",
       "  </thead>\n",
       "  <tbody>\n",
       "    <tr>\n",
       "      <th>0</th>\n",
       "      <td>Bacanal FORTE TARRO 200ml</td>\n",
       "      <td>231012.0</td>\n",
       "      <td>24.99</td>\n",
       "      <td>0.0</td>\n",
       "      <td>0.0</td>\n",
       "      <td>0</td>\n",
       "    </tr>\n",
       "    <tr>\n",
       "      <th>1</th>\n",
       "      <td>Desliz! de silicona 100ml</td>\n",
       "      <td>231012.0</td>\n",
       "      <td>19.99</td>\n",
       "      <td>0.0</td>\n",
       "      <td>0.0</td>\n",
       "      <td>0</td>\n",
       "    </tr>\n",
       "    <tr>\n",
       "      <th>2</th>\n",
       "      <td>Pilas para tu TOK1</td>\n",
       "      <td>231012.0</td>\n",
       "      <td>2.50</td>\n",
       "      <td>0.0</td>\n",
       "      <td>0.0</td>\n",
       "      <td>0</td>\n",
       "    </tr>\n",
       "  </tbody>\n",
       "</table>\n",
       "</div>"
      ],
      "text/plain": [
       "                        NAME DATE_DOWNLOAD  REGULAR_PRICE  DISCOUNT  \\\n",
       "0  Bacanal FORTE TARRO 200ml      231012.0          24.99       0.0   \n",
       "1  Desliz! de silicona 100ml      231012.0          19.99       0.0   \n",
       "2         Pilas para tu TOK1      231012.0           2.50       0.0   \n",
       "\n",
       "   PERCENTUAL_DISCOUNT  WITH_DISCOUNT  \n",
       "0                  0.0              0  \n",
       "1                  0.0              0  \n",
       "2                  0.0              0  "
      ]
     },
     "execution_count": 97,
     "metadata": {},
     "output_type": "execute_result"
    }
   ],
   "source": [
    "print(\"Los productos que no tienen descuentos son:\", len(discount_df[discount_df['WITH_DISCOUNT']==0]),\"\\ny están representados en la siguiente tabla\")\n",
    "discount_df[discount_df['WITH_DISCOUNT']==0]"
   ]
  },
  {
   "cell_type": "markdown",
   "metadata": {},
   "source": [
    "En esta tabla podemos observar que los productos corresponden a productos catalogados con **AMENITIES**."
   ]
  },
  {
   "cell_type": "markdown",
   "metadata": {},
   "source": [
    "#### Porcentaje de descuentos en los productos.\n",
    "\n",
    "Ahora vamos a valorar qué descuentos ofrecen en la página web."
   ]
  },
  {
   "cell_type": "code",
   "execution_count": 6,
   "metadata": {},
   "outputs": [
    {
     "data": {
      "text/html": [
       "<div>\n",
       "<style scoped>\n",
       "    .dataframe tbody tr th:only-of-type {\n",
       "        vertical-align: middle;\n",
       "    }\n",
       "\n",
       "    .dataframe tbody tr th {\n",
       "        vertical-align: top;\n",
       "    }\n",
       "\n",
       "    .dataframe thead th {\n",
       "        text-align: right;\n",
       "    }\n",
       "</style>\n",
       "<table border=\"1\" class=\"dataframe\">\n",
       "  <thead>\n",
       "    <tr style=\"text-align: right;\">\n",
       "      <th></th>\n",
       "      <th>NAME</th>\n",
       "      <th>DATE_DOWNLOAD</th>\n",
       "      <th>REGULAR_PRICE</th>\n",
       "      <th>DISCOUNT_PRICE</th>\n",
       "      <th>DISCOUNT</th>\n",
       "      <th>PERCENTUAL_DISCOUNT</th>\n",
       "      <th>WITH_DISCOUNT</th>\n",
       "    </tr>\n",
       "  </thead>\n",
       "  <tbody>\n",
       "    <tr>\n",
       "      <th>0</th>\n",
       "      <td>ROSAL</td>\n",
       "      <td>231012.0</td>\n",
       "      <td>24.99</td>\n",
       "      <td>2.99</td>\n",
       "      <td>-22.0</td>\n",
       "      <td>88.035214</td>\n",
       "      <td>1</td>\n",
       "    </tr>\n",
       "    <tr>\n",
       "      <th>1</th>\n",
       "      <td>Bolsa algodón ORGASMELIA SINGULARIS</td>\n",
       "      <td>231012.0</td>\n",
       "      <td>14.99</td>\n",
       "      <td>1.99</td>\n",
       "      <td>-13.0</td>\n",
       "      <td>86.724483</td>\n",
       "      <td>1</td>\n",
       "    </tr>\n",
       "    <tr>\n",
       "      <th>2</th>\n",
       "      <td>Bolsa algodón PLACERELLA PHELLATIUM</td>\n",
       "      <td>231012.0</td>\n",
       "      <td>14.99</td>\n",
       "      <td>1.99</td>\n",
       "      <td>-13.0</td>\n",
       "      <td>86.724483</td>\n",
       "      <td>1</td>\n",
       "    </tr>\n",
       "    <tr>\n",
       "      <th>3</th>\n",
       "      <td>DIAMOND</td>\n",
       "      <td>231012.0</td>\n",
       "      <td>29.99</td>\n",
       "      <td>4.99</td>\n",
       "      <td>-25.0</td>\n",
       "      <td>83.361120</td>\n",
       "      <td>1</td>\n",
       "    </tr>\n",
       "    <tr>\n",
       "      <th>4</th>\n",
       "      <td>Jaula de Castidad Masculina LIGERA</td>\n",
       "      <td>231012.0</td>\n",
       "      <td>79.99</td>\n",
       "      <td>14.99</td>\n",
       "      <td>-65.0</td>\n",
       "      <td>81.260158</td>\n",
       "      <td>1</td>\n",
       "    </tr>\n",
       "  </tbody>\n",
       "</table>\n",
       "</div>"
      ],
      "text/plain": [
       "                                  NAME DATE_DOWNLOAD  REGULAR_PRICE  \\\n",
       "0                                ROSAL      231012.0          24.99   \n",
       "1  Bolsa algodón ORGASMELIA SINGULARIS      231012.0          14.99   \n",
       "2  Bolsa algodón PLACERELLA PHELLATIUM      231012.0          14.99   \n",
       "3                              DIAMOND      231012.0          29.99   \n",
       "4   Jaula de Castidad Masculina LIGERA      231012.0          79.99   \n",
       "\n",
       "   DISCOUNT_PRICE  DISCOUNT  PERCENTUAL_DISCOUNT  WITH_DISCOUNT  \n",
       "0            2.99     -22.0            88.035214              1  \n",
       "1            1.99     -13.0            86.724483              1  \n",
       "2            1.99     -13.0            86.724483              1  \n",
       "3            4.99     -25.0            83.361120              1  \n",
       "4           14.99     -65.0            81.260158              1  "
      ]
     },
     "execution_count": 6,
     "metadata": {},
     "output_type": "execute_result"
    }
   ],
   "source": [
    "query='''SELECT PRODUCT.PRODUCT AS NAME, DATE_DOWNLOAD, REGULAR_PRICE, DISCOUNT_PRICE,\n",
    "[DISCOUNT_PRICE]-[REGULAR_PRICE] AS DISCOUNT,\n",
    "ABS([DISCOUNT_PRICE]-[REGULAR_PRICE])/[REGULAR_PRICE]*100 as PERCENTUAL_DISCOUNT,\n",
    "CASE WHEN [DISCOUNT_PRICE] = [REGULAR_PRICE] THEN 0 ELSE 1 END AS WITH_DISCOUNT\n",
    "FROM PRICES  JOIN PRODUCT ON PRODUCT.ID=PRICES.ID_PRODUCT\n",
    "ORDER BY PERCENTUAL_DISCOUNT DESC'''                                           # Realizamos esta ordenación para verificar que no hay un producto que haya subido el precio\n",
    "discount_df=f.sql_query(query,cursor)\n",
    "discount_df.head()"
   ]
  },
  {
   "cell_type": "code",
   "execution_count": 4,
   "metadata": {},
   "outputs": [
    {
     "data": {
      "text/html": [
       "<div>\n",
       "<style scoped>\n",
       "    .dataframe tbody tr th:only-of-type {\n",
       "        vertical-align: middle;\n",
       "    }\n",
       "\n",
       "    .dataframe tbody tr th {\n",
       "        vertical-align: top;\n",
       "    }\n",
       "\n",
       "    .dataframe thead th {\n",
       "        text-align: right;\n",
       "    }\n",
       "</style>\n",
       "<table border=\"1\" class=\"dataframe\">\n",
       "  <thead>\n",
       "    <tr style=\"text-align: right;\">\n",
       "      <th></th>\n",
       "      <th>NAME</th>\n",
       "      <th>DATE_DOWNLOAD</th>\n",
       "      <th>REGULAR_PRICE</th>\n",
       "      <th>DISCOUNT_PRICE</th>\n",
       "      <th>DISCOUNT</th>\n",
       "      <th>PERCENTUAL_DISCOUNT</th>\n",
       "      <th>WITH_DISCOUNT</th>\n",
       "    </tr>\n",
       "  </thead>\n",
       "  <tbody>\n",
       "    <tr>\n",
       "      <th>556</th>\n",
       "      <td>Desliz! Eco Mandarina</td>\n",
       "      <td>231012.0</td>\n",
       "      <td>14.99</td>\n",
       "      <td>13.99</td>\n",
       "      <td>-1.0</td>\n",
       "      <td>6.671114</td>\n",
       "      <td>1</td>\n",
       "    </tr>\n",
       "    <tr>\n",
       "      <th>557</th>\n",
       "      <td>Desliz! Eco Fresa</td>\n",
       "      <td>231012.0</td>\n",
       "      <td>14.99</td>\n",
       "      <td>13.99</td>\n",
       "      <td>-1.0</td>\n",
       "      <td>6.671114</td>\n",
       "      <td>1</td>\n",
       "    </tr>\n",
       "    <tr>\n",
       "      <th>558</th>\n",
       "      <td>Bacanal FORTE TARRO 200ml</td>\n",
       "      <td>231012.0</td>\n",
       "      <td>24.99</td>\n",
       "      <td>24.99</td>\n",
       "      <td>0.0</td>\n",
       "      <td>0.000000</td>\n",
       "      <td>0</td>\n",
       "    </tr>\n",
       "    <tr>\n",
       "      <th>559</th>\n",
       "      <td>Desliz! de silicona 100ml</td>\n",
       "      <td>231012.0</td>\n",
       "      <td>19.99</td>\n",
       "      <td>19.99</td>\n",
       "      <td>0.0</td>\n",
       "      <td>0.000000</td>\n",
       "      <td>0</td>\n",
       "    </tr>\n",
       "    <tr>\n",
       "      <th>560</th>\n",
       "      <td>Pilas para tu TOK1</td>\n",
       "      <td>231012.0</td>\n",
       "      <td>2.50</td>\n",
       "      <td>2.50</td>\n",
       "      <td>0.0</td>\n",
       "      <td>0.000000</td>\n",
       "      <td>0</td>\n",
       "    </tr>\n",
       "  </tbody>\n",
       "</table>\n",
       "</div>"
      ],
      "text/plain": [
       "                          NAME DATE_DOWNLOAD  REGULAR_PRICE  DISCOUNT_PRICE  \\\n",
       "556      Desliz! Eco Mandarina      231012.0          14.99           13.99   \n",
       "557          Desliz! Eco Fresa      231012.0          14.99           13.99   \n",
       "558  Bacanal FORTE TARRO 200ml      231012.0          24.99           24.99   \n",
       "559  Desliz! de silicona 100ml      231012.0          19.99           19.99   \n",
       "560         Pilas para tu TOK1      231012.0           2.50            2.50   \n",
       "\n",
       "     DISCOUNT  PERCENTUAL_DISCOUNT  WITH_DISCOUNT  \n",
       "556      -1.0             6.671114              1  \n",
       "557      -1.0             6.671114              1  \n",
       "558       0.0             0.000000              0  \n",
       "559       0.0             0.000000              0  \n",
       "560       0.0             0.000000              0  "
      ]
     },
     "execution_count": 4,
     "metadata": {},
     "output_type": "execute_result"
    }
   ],
   "source": [
    "discount_df.tail()"
   ]
  },
  {
   "cell_type": "markdown",
   "metadata": {},
   "source": [
    "Vamos a ver que características estadísticas tiene esta columna"
   ]
  },
  {
   "cell_type": "code",
   "execution_count": 14,
   "metadata": {},
   "outputs": [
    {
     "data": {
      "text/plain": [
       "count    561.000000\n",
       "mean      50.001493\n",
       "std       14.703572\n",
       "min        0.000000\n",
       "25%       41.670139\n",
       "50%       50.016672\n",
       "75%       60.024010\n",
       "max       88.035214\n",
       "Name: PERCENTUAL_DISCOUNT, dtype: float64"
      ]
     },
     "execution_count": 14,
     "metadata": {},
     "output_type": "execute_result"
    }
   ],
   "source": [
    "discount_df['PERCENTUAL_DISCOUNT'].describe()"
   ]
  },
  {
   "cell_type": "markdown",
   "metadata": {},
   "source": [
    "Vamos a evaluar cuantos valores unicos tienen los descuentos, porque seguramente hagamos algún tipo de ajuste en los datos para reducirlo."
   ]
  },
  {
   "cell_type": "code",
   "execution_count": 6,
   "metadata": {},
   "outputs": [
    {
     "data": {
      "text/plain": [
       "88.035214     1\n",
       "50.918349     1\n",
       "52.010402     1\n",
       "52.196607     1\n",
       "52.972337     1\n",
       "             ..\n",
       "60.040027    11\n",
       "50.008335    13\n",
       "50.016672    13\n",
       "50.010002    14\n",
       "50.025013    21\n",
       "Name: PERCENTUAL_DISCOUNT, Length: 216, dtype: int64"
      ]
     },
     "execution_count": 6,
     "metadata": {},
     "output_type": "execute_result"
    }
   ],
   "source": [
    "discount_df['PERCENTUAL_DISCOUNT'].value_counts(ascending=True)"
   ]
  },
  {
   "cell_type": "markdown",
   "metadata": {},
   "source": [
    "Observamos que hay 216 registros en esta tabla para 560 productos.\n",
    "\n",
    "**Esto es un valor muy alto** y conviene reducirlo, por lo que vamos a dejar solo los valores enteros de los porcentajes.\n",
    "\n",
    "Para ello vamos a realizar una modificación en la query para tomar solo los valores enteros del porcentaje de descuento."
   ]
  },
  {
   "cell_type": "code",
   "execution_count": 56,
   "metadata": {},
   "outputs": [
    {
     "name": "stdout",
     "output_type": "stream",
     "text": [
      "El nuevo número de registros es 63 \n",
      "y los valores quedan del modo siguiente\n"
     ]
    },
    {
     "data": {
      "text/plain": [
       "88     1\n",
       "39     1\n",
       "59     1\n",
       "31     1\n",
       "49     1\n",
       "      ..\n",
       "33    22\n",
       "55    31\n",
       "40    31\n",
       "60    49\n",
       "50    98\n",
       "Name: PERCENTUAL_DISCOUNT, Length: 63, dtype: int64"
      ]
     },
     "execution_count": 56,
     "metadata": {},
     "output_type": "execute_result"
    }
   ],
   "source": [
    "query='''SELECT PRODUCT.PRODUCT AS NAME, DATE_DOWNLOAD, REGULAR_PRICE, DISCOUNT_PRICE,\n",
    "[DISCOUNT_PRICE]-[REGULAR_PRICE] AS DISCOUNT,\n",
    "CAST(ABS([DISCOUNT_PRICE] - [REGULAR_PRICE]) / [REGULAR_PRICE] * 100 AS INT) AS PERCENTUAL_DISCOUNT\n",
    "FROM PRICES  JOIN PRODUCT ON PRODUCT.ID=PRICES.ID_PRODUCT\n",
    "ORDER BY PERCENTUAL_DISCOUNT DESC'''                                           # Realizamos esta ordenación para verificar que no hay un producto que haya subido el precio\n",
    "discount_df=f.sql_query(query,cursor)\n",
    "print(\"El nuevo número de registros es\",len(discount_df['PERCENTUAL_DISCOUNT'].value_counts()),\"\\ny los valores quedan del modo siguiente\")\n",
    "discount_df['PERCENTUAL_DISCOUNT'].value_counts(ascending=True)"
   ]
  },
  {
   "cell_type": "markdown",
   "metadata": {},
   "source": [
    "Si volvemos a realizar el estudio estadístico vemos que tampoco hay mucha diferencia con lo visto anteriormente.\n",
    "\n",
    "La distancia intercuartílica se situa entre un 40% - 60 % de descuento y la media y la desviación estandard apenas han sufrido cambios."
   ]
  },
  {
   "cell_type": "code",
   "execution_count": 57,
   "metadata": {},
   "outputs": [
    {
     "data": {
      "text/plain": [
       "count    561.000000\n",
       "mean      49.743316\n",
       "std       14.712424\n",
       "min        0.000000\n",
       "25%       41.000000\n",
       "50%       50.000000\n",
       "75%       60.000000\n",
       "max       88.000000\n",
       "Name: PERCENTUAL_DISCOUNT, dtype: float64"
      ]
     },
     "execution_count": 57,
     "metadata": {},
     "output_type": "execute_result"
    }
   ],
   "source": [
    "discount_df['PERCENTUAL_DISCOUNT'].describe()"
   ]
  },
  {
   "cell_type": "code",
   "execution_count": 62,
   "metadata": {},
   "outputs": [
    {
     "name": "stdout",
     "output_type": "stream",
     "text": [
      "El valor por debajo del cual el descuento se consideraría outlier sería: 14.16\n"
     ]
    },
    {
     "data": {
      "image/png": "[encoded data removed]",
      "text/plain": [
       "<Figure size 1000x500 with 1 Axes>"
      ]
     },
     "metadata": {},
     "output_type": "display_data"
    }
   ],
   "source": [
    "plt.figure(figsize=(10,5))\n",
    "plt.title(\"DISCOUNT DISTRIBUTION APPLIED\")\n",
    "plt.ylabel(\"DISCOUNT %\")\n",
    "plt.xlabel(\"\")\n",
    "\n",
    "query='''SELECT PRODUCT.PRODUCT AS NAME, DATE_DOWNLOAD, REGULAR_PRICE, DISCOUNT_PRICE,\n",
    "[DISCOUNT_PRICE]-[REGULAR_PRICE] AS DISCOUNT,\n",
    "CAST(ABS([DISCOUNT_PRICE] - [REGULAR_PRICE]) / [REGULAR_PRICE] * 100 AS INT) AS PERCENTUAL_DISCOUNT\n",
    "FROM PRICES  JOIN PRODUCT ON PRODUCT.ID=PRICES.ID_PRODUCT\n",
    "ORDER BY PERCENTUAL_DISCOUNT DESC'''                                           \n",
    "\n",
    "sns.boxplot(data=f.sql_query(query,cursor)['PERCENTUAL_DISCOUNT'],color=\"pink\")\n",
    "sns.swarmplot(f.sql_query(query,cursor)['PERCENTUAL_DISCOUNT'],color='black')\n",
    "\n",
    "'''Definiendo el outlier inferior'''\n",
    "outlier_1 = np.percentile(f.sql_query(query,cursor)['PERCENTUAL_DISCOUNT'], 1.1)        # Los valores que se pueden considerar outliers son 1,1% \n",
    "plt.axhline(y=outlier_1, xmin=0, xmax=1,color='r', linewidth= 1.5,linestyle=\"-.\")\n",
    "print(\"El valor por debajo del cual el descuento se consideraría outlier sería:\",outlier_1)\n",
    "file=str('\\Resources\\image\\discount_distribution')\n",
    "folder+file\n",
    "plt.savefig(folder+file);\n"
   ]
  },
  {
   "cell_type": "markdown",
   "metadata": {},
   "source": [
    "Vamos a ver qué productos son outlier "
   ]
  },
  {
   "cell_type": "code",
   "execution_count": 79,
   "metadata": {},
   "outputs": [
    {
     "data": {
      "text/html": [
       "<div>\n",
       "<style scoped>\n",
       "    .dataframe tbody tr th:only-of-type {\n",
       "        vertical-align: middle;\n",
       "    }\n",
       "\n",
       "    .dataframe tbody tr th {\n",
       "        vertical-align: top;\n",
       "    }\n",
       "\n",
       "    .dataframe thead th {\n",
       "        text-align: right;\n",
       "    }\n",
       "</style>\n",
       "<table border=\"1\" class=\"dataframe\">\n",
       "  <thead>\n",
       "    <tr style=\"text-align: right;\">\n",
       "      <th></th>\n",
       "      <th>NAME</th>\n",
       "      <th>REGULAR_PRICE</th>\n",
       "      <th>DISCOUNT_PRICE</th>\n",
       "      <th>PERCENTUAL_DISCOUNT</th>\n",
       "    </tr>\n",
       "  </thead>\n",
       "  <tbody>\n",
       "    <tr>\n",
       "      <th>0</th>\n",
       "      <td>Bacanal FORTE TARRO 200ml</td>\n",
       "      <td>24.99</td>\n",
       "      <td>24.99</td>\n",
       "      <td>0</td>\n",
       "    </tr>\n",
       "    <tr>\n",
       "      <th>1</th>\n",
       "      <td>Desliz! Eco Mandarina</td>\n",
       "      <td>14.99</td>\n",
       "      <td>13.99</td>\n",
       "      <td>6</td>\n",
       "    </tr>\n",
       "    <tr>\n",
       "      <th>2</th>\n",
       "      <td>La Bocca de la Veritá</td>\n",
       "      <td>99.99</td>\n",
       "      <td>89.99</td>\n",
       "      <td>10</td>\n",
       "    </tr>\n",
       "    <tr>\n",
       "      <th>3</th>\n",
       "      <td>ORGASMELIA DUALIS</td>\n",
       "      <td>69.99</td>\n",
       "      <td>59.99</td>\n",
       "      <td>14</td>\n",
       "    </tr>\n",
       "    <tr>\n",
       "      <th>4</th>\n",
       "      <td>Desliz! de silicona 100ml</td>\n",
       "      <td>19.99</td>\n",
       "      <td>19.99</td>\n",
       "      <td>0</td>\n",
       "    </tr>\n",
       "    <tr>\n",
       "      <th>5</th>\n",
       "      <td>Desliz! Eco Fresa</td>\n",
       "      <td>14.99</td>\n",
       "      <td>13.99</td>\n",
       "      <td>6</td>\n",
       "    </tr>\n",
       "    <tr>\n",
       "      <th>6</th>\n",
       "      <td>Pilas para tu TOK1</td>\n",
       "      <td>2.50</td>\n",
       "      <td>2.50</td>\n",
       "      <td>0</td>\n",
       "    </tr>\n",
       "  </tbody>\n",
       "</table>\n",
       "</div>"
      ],
      "text/plain": [
       "                        NAME  REGULAR_PRICE  DISCOUNT_PRICE  \\\n",
       "0  Bacanal FORTE TARRO 200ml          24.99           24.99   \n",
       "1      Desliz! Eco Mandarina          14.99           13.99   \n",
       "2      La Bocca de la Veritá          99.99           89.99   \n",
       "3          ORGASMELIA DUALIS          69.99           59.99   \n",
       "4  Desliz! de silicona 100ml          19.99           19.99   \n",
       "5          Desliz! Eco Fresa          14.99           13.99   \n",
       "6         Pilas para tu TOK1           2.50            2.50   \n",
       "\n",
       "   PERCENTUAL_DISCOUNT  \n",
       "0                    0  \n",
       "1                    6  \n",
       "2                   10  \n",
       "3                   14  \n",
       "4                    0  \n",
       "5                    6  \n",
       "6                    0  "
      ]
     },
     "execution_count": 79,
     "metadata": {},
     "output_type": "execute_result"
    }
   ],
   "source": [
    "query='''SELECT PRODUCT.PRODUCT AS NAME, REGULAR_PRICE, DISCOUNT_PRICE,\n",
    "CAST(ABS([DISCOUNT_PRICE] - [REGULAR_PRICE]) / [REGULAR_PRICE] * 100 AS INT) AS PERCENTUAL_DISCOUNT\n",
    "FROM PRICES  JOIN PRODUCT ON PRODUCT.ID=PRICES.ID_PRODUCT\n",
    "WHERE PERCENTUAL_DISCOUNT<14.16''' \n",
    "f.sql_query(query,cursor)"
   ]
  },
  {
   "cell_type": "code",
   "execution_count": 77,
   "metadata": {},
   "outputs": [
    {
     "name": "stdout",
     "output_type": "stream",
     "text": [
      "El número de outliers que representan productos que apenas han tenido un descuento son 7 \n",
      "lo que representa un porcentaje de 1.25 % de los productos\n"
     ]
    }
   ],
   "source": [
    "query='''SELECT PRODUCT.PRODUCT AS NAME, DATE_DOWNLOAD, REGULAR_PRICE, DISCOUNT_PRICE,\n",
    "CAST(ABS([DISCOUNT_PRICE] - [REGULAR_PRICE]) / [REGULAR_PRICE] * 100 AS INT) AS PERCENTUAL_DISCOUNT\n",
    "FROM PRICES  JOIN PRODUCT ON PRODUCT.ID=PRICES.ID_PRODUCT\n",
    "WHERE PERCENTUAL_DISCOUNT<14.16''' \n",
    "print(\"El número de outliers que representan productos que apenas han tenido un descuento son\",len(f.sql_query(query,cursor)),\"\\nlo que representa un porcentaje de\",round(len(f.sql_query(query,cursor))/len(discount_df)*100,2),\"% de los productos\")\n"
   ]
  },
  {
   "cell_type": "markdown",
   "metadata": {},
   "source": [
    "#### Distribución de precios.\n",
    "\n",
    "Dado que prácticamente todos los productos tienen descuentos vamos a realizar también un estudio de como están distribuidos los precios dentro de diversos rangos.\n",
    "\n",
    "Para esto vamos a dejar los precios en unidades de decimales y realizaremos un estudio similar al anterior con estos datos."
   ]
  },
  {
   "cell_type": "code",
   "execution_count": 3,
   "metadata": {},
   "outputs": [
    {
     "data": {
      "text/html": [
       "<div>\n",
       "<style scoped>\n",
       "    .dataframe tbody tr th:only-of-type {\n",
       "        vertical-align: middle;\n",
       "    }\n",
       "\n",
       "    .dataframe tbody tr th {\n",
       "        vertical-align: top;\n",
       "    }\n",
       "\n",
       "    .dataframe thead th {\n",
       "        text-align: right;\n",
       "    }\n",
       "</style>\n",
       "<table border=\"1\" class=\"dataframe\">\n",
       "  <thead>\n",
       "    <tr style=\"text-align: right;\">\n",
       "      <th></th>\n",
       "      <th>NAME</th>\n",
       "      <th>DATE_DOWNLOAD</th>\n",
       "      <th>abs_price</th>\n",
       "    </tr>\n",
       "  </thead>\n",
       "  <tbody>\n",
       "    <tr>\n",
       "      <th>0</th>\n",
       "      <td>SUEGNA</td>\n",
       "      <td>231012.0</td>\n",
       "      <td>340</td>\n",
       "    </tr>\n",
       "    <tr>\n",
       "      <th>1</th>\n",
       "      <td>SESSE 360 BLACK</td>\n",
       "      <td>231012.0</td>\n",
       "      <td>340</td>\n",
       "    </tr>\n",
       "    <tr>\n",
       "      <th>2</th>\n",
       "      <td>MEGACULO 18KG de placer</td>\n",
       "      <td>231012.0</td>\n",
       "      <td>290</td>\n",
       "    </tr>\n",
       "    <tr>\n",
       "      <th>3</th>\n",
       "      <td>MUERDE</td>\n",
       "      <td>231012.0</td>\n",
       "      <td>250</td>\n",
       "    </tr>\n",
       "    <tr>\n",
       "      <th>4</th>\n",
       "      <td>Columpio sexual giratorio con estructura de am...</td>\n",
       "      <td>231012.0</td>\n",
       "      <td>240</td>\n",
       "    </tr>\n",
       "  </tbody>\n",
       "</table>\n",
       "</div>"
      ],
      "text/plain": [
       "                                                NAME DATE_DOWNLOAD  abs_price\n",
       "0                                             SUEGNA      231012.0        340\n",
       "1                                    SESSE 360 BLACK      231012.0        340\n",
       "2                            MEGACULO 18KG de placer      231012.0        290\n",
       "3                                             MUERDE      231012.0        250\n",
       "4  Columpio sexual giratorio con estructura de am...      231012.0        240"
      ]
     },
     "execution_count": 3,
     "metadata": {},
     "output_type": "execute_result"
    }
   ],
   "source": [
    "query='''SELECT PRODUCT.PRODUCT AS NAME, DATE_DOWNLOAD, CAST(DISCOUNT_PRICE/10 AS INT)*10 as abs_price\n",
    "FROM PRICES JOIN PRODUCT ON PRODUCT.ID=PRICES.ID_PRODUCT\n",
    "ORDER BY DISCOUNT_PRICE DESC'''                                \n",
    "abs_price_df=f.sql_query(query,cursor)\n",
    "\n",
    "abs_price_df.head()"
   ]
  },
  {
   "cell_type": "code",
   "execution_count": 36,
   "metadata": {},
   "outputs": [
    {
     "data": {
      "text/plain": [
       "count    561.000000\n",
       "mean      21.354724\n",
       "std       32.704587\n",
       "min        0.000000\n",
       "25%        0.000000\n",
       "50%       10.000000\n",
       "75%       30.000000\n",
       "max      340.000000\n",
       "Name: abs_price, dtype: float64"
      ]
     },
     "execution_count": 36,
     "metadata": {},
     "output_type": "execute_result"
    }
   ],
   "source": [
    "abs_price_df['abs_price'].describe()"
   ]
  },
  {
   "cell_type": "markdown",
   "metadata": {},
   "source": [
    "Podemos observar que los precios se situan entre las decennas de 0 y 30 principalmente. Además la media se situa por encima  del percentil 75."
   ]
  },
  {
   "cell_type": "code",
   "execution_count": 46,
   "metadata": {},
   "outputs": [
    {
     "name": "stderr",
     "output_type": "stream",
     "text": [
      "C:\\Users\\Javier\\AppData\\Local\\Temp\\ipykernel_10144\\1018859317.py:4: UserWarning: \n",
      "\n",
      "`distplot` is a deprecated function and will be removed in seaborn v0.14.0.\n",
      "\n",
      "Please adapt your code to use either `displot` (a figure-level function with\n",
      "similar flexibility) or `histplot` (an axes-level function for histograms).\n",
      "\n",
      "For a guide to updating your code to use the new functions, please see\n",
      "https://gist.github.com/mwaskom/de44147ed2974457ad6372750bbe5751\n",
      "\n",
      "  sns.distplot(abs_price_df['abs_price'],bins=50,color=\"teal\");\n"
     ]
    },
    {
     "data": {
      "image/png": "[encoded data removed]",
      "text/plain": [
       "<Figure size 1000x500 with 1 Axes>"
      ]
     },
     "metadata": {},
     "output_type": "display_data"
    }
   ],
   "source": [
    "plt.figure(figsize=(10,5))\n",
    "plt.title(\"PRICE DISTRIBUTION\")\n",
    "plt.xlabel(\"PRICE\")\n",
    "sns.distplot(abs_price_df['abs_price'],bins=50,color=\"teal\");"
   ]
  },
  {
   "cell_type": "code",
   "execution_count": 51,
   "metadata": {},
   "outputs": [
    {
     "data": {
      "text/plain": [
       "0      160\n",
       "10     136\n",
       "20      93\n",
       "30      63\n",
       "40      50\n",
       "50      23\n",
       "60      14\n",
       "70       9\n",
       "340      2\n",
       "90       2\n",
       "120      2\n",
       "80       2\n",
       "290      1\n",
       "100      1\n",
       "110      1\n",
       "240      1\n",
       "250      1\n",
       "Name: abs_price, dtype: int64"
      ]
     },
     "execution_count": 51,
     "metadata": {},
     "output_type": "execute_result"
    }
   ],
   "source": [
    "abs_price_df['abs_price'].value_counts(ascending=False)"
   ]
  },
  {
   "cell_type": "markdown",
   "metadata": {},
   "source": [
    "Podemos ver en esta información que los precios están habitualmente por debajo de 80 € y solo en casos puntuales están por encima de 200 €.\n",
    "\n",
    "Además como se veía en la gráfica anterior los precios no suelen sobrepasar los 30 €."
   ]
  },
  {
   "cell_type": "code",
   "execution_count": 68,
   "metadata": {},
   "outputs": [
    {
     "name": "stdout",
     "output_type": "stream",
     "text": [
      "El porcentaje de los productos que se encuentran por encima de 30 € es 19.43 %\n",
      "mientras que el porcentaje de producto que se encuentran por encima de 100 € es 1.6 %\n"
     ]
    }
   ],
   "source": [
    "query_1='''SELECT PRODUCT.PRODUCT AS NAME, CAST(DISCOUNT_PRICE/10 AS INT)*10 as abs_price\n",
    "FROM PRICES JOIN PRODUCT ON PRODUCT.ID=PRICES.ID_PRODUCT\n",
    "where abs_price>30\n",
    "ORDER BY DISCOUNT_PRICE DESC'''                                \n",
    "upper_abs_price_df_1=f.sql_query(query_1,cursor)\n",
    "upper_abs_price_df_1\n",
    "\n",
    "query_2='''SELECT PRODUCT.PRODUCT AS NAME, CAST(DISCOUNT_PRICE/10 AS INT)*10 as abs_price\n",
    "FROM PRICES JOIN PRODUCT ON PRODUCT.ID=PRICES.ID_PRODUCT\n",
    "where abs_price>90\n",
    "ORDER BY DISCOUNT_PRICE DESC'''                                \n",
    "upper_abs_price_df_2=f.sql_query(query_2,cursor)\n",
    "\n",
    "print(\"El porcentaje de los productos que se encuentran por encima de 30 € es\",round(len(upper_abs_price_df_1)/len(abs_price_df),4)*100,\"%\\nmientras que el porcentaje de producto que se encuentran por encima de 100 € es\",round(len(upper_abs_price_df_2)/len(abs_price_df),4)*100,\"%\")"
   ]
  },
  {
   "cell_type": "markdown",
   "metadata": {},
   "source": [
    "Por todo ello llegamos a la **conclusión** que de los productos que se venden en la pagina web solo el 20 % supera los 30 € y unicamente el 1,6 % supera los 100 €.\n",
    "\n",
    "Pero... ¿la distribución de los precios sin rebajar es el mismo?\n",
    "\n",
    "Vamos a comprobarlo."
   ]
  },
  {
   "cell_type": "code",
   "execution_count": 21,
   "metadata": {},
   "outputs": [
    {
     "name": "stderr",
     "output_type": "stream",
     "text": [
      "C:\\Users\\Javier\\AppData\\Local\\Temp\\ipykernel_2320\\917027612.py:9: UserWarning: \n",
      "\n",
      "`distplot` is a deprecated function and will be removed in seaborn v0.14.0.\n",
      "\n",
      "Please adapt your code to use either `displot` (a figure-level function with\n",
      "similar flexibility) or `histplot` (an axes-level function for histograms).\n",
      "\n",
      "For a guide to updating your code to use the new functions, please see\n",
      "https://gist.github.com/mwaskom/de44147ed2974457ad6372750bbe5751\n",
      "\n",
      "  sns.distplot(abs_price_df['abs_price'],bins=50,color=\"teal\");\n"
     ]
    },
    {
     "data": {
      "image/png": "[encoded data removed]",
      "text/plain": [
       "<Figure size 1000x500 with 1 Axes>"
      ]
     },
     "metadata": {},
     "output_type": "display_data"
    }
   ],
   "source": [
    "query='''SELECT PRODUCT.PRODUCT AS NAME, CAST(REGULAR_PRICE/10 AS INT)*10 as abs_price\n",
    "FROM PRICES JOIN PRODUCT ON PRODUCT.ID=PRICES.ID_PRODUCT\n",
    "ORDER BY REGULAR_PRICE DESC'''                                \n",
    "abs_price_df=f.sql_query(query,cursor)\n",
    "\n",
    "plt.figure(figsize=(10,5))\n",
    "plt.title(\"PRICE DISTRIBUTION\")\n",
    "plt.xlabel(\"PRICE\")\n",
    "sns.distplot(abs_price_df['abs_price'],bins=50,color=\"teal\");"
   ]
  },
  {
   "cell_type": "code",
   "execution_count": 8,
   "metadata": {},
   "outputs": [
    {
     "data": {
      "text/plain": [
       "count    561.000000\n",
       "mean      48.484848\n",
       "std       73.487270\n",
       "min        0.000000\n",
       "25%       20.000000\n",
       "50%       30.000000\n",
       "75%       60.000000\n",
       "max      990.000000\n",
       "Name: abs_price, dtype: float64"
      ]
     },
     "execution_count": 8,
     "metadata": {},
     "output_type": "execute_result"
    }
   ],
   "source": [
    "abs_price_df['abs_price'].describe()"
   ]
  },
  {
   "cell_type": "markdown",
   "metadata": {},
   "source": [
    "En comparación con la distribución de los precios, podemos ver que tanto la mediana como la media tienen valores más altos que los precios rebajados.\n",
    "\n",
    "A su vez los precios son muy superiores a los rebajados."
   ]
  },
  {
   "cell_type": "code",
   "execution_count": 7,
   "metadata": {},
   "outputs": [
    {
     "data": {
      "text/plain": [
       "10     117\n",
       "20     106\n",
       "40      61\n",
       "30      60\n",
       "50      51\n",
       "60      38\n",
       "90      36\n",
       "70      23\n",
       "80      19\n",
       "110     17\n",
       "0        8\n",
       "120      5\n",
       "140      4\n",
       "100      3\n",
       "290      3\n",
       "190      2\n",
       "900      1\n",
       "130      1\n",
       "170      1\n",
       "220      1\n",
       "390      1\n",
       "490      1\n",
       "600      1\n",
       "990      1\n",
       "Name: abs_price, dtype: int64"
      ]
     },
     "execution_count": 7,
     "metadata": {},
     "output_type": "execute_result"
    }
   ],
   "source": [
    "abs_price_df['abs_price'].value_counts(ascending=False)"
   ]
  },
  {
   "cell_type": "markdown",
   "metadata": {},
   "source": [
    "Vamos a representar las dos gráficas conjuntamente para ver su comportamiento."
   ]
  },
  {
   "cell_type": "code",
   "execution_count": 22,
   "metadata": {},
   "outputs": [
    {
     "name": "stderr",
     "output_type": "stream",
     "text": [
      "C:\\Users\\Javier\\AppData\\Local\\Temp\\ipykernel_2320\\504914567.py:14: UserWarning: \n",
      "\n",
      "`distplot` is a deprecated function and will be removed in seaborn v0.14.0.\n",
      "\n",
      "Please adapt your code to use either `displot` (a figure-level function with\n",
      "similar flexibility) or `histplot` (an axes-level function for histograms).\n",
      "\n",
      "For a guide to updating your code to use the new functions, please see\n",
      "https://gist.github.com/mwaskom/de44147ed2974457ad6372750bbe5751\n",
      "\n",
      "  sns.distplot(abs_disc_price_df['abs_price'],bins=50,color=\"teal\", ax=axes[0])\n",
      "C:\\Users\\Javier\\AppData\\Local\\Temp\\ipykernel_2320\\504914567.py:23: UserWarning: \n",
      "\n",
      "`distplot` is a deprecated function and will be removed in seaborn v0.14.0.\n",
      "\n",
      "Please adapt your code to use either `displot` (a figure-level function with\n",
      "similar flexibility) or `histplot` (an axes-level function for histograms).\n",
      "\n",
      "For a guide to updating your code to use the new functions, please see\n",
      "https://gist.github.com/mwaskom/de44147ed2974457ad6372750bbe5751\n",
      "\n",
      "  sns.distplot(abs_reg_price_df['abs_price'],bins=50,color=\"olive\", ax=axes[1])\n",
      "C:\\Users\\Javier\\AppData\\Local\\Temp\\ipykernel_2320\\504914567.py:29: UserWarning: FixedFormatter should only be used together with FixedLocator\n",
      "  axes[i].set_xticklabels(axes[i].get_xticklabels(), fontsize=10)\n",
      "C:\\Users\\Javier\\AppData\\Local\\Temp\\ipykernel_2320\\504914567.py:32: UserWarning: Tight layout not applied. The bottom and top margins cannot be made large enough to accommodate all axes decorations.\n",
      "  fig.tight_layout()\n"
     ]
    },
    {
     "data": {
      "image/png": "[encoded data removed]",
      "text/plain": [
       "<Figure size 1500x500 with 2 Axes>"
      ]
     },
     "metadata": {},
     "output_type": "display_data"
    }
   ],
   "source": [
    "fig, axes = plt.subplots(1, 2, figsize=(15,5), sharey=True)\n",
    "axes[0].set_position([0,1.5,0.5,0.300])\n",
    "axes[1].set_position([0.5,1.5,0.2,0.300])\n",
    "# axes[2].set_position([1.5,1.5,0.2,0.300])\n",
    "\n",
    "label=[\"Discount_price\",\"Regular_price\"]\n",
    "\n",
    "'''PLOT 0'''\n",
    "\n",
    "query_1='''SELECT PRODUCT.PRODUCT AS NAME,CAST(DISCOUNT_PRICE/10 AS INT)*10 as abs_price\n",
    "FROM PRICES JOIN PRODUCT ON PRODUCT.ID=PRICES.ID_PRODUCT\n",
    "'''                                \n",
    "abs_disc_price_df=f.sql_query(query_1,cursor)\n",
    "sns.distplot(abs_disc_price_df['abs_price'],bins=50,color=\"teal\", ax=axes[0])\n",
    "\n",
    "\n",
    "'''PLOT 1'''\n",
    "\n",
    "\n",
    "query_2='''SELECT PRODUCT.PRODUCT AS NAME, CAST(REGULAR_PRICE/10 AS INT)*10 as abs_price\n",
    "FROM PRICES JOIN PRODUCT ON PRODUCT.ID=PRICES.ID_PRODUCT'''                                \n",
    "abs_reg_price_df=f.sql_query(query_2,cursor)\n",
    "sns.distplot(abs_reg_price_df['abs_price'],bins=50,color=\"olive\", ax=axes[1])\n",
    "\n",
    "for i in range (0,2):\n",
    "    axes[i].set_ylabel('')\n",
    "    axes[i].set_xlabel('')\n",
    "    axes[i].set_title(label[i])\n",
    "    axes[i].set_xticklabels(axes[i].get_xticklabels(), fontsize=10)\n",
    "\n",
    "fig.suptitle(\"Prices_Distribution_study\",fontsize=15)\n",
    "fig.tight_layout() \n",
    "file=str('\\Resources\\image\\Prices_Distribution_study.png')\n",
    "folder+file\n",
    "fig.subplots_adjust(top=0.85)\n",
    "plt.savefig(folder+file);\n"
   ]
  },
  {
   "cell_type": "markdown",
   "metadata": {},
   "source": [
    "Podemos observar en esta distribución como los precios rebajados se encuentran más uniformes y compacto que los precios sin rebajar.\n",
    "\n",
    "Así mismo, observamos que el número de casos es mayor en los precios rebajados que sin rebajar y, como consecuencia de ello, la distribución de los precios sin rebajar es mayor, alargando el precio hacia importes en torno a 1000 -1100 €."
   ]
  },
  {
   "cell_type": "code",
   "execution_count": 31,
   "metadata": {},
   "outputs": [
    {
     "name": "stdout",
     "output_type": "stream",
     "text": [
      "<class 'pandas.core.frame.DataFrame'>\n",
      "RangeIndex: 561 entries, 0 to 560\n",
      "Data columns (total 2 columns):\n",
      " #   Column     Non-Null Count  Dtype \n",
      "---  ------     --------------  ----- \n",
      " 0   NAME       561 non-null    object\n",
      " 1   abs_price  561 non-null    int64 \n",
      "dtypes: int64(1), object(1)\n",
      "memory usage: 8.9+ KB\n"
     ]
    }
   ],
   "source": [
    "abs_disc_price_df.info()"
   ]
  },
  {
   "attachments": {},
   "cell_type": "markdown",
   "metadata": {},
   "source": [
    "### b. Comentarios."
   ]
  },
  {
   "cell_type": "markdown",
   "metadata": {},
   "source": [
    "#### Estudio sobre las fechas de los comentarios que se realizan."
   ]
  },
  {
   "attachments": {},
   "cell_type": "markdown",
   "metadata": {},
   "source": [
    "Definimos qué queries son para cada uno de los posibles componentes que componen la fecha.\n",
    "\n",
    "Las queries extraen los datos en forma de texto por lo que hay que cambiar el formato a *int* y en el caso de los días de la semana hay que realizar además un mapeo para asignar el día de la semana que corresponde teniendo en cuenta que los días de la semanas están definidos en formato inglés por lo que 0 corresponde a domingo."
   ]
  },
  {
   "cell_type": "code",
   "execution_count": null,
   "metadata": {},
   "outputs": [],
   "source": [
    "# query='''select ID_USERS, date(DATE) as FECHA from COMMENT  WHERE DATE LIKE '2023%' ORDER BY DATE ASC LIMIT (10)'''\n",
    "# query='''select ID_USERS, date(DATE) as FECHA from COMMENT WHERE DATE BETWEEN '%-01-%' AND '%-02-%' ORDER BY DATE ASC LIMIT (10)'''\n",
    "# query='''select ID_USERS, strftime ('%Y',DATE) as YEAR from COMMENT ORDER BY DATE ASC LIMIT (10)'''              # Extraer ano\n",
    "# query='''select ID_USERS, strftime ('%m',DATE) as MONTH from COMMENT ORDER BY DATE ASC LIMIT (10)'''             # Extraer mes\n",
    "# query='''select ID_USERS, strftime ('%d',DATE) as DAY from COMMENT ORDER BY DATE ASC LIMIT (10)'''               # Extraer dia\n",
    "# query='''select ID_USERS, strftime ('%w',DATE) as DAY_WEEK from COMMENT ORDER BY DATE ASC LIMIT (10)'''          # Extraer dia_semana, donde 0 es domingo\n",
    "# query='''select ID_USERS, DATE from COMMENT ORDER BY DATE ASC LIMIT (10)'''                                      # Extraer dia_semana, agregando 1 valor para que sea de 1 a 7\n",
    "\n",
    "# variable=f.sql_query(query,cursor)\n",
    "# variable.iloc[:,1]=variable.iloc[:,1].astype(int)\n",
    "# variable.info()\n",
    "         \n"
   ]
  },
  {
   "cell_type": "code",
   "execution_count": 14,
   "metadata": {},
   "outputs": [
    {
     "data": {
      "text/html": [
       "<div>\n",
       "<style scoped>\n",
       "    .dataframe tbody tr th:only-of-type {\n",
       "        vertical-align: middle;\n",
       "    }\n",
       "\n",
       "    .dataframe tbody tr th {\n",
       "        vertical-align: top;\n",
       "    }\n",
       "\n",
       "    .dataframe thead th {\n",
       "        text-align: right;\n",
       "    }\n",
       "</style>\n",
       "<table border=\"1\" class=\"dataframe\">\n",
       "  <thead>\n",
       "    <tr style=\"text-align: right;\">\n",
       "      <th></th>\n",
       "      <th>ID_USERS</th>\n",
       "      <th>DAY_WEEK</th>\n",
       "    </tr>\n",
       "  </thead>\n",
       "  <tbody>\n",
       "    <tr>\n",
       "      <th>0</th>\n",
       "      <td>1879</td>\n",
       "      <td>2</td>\n",
       "    </tr>\n",
       "    <tr>\n",
       "      <th>1</th>\n",
       "      <td>270</td>\n",
       "      <td>2</td>\n",
       "    </tr>\n",
       "    <tr>\n",
       "      <th>2</th>\n",
       "      <td>1878</td>\n",
       "      <td>5</td>\n",
       "    </tr>\n",
       "    <tr>\n",
       "      <th>3</th>\n",
       "      <td>754</td>\n",
       "      <td>1</td>\n",
       "    </tr>\n",
       "    <tr>\n",
       "      <th>4</th>\n",
       "      <td>753</td>\n",
       "      <td>6</td>\n",
       "    </tr>\n",
       "  </tbody>\n",
       "</table>\n",
       "</div>"
      ],
      "text/plain": [
       "   ID_USERS DAY_WEEK\n",
       "0      1879        2\n",
       "1       270        2\n",
       "2      1878        5\n",
       "3       754        1\n",
       "4       753        6"
      ]
     },
     "execution_count": 14,
     "metadata": {},
     "output_type": "execute_result"
    }
   ],
   "source": [
    "variable.head()"
   ]
  },
  {
   "attachments": {},
   "cell_type": "markdown",
   "metadata": {},
   "source": [
    "En el caso que la query extraiga el día de la semana."
   ]
  },
  {
   "cell_type": "code",
   "execution_count": 10,
   "metadata": {},
   "outputs": [],
   "source": [
    "dicc_dia={0:\"domingo\",1:\"lunes\",2:\"martes\",3:\"miercoles\",4:\"jueves\",5:\"viernes\",6:\"sabado\"}\n",
    "# variable['DAY_WEEK']=variable['DAY_WEEK'].map(dicc_dia)\n",
    "# variable"
   ]
  },
  {
   "cell_type": "code",
   "execution_count": 18,
   "metadata": {},
   "outputs": [
    {
     "name": "stderr",
     "output_type": "stream",
     "text": [
      "C:\\Users\\Javier\\AppData\\Local\\Temp\\ipykernel_3180\\1043526812.py:3: FutureWarning: In a future version, `df.iloc[:, i] = newvals` will attempt to set the values inplace instead of always setting a new array. To retain the old behavior, use either `df[df.columns[i]] = newvals` or, if columns are non-unique, `df.isetitem(i, newvals)`\n",
      "  total.iloc[:,1]=total.iloc[:,1].astype(int)\n"
     ]
    },
    {
     "data": {
      "text/html": [
       "<div>\n",
       "<style scoped>\n",
       "    .dataframe tbody tr th:only-of-type {\n",
       "        vertical-align: middle;\n",
       "    }\n",
       "\n",
       "    .dataframe tbody tr th {\n",
       "        vertical-align: top;\n",
       "    }\n",
       "\n",
       "    .dataframe thead th {\n",
       "        text-align: right;\n",
       "    }\n",
       "</style>\n",
       "<table border=\"1\" class=\"dataframe\">\n",
       "  <thead>\n",
       "    <tr style=\"text-align: right;\">\n",
       "      <th></th>\n",
       "      <th>COMENTARIOS</th>\n",
       "      <th>YEAR</th>\n",
       "    </tr>\n",
       "  </thead>\n",
       "  <tbody>\n",
       "    <tr>\n",
       "      <th>0</th>\n",
       "      <td>1</td>\n",
       "      <td>2005</td>\n",
       "    </tr>\n",
       "    <tr>\n",
       "      <th>1</th>\n",
       "      <td>3</td>\n",
       "      <td>2007</td>\n",
       "    </tr>\n",
       "    <tr>\n",
       "      <th>2</th>\n",
       "      <td>88</td>\n",
       "      <td>2008</td>\n",
       "    </tr>\n",
       "    <tr>\n",
       "      <th>3</th>\n",
       "      <td>129</td>\n",
       "      <td>2009</td>\n",
       "    </tr>\n",
       "    <tr>\n",
       "      <th>4</th>\n",
       "      <td>168</td>\n",
       "      <td>2010</td>\n",
       "    </tr>\n",
       "    <tr>\n",
       "      <th>5</th>\n",
       "      <td>166</td>\n",
       "      <td>2011</td>\n",
       "    </tr>\n",
       "    <tr>\n",
       "      <th>6</th>\n",
       "      <td>264</td>\n",
       "      <td>2012</td>\n",
       "    </tr>\n",
       "    <tr>\n",
       "      <th>7</th>\n",
       "      <td>668</td>\n",
       "      <td>2013</td>\n",
       "    </tr>\n",
       "    <tr>\n",
       "      <th>8</th>\n",
       "      <td>921</td>\n",
       "      <td>2014</td>\n",
       "    </tr>\n",
       "    <tr>\n",
       "      <th>9</th>\n",
       "      <td>1091</td>\n",
       "      <td>2015</td>\n",
       "    </tr>\n",
       "    <tr>\n",
       "      <th>10</th>\n",
       "      <td>935</td>\n",
       "      <td>2016</td>\n",
       "    </tr>\n",
       "    <tr>\n",
       "      <th>11</th>\n",
       "      <td>893</td>\n",
       "      <td>2017</td>\n",
       "    </tr>\n",
       "    <tr>\n",
       "      <th>12</th>\n",
       "      <td>848</td>\n",
       "      <td>2018</td>\n",
       "    </tr>\n",
       "    <tr>\n",
       "      <th>13</th>\n",
       "      <td>917</td>\n",
       "      <td>2019</td>\n",
       "    </tr>\n",
       "    <tr>\n",
       "      <th>14</th>\n",
       "      <td>1326</td>\n",
       "      <td>2020</td>\n",
       "    </tr>\n",
       "    <tr>\n",
       "      <th>15</th>\n",
       "      <td>928</td>\n",
       "      <td>2021</td>\n",
       "    </tr>\n",
       "    <tr>\n",
       "      <th>16</th>\n",
       "      <td>871</td>\n",
       "      <td>2022</td>\n",
       "    </tr>\n",
       "    <tr>\n",
       "      <th>17</th>\n",
       "      <td>262</td>\n",
       "      <td>2023</td>\n",
       "    </tr>\n",
       "  </tbody>\n",
       "</table>\n",
       "</div>"
      ],
      "text/plain": [
       "    COMENTARIOS  YEAR\n",
       "0             1  2005\n",
       "1             3  2007\n",
       "2            88  2008\n",
       "3           129  2009\n",
       "4           168  2010\n",
       "5           166  2011\n",
       "6           264  2012\n",
       "7           668  2013\n",
       "8           921  2014\n",
       "9          1091  2015\n",
       "10          935  2016\n",
       "11          893  2017\n",
       "12          848  2018\n",
       "13          917  2019\n",
       "14         1326  2020\n",
       "15          928  2021\n",
       "16          871  2022\n",
       "17          262  2023"
      ]
     },
     "execution_count": 18,
     "metadata": {},
     "output_type": "execute_result"
    }
   ],
   "source": [
    "query='''select count (COMMENT) AS COMENTARIOS, strftime ('%Y',DATE) as YEAR from COMMENT GROUP BY YEAR ORDER BY DATE ASC'''\n",
    "total=f.sql_query(query,cursor)\n",
    "total.iloc[:,1]=total.iloc[:,1].astype(int)\n",
    "total"
   ]
  },
  {
   "attachments": {},
   "cell_type": "markdown",
   "metadata": {},
   "source": [
    "Podemos observar que en el año 2006 no había datos, esto es muy probable porque la tienda empezaría a funcionar en el 2005 y de ahí que los primeros años, los comentarios no existieran o fueran muy pocos."
   ]
  },
  {
   "cell_type": "code",
   "execution_count": 19,
   "metadata": {},
   "outputs": [
    {
     "data": {
      "text/html": [
       "<div>\n",
       "<style scoped>\n",
       "    .dataframe tbody tr th:only-of-type {\n",
       "        vertical-align: middle;\n",
       "    }\n",
       "\n",
       "    .dataframe tbody tr th {\n",
       "        vertical-align: top;\n",
       "    }\n",
       "\n",
       "    .dataframe thead th {\n",
       "        text-align: right;\n",
       "    }\n",
       "</style>\n",
       "<table border=\"1\" class=\"dataframe\">\n",
       "  <thead>\n",
       "    <tr style=\"text-align: right;\">\n",
       "      <th></th>\n",
       "      <th>COMENTARIOS</th>\n",
       "      <th>YEAR</th>\n",
       "    </tr>\n",
       "  </thead>\n",
       "  <tbody>\n",
       "    <tr>\n",
       "      <th>0</th>\n",
       "      <td>1</td>\n",
       "      <td>2005</td>\n",
       "    </tr>\n",
       "    <tr>\n",
       "      <th>1</th>\n",
       "      <td>3</td>\n",
       "      <td>2007</td>\n",
       "    </tr>\n",
       "    <tr>\n",
       "      <th>2</th>\n",
       "      <td>88</td>\n",
       "      <td>2008</td>\n",
       "    </tr>\n",
       "    <tr>\n",
       "      <th>3</th>\n",
       "      <td>129</td>\n",
       "      <td>2009</td>\n",
       "    </tr>\n",
       "    <tr>\n",
       "      <th>4</th>\n",
       "      <td>168</td>\n",
       "      <td>2010</td>\n",
       "    </tr>\n",
       "    <tr>\n",
       "      <th>5</th>\n",
       "      <td>166</td>\n",
       "      <td>2011</td>\n",
       "    </tr>\n",
       "    <tr>\n",
       "      <th>6</th>\n",
       "      <td>264</td>\n",
       "      <td>2012</td>\n",
       "    </tr>\n",
       "    <tr>\n",
       "      <th>7</th>\n",
       "      <td>668</td>\n",
       "      <td>2013</td>\n",
       "    </tr>\n",
       "    <tr>\n",
       "      <th>8</th>\n",
       "      <td>921</td>\n",
       "      <td>2014</td>\n",
       "    </tr>\n",
       "    <tr>\n",
       "      <th>9</th>\n",
       "      <td>1091</td>\n",
       "      <td>2015</td>\n",
       "    </tr>\n",
       "    <tr>\n",
       "      <th>10</th>\n",
       "      <td>935</td>\n",
       "      <td>2016</td>\n",
       "    </tr>\n",
       "    <tr>\n",
       "      <th>11</th>\n",
       "      <td>893</td>\n",
       "      <td>2017</td>\n",
       "    </tr>\n",
       "    <tr>\n",
       "      <th>12</th>\n",
       "      <td>848</td>\n",
       "      <td>2018</td>\n",
       "    </tr>\n",
       "    <tr>\n",
       "      <th>13</th>\n",
       "      <td>917</td>\n",
       "      <td>2019</td>\n",
       "    </tr>\n",
       "    <tr>\n",
       "      <th>14</th>\n",
       "      <td>1326</td>\n",
       "      <td>2020</td>\n",
       "    </tr>\n",
       "    <tr>\n",
       "      <th>15</th>\n",
       "      <td>928</td>\n",
       "      <td>2021</td>\n",
       "    </tr>\n",
       "    <tr>\n",
       "      <th>16</th>\n",
       "      <td>871</td>\n",
       "      <td>2022</td>\n",
       "    </tr>\n",
       "    <tr>\n",
       "      <th>17</th>\n",
       "      <td>262</td>\n",
       "      <td>2023</td>\n",
       "    </tr>\n",
       "    <tr>\n",
       "      <th>18</th>\n",
       "      <td>0</td>\n",
       "      <td>2006</td>\n",
       "    </tr>\n",
       "  </tbody>\n",
       "</table>\n",
       "</div>"
      ],
      "text/plain": [
       "    COMENTARIOS  YEAR\n",
       "0             1  2005\n",
       "1             3  2007\n",
       "2            88  2008\n",
       "3           129  2009\n",
       "4           168  2010\n",
       "5           166  2011\n",
       "6           264  2012\n",
       "7           668  2013\n",
       "8           921  2014\n",
       "9          1091  2015\n",
       "10          935  2016\n",
       "11          893  2017\n",
       "12          848  2018\n",
       "13          917  2019\n",
       "14         1326  2020\n",
       "15          928  2021\n",
       "16          871  2022\n",
       "17          262  2023\n",
       "18            0  2006"
      ]
     },
     "execution_count": 19,
     "metadata": {},
     "output_type": "execute_result"
    }
   ],
   "source": [
    "total.loc[len(total)] = [0,2006]\n",
    "total\n"
   ]
  },
  {
   "cell_type": "code",
   "execution_count": 23,
   "metadata": {},
   "outputs": [
    {
     "name": "stderr",
     "output_type": "stream",
     "text": [
      "C:\\Users\\Javier\\AppData\\Local\\Temp\\ipykernel_3180\\1809138985.py:5: FutureWarning: In a future version, `df.iloc[:, i] = newvals` will attempt to set the values inplace instead of always setting a new array. To retain the old behavior, use either `df[df.columns[i]] = newvals` or, if columns are non-unique, `df.isetitem(i, newvals)`\n",
      "  total.iloc[:,1]=total.iloc[:,1].astype(int)\n"
     ]
    },
    {
     "data": {
      "image/png": "[encoded data removed]",
      "text/plain": [
       "<Figure size 1000x500 with 1 Axes>"
      ]
     },
     "metadata": {},
     "output_type": "display_data"
    }
   ],
   "source": [
    "plt.figure(figsize=(10,5))\n",
    "query='''select count (COMMENT) AS COMENTARIOS, strftime ('%Y',DATE) as YEAR from COMMENT GROUP BY YEAR'''\n",
    "total=f.sql_query(query,cursor)\n",
    "total.loc[len(total)] = [0,2006]\n",
    "total.iloc[:,1]=total.iloc[:,1].astype(int)\n",
    "plt.hlines(total['YEAR'],xmin=0,\n",
    "           xmax=total['COMENTARIOS'],)\n",
    "plt.yticks(total['YEAR'])\n",
    "plt.xlabel(\"Nº COMENTARIOS\")\n",
    "plt.ylabel(\"AÑOS\")\n",
    "plt.title(\"COMENTARIOS POR AÑO\")\n",
    "\n",
    "file=str('\\Resources\\image\\Comments_per_year')\n",
    "folder+file\n",
    "plt.savefig(folder+file);"
   ]
  },
  {
   "cell_type": "code",
   "execution_count": 24,
   "metadata": {},
   "outputs": [
    {
     "name": "stderr",
     "output_type": "stream",
     "text": [
      "C:\\Users\\Javier\\AppData\\Local\\Temp\\ipykernel_3180\\1671394272.py:5: FutureWarning: In a future version, `df.iloc[:, i] = newvals` will attempt to set the values inplace instead of always setting a new array. To retain the old behavior, use either `df[df.columns[i]] = newvals` or, if columns are non-unique, `df.isetitem(i, newvals)`\n",
      "  total.iloc[:,1]=total.iloc[:,1].astype(int)\n"
     ]
    },
    {
     "data": {
      "image/png": "[encoded data removed]",
      "text/plain": [
       "<Figure size 1000x500 with 1 Axes>"
      ]
     },
     "metadata": {},
     "output_type": "display_data"
    }
   ],
   "source": [
    "plt.figure(figsize=(10,5))\n",
    "query='''select count (COMMENT) AS COMENTARIOS, strftime ('%Y',DATE) as YEAR from COMMENT GROUP BY YEAR'''\n",
    "total=f.sql_query(query,cursor)\n",
    "total.loc[len(total)] = [0,2006]\n",
    "total.iloc[:,1]=total.iloc[:,1].astype(int)\n",
    "sns.barplot(x=total['YEAR'],y=total['COMENTARIOS'],color=\"steelblue\")\n",
    "plt.ylabel(\"Nº COMENTARIOS\")\n",
    "plt.xlabel(\"AÑOS\")\n",
    "plt.title(\"COMENTARIOS POR AÑO\")\n",
    "file=str('\\Resources\\image\\Comments_per_year_2')\n",
    "folder+file\n",
    "plt.savefig(folder+file);"
   ]
  },
  {
   "cell_type": "code",
   "execution_count": 25,
   "metadata": {},
   "outputs": [
    {
     "name": "stderr",
     "output_type": "stream",
     "text": [
      "C:\\Users\\Javier\\AppData\\Local\\Temp\\ipykernel_3180\\388559175.py:3: FutureWarning: In a future version, `df.iloc[:, i] = newvals` will attempt to set the values inplace instead of always setting a new array. To retain the old behavior, use either `df[df.columns[i]] = newvals` or, if columns are non-unique, `df.isetitem(i, newvals)`\n",
      "  total.iloc[:,1]=total.iloc[:,1].astype(int)\n"
     ]
    },
    {
     "data": {
      "text/html": [
       "<div>\n",
       "<style scoped>\n",
       "    .dataframe tbody tr th:only-of-type {\n",
       "        vertical-align: middle;\n",
       "    }\n",
       "\n",
       "    .dataframe tbody tr th {\n",
       "        vertical-align: top;\n",
       "    }\n",
       "\n",
       "    .dataframe thead th {\n",
       "        text-align: right;\n",
       "    }\n",
       "</style>\n",
       "<table border=\"1\" class=\"dataframe\">\n",
       "  <thead>\n",
       "    <tr style=\"text-align: right;\">\n",
       "      <th></th>\n",
       "      <th>COMENTARIOS</th>\n",
       "      <th>MONTH</th>\n",
       "    </tr>\n",
       "  </thead>\n",
       "  <tbody>\n",
       "    <tr>\n",
       "      <th>0</th>\n",
       "      <td>1035</td>\n",
       "      <td>1</td>\n",
       "    </tr>\n",
       "    <tr>\n",
       "      <th>1</th>\n",
       "      <td>922</td>\n",
       "      <td>2</td>\n",
       "    </tr>\n",
       "    <tr>\n",
       "      <th>2</th>\n",
       "      <td>791</td>\n",
       "      <td>3</td>\n",
       "    </tr>\n",
       "    <tr>\n",
       "      <th>3</th>\n",
       "      <td>763</td>\n",
       "      <td>4</td>\n",
       "    </tr>\n",
       "    <tr>\n",
       "      <th>4</th>\n",
       "      <td>774</td>\n",
       "      <td>5</td>\n",
       "    </tr>\n",
       "    <tr>\n",
       "      <th>5</th>\n",
       "      <td>662</td>\n",
       "      <td>6</td>\n",
       "    </tr>\n",
       "    <tr>\n",
       "      <th>6</th>\n",
       "      <td>854</td>\n",
       "      <td>7</td>\n",
       "    </tr>\n",
       "    <tr>\n",
       "      <th>7</th>\n",
       "      <td>958</td>\n",
       "      <td>8</td>\n",
       "    </tr>\n",
       "    <tr>\n",
       "      <th>8</th>\n",
       "      <td>1051</td>\n",
       "      <td>9</td>\n",
       "    </tr>\n",
       "    <tr>\n",
       "      <th>9</th>\n",
       "      <td>753</td>\n",
       "      <td>10</td>\n",
       "    </tr>\n",
       "    <tr>\n",
       "      <th>10</th>\n",
       "      <td>962</td>\n",
       "      <td>11</td>\n",
       "    </tr>\n",
       "    <tr>\n",
       "      <th>11</th>\n",
       "      <td>954</td>\n",
       "      <td>12</td>\n",
       "    </tr>\n",
       "  </tbody>\n",
       "</table>\n",
       "</div>"
      ],
      "text/plain": [
       "    COMENTARIOS  MONTH\n",
       "0          1035      1\n",
       "1           922      2\n",
       "2           791      3\n",
       "3           763      4\n",
       "4           774      5\n",
       "5           662      6\n",
       "6           854      7\n",
       "7           958      8\n",
       "8          1051      9\n",
       "9           753     10\n",
       "10          962     11\n",
       "11          954     12"
      ]
     },
     "execution_count": 25,
     "metadata": {},
     "output_type": "execute_result"
    }
   ],
   "source": [
    "query='''select count (COMMENT) AS COMENTARIOS, strftime ('%m',DATE) as MONTH from COMMENT GROUP BY MONTH'''   \n",
    "total=f.sql_query(query,cursor)\n",
    "total.iloc[:,1]=total.iloc[:,1].astype(int)\n",
    "total"
   ]
  },
  {
   "cell_type": "code",
   "execution_count": 26,
   "metadata": {},
   "outputs": [
    {
     "name": "stderr",
     "output_type": "stream",
     "text": [
      "C:\\Users\\Javier\\AppData\\Local\\Temp\\ipykernel_3180\\533552165.py:4: FutureWarning: In a future version, `df.iloc[:, i] = newvals` will attempt to set the values inplace instead of always setting a new array. To retain the old behavior, use either `df[df.columns[i]] = newvals` or, if columns are non-unique, `df.isetitem(i, newvals)`\n",
      "  total.iloc[:,1]=total.iloc[:,1].astype(int)\n"
     ]
    },
    {
     "data": {
      "image/png": "[encoded data removed]",
      "text/plain": [
       "<Figure size 1000x500 with 1 Axes>"
      ]
     },
     "metadata": {},
     "output_type": "display_data"
    }
   ],
   "source": [
    "plt.figure(figsize=(10,5))\n",
    "query='''select count (COMMENT) AS COMENTARIOS, strftime ('%m',DATE) as MONTH from COMMENT GROUP BY MONTH'''   \n",
    "total=f.sql_query(query,cursor)\n",
    "total.iloc[:,1]=total.iloc[:,1].astype(int)\n",
    "sns.barplot(x=total['MONTH'],y=total['COMENTARIOS'],color=\"steelblue\")\n",
    "plt.ylabel(\"Nº COMENTARIOS\")\n",
    "plt.xlabel(\"MESES\")\n",
    "plt.title(\"COMENTARIOS POR MESES\")\n",
    "file=str('\\Resources\\image\\Comments_per_month')\n",
    "folder+file\n",
    "plt.savefig(folder+file);"
   ]
  },
  {
   "attachments": {},
   "cell_type": "markdown",
   "metadata": {},
   "source": [
    "Se observa mucha estabilidad en los datos según los meses, siendo los picos en enero (coincidiendo con Reyes) y en Septiembre (coincidiendo con la vuelta en la mayoría de los casos de las vacaciones).\n",
    "\n",
    "El tema de las vacaciones puede ser algo interesante de evaluar en el sentido de si los usuarios tienen pareja con niños o si realizan sus compras durante los meses estivales anteriores y comentan a la vuelta."
   ]
  },
  {
   "cell_type": "code",
   "execution_count": 27,
   "metadata": {},
   "outputs": [
    {
     "name": "stderr",
     "output_type": "stream",
     "text": [
      "C:\\Users\\Javier\\AppData\\Local\\Temp\\ipykernel_3180\\1783956544.py:3: FutureWarning: In a future version, `df.iloc[:, i] = newvals` will attempt to set the values inplace instead of always setting a new array. To retain the old behavior, use either `df[df.columns[i]] = newvals` or, if columns are non-unique, `df.isetitem(i, newvals)`\n",
      "  total.iloc[:,1]=total.iloc[:,1].astype(int)\n"
     ]
    },
    {
     "data": {
      "text/html": [
       "<div>\n",
       "<style scoped>\n",
       "    .dataframe tbody tr th:only-of-type {\n",
       "        vertical-align: middle;\n",
       "    }\n",
       "\n",
       "    .dataframe tbody tr th {\n",
       "        vertical-align: top;\n",
       "    }\n",
       "\n",
       "    .dataframe thead th {\n",
       "        text-align: right;\n",
       "    }\n",
       "</style>\n",
       "<table border=\"1\" class=\"dataframe\">\n",
       "  <thead>\n",
       "    <tr style=\"text-align: right;\">\n",
       "      <th></th>\n",
       "      <th>COMENTARIOS</th>\n",
       "      <th>DAY_WEEK</th>\n",
       "    </tr>\n",
       "  </thead>\n",
       "  <tbody>\n",
       "    <tr>\n",
       "      <th>0</th>\n",
       "      <td>987</td>\n",
       "      <td>domingo</td>\n",
       "    </tr>\n",
       "    <tr>\n",
       "      <th>1</th>\n",
       "      <td>1690</td>\n",
       "      <td>lunes</td>\n",
       "    </tr>\n",
       "    <tr>\n",
       "      <th>2</th>\n",
       "      <td>1763</td>\n",
       "      <td>martes</td>\n",
       "    </tr>\n",
       "    <tr>\n",
       "      <th>3</th>\n",
       "      <td>1795</td>\n",
       "      <td>miercoles</td>\n",
       "    </tr>\n",
       "    <tr>\n",
       "      <th>4</th>\n",
       "      <td>1752</td>\n",
       "      <td>jueves</td>\n",
       "    </tr>\n",
       "    <tr>\n",
       "      <th>5</th>\n",
       "      <td>1465</td>\n",
       "      <td>viernes</td>\n",
       "    </tr>\n",
       "    <tr>\n",
       "      <th>6</th>\n",
       "      <td>1027</td>\n",
       "      <td>sabado</td>\n",
       "    </tr>\n",
       "  </tbody>\n",
       "</table>\n",
       "</div>"
      ],
      "text/plain": [
       "   COMENTARIOS   DAY_WEEK\n",
       "0          987    domingo\n",
       "1         1690      lunes\n",
       "2         1763     martes\n",
       "3         1795  miercoles\n",
       "4         1752     jueves\n",
       "5         1465    viernes\n",
       "6         1027     sabado"
      ]
     },
     "execution_count": 27,
     "metadata": {},
     "output_type": "execute_result"
    }
   ],
   "source": [
    "query='''select count (COMMENT) AS COMENTARIOS, strftime ('%w',DATE) as DAY_WEEK from COMMENT GROUP BY DAY_WEEK'''   \n",
    "total=f.sql_query(query,cursor)\n",
    "total.iloc[:,1]=total.iloc[:,1].astype(int)\n",
    "total['DAY_WEEK']=total['DAY_WEEK'].map(dicc_dia)\n",
    "total"
   ]
  },
  {
   "cell_type": "code",
   "execution_count": 28,
   "metadata": {},
   "outputs": [
    {
     "name": "stderr",
     "output_type": "stream",
     "text": [
      "C:\\Users\\Javier\\AppData\\Local\\Temp\\ipykernel_3180\\823842860.py:4: FutureWarning: In a future version, `df.iloc[:, i] = newvals` will attempt to set the values inplace instead of always setting a new array. To retain the old behavior, use either `df[df.columns[i]] = newvals` or, if columns are non-unique, `df.isetitem(i, newvals)`\n",
      "  total.iloc[:,1]=total.iloc[:,1].astype(int)\n"
     ]
    },
    {
     "data": {
      "image/png": "[encoded data removed]",
      "text/plain": [
       "<Figure size 1000x500 with 1 Axes>"
      ]
     },
     "metadata": {},
     "output_type": "display_data"
    }
   ],
   "source": [
    "plt.figure(figsize=(10,5))\n",
    "query='''select count (COMMENT) AS COMENTARIOS, strftime ('%w',DATE) as DAY_WEEK from COMMENT GROUP BY DAY_WEEK'''   \n",
    "total=f.sql_query(query,cursor)\n",
    "total.iloc[:,1]=total.iloc[:,1].astype(int)\n",
    "total['DAY_WEEK']=total['DAY_WEEK'].map(dicc_dia)\n",
    "sns.barplot(x=total['DAY_WEEK'],y=total['COMENTARIOS'],color=\"steelblue\")\n",
    "plt.ylabel(\"Nº COMENTARIOS\")\n",
    "plt.xlabel(\"DIA_SEMANA\")\n",
    "plt.title(\"COMENTARIOS POR DIAS DE LA SEMANA\")\n",
    "file=str('\\Resources\\image\\Comments_per_dayofweek')\n",
    "folder+file\n",
    "plt.savefig(folder+file);"
   ]
  },
  {
   "attachments": {},
   "cell_type": "markdown",
   "metadata": {},
   "source": [
    "Se observa que los días de la semana con menores comentarios sean los días del fin de semana y en general se agrupan en los días entre semana.\n",
    "\n",
    "Esto puede ser porque al comercializar un producto de ocio, esté se compre y se comente fuera del fin de semana, que es cuando más podría ser utilizado al no ser productos de consumo inmediato."
   ]
  },
  {
   "attachments": {},
   "cell_type": "markdown",
   "metadata": {},
   "source": [
    "Vamos a juntar las 3 gráficas en subplots.\n",
    "Aquí agregaremos colores en las paletas para incidir en los datos máximos y mínimos."
   ]
  },
  {
   "cell_type": "code",
   "execution_count": 74,
   "metadata": {},
   "outputs": [
    {
     "name": "stderr",
     "output_type": "stream",
     "text": [
      "C:\\Users\\Javier\\AppData\\Local\\Temp\\ipykernel_2320\\1663279954.py:13: FutureWarning: In a future version, `df.iloc[:, i] = newvals` will attempt to set the values inplace instead of always setting a new array. To retain the old behavior, use either `df[df.columns[i]] = newvals` or, if columns are non-unique, `df.isetitem(i, newvals)`\n",
      "  total.iloc[:,1]=total.iloc[:,1].astype(int)\n",
      "C:\\Users\\Javier\\AppData\\Local\\Temp\\ipykernel_2320\\1663279954.py:20: FutureWarning: In a future version, `df.iloc[:, i] = newvals` will attempt to set the values inplace instead of always setting a new array. To retain the old behavior, use either `df[df.columns[i]] = newvals` or, if columns are non-unique, `df.isetitem(i, newvals)`\n",
      "  total.iloc[:,1]=total.iloc[:,1].astype(int)\n",
      "C:\\Users\\Javier\\AppData\\Local\\Temp\\ipykernel_2320\\1663279954.py:27: FutureWarning: In a future version, `df.iloc[:, i] = newvals` will attempt to set the values inplace instead of always setting a new array. To retain the old behavior, use either `df[df.columns[i]] = newvals` or, if columns are non-unique, `df.isetitem(i, newvals)`\n",
      "  total.iloc[:,1]=total.iloc[:,1].astype(int)\n",
      "C:\\Users\\Javier\\AppData\\Local\\Temp\\ipykernel_2320\\1663279954.py:38: UserWarning: Tight layout not applied. The bottom and top margins cannot be made large enough to accommodate all axes decorations.\n",
      "  fig.tight_layout()\n"
     ]
    },
    {
     "data": {
      "image/png": "[encoded data removed]",
      "text/plain": [
       "<Figure size 1500x500 with 3 Axes>"
      ]
     },
     "metadata": {},
     "output_type": "display_data"
    }
   ],
   "source": [
    "fig, axes = plt.subplots(1, 3, figsize=(15,5), sharey=True)\n",
    "axes[0].set_position([0,1.5,0.5,0.300])\n",
    "axes[1].set_position([0.5,1.5,0.2,0.300])\n",
    "axes[2].set_position([1.5,1.5,0.2,0.300])\n",
    "\n",
    "label=[\"Año\",\"Mes\",\"Dia de la semana\"]\n",
    "\n",
    "'''PLOT 0'''\n",
    "\n",
    "query='''select count (COMMENT) AS COMENTARIOS, strftime ('%Y',DATE) as YEAR from COMMENT GROUP BY YEAR'''\n",
    "total=f.sql_query(query,cursor)\n",
    "total.loc[len(total)] = [0,2006]\n",
    "total.iloc[:,1]=total.iloc[:,1].astype(int)\n",
    "sns.barplot(x=total['YEAR'],y=total['COMENTARIOS'],color=\"skyblue\", ax=axes[0])\n",
    "\n",
    "'''PLOT 1'''\n",
    "\n",
    "query='''select count (COMMENT) AS COMENTARIOS, strftime ('%m',DATE) as MONTH from COMMENT GROUP BY MONTH'''   \n",
    "total=f.sql_query(query,cursor)\n",
    "total.iloc[:,1]=total.iloc[:,1].astype(int)\n",
    "sns.barplot(x=total['MONTH'],y=total['COMENTARIOS'],color=\"steelblue\", ax=axes[1])\n",
    "\n",
    "'''PLOT 2'''\n",
    "\n",
    "query='''select count (COMMENT) AS COMENTARIOS, strftime ('%w',DATE) as DAY_WEEK from COMMENT GROUP BY DAY_WEEK'''   \n",
    "total=f.sql_query(query,cursor)\n",
    "total.iloc[:,1]=total.iloc[:,1].astype(int)\n",
    "total['DAY_WEEK']=total['DAY_WEEK'].map(dicc_dia)\n",
    "sns.barplot(x=total['DAY_WEEK'],y=total['COMENTARIOS'],color=\"teal\", ax=axes[2])\n",
    "\n",
    "for i in range (0,3):\n",
    "    axes[i].set_ylabel('')\n",
    "    axes[i].set_xlabel('')\n",
    "    axes[i].set_title(label[i])\n",
    "    axes[i].set_xticklabels(axes[i].get_xticklabels(), rotation=45, fontsize=7)\n",
    "\n",
    "fig.suptitle(\"Estudio de los comentarios por fechas\",fontsize=15)\n",
    "fig.tight_layout() \n",
    "file=str('\\Resources\\image\\Comments_per_date.png')\n",
    "folder+file\n",
    "fig.subplots_adjust(top=0.85)\n",
    "plt.savefig(folder+file);\n"
   ]
  },
  {
   "attachments": {},
   "cell_type": "markdown",
   "metadata": {},
   "source": [
    "#### Estudio sobre el ratio de los comentarios que se realizan."
   ]
  },
  {
   "attachments": {},
   "cell_type": "markdown",
   "metadata": {},
   "source": [
    "1.- Visualizamos los datos:"
   ]
  },
  {
   "cell_type": "code",
   "execution_count": 29,
   "metadata": {},
   "outputs": [
    {
     "data": {
      "image/png": "[encoded data removed]",
      "text/plain": [
       "<Figure size 1000x500 with 1 Axes>"
      ]
     },
     "metadata": {},
     "output_type": "display_data"
    }
   ],
   "source": [
    "plt.figure(figsize=(10,5))\n",
    "query='''SELECT PRODUCT,avg(RATIO) as PROM FROM COMMENTS_PER_PRODUCT group BY PRODUCT ORDER BY avg(RATIO) DESC'''\n",
    "total=f.sql_query(query,cursor)\n",
    "sns.histplot(data=total,bins=100)\n",
    "plt.xticks()\n",
    "plt.ylabel(\"Nº PRODUCTOS\")\n",
    "plt.xlabel(\"VALORACION\")\n",
    "plt.title(\"DISTRIBUCION DE RATIOS DE LOS PRODUCTOS\")\n",
    "file=str(r'\\Resources\\image\\ratios_per_product')\n",
    "folder+file\n",
    "plt.savefig(folder+file);"
   ]
  },
  {
   "attachments": {},
   "cell_type": "markdown",
   "metadata": {},
   "source": [
    "En general se puede observar que los productos se encuentran entre 4.0 y 5.0. \n",
    "\n",
    "¿Podemos considerar  los valores por debajo de 4.0 como anómalos? ¿y los valores de 5.0?"
   ]
  },
  {
   "attachments": {},
   "cell_type": "markdown",
   "metadata": {},
   "source": [
    "Hacemos un *boxplot* para tener una visualización de los datos de la valoración por cuartiles y decidir."
   ]
  },
  {
   "cell_type": "code",
   "execution_count": 30,
   "metadata": {},
   "outputs": [
    {
     "data": {
      "image/png": "[encoded data removed]",
      "text/plain": [
       "<Figure size 1000x500 with 1 Axes>"
      ]
     },
     "metadata": {},
     "output_type": "display_data"
    }
   ],
   "source": [
    "plt.figure(figsize=(10,5))\n",
    "query='''SELECT PRODUCT,avg(RATIO) as PROM FROM COMMENTS_PER_PRODUCT group BY PRODUCT ORDER BY avg(RATIO) DESC'''\n",
    "sns.boxplot(data=f.sql_query(query,cursor)['PROM'])\n",
    "outlier = np.percentile(f.sql_query(query,cursor)['PROM'], 5.5)\n",
    "plt.axhline(y=outlier, xmin=0, xmax=1,color='r', linewidth= 1,linestyle=\"-.\")\n",
    "plt.ylabel(\"VALORACION\")\n",
    "plt.title(\"DISTRIBUCION DE RATIOS DE LOS PRODUCTOS\")\n",
    "file=str(r'\\Resources\\image\\Outliers_per_product')\n",
    "folder+file\n",
    "plt.savefig(folder+file);"
   ]
  },
  {
   "attachments": {},
   "cell_type": "markdown",
   "metadata": {},
   "source": [
    "2.- Outliers:\n",
    "\n",
    "Podemos ver claramente  que los valores por debajo de aprox. 3.5 son *outliers*. \n",
    "\n",
    "No es habitual que un producto de la tienda tenga valores por debajo de este cantidad.\n",
    "\n",
    "¿Cuántos productos serían?"
   ]
  },
  {
   "cell_type": "code",
   "execution_count": 31,
   "metadata": {},
   "outputs": [
    {
     "name": "stdout",
     "output_type": "stream",
     "text": [
      "El número de productos que son outliers es: 23 \n",
      "lo que representa un porcentaje de 5.15 %\n"
     ]
    }
   ],
   "source": [
    "query='''SELECT PRODUCT,avg(RATIO) AS PROM FROM COMMENTS_PER_PRODUCT GROUP BY PRODUCT HAVING avg (RATIO)<3.7'''\n",
    "\n",
    "outlier=f.sql_query(query,cursor)\n",
    "print(\"El número de productos que son outliers es:\",len(outlier),\"\\nlo que representa un porcentaje de\",round(len(outlier)/len(total)*100,2),\"%\")\n"
   ]
  },
  {
   "attachments": {},
   "cell_type": "markdown",
   "metadata": {},
   "source": [
    "3.- Valor máximo de valoración:"
   ]
  },
  {
   "attachments": {},
   "cell_type": "markdown",
   "metadata": {},
   "source": [
    "¿Cuántos productos tienen una valoración de 5?"
   ]
  },
  {
   "cell_type": "code",
   "execution_count": 33,
   "metadata": {},
   "outputs": [
    {
     "name": "stdout",
     "output_type": "stream",
     "text": [
      "El número de productos que tienen una valoración máxima es: 129 \n",
      "lo que representa un porcentaje de 28.86 %\n"
     ]
    }
   ],
   "source": [
    "query='''SELECT PRODUCT,avg(RATIO) AS PROM FROM COMMENTS_PER_PRODUCT GROUP BY PRODUCT\n",
    " having avg (RATIO)=(SELECT max(RATIO) FROM COMMENTS_PER_PRODUCT GROUP BY PRODUCT)'''\n",
    "maximo=f.sql_query(query,cursor)\n",
    "\n",
    "print(\"El número de productos que tienen una valoración máxima es:\",len(maximo),\"\\nlo que representa un porcentaje de\",round(len(maximo)/len(total)*100,2),\"%\")\n"
   ]
  },
  {
   "attachments": {},
   "cell_type": "markdown",
   "metadata": {},
   "source": [
    "##### Conclusión:\n",
    "\n",
    "Los productos tienen una valoración promedio que oscila entre 3,7 y 5.0, siendo ésta la valoración máxima posible.\n",
    "\n",
    "Con la valoración promedio máxima posible hay 129 productos de los 447, lo que representa el 28,86 % de los productos.\n",
    "\n",
    "También se observa que por debajo de una valoración promedio de 3,7 hay 23 productos, lo que representa un porcentaje 5,15 %."
   ]
  },
  {
   "attachments": {},
   "cell_type": "markdown",
   "metadata": {},
   "source": [
    "#### Estudio sobre los usuarios de los comentarios que se realizan.\n",
    "\n",
    "En este punto hay que tener en cuenta que tenemos pendiente ahora mismo de generar usuarios distintos cuando se encuentran el mismo usuario dentro del mismo producto, ya que no tiene sentido que sea el mismo usuario y hay que discriminarlo. \n",
    "\n",
    "Lo mejor en este punto sería tener users por nick y que esté no pudiera ser el mismo, ya que permitiría poder discernir la autoridad de cada comentario. "
   ]
  },
  {
   "cell_type": "code",
   "execution_count": 3,
   "metadata": {},
   "outputs": [
    {
     "name": "stdout",
     "output_type": "stream",
     "text": [
      "El número de usuarios que han comentado en algún momento un producto es 2021\n"
     ]
    }
   ],
   "source": [
    "query='''SELECT COUNT(COMMENT)AS nº_COMMENTS, USERS.USERS AS USERS\n",
    "FROM COMMENT \n",
    "JOIN USERS\n",
    "ON COMMENT.ID_USERS=USERS.ID\n",
    "GROUP BY USERS\n",
    "ORDER BY nº_COMMENTS DESC\n",
    "'''\n",
    "\n",
    "users=f.sql_query(query,cursor)\n",
    "print(\"El número de usuarios que han comentado en algún momento un producto es\", len(users))"
   ]
  },
  {
   "cell_type": "code",
   "execution_count": 75,
   "metadata": {},
   "outputs": [
    {
     "data": {
      "text/html": [
       "<div>\n",
       "<style scoped>\n",
       "    .dataframe tbody tr th:only-of-type {\n",
       "        vertical-align: middle;\n",
       "    }\n",
       "\n",
       "    .dataframe tbody tr th {\n",
       "        vertical-align: top;\n",
       "    }\n",
       "\n",
       "    .dataframe thead th {\n",
       "        text-align: right;\n",
       "    }\n",
       "</style>\n",
       "<table border=\"1\" class=\"dataframe\">\n",
       "  <thead>\n",
       "    <tr style=\"text-align: right;\">\n",
       "      <th></th>\n",
       "      <th>nº_COMMENTS</th>\n",
       "      <th>USERS</th>\n",
       "    </tr>\n",
       "  </thead>\n",
       "  <tbody>\n",
       "    <tr>\n",
       "      <th>0</th>\n",
       "      <td>105</td>\n",
       "      <td>Miguel</td>\n",
       "    </tr>\n",
       "    <tr>\n",
       "      <th>1</th>\n",
       "      <td>92</td>\n",
       "      <td>Ricardo</td>\n",
       "    </tr>\n",
       "    <tr>\n",
       "      <th>2</th>\n",
       "      <td>90</td>\n",
       "      <td>David</td>\n",
       "    </tr>\n",
       "    <tr>\n",
       "      <th>3</th>\n",
       "      <td>88</td>\n",
       "      <td>Javier</td>\n",
       "    </tr>\n",
       "    <tr>\n",
       "      <th>4</th>\n",
       "      <td>83</td>\n",
       "      <td>Laura</td>\n",
       "    </tr>\n",
       "    <tr>\n",
       "      <th>...</th>\n",
       "      <td>...</td>\n",
       "      <td>...</td>\n",
       "    </tr>\n",
       "    <tr>\n",
       "      <th>2016</th>\n",
       "      <td>1</td>\n",
       "      <td>ALEXANDER_2</td>\n",
       "    </tr>\n",
       "    <tr>\n",
       "      <th>2017</th>\n",
       "      <td>1</td>\n",
       "      <td>ALEX</td>\n",
       "    </tr>\n",
       "    <tr>\n",
       "      <th>2018</th>\n",
       "      <td>1</td>\n",
       "      <td>AINOA</td>\n",
       "    </tr>\n",
       "    <tr>\n",
       "      <th>2019</th>\n",
       "      <td>1</td>\n",
       "      <td>ADRIAN</td>\n",
       "    </tr>\n",
       "    <tr>\n",
       "      <th>2020</th>\n",
       "      <td>1</td>\n",
       "      <td>ACM</td>\n",
       "    </tr>\n",
       "  </tbody>\n",
       "</table>\n",
       "<p>2021 rows × 2 columns</p>\n",
       "</div>"
      ],
      "text/plain": [
       "      nº_COMMENTS        USERS\n",
       "0             105       Miguel\n",
       "1              92      Ricardo\n",
       "2              90        David\n",
       "3              88       Javier\n",
       "4              83        Laura\n",
       "...           ...          ...\n",
       "2016            1  ALEXANDER_2\n",
       "2017            1         ALEX\n",
       "2018            1        AINOA\n",
       "2019            1       ADRIAN\n",
       "2020            1          ACM\n",
       "\n",
       "[2021 rows x 2 columns]"
      ]
     },
     "execution_count": 75,
     "metadata": {},
     "output_type": "execute_result"
    }
   ],
   "source": [
    "users"
   ]
  },
  {
   "cell_type": "markdown",
   "metadata": {},
   "source": [
    "Podemos observar que hay más de 2000 USERS, distintos que han comentado en algún momento sobre los productos. \n",
    "\n",
    "\n",
    "En esta condición es imposible de realizar una visualización de los datos, necesitaríamos algún parámetro más para poder tener una visualización interesante.\n",
    "\n",
    "Es por ello que vamos a usar otra variable más en este estudio, el año del comentario."
   ]
  },
  {
   "cell_type": "code",
   "execution_count": 11,
   "metadata": {},
   "outputs": [
    {
     "data": {
      "text/html": [
       "<div>\n",
       "<style scoped>\n",
       "    .dataframe tbody tr th:only-of-type {\n",
       "        vertical-align: middle;\n",
       "    }\n",
       "\n",
       "    .dataframe tbody tr th {\n",
       "        vertical-align: top;\n",
       "    }\n",
       "\n",
       "    .dataframe thead th {\n",
       "        text-align: right;\n",
       "    }\n",
       "</style>\n",
       "<table border=\"1\" class=\"dataframe\">\n",
       "  <thead>\n",
       "    <tr style=\"text-align: right;\">\n",
       "      <th>YEAR</th>\n",
       "      <th>2005</th>\n",
       "      <th>2007</th>\n",
       "      <th>2008</th>\n",
       "      <th>2009</th>\n",
       "      <th>2010</th>\n",
       "      <th>2011</th>\n",
       "      <th>2012</th>\n",
       "      <th>2013</th>\n",
       "      <th>2014</th>\n",
       "      <th>2015</th>\n",
       "      <th>2016</th>\n",
       "      <th>2017</th>\n",
       "      <th>2018</th>\n",
       "      <th>2019</th>\n",
       "      <th>2020</th>\n",
       "      <th>2021</th>\n",
       "      <th>2022</th>\n",
       "      <th>2023</th>\n",
       "      <th>TOTAL_COMMENTS</th>\n",
       "    </tr>\n",
       "    <tr>\n",
       "      <th>USERS</th>\n",
       "      <th></th>\n",
       "      <th></th>\n",
       "      <th></th>\n",
       "      <th></th>\n",
       "      <th></th>\n",
       "      <th></th>\n",
       "      <th></th>\n",
       "      <th></th>\n",
       "      <th></th>\n",
       "      <th></th>\n",
       "      <th></th>\n",
       "      <th></th>\n",
       "      <th></th>\n",
       "      <th></th>\n",
       "      <th></th>\n",
       "      <th></th>\n",
       "      <th></th>\n",
       "      <th></th>\n",
       "      <th></th>\n",
       "    </tr>\n",
       "  </thead>\n",
       "  <tbody>\n",
       "    <tr>\n",
       "      <th>Miguel</th>\n",
       "      <td>NaN</td>\n",
       "      <td>NaN</td>\n",
       "      <td>NaN</td>\n",
       "      <td>NaN</td>\n",
       "      <td>NaN</td>\n",
       "      <td>NaN</td>\n",
       "      <td>1.0</td>\n",
       "      <td>NaN</td>\n",
       "      <td>1.0</td>\n",
       "      <td>6.0</td>\n",
       "      <td>5.0</td>\n",
       "      <td>3.0</td>\n",
       "      <td>2.0</td>\n",
       "      <td>3.0</td>\n",
       "      <td>40.0</td>\n",
       "      <td>33.0</td>\n",
       "      <td>9.0</td>\n",
       "      <td>2.0</td>\n",
       "      <td>105.0</td>\n",
       "    </tr>\n",
       "    <tr>\n",
       "      <th>Ricardo</th>\n",
       "      <td>NaN</td>\n",
       "      <td>NaN</td>\n",
       "      <td>NaN</td>\n",
       "      <td>NaN</td>\n",
       "      <td>NaN</td>\n",
       "      <td>NaN</td>\n",
       "      <td>NaN</td>\n",
       "      <td>NaN</td>\n",
       "      <td>NaN</td>\n",
       "      <td>3.0</td>\n",
       "      <td>7.0</td>\n",
       "      <td>3.0</td>\n",
       "      <td>3.0</td>\n",
       "      <td>1.0</td>\n",
       "      <td>74.0</td>\n",
       "      <td>1.0</td>\n",
       "      <td>NaN</td>\n",
       "      <td>NaN</td>\n",
       "      <td>92.0</td>\n",
       "    </tr>\n",
       "    <tr>\n",
       "      <th>David</th>\n",
       "      <td>NaN</td>\n",
       "      <td>NaN</td>\n",
       "      <td>NaN</td>\n",
       "      <td>NaN</td>\n",
       "      <td>NaN</td>\n",
       "      <td>3.0</td>\n",
       "      <td>2.0</td>\n",
       "      <td>1.0</td>\n",
       "      <td>5.0</td>\n",
       "      <td>4.0</td>\n",
       "      <td>6.0</td>\n",
       "      <td>6.0</td>\n",
       "      <td>1.0</td>\n",
       "      <td>NaN</td>\n",
       "      <td>19.0</td>\n",
       "      <td>19.0</td>\n",
       "      <td>19.0</td>\n",
       "      <td>5.0</td>\n",
       "      <td>90.0</td>\n",
       "    </tr>\n",
       "    <tr>\n",
       "      <th>Javier</th>\n",
       "      <td>NaN</td>\n",
       "      <td>NaN</td>\n",
       "      <td>NaN</td>\n",
       "      <td>NaN</td>\n",
       "      <td>NaN</td>\n",
       "      <td>NaN</td>\n",
       "      <td>NaN</td>\n",
       "      <td>NaN</td>\n",
       "      <td>2.0</td>\n",
       "      <td>5.0</td>\n",
       "      <td>8.0</td>\n",
       "      <td>1.0</td>\n",
       "      <td>9.0</td>\n",
       "      <td>12.0</td>\n",
       "      <td>4.0</td>\n",
       "      <td>13.0</td>\n",
       "      <td>27.0</td>\n",
       "      <td>7.0</td>\n",
       "      <td>88.0</td>\n",
       "    </tr>\n",
       "    <tr>\n",
       "      <th>Laura</th>\n",
       "      <td>NaN</td>\n",
       "      <td>NaN</td>\n",
       "      <td>NaN</td>\n",
       "      <td>NaN</td>\n",
       "      <td>NaN</td>\n",
       "      <td>NaN</td>\n",
       "      <td>1.0</td>\n",
       "      <td>1.0</td>\n",
       "      <td>10.0</td>\n",
       "      <td>4.0</td>\n",
       "      <td>3.0</td>\n",
       "      <td>2.0</td>\n",
       "      <td>11.0</td>\n",
       "      <td>11.0</td>\n",
       "      <td>27.0</td>\n",
       "      <td>3.0</td>\n",
       "      <td>8.0</td>\n",
       "      <td>2.0</td>\n",
       "      <td>83.0</td>\n",
       "    </tr>\n",
       "    <tr>\n",
       "      <th>...</th>\n",
       "      <td>...</td>\n",
       "      <td>...</td>\n",
       "      <td>...</td>\n",
       "      <td>...</td>\n",
       "      <td>...</td>\n",
       "      <td>...</td>\n",
       "      <td>...</td>\n",
       "      <td>...</td>\n",
       "      <td>...</td>\n",
       "      <td>...</td>\n",
       "      <td>...</td>\n",
       "      <td>...</td>\n",
       "      <td>...</td>\n",
       "      <td>...</td>\n",
       "      <td>...</td>\n",
       "      <td>...</td>\n",
       "      <td>...</td>\n",
       "      <td>...</td>\n",
       "      <td>...</td>\n",
       "    </tr>\n",
       "    <tr>\n",
       "      <th>Pablo_4</th>\n",
       "      <td>NaN</td>\n",
       "      <td>NaN</td>\n",
       "      <td>1.0</td>\n",
       "      <td>NaN</td>\n",
       "      <td>NaN</td>\n",
       "      <td>NaN</td>\n",
       "      <td>NaN</td>\n",
       "      <td>NaN</td>\n",
       "      <td>NaN</td>\n",
       "      <td>NaN</td>\n",
       "      <td>NaN</td>\n",
       "      <td>NaN</td>\n",
       "      <td>NaN</td>\n",
       "      <td>NaN</td>\n",
       "      <td>NaN</td>\n",
       "      <td>NaN</td>\n",
       "      <td>NaN</td>\n",
       "      <td>NaN</td>\n",
       "      <td>1.0</td>\n",
       "    </tr>\n",
       "    <tr>\n",
       "      <th>Paco</th>\n",
       "      <td>NaN</td>\n",
       "      <td>NaN</td>\n",
       "      <td>NaN</td>\n",
       "      <td>NaN</td>\n",
       "      <td>NaN</td>\n",
       "      <td>NaN</td>\n",
       "      <td>NaN</td>\n",
       "      <td>NaN</td>\n",
       "      <td>NaN</td>\n",
       "      <td>NaN</td>\n",
       "      <td>NaN</td>\n",
       "      <td>NaN</td>\n",
       "      <td>1.0</td>\n",
       "      <td>NaN</td>\n",
       "      <td>NaN</td>\n",
       "      <td>NaN</td>\n",
       "      <td>NaN</td>\n",
       "      <td>NaN</td>\n",
       "      <td>1.0</td>\n",
       "    </tr>\n",
       "    <tr>\n",
       "      <th>Pakete</th>\n",
       "      <td>NaN</td>\n",
       "      <td>NaN</td>\n",
       "      <td>NaN</td>\n",
       "      <td>NaN</td>\n",
       "      <td>NaN</td>\n",
       "      <td>NaN</td>\n",
       "      <td>NaN</td>\n",
       "      <td>NaN</td>\n",
       "      <td>1.0</td>\n",
       "      <td>NaN</td>\n",
       "      <td>NaN</td>\n",
       "      <td>NaN</td>\n",
       "      <td>NaN</td>\n",
       "      <td>NaN</td>\n",
       "      <td>NaN</td>\n",
       "      <td>NaN</td>\n",
       "      <td>NaN</td>\n",
       "      <td>NaN</td>\n",
       "      <td>1.0</td>\n",
       "    </tr>\n",
       "    <tr>\n",
       "      <th>Fer_4</th>\n",
       "      <td>NaN</td>\n",
       "      <td>NaN</td>\n",
       "      <td>NaN</td>\n",
       "      <td>NaN</td>\n",
       "      <td>NaN</td>\n",
       "      <td>NaN</td>\n",
       "      <td>NaN</td>\n",
       "      <td>1.0</td>\n",
       "      <td>NaN</td>\n",
       "      <td>NaN</td>\n",
       "      <td>NaN</td>\n",
       "      <td>NaN</td>\n",
       "      <td>NaN</td>\n",
       "      <td>NaN</td>\n",
       "      <td>NaN</td>\n",
       "      <td>NaN</td>\n",
       "      <td>NaN</td>\n",
       "      <td>NaN</td>\n",
       "      <td>1.0</td>\n",
       "    </tr>\n",
       "    <tr>\n",
       "      <th>Rosa María</th>\n",
       "      <td>NaN</td>\n",
       "      <td>NaN</td>\n",
       "      <td>NaN</td>\n",
       "      <td>NaN</td>\n",
       "      <td>NaN</td>\n",
       "      <td>NaN</td>\n",
       "      <td>NaN</td>\n",
       "      <td>NaN</td>\n",
       "      <td>NaN</td>\n",
       "      <td>NaN</td>\n",
       "      <td>1.0</td>\n",
       "      <td>NaN</td>\n",
       "      <td>NaN</td>\n",
       "      <td>NaN</td>\n",
       "      <td>NaN</td>\n",
       "      <td>NaN</td>\n",
       "      <td>NaN</td>\n",
       "      <td>NaN</td>\n",
       "      <td>1.0</td>\n",
       "    </tr>\n",
       "  </tbody>\n",
       "</table>\n",
       "<p>2021 rows × 19 columns</p>\n",
       "</div>"
      ],
      "text/plain": [
       "YEAR        2005  2007  2008  2009  2010  2011  2012  2013  2014  2015  2016  \\\n",
       "USERS                                                                          \n",
       "Miguel       NaN   NaN   NaN   NaN   NaN   NaN   1.0   NaN   1.0   6.0   5.0   \n",
       "Ricardo      NaN   NaN   NaN   NaN   NaN   NaN   NaN   NaN   NaN   3.0   7.0   \n",
       "David        NaN   NaN   NaN   NaN   NaN   3.0   2.0   1.0   5.0   4.0   6.0   \n",
       "Javier       NaN   NaN   NaN   NaN   NaN   NaN   NaN   NaN   2.0   5.0   8.0   \n",
       "Laura        NaN   NaN   NaN   NaN   NaN   NaN   1.0   1.0  10.0   4.0   3.0   \n",
       "...          ...   ...   ...   ...   ...   ...   ...   ...   ...   ...   ...   \n",
       "Pablo_4      NaN   NaN   1.0   NaN   NaN   NaN   NaN   NaN   NaN   NaN   NaN   \n",
       "Paco         NaN   NaN   NaN   NaN   NaN   NaN   NaN   NaN   NaN   NaN   NaN   \n",
       "Pakete       NaN   NaN   NaN   NaN   NaN   NaN   NaN   NaN   1.0   NaN   NaN   \n",
       "Fer_4        NaN   NaN   NaN   NaN   NaN   NaN   NaN   1.0   NaN   NaN   NaN   \n",
       "Rosa María   NaN   NaN   NaN   NaN   NaN   NaN   NaN   NaN   NaN   NaN   1.0   \n",
       "\n",
       "YEAR        2017  2018  2019  2020  2021  2022  2023  TOTAL_COMMENTS  \n",
       "USERS                                                                 \n",
       "Miguel       3.0   2.0   3.0  40.0  33.0   9.0   2.0           105.0  \n",
       "Ricardo      3.0   3.0   1.0  74.0   1.0   NaN   NaN            92.0  \n",
       "David        6.0   1.0   NaN  19.0  19.0  19.0   5.0            90.0  \n",
       "Javier       1.0   9.0  12.0   4.0  13.0  27.0   7.0            88.0  \n",
       "Laura        2.0  11.0  11.0  27.0   3.0   8.0   2.0            83.0  \n",
       "...          ...   ...   ...   ...   ...   ...   ...             ...  \n",
       "Pablo_4      NaN   NaN   NaN   NaN   NaN   NaN   NaN             1.0  \n",
       "Paco         NaN   1.0   NaN   NaN   NaN   NaN   NaN             1.0  \n",
       "Pakete       NaN   NaN   NaN   NaN   NaN   NaN   NaN             1.0  \n",
       "Fer_4        NaN   NaN   NaN   NaN   NaN   NaN   NaN             1.0  \n",
       "Rosa María   NaN   NaN   NaN   NaN   NaN   NaN   NaN             1.0  \n",
       "\n",
       "[2021 rows x 19 columns]"
      ]
     },
     "execution_count": 11,
     "metadata": {},
     "output_type": "execute_result"
    }
   ],
   "source": [
    "query='''SELECT COUNT(COMMENT)AS nº_COMMENTS, strftime ('%Y',DATE) as YEAR, USERS.USERS AS USERS\n",
    "FROM COMMENT \n",
    "JOIN USERS\n",
    "ON COMMENT.ID_USERS=USERS.ID\n",
    "GROUP BY USERS,YEAR\n",
    "ORDER BY YEAR asc\n",
    "'''\n",
    "\n",
    "comments_users_per_year=f.sql_query(query,cursor)\n",
    "comments_users_per_year = comments_users_per_year.pivot(index='USERS', columns='YEAR', values='nº_COMMENTS')\n",
    "comments_users_per_year = comments_users_per_year.fillna(0)\n",
    "comments_users_per_year['TOTAL_COMMENTS'] = comments_users_per_year.sum(axis=1)                                             # Genero una columna con el total de comentarios para poder ordenarlos posteriormente\n",
    "comments_users_per_year = comments_users_per_year.sort_values(by='TOTAL_COMMENTS', ascending=False)                         # Ordeno el dataframe de modo descendente en función del total de comentarios de los usuarios.\n",
    "comments_users_per_year"
   ]
  },
  {
   "cell_type": "code",
   "execution_count": 17,
   "metadata": {},
   "outputs": [
    {
     "name": "stdout",
     "output_type": "stream",
     "text": [
      "El número de usuarios que han comentado unicamente una vez es 827 frente al total de usuarios que han comentado que son 2021 \n",
      "lo que representa un total de 40.92 %\n"
     ]
    }
   ],
   "source": [
    "user_comment_once=comments_users_per_year[comments_users_per_year['TOTAL_COMMENTS']==1]\n",
    "print(\"El número de usuarios que han comentado unicamente una vez es\",len(user_comment_once), \"frente al total de usuarios que han comentado que son\", len(comments_users_per_year),\"\\nlo que representa un total de\",round(len(user_comment_once)/len(comments_users_per_year)*100,2),\"%\")"
   ]
  },
  {
   "cell_type": "markdown",
   "metadata": {},
   "source": [
    "Como podemos observar casi la mitad de los usuarios han comentado unicamente una vez un producto comprado. \n",
    "\n",
    "Esto puede significar 2 cosas:\n",
    "\n",
    "- Los usuarios no comentan los productos que compran.\n",
    "\n",
    "- Los usuarios han abandonado esta página web tras una compra."
   ]
  },
  {
   "cell_type": "markdown",
   "metadata": {},
   "source": [
    "Vamos a ver los primeros 50 usuarios que más han comentado, vamos a separar la información en 2 matrices.\n",
    "\n",
    " - La primera con el número de comentarios que han realizado año a año.\n",
    "\n",
    " - La segunda con el total de los comentarios que han realizado.\n",
    "\n",
    "De este modo podemos realizar un *heatmap* con el número de comentarios y saber al a qué corresponden estos comentarios"
   ]
  },
  {
   "cell_type": "code",
   "execution_count": 37,
   "metadata": {},
   "outputs": [
    {
     "data": {
      "text/html": [
       "<div>\n",
       "<style scoped>\n",
       "    .dataframe tbody tr th:only-of-type {\n",
       "        vertical-align: middle;\n",
       "    }\n",
       "\n",
       "    .dataframe tbody tr th {\n",
       "        vertical-align: top;\n",
       "    }\n",
       "\n",
       "    .dataframe thead th {\n",
       "        text-align: right;\n",
       "    }\n",
       "</style>\n",
       "<table border=\"1\" class=\"dataframe\">\n",
       "  <thead>\n",
       "    <tr style=\"text-align: right;\">\n",
       "      <th>YEAR</th>\n",
       "      <th>TOTAL_COMMENTS</th>\n",
       "    </tr>\n",
       "    <tr>\n",
       "      <th>USERS</th>\n",
       "      <th></th>\n",
       "    </tr>\n",
       "  </thead>\n",
       "  <tbody>\n",
       "    <tr>\n",
       "      <th>Miguel</th>\n",
       "      <td>105.0</td>\n",
       "    </tr>\n",
       "    <tr>\n",
       "      <th>Ricardo</th>\n",
       "      <td>92.0</td>\n",
       "    </tr>\n",
       "    <tr>\n",
       "      <th>David</th>\n",
       "      <td>90.0</td>\n",
       "    </tr>\n",
       "    <tr>\n",
       "      <th>Javier</th>\n",
       "      <td>88.0</td>\n",
       "    </tr>\n",
       "    <tr>\n",
       "      <th>Laura</th>\n",
       "      <td>83.0</td>\n",
       "    </tr>\n",
       "    <tr>\n",
       "      <th>esther</th>\n",
       "      <td>78.0</td>\n",
       "    </tr>\n",
       "    <tr>\n",
       "      <th>Alejandro</th>\n",
       "      <td>69.0</td>\n",
       "    </tr>\n",
       "    <tr>\n",
       "      <th>Sonia</th>\n",
       "      <td>69.0</td>\n",
       "    </tr>\n",
       "    <tr>\n",
       "      <th>Paula</th>\n",
       "      <td>66.0</td>\n",
       "    </tr>\n",
       "    <tr>\n",
       "      <th>Marta</th>\n",
       "      <td>65.0</td>\n",
       "    </tr>\n",
       "    <tr>\n",
       "      <th>Cristina</th>\n",
       "      <td>65.0</td>\n",
       "    </tr>\n",
       "    <tr>\n",
       "      <th>Antonio</th>\n",
       "      <td>59.0</td>\n",
       "    </tr>\n",
       "    <tr>\n",
       "      <th>Maria</th>\n",
       "      <td>59.0</td>\n",
       "    </tr>\n",
       "    <tr>\n",
       "      <th>Sergio</th>\n",
       "      <td>59.0</td>\n",
       "    </tr>\n",
       "    <tr>\n",
       "      <th>Sara</th>\n",
       "      <td>58.0</td>\n",
       "    </tr>\n",
       "    <tr>\n",
       "      <th>Daniel</th>\n",
       "      <td>58.0</td>\n",
       "    </tr>\n",
       "    <tr>\n",
       "      <th>Francisco</th>\n",
       "      <td>56.0</td>\n",
       "    </tr>\n",
       "    <tr>\n",
       "      <th>Carlos</th>\n",
       "      <td>56.0</td>\n",
       "    </tr>\n",
       "    <tr>\n",
       "      <th>Ana</th>\n",
       "      <td>53.0</td>\n",
       "    </tr>\n",
       "    <tr>\n",
       "      <th>Juan</th>\n",
       "      <td>50.0</td>\n",
       "    </tr>\n",
       "    <tr>\n",
       "      <th>Irene</th>\n",
       "      <td>50.0</td>\n",
       "    </tr>\n",
       "    <tr>\n",
       "      <th>María</th>\n",
       "      <td>50.0</td>\n",
       "    </tr>\n",
       "    <tr>\n",
       "      <th>Jesús</th>\n",
       "      <td>49.0</td>\n",
       "    </tr>\n",
       "    <tr>\n",
       "      <th>Andrea</th>\n",
       "      <td>46.0</td>\n",
       "    </tr>\n",
       "    <tr>\n",
       "      <th>Marc</th>\n",
       "      <td>46.0</td>\n",
       "    </tr>\n",
       "    <tr>\n",
       "      <th>Alba</th>\n",
       "      <td>46.0</td>\n",
       "    </tr>\n",
       "    <tr>\n",
       "      <th>Jose</th>\n",
       "      <td>45.0</td>\n",
       "    </tr>\n",
       "    <tr>\n",
       "      <th>Virginia</th>\n",
       "      <td>44.0</td>\n",
       "    </tr>\n",
       "    <tr>\n",
       "      <th>Sandra</th>\n",
       "      <td>44.0</td>\n",
       "    </tr>\n",
       "    <tr>\n",
       "      <th>Manuel</th>\n",
       "      <td>44.0</td>\n",
       "    </tr>\n",
       "    <tr>\n",
       "      <th>Silvia</th>\n",
       "      <td>44.0</td>\n",
       "    </tr>\n",
       "    <tr>\n",
       "      <th>Pablo</th>\n",
       "      <td>43.0</td>\n",
       "    </tr>\n",
       "    <tr>\n",
       "      <th>Alberto</th>\n",
       "      <td>42.0</td>\n",
       "    </tr>\n",
       "    <tr>\n",
       "      <th>Fernando</th>\n",
       "      <td>42.0</td>\n",
       "    </tr>\n",
       "    <tr>\n",
       "      <th>javier</th>\n",
       "      <td>40.0</td>\n",
       "    </tr>\n",
       "    <tr>\n",
       "      <th>Ivan</th>\n",
       "      <td>38.0</td>\n",
       "    </tr>\n",
       "    <tr>\n",
       "      <th>Jorge</th>\n",
       "      <td>37.0</td>\n",
       "    </tr>\n",
       "    <tr>\n",
       "      <th>Patricia</th>\n",
       "      <td>37.0</td>\n",
       "    </tr>\n",
       "    <tr>\n",
       "      <th>Luis</th>\n",
       "      <td>35.0</td>\n",
       "    </tr>\n",
       "    <tr>\n",
       "      <th>Victor</th>\n",
       "      <td>35.0</td>\n",
       "    </tr>\n",
       "    <tr>\n",
       "      <th>Javier_2</th>\n",
       "      <td>34.0</td>\n",
       "    </tr>\n",
       "    <tr>\n",
       "      <th>esther_2</th>\n",
       "      <td>34.0</td>\n",
       "    </tr>\n",
       "    <tr>\n",
       "      <th>Rubén</th>\n",
       "      <td>34.0</td>\n",
       "    </tr>\n",
       "    <tr>\n",
       "      <th>Miguel Ángel</th>\n",
       "      <td>34.0</td>\n",
       "    </tr>\n",
       "    <tr>\n",
       "      <th>Alonso</th>\n",
       "      <td>33.0</td>\n",
       "    </tr>\n",
       "    <tr>\n",
       "      <th>Maria Elena</th>\n",
       "      <td>33.0</td>\n",
       "    </tr>\n",
       "    <tr>\n",
       "      <th>Beatriz</th>\n",
       "      <td>32.0</td>\n",
       "    </tr>\n",
       "    <tr>\n",
       "      <th>Juan Manuel</th>\n",
       "      <td>32.0</td>\n",
       "    </tr>\n",
       "    <tr>\n",
       "      <th>Raquel</th>\n",
       "      <td>32.0</td>\n",
       "    </tr>\n",
       "    <tr>\n",
       "      <th>Enrique</th>\n",
       "      <td>32.0</td>\n",
       "    </tr>\n",
       "  </tbody>\n",
       "</table>\n",
       "</div>"
      ],
      "text/plain": [
       "YEAR          TOTAL_COMMENTS\n",
       "USERS                       \n",
       "Miguel                 105.0\n",
       "Ricardo                 92.0\n",
       "David                   90.0\n",
       "Javier                  88.0\n",
       "Laura                   83.0\n",
       "esther                  78.0\n",
       "Alejandro               69.0\n",
       "Sonia                   69.0\n",
       "Paula                   66.0\n",
       "Marta                   65.0\n",
       "Cristina                65.0\n",
       "Antonio                 59.0\n",
       "Maria                   59.0\n",
       "Sergio                  59.0\n",
       "Sara                    58.0\n",
       "Daniel                  58.0\n",
       "Francisco               56.0\n",
       "Carlos                  56.0\n",
       "Ana                     53.0\n",
       "Juan                    50.0\n",
       "Irene                   50.0\n",
       "María                   50.0\n",
       "Jesús                   49.0\n",
       "Andrea                  46.0\n",
       "Marc                    46.0\n",
       "Alba                    46.0\n",
       "Jose                    45.0\n",
       "Virginia                44.0\n",
       "Sandra                  44.0\n",
       "Manuel                  44.0\n",
       "Silvia                  44.0\n",
       "Pablo                   43.0\n",
       "Alberto                 42.0\n",
       "Fernando                42.0\n",
       "javier                  40.0\n",
       "Ivan                    38.0\n",
       "Jorge                   37.0\n",
       "Patricia                37.0\n",
       "Luis                    35.0\n",
       "Victor                  35.0\n",
       "Javier_2                34.0\n",
       "esther_2                34.0\n",
       "Rubén                   34.0\n",
       "Miguel Ángel            34.0\n",
       "Alonso                  33.0\n",
       "Maria Elena             33.0\n",
       "Beatriz                 32.0\n",
       "Juan Manuel             32.0\n",
       "Raquel                  32.0\n",
       "Enrique                 32.0"
      ]
     },
     "execution_count": 37,
     "metadata": {},
     "output_type": "execute_result"
    }
   ],
   "source": [
    "data=comments_users_per_year.iloc[:50,:-1]\n",
    "label=comments_users_per_year.iloc[:50,-1:]\n",
    "label"
   ]
  },
  {
   "cell_type": "code",
   "execution_count": 57,
   "metadata": {},
   "outputs": [
    {
     "data": {
      "image/png": "[encoded data removed]",
      "text/plain": [
       "<Figure size 3000x3000 with 2 Axes>"
      ]
     },
     "metadata": {},
     "output_type": "display_data"
    }
   ],
   "source": [
    "plt.figure(figsize=(30,30))\n",
    "plt.xlabel(\"YEAR\",fontsize=16)\n",
    "plt.ylabel(\"USERS\",fontsize=16)\n",
    "plt.title(\"COMMENTS BY USER AND YEAR\\n TOP 50 USERS\",fontsize=20)\n",
    "plt.xticks(rotation=45,fontsize=8)\n",
    "sns.heatmap(data,\n",
    "            square=True,\n",
    "            linewidths=.6,\n",
    "            annot=True)\n",
    "\n",
    "\n",
    "file=str(r'\\Resources\\image\\N_TOP_Commented_Users_by_YEAR')\n",
    "folder+file\n",
    "plt.savefig(folder+file);"
   ]
  },
  {
   "cell_type": "markdown",
   "metadata": {},
   "source": [
    "En este *HEATMAP* podemos observar que no es habitual encontrar usuarios que hayan comentadoo antes de 2011.\n",
    "\n",
    "En pocos casos hay usuarios que solo hayan comentado un par de años y con gran presencia en ese año concreto.\n",
    "\n",
    "Lo habitual es que los usuarios que aparecen aquí tienen una presencia continua en los comentarios durante mucho tiempo y no hayan realizado solo un comentario por año.\n",
    "\n",
    "---\n",
    "**No hay que olvidar** que este estudio se basa en que estamos igualando el nombre de cada usuario con un unico registro de usuario, lo que no es real.\n",
    "\n",
    "Como habíamos indicado al principio, no hay nada mejor que proteja el anonimato que usar solo el nombre de pila de la persona que realiza el comentario. Ya que este nombre puede correspoder con infinidad de personas.\n",
    "\n",
    "---"
   ]
  },
  {
   "cell_type": "markdown",
   "metadata": {},
   "source": [
    "### c. TAGS"
   ]
  },
  {
   "attachments": {},
   "cell_type": "markdown",
   "metadata": {},
   "source": [
    "#### Estudio sobre los valores de *TAGS* donde se catalogan los productos.\n",
    "\n",
    "Vamos a realizar un estudio sobre qué tipo de productos se venden en la página web, para tener una idea del tipo de negocio que tenemos.\n",
    "\n",
    "Aparte haremos un estudio sobre el tipo de productos que compran los distintos usuarios que hay registrados en web (teniendo en cuenta la casuística comentada sobre la identidad de cada USER)."
   ]
  },
  {
   "cell_type": "code",
   "execution_count": 34,
   "metadata": {},
   "outputs": [
    {
     "name": "stderr",
     "output_type": "stream",
     "text": [
      "C:\\Users\\Javier\\AppData\\Local\\Temp\\ipykernel_3180\\993599839.py:22: FutureWarning: In a future version, `df.iloc[:, i] = newvals` will attempt to set the values inplace instead of always setting a new array. To retain the old behavior, use either `df[df.columns[i]] = newvals` or, if columns are non-unique, `df.isetitem(i, newvals)`\n",
      "  total.iloc[:,1]=total.iloc[:,1].astype(int)\n"
     ]
    },
    {
     "data": {
      "image/png": "[encoded data removed]",
      "text/plain": [
       "<Figure size 1000x500 with 1 Axes>"
      ]
     },
     "metadata": {},
     "output_type": "display_data"
    }
   ],
   "source": [
    "plt.figure(figsize=(10,5))\n",
    "query = \"\"\"\n",
    "SELECT 'JUGUETES' AS TAGS, SUM(JUGUETES) AS valor FROM TAGS\n",
    "    UNION\n",
    "    SELECT 'MUEBLES' AS TAGS, SUM(MUEBLES) AS valor FROM TAGS\n",
    "    UNION\n",
    "    SELECT 'LENCERIA' AS TAGS, SUM(LENCERIA) AS valor FROM TAGS\n",
    "    UNION\n",
    "    SELECT 'MASCULINO' AS TAGS, SUM(MASCULINO) AS valor FROM TAGS\n",
    "    UNION\n",
    "    SELECT 'FEMININO' AS TAGS, SUM(FEMININO) AS valor FROM TAGS\n",
    "    UNION\n",
    "    SELECT 'ANAL' AS TAGS, SUM(ANAL) AS valor FROM TAGS\n",
    "    UNION\n",
    "    SELECT 'BDSM' AS TAGS, SUM(BDSM) AS valor FROM TAGS\n",
    "    UNION\n",
    "    SELECT 'AMENITIES' AS TAGS, SUM(AMENITIES) AS valor FROM TAGS\n",
    "ORDER  BY valor DESC;\n",
    "\"\"\"\n",
    "\n",
    "total=f.sql_query(query,cursor)\n",
    "total.iloc[:,1]=total.iloc[:,1].astype(int)\n",
    "plt.hlines(total['TAGS'],xmin=0,\n",
    "           xmax=total['valor'],)\n",
    "plt.plot(total['valor'], total['TAGS'], \"o\")\n",
    "plt.yticks(total['TAGS'])\n",
    "plt.xlabel(\"Nº PRODUCT\")\n",
    "plt.ylabel(\"TAGS\")\n",
    "plt.title(\"PRODUCTS_PER_TAGS\")\n",
    "\n",
    "file=str(r'\\Resources\\image\\N_Tags_product')\n",
    "folder+file\n",
    "plt.savefig(folder+file);"
   ]
  },
  {
   "cell_type": "markdown",
   "metadata": {},
   "source": [
    "#### Estudio sobre los gustos de los usuarios.\n",
    "\n",
    "En este último punto vamos a estudiar como son los gustos de los usuarios en función de los *tags* que hemos asignado.\n",
    "\n",
    "Es la parte que enlaza finalmente con el proceso de *aprendizaje programado* que haremos en el siguiente punto, ya que nuestra intención es poder dar una orientación a la empresa para orientar la publicidad de los productos a los gustos de cada usuario. "
   ]
  },
  {
   "attachments": {},
   "cell_type": "markdown",
   "metadata": {},
   "source": [
    "## Cerramos la BBDD."
   ]
  },
  {
   "cell_type": "code",
   "execution_count": 45,
   "metadata": {},
   "outputs": [],
   "source": [
    "conn.commit()\n",
    "cursor.close()\n",
    "conn.close()"
   ]
  }
 ],
 "metadata": {
  "kernelspec": {
   "display_name": "Python 3",
   "language": "python",
   "name": "python3"
  },
  "language_info": {
   "codemirror_mode": {
    "name": "ipython",
    "version": 3
   },
   "file_extension": ".py",
   "mimetype": "text/x-python",
   "name": "python",
   "nbconvert_exporter": "python",
   "pygments_lexer": "ipython3",
   "version": "3.10.11"
  },
  "orig_nbformat": 4
 },
 "nbformat": 4,
 "nbformat_minor": 2
}
