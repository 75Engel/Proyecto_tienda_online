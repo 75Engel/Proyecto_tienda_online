{
 "cells": [
  {
   "attachments": {},
   "cell_type": "markdown",
   "metadata": {},
   "source": [
    "# Almacenamiento de datos"
   ]
  },
  {
   "attachments": {},
   "cell_type": "markdown",
   "metadata": {},
   "source": [
    "## Introducción\n",
    "\n",
    "Vamos a generar una BBDD Relacional para el almacenamiento de los registros que hemos obtenido hasta ahora.\n",
    "\n",
    "La estructura  de la base de datos será de 5 tablas relacionadas entre sí y 1/2 views para tener un acceso más rápido a una serie de datos en el momento de hacer el llamamiento a las queries.\n",
    "\n",
    "Realizaremos diversos llamamientos a la BBDD para visualizar los datos de la misma y hacer una evaluación de los datos de la página web."
   ]
  },
  {
   "attachments": {},
   "cell_type": "markdown",
   "metadata": {},
   "source": [
    "## Librerías"
   ]
  },
  {
   "cell_type": "code",
   "execution_count": 1,
   "metadata": {},
   "outputs": [
    {
     "name": "stdout",
     "output_type": "stream",
     "text": [
      "El directorio en el que te encuentras ahora es d:\\Data_science\\Javier\\Repositorios\\Proyecto_tienda_online\\src\n"
     ]
    }
   ],
   "source": [
    "import os\n",
    "os.chdir(os.path.split(os.getcwd())[0])\n",
    "folder=os.getcwd()\n",
    "import pandas as pd\n",
    "import numpy as np\n",
    "from datetime import datetime\n",
    "import sqlite3\n",
    "import matplotlib.pyplot as plt\n",
    "import seaborn as sns\n",
    "from Utils import functions as f\n",
    "\n",
    "print(\"El directorio en el que te encuentras ahora es\",folder)"
   ]
  },
  {
   "attachments": {},
   "cell_type": "markdown",
   "metadata": {},
   "source": [
    "## Estructuras de la BBDD"
   ]
  },
  {
   "attachments": {},
   "cell_type": "markdown",
   "metadata": {},
   "source": [
    "![Estructura_tablas](../Resources/image/Relacion_tablas.jpg)"
   ]
  },
  {
   "attachments": {},
   "cell_type": "markdown",
   "metadata": {},
   "source": [
    "### a.- Realizando la conexión a la Base de Datos."
   ]
  },
  {
   "cell_type": "code",
   "execution_count": 2,
   "metadata": {},
   "outputs": [],
   "source": [
    "# Conectamos con la base de datos\n",
    "conn = sqlite3.connect(\"Resources/online_shop.db\")\n",
    "\n",
    "# Obtenemos un cursor que utilizaremos para hacer las queries\n",
    "cursor = conn.cursor()"
   ]
  },
  {
   "attachments": {},
   "cell_type": "markdown",
   "metadata": {},
   "source": [
    "## 1. Construyendo la BBDD"
   ]
  },
  {
   "cell_type": "code",
   "execution_count": 36,
   "metadata": {},
   "outputs": [],
   "source": [
    "res = cursor.execute(\"SELECT name FROM sqlite_master WHERE type='table'\")\n",
    "# res = cursor.execute(\"SELECT name FROM sqlite_master WHERE type='view'\")\n",
    "for name in res:\n",
    "    print(name[0])"
   ]
  },
  {
   "attachments": {},
   "cell_type": "markdown",
   "metadata": {},
   "source": [
    "#### PRODUCT"
   ]
  },
  {
   "cell_type": "code",
   "execution_count": 37,
   "metadata": {},
   "outputs": [
    {
     "data": {
      "text/plain": [
       "<sqlite3.Cursor at 0x2b3cd2e5cc0>"
      ]
     },
     "execution_count": 37,
     "metadata": {},
     "output_type": "execute_result"
    }
   ],
   "source": [
    "query = '''\n",
    "CREATE TABLE PRODUCT  (\n",
    "    ID INT (3),\n",
    "    PRODUCT VARCHAR (100),\n",
    "    SLOGAN VARCHAR (100),\n",
    "    DESCRIPTION VARCHAR (250),\n",
    "    CHARACTERISTICS VARCHAR (250),\n",
    "    URL VARCHAR (50),\n",
    "    PRIMARY KEY (ID)\n",
    ")\n",
    "\n",
    "'''\n",
    "\n",
    "\n",
    "cursor.execute(query)"
   ]
  },
  {
   "cell_type": "markdown",
   "metadata": {},
   "source": [
    "#### PRICES"
   ]
  },
  {
   "cell_type": "code",
   "execution_count": 38,
   "metadata": {},
   "outputs": [
    {
     "data": {
      "text/plain": [
       "<sqlite3.Cursor at 0x2b3cd2e5cc0>"
      ]
     },
     "execution_count": 38,
     "metadata": {},
     "output_type": "execute_result"
    }
   ],
   "source": [
    "query = '''\n",
    "CREATE TABLE PRICES  (\n",
    "    ID INT (3),\n",
    "    ID_PRODUCT INT (3),\n",
    "    REGULAR_PRICE INT (3),\n",
    "    DISCOUNT_PRICE INT (3),\n",
    "    DATE_DOWNLOAD VARCHAR (100),\n",
    "    PRIMARY KEY (ID),\n",
    "    FOREIGN KEY (ID_PRODUCT) REFERENCES PRODUCT (ID)\n",
    "\n",
    ")\n",
    "\n",
    "'''\n",
    "\n",
    "\n",
    "cursor.execute(query)"
   ]
  },
  {
   "attachments": {},
   "cell_type": "markdown",
   "metadata": {},
   "source": [
    "#### COMMENTS"
   ]
  },
  {
   "cell_type": "code",
   "execution_count": 39,
   "metadata": {},
   "outputs": [
    {
     "data": {
      "text/plain": [
       "<sqlite3.Cursor at 0x2b3cd2e5cc0>"
      ]
     },
     "execution_count": 39,
     "metadata": {},
     "output_type": "execute_result"
    }
   ],
   "source": [
    "query = '''\n",
    "CREATE TABLE COMMENT  (\n",
    "    ID_COMMENT INT (5),\n",
    "    ID_PRODUCT INT (3),\n",
    "    DATE VARCHAR (100),\n",
    "    RATIO INT (2),\n",
    "    ID_USERS INT (3),\n",
    "    COMMENT VARCHAR (250), \n",
    "    PRIMARY KEY (ID_COMMENT),\n",
    "    FOREIGN KEY (ID_PRODUCT) REFERENCES PRODUCT (ID),\n",
    "    FOREIGN KEY (ID_USERS) REFERENCES USERS (ID)\n",
    "\n",
    ")\n",
    "\n",
    "'''\n",
    "\n",
    "cursor.execute(query)"
   ]
  },
  {
   "attachments": {},
   "cell_type": "markdown",
   "metadata": {},
   "source": [
    "#### TAGS"
   ]
  },
  {
   "cell_type": "code",
   "execution_count": 40,
   "metadata": {},
   "outputs": [
    {
     "data": {
      "text/plain": [
       "<sqlite3.Cursor at 0x2b3cd2e5cc0>"
      ]
     },
     "execution_count": 40,
     "metadata": {},
     "output_type": "execute_result"
    }
   ],
   "source": [
    "query = '''\n",
    "CREATE TABLE TAGS  (\n",
    "    ID INT (3),\n",
    "    JUGUETES INT(1),\n",
    "    MUEBLES INT(1),\n",
    "    LENCERIA INT(1),\n",
    "    MASCULINO INT(1),\n",
    "    FEMININO INT(1),\n",
    "    ANAL INT(1),\n",
    "    BDSM INT(1),\n",
    "    AMENITIES INT(1),\n",
    "    PRIMARY KEY (ID),\n",
    "    FOREIGN KEY (ID) REFERENCES PRODUCT (ID)\n",
    ")\n",
    "\n",
    "'''\n",
    "\n",
    "# En esta tabla hay que convertir primeramente los booleanos en 0 y 1 para guardarla.\n",
    "# También es importante tener esto en cuenta a la hora de extraer la información.\n",
    "cursor.execute(query)"
   ]
  },
  {
   "cell_type": "markdown",
   "metadata": {},
   "source": [
    "#### USERS"
   ]
  },
  {
   "cell_type": "code",
   "execution_count": 41,
   "metadata": {},
   "outputs": [
    {
     "data": {
      "text/plain": [
       "<sqlite3.Cursor at 0x2b3cd2e5cc0>"
      ]
     },
     "execution_count": 41,
     "metadata": {},
     "output_type": "execute_result"
    }
   ],
   "source": [
    "query = '''\n",
    "CREATE TABLE USERS  (\n",
    "    ID INT (5),\n",
    "    USERS VARCHAR (50),\n",
    "    PRIMARY KEY (ID)\n",
    ")\n",
    "\n",
    "'''\n",
    "\n",
    "cursor.execute(query)"
   ]
  },
  {
   "attachments": {},
   "cell_type": "markdown",
   "metadata": {},
   "source": [
    "### b.- Cargando los datos dentro de la BBDD"
   ]
  },
  {
   "cell_type": "markdown",
   "metadata": {},
   "source": [
    "#### Productos."
   ]
  },
  {
   "cell_type": "code",
   "execution_count": 42,
   "metadata": {},
   "outputs": [
    {
     "name": "stdout",
     "output_type": "stream",
     "text": [
      "Long. dataframe 6\n"
     ]
    },
    {
     "data": {
      "text/html": [
       "<div>\n",
       "<style scoped>\n",
       "    .dataframe tbody tr th:only-of-type {\n",
       "        vertical-align: middle;\n",
       "    }\n",
       "\n",
       "    .dataframe tbody tr th {\n",
       "        vertical-align: top;\n",
       "    }\n",
       "\n",
       "    .dataframe thead th {\n",
       "        text-align: right;\n",
       "    }\n",
       "</style>\n",
       "<table border=\"1\" class=\"dataframe\">\n",
       "  <thead>\n",
       "    <tr style=\"text-align: right;\">\n",
       "      <th></th>\n",
       "      <th>ID</th>\n",
       "      <th>PRODUCT</th>\n",
       "      <th>SLOGAN</th>\n",
       "      <th>DESCRIPTION</th>\n",
       "      <th>CHARACTERISTICS</th>\n",
       "      <th>LISTA_URL</th>\n",
       "    </tr>\n",
       "  </thead>\n",
       "  <tbody>\n",
       "    <tr>\n",
       "      <th>0</th>\n",
       "      <td>0</td>\n",
       "      <td>MASABOOM</td>\n",
       "      <td>El gran masajeador sexual</td>\n",
       "      <td>Este es el juguete para todas, todos y todes. ...</td>\n",
       "      <td>Masajeador con forma de micrófonoMaterial: sil...</td>\n",
       "      <td>https://www.amantis.net/masaboom-el-gran-masaj...</td>\n",
       "    </tr>\n",
       "    <tr>\n",
       "      <th>1</th>\n",
       "      <td>1</td>\n",
       "      <td>MASSAJI</td>\n",
       "      <td>Potente masajeador japonés sumergible de silicona</td>\n",
       "      <td>¿Quieres una velada perfecta tras un largo día...</td>\n",
       "      <td>Masajeador Japonés Massaji Material: Silicona ...</td>\n",
       "      <td>https://www.amantis.net/massaji-potente-masaje...</td>\n",
       "    </tr>\n",
       "    <tr>\n",
       "      <th>2</th>\n",
       "      <td>2</td>\n",
       "      <td>DIGIT PRO</td>\n",
       "      <td>dedal vibrador con sujeción</td>\n",
       "      <td>Los dedos siempre han sido grandes aliados de ...</td>\n",
       "      <td>Dedal vibradorMaterial: silicona de grado médi...</td>\n",
       "      <td>https://www.amantis.net/digit-pro-dedal-vibrad...</td>\n",
       "    </tr>\n",
       "    <tr>\n",
       "      <th>3</th>\n",
       "      <td>3</td>\n",
       "      <td>MINI CARNIVAL</td>\n",
       "      <td>mini_masajeador con cuatro cabezales</td>\n",
       "      <td>¿Conoces a MINI+? Puse hoy es tu día de suerte...</td>\n",
       "      <td>Mini masajeador con cuatro cabezalesCabezales ...</td>\n",
       "      <td>https://www.amantis.net/mini-carnival-mini-mas...</td>\n",
       "    </tr>\n",
       "    <tr>\n",
       "      <th>4</th>\n",
       "      <td>4</td>\n",
       "      <td>LINGÜS</td>\n",
       "      <td>Vibrador para Sexo Oral de amantis</td>\n",
       "      <td>Milenios de sabiduría en el arte del cunniling...</td>\n",
       "      <td>Material: silicona + abs10 modos de vibraciónT...</td>\n",
       "      <td>https://www.amantis.net/lingus-vibrador-sexo-o...</td>\n",
       "    </tr>\n",
       "  </tbody>\n",
       "</table>\n",
       "</div>"
      ],
      "text/plain": [
       "   ID        PRODUCT                                             SLOGAN  \\\n",
       "0   0       MASABOOM                          El gran masajeador sexual   \n",
       "1   1        MASSAJI  Potente masajeador japonés sumergible de silicona   \n",
       "2   2      DIGIT PRO                        dedal vibrador con sujeción   \n",
       "3   3  MINI CARNIVAL               mini_masajeador con cuatro cabezales   \n",
       "4   4         LINGÜS                 Vibrador para Sexo Oral de amantis   \n",
       "\n",
       "                                         DESCRIPTION  \\\n",
       "0  Este es el juguete para todas, todos y todes. ...   \n",
       "1  ¿Quieres una velada perfecta tras un largo día...   \n",
       "2  Los dedos siempre han sido grandes aliados de ...   \n",
       "3  ¿Conoces a MINI+? Puse hoy es tu día de suerte...   \n",
       "4  Milenios de sabiduría en el arte del cunniling...   \n",
       "\n",
       "                                     CHARACTERISTICS  \\\n",
       "0  Masajeador con forma de micrófonoMaterial: sil...   \n",
       "1  Masajeador Japonés Massaji Material: Silicona ...   \n",
       "2  Dedal vibradorMaterial: silicona de grado médi...   \n",
       "3  Mini masajeador con cuatro cabezalesCabezales ...   \n",
       "4  Material: silicona + abs10 modos de vibraciónT...   \n",
       "\n",
       "                                           LISTA_URL  \n",
       "0  https://www.amantis.net/masaboom-el-gran-masaj...  \n",
       "1  https://www.amantis.net/massaji-potente-masaje...  \n",
       "2  https://www.amantis.net/digit-pro-dedal-vibrad...  \n",
       "3  https://www.amantis.net/mini-carnival-mini-mas...  \n",
       "4  https://www.amantis.net/lingus-vibrador-sexo-o...  "
      ]
     },
     "execution_count": 42,
     "metadata": {},
     "output_type": "execute_result"
    }
   ],
   "source": [
    "df_products=pd.read_csv(r'Data\\productos.csv')\n",
    "print(\"Long. dataframe\",len(df_products.columns))\n",
    "df_products.head()"
   ]
  },
  {
   "cell_type": "markdown",
   "metadata": {},
   "source": [
    "#### Precios."
   ]
  },
  {
   "cell_type": "code",
   "execution_count": 43,
   "metadata": {},
   "outputs": [
    {
     "name": "stdout",
     "output_type": "stream",
     "text": [
      "Long. dataframe 5\n"
     ]
    },
    {
     "data": {
      "text/html": [
       "<div>\n",
       "<style scoped>\n",
       "    .dataframe tbody tr th:only-of-type {\n",
       "        vertical-align: middle;\n",
       "    }\n",
       "\n",
       "    .dataframe tbody tr th {\n",
       "        vertical-align: top;\n",
       "    }\n",
       "\n",
       "    .dataframe thead th {\n",
       "        text-align: right;\n",
       "    }\n",
       "</style>\n",
       "<table border=\"1\" class=\"dataframe\">\n",
       "  <thead>\n",
       "    <tr style=\"text-align: right;\">\n",
       "      <th></th>\n",
       "      <th>ID</th>\n",
       "      <th>ID_PRODUCT</th>\n",
       "      <th>REGULAR_PRICE</th>\n",
       "      <th>DISCOUNT_PRICE</th>\n",
       "      <th>FECHA</th>\n",
       "    </tr>\n",
       "  </thead>\n",
       "  <tbody>\n",
       "    <tr>\n",
       "      <th>556</th>\n",
       "      <td>571</td>\n",
       "      <td>571</td>\n",
       "      <td>59.99</td>\n",
       "      <td>49.99</td>\n",
       "      <td>231012</td>\n",
       "    </tr>\n",
       "    <tr>\n",
       "      <th>557</th>\n",
       "      <td>572</td>\n",
       "      <td>572</td>\n",
       "      <td>49.99</td>\n",
       "      <td>29.99</td>\n",
       "      <td>231012</td>\n",
       "    </tr>\n",
       "    <tr>\n",
       "      <th>558</th>\n",
       "      <td>573</td>\n",
       "      <td>573</td>\n",
       "      <td>29.99</td>\n",
       "      <td>18.99</td>\n",
       "      <td>231012</td>\n",
       "    </tr>\n",
       "    <tr>\n",
       "      <th>559</th>\n",
       "      <td>574</td>\n",
       "      <td>574</td>\n",
       "      <td>39.99</td>\n",
       "      <td>19.99</td>\n",
       "      <td>231012</td>\n",
       "    </tr>\n",
       "    <tr>\n",
       "      <th>560</th>\n",
       "      <td>575</td>\n",
       "      <td>575</td>\n",
       "      <td>79.99</td>\n",
       "      <td>27.99</td>\n",
       "      <td>231012</td>\n",
       "    </tr>\n",
       "  </tbody>\n",
       "</table>\n",
       "</div>"
      ],
      "text/plain": [
       "      ID  ID_PRODUCT  REGULAR_PRICE  DISCOUNT_PRICE   FECHA\n",
       "556  571         571          59.99           49.99  231012\n",
       "557  572         572          49.99           29.99  231012\n",
       "558  573         573          29.99           18.99  231012\n",
       "559  574         574          39.99           19.99  231012\n",
       "560  575         575          79.99           27.99  231012"
      ]
     },
     "execution_count": 43,
     "metadata": {},
     "output_type": "execute_result"
    }
   ],
   "source": [
    "df_price=pd.read_csv(r'Data\\precios_231012.csv')\n",
    "print(\"Long. dataframe\",len(df_price.columns))\n",
    "df_price.tail()"
   ]
  },
  {
   "cell_type": "markdown",
   "metadata": {},
   "source": [
    "#### Comentarios."
   ]
  },
  {
   "cell_type": "code",
   "execution_count": 44,
   "metadata": {},
   "outputs": [
    {
     "name": "stdout",
     "output_type": "stream",
     "text": [
      "<class 'pandas.core.frame.DataFrame'>\n",
      "RangeIndex: 10479 entries, 0 to 10478\n",
      "Data columns (total 6 columns):\n",
      " #   Column      Non-Null Count  Dtype \n",
      "---  ------      --------------  ----- \n",
      " 0   ID_COMMENT  10479 non-null  int64 \n",
      " 1   ID_PRODUCT  10479 non-null  int64 \n",
      " 2   DATE        10479 non-null  object\n",
      " 3   RATIO       10479 non-null  int64 \n",
      " 4   ID_USERS    10479 non-null  int64 \n",
      " 5   COMMENT     10479 non-null  object\n",
      "dtypes: int64(4), object(2)\n",
      "memory usage: 491.3+ KB\n"
     ]
    }
   ],
   "source": [
    "df_comments=pd.read_csv(r'Data\\comentarios.csv',index_col=False)\n",
    "# print(\"Long. dataframe\",len(df_comments.columns))\n",
    "df_comments.rename(columns={\"ID\":\"ID_PRODUCT\",\"Unnamed: 0\":\"ID_COMMENT\"},inplace=True)\n",
    "# df_comments.drop(columns=['DAY','MONTH','YEAR'],inplace=True)                     # Aplicar en el caso que no hayamos eliminado las columnas de YEAR, MONTH y DAY\n",
    "# Me falta pasar DATE nuevamente a DATETIME\n",
    "# df_comments['DATE'] = pd.to_datetime(df_comments['DATE'])\n",
    "df_comments.info()"
   ]
  },
  {
   "cell_type": "code",
   "execution_count": 45,
   "metadata": {},
   "outputs": [
    {
     "data": {
      "text/html": [
       "<div>\n",
       "<style scoped>\n",
       "    .dataframe tbody tr th:only-of-type {\n",
       "        vertical-align: middle;\n",
       "    }\n",
       "\n",
       "    .dataframe tbody tr th {\n",
       "        vertical-align: top;\n",
       "    }\n",
       "\n",
       "    .dataframe thead th {\n",
       "        text-align: right;\n",
       "    }\n",
       "</style>\n",
       "<table border=\"1\" class=\"dataframe\">\n",
       "  <thead>\n",
       "    <tr style=\"text-align: right;\">\n",
       "      <th></th>\n",
       "      <th>ID_COMMENT</th>\n",
       "      <th>ID_PRODUCT</th>\n",
       "      <th>DATE</th>\n",
       "      <th>RATIO</th>\n",
       "      <th>ID_USERS</th>\n",
       "      <th>COMMENT</th>\n",
       "    </tr>\n",
       "  </thead>\n",
       "  <tbody>\n",
       "    <tr>\n",
       "      <th>0</th>\n",
       "      <td>0</td>\n",
       "      <td>1</td>\n",
       "      <td>2023-01-25</td>\n",
       "      <td>5</td>\n",
       "      <td>0</td>\n",
       "      <td>Es un vibrador discreto y eficaz. Es uno de mi...</td>\n",
       "    </tr>\n",
       "    <tr>\n",
       "      <th>1</th>\n",
       "      <td>1</td>\n",
       "      <td>1</td>\n",
       "      <td>2023-01-09</td>\n",
       "      <td>5</td>\n",
       "      <td>1</td>\n",
       "      <td>el vibrador de cabecera de mi mujer. Después d...</td>\n",
       "    </tr>\n",
       "    <tr>\n",
       "      <th>2</th>\n",
       "      <td>2</td>\n",
       "      <td>1</td>\n",
       "      <td>2022-12-10</td>\n",
       "      <td>3</td>\n",
       "      <td>2</td>\n",
       "      <td>Tenía uno de otra tienda y compré este porque ...</td>\n",
       "    </tr>\n",
       "    <tr>\n",
       "      <th>3</th>\n",
       "      <td>3</td>\n",
       "      <td>1</td>\n",
       "      <td>2022-10-04</td>\n",
       "      <td>5</td>\n",
       "      <td>3</td>\n",
       "      <td>Es una buena compra. Muy agradable, con difere...</td>\n",
       "    </tr>\n",
       "    <tr>\n",
       "      <th>4</th>\n",
       "      <td>4</td>\n",
       "      <td>1</td>\n",
       "      <td>2022-07-07</td>\n",
       "      <td>5</td>\n",
       "      <td>4</td>\n",
       "      <td>Buen juguete más centrado en los precalentamie...</td>\n",
       "    </tr>\n",
       "  </tbody>\n",
       "</table>\n",
       "</div>"
      ],
      "text/plain": [
       "   ID_COMMENT  ID_PRODUCT        DATE  RATIO  ID_USERS  \\\n",
       "0           0           1  2023-01-25      5         0   \n",
       "1           1           1  2023-01-09      5         1   \n",
       "2           2           1  2022-12-10      3         2   \n",
       "3           3           1  2022-10-04      5         3   \n",
       "4           4           1  2022-07-07      5         4   \n",
       "\n",
       "                                             COMMENT  \n",
       "0  Es un vibrador discreto y eficaz. Es uno de mi...  \n",
       "1  el vibrador de cabecera de mi mujer. Después d...  \n",
       "2  Tenía uno de otra tienda y compré este porque ...  \n",
       "3  Es una buena compra. Muy agradable, con difere...  \n",
       "4  Buen juguete más centrado en los precalentamie...  "
      ]
     },
     "execution_count": 45,
     "metadata": {},
     "output_type": "execute_result"
    }
   ],
   "source": [
    "df_comments.head()"
   ]
  },
  {
   "cell_type": "markdown",
   "metadata": {},
   "source": [
    "#### Usuarios."
   ]
  },
  {
   "cell_type": "code",
   "execution_count": 46,
   "metadata": {},
   "outputs": [
    {
     "name": "stdout",
     "output_type": "stream",
     "text": [
      "Long. dataframe 2\n"
     ]
    },
    {
     "data": {
      "text/html": [
       "<div>\n",
       "<style scoped>\n",
       "    .dataframe tbody tr th:only-of-type {\n",
       "        vertical-align: middle;\n",
       "    }\n",
       "\n",
       "    .dataframe tbody tr th {\n",
       "        vertical-align: top;\n",
       "    }\n",
       "\n",
       "    .dataframe thead th {\n",
       "        text-align: right;\n",
       "    }\n",
       "</style>\n",
       "<table border=\"1\" class=\"dataframe\">\n",
       "  <thead>\n",
       "    <tr style=\"text-align: right;\">\n",
       "      <th></th>\n",
       "      <th>ID_USERS</th>\n",
       "      <th>USERS</th>\n",
       "    </tr>\n",
       "  </thead>\n",
       "  <tbody>\n",
       "    <tr>\n",
       "      <th>0</th>\n",
       "      <td>0</td>\n",
       "      <td>Sara</td>\n",
       "    </tr>\n",
       "    <tr>\n",
       "      <th>1</th>\n",
       "      <td>1</td>\n",
       "      <td>Jesús</td>\n",
       "    </tr>\n",
       "    <tr>\n",
       "      <th>2</th>\n",
       "      <td>2</td>\n",
       "      <td>Sara_2</td>\n",
       "    </tr>\n",
       "    <tr>\n",
       "      <th>3</th>\n",
       "      <td>3</td>\n",
       "      <td>Sara_3</td>\n",
       "    </tr>\n",
       "    <tr>\n",
       "      <th>4</th>\n",
       "      <td>4</td>\n",
       "      <td>Álvaro</td>\n",
       "    </tr>\n",
       "  </tbody>\n",
       "</table>\n",
       "</div>"
      ],
      "text/plain": [
       "   ID_USERS   USERS\n",
       "0         0    Sara\n",
       "1         1   Jesús\n",
       "2         2  Sara_2\n",
       "3         3  Sara_3\n",
       "4         4  Álvaro"
      ]
     },
     "execution_count": 46,
     "metadata": {},
     "output_type": "execute_result"
    }
   ],
   "source": [
    "df_usuarios=pd.read_csv(r'Data\\usuarios.csv')\n",
    "print(\"Long. dataframe\",len(df_usuarios.columns))\n",
    "df_usuarios.head()"
   ]
  },
  {
   "cell_type": "markdown",
   "metadata": {},
   "source": [
    "#### Tags."
   ]
  },
  {
   "cell_type": "code",
   "execution_count": 47,
   "metadata": {},
   "outputs": [
    {
     "name": "stdout",
     "output_type": "stream",
     "text": [
      "Long. dataframe 9\n"
     ]
    },
    {
     "data": {
      "text/html": [
       "<div>\n",
       "<style scoped>\n",
       "    .dataframe tbody tr th:only-of-type {\n",
       "        vertical-align: middle;\n",
       "    }\n",
       "\n",
       "    .dataframe tbody tr th {\n",
       "        vertical-align: top;\n",
       "    }\n",
       "\n",
       "    .dataframe thead th {\n",
       "        text-align: right;\n",
       "    }\n",
       "</style>\n",
       "<table border=\"1\" class=\"dataframe\">\n",
       "  <thead>\n",
       "    <tr style=\"text-align: right;\">\n",
       "      <th></th>\n",
       "      <th>ID</th>\n",
       "      <th>amenities</th>\n",
       "      <th>anal</th>\n",
       "      <th>BDSM</th>\n",
       "      <th>femenino</th>\n",
       "      <th>masculino</th>\n",
       "      <th>juguetes</th>\n",
       "      <th>lenceria</th>\n",
       "      <th>muebles</th>\n",
       "    </tr>\n",
       "  </thead>\n",
       "  <tbody>\n",
       "    <tr>\n",
       "      <th>0</th>\n",
       "      <td>0</td>\n",
       "      <td>True</td>\n",
       "      <td>False</td>\n",
       "      <td>False</td>\n",
       "      <td>True</td>\n",
       "      <td>False</td>\n",
       "      <td>False</td>\n",
       "      <td>False</td>\n",
       "      <td>False</td>\n",
       "    </tr>\n",
       "    <tr>\n",
       "      <th>1</th>\n",
       "      <td>1</td>\n",
       "      <td>True</td>\n",
       "      <td>True</td>\n",
       "      <td>False</td>\n",
       "      <td>False</td>\n",
       "      <td>False</td>\n",
       "      <td>True</td>\n",
       "      <td>False</td>\n",
       "      <td>False</td>\n",
       "    </tr>\n",
       "    <tr>\n",
       "      <th>2</th>\n",
       "      <td>2</td>\n",
       "      <td>False</td>\n",
       "      <td>False</td>\n",
       "      <td>True</td>\n",
       "      <td>True</td>\n",
       "      <td>False</td>\n",
       "      <td>True</td>\n",
       "      <td>False</td>\n",
       "      <td>False</td>\n",
       "    </tr>\n",
       "    <tr>\n",
       "      <th>3</th>\n",
       "      <td>3</td>\n",
       "      <td>True</td>\n",
       "      <td>True</td>\n",
       "      <td>False</td>\n",
       "      <td>False</td>\n",
       "      <td>False</td>\n",
       "      <td>False</td>\n",
       "      <td>False</td>\n",
       "      <td>False</td>\n",
       "    </tr>\n",
       "    <tr>\n",
       "      <th>4</th>\n",
       "      <td>4</td>\n",
       "      <td>False</td>\n",
       "      <td>False</td>\n",
       "      <td>False</td>\n",
       "      <td>False</td>\n",
       "      <td>False</td>\n",
       "      <td>True</td>\n",
       "      <td>False</td>\n",
       "      <td>False</td>\n",
       "    </tr>\n",
       "  </tbody>\n",
       "</table>\n",
       "</div>"
      ],
      "text/plain": [
       "   ID  amenities   anal   BDSM  femenino  masculino  juguetes  lenceria  \\\n",
       "0   0       True  False  False      True      False     False     False   \n",
       "1   1       True   True  False     False      False      True     False   \n",
       "2   2      False  False   True      True      False      True     False   \n",
       "3   3       True   True  False     False      False     False     False   \n",
       "4   4      False  False  False     False      False      True     False   \n",
       "\n",
       "   muebles  \n",
       "0    False  \n",
       "1    False  \n",
       "2    False  \n",
       "3    False  \n",
       "4    False  "
      ]
     },
     "execution_count": 47,
     "metadata": {},
     "output_type": "execute_result"
    }
   ],
   "source": [
    "df_tags=pd.read_csv(r'Data\\tags.csv')\n",
    "df_tags.pop('PRODUCT')\n",
    "print(\"Long. dataframe\",len(df_tags.columns))\n",
    "df_tags.head()"
   ]
  },
  {
   "cell_type": "code",
   "execution_count": 48,
   "metadata": {},
   "outputs": [
    {
     "data": {
      "text/plain": [
       "<sqlite3.Cursor at 0x2b3cd2e5cc0>"
      ]
     },
     "execution_count": 48,
     "metadata": {},
     "output_type": "execute_result"
    }
   ],
   "source": [
    "lista_products= df_products.values.tolist()                                                #   Pasamos a lista el dataframe\n",
    "\n",
    "cursor.executemany(\"INSERT INTO PRODUCT VALUES (?,?,?,?,?,?)\", lista_products)           #   Salvamos directamente todos los datos en la tabla PRODUCTS\n",
    "\n",
    "lista_price= df_price.values.tolist()                                                #   Pasamos a lista el dataframe\n",
    "\n",
    "cursor.executemany(\"INSERT INTO PRICES VALUES (?,?,?,?,?)\", lista_price)           #   Salvamos directamente todos los datos en la tabla PRODUCTS\n",
    "\n",
    "lista_comments= df_comments.values.tolist()                                                #   Pasamos a lista el dataframe\n",
    "\n",
    "cursor.executemany(\"INSERT INTO COMMENT VALUES (?,?,?,?,?,?)\", lista_comments)                 #   Salvamos directamente todos los datos en la tabla COMMENTS\n",
    "\n",
    "lista_usuarios= df_usuarios.values.tolist()                                                #   Pasamos a lista el dataframe\n",
    "\n",
    "cursor.executemany(\"INSERT INTO USERS VALUES (?,?)\", lista_usuarios)           #   Salvamos directamente todos los datos en la tabla PRODUCTSS\n",
    "\n",
    "lista_tags= df_tags.values.tolist()                                                #   Pasamos a lista el dataframe\n",
    "\n",
    "cursor.executemany(\"INSERT INTO TAGS VALUES (?,?,?,?,?,?,?,?,?)\", lista_tags)                 #   Salvamos directamente todos los datos en la tabla COMMENTS"
   ]
  },
  {
   "attachments": {},
   "cell_type": "markdown",
   "metadata": {},
   "source": [
    "### c. Generamos las *views* oportunas para el tratamiento de los datos.  (ESTO LO TENGO QUE MODIFICAR)"
   ]
  },
  {
   "cell_type": "markdown",
   "metadata": {},
   "source": [
    "Utilizaremos este codigo para eliminar view/table en caso necesario"
   ]
  },
  {
   "cell_type": "code",
   "execution_count": 45,
   "metadata": {},
   "outputs": [
    {
     "data": {
      "text/plain": [
       "<sqlite3.Cursor at 0x1726acbf840>"
      ]
     },
     "execution_count": 45,
     "metadata": {},
     "output_type": "execute_result"
    }
   ],
   "source": [
    "# XX='''DROP TABLE COMMENT'''\n",
    "# cursor.execute (XX)"
   ]
  },
  {
   "cell_type": "code",
   "execution_count": 49,
   "metadata": {},
   "outputs": [
    {
     "data": {
      "text/plain": [
       "'Tengo pendiente de crear una view donde enlace a los distintos usuarios con los productos y los comentarios'"
      ]
     },
     "execution_count": 49,
     "metadata": {},
     "output_type": "execute_result"
    }
   ],
   "source": [
    "view_1='''CREATE VIEW COMMENTS_PER_PRODUCT AS \n",
    "SELECT PRODUCT.PRODUCT,COMMENT.DATE,COMMENT.RATIO ,COMMENT.COMMENT \n",
    "FROM COMMENT \n",
    "JOIN PRODUCT ON PRODUCT.ID=COMMENT.ID_PRODUCT'''\n",
    "cursor.execute(view_1)\n",
    "\n",
    "\n",
    "'''Tengo pendiente de crear una view donde enlace a los distintos usuarios con los productos y los comentarios'''"
   ]
  },
  {
   "cell_type": "code",
   "execution_count": null,
   "metadata": {},
   "outputs": [],
   "source": [
    "# view_2='''CREATE VIEW NUMBER_TAGS_PER_PRODUCT \n",
    "# SELECT PRODUCT.PRODUCT, PRODUCT.ID\n",
    "# SUM(CASE WHEN TAGS.JUGUETES = TRUE THEN 1 ELSE 0 END)+\n",
    "# ,COMMENT.RATIO ,COMMENT.COMMENT \n",
    "# FROM COMMENT \n",
    "# JOIN PRODUCT ON PRODUCT.ID=COMMENT.ID_PRODUCT'''\n",
    "# cursor.execute(view_1)\n",
    "\n",
    "\n",
    "#     JUGUETES INT(1),\n",
    "#     MUEBLES INT(1),\n",
    "#     LENCERIA INT(1),\n",
    "#     MASCULINO INT(1),\n",
    "#     FEMININO INT(1),\n",
    "#     ANAL INT(1),\n",
    "#     BDSM INT(1),\n",
    "#     AMENITIES INT(1)"
   ]
  },
  {
   "cell_type": "code",
   "execution_count": 50,
   "metadata": {},
   "outputs": [
    {
     "data": {
      "text/html": [
       "<div>\n",
       "<style scoped>\n",
       "    .dataframe tbody tr th:only-of-type {\n",
       "        vertical-align: middle;\n",
       "    }\n",
       "\n",
       "    .dataframe tbody tr th {\n",
       "        vertical-align: top;\n",
       "    }\n",
       "\n",
       "    .dataframe thead th {\n",
       "        text-align: right;\n",
       "    }\n",
       "</style>\n",
       "<table border=\"1\" class=\"dataframe\">\n",
       "  <thead>\n",
       "    <tr style=\"text-align: right;\">\n",
       "      <th></th>\n",
       "      <th>PRODUCT</th>\n",
       "      <th>DATE</th>\n",
       "      <th>RATIO</th>\n",
       "      <th>COMMENT</th>\n",
       "    </tr>\n",
       "  </thead>\n",
       "  <tbody>\n",
       "    <tr>\n",
       "      <th>0</th>\n",
       "      <td>MASSAJI</td>\n",
       "      <td>2023-01-25</td>\n",
       "      <td>5</td>\n",
       "      <td>Es un vibrador discreto y eficaz. Es uno de mi...</td>\n",
       "    </tr>\n",
       "    <tr>\n",
       "      <th>1</th>\n",
       "      <td>MASSAJI</td>\n",
       "      <td>2023-01-09</td>\n",
       "      <td>5</td>\n",
       "      <td>el vibrador de cabecera de mi mujer. Después d...</td>\n",
       "    </tr>\n",
       "    <tr>\n",
       "      <th>2</th>\n",
       "      <td>MASSAJI</td>\n",
       "      <td>2022-12-10</td>\n",
       "      <td>3</td>\n",
       "      <td>Tenía uno de otra tienda y compré este porque ...</td>\n",
       "    </tr>\n",
       "    <tr>\n",
       "      <th>3</th>\n",
       "      <td>MASSAJI</td>\n",
       "      <td>2022-10-04</td>\n",
       "      <td>5</td>\n",
       "      <td>Es una buena compra. Muy agradable, con difere...</td>\n",
       "    </tr>\n",
       "    <tr>\n",
       "      <th>4</th>\n",
       "      <td>MASSAJI</td>\n",
       "      <td>2022-07-07</td>\n",
       "      <td>5</td>\n",
       "      <td>Buen juguete más centrado en los precalentamie...</td>\n",
       "    </tr>\n",
       "    <tr>\n",
       "      <th>5</th>\n",
       "      <td>MASSAJI</td>\n",
       "      <td>2022-06-24</td>\n",
       "      <td>5</td>\n",
       "      <td>Mi juguete de cabecera. Siempre a mano en mi m...</td>\n",
       "    </tr>\n",
       "    <tr>\n",
       "      <th>6</th>\n",
       "      <td>MASSAJI</td>\n",
       "      <td>2022-05-05</td>\n",
       "      <td>5</td>\n",
       "      <td>Es genial! Llevaba tiempo con ganas de algo as...</td>\n",
       "    </tr>\n",
       "    <tr>\n",
       "      <th>7</th>\n",
       "      <td>MASSAJI</td>\n",
       "      <td>2022-01-12</td>\n",
       "      <td>5</td>\n",
       "      <td>¡Una maravilla! Como estimulación externa pued...</td>\n",
       "    </tr>\n",
       "    <tr>\n",
       "      <th>8</th>\n",
       "      <td>MASSAJI</td>\n",
       "      <td>2022-01-03</td>\n",
       "      <td>5</td>\n",
       "      <td>Conocí este juguete gracias a las recomendacio...</td>\n",
       "    </tr>\n",
       "    <tr>\n",
       "      <th>9</th>\n",
       "      <td>MASSAJI</td>\n",
       "      <td>2021-08-25</td>\n",
       "      <td>5</td>\n",
       "      <td>Fabuloso. rnPotente pero no molesto.rnMás pequ...</td>\n",
       "    </tr>\n",
       "  </tbody>\n",
       "</table>\n",
       "</div>"
      ],
      "text/plain": [
       "   PRODUCT        DATE  RATIO  \\\n",
       "0  MASSAJI  2023-01-25      5   \n",
       "1  MASSAJI  2023-01-09      5   \n",
       "2  MASSAJI  2022-12-10      3   \n",
       "3  MASSAJI  2022-10-04      5   \n",
       "4  MASSAJI  2022-07-07      5   \n",
       "5  MASSAJI  2022-06-24      5   \n",
       "6  MASSAJI  2022-05-05      5   \n",
       "7  MASSAJI  2022-01-12      5   \n",
       "8  MASSAJI  2022-01-03      5   \n",
       "9  MASSAJI  2021-08-25      5   \n",
       "\n",
       "                                             COMMENT  \n",
       "0  Es un vibrador discreto y eficaz. Es uno de mi...  \n",
       "1  el vibrador de cabecera de mi mujer. Después d...  \n",
       "2  Tenía uno de otra tienda y compré este porque ...  \n",
       "3  Es una buena compra. Muy agradable, con difere...  \n",
       "4  Buen juguete más centrado en los precalentamie...  \n",
       "5  Mi juguete de cabecera. Siempre a mano en mi m...  \n",
       "6  Es genial! Llevaba tiempo con ganas de algo as...  \n",
       "7  ¡Una maravilla! Como estimulación externa pued...  \n",
       "8  Conocí este juguete gracias a las recomendacio...  \n",
       "9  Fabuloso. rnPotente pero no molesto.rnMás pequ...  "
      ]
     },
     "execution_count": 50,
     "metadata": {},
     "output_type": "execute_result"
    }
   ],
   "source": [
    "query='''SELECT * FROM COMMENTS_PER_PRODUCT LIMIT (10)'''\n",
    "f.sql_query(query,cursor)"
   ]
  },
  {
   "cell_type": "code",
   "execution_count": 28,
   "metadata": {},
   "outputs": [],
   "source": [
    "# conn.commit()\n",
    "# cursor.close()\n",
    "# conn.close()"
   ]
  },
  {
   "attachments": {},
   "cell_type": "markdown",
   "metadata": {},
   "source": [
    "## 2. Realizando consultas para visualizar datos."
   ]
  },
  {
   "attachments": {},
   "cell_type": "markdown",
   "metadata": {},
   "source": [
    "Vamos a verificar los datos cargados visualizando los 10 primeros registros en cada TABLA"
   ]
  },
  {
   "cell_type": "code",
   "execution_count": 4,
   "metadata": {},
   "outputs": [
    {
     "data": {
      "text/html": [
       "<div>\n",
       "<style scoped>\n",
       "    .dataframe tbody tr th:only-of-type {\n",
       "        vertical-align: middle;\n",
       "    }\n",
       "\n",
       "    .dataframe tbody tr th {\n",
       "        vertical-align: top;\n",
       "    }\n",
       "\n",
       "    .dataframe thead th {\n",
       "        text-align: right;\n",
       "    }\n",
       "</style>\n",
       "<table border=\"1\" class=\"dataframe\">\n",
       "  <thead>\n",
       "    <tr style=\"text-align: right;\">\n",
       "      <th></th>\n",
       "      <th>ID</th>\n",
       "      <th>PRODUCT</th>\n",
       "      <th>SLOGAN</th>\n",
       "      <th>DESCRIPTION</th>\n",
       "      <th>CHARACTERISTICS</th>\n",
       "      <th>URL</th>\n",
       "    </tr>\n",
       "  </thead>\n",
       "  <tbody>\n",
       "    <tr>\n",
       "      <th>0</th>\n",
       "      <td>0</td>\n",
       "      <td>MASABOOM</td>\n",
       "      <td>El gran masajeador sexual</td>\n",
       "      <td>Este es el juguete para todas, todos y todes. ...</td>\n",
       "      <td>Masajeador con forma de micrófonoMaterial: sil...</td>\n",
       "      <td>https://www.amantis.net/masaboom-el-gran-masaj...</td>\n",
       "    </tr>\n",
       "    <tr>\n",
       "      <th>1</th>\n",
       "      <td>1</td>\n",
       "      <td>MASSAJI</td>\n",
       "      <td>Potente masajeador japonés sumergible de silicona</td>\n",
       "      <td>¿Quieres una velada perfecta tras un largo día...</td>\n",
       "      <td>Masajeador Japonés Massaji Material: Silicona ...</td>\n",
       "      <td>https://www.amantis.net/massaji-potente-masaje...</td>\n",
       "    </tr>\n",
       "    <tr>\n",
       "      <th>2</th>\n",
       "      <td>2</td>\n",
       "      <td>DIGIT PRO</td>\n",
       "      <td>dedal vibrador con sujeción</td>\n",
       "      <td>Los dedos siempre han sido grandes aliados de ...</td>\n",
       "      <td>Dedal vibradorMaterial: silicona de grado médi...</td>\n",
       "      <td>https://www.amantis.net/digit-pro-dedal-vibrad...</td>\n",
       "    </tr>\n",
       "    <tr>\n",
       "      <th>3</th>\n",
       "      <td>3</td>\n",
       "      <td>MINI CARNIVAL</td>\n",
       "      <td>mini_masajeador con cuatro cabezales</td>\n",
       "      <td>¿Conoces a MINI+? Puse hoy es tu día de suerte...</td>\n",
       "      <td>Mini masajeador con cuatro cabezalesCabezales ...</td>\n",
       "      <td>https://www.amantis.net/mini-carnival-mini-mas...</td>\n",
       "    </tr>\n",
       "    <tr>\n",
       "      <th>4</th>\n",
       "      <td>4</td>\n",
       "      <td>LINGÜS</td>\n",
       "      <td>Vibrador para Sexo Oral de amantis</td>\n",
       "      <td>Milenios de sabiduría en el arte del cunniling...</td>\n",
       "      <td>Material: silicona + abs10 modos de vibraciónT...</td>\n",
       "      <td>https://www.amantis.net/lingus-vibrador-sexo-o...</td>\n",
       "    </tr>\n",
       "    <tr>\n",
       "      <th>5</th>\n",
       "      <td>5</td>\n",
       "      <td>MASAJE SEXY con 8 programas</td>\n",
       "      <td>potente masaje mágico de 220v</td>\n",
       "      <td>Probablemente el masajeador más potente que pu...</td>\n",
       "      <td>• Incluye cable extra largo de 3.5 metros  ...</td>\n",
       "      <td>https://www.amantis.net/masaje-sexy-8-programa...</td>\n",
       "    </tr>\n",
       "    <tr>\n",
       "      <th>6</th>\n",
       "      <td>6</td>\n",
       "      <td>MINI+ de amantis</td>\n",
       "      <td>minimasajeador sumergible con 5 cabezales</td>\n",
       "      <td>Por fin el clásico mini masajeador que ha dado...</td>\n",
       "      <td>•  Longitud 10 cm, 2.5cm diámetro de contac...</td>\n",
       "      <td>https://www.amantis.net/mini-amantis-minimasaj...</td>\n",
       "    </tr>\n",
       "    <tr>\n",
       "      <th>7</th>\n",
       "      <td>7</td>\n",
       "      <td>MINI MASSAJI</td>\n",
       "      <td>masajeador corporal portátil super potente</td>\n",
       "      <td>Está clarísimo que el masaje por vibración apo...</td>\n",
       "      <td>Medidas: 11cm de largo y 4 cm de ancho.Materia...</td>\n",
       "      <td>https://www.amantis.net/mini-massaji-masajeado...</td>\n",
       "    </tr>\n",
       "    <tr>\n",
       "      <th>8</th>\n",
       "      <td>8</td>\n",
       "      <td>PURE WAND</td>\n",
       "      <td>Sofisticada varita vibradora de metal dorada</td>\n",
       "      <td>Antes muertas que sencillas, antes muertas que...</td>\n",
       "      <td>Varita  Metálica vibradora1,85 cm de diámetro,...</td>\n",
       "      <td>https://www.amantis.net/pure-wand-varita-vibra...</td>\n",
       "    </tr>\n",
       "    <tr>\n",
       "      <th>9</th>\n",
       "      <td>9</td>\n",
       "      <td>MAX WAND el masajeador sexual más grande y pod...</td>\n",
       "      <td>None</td>\n",
       "      <td>Que te duela algo ya no es excusa para no tene...</td>\n",
       "      <td>Masajeador de silicona médica y ABS libre de f...</td>\n",
       "      <td>https://www.amantis.net/max-wand-el-masajeador...</td>\n",
       "    </tr>\n",
       "  </tbody>\n",
       "</table>\n",
       "</div>"
      ],
      "text/plain": [
       "   ID                                            PRODUCT  \\\n",
       "0   0                                           MASABOOM   \n",
       "1   1                                            MASSAJI   \n",
       "2   2                                          DIGIT PRO   \n",
       "3   3                                      MINI CARNIVAL   \n",
       "4   4                                             LINGÜS   \n",
       "5   5                        MASAJE SEXY con 8 programas   \n",
       "6   6                                   MINI+ de amantis   \n",
       "7   7                                       MINI MASSAJI   \n",
       "8   8                                          PURE WAND   \n",
       "9   9  MAX WAND el masajeador sexual más grande y pod...   \n",
       "\n",
       "                                              SLOGAN  \\\n",
       "0                          El gran masajeador sexual   \n",
       "1  Potente masajeador japonés sumergible de silicona   \n",
       "2                        dedal vibrador con sujeción   \n",
       "3               mini_masajeador con cuatro cabezales   \n",
       "4                 Vibrador para Sexo Oral de amantis   \n",
       "5                      potente masaje mágico de 220v   \n",
       "6          minimasajeador sumergible con 5 cabezales   \n",
       "7         masajeador corporal portátil super potente   \n",
       "8       Sofisticada varita vibradora de metal dorada   \n",
       "9                                               None   \n",
       "\n",
       "                                         DESCRIPTION  \\\n",
       "0  Este es el juguete para todas, todos y todes. ...   \n",
       "1  ¿Quieres una velada perfecta tras un largo día...   \n",
       "2  Los dedos siempre han sido grandes aliados de ...   \n",
       "3  ¿Conoces a MINI+? Puse hoy es tu día de suerte...   \n",
       "4  Milenios de sabiduría en el arte del cunniling...   \n",
       "5  Probablemente el masajeador más potente que pu...   \n",
       "6  Por fin el clásico mini masajeador que ha dado...   \n",
       "7  Está clarísimo que el masaje por vibración apo...   \n",
       "8  Antes muertas que sencillas, antes muertas que...   \n",
       "9  Que te duela algo ya no es excusa para no tene...   \n",
       "\n",
       "                                     CHARACTERISTICS  \\\n",
       "0  Masajeador con forma de micrófonoMaterial: sil...   \n",
       "1  Masajeador Japonés Massaji Material: Silicona ...   \n",
       "2  Dedal vibradorMaterial: silicona de grado médi...   \n",
       "3  Mini masajeador con cuatro cabezalesCabezales ...   \n",
       "4  Material: silicona + abs10 modos de vibraciónT...   \n",
       "5     • Incluye cable extra largo de 3.5 metros  ...   \n",
       "6     •  Longitud 10 cm, 2.5cm diámetro de contac...   \n",
       "7  Medidas: 11cm de largo y 4 cm de ancho.Materia...   \n",
       "8  Varita  Metálica vibradora1,85 cm de diámetro,...   \n",
       "9  Masajeador de silicona médica y ABS libre de f...   \n",
       "\n",
       "                                                 URL  \n",
       "0  https://www.amantis.net/masaboom-el-gran-masaj...  \n",
       "1  https://www.amantis.net/massaji-potente-masaje...  \n",
       "2  https://www.amantis.net/digit-pro-dedal-vibrad...  \n",
       "3  https://www.amantis.net/mini-carnival-mini-mas...  \n",
       "4  https://www.amantis.net/lingus-vibrador-sexo-o...  \n",
       "5  https://www.amantis.net/masaje-sexy-8-programa...  \n",
       "6  https://www.amantis.net/mini-amantis-minimasaj...  \n",
       "7  https://www.amantis.net/mini-massaji-masajeado...  \n",
       "8  https://www.amantis.net/pure-wand-varita-vibra...  \n",
       "9  https://www.amantis.net/max-wand-el-masajeador...  "
      ]
     },
     "execution_count": 4,
     "metadata": {},
     "output_type": "execute_result"
    }
   ],
   "source": [
    "query='''SELECT * FROM PRODUCT LIMIT (10)'''\n",
    "f.sql_query(query,cursor)"
   ]
  },
  {
   "cell_type": "code",
   "execution_count": 3,
   "metadata": {},
   "outputs": [
    {
     "data": {
      "text/html": [
       "<div>\n",
       "<style scoped>\n",
       "    .dataframe tbody tr th:only-of-type {\n",
       "        vertical-align: middle;\n",
       "    }\n",
       "\n",
       "    .dataframe tbody tr th {\n",
       "        vertical-align: top;\n",
       "    }\n",
       "\n",
       "    .dataframe thead th {\n",
       "        text-align: right;\n",
       "    }\n",
       "</style>\n",
       "<table border=\"1\" class=\"dataframe\">\n",
       "  <thead>\n",
       "    <tr style=\"text-align: right;\">\n",
       "      <th></th>\n",
       "      <th>ID_COMMENT</th>\n",
       "      <th>ID_PRODUCT</th>\n",
       "      <th>DATE</th>\n",
       "      <th>RATIO</th>\n",
       "      <th>ID_USERS</th>\n",
       "      <th>COMMENT</th>\n",
       "    </tr>\n",
       "  </thead>\n",
       "  <tbody>\n",
       "    <tr>\n",
       "      <th>0</th>\n",
       "      <td>0</td>\n",
       "      <td>1</td>\n",
       "      <td>2023-01-25</td>\n",
       "      <td>5</td>\n",
       "      <td>0</td>\n",
       "      <td>Es un vibrador discreto y eficaz. Es uno de mi...</td>\n",
       "    </tr>\n",
       "    <tr>\n",
       "      <th>1</th>\n",
       "      <td>1</td>\n",
       "      <td>1</td>\n",
       "      <td>2023-01-09</td>\n",
       "      <td>5</td>\n",
       "      <td>1</td>\n",
       "      <td>el vibrador de cabecera de mi mujer. Después d...</td>\n",
       "    </tr>\n",
       "    <tr>\n",
       "      <th>2</th>\n",
       "      <td>2</td>\n",
       "      <td>1</td>\n",
       "      <td>2022-12-10</td>\n",
       "      <td>3</td>\n",
       "      <td>2</td>\n",
       "      <td>Tenía uno de otra tienda y compré este porque ...</td>\n",
       "    </tr>\n",
       "    <tr>\n",
       "      <th>3</th>\n",
       "      <td>3</td>\n",
       "      <td>1</td>\n",
       "      <td>2022-10-04</td>\n",
       "      <td>5</td>\n",
       "      <td>3</td>\n",
       "      <td>Es una buena compra. Muy agradable, con difere...</td>\n",
       "    </tr>\n",
       "    <tr>\n",
       "      <th>4</th>\n",
       "      <td>4</td>\n",
       "      <td>1</td>\n",
       "      <td>2022-07-07</td>\n",
       "      <td>5</td>\n",
       "      <td>4</td>\n",
       "      <td>Buen juguete más centrado en los precalentamie...</td>\n",
       "    </tr>\n",
       "    <tr>\n",
       "      <th>5</th>\n",
       "      <td>5</td>\n",
       "      <td>1</td>\n",
       "      <td>2022-06-24</td>\n",
       "      <td>5</td>\n",
       "      <td>5</td>\n",
       "      <td>Mi juguete de cabecera. Siempre a mano en mi m...</td>\n",
       "    </tr>\n",
       "    <tr>\n",
       "      <th>6</th>\n",
       "      <td>6</td>\n",
       "      <td>1</td>\n",
       "      <td>2022-05-05</td>\n",
       "      <td>5</td>\n",
       "      <td>6</td>\n",
       "      <td>Es genial! Llevaba tiempo con ganas de algo as...</td>\n",
       "    </tr>\n",
       "    <tr>\n",
       "      <th>7</th>\n",
       "      <td>7</td>\n",
       "      <td>1</td>\n",
       "      <td>2022-01-12</td>\n",
       "      <td>5</td>\n",
       "      <td>7</td>\n",
       "      <td>¡Una maravilla! Como estimulación externa pued...</td>\n",
       "    </tr>\n",
       "    <tr>\n",
       "      <th>8</th>\n",
       "      <td>8</td>\n",
       "      <td>1</td>\n",
       "      <td>2022-01-03</td>\n",
       "      <td>5</td>\n",
       "      <td>8</td>\n",
       "      <td>Conocí este juguete gracias a las recomendacio...</td>\n",
       "    </tr>\n",
       "    <tr>\n",
       "      <th>9</th>\n",
       "      <td>9</td>\n",
       "      <td>1</td>\n",
       "      <td>2021-08-25</td>\n",
       "      <td>5</td>\n",
       "      <td>9</td>\n",
       "      <td>Fabuloso. rnPotente pero no molesto.rnMás pequ...</td>\n",
       "    </tr>\n",
       "  </tbody>\n",
       "</table>\n",
       "</div>"
      ],
      "text/plain": [
       "   ID_COMMENT  ID_PRODUCT        DATE  RATIO  ID_USERS  \\\n",
       "0           0           1  2023-01-25      5         0   \n",
       "1           1           1  2023-01-09      5         1   \n",
       "2           2           1  2022-12-10      3         2   \n",
       "3           3           1  2022-10-04      5         3   \n",
       "4           4           1  2022-07-07      5         4   \n",
       "5           5           1  2022-06-24      5         5   \n",
       "6           6           1  2022-05-05      5         6   \n",
       "7           7           1  2022-01-12      5         7   \n",
       "8           8           1  2022-01-03      5         8   \n",
       "9           9           1  2021-08-25      5         9   \n",
       "\n",
       "                                             COMMENT  \n",
       "0  Es un vibrador discreto y eficaz. Es uno de mi...  \n",
       "1  el vibrador de cabecera de mi mujer. Después d...  \n",
       "2  Tenía uno de otra tienda y compré este porque ...  \n",
       "3  Es una buena compra. Muy agradable, con difere...  \n",
       "4  Buen juguete más centrado en los precalentamie...  \n",
       "5  Mi juguete de cabecera. Siempre a mano en mi m...  \n",
       "6  Es genial! Llevaba tiempo con ganas de algo as...  \n",
       "7  ¡Una maravilla! Como estimulación externa pued...  \n",
       "8  Conocí este juguete gracias a las recomendacio...  \n",
       "9  Fabuloso. rnPotente pero no molesto.rnMás pequ...  "
      ]
     },
     "execution_count": 3,
     "metadata": {},
     "output_type": "execute_result"
    }
   ],
   "source": [
    "query='''SELECT * FROM COMMENT LIMIT (10)'''\n",
    "f.sql_query(query,cursor)"
   ]
  },
  {
   "cell_type": "code",
   "execution_count": 5,
   "metadata": {},
   "outputs": [
    {
     "data": {
      "text/html": [
       "<div>\n",
       "<style scoped>\n",
       "    .dataframe tbody tr th:only-of-type {\n",
       "        vertical-align: middle;\n",
       "    }\n",
       "\n",
       "    .dataframe tbody tr th {\n",
       "        vertical-align: top;\n",
       "    }\n",
       "\n",
       "    .dataframe thead th {\n",
       "        text-align: right;\n",
       "    }\n",
       "</style>\n",
       "<table border=\"1\" class=\"dataframe\">\n",
       "  <thead>\n",
       "    <tr style=\"text-align: right;\">\n",
       "      <th></th>\n",
       "      <th>ID</th>\n",
       "      <th>JUGUETES</th>\n",
       "      <th>MUEBLES</th>\n",
       "      <th>LENCERIA</th>\n",
       "      <th>MASCULINO</th>\n",
       "      <th>FEMININO</th>\n",
       "      <th>ANAL</th>\n",
       "      <th>BDSM</th>\n",
       "      <th>AMENITIES</th>\n",
       "    </tr>\n",
       "  </thead>\n",
       "  <tbody>\n",
       "    <tr>\n",
       "      <th>0</th>\n",
       "      <td>0</td>\n",
       "      <td>1</td>\n",
       "      <td>0</td>\n",
       "      <td>0</td>\n",
       "      <td>1</td>\n",
       "      <td>0</td>\n",
       "      <td>0</td>\n",
       "      <td>0</td>\n",
       "      <td>0</td>\n",
       "    </tr>\n",
       "    <tr>\n",
       "      <th>1</th>\n",
       "      <td>1</td>\n",
       "      <td>1</td>\n",
       "      <td>1</td>\n",
       "      <td>0</td>\n",
       "      <td>0</td>\n",
       "      <td>0</td>\n",
       "      <td>1</td>\n",
       "      <td>0</td>\n",
       "      <td>0</td>\n",
       "    </tr>\n",
       "    <tr>\n",
       "      <th>2</th>\n",
       "      <td>2</td>\n",
       "      <td>0</td>\n",
       "      <td>0</td>\n",
       "      <td>1</td>\n",
       "      <td>1</td>\n",
       "      <td>0</td>\n",
       "      <td>1</td>\n",
       "      <td>0</td>\n",
       "      <td>0</td>\n",
       "    </tr>\n",
       "    <tr>\n",
       "      <th>3</th>\n",
       "      <td>3</td>\n",
       "      <td>1</td>\n",
       "      <td>1</td>\n",
       "      <td>0</td>\n",
       "      <td>0</td>\n",
       "      <td>0</td>\n",
       "      <td>0</td>\n",
       "      <td>0</td>\n",
       "      <td>0</td>\n",
       "    </tr>\n",
       "    <tr>\n",
       "      <th>4</th>\n",
       "      <td>4</td>\n",
       "      <td>0</td>\n",
       "      <td>0</td>\n",
       "      <td>0</td>\n",
       "      <td>0</td>\n",
       "      <td>0</td>\n",
       "      <td>1</td>\n",
       "      <td>0</td>\n",
       "      <td>0</td>\n",
       "    </tr>\n",
       "    <tr>\n",
       "      <th>5</th>\n",
       "      <td>5</td>\n",
       "      <td>0</td>\n",
       "      <td>0</td>\n",
       "      <td>0</td>\n",
       "      <td>0</td>\n",
       "      <td>0</td>\n",
       "      <td>1</td>\n",
       "      <td>0</td>\n",
       "      <td>0</td>\n",
       "    </tr>\n",
       "    <tr>\n",
       "      <th>6</th>\n",
       "      <td>6</td>\n",
       "      <td>0</td>\n",
       "      <td>0</td>\n",
       "      <td>0</td>\n",
       "      <td>1</td>\n",
       "      <td>0</td>\n",
       "      <td>1</td>\n",
       "      <td>0</td>\n",
       "      <td>0</td>\n",
       "    </tr>\n",
       "    <tr>\n",
       "      <th>7</th>\n",
       "      <td>7</td>\n",
       "      <td>1</td>\n",
       "      <td>1</td>\n",
       "      <td>1</td>\n",
       "      <td>1</td>\n",
       "      <td>0</td>\n",
       "      <td>1</td>\n",
       "      <td>0</td>\n",
       "      <td>0</td>\n",
       "    </tr>\n",
       "    <tr>\n",
       "      <th>8</th>\n",
       "      <td>8</td>\n",
       "      <td>0</td>\n",
       "      <td>0</td>\n",
       "      <td>1</td>\n",
       "      <td>0</td>\n",
       "      <td>0</td>\n",
       "      <td>0</td>\n",
       "      <td>0</td>\n",
       "      <td>0</td>\n",
       "    </tr>\n",
       "    <tr>\n",
       "      <th>9</th>\n",
       "      <td>9</td>\n",
       "      <td>0</td>\n",
       "      <td>1</td>\n",
       "      <td>0</td>\n",
       "      <td>0</td>\n",
       "      <td>0</td>\n",
       "      <td>0</td>\n",
       "      <td>0</td>\n",
       "      <td>0</td>\n",
       "    </tr>\n",
       "  </tbody>\n",
       "</table>\n",
       "</div>"
      ],
      "text/plain": [
       "   ID  JUGUETES  MUEBLES  LENCERIA  MASCULINO  FEMININO  ANAL  BDSM  AMENITIES\n",
       "0   0         1        0         0          1         0     0     0          0\n",
       "1   1         1        1         0          0         0     1     0          0\n",
       "2   2         0        0         1          1         0     1     0          0\n",
       "3   3         1        1         0          0         0     0     0          0\n",
       "4   4         0        0         0          0         0     1     0          0\n",
       "5   5         0        0         0          0         0     1     0          0\n",
       "6   6         0        0         0          1         0     1     0          0\n",
       "7   7         1        1         1          1         0     1     0          0\n",
       "8   8         0        0         1          0         0     0     0          0\n",
       "9   9         0        1         0          0         0     0     0          0"
      ]
     },
     "execution_count": 5,
     "metadata": {},
     "output_type": "execute_result"
    }
   ],
   "source": [
    "query='''SELECT * FROM TAGS LIMIT (10)'''\n",
    "f.sql_query(query,cursor)"
   ]
  },
  {
   "cell_type": "code",
   "execution_count": 6,
   "metadata": {},
   "outputs": [
    {
     "data": {
      "text/html": [
       "<div>\n",
       "<style scoped>\n",
       "    .dataframe tbody tr th:only-of-type {\n",
       "        vertical-align: middle;\n",
       "    }\n",
       "\n",
       "    .dataframe tbody tr th {\n",
       "        vertical-align: top;\n",
       "    }\n",
       "\n",
       "    .dataframe thead th {\n",
       "        text-align: right;\n",
       "    }\n",
       "</style>\n",
       "<table border=\"1\" class=\"dataframe\">\n",
       "  <thead>\n",
       "    <tr style=\"text-align: right;\">\n",
       "      <th></th>\n",
       "      <th>PRODUCT</th>\n",
       "      <th>DATE</th>\n",
       "      <th>RATIO</th>\n",
       "      <th>COMMENT</th>\n",
       "    </tr>\n",
       "  </thead>\n",
       "  <tbody>\n",
       "    <tr>\n",
       "      <th>0</th>\n",
       "      <td>MASSAJI</td>\n",
       "      <td>2023-01-25</td>\n",
       "      <td>5</td>\n",
       "      <td>Es un vibrador discreto y eficaz. Es uno de mi...</td>\n",
       "    </tr>\n",
       "    <tr>\n",
       "      <th>1</th>\n",
       "      <td>MASSAJI</td>\n",
       "      <td>2023-01-09</td>\n",
       "      <td>5</td>\n",
       "      <td>el vibrador de cabecera de mi mujer. Después d...</td>\n",
       "    </tr>\n",
       "    <tr>\n",
       "      <th>2</th>\n",
       "      <td>MASSAJI</td>\n",
       "      <td>2022-12-10</td>\n",
       "      <td>3</td>\n",
       "      <td>Tenía uno de otra tienda y compré este porque ...</td>\n",
       "    </tr>\n",
       "    <tr>\n",
       "      <th>3</th>\n",
       "      <td>MASSAJI</td>\n",
       "      <td>2022-10-04</td>\n",
       "      <td>5</td>\n",
       "      <td>Es una buena compra. Muy agradable, con difere...</td>\n",
       "    </tr>\n",
       "    <tr>\n",
       "      <th>4</th>\n",
       "      <td>MASSAJI</td>\n",
       "      <td>2022-07-07</td>\n",
       "      <td>5</td>\n",
       "      <td>Buen juguete más centrado en los precalentamie...</td>\n",
       "    </tr>\n",
       "    <tr>\n",
       "      <th>5</th>\n",
       "      <td>MASSAJI</td>\n",
       "      <td>2022-06-24</td>\n",
       "      <td>5</td>\n",
       "      <td>Mi juguete de cabecera. Siempre a mano en mi m...</td>\n",
       "    </tr>\n",
       "    <tr>\n",
       "      <th>6</th>\n",
       "      <td>MASSAJI</td>\n",
       "      <td>2022-05-05</td>\n",
       "      <td>5</td>\n",
       "      <td>Es genial! Llevaba tiempo con ganas de algo as...</td>\n",
       "    </tr>\n",
       "    <tr>\n",
       "      <th>7</th>\n",
       "      <td>MASSAJI</td>\n",
       "      <td>2022-01-12</td>\n",
       "      <td>5</td>\n",
       "      <td>¡Una maravilla! Como estimulación externa pued...</td>\n",
       "    </tr>\n",
       "    <tr>\n",
       "      <th>8</th>\n",
       "      <td>MASSAJI</td>\n",
       "      <td>2022-01-03</td>\n",
       "      <td>5</td>\n",
       "      <td>Conocí este juguete gracias a las recomendacio...</td>\n",
       "    </tr>\n",
       "    <tr>\n",
       "      <th>9</th>\n",
       "      <td>MASSAJI</td>\n",
       "      <td>2021-08-25</td>\n",
       "      <td>5</td>\n",
       "      <td>Fabuloso. rnPotente pero no molesto.rnMás pequ...</td>\n",
       "    </tr>\n",
       "  </tbody>\n",
       "</table>\n",
       "</div>"
      ],
      "text/plain": [
       "   PRODUCT        DATE  RATIO  \\\n",
       "0  MASSAJI  2023-01-25      5   \n",
       "1  MASSAJI  2023-01-09      5   \n",
       "2  MASSAJI  2022-12-10      3   \n",
       "3  MASSAJI  2022-10-04      5   \n",
       "4  MASSAJI  2022-07-07      5   \n",
       "5  MASSAJI  2022-06-24      5   \n",
       "6  MASSAJI  2022-05-05      5   \n",
       "7  MASSAJI  2022-01-12      5   \n",
       "8  MASSAJI  2022-01-03      5   \n",
       "9  MASSAJI  2021-08-25      5   \n",
       "\n",
       "                                             COMMENT  \n",
       "0  Es un vibrador discreto y eficaz. Es uno de mi...  \n",
       "1  el vibrador de cabecera de mi mujer. Después d...  \n",
       "2  Tenía uno de otra tienda y compré este porque ...  \n",
       "3  Es una buena compra. Muy agradable, con difere...  \n",
       "4  Buen juguete más centrado en los precalentamie...  \n",
       "5  Mi juguete de cabecera. Siempre a mano en mi m...  \n",
       "6  Es genial! Llevaba tiempo con ganas de algo as...  \n",
       "7  ¡Una maravilla! Como estimulación externa pued...  \n",
       "8  Conocí este juguete gracias a las recomendacio...  \n",
       "9  Fabuloso. rnPotente pero no molesto.rnMás pequ...  "
      ]
     },
     "execution_count": 6,
     "metadata": {},
     "output_type": "execute_result"
    }
   ],
   "source": [
    "query='''SELECT * FROM COMMENTS_PER_PRODUCT LIMIT (10)'''\n",
    "f.sql_query(query,cursor)"
   ]
  },
  {
   "attachments": {},
   "cell_type": "markdown",
   "metadata": {},
   "source": [
    "### Vamos a evaluar los productos en función del descuento que se aplica:"
   ]
  },
  {
   "attachments": {},
   "cell_type": "markdown",
   "metadata": {},
   "source": [
    "#### Estudio sobre los descuentos que se aplican.\n",
    "\n",
    "Para ello vamos a ver cuántos productos tienen un descuento en la fecha que hemos cargado los datos y también cuanto descuento hay aplicado."
   ]
  },
  {
   "cell_type": "code",
   "execution_count": 3,
   "metadata": {},
   "outputs": [
    {
     "data": {
      "text/html": [
       "<div>\n",
       "<style scoped>\n",
       "    .dataframe tbody tr th:only-of-type {\n",
       "        vertical-align: middle;\n",
       "    }\n",
       "\n",
       "    .dataframe tbody tr th {\n",
       "        vertical-align: top;\n",
       "    }\n",
       "\n",
       "    .dataframe thead th {\n",
       "        text-align: right;\n",
       "    }\n",
       "</style>\n",
       "<table border=\"1\" class=\"dataframe\">\n",
       "  <thead>\n",
       "    <tr style=\"text-align: right;\">\n",
       "      <th></th>\n",
       "      <th>NAME</th>\n",
       "      <th>DATE_DOWNLOAD</th>\n",
       "      <th>DISCOUNT</th>\n",
       "      <th>PERCENTUAL_DISCOUNT</th>\n",
       "    </tr>\n",
       "  </thead>\n",
       "  <tbody>\n",
       "    <tr>\n",
       "      <th>0</th>\n",
       "      <td>Bacanal FORTE TARRO 200ml</td>\n",
       "      <td>231012.0</td>\n",
       "      <td>0.0</td>\n",
       "      <td>0.000000</td>\n",
       "    </tr>\n",
       "    <tr>\n",
       "      <th>1</th>\n",
       "      <td>Desliz! de silicona 100ml</td>\n",
       "      <td>231012.0</td>\n",
       "      <td>0.0</td>\n",
       "      <td>0.000000</td>\n",
       "    </tr>\n",
       "    <tr>\n",
       "      <th>2</th>\n",
       "      <td>Pilas para tu TOK1</td>\n",
       "      <td>231012.0</td>\n",
       "      <td>0.0</td>\n",
       "      <td>0.000000</td>\n",
       "    </tr>\n",
       "    <tr>\n",
       "      <th>3</th>\n",
       "      <td>Desliz! Eco Mandarina</td>\n",
       "      <td>231012.0</td>\n",
       "      <td>-1.0</td>\n",
       "      <td>6.671114</td>\n",
       "    </tr>\n",
       "    <tr>\n",
       "      <th>4</th>\n",
       "      <td>Desliz! Eco Fresa</td>\n",
       "      <td>231012.0</td>\n",
       "      <td>-1.0</td>\n",
       "      <td>6.671114</td>\n",
       "    </tr>\n",
       "    <tr>\n",
       "      <th>5</th>\n",
       "      <td>Desliz! Lubricante íntimo de agua 100ml</td>\n",
       "      <td>231012.0</td>\n",
       "      <td>-2.0</td>\n",
       "      <td>20.020020</td>\n",
       "    </tr>\n",
       "    <tr>\n",
       "      <th>6</th>\n",
       "      <td>Bolsa de satén para guardar juguetes eróticos</td>\n",
       "      <td>231012.0</td>\n",
       "      <td>-2.0</td>\n",
       "      <td>66.889632</td>\n",
       "    </tr>\n",
       "    <tr>\n",
       "      <th>7</th>\n",
       "      <td>VELISSIMA</td>\n",
       "      <td>231012.0</td>\n",
       "      <td>-2.0</td>\n",
       "      <td>20.020020</td>\n",
       "    </tr>\n",
       "    <tr>\n",
       "      <th>8</th>\n",
       "      <td>Desliz! Anal</td>\n",
       "      <td>231012.0</td>\n",
       "      <td>-2.0</td>\n",
       "      <td>16.680567</td>\n",
       "    </tr>\n",
       "    <tr>\n",
       "      <th>9</th>\n",
       "      <td>Bolsas de terciopelo para guardar juguetes eró...</td>\n",
       "      <td>231012.0</td>\n",
       "      <td>-2.0</td>\n",
       "      <td>66.889632</td>\n",
       "    </tr>\n",
       "  </tbody>\n",
       "</table>\n",
       "</div>"
      ],
      "text/plain": [
       "                                                NAME DATE_DOWNLOAD  DISCOUNT  \\\n",
       "0                          Bacanal FORTE TARRO 200ml      231012.0       0.0   \n",
       "1                          Desliz! de silicona 100ml      231012.0       0.0   \n",
       "2                                 Pilas para tu TOK1      231012.0       0.0   \n",
       "3                              Desliz! Eco Mandarina      231012.0      -1.0   \n",
       "4                                  Desliz! Eco Fresa      231012.0      -1.0   \n",
       "5            Desliz! Lubricante íntimo de agua 100ml      231012.0      -2.0   \n",
       "6      Bolsa de satén para guardar juguetes eróticos      231012.0      -2.0   \n",
       "7                                          VELISSIMA      231012.0      -2.0   \n",
       "8                                       Desliz! Anal      231012.0      -2.0   \n",
       "9  Bolsas de terciopelo para guardar juguetes eró...      231012.0      -2.0   \n",
       "\n",
       "   PERCENTUAL_DISCOUNT  \n",
       "0             0.000000  \n",
       "1             0.000000  \n",
       "2             0.000000  \n",
       "3             6.671114  \n",
       "4             6.671114  \n",
       "5            20.020020  \n",
       "6            66.889632  \n",
       "7            20.020020  \n",
       "8            16.680567  \n",
       "9            66.889632  "
      ]
     },
     "execution_count": 3,
     "metadata": {},
     "output_type": "execute_result"
    }
   ],
   "source": [
    "query='''SELECT PRODUCT.PRODUCT AS NAME, DATE_DOWNLOAD, [DISCOUNT_PRICE]-[REGULAR_PRICE] AS DISCOUNT,\n",
    "ABS([DISCOUNT_PRICE]-[REGULAR_PRICE])/[REGULAR_PRICE]*100 as PERCENTUAL_DISCOUNT FROM PRICES \n",
    "JOIN PRODUCT ON PRODUCT.ID=PRICES.ID_PRODUCT\n",
    "ORDER BY DISCOUNT DESC'''                                           # Realizamos esta ordenación para verificar que no hay un producto que haya subido el precio\n",
    "discount_df=f.sql_query(query,cursor)\n",
    "discount_df.head(10)\n"
   ]
  },
  {
   "cell_type": "code",
   "execution_count": 26,
   "metadata": {},
   "outputs": [
    {
     "name": "stdout",
     "output_type": "stream",
     "text": [
      "<class 'pandas.core.frame.DataFrame'>\n",
      "RangeIndex: 561 entries, 0 to 560\n",
      "Data columns (total 4 columns):\n",
      " #   Column               Non-Null Count  Dtype  \n",
      "---  ------               --------------  -----  \n",
      " 0   NAME                 561 non-null    object \n",
      " 1   DATE_DOWNLOAD        561 non-null    object \n",
      " 2   DISCOUNT             561 non-null    float64\n",
      " 3   PERCENTUAL_DISCOUNT  561 non-null    float64\n",
      "dtypes: float64(2), object(2)\n",
      "memory usage: 17.7+ KB\n"
     ]
    }
   ],
   "source": [
    "discount_df.info()"
   ]
  },
  {
   "cell_type": "markdown",
   "metadata": {},
   "source": [
    "Aplicamos una mascara para poder discriminar entre los que tienen y no tienen descuento para realizar una gráfica.\n",
    "\n",
    "En esta gráfica utilizaremos los valores *True / False* para cada fecha concreta que tengamos almacenado el precio."
   ]
  },
  {
   "cell_type": "code",
   "execution_count": 4,
   "metadata": {},
   "outputs": [
    {
     "data": {
      "text/html": [
       "<div>\n",
       "<style scoped>\n",
       "    .dataframe tbody tr th:only-of-type {\n",
       "        vertical-align: middle;\n",
       "    }\n",
       "\n",
       "    .dataframe tbody tr th {\n",
       "        vertical-align: top;\n",
       "    }\n",
       "\n",
       "    .dataframe thead th {\n",
       "        text-align: right;\n",
       "    }\n",
       "</style>\n",
       "<table border=\"1\" class=\"dataframe\">\n",
       "  <thead>\n",
       "    <tr style=\"text-align: right;\">\n",
       "      <th></th>\n",
       "      <th>NAME</th>\n",
       "      <th>DATE_DOWNLOAD</th>\n",
       "      <th>DISCOUNT</th>\n",
       "      <th>PERCENTUAL_DISCOUNT</th>\n",
       "      <th>WITH_DISCOUNT</th>\n",
       "    </tr>\n",
       "  </thead>\n",
       "  <tbody>\n",
       "    <tr>\n",
       "      <th>0</th>\n",
       "      <td>Bacanal FORTE TARRO 200ml</td>\n",
       "      <td>231012.0</td>\n",
       "      <td>0.0</td>\n",
       "      <td>0.000000</td>\n",
       "      <td>False</td>\n",
       "    </tr>\n",
       "    <tr>\n",
       "      <th>1</th>\n",
       "      <td>Desliz! de silicona 100ml</td>\n",
       "      <td>231012.0</td>\n",
       "      <td>0.0</td>\n",
       "      <td>0.000000</td>\n",
       "      <td>False</td>\n",
       "    </tr>\n",
       "    <tr>\n",
       "      <th>2</th>\n",
       "      <td>Pilas para tu TOK1</td>\n",
       "      <td>231012.0</td>\n",
       "      <td>0.0</td>\n",
       "      <td>0.000000</td>\n",
       "      <td>False</td>\n",
       "    </tr>\n",
       "    <tr>\n",
       "      <th>3</th>\n",
       "      <td>Desliz! Eco Mandarina</td>\n",
       "      <td>231012.0</td>\n",
       "      <td>-1.0</td>\n",
       "      <td>6.671114</td>\n",
       "      <td>True</td>\n",
       "    </tr>\n",
       "    <tr>\n",
       "      <th>4</th>\n",
       "      <td>Desliz! Eco Fresa</td>\n",
       "      <td>231012.0</td>\n",
       "      <td>-1.0</td>\n",
       "      <td>6.671114</td>\n",
       "      <td>True</td>\n",
       "    </tr>\n",
       "  </tbody>\n",
       "</table>\n",
       "</div>"
      ],
      "text/plain": [
       "                        NAME DATE_DOWNLOAD  DISCOUNT  PERCENTUAL_DISCOUNT  \\\n",
       "0  Bacanal FORTE TARRO 200ml      231012.0       0.0             0.000000   \n",
       "1  Desliz! de silicona 100ml      231012.0       0.0             0.000000   \n",
       "2         Pilas para tu TOK1      231012.0       0.0             0.000000   \n",
       "3      Desliz! Eco Mandarina      231012.0      -1.0             6.671114   \n",
       "4          Desliz! Eco Fresa      231012.0      -1.0             6.671114   \n",
       "\n",
       "   WITH_DISCOUNT  \n",
       "0          False  \n",
       "1          False  \n",
       "2          False  \n",
       "3           True  \n",
       "4           True  "
      ]
     },
     "execution_count": 4,
     "metadata": {},
     "output_type": "execute_result"
    }
   ],
   "source": [
    "discount_df['WITH_DISCOUNT'] = np.where(discount_df['DISCOUNT']==0, False,True)\n",
    "discount_df.head()"
   ]
  },
  {
   "cell_type": "code",
   "execution_count": 49,
   "metadata": {},
   "outputs": [
    {
     "data": {
      "text/plain": [
       "list"
      ]
     },
     "execution_count": 49,
     "metadata": {},
     "output_type": "execute_result"
    },
    {
     "data": {
      "image/png": "[encoded data removed]",
      "text/plain": [
       "<Figure size 800x800 with 1 Axes>"
      ]
     },
     "metadata": {},
     "output_type": "display_data"
    }
   ],
   "source": [
    "label=['WITH_DISCOUNT','WITHOUT_DISCOUNT']\n",
    "plt.figure(figsize=(8,8))\n",
    "data = discount_df.groupby(['DATE_DOWNLOAD'])[\"WITH_DISCOUNT\"].value_counts()\n",
    "# label=data.index[0][1],data.index[1][1]\n",
    "\n",
    "my_circle=plt.Circle( (0,0),\n",
    "                     0.7, color='white')\n",
    "plt.pie(data.values,\n",
    "        labels=label,\n",
    "        autopct='%1.2f%%')\n",
    "\n",
    "plt.title(\"PERCENTAGE OFFERS\")\n",
    "plt.ylabel(data.index[0][0])\n",
    "p=plt.gcf()\n",
    "p.gca().add_artist(my_circle);"
   ]
  },
  {
   "cell_type": "markdown",
   "metadata": {},
   "source": [
    "Vamos a probar otro tipo de gráfico ya que en un futuro queremos realizar evaluaciones de diferentes fechas, para ello hemos pensado en un barplot."
   ]
  },
  {
   "cell_type": "code",
   "execution_count": 89,
   "metadata": {},
   "outputs": [
    {
     "data": {
      "image/png": "[encoded data removed]",
      "text/plain": [
       "<Figure size 1000x500 with 1 Axes>"
      ]
     },
     "metadata": {},
     "output_type": "display_data"
    }
   ],
   "source": [
    "data = discount_df.groupby('DATE_DOWNLOAD')['WITH_DISCOUNT'].value_counts(normalize=True).unstack().fillna(0)         # Realizamos una pequeña modificación para adecuarla visualizacióon de los datos.\n",
    "\n",
    "ax = data.plot(kind='bar', stacked=True, figsize=(10, 5))\n",
    "plt.title(\"PERCENTAGE OFFERS\", fontsize=16)\n",
    "plt.xlabel(\"DATE_DOWNLOAD\",fontsize=12)\n",
    "plt.ylabel(\"% WITH / WITHOUT\",fontsize=12)\n",
    "plt.xticks(rotation=0,fontsize=8)\n",
    "ax.legend(['WITHOUT_DISCOUNT', 'WITH_DISCOUNT'], loc='upper right',frameon=False,fontsize=8);"
   ]
  },
  {
   "cell_type": "markdown",
   "metadata": {},
   "source": [
    "El código para extraer la información y mostrarla directamente puede quedar del siguiente modo:"
   ]
  },
  {
   "cell_type": "code",
   "execution_count": 92,
   "metadata": {},
   "outputs": [
    {
     "data": {
      "image/png": "[encoded data removed]",
      "text/plain": [
       "<Figure size 1000x500 with 1 Axes>"
      ]
     },
     "metadata": {},
     "output_type": "display_data"
    }
   ],
   "source": [
    "plt.figure(figsize=(10,5))\n",
    "plt.title(\"PERCENTAGE OFFERS\", fontsize=16)\n",
    "\n",
    "label=['WITH_DISCOUNT','WITHOUT_DISCOUNT']          # Definimos los nombres de las labels\n",
    "\n",
    "'''Definimos un pieplot en blanco para dejar solo una circunferencia de la estrechez indicada'''\n",
    "e=0.7\n",
    "my_circle=plt.Circle( (0,0), e, color='white')            \n",
    "\n",
    "query='''SELECT PRODUCT.PRODUCT AS NAME, DATE_DOWNLOAD, REGULAR_PRICE,\n",
    "[DISCOUNT_PRICE]-[REGULAR_PRICE] AS DISCOUNT,\n",
    "ABS([DISCOUNT_PRICE]-[REGULAR_PRICE])/[REGULAR_PRICE]*100 as PERCENTUAL_DISCOUNT,\n",
    "CASE WHEN [DISCOUNT_PRICE] = [REGULAR_PRICE] THEN 0 ELSE 1 END AS WITH_DISCOUNT\n",
    "FROM PRICES  JOIN PRODUCT ON PRODUCT.ID=PRICES.ID_PRODUCT\n",
    "ORDER BY DISCOUNT DESC'''                                           # Realizamos esta ordenación para verificar que no hay un producto que haya subido el precio\n",
    "discount_df=f.sql_query(query,cursor)\n",
    "\n",
    "data = discount_df.groupby(['DATE_DOWNLOAD'])[\"WITH_DISCOUNT\"].value_counts()\n",
    "\n",
    "plt.pie(data.values,\n",
    "        labels=label,\n",
    "        autopct='%1.2f%%',\n",
    "        textprops={'fontsize': 8},\n",
    "        startangle=90, counterclock=True)\n",
    "\n",
    "plt.ylabel(data.index[0][0],fontsize=12)\n",
    "plt.yticks()\n",
    "plt.xticks(rotation=90)\n",
    "p=plt.gcf()\n",
    "p.gca().add_artist(my_circle);"
   ]
  },
  {
   "cell_type": "markdown",
   "metadata": {},
   "source": [
    "Como resultado de esta visualización podemos considerar que prácticamente **todos los productos** que ofrecen en la página web tienen un precio rebajado.\n",
    "Habrá que ver después cuanto es el descuento para saber si es puramente testimonial o si tienen descuentos atractivos. \n",
    "\n",
    "Los productos que no tienen descuento son:"
   ]
  },
  {
   "cell_type": "code",
   "execution_count": 97,
   "metadata": {},
   "outputs": [
    {
     "name": "stdout",
     "output_type": "stream",
     "text": [
      "Los productos que no tienen descuentos son: 3 \n",
      "y están representados en la siguiente tabla\n"
     ]
    },
    {
     "data": {
      "text/html": [
       "<div>\n",
       "<style scoped>\n",
       "    .dataframe tbody tr th:only-of-type {\n",
       "        vertical-align: middle;\n",
       "    }\n",
       "\n",
       "    .dataframe tbody tr th {\n",
       "        vertical-align: top;\n",
       "    }\n",
       "\n",
       "    .dataframe thead th {\n",
       "        text-align: right;\n",
       "    }\n",
       "</style>\n",
       "<table border=\"1\" class=\"dataframe\">\n",
       "  <thead>\n",
       "    <tr style=\"text-align: right;\">\n",
       "      <th></th>\n",
       "      <th>NAME</th>\n",
       "      <th>DATE_DOWNLOAD</th>\n",
       "      <th>REGULAR_PRICE</th>\n",
       "      <th>DISCOUNT</th>\n",
       "      <th>PERCENTUAL_DISCOUNT</th>\n",
       "      <th>WITH_DISCOUNT</th>\n",
       "    </tr>\n",
       "  </thead>\n",
       "  <tbody>\n",
       "    <tr>\n",
       "      <th>0</th>\n",
       "      <td>Bacanal FORTE TARRO 200ml</td>\n",
       "      <td>231012.0</td>\n",
       "      <td>24.99</td>\n",
       "      <td>0.0</td>\n",
       "      <td>0.0</td>\n",
       "      <td>0</td>\n",
       "    </tr>\n",
       "    <tr>\n",
       "      <th>1</th>\n",
       "      <td>Desliz! de silicona 100ml</td>\n",
       "      <td>231012.0</td>\n",
       "      <td>19.99</td>\n",
       "      <td>0.0</td>\n",
       "      <td>0.0</td>\n",
       "      <td>0</td>\n",
       "    </tr>\n",
       "    <tr>\n",
       "      <th>2</th>\n",
       "      <td>Pilas para tu TOK1</td>\n",
       "      <td>231012.0</td>\n",
       "      <td>2.50</td>\n",
       "      <td>0.0</td>\n",
       "      <td>0.0</td>\n",
       "      <td>0</td>\n",
       "    </tr>\n",
       "  </tbody>\n",
       "</table>\n",
       "</div>"
      ],
      "text/plain": [
       "                        NAME DATE_DOWNLOAD  REGULAR_PRICE  DISCOUNT  \\\n",
       "0  Bacanal FORTE TARRO 200ml      231012.0          24.99       0.0   \n",
       "1  Desliz! de silicona 100ml      231012.0          19.99       0.0   \n",
       "2         Pilas para tu TOK1      231012.0           2.50       0.0   \n",
       "\n",
       "   PERCENTUAL_DISCOUNT  WITH_DISCOUNT  \n",
       "0                  0.0              0  \n",
       "1                  0.0              0  \n",
       "2                  0.0              0  "
      ]
     },
     "execution_count": 97,
     "metadata": {},
     "output_type": "execute_result"
    }
   ],
   "source": [
    "print(\"Los productos que no tienen descuentos son:\", len(discount_df[discount_df['WITH_DISCOUNT']==0]),\"\\ny están representados en la siguiente tabla\")\n",
    "discount_df[discount_df['WITH_DISCOUNT']==0]"
   ]
  },
  {
   "cell_type": "markdown",
   "metadata": {},
   "source": [
    "En esta tabla podemos observar que los productos corresponden a productos catalogados con **AMENITIES**.\n",
    "\n",
    "Ahora vamos a valorar qué descuentos ofrecen en la página web."
   ]
  },
  {
   "cell_type": "code",
   "execution_count": 106,
   "metadata": {},
   "outputs": [
    {
     "data": {
      "text/html": [
       "<div>\n",
       "<style scoped>\n",
       "    .dataframe tbody tr th:only-of-type {\n",
       "        vertical-align: middle;\n",
       "    }\n",
       "\n",
       "    .dataframe tbody tr th {\n",
       "        vertical-align: top;\n",
       "    }\n",
       "\n",
       "    .dataframe thead th {\n",
       "        text-align: right;\n",
       "    }\n",
       "</style>\n",
       "<table border=\"1\" class=\"dataframe\">\n",
       "  <thead>\n",
       "    <tr style=\"text-align: right;\">\n",
       "      <th></th>\n",
       "      <th>NAME</th>\n",
       "      <th>DATE_DOWNLOAD</th>\n",
       "      <th>REGULAR_PRICE</th>\n",
       "      <th>DISCOUNT_PRICE</th>\n",
       "      <th>DISCOUNT</th>\n",
       "      <th>PERCENTUAL_DISCOUNT</th>\n",
       "      <th>WITH_DISCOUNT</th>\n",
       "    </tr>\n",
       "  </thead>\n",
       "  <tbody>\n",
       "    <tr>\n",
       "      <th>0</th>\n",
       "      <td>ROSAL</td>\n",
       "      <td>231012.0</td>\n",
       "      <td>24.99</td>\n",
       "      <td>2.99</td>\n",
       "      <td>-22.0</td>\n",
       "      <td>88.035214</td>\n",
       "      <td>1</td>\n",
       "    </tr>\n",
       "    <tr>\n",
       "      <th>1</th>\n",
       "      <td>Bolsa algodón ORGASMELIA SINGULARIS</td>\n",
       "      <td>231012.0</td>\n",
       "      <td>14.99</td>\n",
       "      <td>1.99</td>\n",
       "      <td>-13.0</td>\n",
       "      <td>86.724483</td>\n",
       "      <td>1</td>\n",
       "    </tr>\n",
       "    <tr>\n",
       "      <th>2</th>\n",
       "      <td>Bolsa algodón PLACERELLA PHELLATIUM</td>\n",
       "      <td>231012.0</td>\n",
       "      <td>14.99</td>\n",
       "      <td>1.99</td>\n",
       "      <td>-13.0</td>\n",
       "      <td>86.724483</td>\n",
       "      <td>1</td>\n",
       "    </tr>\n",
       "    <tr>\n",
       "      <th>3</th>\n",
       "      <td>DIAMOND</td>\n",
       "      <td>231012.0</td>\n",
       "      <td>29.99</td>\n",
       "      <td>4.99</td>\n",
       "      <td>-25.0</td>\n",
       "      <td>83.361120</td>\n",
       "      <td>1</td>\n",
       "    </tr>\n",
       "    <tr>\n",
       "      <th>4</th>\n",
       "      <td>Jaula de Castidad Masculina LIGERA</td>\n",
       "      <td>231012.0</td>\n",
       "      <td>79.99</td>\n",
       "      <td>14.99</td>\n",
       "      <td>-65.0</td>\n",
       "      <td>81.260158</td>\n",
       "      <td>1</td>\n",
       "    </tr>\n",
       "  </tbody>\n",
       "</table>\n",
       "</div>"
      ],
      "text/plain": [
       "                                  NAME DATE_DOWNLOAD  REGULAR_PRICE  \\\n",
       "0                                ROSAL      231012.0          24.99   \n",
       "1  Bolsa algodón ORGASMELIA SINGULARIS      231012.0          14.99   \n",
       "2  Bolsa algodón PLACERELLA PHELLATIUM      231012.0          14.99   \n",
       "3                              DIAMOND      231012.0          29.99   \n",
       "4   Jaula de Castidad Masculina LIGERA      231012.0          79.99   \n",
       "\n",
       "   DISCOUNT_PRICE  DISCOUNT  PERCENTUAL_DISCOUNT  WITH_DISCOUNT  \n",
       "0            2.99     -22.0            88.035214              1  \n",
       "1            1.99     -13.0            86.724483              1  \n",
       "2            1.99     -13.0            86.724483              1  \n",
       "3            4.99     -25.0            83.361120              1  \n",
       "4           14.99     -65.0            81.260158              1  "
      ]
     },
     "execution_count": 106,
     "metadata": {},
     "output_type": "execute_result"
    }
   ],
   "source": [
    "query='''SELECT PRODUCT.PRODUCT AS NAME, DATE_DOWNLOAD, REGULAR_PRICE, DISCOUNT_PRICE,\n",
    "[DISCOUNT_PRICE]-[REGULAR_PRICE] AS DISCOUNT,\n",
    "ABS([DISCOUNT_PRICE]-[REGULAR_PRICE])/[REGULAR_PRICE]*100 as PERCENTUAL_DISCOUNT,\n",
    "CASE WHEN [DISCOUNT_PRICE] = [REGULAR_PRICE] THEN 0 ELSE 1 END AS WITH_DISCOUNT\n",
    "FROM PRICES  JOIN PRODUCT ON PRODUCT.ID=PRICES.ID_PRODUCT\n",
    "ORDER BY PERCENTUAL_DISCOUNT DESC'''                                           # Realizamos esta ordenación para verificar que no hay un producto que haya subido el precio\n",
    "discount_df=f.sql_query(query,cursor)\n",
    "discount_df.head()"
   ]
  },
  {
   "cell_type": "markdown",
   "metadata": {},
   "source": [
    "Vamos a evaluar cuantos valores unicos tienen los descuentos, porque seguramente hagamos algún tipo de ajuste en los datos para reducirlo."
   ]
  },
  {
   "cell_type": "code",
   "execution_count": 109,
   "metadata": {},
   "outputs": [
    {
     "data": {
      "text/plain": [
       "50.025013    21\n",
       "50.010002    14\n",
       "50.008335    13\n",
       "50.016672    13\n",
       "60.040027    11\n",
       "             ..\n",
       "56.668556     1\n",
       "56.011202     1\n",
       "55.558025     1\n",
       "55.191445     1\n",
       "52.010402     1\n",
       "Name: PERCENTUAL_DISCOUNT, Length: 216, dtype: int64"
      ]
     },
     "execution_count": 109,
     "metadata": {},
     "output_type": "execute_result"
    }
   ],
   "source": [
    "discount_df['PERCENTUAL_DISCOUNT'].value_counts()"
   ]
  },
  {
   "cell_type": "markdown",
   "metadata": {},
   "source": [
    "Observamos que hay 216 registros en esta tabla para 560 productos.\n",
    "\n",
    "**Esto es un valor muy alto** y conviene reducirlo, por lo que vamos a dejar solo los valores enteros de los porcentajes.\n",
    "\n",
    "Para ello vamos a realizar una modificación en la query para tomar solo los valores enteros del porcentaje de descuento."
   ]
  },
  {
   "cell_type": "code",
   "execution_count": 117,
   "metadata": {},
   "outputs": [
    {
     "name": "stdout",
     "output_type": "stream",
     "text": [
      "El nuevo número de registros es 63 \n",
      "y los valores quedan del modo siguiente\n"
     ]
    },
    {
     "data": {
      "text/plain": [
       "50    98\n",
       "60    49\n",
       "55    31\n",
       "40    31\n",
       "33    22\n",
       "      ..\n",
       "15     1\n",
       "14     1\n",
       "10     1\n",
       "49     1\n",
       "88     1\n",
       "Name: PERCENTUAL_DISCOUNT, Length: 63, dtype: int64"
      ]
     },
     "execution_count": 117,
     "metadata": {},
     "output_type": "execute_result"
    }
   ],
   "source": [
    "query='''SELECT PRODUCT.PRODUCT AS NAME, DATE_DOWNLOAD, REGULAR_PRICE, DISCOUNT_PRICE,\n",
    "[DISCOUNT_PRICE]-[REGULAR_PRICE] AS DISCOUNT,\n",
    "CAST(ABS([DISCOUNT_PRICE] - [REGULAR_PRICE]) / [REGULAR_PRICE] * 100 AS INT) AS PERCENTUAL_DISCOUNT\n",
    "FROM PRICES  JOIN PRODUCT ON PRODUCT.ID=PRICES.ID_PRODUCT\n",
    "ORDER BY PERCENTUAL_DISCOUNT DESC'''                                           # Realizamos esta ordenación para verificar que no hay un producto que haya subido el precio\n",
    "discount_df=f.sql_query(query,cursor)\n",
    "# discount_df.head()\n",
    "print(\"El nuevo número de registros es\",len(discount_df['PERCENTUAL_DISCOUNT'].value_counts()),\"\\ny los valores quedan del modo siguiente\")\n",
    "discount_df['PERCENTUAL_DISCOUNT'].value_counts()"
   ]
  },
  {
   "cell_type": "markdown",
   "metadata": {},
   "source": [
    "Observamos dos cosas muy interesantes en estos datos, que hay productos con un valor muy alto de descuento y productos que solo tienen un descuento de 1%.\n",
    "\n",
    "Tendremos que evaluar esta información."
   ]
  },
  {
   "cell_type": "code",
   "execution_count": null,
   "metadata": {},
   "outputs": [],
   "source": []
  },
  {
   "attachments": {},
   "cell_type": "markdown",
   "metadata": {},
   "source": [
    "#### Estudio sobre las fechas de los comentarios que se realizan."
   ]
  },
  {
   "attachments": {},
   "cell_type": "markdown",
   "metadata": {},
   "source": [
    "Definimos qué queries son para cada uno de los posibles componentes que componen la fecha.\n",
    "\n",
    "Las queries extraen los datos en forma de texto por lo que hay que cambiar el formato a *int* y en el caso de los días de la semana hay que realizar además un mapeo para asignar el día de la semana que corresponde teniendo en cuenta que los días de la semanas están definidos en formato inglés por lo que 0 corresponde a domingo."
   ]
  },
  {
   "cell_type": "code",
   "execution_count": null,
   "metadata": {},
   "outputs": [],
   "source": [
    "# query='''select ID_USERS, date(DATE) as FECHA from COMMENT  WHERE DATE LIKE '2023%' ORDER BY DATE ASC LIMIT (10)'''\n",
    "# query='''select ID_USERS, date(DATE) as FECHA from COMMENT WHERE DATE BETWEEN '%-01-%' AND '%-02-%' ORDER BY DATE ASC LIMIT (10)'''\n",
    "# query='''select ID_USERS, strftime ('%Y',DATE) as YEAR from COMMENT ORDER BY DATE ASC LIMIT (10)'''              # Extraer ano\n",
    "# query='''select ID_USERS, strftime ('%m',DATE) as MONTH from COMMENT ORDER BY DATE ASC LIMIT (10)'''             # Extraer mes\n",
    "# query='''select ID_USERS, strftime ('%d',DATE) as DAY from COMMENT ORDER BY DATE ASC LIMIT (10)'''               # Extraer dia\n",
    "# query='''select ID_USERS, strftime ('%w',DATE) as DAY_WEEK from COMMENT ORDER BY DATE ASC LIMIT (10)'''          # Extraer dia_semana, donde 0 es domingo\n",
    "# query='''select ID_USERS, DATE from COMMENT ORDER BY DATE ASC LIMIT (10)'''                                      # Extraer dia_semana, agregando 1 valor para que sea de 1 a 7\n",
    "\n",
    "# variable=f.sql_query(query,cursor)\n",
    "# variable.iloc[:,1]=variable.iloc[:,1].astype(int)\n",
    "# variable.info()\n",
    "         \n"
   ]
  },
  {
   "cell_type": "code",
   "execution_count": 14,
   "metadata": {},
   "outputs": [
    {
     "data": {
      "text/html": [
       "<div>\n",
       "<style scoped>\n",
       "    .dataframe tbody tr th:only-of-type {\n",
       "        vertical-align: middle;\n",
       "    }\n",
       "\n",
       "    .dataframe tbody tr th {\n",
       "        vertical-align: top;\n",
       "    }\n",
       "\n",
       "    .dataframe thead th {\n",
       "        text-align: right;\n",
       "    }\n",
       "</style>\n",
       "<table border=\"1\" class=\"dataframe\">\n",
       "  <thead>\n",
       "    <tr style=\"text-align: right;\">\n",
       "      <th></th>\n",
       "      <th>ID_USERS</th>\n",
       "      <th>DAY_WEEK</th>\n",
       "    </tr>\n",
       "  </thead>\n",
       "  <tbody>\n",
       "    <tr>\n",
       "      <th>0</th>\n",
       "      <td>1879</td>\n",
       "      <td>2</td>\n",
       "    </tr>\n",
       "    <tr>\n",
       "      <th>1</th>\n",
       "      <td>270</td>\n",
       "      <td>2</td>\n",
       "    </tr>\n",
       "    <tr>\n",
       "      <th>2</th>\n",
       "      <td>1878</td>\n",
       "      <td>5</td>\n",
       "    </tr>\n",
       "    <tr>\n",
       "      <th>3</th>\n",
       "      <td>754</td>\n",
       "      <td>1</td>\n",
       "    </tr>\n",
       "    <tr>\n",
       "      <th>4</th>\n",
       "      <td>753</td>\n",
       "      <td>6</td>\n",
       "    </tr>\n",
       "  </tbody>\n",
       "</table>\n",
       "</div>"
      ],
      "text/plain": [
       "   ID_USERS DAY_WEEK\n",
       "0      1879        2\n",
       "1       270        2\n",
       "2      1878        5\n",
       "3       754        1\n",
       "4       753        6"
      ]
     },
     "execution_count": 14,
     "metadata": {},
     "output_type": "execute_result"
    }
   ],
   "source": [
    "variable.head()"
   ]
  },
  {
   "attachments": {},
   "cell_type": "markdown",
   "metadata": {},
   "source": [
    "En el caso que la query extraiga el día de la semana."
   ]
  },
  {
   "cell_type": "code",
   "execution_count": null,
   "metadata": {},
   "outputs": [],
   "source": [
    "dicc_dia={0:\"domingo\",1:\"lunes\",2:\"martes\",3:\"miercoles\",4:\"jueves\",5:\"viernes\",6:\"sabado\"}\n",
    "# variable['DAY_WEEK']=variable['DAY_WEEK'].map(dicc_dia)\n",
    "# variable"
   ]
  },
  {
   "cell_type": "code",
   "execution_count": 18,
   "metadata": {},
   "outputs": [
    {
     "name": "stderr",
     "output_type": "stream",
     "text": [
      "C:\\Users\\Javier\\AppData\\Local\\Temp\\ipykernel_3180\\1043526812.py:3: FutureWarning: In a future version, `df.iloc[:, i] = newvals` will attempt to set the values inplace instead of always setting a new array. To retain the old behavior, use either `df[df.columns[i]] = newvals` or, if columns are non-unique, `df.isetitem(i, newvals)`\n",
      "  total.iloc[:,1]=total.iloc[:,1].astype(int)\n"
     ]
    },
    {
     "data": {
      "text/html": [
       "<div>\n",
       "<style scoped>\n",
       "    .dataframe tbody tr th:only-of-type {\n",
       "        vertical-align: middle;\n",
       "    }\n",
       "\n",
       "    .dataframe tbody tr th {\n",
       "        vertical-align: top;\n",
       "    }\n",
       "\n",
       "    .dataframe thead th {\n",
       "        text-align: right;\n",
       "    }\n",
       "</style>\n",
       "<table border=\"1\" class=\"dataframe\">\n",
       "  <thead>\n",
       "    <tr style=\"text-align: right;\">\n",
       "      <th></th>\n",
       "      <th>COMENTARIOS</th>\n",
       "      <th>YEAR</th>\n",
       "    </tr>\n",
       "  </thead>\n",
       "  <tbody>\n",
       "    <tr>\n",
       "      <th>0</th>\n",
       "      <td>1</td>\n",
       "      <td>2005</td>\n",
       "    </tr>\n",
       "    <tr>\n",
       "      <th>1</th>\n",
       "      <td>3</td>\n",
       "      <td>2007</td>\n",
       "    </tr>\n",
       "    <tr>\n",
       "      <th>2</th>\n",
       "      <td>88</td>\n",
       "      <td>2008</td>\n",
       "    </tr>\n",
       "    <tr>\n",
       "      <th>3</th>\n",
       "      <td>129</td>\n",
       "      <td>2009</td>\n",
       "    </tr>\n",
       "    <tr>\n",
       "      <th>4</th>\n",
       "      <td>168</td>\n",
       "      <td>2010</td>\n",
       "    </tr>\n",
       "    <tr>\n",
       "      <th>5</th>\n",
       "      <td>166</td>\n",
       "      <td>2011</td>\n",
       "    </tr>\n",
       "    <tr>\n",
       "      <th>6</th>\n",
       "      <td>264</td>\n",
       "      <td>2012</td>\n",
       "    </tr>\n",
       "    <tr>\n",
       "      <th>7</th>\n",
       "      <td>668</td>\n",
       "      <td>2013</td>\n",
       "    </tr>\n",
       "    <tr>\n",
       "      <th>8</th>\n",
       "      <td>921</td>\n",
       "      <td>2014</td>\n",
       "    </tr>\n",
       "    <tr>\n",
       "      <th>9</th>\n",
       "      <td>1091</td>\n",
       "      <td>2015</td>\n",
       "    </tr>\n",
       "    <tr>\n",
       "      <th>10</th>\n",
       "      <td>935</td>\n",
       "      <td>2016</td>\n",
       "    </tr>\n",
       "    <tr>\n",
       "      <th>11</th>\n",
       "      <td>893</td>\n",
       "      <td>2017</td>\n",
       "    </tr>\n",
       "    <tr>\n",
       "      <th>12</th>\n",
       "      <td>848</td>\n",
       "      <td>2018</td>\n",
       "    </tr>\n",
       "    <tr>\n",
       "      <th>13</th>\n",
       "      <td>917</td>\n",
       "      <td>2019</td>\n",
       "    </tr>\n",
       "    <tr>\n",
       "      <th>14</th>\n",
       "      <td>1326</td>\n",
       "      <td>2020</td>\n",
       "    </tr>\n",
       "    <tr>\n",
       "      <th>15</th>\n",
       "      <td>928</td>\n",
       "      <td>2021</td>\n",
       "    </tr>\n",
       "    <tr>\n",
       "      <th>16</th>\n",
       "      <td>871</td>\n",
       "      <td>2022</td>\n",
       "    </tr>\n",
       "    <tr>\n",
       "      <th>17</th>\n",
       "      <td>262</td>\n",
       "      <td>2023</td>\n",
       "    </tr>\n",
       "  </tbody>\n",
       "</table>\n",
       "</div>"
      ],
      "text/plain": [
       "    COMENTARIOS  YEAR\n",
       "0             1  2005\n",
       "1             3  2007\n",
       "2            88  2008\n",
       "3           129  2009\n",
       "4           168  2010\n",
       "5           166  2011\n",
       "6           264  2012\n",
       "7           668  2013\n",
       "8           921  2014\n",
       "9          1091  2015\n",
       "10          935  2016\n",
       "11          893  2017\n",
       "12          848  2018\n",
       "13          917  2019\n",
       "14         1326  2020\n",
       "15          928  2021\n",
       "16          871  2022\n",
       "17          262  2023"
      ]
     },
     "execution_count": 18,
     "metadata": {},
     "output_type": "execute_result"
    }
   ],
   "source": [
    "query='''select count (COMMENT) AS COMENTARIOS, strftime ('%Y',DATE) as YEAR from COMMENT GROUP BY YEAR ORDER BY DATE ASC'''\n",
    "total=f.sql_query(query,cursor)\n",
    "total.iloc[:,1]=total.iloc[:,1].astype(int)\n",
    "total"
   ]
  },
  {
   "attachments": {},
   "cell_type": "markdown",
   "metadata": {},
   "source": [
    "Podemos observar que en el año 2006 no había datos, esto es muy probable porque la tienda empezaría a funcionar en el 2005 y de ahí que los primeros años, los comentarios no existieran o fueran muy pocos."
   ]
  },
  {
   "cell_type": "code",
   "execution_count": 19,
   "metadata": {},
   "outputs": [
    {
     "data": {
      "text/html": [
       "<div>\n",
       "<style scoped>\n",
       "    .dataframe tbody tr th:only-of-type {\n",
       "        vertical-align: middle;\n",
       "    }\n",
       "\n",
       "    .dataframe tbody tr th {\n",
       "        vertical-align: top;\n",
       "    }\n",
       "\n",
       "    .dataframe thead th {\n",
       "        text-align: right;\n",
       "    }\n",
       "</style>\n",
       "<table border=\"1\" class=\"dataframe\">\n",
       "  <thead>\n",
       "    <tr style=\"text-align: right;\">\n",
       "      <th></th>\n",
       "      <th>COMENTARIOS</th>\n",
       "      <th>YEAR</th>\n",
       "    </tr>\n",
       "  </thead>\n",
       "  <tbody>\n",
       "    <tr>\n",
       "      <th>0</th>\n",
       "      <td>1</td>\n",
       "      <td>2005</td>\n",
       "    </tr>\n",
       "    <tr>\n",
       "      <th>1</th>\n",
       "      <td>3</td>\n",
       "      <td>2007</td>\n",
       "    </tr>\n",
       "    <tr>\n",
       "      <th>2</th>\n",
       "      <td>88</td>\n",
       "      <td>2008</td>\n",
       "    </tr>\n",
       "    <tr>\n",
       "      <th>3</th>\n",
       "      <td>129</td>\n",
       "      <td>2009</td>\n",
       "    </tr>\n",
       "    <tr>\n",
       "      <th>4</th>\n",
       "      <td>168</td>\n",
       "      <td>2010</td>\n",
       "    </tr>\n",
       "    <tr>\n",
       "      <th>5</th>\n",
       "      <td>166</td>\n",
       "      <td>2011</td>\n",
       "    </tr>\n",
       "    <tr>\n",
       "      <th>6</th>\n",
       "      <td>264</td>\n",
       "      <td>2012</td>\n",
       "    </tr>\n",
       "    <tr>\n",
       "      <th>7</th>\n",
       "      <td>668</td>\n",
       "      <td>2013</td>\n",
       "    </tr>\n",
       "    <tr>\n",
       "      <th>8</th>\n",
       "      <td>921</td>\n",
       "      <td>2014</td>\n",
       "    </tr>\n",
       "    <tr>\n",
       "      <th>9</th>\n",
       "      <td>1091</td>\n",
       "      <td>2015</td>\n",
       "    </tr>\n",
       "    <tr>\n",
       "      <th>10</th>\n",
       "      <td>935</td>\n",
       "      <td>2016</td>\n",
       "    </tr>\n",
       "    <tr>\n",
       "      <th>11</th>\n",
       "      <td>893</td>\n",
       "      <td>2017</td>\n",
       "    </tr>\n",
       "    <tr>\n",
       "      <th>12</th>\n",
       "      <td>848</td>\n",
       "      <td>2018</td>\n",
       "    </tr>\n",
       "    <tr>\n",
       "      <th>13</th>\n",
       "      <td>917</td>\n",
       "      <td>2019</td>\n",
       "    </tr>\n",
       "    <tr>\n",
       "      <th>14</th>\n",
       "      <td>1326</td>\n",
       "      <td>2020</td>\n",
       "    </tr>\n",
       "    <tr>\n",
       "      <th>15</th>\n",
       "      <td>928</td>\n",
       "      <td>2021</td>\n",
       "    </tr>\n",
       "    <tr>\n",
       "      <th>16</th>\n",
       "      <td>871</td>\n",
       "      <td>2022</td>\n",
       "    </tr>\n",
       "    <tr>\n",
       "      <th>17</th>\n",
       "      <td>262</td>\n",
       "      <td>2023</td>\n",
       "    </tr>\n",
       "    <tr>\n",
       "      <th>18</th>\n",
       "      <td>0</td>\n",
       "      <td>2006</td>\n",
       "    </tr>\n",
       "  </tbody>\n",
       "</table>\n",
       "</div>"
      ],
      "text/plain": [
       "    COMENTARIOS  YEAR\n",
       "0             1  2005\n",
       "1             3  2007\n",
       "2            88  2008\n",
       "3           129  2009\n",
       "4           168  2010\n",
       "5           166  2011\n",
       "6           264  2012\n",
       "7           668  2013\n",
       "8           921  2014\n",
       "9          1091  2015\n",
       "10          935  2016\n",
       "11          893  2017\n",
       "12          848  2018\n",
       "13          917  2019\n",
       "14         1326  2020\n",
       "15          928  2021\n",
       "16          871  2022\n",
       "17          262  2023\n",
       "18            0  2006"
      ]
     },
     "execution_count": 19,
     "metadata": {},
     "output_type": "execute_result"
    }
   ],
   "source": [
    "total.loc[len(total)] = [0,2006]\n",
    "total\n"
   ]
  },
  {
   "cell_type": "code",
   "execution_count": 23,
   "metadata": {},
   "outputs": [
    {
     "name": "stderr",
     "output_type": "stream",
     "text": [
      "C:\\Users\\Javier\\AppData\\Local\\Temp\\ipykernel_3180\\1809138985.py:5: FutureWarning: In a future version, `df.iloc[:, i] = newvals` will attempt to set the values inplace instead of always setting a new array. To retain the old behavior, use either `df[df.columns[i]] = newvals` or, if columns are non-unique, `df.isetitem(i, newvals)`\n",
      "  total.iloc[:,1]=total.iloc[:,1].astype(int)\n"
     ]
    },
    {
     "data": {
      "image/png": "[encoded data removed]",
      "text/plain": [
       "<Figure size 1000x500 with 1 Axes>"
      ]
     },
     "metadata": {},
     "output_type": "display_data"
    }
   ],
   "source": [
    "plt.figure(figsize=(10,5))\n",
    "query='''select count (COMMENT) AS COMENTARIOS, strftime ('%Y',DATE) as YEAR from COMMENT GROUP BY YEAR'''\n",
    "total=f.sql_query(query,cursor)\n",
    "total.loc[len(total)] = [0,2006]\n",
    "total.iloc[:,1]=total.iloc[:,1].astype(int)\n",
    "plt.hlines(total['YEAR'],xmin=0,\n",
    "           xmax=total['COMENTARIOS'],)\n",
    "plt.yticks(total['YEAR'])\n",
    "plt.xlabel(\"Nº COMENTARIOS\")\n",
    "plt.ylabel(\"AÑOS\")\n",
    "plt.title(\"COMENTARIOS POR AÑO\")\n",
    "\n",
    "file=str('\\Resources\\image\\Comments_per_year')\n",
    "folder+file\n",
    "plt.savefig(folder+file);"
   ]
  },
  {
   "cell_type": "code",
   "execution_count": 24,
   "metadata": {},
   "outputs": [
    {
     "name": "stderr",
     "output_type": "stream",
     "text": [
      "C:\\Users\\Javier\\AppData\\Local\\Temp\\ipykernel_3180\\1671394272.py:5: FutureWarning: In a future version, `df.iloc[:, i] = newvals` will attempt to set the values inplace instead of always setting a new array. To retain the old behavior, use either `df[df.columns[i]] = newvals` or, if columns are non-unique, `df.isetitem(i, newvals)`\n",
      "  total.iloc[:,1]=total.iloc[:,1].astype(int)\n"
     ]
    },
    {
     "data": {
      "image/png": "[encoded data removed]",
      "text/plain": [
       "<Figure size 1000x500 with 1 Axes>"
      ]
     },
     "metadata": {},
     "output_type": "display_data"
    }
   ],
   "source": [
    "plt.figure(figsize=(10,5))\n",
    "query='''select count (COMMENT) AS COMENTARIOS, strftime ('%Y',DATE) as YEAR from COMMENT GROUP BY YEAR'''\n",
    "total=f.sql_query(query,cursor)\n",
    "total.loc[len(total)] = [0,2006]\n",
    "total.iloc[:,1]=total.iloc[:,1].astype(int)\n",
    "sns.barplot(x=total['YEAR'],y=total['COMENTARIOS'],color=\"steelblue\")\n",
    "plt.ylabel(\"Nº COMENTARIOS\")\n",
    "plt.xlabel(\"AÑOS\")\n",
    "plt.title(\"COMENTARIOS POR AÑO\")\n",
    "file=str('\\Resources\\image\\Comments_per_year_2')\n",
    "folder+file\n",
    "plt.savefig(folder+file);"
   ]
  },
  {
   "cell_type": "code",
   "execution_count": 25,
   "metadata": {},
   "outputs": [
    {
     "name": "stderr",
     "output_type": "stream",
     "text": [
      "C:\\Users\\Javier\\AppData\\Local\\Temp\\ipykernel_3180\\388559175.py:3: FutureWarning: In a future version, `df.iloc[:, i] = newvals` will attempt to set the values inplace instead of always setting a new array. To retain the old behavior, use either `df[df.columns[i]] = newvals` or, if columns are non-unique, `df.isetitem(i, newvals)`\n",
      "  total.iloc[:,1]=total.iloc[:,1].astype(int)\n"
     ]
    },
    {
     "data": {
      "text/html": [
       "<div>\n",
       "<style scoped>\n",
       "    .dataframe tbody tr th:only-of-type {\n",
       "        vertical-align: middle;\n",
       "    }\n",
       "\n",
       "    .dataframe tbody tr th {\n",
       "        vertical-align: top;\n",
       "    }\n",
       "\n",
       "    .dataframe thead th {\n",
       "        text-align: right;\n",
       "    }\n",
       "</style>\n",
       "<table border=\"1\" class=\"dataframe\">\n",
       "  <thead>\n",
       "    <tr style=\"text-align: right;\">\n",
       "      <th></th>\n",
       "      <th>COMENTARIOS</th>\n",
       "      <th>MONTH</th>\n",
       "    </tr>\n",
       "  </thead>\n",
       "  <tbody>\n",
       "    <tr>\n",
       "      <th>0</th>\n",
       "      <td>1035</td>\n",
       "      <td>1</td>\n",
       "    </tr>\n",
       "    <tr>\n",
       "      <th>1</th>\n",
       "      <td>922</td>\n",
       "      <td>2</td>\n",
       "    </tr>\n",
       "    <tr>\n",
       "      <th>2</th>\n",
       "      <td>791</td>\n",
       "      <td>3</td>\n",
       "    </tr>\n",
       "    <tr>\n",
       "      <th>3</th>\n",
       "      <td>763</td>\n",
       "      <td>4</td>\n",
       "    </tr>\n",
       "    <tr>\n",
       "      <th>4</th>\n",
       "      <td>774</td>\n",
       "      <td>5</td>\n",
       "    </tr>\n",
       "    <tr>\n",
       "      <th>5</th>\n",
       "      <td>662</td>\n",
       "      <td>6</td>\n",
       "    </tr>\n",
       "    <tr>\n",
       "      <th>6</th>\n",
       "      <td>854</td>\n",
       "      <td>7</td>\n",
       "    </tr>\n",
       "    <tr>\n",
       "      <th>7</th>\n",
       "      <td>958</td>\n",
       "      <td>8</td>\n",
       "    </tr>\n",
       "    <tr>\n",
       "      <th>8</th>\n",
       "      <td>1051</td>\n",
       "      <td>9</td>\n",
       "    </tr>\n",
       "    <tr>\n",
       "      <th>9</th>\n",
       "      <td>753</td>\n",
       "      <td>10</td>\n",
       "    </tr>\n",
       "    <tr>\n",
       "      <th>10</th>\n",
       "      <td>962</td>\n",
       "      <td>11</td>\n",
       "    </tr>\n",
       "    <tr>\n",
       "      <th>11</th>\n",
       "      <td>954</td>\n",
       "      <td>12</td>\n",
       "    </tr>\n",
       "  </tbody>\n",
       "</table>\n",
       "</div>"
      ],
      "text/plain": [
       "    COMENTARIOS  MONTH\n",
       "0          1035      1\n",
       "1           922      2\n",
       "2           791      3\n",
       "3           763      4\n",
       "4           774      5\n",
       "5           662      6\n",
       "6           854      7\n",
       "7           958      8\n",
       "8          1051      9\n",
       "9           753     10\n",
       "10          962     11\n",
       "11          954     12"
      ]
     },
     "execution_count": 25,
     "metadata": {},
     "output_type": "execute_result"
    }
   ],
   "source": [
    "query='''select count (COMMENT) AS COMENTARIOS, strftime ('%m',DATE) as MONTH from COMMENT GROUP BY MONTH'''   \n",
    "total=f.sql_query(query,cursor)\n",
    "total.iloc[:,1]=total.iloc[:,1].astype(int)\n",
    "total"
   ]
  },
  {
   "cell_type": "code",
   "execution_count": 26,
   "metadata": {},
   "outputs": [
    {
     "name": "stderr",
     "output_type": "stream",
     "text": [
      "C:\\Users\\Javier\\AppData\\Local\\Temp\\ipykernel_3180\\533552165.py:4: FutureWarning: In a future version, `df.iloc[:, i] = newvals` will attempt to set the values inplace instead of always setting a new array. To retain the old behavior, use either `df[df.columns[i]] = newvals` or, if columns are non-unique, `df.isetitem(i, newvals)`\n",
      "  total.iloc[:,1]=total.iloc[:,1].astype(int)\n"
     ]
    },
    {
     "data": {
      "image/png": "[encoded data removed]",
      "text/plain": [
       "<Figure size 1000x500 with 1 Axes>"
      ]
     },
     "metadata": {},
     "output_type": "display_data"
    }
   ],
   "source": [
    "plt.figure(figsize=(10,5))\n",
    "query='''select count (COMMENT) AS COMENTARIOS, strftime ('%m',DATE) as MONTH from COMMENT GROUP BY MONTH'''   \n",
    "total=f.sql_query(query,cursor)\n",
    "total.iloc[:,1]=total.iloc[:,1].astype(int)\n",
    "sns.barplot(x=total['MONTH'],y=total['COMENTARIOS'],color=\"steelblue\")\n",
    "plt.ylabel(\"Nº COMENTARIOS\")\n",
    "plt.xlabel(\"MESES\")\n",
    "plt.title(\"COMENTARIOS POR MESES\")\n",
    "file=str('\\Resources\\image\\Comments_per_month')\n",
    "folder+file\n",
    "plt.savefig(folder+file);"
   ]
  },
  {
   "attachments": {},
   "cell_type": "markdown",
   "metadata": {},
   "source": [
    "Se observa mucha estabilidad en los datos según los meses, siendo los picos en enero (coincidiendo con Reyes) y en Septiembre (coincidiendo con la vuelta en la mayoría de los casos de las vacaciones).\n",
    "\n",
    "El tema de las vacaciones puede ser algo interesante de evaluar en el sentido de si los usuarios tienen pareja con niños o si realizan sus compras durante los meses estivales anteriores y comentan a la vuelta."
   ]
  },
  {
   "cell_type": "code",
   "execution_count": 27,
   "metadata": {},
   "outputs": [
    {
     "name": "stderr",
     "output_type": "stream",
     "text": [
      "C:\\Users\\Javier\\AppData\\Local\\Temp\\ipykernel_3180\\1783956544.py:3: FutureWarning: In a future version, `df.iloc[:, i] = newvals` will attempt to set the values inplace instead of always setting a new array. To retain the old behavior, use either `df[df.columns[i]] = newvals` or, if columns are non-unique, `df.isetitem(i, newvals)`\n",
      "  total.iloc[:,1]=total.iloc[:,1].astype(int)\n"
     ]
    },
    {
     "data": {
      "text/html": [
       "<div>\n",
       "<style scoped>\n",
       "    .dataframe tbody tr th:only-of-type {\n",
       "        vertical-align: middle;\n",
       "    }\n",
       "\n",
       "    .dataframe tbody tr th {\n",
       "        vertical-align: top;\n",
       "    }\n",
       "\n",
       "    .dataframe thead th {\n",
       "        text-align: right;\n",
       "    }\n",
       "</style>\n",
       "<table border=\"1\" class=\"dataframe\">\n",
       "  <thead>\n",
       "    <tr style=\"text-align: right;\">\n",
       "      <th></th>\n",
       "      <th>COMENTARIOS</th>\n",
       "      <th>DAY_WEEK</th>\n",
       "    </tr>\n",
       "  </thead>\n",
       "  <tbody>\n",
       "    <tr>\n",
       "      <th>0</th>\n",
       "      <td>987</td>\n",
       "      <td>domingo</td>\n",
       "    </tr>\n",
       "    <tr>\n",
       "      <th>1</th>\n",
       "      <td>1690</td>\n",
       "      <td>lunes</td>\n",
       "    </tr>\n",
       "    <tr>\n",
       "      <th>2</th>\n",
       "      <td>1763</td>\n",
       "      <td>martes</td>\n",
       "    </tr>\n",
       "    <tr>\n",
       "      <th>3</th>\n",
       "      <td>1795</td>\n",
       "      <td>miercoles</td>\n",
       "    </tr>\n",
       "    <tr>\n",
       "      <th>4</th>\n",
       "      <td>1752</td>\n",
       "      <td>jueves</td>\n",
       "    </tr>\n",
       "    <tr>\n",
       "      <th>5</th>\n",
       "      <td>1465</td>\n",
       "      <td>viernes</td>\n",
       "    </tr>\n",
       "    <tr>\n",
       "      <th>6</th>\n",
       "      <td>1027</td>\n",
       "      <td>sabado</td>\n",
       "    </tr>\n",
       "  </tbody>\n",
       "</table>\n",
       "</div>"
      ],
      "text/plain": [
       "   COMENTARIOS   DAY_WEEK\n",
       "0          987    domingo\n",
       "1         1690      lunes\n",
       "2         1763     martes\n",
       "3         1795  miercoles\n",
       "4         1752     jueves\n",
       "5         1465    viernes\n",
       "6         1027     sabado"
      ]
     },
     "execution_count": 27,
     "metadata": {},
     "output_type": "execute_result"
    }
   ],
   "source": [
    "query='''select count (COMMENT) AS COMENTARIOS, strftime ('%w',DATE) as DAY_WEEK from COMMENT GROUP BY DAY_WEEK'''   \n",
    "total=f.sql_query(query,cursor)\n",
    "total.iloc[:,1]=total.iloc[:,1].astype(int)\n",
    "total['DAY_WEEK']=total['DAY_WEEK'].map(dicc_dia)\n",
    "total"
   ]
  },
  {
   "cell_type": "code",
   "execution_count": 28,
   "metadata": {},
   "outputs": [
    {
     "name": "stderr",
     "output_type": "stream",
     "text": [
      "C:\\Users\\Javier\\AppData\\Local\\Temp\\ipykernel_3180\\823842860.py:4: FutureWarning: In a future version, `df.iloc[:, i] = newvals` will attempt to set the values inplace instead of always setting a new array. To retain the old behavior, use either `df[df.columns[i]] = newvals` or, if columns are non-unique, `df.isetitem(i, newvals)`\n",
      "  total.iloc[:,1]=total.iloc[:,1].astype(int)\n"
     ]
    },
    {
     "data": {
      "image/png": "[encoded data removed]",
      "text/plain": [
       "<Figure size 1000x500 with 1 Axes>"
      ]
     },
     "metadata": {},
     "output_type": "display_data"
    }
   ],
   "source": [
    "plt.figure(figsize=(10,5))\n",
    "query='''select count (COMMENT) AS COMENTARIOS, strftime ('%w',DATE) as DAY_WEEK from COMMENT GROUP BY DAY_WEEK'''   \n",
    "total=f.sql_query(query,cursor)\n",
    "total.iloc[:,1]=total.iloc[:,1].astype(int)\n",
    "total['DAY_WEEK']=total['DAY_WEEK'].map(dicc_dia)\n",
    "sns.barplot(x=total['DAY_WEEK'],y=total['COMENTARIOS'],color=\"steelblue\")\n",
    "plt.ylabel(\"Nº COMENTARIOS\")\n",
    "plt.xlabel(\"DIA_SEMANA\")\n",
    "plt.title(\"COMENTARIOS POR DIAS DE LA SEMANA\")\n",
    "file=str('\\Resources\\image\\Comments_per_dayofweek')\n",
    "folder+file\n",
    "plt.savefig(folder+file);"
   ]
  },
  {
   "attachments": {},
   "cell_type": "markdown",
   "metadata": {},
   "source": [
    "Se observa que los días de la semana con menores comentarios sean los días del fin de semana y en general se agrupan en los días entre semana.\n",
    "\n",
    "Esto puede ser porque al comercializar un producto de ocio, esté se compre y se comente fuera del fin de semana, que es cuando más podría ser utilizado al no ser productos de consumo inmediato."
   ]
  },
  {
   "attachments": {},
   "cell_type": "markdown",
   "metadata": {},
   "source": [
    "Vamos a juntar las 3 gráficas en subplots.\n",
    "Aquí agregaremos colores en las paletas para incidir en los datos máximos y mínimos."
   ]
  },
  {
   "cell_type": "code",
   "execution_count": 44,
   "metadata": {},
   "outputs": [
    {
     "name": "stderr",
     "output_type": "stream",
     "text": [
      "C:\\Users\\Javier\\AppData\\Local\\Temp\\ipykernel_3180\\1072774.py:13: FutureWarning: In a future version, `df.iloc[:, i] = newvals` will attempt to set the values inplace instead of always setting a new array. To retain the old behavior, use either `df[df.columns[i]] = newvals` or, if columns are non-unique, `df.isetitem(i, newvals)`\n",
      "  total.iloc[:,1]=total.iloc[:,1].astype(int)\n",
      "C:\\Users\\Javier\\AppData\\Local\\Temp\\ipykernel_3180\\1072774.py:20: FutureWarning: In a future version, `df.iloc[:, i] = newvals` will attempt to set the values inplace instead of always setting a new array. To retain the old behavior, use either `df[df.columns[i]] = newvals` or, if columns are non-unique, `df.isetitem(i, newvals)`\n",
      "  total.iloc[:,1]=total.iloc[:,1].astype(int)\n",
      "C:\\Users\\Javier\\AppData\\Local\\Temp\\ipykernel_3180\\1072774.py:27: FutureWarning: In a future version, `df.iloc[:, i] = newvals` will attempt to set the values inplace instead of always setting a new array. To retain the old behavior, use either `df[df.columns[i]] = newvals` or, if columns are non-unique, `df.isetitem(i, newvals)`\n",
      "  total.iloc[:,1]=total.iloc[:,1].astype(int)\n",
      "C:\\Users\\Javier\\AppData\\Local\\Temp\\ipykernel_3180\\1072774.py:38: UserWarning: Tight layout not applied. The bottom and top margins cannot be made large enough to accommodate all axes decorations.\n",
      "  fig.tight_layout()\n"
     ]
    },
    {
     "data": {
      "image/png": "[encoded data removed]",
      "text/plain": [
       "<Figure size 1500x500 with 3 Axes>"
      ]
     },
     "metadata": {},
     "output_type": "display_data"
    }
   ],
   "source": [
    "fig, axes = plt.subplots(1, 3, figsize=(15,5), sharey=True)\n",
    "axes[0].set_position([0,1.5,0.5,0.300])\n",
    "axes[1].set_position([0.5,1.5,0.2,0.300])\n",
    "axes[2].set_position([1.5,1.5,0.2,0.300])\n",
    "\n",
    "label=[\"Año\",\"Mes\",\"Dia de la semana\"]\n",
    "\n",
    "'''PLOT 0'''\n",
    "\n",
    "query='''select count (COMMENT) AS COMENTARIOS, strftime ('%Y',DATE) as YEAR from COMMENT GROUP BY YEAR'''\n",
    "total=f.sql_query(query,cursor)\n",
    "total.loc[len(total)] = [0,2006]\n",
    "total.iloc[:,1]=total.iloc[:,1].astype(int)\n",
    "sns.barplot(x=total['YEAR'],y=total['COMENTARIOS'],color=\"skyblue\", ax=axes[0])\n",
    "\n",
    "'''PLOT 1'''\n",
    "\n",
    "query='''select count (COMMENT) AS COMENTARIOS, strftime ('%m',DATE) as MONTH from COMMENT GROUP BY MONTH'''   \n",
    "total=f.sql_query(query,cursor)\n",
    "total.iloc[:,1]=total.iloc[:,1].astype(int)\n",
    "sns.barplot(x=total['MONTH'],y=total['COMENTARIOS'],color=\"steelblue\", ax=axes[1])\n",
    "\n",
    "'''PLOT 2'''\n",
    "\n",
    "query='''select count (COMMENT) AS COMENTARIOS, strftime ('%w',DATE) as DAY_WEEK from COMMENT GROUP BY DAY_WEEK'''   \n",
    "total=f.sql_query(query,cursor)\n",
    "total.iloc[:,1]=total.iloc[:,1].astype(int)\n",
    "total['DAY_WEEK']=total['DAY_WEEK'].map(dicc_dia)\n",
    "sns.barplot(x=total['DAY_WEEK'],y=total['COMENTARIOS'],color=\"teal\", ax=axes[2])\n",
    "\n",
    "for i in range (0,3):\n",
    "    axes[i].set_ylabel('')\n",
    "    axes[i].set_xlabel('')\n",
    "    axes[i].set_title(label[i])\n",
    "    axes[i].set_xticklabels(axes[i].get_xticklabels(), rotation=45, fontsize=7)\n",
    "\n",
    "fig.suptitle(\"Estudio de los comentarios por fechas\",fontsize=15)\n",
    "fig.tight_layout() \n",
    "# file=str('\\Resources\\image\\Date_graphic_1')\n",
    "# folder+file\n",
    "fig.subplots_adjust(top=0.85)\n",
    "# plt.savefig(folder+file);\n"
   ]
  },
  {
   "attachments": {},
   "cell_type": "markdown",
   "metadata": {},
   "source": [
    "#### Estudio sobre el ratio de los comentarios que se realizan."
   ]
  },
  {
   "attachments": {},
   "cell_type": "markdown",
   "metadata": {},
   "source": [
    "1.- Visualizamos los datos:"
   ]
  },
  {
   "cell_type": "code",
   "execution_count": 29,
   "metadata": {},
   "outputs": [
    {
     "data": {
      "image/png": "[encoded data removed]",
      "text/plain": [
       "<Figure size 1000x500 with 1 Axes>"
      ]
     },
     "metadata": {},
     "output_type": "display_data"
    }
   ],
   "source": [
    "plt.figure(figsize=(10,5))\n",
    "query='''SELECT PRODUCT,avg(RATIO) as PROM FROM COMMENTS_PER_PRODUCT group BY PRODUCT ORDER BY avg(RATIO) DESC'''\n",
    "total=f.sql_query(query,cursor)\n",
    "sns.histplot(data=total,bins=100)\n",
    "plt.xticks()\n",
    "plt.ylabel(\"Nº PRODUCTOS\")\n",
    "plt.xlabel(\"VALORACION\")\n",
    "plt.title(\"DISTRIBUCION DE RATIOS DE LOS PRODUCTOS\")\n",
    "file=str(r'\\Resources\\image\\ratios_per_product')\n",
    "folder+file\n",
    "plt.savefig(folder+file);"
   ]
  },
  {
   "attachments": {},
   "cell_type": "markdown",
   "metadata": {},
   "source": [
    "En general se puede observar que los productos se encuentran entre 4.0 y 5.0. \n",
    "\n",
    "¿Podemos considerar  los valores por debajo de 4.0 como anómalos? ¿y los valores de 5.0?"
   ]
  },
  {
   "attachments": {},
   "cell_type": "markdown",
   "metadata": {},
   "source": [
    "Hacemos un *boxplot* para tener una visualización de los datos de la valoración por cuartiles y decidir."
   ]
  },
  {
   "cell_type": "code",
   "execution_count": 30,
   "metadata": {},
   "outputs": [
    {
     "data": {
      "image/png": "[encoded data removed]",
      "text/plain": [
       "<Figure size 1000x500 with 1 Axes>"
      ]
     },
     "metadata": {},
     "output_type": "display_data"
    }
   ],
   "source": [
    "plt.figure(figsize=(10,5))\n",
    "query='''SELECT PRODUCT,avg(RATIO) as PROM FROM COMMENTS_PER_PRODUCT group BY PRODUCT ORDER BY avg(RATIO) DESC'''\n",
    "sns.boxplot(data=f.sql_query(query,cursor)['PROM'])\n",
    "outlier = np.percentile(f.sql_query(query,cursor)['PROM'], 5.5)\n",
    "plt.axhline(y=outlier, xmin=0, xmax=1,color='r', linewidth= 1,linestyle=\"-.\")\n",
    "plt.ylabel(\"VALORACION\")\n",
    "plt.title(\"DISTRIBUCION DE RATIOS DE LOS PRODUCTOS\")\n",
    "file=str(r'\\Resources\\image\\Outliers_per_product')\n",
    "folder+file\n",
    "plt.savefig(folder+file);"
   ]
  },
  {
   "attachments": {},
   "cell_type": "markdown",
   "metadata": {},
   "source": [
    "2.- Outliers:\n",
    "\n",
    "Podemos ver claramente  que los valores por debajo de aprox. 3.5 son *outliers*. \n",
    "\n",
    "No es habitual que un producto de la tienda tenga valores por debajo de este cantidad.\n",
    "\n",
    "¿Cuántos productos serían?"
   ]
  },
  {
   "cell_type": "code",
   "execution_count": 31,
   "metadata": {},
   "outputs": [
    {
     "name": "stdout",
     "output_type": "stream",
     "text": [
      "El número de productos que son outliers es: 23 \n",
      "lo que representa un porcentaje de 5.15 %\n"
     ]
    }
   ],
   "source": [
    "query='''SELECT PRODUCT,avg(RATIO) AS PROM FROM COMMENTS_PER_PRODUCT GROUP BY PRODUCT HAVING avg (RATIO)<3.7'''\n",
    "\n",
    "outlier=f.sql_query(query,cursor)\n",
    "print(\"El número de productos que son outliers es:\",len(outlier),\"\\nlo que representa un porcentaje de\",round(len(outlier)/len(total)*100,2),\"%\")\n"
   ]
  },
  {
   "attachments": {},
   "cell_type": "markdown",
   "metadata": {},
   "source": [
    "3.- Valor máximo de valoración:"
   ]
  },
  {
   "attachments": {},
   "cell_type": "markdown",
   "metadata": {},
   "source": [
    "¿Cuántos productos tienen una valoración de 5?"
   ]
  },
  {
   "cell_type": "code",
   "execution_count": 33,
   "metadata": {},
   "outputs": [
    {
     "name": "stdout",
     "output_type": "stream",
     "text": [
      "El número de productos que tienen una valoración máxima es: 129 \n",
      "lo que representa un porcentaje de 28.86 %\n"
     ]
    }
   ],
   "source": [
    "query='''SELECT PRODUCT,avg(RATIO) AS PROM FROM COMMENTS_PER_PRODUCT GROUP BY PRODUCT\n",
    " having avg (RATIO)=(SELECT max(RATIO) FROM COMMENTS_PER_PRODUCT GROUP BY PRODUCT)'''\n",
    "maximo=f.sql_query(query,cursor)\n",
    "\n",
    "print(\"El número de productos que tienen una valoración máxima es:\",len(maximo),\"\\nlo que representa un porcentaje de\",round(len(maximo)/len(total)*100,2),\"%\")\n"
   ]
  },
  {
   "attachments": {},
   "cell_type": "markdown",
   "metadata": {},
   "source": [
    "##### Conclusión:\n",
    "\n",
    "Los productos tienen una valoración promedio que oscila entre 3,7 y 5.0, siendo ésta la valoración máxima posible.\n",
    "\n",
    "Con la valoración promedio máxima posible hay 129 productos de los 447, lo que representa el 28,86 % de los productos.\n",
    "\n",
    "También se observa que por debajo de una valoración promedio de 3,7 hay 23 productos, lo que representa un porcentaje 5,15 %."
   ]
  },
  {
   "attachments": {},
   "cell_type": "markdown",
   "metadata": {},
   "source": [
    "#### Estudio sobre los usuarios de los comentarios que se realizan.\n",
    "\n",
    "En este punto hay que tener en cuenta que tenemos pendiente ahora mismo de generar usuarios distintos cuando se encuentran el mismo usuario dentro del mismo producto, ya que no tiene sentido que sea el mismo usuario y hay que discriminarlo. \n",
    "\n",
    "Lo mejor en este punto sería tener users por nick y que esté no pudiera ser el mismo, ya que permitiría poder discernir la autoridad de cada comentario. "
   ]
  },
  {
   "cell_type": "code",
   "execution_count": null,
   "metadata": {},
   "outputs": [],
   "source": []
  },
  {
   "attachments": {},
   "cell_type": "markdown",
   "metadata": {},
   "source": [
    "#### Estudio sobre los valores de *TAGS* donde se catalogan los productos.\n",
    "\n",
    "Vamos a realizar un estudio sobre qué tipo de productos se venden en la página web, para tener una idea del tipo de negocio que tenemos.\n",
    "\n",
    "Aparte haremos un estudio sobre el tipo de productos que compran los distintos usuarios que hay registrados en web (teniendo en cuenta la casuística comentada sobre la identidad de cada USER)."
   ]
  },
  {
   "cell_type": "code",
   "execution_count": 34,
   "metadata": {},
   "outputs": [
    {
     "name": "stderr",
     "output_type": "stream",
     "text": [
      "C:\\Users\\Javier\\AppData\\Local\\Temp\\ipykernel_3180\\993599839.py:22: FutureWarning: In a future version, `df.iloc[:, i] = newvals` will attempt to set the values inplace instead of always setting a new array. To retain the old behavior, use either `df[df.columns[i]] = newvals` or, if columns are non-unique, `df.isetitem(i, newvals)`\n",
      "  total.iloc[:,1]=total.iloc[:,1].astype(int)\n"
     ]
    },
    {
     "data": {
      "image/png": "[encoded data removed]",
      "text/plain": [
       "<Figure size 1000x500 with 1 Axes>"
      ]
     },
     "metadata": {},
     "output_type": "display_data"
    }
   ],
   "source": [
    "plt.figure(figsize=(10,5))\n",
    "query = \"\"\"\n",
    "SELECT 'JUGUETES' AS TAGS, SUM(JUGUETES) AS valor FROM TAGS\n",
    "    UNION\n",
    "    SELECT 'MUEBLES' AS TAGS, SUM(MUEBLES) AS valor FROM TAGS\n",
    "    UNION\n",
    "    SELECT 'LENCERIA' AS TAGS, SUM(LENCERIA) AS valor FROM TAGS\n",
    "    UNION\n",
    "    SELECT 'MASCULINO' AS TAGS, SUM(MASCULINO) AS valor FROM TAGS\n",
    "    UNION\n",
    "    SELECT 'FEMININO' AS TAGS, SUM(FEMININO) AS valor FROM TAGS\n",
    "    UNION\n",
    "    SELECT 'ANAL' AS TAGS, SUM(ANAL) AS valor FROM TAGS\n",
    "    UNION\n",
    "    SELECT 'BDSM' AS TAGS, SUM(BDSM) AS valor FROM TAGS\n",
    "    UNION\n",
    "    SELECT 'AMENITIES' AS TAGS, SUM(AMENITIES) AS valor FROM TAGS\n",
    "ORDER  BY valor DESC;\n",
    "\"\"\"\n",
    "\n",
    "total=f.sql_query(query,cursor)\n",
    "total.iloc[:,1]=total.iloc[:,1].astype(int)\n",
    "plt.hlines(total['TAGS'],xmin=0,\n",
    "           xmax=total['valor'],)\n",
    "plt.plot(total['valor'], total['TAGS'], \"o\")\n",
    "plt.yticks(total['TAGS'])\n",
    "plt.xlabel(\"Nº PRODUCT\")\n",
    "plt.ylabel(\"TAGS\")\n",
    "plt.title(\"PRODUCTS_PER_TAGS\")\n",
    "\n",
    "file=str(r'\\Resources\\image\\N_Tags_product')\n",
    "folder+file\n",
    "plt.savefig(folder+file);"
   ]
  },
  {
   "attachments": {},
   "cell_type": "markdown",
   "metadata": {},
   "source": [
    "## Cerramos la BBDD."
   ]
  },
  {
   "cell_type": "code",
   "execution_count": 45,
   "metadata": {},
   "outputs": [],
   "source": [
    "conn.commit()\n",
    "cursor.close()\n",
    "conn.close()"
   ]
  }
 ],
 "metadata": {
  "kernelspec": {
   "display_name": "Python 3",
   "language": "python",
   "name": "python3"
  },
  "language_info": {
   "codemirror_mode": {
    "name": "ipython",
    "version": 3
   },
   "file_extension": ".py",
   "mimetype": "text/x-python",
   "name": "python",
   "nbconvert_exporter": "python",
   "pygments_lexer": "ipython3",
   "version": "3.10.11"
  },
  "orig_nbformat": 4
 },
 "nbformat": 4,
 "nbformat_minor": 2
}
