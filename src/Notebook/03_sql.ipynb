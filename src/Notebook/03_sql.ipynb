{
 "cells": [
  {
   "attachments": {},
   "cell_type": "markdown",
   "metadata": {},
   "source": [
    "# Almacenamiento de datos"
   ]
  },
  {
   "attachments": {},
   "cell_type": "markdown",
   "metadata": {},
   "source": [
    "## Introducción\n",
    "\n",
    "Vamos a generar una BBDD Relacional para el almacenamiento de los registros que hemos obtenido hasta ahora.\n",
    "\n",
    "En este momento del proyecto (mayo/23) prepararemos una base de datos con 2 Tablas y posteriormente generaremos una tercera tabla con las variables que habremos generado en el notebook de Engineering para generar #tags. "
   ]
  },
  {
   "attachments": {},
   "cell_type": "markdown",
   "metadata": {},
   "source": [
    "## Librerías"
   ]
  },
  {
   "cell_type": "code",
   "execution_count": 3,
   "metadata": {},
   "outputs": [
    {
     "data": {
      "text/plain": [
       "'d:\\\\Data_science\\\\Javier\\\\Repositorios\\\\Proyecto_tienda_online\\\\src'"
      ]
     },
     "execution_count": 3,
     "metadata": {},
     "output_type": "execute_result"
    }
   ],
   "source": [
    "import os\n",
    "os.chdir(os.path.split(os.getcwd())[0])\n",
    "folder=os.getcwd()\n",
    "folder"
   ]
  },
  {
   "cell_type": "code",
   "execution_count": 4,
   "metadata": {},
   "outputs": [],
   "source": [
    "import pandas as pd\n",
    "import numpy as np\n",
    "\n",
    "from datetime import datetime\n",
    "import sqlite3\n",
    "import matplotlib.pyplot as plt\n",
    "import seaborn as sns\n",
    "from Utils import functions as f\n",
    "\n"
   ]
  },
  {
   "attachments": {},
   "cell_type": "markdown",
   "metadata": {},
   "source": [
    "## Estructuras de la BBDD"
   ]
  },
  {
   "attachments": {},
   "cell_type": "markdown",
   "metadata": {},
   "source": [
    "![Estructura_tablas](../Resources/image/Relacion_tablas.jpg)"
   ]
  },
  {
   "attachments": {},
   "cell_type": "markdown",
   "metadata": {},
   "source": [
    "### a.- Realizando la conexión a la Base de Datos."
   ]
  },
  {
   "cell_type": "code",
   "execution_count": 5,
   "metadata": {},
   "outputs": [],
   "source": [
    "# Conectamos con la base de datos\n",
    "conn = sqlite3.connect(\"Resources/online_shop.db\")\n",
    "\n",
    "# Obtenemos un cursor que utilizaremos para hacer las queries\n",
    "cursor = conn.cursor()"
   ]
  },
  {
   "attachments": {},
   "cell_type": "markdown",
   "metadata": {},
   "source": [
    "### b.- Funciones para obtener datos y ver en un dataframe (este punto esta para eliminar)"
   ]
  },
  {
   "cell_type": "code",
   "execution_count": 4,
   "metadata": {},
   "outputs": [],
   "source": [
    "# # Con esta función leemos los datos y lo pasamos a un DataFrame de Pandas\n",
    "# def sql_query(query):\n",
    "\n",
    "#     # Ejecuta la query\n",
    "#     cursor.execute(query)\n",
    "\n",
    "#     # Almacena los datos de la query \n",
    "#     ans = cursor.fetchall()\n",
    "\n",
    "#     # Obtenemos los nombres de las columnas de la tabla\n",
    "#     names = [description[0] for description in cursor.description]\n",
    "\n",
    "#     return pd.DataFrame(ans,columns=names)"
   ]
  },
  {
   "attachments": {},
   "cell_type": "markdown",
   "metadata": {},
   "source": [
    "## 1. Construyendo la BBDD"
   ]
  },
  {
   "cell_type": "code",
   "execution_count": 46,
   "metadata": {},
   "outputs": [
    {
     "name": "stdout",
     "output_type": "stream",
     "text": [
      "PRODUCT\n",
      "PRICES\n",
      "TAGS\n",
      "USERS\n"
     ]
    }
   ],
   "source": [
    "res = cursor.execute(\"SELECT name FROM sqlite_master WHERE type='table'\")\n",
    "# res = cursor.execute(\"SELECT name FROM sqlite_master WHERE type='view'\")\n",
    "for name in res:\n",
    "    print(name[0])"
   ]
  },
  {
   "attachments": {},
   "cell_type": "markdown",
   "metadata": {},
   "source": [
    "#### PRODUCT"
   ]
  },
  {
   "cell_type": "code",
   "execution_count": 7,
   "metadata": {},
   "outputs": [
    {
     "data": {
      "text/plain": [
       "<sqlite3.Cursor at 0x193e214ec40>"
      ]
     },
     "execution_count": 7,
     "metadata": {},
     "output_type": "execute_result"
    }
   ],
   "source": [
    "query = '''\n",
    "CREATE TABLE PRODUCT  (\n",
    "    ID VARCHAR (3),\n",
    "    PRODUCT VARCHAR (100),\n",
    "    SLOGAN VARCHAR (100),\n",
    "    DESCRIPTION VARCHAR (250),\n",
    "    CHARACTERISTICS VARCHAR (250),\n",
    "    URL VARCHAR (50),\n",
    "    PRIMARY KEY (ID)\n",
    ")\n",
    "\n",
    "'''\n",
    "\n",
    "\n",
    "cursor.execute(query)"
   ]
  },
  {
   "cell_type": "markdown",
   "metadata": {},
   "source": [
    "#### PRICES"
   ]
  },
  {
   "cell_type": "code",
   "execution_count": 10,
   "metadata": {},
   "outputs": [
    {
     "data": {
      "text/plain": [
       "<sqlite3.Cursor at 0x193e214ec40>"
      ]
     },
     "execution_count": 10,
     "metadata": {},
     "output_type": "execute_result"
    }
   ],
   "source": [
    "query = '''\n",
    "CREATE TABLE PRICES  (\n",
    "    ID VARCHAR (3),\n",
    "    ID_PRODUCT VARCHAR (3),\n",
    "    REGULAR_PRICE INT (3),\n",
    "    DISCOUNT_PRICE INT (3),\n",
    "    DATE_DOWNLOAD VARCHAR (100),\n",
    "    PRIMARY KEY (ID),\n",
    "    FOREIGN KEY (ID_PRODUCT) REFERENCES PRODUCT (ID)\n",
    "\n",
    ")\n",
    "\n",
    "'''\n",
    "\n",
    "\n",
    "cursor.execute(query)"
   ]
  },
  {
   "attachments": {},
   "cell_type": "markdown",
   "metadata": {},
   "source": [
    "#### COMMENTS"
   ]
  },
  {
   "cell_type": "code",
   "execution_count": 47,
   "metadata": {},
   "outputs": [
    {
     "data": {
      "text/plain": [
       "<sqlite3.Cursor at 0x1726acbf840>"
      ]
     },
     "execution_count": 47,
     "metadata": {},
     "output_type": "execute_result"
    }
   ],
   "source": [
    "query = '''\n",
    "CREATE TABLE COMMENT  (\n",
    "    ID_COMMENT VARCHAR (5),\n",
    "    ID_PRODUCT VARCHAR (3),\n",
    "    DATE VARCHAR (100),\n",
    "    RATIO INT (2),\n",
    "    ID_USERS VARCHAR (3),\n",
    "    COMMENT VARCHAR (250), \n",
    "    PRIMARY KEY (ID_COMMENT),\n",
    "    FOREIGN KEY (ID_PRODUCT) REFERENCES PRODUCT (ID),\n",
    "    FOREIGN KEY (ID_USERS) REFERENCES USERS (ID)\n",
    "\n",
    ")\n",
    "\n",
    "'''\n",
    "\n",
    "cursor.execute(query)"
   ]
  },
  {
   "attachments": {},
   "cell_type": "markdown",
   "metadata": {},
   "source": [
    "#### TAGS"
   ]
  },
  {
   "cell_type": "code",
   "execution_count": 12,
   "metadata": {},
   "outputs": [
    {
     "data": {
      "text/plain": [
       "<sqlite3.Cursor at 0x193e214ec40>"
      ]
     },
     "execution_count": 12,
     "metadata": {},
     "output_type": "execute_result"
    }
   ],
   "source": [
    "query = '''\n",
    "CREATE TABLE TAGS  (\n",
    "    ID VARCHAR (3),\n",
    "    JUGUETES INT(1),\n",
    "    MUEBLES INT(1),\n",
    "    LENCERIA INT(1),\n",
    "    MASCULINO INT(1),\n",
    "    FEMININO INT(1),\n",
    "    ANAL INT(1),\n",
    "    BDSM INT(1),\n",
    "    AMENITIES INT(1),\n",
    "    PRIMARY KEY (ID),\n",
    "    FOREIGN KEY (ID) REFERENCES PRODUCT (ID)\n",
    ")\n",
    "\n",
    "'''\n",
    "\n",
    "# En esta tabla hay que convertir primeramente los booleanos en 0 y 1 para guardarla.\n",
    "# También es importante tener esto en cuenta a la hora de extraer la información.\n",
    "cursor.execute(query)"
   ]
  },
  {
   "cell_type": "markdown",
   "metadata": {},
   "source": [
    "#### USERS"
   ]
  },
  {
   "cell_type": "code",
   "execution_count": 13,
   "metadata": {},
   "outputs": [
    {
     "data": {
      "text/plain": [
       "<sqlite3.Cursor at 0x193e214ec40>"
      ]
     },
     "execution_count": 13,
     "metadata": {},
     "output_type": "execute_result"
    }
   ],
   "source": [
    "query = '''\n",
    "CREATE TABLE USERS  (\n",
    "    ID VARCHAR (5),\n",
    "    USERS VARCHAR (50),\n",
    "    PRIMARY KEY (ID)\n",
    ")\n",
    "\n",
    "'''\n",
    "\n",
    "cursor.execute(query)"
   ]
  },
  {
   "attachments": {},
   "cell_type": "markdown",
   "metadata": {},
   "source": [
    "### b.- Cargando los datos dentro de la BBDD"
   ]
  },
  {
   "cell_type": "markdown",
   "metadata": {},
   "source": [
    "#### Productos."
   ]
  },
  {
   "cell_type": "code",
   "execution_count": 7,
   "metadata": {},
   "outputs": [
    {
     "name": "stdout",
     "output_type": "stream",
     "text": [
      "Long. dataframe 6\n"
     ]
    },
    {
     "data": {
      "text/html": [
       "<div>\n",
       "<style scoped>\n",
       "    .dataframe tbody tr th:only-of-type {\n",
       "        vertical-align: middle;\n",
       "    }\n",
       "\n",
       "    .dataframe tbody tr th {\n",
       "        vertical-align: top;\n",
       "    }\n",
       "\n",
       "    .dataframe thead th {\n",
       "        text-align: right;\n",
       "    }\n",
       "</style>\n",
       "<table border=\"1\" class=\"dataframe\">\n",
       "  <thead>\n",
       "    <tr style=\"text-align: right;\">\n",
       "      <th></th>\n",
       "      <th>ID</th>\n",
       "      <th>PRODUCT</th>\n",
       "      <th>SLOGAN</th>\n",
       "      <th>DESCRIPTION</th>\n",
       "      <th>CHARACTERISTICS</th>\n",
       "      <th>LISTA_URL</th>\n",
       "    </tr>\n",
       "  </thead>\n",
       "  <tbody>\n",
       "    <tr>\n",
       "      <th>0</th>\n",
       "      <td>0</td>\n",
       "      <td>MASABOOM</td>\n",
       "      <td>El gran masajeador sexual</td>\n",
       "      <td>Este es el juguete para todas, todos y todes. ...</td>\n",
       "      <td>Masajeador con forma de micrófonoMaterial: sil...</td>\n",
       "      <td>https://www.amantis.net/masaboom-el-gran-masaj...</td>\n",
       "    </tr>\n",
       "    <tr>\n",
       "      <th>1</th>\n",
       "      <td>1</td>\n",
       "      <td>MASSAJI</td>\n",
       "      <td>Potente masajeador japonés sumergible de silicona</td>\n",
       "      <td>¿Quieres una velada perfecta tras un largo día...</td>\n",
       "      <td>Masajeador Japonés Massaji Material: Silicona ...</td>\n",
       "      <td>https://www.amantis.net/massaji-potente-masaje...</td>\n",
       "    </tr>\n",
       "    <tr>\n",
       "      <th>2</th>\n",
       "      <td>2</td>\n",
       "      <td>DIGIT PRO</td>\n",
       "      <td>dedal vibrador con sujeción</td>\n",
       "      <td>Los dedos siempre han sido grandes aliados de ...</td>\n",
       "      <td>Dedal vibradorMaterial: silicona de grado médi...</td>\n",
       "      <td>https://www.amantis.net/digit-pro-dedal-vibrad...</td>\n",
       "    </tr>\n",
       "    <tr>\n",
       "      <th>3</th>\n",
       "      <td>3</td>\n",
       "      <td>MINI CARNIVAL</td>\n",
       "      <td>mini_masajeador con cuatro cabezales</td>\n",
       "      <td>¿Conoces a MINI+? Puse hoy es tu día de suerte...</td>\n",
       "      <td>Mini masajeador con cuatro cabezalesCabezales ...</td>\n",
       "      <td>https://www.amantis.net/mini-carnival-mini-mas...</td>\n",
       "    </tr>\n",
       "    <tr>\n",
       "      <th>4</th>\n",
       "      <td>4</td>\n",
       "      <td>LINGÜS</td>\n",
       "      <td>Vibrador para Sexo Oral de amantis</td>\n",
       "      <td>Milenios de sabiduría en el arte del cunniling...</td>\n",
       "      <td>Material: silicona + abs10 modos de vibraciónT...</td>\n",
       "      <td>https://www.amantis.net/lingus-vibrador-sexo-o...</td>\n",
       "    </tr>\n",
       "  </tbody>\n",
       "</table>\n",
       "</div>"
      ],
      "text/plain": [
       "   ID        PRODUCT                                             SLOGAN  \\\n",
       "0   0       MASABOOM                          El gran masajeador sexual   \n",
       "1   1        MASSAJI  Potente masajeador japonés sumergible de silicona   \n",
       "2   2      DIGIT PRO                        dedal vibrador con sujeción   \n",
       "3   3  MINI CARNIVAL               mini_masajeador con cuatro cabezales   \n",
       "4   4         LINGÜS                 Vibrador para Sexo Oral de amantis   \n",
       "\n",
       "                                         DESCRIPTION  \\\n",
       "0  Este es el juguete para todas, todos y todes. ...   \n",
       "1  ¿Quieres una velada perfecta tras un largo día...   \n",
       "2  Los dedos siempre han sido grandes aliados de ...   \n",
       "3  ¿Conoces a MINI+? Puse hoy es tu día de suerte...   \n",
       "4  Milenios de sabiduría en el arte del cunniling...   \n",
       "\n",
       "                                     CHARACTERISTICS  \\\n",
       "0  Masajeador con forma de micrófonoMaterial: sil...   \n",
       "1  Masajeador Japonés Massaji Material: Silicona ...   \n",
       "2  Dedal vibradorMaterial: silicona de grado médi...   \n",
       "3  Mini masajeador con cuatro cabezalesCabezales ...   \n",
       "4  Material: silicona + abs10 modos de vibraciónT...   \n",
       "\n",
       "                                           LISTA_URL  \n",
       "0  https://www.amantis.net/masaboom-el-gran-masaj...  \n",
       "1  https://www.amantis.net/massaji-potente-masaje...  \n",
       "2  https://www.amantis.net/digit-pro-dedal-vibrad...  \n",
       "3  https://www.amantis.net/mini-carnival-mini-mas...  \n",
       "4  https://www.amantis.net/lingus-vibrador-sexo-o...  "
      ]
     },
     "execution_count": 7,
     "metadata": {},
     "output_type": "execute_result"
    }
   ],
   "source": [
    "df_products=pd.read_csv(r'Data\\productos.csv')\n",
    "print(\"Long. dataframe\",len(df_products.columns))\n",
    "df_products.head()"
   ]
  },
  {
   "cell_type": "markdown",
   "metadata": {},
   "source": [
    "#### Precios."
   ]
  },
  {
   "cell_type": "code",
   "execution_count": 8,
   "metadata": {},
   "outputs": [
    {
     "name": "stdout",
     "output_type": "stream",
     "text": [
      "Long. dataframe 5\n"
     ]
    },
    {
     "data": {
      "text/html": [
       "<div>\n",
       "<style scoped>\n",
       "    .dataframe tbody tr th:only-of-type {\n",
       "        vertical-align: middle;\n",
       "    }\n",
       "\n",
       "    .dataframe tbody tr th {\n",
       "        vertical-align: top;\n",
       "    }\n",
       "\n",
       "    .dataframe thead th {\n",
       "        text-align: right;\n",
       "    }\n",
       "</style>\n",
       "<table border=\"1\" class=\"dataframe\">\n",
       "  <thead>\n",
       "    <tr style=\"text-align: right;\">\n",
       "      <th></th>\n",
       "      <th>ID</th>\n",
       "      <th>ID_PRODUCT</th>\n",
       "      <th>REGULAR_PRICE</th>\n",
       "      <th>DISCOUNT_PRICE</th>\n",
       "      <th>FECHA</th>\n",
       "    </tr>\n",
       "  </thead>\n",
       "  <tbody>\n",
       "    <tr>\n",
       "      <th>556</th>\n",
       "      <td>571</td>\n",
       "      <td>571</td>\n",
       "      <td>59.99</td>\n",
       "      <td>49.99</td>\n",
       "      <td>231012</td>\n",
       "    </tr>\n",
       "    <tr>\n",
       "      <th>557</th>\n",
       "      <td>572</td>\n",
       "      <td>572</td>\n",
       "      <td>49.99</td>\n",
       "      <td>29.99</td>\n",
       "      <td>231012</td>\n",
       "    </tr>\n",
       "    <tr>\n",
       "      <th>558</th>\n",
       "      <td>573</td>\n",
       "      <td>573</td>\n",
       "      <td>29.99</td>\n",
       "      <td>18.99</td>\n",
       "      <td>231012</td>\n",
       "    </tr>\n",
       "    <tr>\n",
       "      <th>559</th>\n",
       "      <td>574</td>\n",
       "      <td>574</td>\n",
       "      <td>39.99</td>\n",
       "      <td>19.99</td>\n",
       "      <td>231012</td>\n",
       "    </tr>\n",
       "    <tr>\n",
       "      <th>560</th>\n",
       "      <td>575</td>\n",
       "      <td>575</td>\n",
       "      <td>79.99</td>\n",
       "      <td>27.99</td>\n",
       "      <td>231012</td>\n",
       "    </tr>\n",
       "  </tbody>\n",
       "</table>\n",
       "</div>"
      ],
      "text/plain": [
       "      ID  ID_PRODUCT  REGULAR_PRICE  DISCOUNT_PRICE   FECHA\n",
       "556  571         571          59.99           49.99  231012\n",
       "557  572         572          49.99           29.99  231012\n",
       "558  573         573          29.99           18.99  231012\n",
       "559  574         574          39.99           19.99  231012\n",
       "560  575         575          79.99           27.99  231012"
      ]
     },
     "execution_count": 8,
     "metadata": {},
     "output_type": "execute_result"
    }
   ],
   "source": [
    "df_price=pd.read_csv(r'Data\\precios_231012.csv')\n",
    "print(\"Long. dataframe\",len(df_price.columns))\n",
    "df_price.tail()"
   ]
  },
  {
   "cell_type": "markdown",
   "metadata": {},
   "source": [
    "#### Comentarios."
   ]
  },
  {
   "cell_type": "code",
   "execution_count": 9,
   "metadata": {},
   "outputs": [
    {
     "name": "stdout",
     "output_type": "stream",
     "text": [
      "<class 'pandas.core.frame.DataFrame'>\n",
      "RangeIndex: 10479 entries, 0 to 10478\n",
      "Data columns (total 6 columns):\n",
      " #   Column      Non-Null Count  Dtype \n",
      "---  ------      --------------  ----- \n",
      " 0   ID_COMMENT  10479 non-null  int64 \n",
      " 1   ID_PRODUCT  10479 non-null  int64 \n",
      " 2   DATE        10479 non-null  object\n",
      " 3   RATIO       10479 non-null  int64 \n",
      " 4   ID_USERS    10479 non-null  int64 \n",
      " 5   COMMENT     10479 non-null  object\n",
      "dtypes: int64(4), object(2)\n",
      "memory usage: 491.3+ KB\n"
     ]
    }
   ],
   "source": [
    "df_comments=pd.read_csv(r'Data\\comentarios.csv',index_col=False)\n",
    "# print(\"Long. dataframe\",len(df_comments.columns))\n",
    "df_comments.rename(columns={\"ID\":\"ID_PRODUCT\",\"Unnamed: 0\":\"ID_COMMENT\"},inplace=True)\n",
    "# df_comments.drop(columns=['DAY','MONTH','YEAR'],inplace=True)                     # Aplicar en el caso que no hayamos eliminado las columnas de YEAR, MONTH y DAY\n",
    "# Me falta pasar DATE nuevamente a DATETIME\n",
    "# df_comments['DATE'] = pd.to_datetime(df_comments['DATE'])\n",
    "df_comments.info()"
   ]
  },
  {
   "cell_type": "code",
   "execution_count": 44,
   "metadata": {},
   "outputs": [
    {
     "data": {
      "text/html": [
       "<div>\n",
       "<style scoped>\n",
       "    .dataframe tbody tr th:only-of-type {\n",
       "        vertical-align: middle;\n",
       "    }\n",
       "\n",
       "    .dataframe tbody tr th {\n",
       "        vertical-align: top;\n",
       "    }\n",
       "\n",
       "    .dataframe thead th {\n",
       "        text-align: right;\n",
       "    }\n",
       "</style>\n",
       "<table border=\"1\" class=\"dataframe\">\n",
       "  <thead>\n",
       "    <tr style=\"text-align: right;\">\n",
       "      <th></th>\n",
       "      <th>ID_COMMENT</th>\n",
       "      <th>ID_PRODUCT</th>\n",
       "      <th>DATE</th>\n",
       "      <th>RATIO</th>\n",
       "      <th>ID_USERS</th>\n",
       "      <th>COMMENT</th>\n",
       "    </tr>\n",
       "  </thead>\n",
       "  <tbody>\n",
       "    <tr>\n",
       "      <th>0</th>\n",
       "      <td>0</td>\n",
       "      <td>1</td>\n",
       "      <td>2023-01-25</td>\n",
       "      <td>5</td>\n",
       "      <td>0</td>\n",
       "      <td>Es un vibrador discreto y eficaz. Es uno de mi...</td>\n",
       "    </tr>\n",
       "    <tr>\n",
       "      <th>1</th>\n",
       "      <td>1</td>\n",
       "      <td>1</td>\n",
       "      <td>2023-01-09</td>\n",
       "      <td>5</td>\n",
       "      <td>1</td>\n",
       "      <td>el vibrador de cabecera de mi mujer. Después d...</td>\n",
       "    </tr>\n",
       "    <tr>\n",
       "      <th>2</th>\n",
       "      <td>2</td>\n",
       "      <td>1</td>\n",
       "      <td>2022-12-10</td>\n",
       "      <td>3</td>\n",
       "      <td>2</td>\n",
       "      <td>Tenía uno de otra tienda y compré este porque ...</td>\n",
       "    </tr>\n",
       "    <tr>\n",
       "      <th>3</th>\n",
       "      <td>3</td>\n",
       "      <td>1</td>\n",
       "      <td>2022-10-04</td>\n",
       "      <td>5</td>\n",
       "      <td>3</td>\n",
       "      <td>Es una buena compra. Muy agradable, con difere...</td>\n",
       "    </tr>\n",
       "    <tr>\n",
       "      <th>4</th>\n",
       "      <td>4</td>\n",
       "      <td>1</td>\n",
       "      <td>2022-07-07</td>\n",
       "      <td>5</td>\n",
       "      <td>4</td>\n",
       "      <td>Buen juguete más centrado en los precalentamie...</td>\n",
       "    </tr>\n",
       "  </tbody>\n",
       "</table>\n",
       "</div>"
      ],
      "text/plain": [
       "   ID_COMMENT  ID_PRODUCT        DATE  RATIO  ID_USERS  \\\n",
       "0           0           1  2023-01-25      5         0   \n",
       "1           1           1  2023-01-09      5         1   \n",
       "2           2           1  2022-12-10      3         2   \n",
       "3           3           1  2022-10-04      5         3   \n",
       "4           4           1  2022-07-07      5         4   \n",
       "\n",
       "                                             COMMENT  \n",
       "0  Es un vibrador discreto y eficaz. Es uno de mi...  \n",
       "1  el vibrador de cabecera de mi mujer. Después d...  \n",
       "2  Tenía uno de otra tienda y compré este porque ...  \n",
       "3  Es una buena compra. Muy agradable, con difere...  \n",
       "4  Buen juguete más centrado en los precalentamie...  "
      ]
     },
     "execution_count": 44,
     "metadata": {},
     "output_type": "execute_result"
    }
   ],
   "source": [
    "df_comments.head()"
   ]
  },
  {
   "cell_type": "markdown",
   "metadata": {},
   "source": [
    "#### Usuarios."
   ]
  },
  {
   "cell_type": "code",
   "execution_count": 10,
   "metadata": {},
   "outputs": [
    {
     "name": "stdout",
     "output_type": "stream",
     "text": [
      "Long. dataframe 2\n"
     ]
    },
    {
     "data": {
      "text/html": [
       "<div>\n",
       "<style scoped>\n",
       "    .dataframe tbody tr th:only-of-type {\n",
       "        vertical-align: middle;\n",
       "    }\n",
       "\n",
       "    .dataframe tbody tr th {\n",
       "        vertical-align: top;\n",
       "    }\n",
       "\n",
       "    .dataframe thead th {\n",
       "        text-align: right;\n",
       "    }\n",
       "</style>\n",
       "<table border=\"1\" class=\"dataframe\">\n",
       "  <thead>\n",
       "    <tr style=\"text-align: right;\">\n",
       "      <th></th>\n",
       "      <th>ID_USERS</th>\n",
       "      <th>USERS</th>\n",
       "    </tr>\n",
       "  </thead>\n",
       "  <tbody>\n",
       "    <tr>\n",
       "      <th>0</th>\n",
       "      <td>0</td>\n",
       "      <td>Sara</td>\n",
       "    </tr>\n",
       "    <tr>\n",
       "      <th>1</th>\n",
       "      <td>1</td>\n",
       "      <td>Jesús</td>\n",
       "    </tr>\n",
       "    <tr>\n",
       "      <th>2</th>\n",
       "      <td>2</td>\n",
       "      <td>Sara_2</td>\n",
       "    </tr>\n",
       "    <tr>\n",
       "      <th>3</th>\n",
       "      <td>3</td>\n",
       "      <td>Sara_3</td>\n",
       "    </tr>\n",
       "    <tr>\n",
       "      <th>4</th>\n",
       "      <td>4</td>\n",
       "      <td>Álvaro</td>\n",
       "    </tr>\n",
       "  </tbody>\n",
       "</table>\n",
       "</div>"
      ],
      "text/plain": [
       "   ID_USERS   USERS\n",
       "0         0    Sara\n",
       "1         1   Jesús\n",
       "2         2  Sara_2\n",
       "3         3  Sara_3\n",
       "4         4  Álvaro"
      ]
     },
     "execution_count": 10,
     "metadata": {},
     "output_type": "execute_result"
    }
   ],
   "source": [
    "df_usuarios=pd.read_csv(r'Data\\usuarios.csv')\n",
    "print(\"Long. dataframe\",len(df_usuarios.columns))\n",
    "df_usuarios.head()"
   ]
  },
  {
   "cell_type": "markdown",
   "metadata": {},
   "source": [
    "#### Tags."
   ]
  },
  {
   "cell_type": "code",
   "execution_count": 11,
   "metadata": {},
   "outputs": [
    {
     "name": "stdout",
     "output_type": "stream",
     "text": [
      "Long. dataframe 9\n"
     ]
    },
    {
     "data": {
      "text/html": [
       "<div>\n",
       "<style scoped>\n",
       "    .dataframe tbody tr th:only-of-type {\n",
       "        vertical-align: middle;\n",
       "    }\n",
       "\n",
       "    .dataframe tbody tr th {\n",
       "        vertical-align: top;\n",
       "    }\n",
       "\n",
       "    .dataframe thead th {\n",
       "        text-align: right;\n",
       "    }\n",
       "</style>\n",
       "<table border=\"1\" class=\"dataframe\">\n",
       "  <thead>\n",
       "    <tr style=\"text-align: right;\">\n",
       "      <th></th>\n",
       "      <th>ID</th>\n",
       "      <th>amenities</th>\n",
       "      <th>anal</th>\n",
       "      <th>BDSM</th>\n",
       "      <th>femenino</th>\n",
       "      <th>masculino</th>\n",
       "      <th>juguetes</th>\n",
       "      <th>lenceria</th>\n",
       "      <th>muebles</th>\n",
       "    </tr>\n",
       "  </thead>\n",
       "  <tbody>\n",
       "    <tr>\n",
       "      <th>0</th>\n",
       "      <td>0</td>\n",
       "      <td>True</td>\n",
       "      <td>False</td>\n",
       "      <td>False</td>\n",
       "      <td>True</td>\n",
       "      <td>False</td>\n",
       "      <td>False</td>\n",
       "      <td>False</td>\n",
       "      <td>False</td>\n",
       "    </tr>\n",
       "    <tr>\n",
       "      <th>1</th>\n",
       "      <td>1</td>\n",
       "      <td>True</td>\n",
       "      <td>True</td>\n",
       "      <td>False</td>\n",
       "      <td>False</td>\n",
       "      <td>False</td>\n",
       "      <td>True</td>\n",
       "      <td>False</td>\n",
       "      <td>False</td>\n",
       "    </tr>\n",
       "    <tr>\n",
       "      <th>2</th>\n",
       "      <td>2</td>\n",
       "      <td>False</td>\n",
       "      <td>False</td>\n",
       "      <td>True</td>\n",
       "      <td>True</td>\n",
       "      <td>False</td>\n",
       "      <td>True</td>\n",
       "      <td>False</td>\n",
       "      <td>False</td>\n",
       "    </tr>\n",
       "    <tr>\n",
       "      <th>3</th>\n",
       "      <td>3</td>\n",
       "      <td>True</td>\n",
       "      <td>True</td>\n",
       "      <td>False</td>\n",
       "      <td>False</td>\n",
       "      <td>False</td>\n",
       "      <td>False</td>\n",
       "      <td>False</td>\n",
       "      <td>False</td>\n",
       "    </tr>\n",
       "    <tr>\n",
       "      <th>4</th>\n",
       "      <td>4</td>\n",
       "      <td>False</td>\n",
       "      <td>False</td>\n",
       "      <td>False</td>\n",
       "      <td>False</td>\n",
       "      <td>False</td>\n",
       "      <td>True</td>\n",
       "      <td>False</td>\n",
       "      <td>False</td>\n",
       "    </tr>\n",
       "  </tbody>\n",
       "</table>\n",
       "</div>"
      ],
      "text/plain": [
       "   ID  amenities   anal   BDSM  femenino  masculino  juguetes  lenceria  \\\n",
       "0   0       True  False  False      True      False     False     False   \n",
       "1   1       True   True  False     False      False      True     False   \n",
       "2   2      False  False   True      True      False      True     False   \n",
       "3   3       True   True  False     False      False     False     False   \n",
       "4   4      False  False  False     False      False      True     False   \n",
       "\n",
       "   muebles  \n",
       "0    False  \n",
       "1    False  \n",
       "2    False  \n",
       "3    False  \n",
       "4    False  "
      ]
     },
     "execution_count": 11,
     "metadata": {},
     "output_type": "execute_result"
    }
   ],
   "source": [
    "df_tags=pd.read_csv(r'Data\\tags.csv')\n",
    "df_tags.pop('PRODUCT')\n",
    "print(\"Long. dataframe\",len(df_tags.columns))\n",
    "df_tags.head()"
   ]
  },
  {
   "cell_type": "code",
   "execution_count": 48,
   "metadata": {},
   "outputs": [
    {
     "data": {
      "text/plain": [
       "<sqlite3.Cursor at 0x1726acbf840>"
      ]
     },
     "execution_count": 48,
     "metadata": {},
     "output_type": "execute_result"
    }
   ],
   "source": [
    "lista_products= df_products.values.tolist()                                                #   Pasamos a lista el dataframe\n",
    "\n",
    "cursor.executemany(\"INSERT INTO PRODUCT VALUES (?,?,?,?,?,?)\", lista_products)           #   Salvamos directamente todos los datos en la tabla PRODUCTS\n",
    "\n",
    "lista_price= df_price.values.tolist()                                                #   Pasamos a lista el dataframe\n",
    "\n",
    "cursor.executemany(\"INSERT INTO PRICES VALUES (?,?,?,?,?)\", lista_price)           #   Salvamos directamente todos los datos en la tabla PRODUCTS\n",
    "\n",
    "lista_comments= df_comments.values.tolist()                                                #   Pasamos a lista el dataframe\n",
    "\n",
    "cursor.executemany(\"INSERT INTO COMMENT VALUES (?,?,?,?,?,?)\", lista_comments)                 #   Salvamos directamente todos los datos en la tabla COMMENTS\n",
    "\n",
    "lista_usuarios= df_usuarios.values.tolist()                                                #   Pasamos a lista el dataframe\n",
    "\n",
    "cursor.executemany(\"INSERT INTO USERS VALUES (?,?)\", lista_usuarios)           #   Salvamos directamente todos los datos en la tabla PRODUCTSS\n",
    "\n",
    "lista_tags= df_tags.values.tolist()                                                #   Pasamos a lista el dataframe\n",
    "\n",
    "cursor.executemany(\"INSERT INTO TAGS VALUES (?,?,?,?,?,?,?,?,?)\", lista_tags)                 #   Salvamos directamente todos los datos en la tabla COMMENTS"
   ]
  },
  {
   "attachments": {},
   "cell_type": "markdown",
   "metadata": {},
   "source": [
    "### Generamos las *views* oportunas para el tratamiento de los datos.  (ESTO LO TENGO QUE MODIFICAR)"
   ]
  },
  {
   "cell_type": "markdown",
   "metadata": {},
   "source": [
    "Utilizaremos este codigo para eliminar view/table en caso necesario"
   ]
  },
  {
   "cell_type": "code",
   "execution_count": 45,
   "metadata": {},
   "outputs": [
    {
     "data": {
      "text/plain": [
       "<sqlite3.Cursor at 0x1726acbf840>"
      ]
     },
     "execution_count": 45,
     "metadata": {},
     "output_type": "execute_result"
    }
   ],
   "source": [
    "# XX='''DROP TABLE COMMENT'''\n",
    "# cursor.execute (XX)"
   ]
  },
  {
   "cell_type": "code",
   "execution_count": 29,
   "metadata": {},
   "outputs": [
    {
     "data": {
      "text/plain": [
       "'Tengo pendiente de crear una view donde enlace a los distintos usuarios con los productos y los comentarios'"
      ]
     },
     "execution_count": 29,
     "metadata": {},
     "output_type": "execute_result"
    }
   ],
   "source": [
    "view_1='''CREATE VIEW COMMENTS_PER_PRODUCT AS SELECT PRODUCT.PRODUCT,COMMENT.DATE,COMMENT.RATIO ,COMMENT.COMMENT FROM COMMENT JOIN PRODUCT ON PRODUCT.ID=COMMENT.ID_PRODUCT'''\n",
    "cursor.execute(view_1)\n",
    "\n",
    "\n",
    "'''Tengo pendiente de crear una view donde enlace a los distintos usuarios con los productos y los comentarios'''"
   ]
  },
  {
   "cell_type": "code",
   "execution_count": 28,
   "metadata": {},
   "outputs": [],
   "source": [
    "conn.commit()\n",
    "cursor.close()\n",
    "conn.close()"
   ]
  },
  {
   "attachments": {},
   "cell_type": "markdown",
   "metadata": {},
   "source": [
    "## 2. Realizando consultas para visualizar datos."
   ]
  },
  {
   "attachments": {},
   "cell_type": "markdown",
   "metadata": {},
   "source": [
    "Vamos a verificar los datos cargados visualizando los 10 primeros registros en cada TABLA"
   ]
  },
  {
   "cell_type": "code",
   "execution_count": 20,
   "metadata": {},
   "outputs": [
    {
     "data": {
      "text/html": [
       "<div>\n",
       "<style scoped>\n",
       "    .dataframe tbody tr th:only-of-type {\n",
       "        vertical-align: middle;\n",
       "    }\n",
       "\n",
       "    .dataframe tbody tr th {\n",
       "        vertical-align: top;\n",
       "    }\n",
       "\n",
       "    .dataframe thead th {\n",
       "        text-align: right;\n",
       "    }\n",
       "</style>\n",
       "<table border=\"1\" class=\"dataframe\">\n",
       "  <thead>\n",
       "    <tr style=\"text-align: right;\">\n",
       "      <th></th>\n",
       "      <th>ID</th>\n",
       "      <th>PRODUCT</th>\n",
       "      <th>SLOGAN</th>\n",
       "      <th>DESCRIPTION</th>\n",
       "      <th>CHARACTERISTICS</th>\n",
       "      <th>URL</th>\n",
       "    </tr>\n",
       "  </thead>\n",
       "  <tbody>\n",
       "    <tr>\n",
       "      <th>0</th>\n",
       "      <td>0</td>\n",
       "      <td>MASABOOM</td>\n",
       "      <td>El gran masajeador sexual</td>\n",
       "      <td>Este es el juguete para todas, todos y todes. ...</td>\n",
       "      <td>Masajeador con forma de micrófonoMaterial: sil...</td>\n",
       "      <td>https://www.amantis.net/masaboom-el-gran-masaj...</td>\n",
       "    </tr>\n",
       "    <tr>\n",
       "      <th>1</th>\n",
       "      <td>1</td>\n",
       "      <td>MASSAJI</td>\n",
       "      <td>Potente masajeador japonés sumergible de silicona</td>\n",
       "      <td>¿Quieres una velada perfecta tras un largo día...</td>\n",
       "      <td>Masajeador Japonés Massaji Material: Silicona ...</td>\n",
       "      <td>https://www.amantis.net/massaji-potente-masaje...</td>\n",
       "    </tr>\n",
       "    <tr>\n",
       "      <th>2</th>\n",
       "      <td>2</td>\n",
       "      <td>DIGIT PRO</td>\n",
       "      <td>dedal vibrador con sujeción</td>\n",
       "      <td>Los dedos siempre han sido grandes aliados de ...</td>\n",
       "      <td>Dedal vibradorMaterial: silicona de grado médi...</td>\n",
       "      <td>https://www.amantis.net/digit-pro-dedal-vibrad...</td>\n",
       "    </tr>\n",
       "    <tr>\n",
       "      <th>3</th>\n",
       "      <td>3</td>\n",
       "      <td>MINI CARNIVAL</td>\n",
       "      <td>mini_masajeador con cuatro cabezales</td>\n",
       "      <td>¿Conoces a MINI+? Puse hoy es tu día de suerte...</td>\n",
       "      <td>Mini masajeador con cuatro cabezalesCabezales ...</td>\n",
       "      <td>https://www.amantis.net/mini-carnival-mini-mas...</td>\n",
       "    </tr>\n",
       "    <tr>\n",
       "      <th>4</th>\n",
       "      <td>4</td>\n",
       "      <td>LINGÜS</td>\n",
       "      <td>Vibrador para Sexo Oral de amantis</td>\n",
       "      <td>Milenios de sabiduría en el arte del cunniling...</td>\n",
       "      <td>Material: silicona + abs10 modos de vibraciónT...</td>\n",
       "      <td>https://www.amantis.net/lingus-vibrador-sexo-o...</td>\n",
       "    </tr>\n",
       "    <tr>\n",
       "      <th>5</th>\n",
       "      <td>5</td>\n",
       "      <td>MASAJE SEXY con 8 programas</td>\n",
       "      <td>potente masaje mágico de 220v</td>\n",
       "      <td>Probablemente el masajeador más potente que pu...</td>\n",
       "      <td>• Incluye cable extra largo de 3.5 metros  ...</td>\n",
       "      <td>https://www.amantis.net/masaje-sexy-8-programa...</td>\n",
       "    </tr>\n",
       "    <tr>\n",
       "      <th>6</th>\n",
       "      <td>6</td>\n",
       "      <td>MINI+ de amantis</td>\n",
       "      <td>minimasajeador sumergible con 5 cabezales</td>\n",
       "      <td>Por fin el clásico mini masajeador que ha dado...</td>\n",
       "      <td>•  Longitud 10 cm, 2.5cm diámetro de contac...</td>\n",
       "      <td>https://www.amantis.net/mini-amantis-minimasaj...</td>\n",
       "    </tr>\n",
       "    <tr>\n",
       "      <th>7</th>\n",
       "      <td>7</td>\n",
       "      <td>MINI MASSAJI</td>\n",
       "      <td>masajeador corporal portátil super potente</td>\n",
       "      <td>Está clarísimo que el masaje por vibración apo...</td>\n",
       "      <td>Medidas: 11cm de largo y 4 cm de ancho.Materia...</td>\n",
       "      <td>https://www.amantis.net/mini-massaji-masajeado...</td>\n",
       "    </tr>\n",
       "    <tr>\n",
       "      <th>8</th>\n",
       "      <td>8</td>\n",
       "      <td>PURE WAND</td>\n",
       "      <td>Sofisticada varita vibradora de metal dorada</td>\n",
       "      <td>Antes muertas que sencillas, antes muertas que...</td>\n",
       "      <td>Varita  Metálica vibradora1,85 cm de diámetro,...</td>\n",
       "      <td>https://www.amantis.net/pure-wand-varita-vibra...</td>\n",
       "    </tr>\n",
       "    <tr>\n",
       "      <th>9</th>\n",
       "      <td>9</td>\n",
       "      <td>MAX WAND el masajeador sexual más grande y pod...</td>\n",
       "      <td>None</td>\n",
       "      <td>Que te duela algo ya no es excusa para no tene...</td>\n",
       "      <td>Masajeador de silicona médica y ABS libre de f...</td>\n",
       "      <td>https://www.amantis.net/max-wand-el-masajeador...</td>\n",
       "    </tr>\n",
       "  </tbody>\n",
       "</table>\n",
       "</div>"
      ],
      "text/plain": [
       "  ID                                            PRODUCT  \\\n",
       "0  0                                           MASABOOM   \n",
       "1  1                                            MASSAJI   \n",
       "2  2                                          DIGIT PRO   \n",
       "3  3                                      MINI CARNIVAL   \n",
       "4  4                                             LINGÜS   \n",
       "5  5                        MASAJE SEXY con 8 programas   \n",
       "6  6                                   MINI+ de amantis   \n",
       "7  7                                       MINI MASSAJI   \n",
       "8  8                                          PURE WAND   \n",
       "9  9  MAX WAND el masajeador sexual más grande y pod...   \n",
       "\n",
       "                                              SLOGAN  \\\n",
       "0                          El gran masajeador sexual   \n",
       "1  Potente masajeador japonés sumergible de silicona   \n",
       "2                        dedal vibrador con sujeción   \n",
       "3               mini_masajeador con cuatro cabezales   \n",
       "4                 Vibrador para Sexo Oral de amantis   \n",
       "5                      potente masaje mágico de 220v   \n",
       "6          minimasajeador sumergible con 5 cabezales   \n",
       "7         masajeador corporal portátil super potente   \n",
       "8       Sofisticada varita vibradora de metal dorada   \n",
       "9                                               None   \n",
       "\n",
       "                                         DESCRIPTION  \\\n",
       "0  Este es el juguete para todas, todos y todes. ...   \n",
       "1  ¿Quieres una velada perfecta tras un largo día...   \n",
       "2  Los dedos siempre han sido grandes aliados de ...   \n",
       "3  ¿Conoces a MINI+? Puse hoy es tu día de suerte...   \n",
       "4  Milenios de sabiduría en el arte del cunniling...   \n",
       "5  Probablemente el masajeador más potente que pu...   \n",
       "6  Por fin el clásico mini masajeador que ha dado...   \n",
       "7  Está clarísimo que el masaje por vibración apo...   \n",
       "8  Antes muertas que sencillas, antes muertas que...   \n",
       "9  Que te duela algo ya no es excusa para no tene...   \n",
       "\n",
       "                                     CHARACTERISTICS  \\\n",
       "0  Masajeador con forma de micrófonoMaterial: sil...   \n",
       "1  Masajeador Japonés Massaji Material: Silicona ...   \n",
       "2  Dedal vibradorMaterial: silicona de grado médi...   \n",
       "3  Mini masajeador con cuatro cabezalesCabezales ...   \n",
       "4  Material: silicona + abs10 modos de vibraciónT...   \n",
       "5     • Incluye cable extra largo de 3.5 metros  ...   \n",
       "6     •  Longitud 10 cm, 2.5cm diámetro de contac...   \n",
       "7  Medidas: 11cm de largo y 4 cm de ancho.Materia...   \n",
       "8  Varita  Metálica vibradora1,85 cm de diámetro,...   \n",
       "9  Masajeador de silicona médica y ABS libre de f...   \n",
       "\n",
       "                                                 URL  \n",
       "0  https://www.amantis.net/masaboom-el-gran-masaj...  \n",
       "1  https://www.amantis.net/massaji-potente-masaje...  \n",
       "2  https://www.amantis.net/digit-pro-dedal-vibrad...  \n",
       "3  https://www.amantis.net/mini-carnival-mini-mas...  \n",
       "4  https://www.amantis.net/lingus-vibrador-sexo-o...  \n",
       "5  https://www.amantis.net/masaje-sexy-8-programa...  \n",
       "6  https://www.amantis.net/mini-amantis-minimasaj...  \n",
       "7  https://www.amantis.net/mini-massaji-masajeado...  \n",
       "8  https://www.amantis.net/pure-wand-varita-vibra...  \n",
       "9  https://www.amantis.net/max-wand-el-masajeador...  "
      ]
     },
     "execution_count": 20,
     "metadata": {},
     "output_type": "execute_result"
    }
   ],
   "source": [
    "query='''SELECT * FROM PRODUCT LIMIT (10)'''\n",
    "f.sql_query(query,cursor)"
   ]
  },
  {
   "cell_type": "code",
   "execution_count": 49,
   "metadata": {},
   "outputs": [
    {
     "data": {
      "text/html": [
       "<div>\n",
       "<style scoped>\n",
       "    .dataframe tbody tr th:only-of-type {\n",
       "        vertical-align: middle;\n",
       "    }\n",
       "\n",
       "    .dataframe tbody tr th {\n",
       "        vertical-align: top;\n",
       "    }\n",
       "\n",
       "    .dataframe thead th {\n",
       "        text-align: right;\n",
       "    }\n",
       "</style>\n",
       "<table border=\"1\" class=\"dataframe\">\n",
       "  <thead>\n",
       "    <tr style=\"text-align: right;\">\n",
       "      <th></th>\n",
       "      <th>ID_COMMENT</th>\n",
       "      <th>ID_PRODUCT</th>\n",
       "      <th>DATE</th>\n",
       "      <th>RATIO</th>\n",
       "      <th>ID_USERS</th>\n",
       "      <th>COMMENT</th>\n",
       "    </tr>\n",
       "  </thead>\n",
       "  <tbody>\n",
       "    <tr>\n",
       "      <th>0</th>\n",
       "      <td>0</td>\n",
       "      <td>1</td>\n",
       "      <td>2023-01-25</td>\n",
       "      <td>5</td>\n",
       "      <td>0</td>\n",
       "      <td>Es un vibrador discreto y eficaz. Es uno de mi...</td>\n",
       "    </tr>\n",
       "    <tr>\n",
       "      <th>1</th>\n",
       "      <td>1</td>\n",
       "      <td>1</td>\n",
       "      <td>2023-01-09</td>\n",
       "      <td>5</td>\n",
       "      <td>1</td>\n",
       "      <td>el vibrador de cabecera de mi mujer. Después d...</td>\n",
       "    </tr>\n",
       "    <tr>\n",
       "      <th>2</th>\n",
       "      <td>2</td>\n",
       "      <td>1</td>\n",
       "      <td>2022-12-10</td>\n",
       "      <td>3</td>\n",
       "      <td>2</td>\n",
       "      <td>Tenía uno de otra tienda y compré este porque ...</td>\n",
       "    </tr>\n",
       "    <tr>\n",
       "      <th>3</th>\n",
       "      <td>3</td>\n",
       "      <td>1</td>\n",
       "      <td>2022-10-04</td>\n",
       "      <td>5</td>\n",
       "      <td>3</td>\n",
       "      <td>Es una buena compra. Muy agradable, con difere...</td>\n",
       "    </tr>\n",
       "    <tr>\n",
       "      <th>4</th>\n",
       "      <td>4</td>\n",
       "      <td>1</td>\n",
       "      <td>2022-07-07</td>\n",
       "      <td>5</td>\n",
       "      <td>4</td>\n",
       "      <td>Buen juguete más centrado en los precalentamie...</td>\n",
       "    </tr>\n",
       "    <tr>\n",
       "      <th>5</th>\n",
       "      <td>5</td>\n",
       "      <td>1</td>\n",
       "      <td>2022-06-24</td>\n",
       "      <td>5</td>\n",
       "      <td>5</td>\n",
       "      <td>Mi juguete de cabecera. Siempre a mano en mi m...</td>\n",
       "    </tr>\n",
       "    <tr>\n",
       "      <th>6</th>\n",
       "      <td>6</td>\n",
       "      <td>1</td>\n",
       "      <td>2022-05-05</td>\n",
       "      <td>5</td>\n",
       "      <td>6</td>\n",
       "      <td>Es genial! Llevaba tiempo con ganas de algo as...</td>\n",
       "    </tr>\n",
       "    <tr>\n",
       "      <th>7</th>\n",
       "      <td>7</td>\n",
       "      <td>1</td>\n",
       "      <td>2022-01-12</td>\n",
       "      <td>5</td>\n",
       "      <td>7</td>\n",
       "      <td>¡Una maravilla! Como estimulación externa pued...</td>\n",
       "    </tr>\n",
       "    <tr>\n",
       "      <th>8</th>\n",
       "      <td>8</td>\n",
       "      <td>1</td>\n",
       "      <td>2022-01-03</td>\n",
       "      <td>5</td>\n",
       "      <td>8</td>\n",
       "      <td>Conocí este juguete gracias a las recomendacio...</td>\n",
       "    </tr>\n",
       "    <tr>\n",
       "      <th>9</th>\n",
       "      <td>9</td>\n",
       "      <td>1</td>\n",
       "      <td>2021-08-25</td>\n",
       "      <td>5</td>\n",
       "      <td>9</td>\n",
       "      <td>Fabuloso. rnPotente pero no molesto.rnMás pequ...</td>\n",
       "    </tr>\n",
       "  </tbody>\n",
       "</table>\n",
       "</div>"
      ],
      "text/plain": [
       "  ID_COMMENT ID_PRODUCT        DATE  RATIO ID_USERS  \\\n",
       "0          0          1  2023-01-25      5        0   \n",
       "1          1          1  2023-01-09      5        1   \n",
       "2          2          1  2022-12-10      3        2   \n",
       "3          3          1  2022-10-04      5        3   \n",
       "4          4          1  2022-07-07      5        4   \n",
       "5          5          1  2022-06-24      5        5   \n",
       "6          6          1  2022-05-05      5        6   \n",
       "7          7          1  2022-01-12      5        7   \n",
       "8          8          1  2022-01-03      5        8   \n",
       "9          9          1  2021-08-25      5        9   \n",
       "\n",
       "                                             COMMENT  \n",
       "0  Es un vibrador discreto y eficaz. Es uno de mi...  \n",
       "1  el vibrador de cabecera de mi mujer. Después d...  \n",
       "2  Tenía uno de otra tienda y compré este porque ...  \n",
       "3  Es una buena compra. Muy agradable, con difere...  \n",
       "4  Buen juguete más centrado en los precalentamie...  \n",
       "5  Mi juguete de cabecera. Siempre a mano en mi m...  \n",
       "6  Es genial! Llevaba tiempo con ganas de algo as...  \n",
       "7  ¡Una maravilla! Como estimulación externa pued...  \n",
       "8  Conocí este juguete gracias a las recomendacio...  \n",
       "9  Fabuloso. rnPotente pero no molesto.rnMás pequ...  "
      ]
     },
     "execution_count": 49,
     "metadata": {},
     "output_type": "execute_result"
    }
   ],
   "source": [
    "query='''SELECT * FROM COMMENT LIMIT (10)'''\n",
    "f.sql_query(query,cursor)"
   ]
  },
  {
   "cell_type": "code",
   "execution_count": 23,
   "metadata": {},
   "outputs": [
    {
     "data": {
      "text/html": [
       "<div>\n",
       "<style scoped>\n",
       "    .dataframe tbody tr th:only-of-type {\n",
       "        vertical-align: middle;\n",
       "    }\n",
       "\n",
       "    .dataframe tbody tr th {\n",
       "        vertical-align: top;\n",
       "    }\n",
       "\n",
       "    .dataframe thead th {\n",
       "        text-align: right;\n",
       "    }\n",
       "</style>\n",
       "<table border=\"1\" class=\"dataframe\">\n",
       "  <thead>\n",
       "    <tr style=\"text-align: right;\">\n",
       "      <th></th>\n",
       "      <th>ID</th>\n",
       "      <th>JUGUETES</th>\n",
       "      <th>MUEBLES</th>\n",
       "      <th>LENCERIA</th>\n",
       "      <th>MASCULINO</th>\n",
       "      <th>FEMININO</th>\n",
       "      <th>ANAL</th>\n",
       "      <th>BDSM</th>\n",
       "      <th>AMENITIES</th>\n",
       "    </tr>\n",
       "  </thead>\n",
       "  <tbody>\n",
       "    <tr>\n",
       "      <th>0</th>\n",
       "      <td>0</td>\n",
       "      <td>1</td>\n",
       "      <td>0</td>\n",
       "      <td>0</td>\n",
       "      <td>1</td>\n",
       "      <td>0</td>\n",
       "      <td>0</td>\n",
       "      <td>0</td>\n",
       "      <td>0</td>\n",
       "    </tr>\n",
       "    <tr>\n",
       "      <th>1</th>\n",
       "      <td>1</td>\n",
       "      <td>1</td>\n",
       "      <td>1</td>\n",
       "      <td>0</td>\n",
       "      <td>0</td>\n",
       "      <td>0</td>\n",
       "      <td>1</td>\n",
       "      <td>0</td>\n",
       "      <td>0</td>\n",
       "    </tr>\n",
       "    <tr>\n",
       "      <th>2</th>\n",
       "      <td>2</td>\n",
       "      <td>0</td>\n",
       "      <td>0</td>\n",
       "      <td>1</td>\n",
       "      <td>1</td>\n",
       "      <td>0</td>\n",
       "      <td>1</td>\n",
       "      <td>0</td>\n",
       "      <td>0</td>\n",
       "    </tr>\n",
       "    <tr>\n",
       "      <th>3</th>\n",
       "      <td>3</td>\n",
       "      <td>1</td>\n",
       "      <td>1</td>\n",
       "      <td>0</td>\n",
       "      <td>0</td>\n",
       "      <td>0</td>\n",
       "      <td>0</td>\n",
       "      <td>0</td>\n",
       "      <td>0</td>\n",
       "    </tr>\n",
       "    <tr>\n",
       "      <th>4</th>\n",
       "      <td>4</td>\n",
       "      <td>0</td>\n",
       "      <td>0</td>\n",
       "      <td>0</td>\n",
       "      <td>0</td>\n",
       "      <td>0</td>\n",
       "      <td>1</td>\n",
       "      <td>0</td>\n",
       "      <td>0</td>\n",
       "    </tr>\n",
       "    <tr>\n",
       "      <th>5</th>\n",
       "      <td>5</td>\n",
       "      <td>0</td>\n",
       "      <td>0</td>\n",
       "      <td>0</td>\n",
       "      <td>0</td>\n",
       "      <td>0</td>\n",
       "      <td>1</td>\n",
       "      <td>0</td>\n",
       "      <td>0</td>\n",
       "    </tr>\n",
       "    <tr>\n",
       "      <th>6</th>\n",
       "      <td>6</td>\n",
       "      <td>0</td>\n",
       "      <td>0</td>\n",
       "      <td>0</td>\n",
       "      <td>1</td>\n",
       "      <td>0</td>\n",
       "      <td>1</td>\n",
       "      <td>0</td>\n",
       "      <td>0</td>\n",
       "    </tr>\n",
       "    <tr>\n",
       "      <th>7</th>\n",
       "      <td>7</td>\n",
       "      <td>1</td>\n",
       "      <td>1</td>\n",
       "      <td>1</td>\n",
       "      <td>1</td>\n",
       "      <td>0</td>\n",
       "      <td>1</td>\n",
       "      <td>0</td>\n",
       "      <td>0</td>\n",
       "    </tr>\n",
       "    <tr>\n",
       "      <th>8</th>\n",
       "      <td>8</td>\n",
       "      <td>0</td>\n",
       "      <td>0</td>\n",
       "      <td>1</td>\n",
       "      <td>0</td>\n",
       "      <td>0</td>\n",
       "      <td>0</td>\n",
       "      <td>0</td>\n",
       "      <td>0</td>\n",
       "    </tr>\n",
       "    <tr>\n",
       "      <th>9</th>\n",
       "      <td>9</td>\n",
       "      <td>0</td>\n",
       "      <td>1</td>\n",
       "      <td>0</td>\n",
       "      <td>0</td>\n",
       "      <td>0</td>\n",
       "      <td>0</td>\n",
       "      <td>0</td>\n",
       "      <td>0</td>\n",
       "    </tr>\n",
       "  </tbody>\n",
       "</table>\n",
       "</div>"
      ],
      "text/plain": [
       "  ID  JUGUETES  MUEBLES  LENCERIA  MASCULINO  FEMININO  ANAL  BDSM  AMENITIES\n",
       "0  0         1        0         0          1         0     0     0          0\n",
       "1  1         1        1         0          0         0     1     0          0\n",
       "2  2         0        0         1          1         0     1     0          0\n",
       "3  3         1        1         0          0         0     0     0          0\n",
       "4  4         0        0         0          0         0     1     0          0\n",
       "5  5         0        0         0          0         0     1     0          0\n",
       "6  6         0        0         0          1         0     1     0          0\n",
       "7  7         1        1         1          1         0     1     0          0\n",
       "8  8         0        0         1          0         0     0     0          0\n",
       "9  9         0        1         0          0         0     0     0          0"
      ]
     },
     "execution_count": 23,
     "metadata": {},
     "output_type": "execute_result"
    }
   ],
   "source": [
    "query='''SELECT * FROM TAGS LIMIT (10)'''\n",
    "f.sql_query(query,cursor)"
   ]
  },
  {
   "cell_type": "code",
   "execution_count": 50,
   "metadata": {},
   "outputs": [
    {
     "data": {
      "text/html": [
       "<div>\n",
       "<style scoped>\n",
       "    .dataframe tbody tr th:only-of-type {\n",
       "        vertical-align: middle;\n",
       "    }\n",
       "\n",
       "    .dataframe tbody tr th {\n",
       "        vertical-align: top;\n",
       "    }\n",
       "\n",
       "    .dataframe thead th {\n",
       "        text-align: right;\n",
       "    }\n",
       "</style>\n",
       "<table border=\"1\" class=\"dataframe\">\n",
       "  <thead>\n",
       "    <tr style=\"text-align: right;\">\n",
       "      <th></th>\n",
       "      <th>PRODUCT</th>\n",
       "      <th>DATE</th>\n",
       "      <th>RATIO</th>\n",
       "      <th>COMMENT</th>\n",
       "    </tr>\n",
       "  </thead>\n",
       "  <tbody>\n",
       "    <tr>\n",
       "      <th>0</th>\n",
       "      <td>MASSAJI</td>\n",
       "      <td>2023-01-25</td>\n",
       "      <td>5</td>\n",
       "      <td>Es un vibrador discreto y eficaz. Es uno de mi...</td>\n",
       "    </tr>\n",
       "    <tr>\n",
       "      <th>1</th>\n",
       "      <td>MASSAJI</td>\n",
       "      <td>2023-01-09</td>\n",
       "      <td>5</td>\n",
       "      <td>el vibrador de cabecera de mi mujer. Después d...</td>\n",
       "    </tr>\n",
       "    <tr>\n",
       "      <th>2</th>\n",
       "      <td>MASSAJI</td>\n",
       "      <td>2022-12-10</td>\n",
       "      <td>3</td>\n",
       "      <td>Tenía uno de otra tienda y compré este porque ...</td>\n",
       "    </tr>\n",
       "    <tr>\n",
       "      <th>3</th>\n",
       "      <td>MASSAJI</td>\n",
       "      <td>2022-10-04</td>\n",
       "      <td>5</td>\n",
       "      <td>Es una buena compra. Muy agradable, con difere...</td>\n",
       "    </tr>\n",
       "    <tr>\n",
       "      <th>4</th>\n",
       "      <td>MASSAJI</td>\n",
       "      <td>2022-07-07</td>\n",
       "      <td>5</td>\n",
       "      <td>Buen juguete más centrado en los precalentamie...</td>\n",
       "    </tr>\n",
       "    <tr>\n",
       "      <th>5</th>\n",
       "      <td>MASSAJI</td>\n",
       "      <td>2022-06-24</td>\n",
       "      <td>5</td>\n",
       "      <td>Mi juguete de cabecera. Siempre a mano en mi m...</td>\n",
       "    </tr>\n",
       "    <tr>\n",
       "      <th>6</th>\n",
       "      <td>MASSAJI</td>\n",
       "      <td>2022-05-05</td>\n",
       "      <td>5</td>\n",
       "      <td>Es genial! Llevaba tiempo con ganas de algo as...</td>\n",
       "    </tr>\n",
       "    <tr>\n",
       "      <th>7</th>\n",
       "      <td>MASSAJI</td>\n",
       "      <td>2022-01-12</td>\n",
       "      <td>5</td>\n",
       "      <td>¡Una maravilla! Como estimulación externa pued...</td>\n",
       "    </tr>\n",
       "    <tr>\n",
       "      <th>8</th>\n",
       "      <td>MASSAJI</td>\n",
       "      <td>2022-01-03</td>\n",
       "      <td>5</td>\n",
       "      <td>Conocí este juguete gracias a las recomendacio...</td>\n",
       "    </tr>\n",
       "    <tr>\n",
       "      <th>9</th>\n",
       "      <td>MASSAJI</td>\n",
       "      <td>2021-08-25</td>\n",
       "      <td>5</td>\n",
       "      <td>Fabuloso. rnPotente pero no molesto.rnMás pequ...</td>\n",
       "    </tr>\n",
       "  </tbody>\n",
       "</table>\n",
       "</div>"
      ],
      "text/plain": [
       "   PRODUCT        DATE  RATIO  \\\n",
       "0  MASSAJI  2023-01-25      5   \n",
       "1  MASSAJI  2023-01-09      5   \n",
       "2  MASSAJI  2022-12-10      3   \n",
       "3  MASSAJI  2022-10-04      5   \n",
       "4  MASSAJI  2022-07-07      5   \n",
       "5  MASSAJI  2022-06-24      5   \n",
       "6  MASSAJI  2022-05-05      5   \n",
       "7  MASSAJI  2022-01-12      5   \n",
       "8  MASSAJI  2022-01-03      5   \n",
       "9  MASSAJI  2021-08-25      5   \n",
       "\n",
       "                                             COMMENT  \n",
       "0  Es un vibrador discreto y eficaz. Es uno de mi...  \n",
       "1  el vibrador de cabecera de mi mujer. Después d...  \n",
       "2  Tenía uno de otra tienda y compré este porque ...  \n",
       "3  Es una buena compra. Muy agradable, con difere...  \n",
       "4  Buen juguete más centrado en los precalentamie...  \n",
       "5  Mi juguete de cabecera. Siempre a mano en mi m...  \n",
       "6  Es genial! Llevaba tiempo con ganas de algo as...  \n",
       "7  ¡Una maravilla! Como estimulación externa pued...  \n",
       "8  Conocí este juguete gracias a las recomendacio...  \n",
       "9  Fabuloso. rnPotente pero no molesto.rnMás pequ...  "
      ]
     },
     "execution_count": 50,
     "metadata": {},
     "output_type": "execute_result"
    }
   ],
   "source": [
    "query='''SELECT * FROM COMMENTS_PER_PRODUCT LIMIT (10)'''\n",
    "f.sql_query(query,cursor)"
   ]
  },
  {
   "attachments": {},
   "cell_type": "markdown",
   "metadata": {},
   "source": [
    "### Vamos a evaluar los productos en función del descuento que se aplica:"
   ]
  },
  {
   "attachments": {},
   "cell_type": "markdown",
   "metadata": {},
   "source": [
    "#### Estudio sobre los descuentos que se aplican."
   ]
  },
  {
   "cell_type": "code",
   "execution_count": null,
   "metadata": {},
   "outputs": [],
   "source": []
  },
  {
   "attachments": {},
   "cell_type": "markdown",
   "metadata": {},
   "source": [
    "#### Estudio sobre las fechas de los comentarios que se realizan."
   ]
  },
  {
   "attachments": {},
   "cell_type": "markdown",
   "metadata": {},
   "source": [
    "Definimos qué queries son para cada uno de los posibles componentes que componen la fecha.\n",
    "\n",
    "Las queries extraen los datos en forma de texto por lo que hay que cambiar el formato a *int* y en el caso de los días de la semana hay que realizar además un mapeo para asignar el día de la semana que corresponde teniendo en cuenta que los días de la semanas están definidos en formato inglés por lo que 0 corresponde a domingo."
   ]
  },
  {
   "cell_type": "code",
   "execution_count": 52,
   "metadata": {},
   "outputs": [
    {
     "ename": "OperationalError",
     "evalue": "no such column: USERS",
     "output_type": "error",
     "traceback": [
      "\u001b[1;31m---------------------------------------------------------------------------\u001b[0m",
      "\u001b[1;31mOperationalError\u001b[0m                          Traceback (most recent call last)",
      "\u001b[1;32md:\\Data_science\\Javier\\Repositorios\\Proyecto_tienda_online\\src\\Notebook\\03_sql.ipynb Cell 53\u001b[0m line \u001b[0;36m9\n\u001b[0;32m      <a href='vscode-notebook-cell:/d%3A/Data_science/Javier/Repositorios/Proyecto_tienda_online/src/Notebook/03_sql.ipynb#Y100sZmlsZQ%3D%3D?line=0'>1</a>\u001b[0m \u001b[39m# query='''select USERS, date(DATE) as FECHA from COMMENT WHERE DATE LIKE '2023%' ORDER BY DATE ASC LIMIT (10)'''\u001b[39;00m\n\u001b[0;32m      <a href='vscode-notebook-cell:/d%3A/Data_science/Javier/Repositorios/Proyecto_tienda_online/src/Notebook/03_sql.ipynb#Y100sZmlsZQ%3D%3D?line=1'>2</a>\u001b[0m \u001b[39m# query='''select USERS, date(DATE) as FECHA from COMMENT WHERE DATE BETWEEN '%-01-%' AND '%-02-%' ORDER BY DATE ASC LIMIT (10)'''\u001b[39;00m\n\u001b[0;32m      <a href='vscode-notebook-cell:/d%3A/Data_science/Javier/Repositorios/Proyecto_tienda_online/src/Notebook/03_sql.ipynb#Y100sZmlsZQ%3D%3D?line=2'>3</a>\u001b[0m \u001b[39m# query='''select USERS, strftime ('%Y',DATE) as YEAR from COMMENT ORDER BY DATE ASC LIMIT (10)'''              # Extraer ano\u001b[39;00m\n\u001b[1;32m   (...)\u001b[0m\n\u001b[0;32m      <a href='vscode-notebook-cell:/d%3A/Data_science/Javier/Repositorios/Proyecto_tienda_online/src/Notebook/03_sql.ipynb#Y100sZmlsZQ%3D%3D?line=5'>6</a>\u001b[0m \u001b[39m# query='''select USERS, strftime ('%w',DATE) as DAY_WEEK from COMMENT ORDER BY DATE ASC LIMIT (10)'''          # Extraer dia_semana, donde 0 es domingo\u001b[39;00m\n\u001b[0;32m      <a href='vscode-notebook-cell:/d%3A/Data_science/Javier/Repositorios/Proyecto_tienda_online/src/Notebook/03_sql.ipynb#Y100sZmlsZQ%3D%3D?line=6'>7</a>\u001b[0m \u001b[39m# query='''select USERS, DATE from COMMENT ORDER BY DATE ASC LIMIT (10)'''                                      # Extraer dia_semana, agregando 1 valor para que sea de 1 a 7\u001b[39;00m\n\u001b[1;32m----> <a href='vscode-notebook-cell:/d%3A/Data_science/Javier/Repositorios/Proyecto_tienda_online/src/Notebook/03_sql.ipynb#Y100sZmlsZQ%3D%3D?line=8'>9</a>\u001b[0m variable\u001b[39m=\u001b[39mf\u001b[39m.\u001b[39msql_query(query,cursor)\n\u001b[0;32m     <a href='vscode-notebook-cell:/d%3A/Data_science/Javier/Repositorios/Proyecto_tienda_online/src/Notebook/03_sql.ipynb#Y100sZmlsZQ%3D%3D?line=9'>10</a>\u001b[0m variable\u001b[39m.\u001b[39miloc[:,\u001b[39m1\u001b[39m]\u001b[39m=\u001b[39mvariable\u001b[39m.\u001b[39miloc[:,\u001b[39m1\u001b[39m]\u001b[39m.\u001b[39mastype(\u001b[39mint\u001b[39m)\n\u001b[0;32m     <a href='vscode-notebook-cell:/d%3A/Data_science/Javier/Repositorios/Proyecto_tienda_online/src/Notebook/03_sql.ipynb#Y100sZmlsZQ%3D%3D?line=10'>11</a>\u001b[0m variable\u001b[39m.\u001b[39minfo()\n",
      "File \u001b[1;32md:\\Data_science\\Javier\\Repositorios\\Proyecto_tienda_online\\src\\Utils\\functions.py:19\u001b[0m, in \u001b[0;36msql_query\u001b[1;34m(query, cursor)\u001b[0m\n\u001b[0;32m     14\u001b[0m \u001b[39m''''\u001b[39;00m\n\u001b[0;32m     15\u001b[0m \u001b[39mGeneración de dataframe a partir de una base de datos\u001b[39;00m\n\u001b[0;32m     16\u001b[0m \u001b[39m'''\u001b[39;00m\n\u001b[0;32m     18\u001b[0m \u001b[39m# Ejecuta la query\u001b[39;00m\n\u001b[1;32m---> 19\u001b[0m cursor\u001b[39m.\u001b[39;49mexecute(query)\n\u001b[0;32m     21\u001b[0m \u001b[39m# Almacena los datos de la query \u001b[39;00m\n\u001b[0;32m     22\u001b[0m ans \u001b[39m=\u001b[39m cursor\u001b[39m.\u001b[39mfetchall()\n",
      "\u001b[1;31mOperationalError\u001b[0m: no such column: USERS"
     ]
    }
   ],
   "source": [
    "# query='''select USERS, date(DATE) as FECHA from COMMENT WHERE DATE LIKE '2023%' ORDER BY DATE ASC LIMIT (10)'''\n",
    "# query='''select USERS, date(DATE) as FECHA from COMMENT WHERE DATE BETWEEN '%-01-%' AND '%-02-%' ORDER BY DATE ASC LIMIT (10)'''\n",
    "# query='''select USERS, strftime ('%Y',DATE) as YEAR from COMMENT ORDER BY DATE ASC LIMIT (10)'''              # Extraer ano\n",
    "# query='''select USERS, strftime ('%m',DATE) as MONTH from COMMENT ORDER BY DATE ASC LIMIT (10)'''             # Extraer mes\n",
    "# query='''select USERS, strftime ('%d',DATE) as DAY from COMMENT ORDER BY DATE ASC LIMIT (10)'''               # Extraer dia\n",
    "# query='''select USERS, strftime ('%w',DATE) as DAY_WEEK from COMMENT ORDER BY DATE ASC LIMIT (10)'''          # Extraer dia_semana, donde 0 es domingo\n",
    "# query='''select USERS, DATE from COMMENT ORDER BY DATE ASC LIMIT (10)'''                                      # Extraer dia_semana, agregando 1 valor para que sea de 1 a 7\n",
    "\n",
    "variable=f.sql_query(query,cursor)\n",
    "variable.iloc[:,1]=variable.iloc[:,1].astype(int)\n",
    "variable.info()\n",
    "         \n"
   ]
  },
  {
   "attachments": {},
   "cell_type": "markdown",
   "metadata": {},
   "source": [
    "En el caso que la query extraiga el día de la semana."
   ]
  },
  {
   "cell_type": "code",
   "execution_count": 33,
   "metadata": {},
   "outputs": [
    {
     "data": {
      "text/html": [
       "<div>\n",
       "<style scoped>\n",
       "    .dataframe tbody tr th:only-of-type {\n",
       "        vertical-align: middle;\n",
       "    }\n",
       "\n",
       "    .dataframe tbody tr th {\n",
       "        vertical-align: top;\n",
       "    }\n",
       "\n",
       "    .dataframe thead th {\n",
       "        text-align: right;\n",
       "    }\n",
       "</style>\n",
       "<table border=\"1\" class=\"dataframe\">\n",
       "  <thead>\n",
       "    <tr style=\"text-align: right;\">\n",
       "      <th></th>\n",
       "      <th>PRODUCT</th>\n",
       "      <th>DATE</th>\n",
       "      <th>RATIO</th>\n",
       "      <th>COMMENT</th>\n",
       "    </tr>\n",
       "  </thead>\n",
       "  <tbody>\n",
       "    <tr>\n",
       "      <th>0</th>\n",
       "      <td>MASSAJI</td>\n",
       "      <td>viernes</td>\n",
       "      <td>0</td>\n",
       "      <td>Es un vibrador discreto y eficaz. Es uno de mi...</td>\n",
       "    </tr>\n",
       "    <tr>\n",
       "      <th>1</th>\n",
       "      <td>MASSAJI</td>\n",
       "      <td>viernes</td>\n",
       "      <td>1</td>\n",
       "      <td>el vibrador de cabecera de mi mujer. Después d...</td>\n",
       "    </tr>\n",
       "    <tr>\n",
       "      <th>2</th>\n",
       "      <td>MASSAJI</td>\n",
       "      <td>miercoles</td>\n",
       "      <td>2</td>\n",
       "      <td>Tenía uno de otra tienda y compré este porque ...</td>\n",
       "    </tr>\n",
       "    <tr>\n",
       "      <th>3</th>\n",
       "      <td>MASSAJI</td>\n",
       "      <td>viernes</td>\n",
       "      <td>3</td>\n",
       "      <td>Es una buena compra. Muy agradable, con difere...</td>\n",
       "    </tr>\n",
       "    <tr>\n",
       "      <th>4</th>\n",
       "      <td>MASSAJI</td>\n",
       "      <td>viernes</td>\n",
       "      <td>4</td>\n",
       "      <td>Buen juguete más centrado en los precalentamie...</td>\n",
       "    </tr>\n",
       "    <tr>\n",
       "      <th>5</th>\n",
       "      <td>MASSAJI</td>\n",
       "      <td>viernes</td>\n",
       "      <td>5</td>\n",
       "      <td>Mi juguete de cabecera. Siempre a mano en mi m...</td>\n",
       "    </tr>\n",
       "    <tr>\n",
       "      <th>6</th>\n",
       "      <td>MASSAJI</td>\n",
       "      <td>viernes</td>\n",
       "      <td>6</td>\n",
       "      <td>Es genial! Llevaba tiempo con ganas de algo as...</td>\n",
       "    </tr>\n",
       "    <tr>\n",
       "      <th>7</th>\n",
       "      <td>MASSAJI</td>\n",
       "      <td>viernes</td>\n",
       "      <td>7</td>\n",
       "      <td>¡Una maravilla! Como estimulación externa pued...</td>\n",
       "    </tr>\n",
       "    <tr>\n",
       "      <th>8</th>\n",
       "      <td>MASSAJI</td>\n",
       "      <td>viernes</td>\n",
       "      <td>8</td>\n",
       "      <td>Conocí este juguete gracias a las recomendacio...</td>\n",
       "    </tr>\n",
       "    <tr>\n",
       "      <th>9</th>\n",
       "      <td>MASSAJI</td>\n",
       "      <td>viernes</td>\n",
       "      <td>9</td>\n",
       "      <td>Fabuloso. rnPotente pero no molesto.rnMás pequ...</td>\n",
       "    </tr>\n",
       "  </tbody>\n",
       "</table>\n",
       "</div>"
      ],
      "text/plain": [
       "   PRODUCT       DATE  RATIO  \\\n",
       "0  MASSAJI    viernes      0   \n",
       "1  MASSAJI    viernes      1   \n",
       "2  MASSAJI  miercoles      2   \n",
       "3  MASSAJI    viernes      3   \n",
       "4  MASSAJI    viernes      4   \n",
       "5  MASSAJI    viernes      5   \n",
       "6  MASSAJI    viernes      6   \n",
       "7  MASSAJI    viernes      7   \n",
       "8  MASSAJI    viernes      8   \n",
       "9  MASSAJI    viernes      9   \n",
       "\n",
       "                                             COMMENT  \n",
       "0  Es un vibrador discreto y eficaz. Es uno de mi...  \n",
       "1  el vibrador de cabecera de mi mujer. Después d...  \n",
       "2  Tenía uno de otra tienda y compré este porque ...  \n",
       "3  Es una buena compra. Muy agradable, con difere...  \n",
       "4  Buen juguete más centrado en los precalentamie...  \n",
       "5  Mi juguete de cabecera. Siempre a mano en mi m...  \n",
       "6  Es genial! Llevaba tiempo con ganas de algo as...  \n",
       "7  ¡Una maravilla! Como estimulación externa pued...  \n",
       "8  Conocí este juguete gracias a las recomendacio...  \n",
       "9  Fabuloso. rnPotente pero no molesto.rnMás pequ...  "
      ]
     },
     "execution_count": 33,
     "metadata": {},
     "output_type": "execute_result"
    }
   ],
   "source": [
    "dicc_dia={0:\"domingo\",1:\"lunes\",2:\"martes\",3:\"miercoles\",4:\"jueves\",5:\"viernes\",6:\"sabado\"}\n",
    "variable['DATE']=variable['DATE'].map(dicc_dia)\n",
    "variable"
   ]
  },
  {
   "cell_type": "code",
   "execution_count": 53,
   "metadata": {},
   "outputs": [
    {
     "name": "stderr",
     "output_type": "stream",
     "text": [
      "C:\\Users\\Javier\\AppData\\Local\\Temp\\ipykernel_15400\\1043526812.py:3: FutureWarning: In a future version, `df.iloc[:, i] = newvals` will attempt to set the values inplace instead of always setting a new array. To retain the old behavior, use either `df[df.columns[i]] = newvals` or, if columns are non-unique, `df.isetitem(i, newvals)`\n",
      "  total.iloc[:,1]=total.iloc[:,1].astype(int)\n"
     ]
    },
    {
     "data": {
      "text/html": [
       "<div>\n",
       "<style scoped>\n",
       "    .dataframe tbody tr th:only-of-type {\n",
       "        vertical-align: middle;\n",
       "    }\n",
       "\n",
       "    .dataframe tbody tr th {\n",
       "        vertical-align: top;\n",
       "    }\n",
       "\n",
       "    .dataframe thead th {\n",
       "        text-align: right;\n",
       "    }\n",
       "</style>\n",
       "<table border=\"1\" class=\"dataframe\">\n",
       "  <thead>\n",
       "    <tr style=\"text-align: right;\">\n",
       "      <th></th>\n",
       "      <th>COMENTARIOS</th>\n",
       "      <th>YEAR</th>\n",
       "    </tr>\n",
       "  </thead>\n",
       "  <tbody>\n",
       "    <tr>\n",
       "      <th>0</th>\n",
       "      <td>1</td>\n",
       "      <td>2005</td>\n",
       "    </tr>\n",
       "    <tr>\n",
       "      <th>1</th>\n",
       "      <td>3</td>\n",
       "      <td>2007</td>\n",
       "    </tr>\n",
       "    <tr>\n",
       "      <th>2</th>\n",
       "      <td>88</td>\n",
       "      <td>2008</td>\n",
       "    </tr>\n",
       "    <tr>\n",
       "      <th>3</th>\n",
       "      <td>129</td>\n",
       "      <td>2009</td>\n",
       "    </tr>\n",
       "    <tr>\n",
       "      <th>4</th>\n",
       "      <td>168</td>\n",
       "      <td>2010</td>\n",
       "    </tr>\n",
       "    <tr>\n",
       "      <th>5</th>\n",
       "      <td>166</td>\n",
       "      <td>2011</td>\n",
       "    </tr>\n",
       "    <tr>\n",
       "      <th>6</th>\n",
       "      <td>264</td>\n",
       "      <td>2012</td>\n",
       "    </tr>\n",
       "    <tr>\n",
       "      <th>7</th>\n",
       "      <td>668</td>\n",
       "      <td>2013</td>\n",
       "    </tr>\n",
       "    <tr>\n",
       "      <th>8</th>\n",
       "      <td>921</td>\n",
       "      <td>2014</td>\n",
       "    </tr>\n",
       "    <tr>\n",
       "      <th>9</th>\n",
       "      <td>1091</td>\n",
       "      <td>2015</td>\n",
       "    </tr>\n",
       "    <tr>\n",
       "      <th>10</th>\n",
       "      <td>935</td>\n",
       "      <td>2016</td>\n",
       "    </tr>\n",
       "    <tr>\n",
       "      <th>11</th>\n",
       "      <td>893</td>\n",
       "      <td>2017</td>\n",
       "    </tr>\n",
       "    <tr>\n",
       "      <th>12</th>\n",
       "      <td>848</td>\n",
       "      <td>2018</td>\n",
       "    </tr>\n",
       "    <tr>\n",
       "      <th>13</th>\n",
       "      <td>917</td>\n",
       "      <td>2019</td>\n",
       "    </tr>\n",
       "    <tr>\n",
       "      <th>14</th>\n",
       "      <td>1326</td>\n",
       "      <td>2020</td>\n",
       "    </tr>\n",
       "    <tr>\n",
       "      <th>15</th>\n",
       "      <td>928</td>\n",
       "      <td>2021</td>\n",
       "    </tr>\n",
       "    <tr>\n",
       "      <th>16</th>\n",
       "      <td>871</td>\n",
       "      <td>2022</td>\n",
       "    </tr>\n",
       "    <tr>\n",
       "      <th>17</th>\n",
       "      <td>262</td>\n",
       "      <td>2023</td>\n",
       "    </tr>\n",
       "  </tbody>\n",
       "</table>\n",
       "</div>"
      ],
      "text/plain": [
       "    COMENTARIOS  YEAR\n",
       "0             1  2005\n",
       "1             3  2007\n",
       "2            88  2008\n",
       "3           129  2009\n",
       "4           168  2010\n",
       "5           166  2011\n",
       "6           264  2012\n",
       "7           668  2013\n",
       "8           921  2014\n",
       "9          1091  2015\n",
       "10          935  2016\n",
       "11          893  2017\n",
       "12          848  2018\n",
       "13          917  2019\n",
       "14         1326  2020\n",
       "15          928  2021\n",
       "16          871  2022\n",
       "17          262  2023"
      ]
     },
     "execution_count": 53,
     "metadata": {},
     "output_type": "execute_result"
    }
   ],
   "source": [
    "query='''select count (COMMENT) AS COMENTARIOS, strftime ('%Y',DATE) as YEAR from COMMENT GROUP BY YEAR ORDER BY DATE ASC'''\n",
    "total=f.sql_query(query,cursor)\n",
    "total.iloc[:,1]=total.iloc[:,1].astype(int)\n",
    "total"
   ]
  },
  {
   "attachments": {},
   "cell_type": "markdown",
   "metadata": {},
   "source": [
    "Podemos observar que en el año 2006 no había datos, esto es muy probable porque la tienda empezaría a funcionar en el 2005 y de ahí que los primeros años, los comentarios no existieran o fueran muy pocos."
   ]
  },
  {
   "cell_type": "code",
   "execution_count": 54,
   "metadata": {},
   "outputs": [
    {
     "data": {
      "text/html": [
       "<div>\n",
       "<style scoped>\n",
       "    .dataframe tbody tr th:only-of-type {\n",
       "        vertical-align: middle;\n",
       "    }\n",
       "\n",
       "    .dataframe tbody tr th {\n",
       "        vertical-align: top;\n",
       "    }\n",
       "\n",
       "    .dataframe thead th {\n",
       "        text-align: right;\n",
       "    }\n",
       "</style>\n",
       "<table border=\"1\" class=\"dataframe\">\n",
       "  <thead>\n",
       "    <tr style=\"text-align: right;\">\n",
       "      <th></th>\n",
       "      <th>COMENTARIOS</th>\n",
       "      <th>YEAR</th>\n",
       "    </tr>\n",
       "  </thead>\n",
       "  <tbody>\n",
       "    <tr>\n",
       "      <th>0</th>\n",
       "      <td>1</td>\n",
       "      <td>2005</td>\n",
       "    </tr>\n",
       "    <tr>\n",
       "      <th>1</th>\n",
       "      <td>3</td>\n",
       "      <td>2007</td>\n",
       "    </tr>\n",
       "    <tr>\n",
       "      <th>2</th>\n",
       "      <td>88</td>\n",
       "      <td>2008</td>\n",
       "    </tr>\n",
       "    <tr>\n",
       "      <th>3</th>\n",
       "      <td>129</td>\n",
       "      <td>2009</td>\n",
       "    </tr>\n",
       "    <tr>\n",
       "      <th>4</th>\n",
       "      <td>168</td>\n",
       "      <td>2010</td>\n",
       "    </tr>\n",
       "    <tr>\n",
       "      <th>5</th>\n",
       "      <td>166</td>\n",
       "      <td>2011</td>\n",
       "    </tr>\n",
       "    <tr>\n",
       "      <th>6</th>\n",
       "      <td>264</td>\n",
       "      <td>2012</td>\n",
       "    </tr>\n",
       "    <tr>\n",
       "      <th>7</th>\n",
       "      <td>668</td>\n",
       "      <td>2013</td>\n",
       "    </tr>\n",
       "    <tr>\n",
       "      <th>8</th>\n",
       "      <td>921</td>\n",
       "      <td>2014</td>\n",
       "    </tr>\n",
       "    <tr>\n",
       "      <th>9</th>\n",
       "      <td>1091</td>\n",
       "      <td>2015</td>\n",
       "    </tr>\n",
       "    <tr>\n",
       "      <th>10</th>\n",
       "      <td>935</td>\n",
       "      <td>2016</td>\n",
       "    </tr>\n",
       "    <tr>\n",
       "      <th>11</th>\n",
       "      <td>893</td>\n",
       "      <td>2017</td>\n",
       "    </tr>\n",
       "    <tr>\n",
       "      <th>12</th>\n",
       "      <td>848</td>\n",
       "      <td>2018</td>\n",
       "    </tr>\n",
       "    <tr>\n",
       "      <th>13</th>\n",
       "      <td>917</td>\n",
       "      <td>2019</td>\n",
       "    </tr>\n",
       "    <tr>\n",
       "      <th>14</th>\n",
       "      <td>1326</td>\n",
       "      <td>2020</td>\n",
       "    </tr>\n",
       "    <tr>\n",
       "      <th>15</th>\n",
       "      <td>928</td>\n",
       "      <td>2021</td>\n",
       "    </tr>\n",
       "    <tr>\n",
       "      <th>16</th>\n",
       "      <td>871</td>\n",
       "      <td>2022</td>\n",
       "    </tr>\n",
       "    <tr>\n",
       "      <th>17</th>\n",
       "      <td>262</td>\n",
       "      <td>2023</td>\n",
       "    </tr>\n",
       "    <tr>\n",
       "      <th>18</th>\n",
       "      <td>0</td>\n",
       "      <td>2006</td>\n",
       "    </tr>\n",
       "  </tbody>\n",
       "</table>\n",
       "</div>"
      ],
      "text/plain": [
       "    COMENTARIOS  YEAR\n",
       "0             1  2005\n",
       "1             3  2007\n",
       "2            88  2008\n",
       "3           129  2009\n",
       "4           168  2010\n",
       "5           166  2011\n",
       "6           264  2012\n",
       "7           668  2013\n",
       "8           921  2014\n",
       "9          1091  2015\n",
       "10          935  2016\n",
       "11          893  2017\n",
       "12          848  2018\n",
       "13          917  2019\n",
       "14         1326  2020\n",
       "15          928  2021\n",
       "16          871  2022\n",
       "17          262  2023\n",
       "18            0  2006"
      ]
     },
     "execution_count": 54,
     "metadata": {},
     "output_type": "execute_result"
    }
   ],
   "source": [
    "total.loc[len(total)] = [0,2006]\n",
    "total\n"
   ]
  },
  {
   "cell_type": "code",
   "execution_count": 55,
   "metadata": {},
   "outputs": [
    {
     "name": "stderr",
     "output_type": "stream",
     "text": [
      "C:\\Users\\Javier\\AppData\\Local\\Temp\\ipykernel_15400\\1689354806.py:4: FutureWarning: In a future version, `df.iloc[:, i] = newvals` will attempt to set the values inplace instead of always setting a new array. To retain the old behavior, use either `df[df.columns[i]] = newvals` or, if columns are non-unique, `df.isetitem(i, newvals)`\n",
      "  total.iloc[:,1]=total.iloc[:,1].astype(int)\n"
     ]
    },
    {
     "data": {
      "image/png": "[encoded data removed]",
      "text/plain": [
       "<Figure size 1000x500 with 1 Axes>"
      ]
     },
     "metadata": {},
     "output_type": "display_data"
    }
   ],
   "source": [
    "plt.figure(figsize=(10,5))\n",
    "query='''select count (COMMENT) AS COMENTARIOS, strftime ('%Y',DATE) as YEAR from COMMENT GROUP BY YEAR'''\n",
    "total=f.sql_query(query,cursor)\n",
    "total.iloc[:,1]=total.iloc[:,1].astype(int)\n",
    "plt.hlines(total['YEAR'],xmin=0,\n",
    "           xmax=total['COMENTARIOS'],)\n",
    "plt.yticks(total['YEAR'])\n",
    "plt.xlabel(\"Nº COMENTARIOS\")\n",
    "plt.ylabel(\"AÑOS\")\n",
    "plt.title(\"COMENTARIOS POR AÑO\")\n",
    "\n",
    "file=str('\\Resources\\image\\Comments_per_year')\n",
    "folder+file\n",
    "plt.savefig(folder+file);"
   ]
  },
  {
   "cell_type": "code",
   "execution_count": 56,
   "metadata": {},
   "outputs": [
    {
     "name": "stderr",
     "output_type": "stream",
     "text": [
      "C:\\Users\\Javier\\AppData\\Local\\Temp\\ipykernel_15400\\1031432165.py:5: FutureWarning: In a future version, `df.iloc[:, i] = newvals` will attempt to set the values inplace instead of always setting a new array. To retain the old behavior, use either `df[df.columns[i]] = newvals` or, if columns are non-unique, `df.isetitem(i, newvals)`\n",
      "  total.iloc[:,1]=total.iloc[:,1].astype(int)\n"
     ]
    },
    {
     "data": {
      "image/png": "[encoded data removed]",
      "text/plain": [
       "<Figure size 1000x500 with 1 Axes>"
      ]
     },
     "metadata": {},
     "output_type": "display_data"
    }
   ],
   "source": [
    "plt.figure(figsize=(10,5))\n",
    "query='''select count (COMMENT) AS COMENTARIOS, strftime ('%Y',DATE) as YEAR from COMMENT GROUP BY YEAR'''\n",
    "total=f.sql_query(query,cursor)\n",
    "total.loc[len(total)] = [0,2006]\n",
    "total.iloc[:,1]=total.iloc[:,1].astype(int)\n",
    "sns.barplot(x=total['YEAR'],y=total['COMENTARIOS'],color=\"steelblue\")\n",
    "plt.ylabel(\"Nº COMENTARIOS\")\n",
    "plt.xlabel(\"AÑOS\")\n",
    "plt.title(\"COMENTARIOS POR AÑO\")\n",
    "file=str('\\Resources\\image\\Comments_per_year_2')\n",
    "folder+file\n",
    "plt.savefig(folder+file);"
   ]
  },
  {
   "cell_type": "code",
   "execution_count": 57,
   "metadata": {},
   "outputs": [
    {
     "name": "stderr",
     "output_type": "stream",
     "text": [
      "C:\\Users\\Javier\\AppData\\Local\\Temp\\ipykernel_15400\\388559175.py:3: FutureWarning: In a future version, `df.iloc[:, i] = newvals` will attempt to set the values inplace instead of always setting a new array. To retain the old behavior, use either `df[df.columns[i]] = newvals` or, if columns are non-unique, `df.isetitem(i, newvals)`\n",
      "  total.iloc[:,1]=total.iloc[:,1].astype(int)\n"
     ]
    },
    {
     "data": {
      "text/html": [
       "<div>\n",
       "<style scoped>\n",
       "    .dataframe tbody tr th:only-of-type {\n",
       "        vertical-align: middle;\n",
       "    }\n",
       "\n",
       "    .dataframe tbody tr th {\n",
       "        vertical-align: top;\n",
       "    }\n",
       "\n",
       "    .dataframe thead th {\n",
       "        text-align: right;\n",
       "    }\n",
       "</style>\n",
       "<table border=\"1\" class=\"dataframe\">\n",
       "  <thead>\n",
       "    <tr style=\"text-align: right;\">\n",
       "      <th></th>\n",
       "      <th>COMENTARIOS</th>\n",
       "      <th>MONTH</th>\n",
       "    </tr>\n",
       "  </thead>\n",
       "  <tbody>\n",
       "    <tr>\n",
       "      <th>0</th>\n",
       "      <td>1035</td>\n",
       "      <td>1</td>\n",
       "    </tr>\n",
       "    <tr>\n",
       "      <th>1</th>\n",
       "      <td>922</td>\n",
       "      <td>2</td>\n",
       "    </tr>\n",
       "    <tr>\n",
       "      <th>2</th>\n",
       "      <td>791</td>\n",
       "      <td>3</td>\n",
       "    </tr>\n",
       "    <tr>\n",
       "      <th>3</th>\n",
       "      <td>763</td>\n",
       "      <td>4</td>\n",
       "    </tr>\n",
       "    <tr>\n",
       "      <th>4</th>\n",
       "      <td>774</td>\n",
       "      <td>5</td>\n",
       "    </tr>\n",
       "    <tr>\n",
       "      <th>5</th>\n",
       "      <td>662</td>\n",
       "      <td>6</td>\n",
       "    </tr>\n",
       "    <tr>\n",
       "      <th>6</th>\n",
       "      <td>854</td>\n",
       "      <td>7</td>\n",
       "    </tr>\n",
       "    <tr>\n",
       "      <th>7</th>\n",
       "      <td>958</td>\n",
       "      <td>8</td>\n",
       "    </tr>\n",
       "    <tr>\n",
       "      <th>8</th>\n",
       "      <td>1051</td>\n",
       "      <td>9</td>\n",
       "    </tr>\n",
       "    <tr>\n",
       "      <th>9</th>\n",
       "      <td>753</td>\n",
       "      <td>10</td>\n",
       "    </tr>\n",
       "    <tr>\n",
       "      <th>10</th>\n",
       "      <td>962</td>\n",
       "      <td>11</td>\n",
       "    </tr>\n",
       "    <tr>\n",
       "      <th>11</th>\n",
       "      <td>954</td>\n",
       "      <td>12</td>\n",
       "    </tr>\n",
       "  </tbody>\n",
       "</table>\n",
       "</div>"
      ],
      "text/plain": [
       "    COMENTARIOS  MONTH\n",
       "0          1035      1\n",
       "1           922      2\n",
       "2           791      3\n",
       "3           763      4\n",
       "4           774      5\n",
       "5           662      6\n",
       "6           854      7\n",
       "7           958      8\n",
       "8          1051      9\n",
       "9           753     10\n",
       "10          962     11\n",
       "11          954     12"
      ]
     },
     "execution_count": 57,
     "metadata": {},
     "output_type": "execute_result"
    }
   ],
   "source": [
    "query='''select count (COMMENT) AS COMENTARIOS, strftime ('%m',DATE) as MONTH from COMMENT GROUP BY MONTH'''   \n",
    "total=f.sql_query(query,cursor)\n",
    "total.iloc[:,1]=total.iloc[:,1].astype(int)\n",
    "total"
   ]
  },
  {
   "cell_type": "code",
   "execution_count": 58,
   "metadata": {},
   "outputs": [
    {
     "name": "stderr",
     "output_type": "stream",
     "text": [
      "C:\\Users\\Javier\\AppData\\Local\\Temp\\ipykernel_15400\\533552165.py:4: FutureWarning: In a future version, `df.iloc[:, i] = newvals` will attempt to set the values inplace instead of always setting a new array. To retain the old behavior, use either `df[df.columns[i]] = newvals` or, if columns are non-unique, `df.isetitem(i, newvals)`\n",
      "  total.iloc[:,1]=total.iloc[:,1].astype(int)\n"
     ]
    },
    {
     "data": {
      "image/png": "[encoded data removed]",
      "text/plain": [
       "<Figure size 1000x500 with 1 Axes>"
      ]
     },
     "metadata": {},
     "output_type": "display_data"
    }
   ],
   "source": [
    "plt.figure(figsize=(10,5))\n",
    "query='''select count (COMMENT) AS COMENTARIOS, strftime ('%m',DATE) as MONTH from COMMENT GROUP BY MONTH'''   \n",
    "total=f.sql_query(query,cursor)\n",
    "total.iloc[:,1]=total.iloc[:,1].astype(int)\n",
    "sns.barplot(x=total['MONTH'],y=total['COMENTARIOS'],color=\"steelblue\")\n",
    "plt.ylabel(\"Nº COMENTARIOS\")\n",
    "plt.xlabel(\"MESES\")\n",
    "plt.title(\"COMENTARIOS POR MESES\")\n",
    "file=str('\\Resources\\image\\Comments_per_month')\n",
    "folder+file\n",
    "plt.savefig(folder+file);"
   ]
  },
  {
   "attachments": {},
   "cell_type": "markdown",
   "metadata": {},
   "source": [
    "Se observa mucha estabilidad en los datos según los meses, siendo los picos en enero (coincidiendo con Reyes) y en Septiembre (coincidiendo con la vuelta en la mayoría de los casos de las vacaciones).\n",
    "\n",
    "El tema de las vacaciones puede ser algo interesante de evaluar en el sentido de si los usuarios tienen pareja con niños o si realizan sus compras durante los meses estivales anteriores y comentan a la vuelta."
   ]
  },
  {
   "cell_type": "code",
   "execution_count": 59,
   "metadata": {},
   "outputs": [
    {
     "name": "stderr",
     "output_type": "stream",
     "text": [
      "C:\\Users\\Javier\\AppData\\Local\\Temp\\ipykernel_15400\\1783956544.py:3: FutureWarning: In a future version, `df.iloc[:, i] = newvals` will attempt to set the values inplace instead of always setting a new array. To retain the old behavior, use either `df[df.columns[i]] = newvals` or, if columns are non-unique, `df.isetitem(i, newvals)`\n",
      "  total.iloc[:,1]=total.iloc[:,1].astype(int)\n"
     ]
    },
    {
     "data": {
      "text/html": [
       "<div>\n",
       "<style scoped>\n",
       "    .dataframe tbody tr th:only-of-type {\n",
       "        vertical-align: middle;\n",
       "    }\n",
       "\n",
       "    .dataframe tbody tr th {\n",
       "        vertical-align: top;\n",
       "    }\n",
       "\n",
       "    .dataframe thead th {\n",
       "        text-align: right;\n",
       "    }\n",
       "</style>\n",
       "<table border=\"1\" class=\"dataframe\">\n",
       "  <thead>\n",
       "    <tr style=\"text-align: right;\">\n",
       "      <th></th>\n",
       "      <th>COMENTARIOS</th>\n",
       "      <th>DAY_WEEK</th>\n",
       "    </tr>\n",
       "  </thead>\n",
       "  <tbody>\n",
       "    <tr>\n",
       "      <th>0</th>\n",
       "      <td>987</td>\n",
       "      <td>domingo</td>\n",
       "    </tr>\n",
       "    <tr>\n",
       "      <th>1</th>\n",
       "      <td>1690</td>\n",
       "      <td>lunes</td>\n",
       "    </tr>\n",
       "    <tr>\n",
       "      <th>2</th>\n",
       "      <td>1763</td>\n",
       "      <td>martes</td>\n",
       "    </tr>\n",
       "    <tr>\n",
       "      <th>3</th>\n",
       "      <td>1795</td>\n",
       "      <td>miercoles</td>\n",
       "    </tr>\n",
       "    <tr>\n",
       "      <th>4</th>\n",
       "      <td>1752</td>\n",
       "      <td>jueves</td>\n",
       "    </tr>\n",
       "    <tr>\n",
       "      <th>5</th>\n",
       "      <td>1465</td>\n",
       "      <td>viernes</td>\n",
       "    </tr>\n",
       "    <tr>\n",
       "      <th>6</th>\n",
       "      <td>1027</td>\n",
       "      <td>sabado</td>\n",
       "    </tr>\n",
       "  </tbody>\n",
       "</table>\n",
       "</div>"
      ],
      "text/plain": [
       "   COMENTARIOS   DAY_WEEK\n",
       "0          987    domingo\n",
       "1         1690      lunes\n",
       "2         1763     martes\n",
       "3         1795  miercoles\n",
       "4         1752     jueves\n",
       "5         1465    viernes\n",
       "6         1027     sabado"
      ]
     },
     "execution_count": 59,
     "metadata": {},
     "output_type": "execute_result"
    }
   ],
   "source": [
    "query='''select count (COMMENT) AS COMENTARIOS, strftime ('%w',DATE) as DAY_WEEK from COMMENT GROUP BY DAY_WEEK'''   \n",
    "total=f.sql_query(query,cursor)\n",
    "total.iloc[:,1]=total.iloc[:,1].astype(int)\n",
    "total['DAY_WEEK']=total['DAY_WEEK'].map(dicc_dia)\n",
    "total"
   ]
  },
  {
   "cell_type": "code",
   "execution_count": 60,
   "metadata": {},
   "outputs": [
    {
     "name": "stderr",
     "output_type": "stream",
     "text": [
      "C:\\Users\\Javier\\AppData\\Local\\Temp\\ipykernel_15400\\823842860.py:4: FutureWarning: In a future version, `df.iloc[:, i] = newvals` will attempt to set the values inplace instead of always setting a new array. To retain the old behavior, use either `df[df.columns[i]] = newvals` or, if columns are non-unique, `df.isetitem(i, newvals)`\n",
      "  total.iloc[:,1]=total.iloc[:,1].astype(int)\n"
     ]
    },
    {
     "data": {
      "image/png": "[encoded data removed]",
      "text/plain": [
       "<Figure size 1000x500 with 1 Axes>"
      ]
     },
     "metadata": {},
     "output_type": "display_data"
    }
   ],
   "source": [
    "plt.figure(figsize=(10,5))\n",
    "query='''select count (COMMENT) AS COMENTARIOS, strftime ('%w',DATE) as DAY_WEEK from COMMENT GROUP BY DAY_WEEK'''   \n",
    "total=f.sql_query(query,cursor)\n",
    "total.iloc[:,1]=total.iloc[:,1].astype(int)\n",
    "total['DAY_WEEK']=total['DAY_WEEK'].map(dicc_dia)\n",
    "sns.barplot(x=total['DAY_WEEK'],y=total['COMENTARIOS'],color=\"steelblue\")\n",
    "plt.ylabel(\"Nº COMENTARIOS\")\n",
    "plt.xlabel(\"DIA_SEMANA\")\n",
    "plt.title(\"COMENTARIOS POR DIAS DE LA SEMANA\")\n",
    "file=str('\\Resources\\image\\Comments_per_dayofweek')\n",
    "folder+file\n",
    "plt.savefig(folder+file);"
   ]
  },
  {
   "attachments": {},
   "cell_type": "markdown",
   "metadata": {},
   "source": [
    "Se observa que los días de la semana con menores comentarios sean los días del fin de semana y en general se agrupan en los días entre semana.\n",
    "\n",
    "Esto puede ser porque al comercializar un producto de ocio, esté se compre y se comente fuera del fin de semana, que es cuando más podría ser utilizado al no ser productos de consumo inmediato."
   ]
  },
  {
   "attachments": {},
   "cell_type": "markdown",
   "metadata": {},
   "source": [
    "Vamos a juntar las 3 gráficas en subplots.\n",
    "Aquí agregaremos colores en las paletas para incidir en los datos máximos y mínimos."
   ]
  },
  {
   "cell_type": "code",
   "execution_count": 65,
   "metadata": {},
   "outputs": [
    {
     "ename": "AttributeError",
     "evalue": "'Figure' object has no attribute 'sql_query'",
     "output_type": "error",
     "traceback": [
      "\u001b[1;31m---------------------------------------------------------------------------\u001b[0m",
      "\u001b[1;31mAttributeError\u001b[0m                            Traceback (most recent call last)",
      "\u001b[1;32md:\\Data_science\\Javier\\Repositorios\\Proyecto_tienda_online\\src\\Notebook\\03_sql.ipynb Cell 68\u001b[0m line \u001b[0;36m2\n\u001b[0;32m     <a href='vscode-notebook-cell:/d%3A/Data_science/Javier/Repositorios/Proyecto_tienda_online/src/Notebook/03_sql.ipynb#Y121sZmlsZQ%3D%3D?line=22'>23</a>\u001b[0m \u001b[39m'''PLOT 2'''\u001b[39;00m\n\u001b[0;32m     <a href='vscode-notebook-cell:/d%3A/Data_science/Javier/Repositorios/Proyecto_tienda_online/src/Notebook/03_sql.ipynb#Y121sZmlsZQ%3D%3D?line=24'>25</a>\u001b[0m query\u001b[39m=\u001b[39m\u001b[39m'''\u001b[39m\u001b[39mselect count (COMMENT) AS COMENTARIOS, strftime (\u001b[39m\u001b[39m'\u001b[39m\u001b[39m%\u001b[39m\u001b[39mw\u001b[39m\u001b[39m'\u001b[39m\u001b[39m,DATE) as DAY_WEEK from COMMENT GROUP BY DAY_WEEK\u001b[39m\u001b[39m'''\u001b[39m   \n\u001b[1;32m---> <a href='vscode-notebook-cell:/d%3A/Data_science/Javier/Repositorios/Proyecto_tienda_online/src/Notebook/03_sql.ipynb#Y121sZmlsZQ%3D%3D?line=25'>26</a>\u001b[0m total\u001b[39m=\u001b[39mf\u001b[39m.\u001b[39msql_query(query,cursor)\n\u001b[0;32m     <a href='vscode-notebook-cell:/d%3A/Data_science/Javier/Repositorios/Proyecto_tienda_online/src/Notebook/03_sql.ipynb#Y121sZmlsZQ%3D%3D?line=26'>27</a>\u001b[0m total\u001b[39m.\u001b[39miloc[:,\u001b[39m1\u001b[39m]\u001b[39m=\u001b[39mtotal\u001b[39m.\u001b[39miloc[:,\u001b[39m1\u001b[39m]\u001b[39m.\u001b[39mastype(\u001b[39mint\u001b[39m)\n\u001b[0;32m     <a href='vscode-notebook-cell:/d%3A/Data_science/Javier/Repositorios/Proyecto_tienda_online/src/Notebook/03_sql.ipynb#Y121sZmlsZQ%3D%3D?line=27'>28</a>\u001b[0m total[\u001b[39m'\u001b[39m\u001b[39mDAY_WEEK\u001b[39m\u001b[39m'\u001b[39m]\u001b[39m=\u001b[39mtotal[\u001b[39m'\u001b[39m\u001b[39mDAY_WEEK\u001b[39m\u001b[39m'\u001b[39m]\u001b[39m.\u001b[39mmap(dicc_dia)\n",
      "\u001b[1;31mAttributeError\u001b[0m: 'Figure' object has no attribute 'sql_query'"
     ]
    },
    {
     "data": {
      "image/png": "[encoded data removed]",
      "text/plain": [
       "<Figure size 1500x500 with 3 Axes>"
      ]
     },
     "metadata": {},
     "output_type": "display_data"
    }
   ],
   "source": [
    "f, axes = plt.subplots(1, 3, figsize=(15,5), sharey=True)\n",
    "axes[0].set_position([0,1.5,0.5,0.300])\n",
    "axes[1].set_position([0.5,1.5,0.2,0.300])\n",
    "axes[2].set_position([1.5,1.5,0.2,0.300])\n",
    "\n",
    "label=[\"Año\",\"Mes\",\"Dia de la semana\"]\n",
    "\n",
    "'''PLOT 0'''\n",
    "\n",
    "# query='''select count (COMMENT) AS COMENTARIOS, strftime ('%Y',DATE) as YEAR from COMMENT GROUP BY YEAR'''\n",
    "# total=f.sql_query(query,cursor)\n",
    "# total.loc[len(total)] = [0,2006]\n",
    "# total.iloc[:,1]=total.iloc[:,1].astype(int)\n",
    "# sns.barplot(x=total['YEAR'],y=total['COMENTARIOS'],color=\"skyblue\", ax=axes[0])\n",
    "\n",
    "# '''PLOT 1'''\n",
    "\n",
    "# query='''select count (COMMENT) AS COMENTARIOS, strftime ('%m',DATE) as MONTH from COMMENT GROUP BY MONTH'''   \n",
    "# total=f.sql_query(query,cursor)\n",
    "# total.iloc[:,1]=total.iloc[:,1].astype(int)\n",
    "# sns.barplot(x=total['MONTH'],y=total['COMENTARIOS'],color=\"steelblue\", ax=axes[1])\n",
    "\n",
    "# '''PLOT 2'''\n",
    "\n",
    "# query='''select count (COMMENT) AS COMENTARIOS, strftime ('%w',DATE) as DAY_WEEK from COMMENT GROUP BY DAY_WEEK'''   \n",
    "# total=f.sql_query(query,cursor)\n",
    "# total.iloc[:,1]=total.iloc[:,1].astype(int)\n",
    "# total['DAY_WEEK']=total['DAY_WEEK'].map(dicc_dia)\n",
    "# sns.barplot(x=total['DAY_WEEK'],y=total['COMENTARIOS'],color=\"teal\", ax=axes[2])\n",
    "\n",
    "for i in range (0,3):\n",
    "    axes[i].set_ylabel('')\n",
    "    axes[i].set_xlabel('')\n",
    "    axes[i].set_title(label[i])\n",
    "    axes[i].set_xticklabels(axes[i].get_xticklabels(), rotation=45, fontsize=7)\n",
    "\n",
    "f.suptitle(\"Estudio de los comentarios por fechas\",fontsize=15)\n",
    "f.tight_layout() \n",
    "file=str('\\Resources\\image\\Date_graphic_1')\n",
    "folder+file\n",
    "f.subplots_adjust(top=0.85)\n",
    "plt.savefig(folder+file);\n"
   ]
  },
  {
   "attachments": {},
   "cell_type": "markdown",
   "metadata": {},
   "source": [
    "#### Estudio sobre el ratio de los comentarios que se realizan."
   ]
  },
  {
   "attachments": {},
   "cell_type": "markdown",
   "metadata": {},
   "source": [
    "1.- Visualizamos los datos:"
   ]
  },
  {
   "cell_type": "code",
   "execution_count": 67,
   "metadata": {},
   "outputs": [
    {
     "ename": "AttributeError",
     "evalue": "'Figure' object has no attribute 'sql_query'",
     "output_type": "error",
     "traceback": [
      "\u001b[1;31m---------------------------------------------------------------------------\u001b[0m",
      "\u001b[1;31mAttributeError\u001b[0m                            Traceback (most recent call last)",
      "\u001b[1;32md:\\Data_science\\Javier\\Repositorios\\Proyecto_tienda_online\\src\\Notebook\\03_sql.ipynb Cell 71\u001b[0m line \u001b[0;36m3\n\u001b[0;32m      <a href='vscode-notebook-cell:/d%3A/Data_science/Javier/Repositorios/Proyecto_tienda_online/src/Notebook/03_sql.ipynb#Y124sZmlsZQ%3D%3D?line=0'>1</a>\u001b[0m plt\u001b[39m.\u001b[39mfigure(figsize\u001b[39m=\u001b[39m(\u001b[39m10\u001b[39m,\u001b[39m5\u001b[39m))\n\u001b[0;32m      <a href='vscode-notebook-cell:/d%3A/Data_science/Javier/Repositorios/Proyecto_tienda_online/src/Notebook/03_sql.ipynb#Y124sZmlsZQ%3D%3D?line=1'>2</a>\u001b[0m query\u001b[39m=\u001b[39m\u001b[39m'''\u001b[39m\u001b[39mSELECT PRODUCT,avg(RATIO) as PROM FROM COMMENTS_PER_PRODUCT group BY PRODUCT ORDER BY avg(RATIO) DESC\u001b[39m\u001b[39m'''\u001b[39m\n\u001b[1;32m----> <a href='vscode-notebook-cell:/d%3A/Data_science/Javier/Repositorios/Proyecto_tienda_online/src/Notebook/03_sql.ipynb#Y124sZmlsZQ%3D%3D?line=2'>3</a>\u001b[0m total\u001b[39m=\u001b[39mf\u001b[39m.\u001b[39msql_query(query,cursor)\n\u001b[0;32m      <a href='vscode-notebook-cell:/d%3A/Data_science/Javier/Repositorios/Proyecto_tienda_online/src/Notebook/03_sql.ipynb#Y124sZmlsZQ%3D%3D?line=3'>4</a>\u001b[0m sns\u001b[39m.\u001b[39mhistplot(data\u001b[39m=\u001b[39mtotal,bins\u001b[39m=\u001b[39m\u001b[39m100\u001b[39m)\n\u001b[0;32m      <a href='vscode-notebook-cell:/d%3A/Data_science/Javier/Repositorios/Proyecto_tienda_online/src/Notebook/03_sql.ipynb#Y124sZmlsZQ%3D%3D?line=4'>5</a>\u001b[0m plt\u001b[39m.\u001b[39mxticks()\n",
      "\u001b[1;31mAttributeError\u001b[0m: 'Figure' object has no attribute 'sql_query'"
     ]
    },
    {
     "data": {
      "text/plain": [
       "<Figure size 1000x500 with 0 Axes>"
      ]
     },
     "metadata": {},
     "output_type": "display_data"
    }
   ],
   "source": [
    "plt.figure(figsize=(10,5))\n",
    "query='''SELECT PRODUCT,avg(RATIO) as PROM FROM COMMENTS_PER_PRODUCT group BY PRODUCT ORDER BY avg(RATIO) DESC'''\n",
    "total=f.sql_query(query,cursor)\n",
    "sns.histplot(data=total,bins=100)\n",
    "plt.xticks()\n",
    "plt.ylabel(\"Nº PRODUCTOS\")\n",
    "plt.xlabel(\"VALORACION\")\n",
    "plt.title(\"DISTRIBUCION DE RATIOS DE LOS PRODUCTOS\")\n",
    "file=str(r'\\Resources\\image\\ratios_per_product')\n",
    "folder+file\n",
    "plt.savefig(folder+file);"
   ]
  },
  {
   "attachments": {},
   "cell_type": "markdown",
   "metadata": {},
   "source": [
    "En general se puede observar que los productos se encuentran entre 4.0 y 5.0. \n",
    "\n",
    "¿Podemos considerar  los valores por debajo de 4.0 como anómalos? ¿y los valores de 5.0?"
   ]
  },
  {
   "attachments": {},
   "cell_type": "markdown",
   "metadata": {},
   "source": [
    "Hacemos un *boxplot* para tener una visualización de los datos de la valoración por cuartiles y decidir."
   ]
  },
  {
   "cell_type": "code",
   "execution_count": 146,
   "metadata": {},
   "outputs": [
    {
     "data": {
      "image/png": "[encoded data removed]",
      "text/plain": [
       "<Figure size 1000x500 with 1 Axes>"
      ]
     },
     "metadata": {},
     "output_type": "display_data"
    }
   ],
   "source": [
    "plt.figure(figsize=(10,5))\n",
    "query='''SELECT PRODUCT,avg(RATIO) as PROM FROM COMMENTS_PER_PRODUCT group BY PRODUCT ORDER BY avg(RATIO) DESC'''\n",
    "sns.boxplot(data=f.sql_query(query,cursor)['PROM'])\n",
    "outlier = np.percentile(f.sql_query(query,cursor)['PROM'], 5.5)\n",
    "plt.axhline(y=outlier, xmin=0, xmax=1,color='r', linewidth= 1,linestyle=\"-.\")\n",
    "plt.ylabel(\"VALORACION\")\n",
    "plt.title(\"DISTRIBUCION DE RATIOS DE LOS PRODUCTOS\")\n",
    "file=str(r'\\Resources\\image\\Outliers_per_product')\n",
    "folder+file\n",
    "plt.savefig(folder+file);"
   ]
  },
  {
   "attachments": {},
   "cell_type": "markdown",
   "metadata": {},
   "source": [
    "2.- Outliers:\n",
    "\n",
    "Podemos ver claramente  que los valores por debajo de aprox. 3.5 son *outliers*. \n",
    "\n",
    "No es habitual que un producto de la tienda tenga valores por debajo de este cantidad.\n",
    "\n",
    "¿Cuántos productos serían?"
   ]
  },
  {
   "cell_type": "code",
   "execution_count": 68,
   "metadata": {},
   "outputs": [
    {
     "ename": "AttributeError",
     "evalue": "'Figure' object has no attribute 'sql_query'",
     "output_type": "error",
     "traceback": [
      "\u001b[1;31m---------------------------------------------------------------------------\u001b[0m",
      "\u001b[1;31mAttributeError\u001b[0m                            Traceback (most recent call last)",
      "\u001b[1;32md:\\Data_science\\Javier\\Repositorios\\Proyecto_tienda_online\\src\\Notebook\\03_sql.ipynb Cell 76\u001b[0m line \u001b[0;36m3\n\u001b[0;32m      <a href='vscode-notebook-cell:/d%3A/Data_science/Javier/Repositorios/Proyecto_tienda_online/src/Notebook/03_sql.ipynb#Y132sZmlsZQ%3D%3D?line=0'>1</a>\u001b[0m query\u001b[39m=\u001b[39m\u001b[39m'''\u001b[39m\u001b[39mSELECT PRODUCT,avg(RATIO) AS PROM FROM COMMENTS_PER_PRODUCT GROUP BY PRODUCT HAVING avg (RATIO)<3.7\u001b[39m\u001b[39m'''\u001b[39m\n\u001b[1;32m----> <a href='vscode-notebook-cell:/d%3A/Data_science/Javier/Repositorios/Proyecto_tienda_online/src/Notebook/03_sql.ipynb#Y132sZmlsZQ%3D%3D?line=2'>3</a>\u001b[0m outlier\u001b[39m=\u001b[39mf\u001b[39m.\u001b[39msql_query(query,cursor)\n\u001b[0;32m      <a href='vscode-notebook-cell:/d%3A/Data_science/Javier/Repositorios/Proyecto_tienda_online/src/Notebook/03_sql.ipynb#Y132sZmlsZQ%3D%3D?line=3'>4</a>\u001b[0m \u001b[39mprint\u001b[39m(\u001b[39m\"\u001b[39m\u001b[39mEl número de productos que son outliers es:\u001b[39m\u001b[39m\"\u001b[39m,\u001b[39mlen\u001b[39m(outlier),\u001b[39m\"\u001b[39m\u001b[39m\\n\u001b[39;00m\u001b[39mlo que representa un porcentaje de\u001b[39m\u001b[39m\"\u001b[39m,\u001b[39mround\u001b[39m(\u001b[39mlen\u001b[39m(outlier)\u001b[39m/\u001b[39m\u001b[39mlen\u001b[39m(total)\u001b[39m*\u001b[39m\u001b[39m100\u001b[39m,\u001b[39m2\u001b[39m),\u001b[39m\"\u001b[39m\u001b[39m%\u001b[39m\u001b[39m\"\u001b[39m)\n",
      "\u001b[1;31mAttributeError\u001b[0m: 'Figure' object has no attribute 'sql_query'"
     ]
    }
   ],
   "source": [
    "query='''SELECT PRODUCT,avg(RATIO) AS PROM FROM COMMENTS_PER_PRODUCT GROUP BY PRODUCT HAVING avg (RATIO)<3.7'''\n",
    "\n",
    "outlier=f.sql_query(query,cursor)\n",
    "print(\"El número de productos que son outliers es:\",len(outlier),\"\\nlo que representa un porcentaje de\",round(len(outlier)/len(total)*100,2),\"%\")\n"
   ]
  },
  {
   "attachments": {},
   "cell_type": "markdown",
   "metadata": {},
   "source": [
    "3.- Valor máximo de valoración:"
   ]
  },
  {
   "attachments": {},
   "cell_type": "markdown",
   "metadata": {},
   "source": [
    "¿Cuántos productos tienen una valoración de 5?"
   ]
  },
  {
   "cell_type": "code",
   "execution_count": 204,
   "metadata": {},
   "outputs": [
    {
     "name": "stdout",
     "output_type": "stream",
     "text": [
      "El número de productos que tienen una valoración máxima es: 129 \n",
      "lo que representa un porcentaje de 28.86 %\n"
     ]
    }
   ],
   "source": [
    "query='''SELECT PRODUCT,avg(RATIO) AS PROM FROM COMMENTS_PER_PRODUCT GROUP BY PRODUCT\n",
    " having avg (RATIO)=(SELECT max(RATIO) FROM COMMENTS_PER_PRODUCT GROUP BY PRODUCT)'''\n",
    "maximo=sql_query(query)\n",
    "\n",
    "print(\"El número de productos que tienen una valoración máxima es:\",len(maximo),\"\\nlo que representa un porcentaje de\",round(len(maximo)/len(total)*100,2),\"%\")\n"
   ]
  },
  {
   "attachments": {},
   "cell_type": "markdown",
   "metadata": {},
   "source": [
    "##### Conclusión:\n",
    "\n",
    "Los productos tienen una valoración promedio que oscila entre 3,7 y 5.0, siendo ésta la valoración máxima posible.\n",
    "\n",
    "Con la valoración promedio máxima posible hay 129 productos de los 447, lo que representa el 28,86 % de los productos.\n",
    "\n",
    "También se observa que por debajo de una valoración promedio de 3,7 hay 23 productos, lo que representa un porcentaje 5,15 %."
   ]
  },
  {
   "attachments": {},
   "cell_type": "markdown",
   "metadata": {},
   "source": [
    "#### Estudio sobre los usuarios de los comentarios que se realizan.\n",
    "\n",
    "En este punto hay que tener en cuenta que tenemos pendiente ahora mismo de generar usuarios distintos cuando se encuentran el mismo usuario dentro del mismo producto, ya que no tiene sentido que sea el mismo usuario y hay que discriminarlo. \n",
    "\n",
    "Lo mejor en este punto sería tener users por nick y que esté no pudiera ser el mismo, ya que permitiría poder discernir la autoridad de cada comentario. "
   ]
  },
  {
   "cell_type": "code",
   "execution_count": null,
   "metadata": {},
   "outputs": [],
   "source": []
  },
  {
   "attachments": {},
   "cell_type": "markdown",
   "metadata": {},
   "source": []
  },
  {
   "attachments": {},
   "cell_type": "markdown",
   "metadata": {},
   "source": [
    "## Cerramos la BBDD."
   ]
  },
  {
   "cell_type": "code",
   "execution_count": 69,
   "metadata": {},
   "outputs": [],
   "source": [
    "conn.commit()\n",
    "cursor.close()\n",
    "conn.close()"
   ]
  }
 ],
 "metadata": {
  "kernelspec": {
   "display_name": "Python 3",
   "language": "python",
   "name": "python3"
  },
  "language_info": {
   "codemirror_mode": {
    "name": "ipython",
    "version": 3
   },
   "file_extension": ".py",
   "mimetype": "text/x-python",
   "name": "python",
   "nbconvert_exporter": "python",
   "pygments_lexer": "ipython3",
   "version": "3.10.11"
  },
  "orig_nbformat": 4
 },
 "nbformat": 4,
 "nbformat_minor": 2
}
