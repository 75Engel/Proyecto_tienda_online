{
 "cells": [
  {
   "attachments": {},
   "cell_type": "markdown",
   "metadata": {},
   "source": [
    "# Almacenamiento de datos"
   ]
  },
  {
   "attachments": {},
   "cell_type": "markdown",
   "metadata": {},
   "source": [
    "## Introducción\n",
    "\n",
    "Vamos a generar una BBDD Relacional para el almacenamiento de los registros que hemos obtenido hasta ahora.\n",
    "\n",
    "En este momento del proyecto (mayo/23) prepararemos una base de datos con 2 Tablas y posteriormente generaremos una tercera tabla con las variables que habremos generado en el notebook de Engineering para generar #tags. "
   ]
  },
  {
   "attachments": {},
   "cell_type": "markdown",
   "metadata": {},
   "source": [
    "## Librerías"
   ]
  },
  {
   "cell_type": "code",
   "execution_count": 1,
   "metadata": {},
   "outputs": [],
   "source": [
    "import pandas as pd\n",
    "import numpy as np\n",
    "import os\n",
    "from datetime import datetime\n",
    "import sqlite3\n",
    "import matplotlib.pyplot as plt\n",
    "import seaborn as sns\n",
    "# import mysql.connector\n"
   ]
  },
  {
   "cell_type": "code",
   "execution_count": 2,
   "metadata": {},
   "outputs": [
    {
     "data": {
      "text/plain": [
       "'d:\\\\Data_science\\\\Javier\\\\Repositorios\\\\Proyecto_tienda_online\\\\src'"
      ]
     },
     "execution_count": 2,
     "metadata": {},
     "output_type": "execute_result"
    }
   ],
   "source": [
    "os.chdir(os.path.split(os.getcwd())[0])\n",
    "folder=os.getcwd()\n",
    "folder"
   ]
  },
  {
   "attachments": {},
   "cell_type": "markdown",
   "metadata": {},
   "source": [
    "## Estructuras de la BBDD"
   ]
  },
  {
   "attachments": {},
   "cell_type": "markdown",
   "metadata": {},
   "source": [
    "![Estructura_tablas](../Resources/image/Relacion_tablas.jpg)"
   ]
  },
  {
   "attachments": {},
   "cell_type": "markdown",
   "metadata": {},
   "source": [
    "### a.- Realizando la conexión a la Base de Datos."
   ]
  },
  {
   "cell_type": "code",
   "execution_count": 7,
   "metadata": {},
   "outputs": [],
   "source": [
    "# Conectamos con la base de datos\n",
    "conn = sqlite3.connect(\"Data/online_shop.db\")\n",
    "\n",
    "# Obtenemos un cursor que utilizaremos para hacer las queries\n",
    "cursor = conn.cursor()"
   ]
  },
  {
   "attachments": {},
   "cell_type": "markdown",
   "metadata": {},
   "source": [
    "### b.- Funciones para obtener datos y ver en un dataframe"
   ]
  },
  {
   "cell_type": "code",
   "execution_count": 8,
   "metadata": {},
   "outputs": [],
   "source": [
    "# Con esta función leemos los datos y lo pasamos a un DataFrame de Pandas\n",
    "def sql_query(query):\n",
    "\n",
    "    # Ejecuta la query\n",
    "    cursor.execute(query)\n",
    "\n",
    "    # Almacena los datos de la query \n",
    "    ans = cursor.fetchall()\n",
    "\n",
    "    # Obtenemos los nombres de las columnas de la tabla\n",
    "    names = [description[0] for description in cursor.description]\n",
    "\n",
    "    return pd.DataFrame(ans,columns=names)"
   ]
  },
  {
   "attachments": {},
   "cell_type": "markdown",
   "metadata": {},
   "source": [
    "## 1. Construyendo la BBDD"
   ]
  },
  {
   "cell_type": "code",
   "execution_count": 6,
   "metadata": {},
   "outputs": [
    {
     "name": "stdout",
     "output_type": "stream",
     "text": [
      "COMMENTS_PER_PRODUCT\n"
     ]
    }
   ],
   "source": [
    "# res = cursor.execute(\"SELECT name FROM sqlite_master WHERE type='table'\")\n",
    "# res = cursor.execute(\"SELECT name FROM sqlite_master WHERE type='view'\")\n",
    "for name in res:\n",
    "    print(name[0])"
   ]
  },
  {
   "attachments": {},
   "cell_type": "markdown",
   "metadata": {},
   "source": [
    "#### PRODUCT"
   ]
  },
  {
   "cell_type": "code",
   "execution_count": 6,
   "metadata": {},
   "outputs": [
    {
     "data": {
      "text/plain": [
       "<sqlite3.Cursor at 0x15f348c76c0>"
      ]
     },
     "execution_count": 6,
     "metadata": {},
     "output_type": "execute_result"
    }
   ],
   "source": [
    "query = '''\n",
    "CREATE TABLE PRODUCT  (\n",
    "    ID VARCHAR (3),\n",
    "    PRODUCT VARCHAR (100),\n",
    "    SLOGAN VARCHAR (100),\n",
    "    DESCRIPTION VARCHAR (250),\n",
    "    CHARACTERISTICS VARCHAR (250),\n",
    "    LISTA_URL VARCHAR (50),\n",
    "    REGULAR_PRICE INT (3),\n",
    "    DISCOUNT_PRICE INT (3),\n",
    "    PRIMARY KEY (ID)\n",
    ")\n",
    "\n",
    "'''\n",
    "\n",
    "\n",
    "cursor.execute(query)"
   ]
  },
  {
   "attachments": {},
   "cell_type": "markdown",
   "metadata": {},
   "source": [
    "#### COMMENTS"
   ]
  },
  {
   "cell_type": "code",
   "execution_count": 7,
   "metadata": {},
   "outputs": [
    {
     "data": {
      "text/plain": [
       "<sqlite3.Cursor at 0x15f348c76c0>"
      ]
     },
     "execution_count": 7,
     "metadata": {},
     "output_type": "execute_result"
    }
   ],
   "source": [
    "query = '''\n",
    "CREATE TABLE COMMENT  (\n",
    "    ID_COMMENT VARCHAR (5),\n",
    "    ID_PRODUCT VARCHAR (3),\n",
    "    DATE DATETIME (100),\n",
    "    RATIO INT (2),\n",
    "    USERS VARCHAR (50),\n",
    "    COMMENT VARCHAR (250), \n",
    "    PRIMARY KEY (ID_COMMENT),\n",
    "    FOREIGN KEY (ID_PRODUCT) REFERENCES PRODUCT (ID)\n",
    ")\n",
    "\n",
    "'''\n",
    "\n",
    "cursor.execute(query)"
   ]
  },
  {
   "attachments": {},
   "cell_type": "markdown",
   "metadata": {},
   "source": [
    "#### TAGS"
   ]
  },
  {
   "cell_type": "code",
   "execution_count": 8,
   "metadata": {},
   "outputs": [
    {
     "data": {
      "text/plain": [
       "<sqlite3.Cursor at 0x15f348c76c0>"
      ]
     },
     "execution_count": 8,
     "metadata": {},
     "output_type": "execute_result"
    }
   ],
   "source": [
    "query = '''\n",
    "CREATE TABLE TAGS  (\n",
    "    ID VARCHAR (3),\n",
    "    JUGUETES INT(1),\n",
    "    MUEBLES INT(1),\n",
    "    LENCERIA INT(1),\n",
    "    MASCULINO INT(1),\n",
    "    FEMININO INT(1),\n",
    "    ANAL INT(1),\n",
    "    BDSM INT(1),\n",
    "    AMENITIES INT(1),\n",
    "    PRIMARY KEY (ID),\n",
    "    FOREIGN KEY (ID) REFERENCES PRODUCT (ID)\n",
    ")\n",
    "\n",
    "'''\n",
    "\n",
    "# En esta tabla hay que convertir primeramente los booleanos en 0 y 1 para guardarla.\n",
    "# También es importante tener esto en cuenta a la hora de extraer la información.\n",
    "cursor.execute(query)"
   ]
  },
  {
   "attachments": {},
   "cell_type": "markdown",
   "metadata": {},
   "source": [
    "### b.- Cargando los datos dentro de la BBDD"
   ]
  },
  {
   "cell_type": "code",
   "execution_count": 10,
   "metadata": {},
   "outputs": [
    {
     "name": "stdout",
     "output_type": "stream",
     "text": [
      "Long. dataframe 8\n"
     ]
    },
    {
     "data": {
      "text/html": [
       "<div>\n",
       "<style scoped>\n",
       "    .dataframe tbody tr th:only-of-type {\n",
       "        vertical-align: middle;\n",
       "    }\n",
       "\n",
       "    .dataframe tbody tr th {\n",
       "        vertical-align: top;\n",
       "    }\n",
       "\n",
       "    .dataframe thead th {\n",
       "        text-align: right;\n",
       "    }\n",
       "</style>\n",
       "<table border=\"1\" class=\"dataframe\">\n",
       "  <thead>\n",
       "    <tr style=\"text-align: right;\">\n",
       "      <th></th>\n",
       "      <th>ID</th>\n",
       "      <th>PRODUCT</th>\n",
       "      <th>SLOGAN</th>\n",
       "      <th>DESCRIPTION</th>\n",
       "      <th>CHARACTERISTICS</th>\n",
       "      <th>LISTA_URL</th>\n",
       "      <th>REGULAR_PRICE</th>\n",
       "      <th>DISCOUNT_PRICE</th>\n",
       "    </tr>\n",
       "  </thead>\n",
       "  <tbody>\n",
       "    <tr>\n",
       "      <th>0</th>\n",
       "      <td>0</td>\n",
       "      <td>Desliz! Lubricante íntimo de agua 100ml</td>\n",
       "      <td>NaN</td>\n",
       "      <td>Algunos lubricantes son un poco densos, otros ...</td>\n",
       "      <td>Bote de 100ml de venta exclusiva en amantis.ne...</td>\n",
       "      <td>https://www.amantis.net/desliz-lubricante-inti...</td>\n",
       "      <td>9.99</td>\n",
       "      <td>7.99</td>\n",
       "    </tr>\n",
       "    <tr>\n",
       "      <th>1</th>\n",
       "      <td>1</td>\n",
       "      <td>LIZO 2</td>\n",
       "      <td>Dildo de suave silicona en 3 tamaños</td>\n",
       "      <td>En un azulejo de la cocina, en una puerta, en ...</td>\n",
       "      <td>Material: silicona médica de máxima calidadDim...</td>\n",
       "      <td>https://www.amantis.net/lizo-2-dildo-suave-sil...</td>\n",
       "      <td>59.99</td>\n",
       "      <td>17.99</td>\n",
       "    </tr>\n",
       "    <tr>\n",
       "      <th>2</th>\n",
       "      <td>2</td>\n",
       "      <td>FOXTAIL</td>\n",
       "      <td>plug anal cola de zorro de 35cm</td>\n",
       "      <td>Deja volar la imaginación y saca tu lado más s...</td>\n",
       "      <td>Tamaño plug S: 6.6cm Max Dia.: 2.8cmCola de pe...</td>\n",
       "      <td>https://www.amantis.net/foxtail-plug-anal-cola...</td>\n",
       "      <td>29.99</td>\n",
       "      <td>9.99</td>\n",
       "    </tr>\n",
       "    <tr>\n",
       "      <th>3</th>\n",
       "      <td>3</td>\n",
       "      <td>Vibrador Líquido con sabor Desliz! VIBRAGEL 30ml</td>\n",
       "      <td>hormigueo oral</td>\n",
       "      <td>¿Alguna vez has sentido un hormigueo en lo más...</td>\n",
       "      <td>Ingredientes: agua, glicerina, hidroxietilcelu...</td>\n",
       "      <td>https://www.amantis.net/desliz-vibragel-liquid...</td>\n",
       "      <td>29.99</td>\n",
       "      <td>9.99</td>\n",
       "    </tr>\n",
       "    <tr>\n",
       "      <th>4</th>\n",
       "      <td>4</td>\n",
       "      <td>Bacanal FORTE TARRO 200ml</td>\n",
       "      <td>lubricante anal concentrado con aloe</td>\n",
       "      <td>Si alguna vez has pensado que el sexo anal es ...</td>\n",
       "      <td>Su textura no es grasa y no mancha. Compatible...</td>\n",
       "      <td>https://www.amantis.net/bacanal-forte-tarro-20...</td>\n",
       "      <td>24.99</td>\n",
       "      <td>24.99</td>\n",
       "    </tr>\n",
       "  </tbody>\n",
       "</table>\n",
       "</div>"
      ],
      "text/plain": [
       "   ID                                           PRODUCT  \\\n",
       "0   0           Desliz! Lubricante íntimo de agua 100ml   \n",
       "1   1                                            LIZO 2   \n",
       "2   2                                           FOXTAIL   \n",
       "3   3  Vibrador Líquido con sabor Desliz! VIBRAGEL 30ml   \n",
       "4   4                         Bacanal FORTE TARRO 200ml   \n",
       "\n",
       "                                 SLOGAN  \\\n",
       "0                                   NaN   \n",
       "1  Dildo de suave silicona en 3 tamaños   \n",
       "2       plug anal cola de zorro de 35cm   \n",
       "3                        hormigueo oral   \n",
       "4  lubricante anal concentrado con aloe   \n",
       "\n",
       "                                         DESCRIPTION  \\\n",
       "0  Algunos lubricantes son un poco densos, otros ...   \n",
       "1  En un azulejo de la cocina, en una puerta, en ...   \n",
       "2  Deja volar la imaginación y saca tu lado más s...   \n",
       "3  ¿Alguna vez has sentido un hormigueo en lo más...   \n",
       "4  Si alguna vez has pensado que el sexo anal es ...   \n",
       "\n",
       "                                     CHARACTERISTICS  \\\n",
       "0  Bote de 100ml de venta exclusiva en amantis.ne...   \n",
       "1  Material: silicona médica de máxima calidadDim...   \n",
       "2  Tamaño plug S: 6.6cm Max Dia.: 2.8cmCola de pe...   \n",
       "3  Ingredientes: agua, glicerina, hidroxietilcelu...   \n",
       "4  Su textura no es grasa y no mancha. Compatible...   \n",
       "\n",
       "                                           LISTA_URL  REGULAR_PRICE  \\\n",
       "0  https://www.amantis.net/desliz-lubricante-inti...           9.99   \n",
       "1  https://www.amantis.net/lizo-2-dildo-suave-sil...          59.99   \n",
       "2  https://www.amantis.net/foxtail-plug-anal-cola...          29.99   \n",
       "3  https://www.amantis.net/desliz-vibragel-liquid...          29.99   \n",
       "4  https://www.amantis.net/bacanal-forte-tarro-20...          24.99   \n",
       "\n",
       "   DISCOUNT_PRICE  \n",
       "0            7.99  \n",
       "1           17.99  \n",
       "2            9.99  \n",
       "3            9.99  \n",
       "4           24.99  "
      ]
     },
     "execution_count": 10,
     "metadata": {},
     "output_type": "execute_result"
    }
   ],
   "source": [
    "df_products=pd.read_csv(r'Data\\productos.csv')\n",
    "print(\"Long. dataframe\",len(df_products.columns))\n",
    "df_products.head()"
   ]
  },
  {
   "cell_type": "code",
   "execution_count": 11,
   "metadata": {},
   "outputs": [
    {
     "name": "stdout",
     "output_type": "stream",
     "text": [
      "Long. dataframe 6\n"
     ]
    },
    {
     "data": {
      "text/plain": [
       "<bound method NDFrame.head of        ID_COMMENT  ID_PRODUCT                        DATE  RATIO  \\\n",
       "0               0           0        jueves 18 mayo, 2023      5   \n",
       "1               1           0    miércoles 12 abril, 2023      5   \n",
       "2               2           0        lunes 10 abril, 2023      5   \n",
       "3               3           0        lunes 23 enero, 2023      5   \n",
       "4               4           0    miércoles 11 enero, 2023      5   \n",
       "...           ...         ...                         ...    ...   \n",
       "10328       11370         575      viernes 22 enero, 2016      5   \n",
       "10329       11371         575  viernes 26 diciembre, 2014      4   \n",
       "10330       11372         575   martes 09 diciembre, 2014      4   \n",
       "10331       11373         575   martes 09 diciembre, 2014      5   \n",
       "10332       11374         575   jueves 04 diciembre, 2014      5   \n",
       "\n",
       "              USERS                                            COMMENT  \n",
       "0             David  Muy recomendable. El bote cunde, hidrata muy b...  \n",
       "1            Ferran  Es la primera vez que compro este lubricante y...  \n",
       "2            Sergio  He probado varios tipos de lubricante y este d...  \n",
       "3             Jaime  Perfecto para embadurnarte el pincelin y meter...  \n",
       "4           YASMINA  Buen producto, tanto para el cuerpo a cuerpo c...  \n",
       "...             ...                                                ...  \n",
       "10328          Luis  Ya te vayan los juegos de dominación o no...co...  \n",
       "10329           Ana  Hola, es la primera vez que adquiero artículos...  \n",
       "10330        Robert  Muy provocativo, y estimulante, con muy buena ...  \n",
       "10331  Jose Antonio  Conjunto perfecto para que mi chica se ponga e...  \n",
       "10332       Hilario  mi novia me sorprendio con este conjunto y a p...  \n",
       "\n",
       "[10333 rows x 6 columns]>"
      ]
     },
     "execution_count": 11,
     "metadata": {},
     "output_type": "execute_result"
    }
   ],
   "source": [
    "df_comments=pd.read_csv(r'Data\\comentarios.csv',index_col=False)\n",
    "print(\"Long. dataframe\",len(df_comments.columns))\n",
    "df_comments.rename(columns={\"ID\":\"ID_PRODUCT\",\"Unnamed: 0\":\"ID_COMMENT\"},inplace=True)\n",
    "df_comments.head"
   ]
  },
  {
   "cell_type": "code",
   "execution_count": 12,
   "metadata": {},
   "outputs": [
    {
     "data": {
      "text/plain": [
       "<sqlite3.Cursor at 0x15f348c76c0>"
      ]
     },
     "execution_count": 12,
     "metadata": {},
     "output_type": "execute_result"
    }
   ],
   "source": [
    "lista_products= df_products.values.tolist()                                                #   Pasamos a lista el dataframe\n",
    "\n",
    "cursor.executemany(\"INSERT INTO PRODUCT VALUES (?,?,?,?,?,?,?,?)\", lista_products)           #   Salvamos directamente todos los datos en la tabla PRODUCTS\n",
    "\n",
    "lista_comments= df_comments.values.tolist()                                                #   Pasamos a lista el dataframe\n",
    "\n",
    "cursor.executemany(\"INSERT INTO COMMENT VALUES (?,?,?,?,?,?)\", lista_comments)                 #   Salvamos directamente todos los datos en la tabla COMMENTS"
   ]
  },
  {
   "cell_type": "code",
   "execution_count": 13,
   "metadata": {},
   "outputs": [],
   "source": [
    "conn.commit()\n",
    "cursor.close()\n",
    "conn.close()"
   ]
  },
  {
   "attachments": {},
   "cell_type": "markdown",
   "metadata": {},
   "source": [
    "### Generamos las *views* oportunas para el tratamiento de los datos. "
   ]
  },
  {
   "cell_type": "code",
   "execution_count": 22,
   "metadata": {},
   "outputs": [
    {
     "data": {
      "text/plain": [
       "<sqlite3.Cursor at 0x28b2e0c7dc0>"
      ]
     },
     "execution_count": 22,
     "metadata": {},
     "output_type": "execute_result"
    }
   ],
   "source": [
    "view='''CREATE VIEW COMMENTS_PER_PRODUCT AS SELECT PRODUCT.PRODUCT,COMMENT.DATE,COMMENT.USERS,COMMENT.RATIO ,COMMENT.COMMENT FROM COMMENT JOIN PRODUCT ON PRODUCT.ID=COMMENT.ID_PRODUCT'''\n",
    "cursor.execute(view)"
   ]
  },
  {
   "attachments": {},
   "cell_type": "markdown",
   "metadata": {},
   "source": [
    "## 2. Realizando consultas para visualizar datos."
   ]
  },
  {
   "attachments": {},
   "cell_type": "markdown",
   "metadata": {},
   "source": [
    "Vamos a verificar los datos cargados visualizando los 10 primeros registros en cada TABLA"
   ]
  },
  {
   "cell_type": "code",
   "execution_count": 9,
   "metadata": {},
   "outputs": [
    {
     "data": {
      "text/html": [
       "<div>\n",
       "<style scoped>\n",
       "    .dataframe tbody tr th:only-of-type {\n",
       "        vertical-align: middle;\n",
       "    }\n",
       "\n",
       "    .dataframe tbody tr th {\n",
       "        vertical-align: top;\n",
       "    }\n",
       "\n",
       "    .dataframe thead th {\n",
       "        text-align: right;\n",
       "    }\n",
       "</style>\n",
       "<table border=\"1\" class=\"dataframe\">\n",
       "  <thead>\n",
       "    <tr style=\"text-align: right;\">\n",
       "      <th></th>\n",
       "      <th>ID</th>\n",
       "      <th>PRODUCT</th>\n",
       "      <th>SLOGAN</th>\n",
       "      <th>DESCRIPTION</th>\n",
       "      <th>CHARACTERISTICS</th>\n",
       "      <th>LISTA_URL</th>\n",
       "      <th>REGULAR_PRICE</th>\n",
       "      <th>DISCOUNT_PRICE</th>\n",
       "    </tr>\n",
       "  </thead>\n",
       "  <tbody>\n",
       "    <tr>\n",
       "      <th>0</th>\n",
       "      <td>0</td>\n",
       "      <td>Desliz! Lubricante íntimo de agua 100ml</td>\n",
       "      <td>None</td>\n",
       "      <td>Algunos lubricantes son un poco densos, otros ...</td>\n",
       "      <td>Bote de 100ml de venta exclusiva en amantis.ne...</td>\n",
       "      <td>https://www.amantis.net/desliz-lubricante-inti...</td>\n",
       "      <td>9.99</td>\n",
       "      <td>7.99</td>\n",
       "    </tr>\n",
       "    <tr>\n",
       "      <th>1</th>\n",
       "      <td>1</td>\n",
       "      <td>LIZO 2</td>\n",
       "      <td>Dildo de suave silicona en 3 tamaños</td>\n",
       "      <td>En un azulejo de la cocina, en una puerta, en ...</td>\n",
       "      <td>Material: silicona médica de máxima calidadDim...</td>\n",
       "      <td>https://www.amantis.net/lizo-2-dildo-suave-sil...</td>\n",
       "      <td>59.99</td>\n",
       "      <td>17.99</td>\n",
       "    </tr>\n",
       "    <tr>\n",
       "      <th>2</th>\n",
       "      <td>2</td>\n",
       "      <td>FOXTAIL</td>\n",
       "      <td>plug anal cola de zorro de 35cm</td>\n",
       "      <td>Deja volar la imaginación y saca tu lado más s...</td>\n",
       "      <td>Tamaño plug S: 6.6cm Max Dia.: 2.8cmCola de pe...</td>\n",
       "      <td>https://www.amantis.net/foxtail-plug-anal-cola...</td>\n",
       "      <td>29.99</td>\n",
       "      <td>9.99</td>\n",
       "    </tr>\n",
       "    <tr>\n",
       "      <th>3</th>\n",
       "      <td>3</td>\n",
       "      <td>Vibrador Líquido con sabor Desliz! VIBRAGEL 30ml</td>\n",
       "      <td>hormigueo oral</td>\n",
       "      <td>¿Alguna vez has sentido un hormigueo en lo más...</td>\n",
       "      <td>Ingredientes: agua, glicerina, hidroxietilcelu...</td>\n",
       "      <td>https://www.amantis.net/desliz-vibragel-liquid...</td>\n",
       "      <td>29.99</td>\n",
       "      <td>9.99</td>\n",
       "    </tr>\n",
       "    <tr>\n",
       "      <th>4</th>\n",
       "      <td>4</td>\n",
       "      <td>Bacanal FORTE TARRO 200ml</td>\n",
       "      <td>lubricante anal concentrado con aloe</td>\n",
       "      <td>Si alguna vez has pensado que el sexo anal es ...</td>\n",
       "      <td>Su textura no es grasa y no mancha. Compatible...</td>\n",
       "      <td>https://www.amantis.net/bacanal-forte-tarro-20...</td>\n",
       "      <td>24.99</td>\n",
       "      <td>24.99</td>\n",
       "    </tr>\n",
       "    <tr>\n",
       "      <th>5</th>\n",
       "      <td>5</td>\n",
       "      <td>VINTAGE</td>\n",
       "      <td>Vibrador clásico metalizado</td>\n",
       "      <td>¡Qué tendrán los ochenta que nos encantan! Los...</td>\n",
       "      <td>Bala metalizada14 x 2´7cm Vibración regulable ...</td>\n",
       "      <td>https://www.amantis.net/vintage-vibrador-clasi...</td>\n",
       "      <td>16.99</td>\n",
       "      <td>5.99</td>\n",
       "    </tr>\n",
       "    <tr>\n",
       "      <th>6</th>\n",
       "      <td>6</td>\n",
       "      <td>TOBOGANE HOT RABBIT</td>\n",
       "      <td>el superventas de amantis ¡mejorado!</td>\n",
       "      <td>Vuelve nuestro vibrador de doble estimulación ...</td>\n",
       "      <td>Medidas: 19cm (11cm insertables) y 3,3cm/ 2,2c...</td>\n",
       "      <td>https://www.amantis.net/tobogane-hot-rabbit-el...</td>\n",
       "      <td>89.99</td>\n",
       "      <td>39.99</td>\n",
       "    </tr>\n",
       "    <tr>\n",
       "      <th>7</th>\n",
       "      <td>7</td>\n",
       "      <td>CRISTALINO XL</td>\n",
       "      <td>gran dildo transparente de 22cm</td>\n",
       "      <td>¿Te gusta hacer bandera de la transparencia en...</td>\n",
       "      <td>Material: TPR libre de ftalatos y seguro con t...</td>\n",
       "      <td>https://www.amantis.net/cristalino-xl-gran-dil...</td>\n",
       "      <td>49.99</td>\n",
       "      <td>17.99</td>\n",
       "    </tr>\n",
       "    <tr>\n",
       "      <th>8</th>\n",
       "      <td>8</td>\n",
       "      <td>FLOGGY</td>\n",
       "      <td>Flogger BDSM de piel vegana</td>\n",
       "      <td>En amantis contamos con muchos potenciadores d...</td>\n",
       "      <td>Piel sintéticaMedidas: 48 cmApto para veganosC...</td>\n",
       "      <td>https://www.amantis.net/floggy-flogger-bdsm-pi...</td>\n",
       "      <td>18.99</td>\n",
       "      <td>4.99</td>\n",
       "    </tr>\n",
       "    <tr>\n",
       "      <th>9</th>\n",
       "      <td>9</td>\n",
       "      <td>COCÓ</td>\n",
       "      <td>body de tirantes con orificio estratégico de a...</td>\n",
       "      <td>Te encanta cómo sienta y cómo tersa tu piel la...</td>\n",
       "      <td>Pieza única; tejido en malla sin cierres ni co...</td>\n",
       "      <td>https://www.amantis.net/coco-body-tirantes-ori...</td>\n",
       "      <td>24.99</td>\n",
       "      <td>5.99</td>\n",
       "    </tr>\n",
       "  </tbody>\n",
       "</table>\n",
       "</div>"
      ],
      "text/plain": [
       "  ID                                           PRODUCT  \\\n",
       "0  0           Desliz! Lubricante íntimo de agua 100ml   \n",
       "1  1                                            LIZO 2   \n",
       "2  2                                           FOXTAIL   \n",
       "3  3  Vibrador Líquido con sabor Desliz! VIBRAGEL 30ml   \n",
       "4  4                         Bacanal FORTE TARRO 200ml   \n",
       "5  5                                           VINTAGE   \n",
       "6  6                               TOBOGANE HOT RABBIT   \n",
       "7  7                                     CRISTALINO XL   \n",
       "8  8                                            FLOGGY   \n",
       "9  9                                              COCÓ   \n",
       "\n",
       "                                              SLOGAN  \\\n",
       "0                                               None   \n",
       "1               Dildo de suave silicona en 3 tamaños   \n",
       "2                    plug anal cola de zorro de 35cm   \n",
       "3                                     hormigueo oral   \n",
       "4               lubricante anal concentrado con aloe   \n",
       "5                        Vibrador clásico metalizado   \n",
       "6               el superventas de amantis ¡mejorado!   \n",
       "7                    gran dildo transparente de 22cm   \n",
       "8                        Flogger BDSM de piel vegana   \n",
       "9  body de tirantes con orificio estratégico de a...   \n",
       "\n",
       "                                         DESCRIPTION  \\\n",
       "0  Algunos lubricantes son un poco densos, otros ...   \n",
       "1  En un azulejo de la cocina, en una puerta, en ...   \n",
       "2  Deja volar la imaginación y saca tu lado más s...   \n",
       "3  ¿Alguna vez has sentido un hormigueo en lo más...   \n",
       "4  Si alguna vez has pensado que el sexo anal es ...   \n",
       "5  ¡Qué tendrán los ochenta que nos encantan! Los...   \n",
       "6  Vuelve nuestro vibrador de doble estimulación ...   \n",
       "7  ¿Te gusta hacer bandera de la transparencia en...   \n",
       "8  En amantis contamos con muchos potenciadores d...   \n",
       "9  Te encanta cómo sienta y cómo tersa tu piel la...   \n",
       "\n",
       "                                     CHARACTERISTICS  \\\n",
       "0  Bote de 100ml de venta exclusiva en amantis.ne...   \n",
       "1  Material: silicona médica de máxima calidadDim...   \n",
       "2  Tamaño plug S: 6.6cm Max Dia.: 2.8cmCola de pe...   \n",
       "3  Ingredientes: agua, glicerina, hidroxietilcelu...   \n",
       "4  Su textura no es grasa y no mancha. Compatible...   \n",
       "5  Bala metalizada14 x 2´7cm Vibración regulable ...   \n",
       "6  Medidas: 19cm (11cm insertables) y 3,3cm/ 2,2c...   \n",
       "7  Material: TPR libre de ftalatos y seguro con t...   \n",
       "8  Piel sintéticaMedidas: 48 cmApto para veganosC...   \n",
       "9  Pieza única; tejido en malla sin cierres ni co...   \n",
       "\n",
       "                                           LISTA_URL  REGULAR_PRICE  \\\n",
       "0  https://www.amantis.net/desliz-lubricante-inti...           9.99   \n",
       "1  https://www.amantis.net/lizo-2-dildo-suave-sil...          59.99   \n",
       "2  https://www.amantis.net/foxtail-plug-anal-cola...          29.99   \n",
       "3  https://www.amantis.net/desliz-vibragel-liquid...          29.99   \n",
       "4  https://www.amantis.net/bacanal-forte-tarro-20...          24.99   \n",
       "5  https://www.amantis.net/vintage-vibrador-clasi...          16.99   \n",
       "6  https://www.amantis.net/tobogane-hot-rabbit-el...          89.99   \n",
       "7  https://www.amantis.net/cristalino-xl-gran-dil...          49.99   \n",
       "8  https://www.amantis.net/floggy-flogger-bdsm-pi...          18.99   \n",
       "9  https://www.amantis.net/coco-body-tirantes-ori...          24.99   \n",
       "\n",
       "   DISCOUNT_PRICE  \n",
       "0            7.99  \n",
       "1           17.99  \n",
       "2            9.99  \n",
       "3            9.99  \n",
       "4           24.99  \n",
       "5            5.99  \n",
       "6           39.99  \n",
       "7           17.99  \n",
       "8            4.99  \n",
       "9            5.99  "
      ]
     },
     "execution_count": 9,
     "metadata": {},
     "output_type": "execute_result"
    }
   ],
   "source": [
    "query='''SELECT * FROM PRODUCT LIMIT (10)'''\n",
    "sql_query(query)"
   ]
  },
  {
   "cell_type": "code",
   "execution_count": 10,
   "metadata": {},
   "outputs": [
    {
     "data": {
      "text/html": [
       "<div>\n",
       "<style scoped>\n",
       "    .dataframe tbody tr th:only-of-type {\n",
       "        vertical-align: middle;\n",
       "    }\n",
       "\n",
       "    .dataframe tbody tr th {\n",
       "        vertical-align: top;\n",
       "    }\n",
       "\n",
       "    .dataframe thead th {\n",
       "        text-align: right;\n",
       "    }\n",
       "</style>\n",
       "<table border=\"1\" class=\"dataframe\">\n",
       "  <thead>\n",
       "    <tr style=\"text-align: right;\">\n",
       "      <th></th>\n",
       "      <th>ID_COMMENT</th>\n",
       "      <th>ID_PRODUCT</th>\n",
       "      <th>DATE</th>\n",
       "      <th>RATIO</th>\n",
       "      <th>USERS</th>\n",
       "      <th>COMMENT</th>\n",
       "    </tr>\n",
       "  </thead>\n",
       "  <tbody>\n",
       "    <tr>\n",
       "      <th>0</th>\n",
       "      <td>0</td>\n",
       "      <td>0</td>\n",
       "      <td>jueves 18 mayo, 2023</td>\n",
       "      <td>5</td>\n",
       "      <td>David</td>\n",
       "      <td>Muy recomendable. El bote cunde, hidrata muy b...</td>\n",
       "    </tr>\n",
       "    <tr>\n",
       "      <th>1</th>\n",
       "      <td>1</td>\n",
       "      <td>0</td>\n",
       "      <td>miércoles 12 abril, 2023</td>\n",
       "      <td>5</td>\n",
       "      <td>Ferran</td>\n",
       "      <td>Es la primera vez que compro este lubricante y...</td>\n",
       "    </tr>\n",
       "    <tr>\n",
       "      <th>2</th>\n",
       "      <td>2</td>\n",
       "      <td>0</td>\n",
       "      <td>lunes 10 abril, 2023</td>\n",
       "      <td>5</td>\n",
       "      <td>Sergio</td>\n",
       "      <td>He probado varios tipos de lubricante y este d...</td>\n",
       "    </tr>\n",
       "    <tr>\n",
       "      <th>3</th>\n",
       "      <td>3</td>\n",
       "      <td>0</td>\n",
       "      <td>lunes 23 enero, 2023</td>\n",
       "      <td>5</td>\n",
       "      <td>Jaime</td>\n",
       "      <td>Perfecto para embadurnarte el pincelin y meter...</td>\n",
       "    </tr>\n",
       "    <tr>\n",
       "      <th>4</th>\n",
       "      <td>4</td>\n",
       "      <td>0</td>\n",
       "      <td>miércoles 11 enero, 2023</td>\n",
       "      <td>5</td>\n",
       "      <td>YASMINA</td>\n",
       "      <td>Buen producto, tanto para el cuerpo a cuerpo c...</td>\n",
       "    </tr>\n",
       "    <tr>\n",
       "      <th>5</th>\n",
       "      <td>5</td>\n",
       "      <td>0</td>\n",
       "      <td>jueves 05 enero, 2023</td>\n",
       "      <td>5</td>\n",
       "      <td>Irene</td>\n",
       "      <td>Tal y como se describe, simple y efectivo, nos...</td>\n",
       "    </tr>\n",
       "    <tr>\n",
       "      <th>6</th>\n",
       "      <td>6</td>\n",
       "      <td>0</td>\n",
       "      <td>jueves 22 diciembre, 2022</td>\n",
       "      <td>4</td>\n",
       "      <td>Marta</td>\n",
       "      <td>Cumple su funcion como lubricante con base de ...</td>\n",
       "    </tr>\n",
       "    <tr>\n",
       "      <th>7</th>\n",
       "      <td>7</td>\n",
       "      <td>0</td>\n",
       "      <td>martes 13 diciembre, 2022</td>\n",
       "      <td>3</td>\n",
       "      <td>Francisco Javier</td>\n",
       "      <td>Fue el primer lubricante que compramos en esta...</td>\n",
       "    </tr>\n",
       "    <tr>\n",
       "      <th>8</th>\n",
       "      <td>8</td>\n",
       "      <td>0</td>\n",
       "      <td>domingo 04 diciembre, 2022</td>\n",
       "      <td>5</td>\n",
       "      <td>Meri</td>\n",
       "      <td>El lubricante Desliz de agua es indispensable ...</td>\n",
       "    </tr>\n",
       "    <tr>\n",
       "      <th>9</th>\n",
       "      <td>9</td>\n",
       "      <td>0</td>\n",
       "      <td>domingo 20 noviembre, 2022</td>\n",
       "      <td>5</td>\n",
       "      <td>Enrique</td>\n",
       "      <td>Buenisimo lubricante calidad precio, desde que...</td>\n",
       "    </tr>\n",
       "  </tbody>\n",
       "</table>\n",
       "</div>"
      ],
      "text/plain": [
       "  ID_COMMENT ID_PRODUCT                        DATE  RATIO             USERS  \\\n",
       "0          0          0        jueves 18 mayo, 2023      5             David   \n",
       "1          1          0    miércoles 12 abril, 2023      5            Ferran   \n",
       "2          2          0        lunes 10 abril, 2023      5            Sergio   \n",
       "3          3          0        lunes 23 enero, 2023      5             Jaime   \n",
       "4          4          0    miércoles 11 enero, 2023      5           YASMINA   \n",
       "5          5          0       jueves 05 enero, 2023      5             Irene   \n",
       "6          6          0   jueves 22 diciembre, 2022      4             Marta   \n",
       "7          7          0   martes 13 diciembre, 2022      3  Francisco Javier   \n",
       "8          8          0  domingo 04 diciembre, 2022      5              Meri   \n",
       "9          9          0  domingo 20 noviembre, 2022      5           Enrique   \n",
       "\n",
       "                                             COMMENT  \n",
       "0  Muy recomendable. El bote cunde, hidrata muy b...  \n",
       "1  Es la primera vez que compro este lubricante y...  \n",
       "2  He probado varios tipos de lubricante y este d...  \n",
       "3  Perfecto para embadurnarte el pincelin y meter...  \n",
       "4  Buen producto, tanto para el cuerpo a cuerpo c...  \n",
       "5  Tal y como se describe, simple y efectivo, nos...  \n",
       "6  Cumple su funcion como lubricante con base de ...  \n",
       "7  Fue el primer lubricante que compramos en esta...  \n",
       "8  El lubricante Desliz de agua es indispensable ...  \n",
       "9  Buenisimo lubricante calidad precio, desde que...  "
      ]
     },
     "execution_count": 10,
     "metadata": {},
     "output_type": "execute_result"
    }
   ],
   "source": [
    "query='''SELECT * FROM COMMENT LIMIT (10)'''\n",
    "sql_query(query)"
   ]
  },
  {
   "cell_type": "code",
   "execution_count": 11,
   "metadata": {},
   "outputs": [
    {
     "data": {
      "text/html": [
       "<div>\n",
       "<style scoped>\n",
       "    .dataframe tbody tr th:only-of-type {\n",
       "        vertical-align: middle;\n",
       "    }\n",
       "\n",
       "    .dataframe tbody tr th {\n",
       "        vertical-align: top;\n",
       "    }\n",
       "\n",
       "    .dataframe thead th {\n",
       "        text-align: right;\n",
       "    }\n",
       "</style>\n",
       "<table border=\"1\" class=\"dataframe\">\n",
       "  <thead>\n",
       "    <tr style=\"text-align: right;\">\n",
       "      <th></th>\n",
       "      <th>ID</th>\n",
       "      <th>JUGUETES</th>\n",
       "      <th>MUEBLES</th>\n",
       "      <th>LENCERIA</th>\n",
       "      <th>MASCULINO</th>\n",
       "      <th>FEMININO</th>\n",
       "      <th>ANAL</th>\n",
       "      <th>BDSM</th>\n",
       "      <th>AMENITIES</th>\n",
       "    </tr>\n",
       "  </thead>\n",
       "  <tbody>\n",
       "  </tbody>\n",
       "</table>\n",
       "</div>"
      ],
      "text/plain": [
       "Empty DataFrame\n",
       "Columns: [ID, JUGUETES, MUEBLES, LENCERIA, MASCULINO, FEMININO, ANAL, BDSM, AMENITIES]\n",
       "Index: []"
      ]
     },
     "execution_count": 11,
     "metadata": {},
     "output_type": "execute_result"
    }
   ],
   "source": [
    "query='''SELECT * FROM TAGS LIMIT (10)'''\n",
    "sql_query(query)"
   ]
  },
  {
   "cell_type": "code",
   "execution_count": 12,
   "metadata": {},
   "outputs": [
    {
     "data": {
      "text/html": [
       "<div>\n",
       "<style scoped>\n",
       "    .dataframe tbody tr th:only-of-type {\n",
       "        vertical-align: middle;\n",
       "    }\n",
       "\n",
       "    .dataframe tbody tr th {\n",
       "        vertical-align: top;\n",
       "    }\n",
       "\n",
       "    .dataframe thead th {\n",
       "        text-align: right;\n",
       "    }\n",
       "</style>\n",
       "<table border=\"1\" class=\"dataframe\">\n",
       "  <thead>\n",
       "    <tr style=\"text-align: right;\">\n",
       "      <th></th>\n",
       "      <th>PRODUCT</th>\n",
       "      <th>DATE</th>\n",
       "      <th>USERS</th>\n",
       "      <th>RATIO</th>\n",
       "      <th>COMMENT</th>\n",
       "    </tr>\n",
       "  </thead>\n",
       "  <tbody>\n",
       "    <tr>\n",
       "      <th>0</th>\n",
       "      <td>Desliz! Lubricante íntimo de agua 100ml</td>\n",
       "      <td>jueves 18 mayo, 2023</td>\n",
       "      <td>David</td>\n",
       "      <td>5</td>\n",
       "      <td>Muy recomendable. El bote cunde, hidrata muy b...</td>\n",
       "    </tr>\n",
       "    <tr>\n",
       "      <th>1</th>\n",
       "      <td>Desliz! Lubricante íntimo de agua 100ml</td>\n",
       "      <td>miércoles 12 abril, 2023</td>\n",
       "      <td>Ferran</td>\n",
       "      <td>5</td>\n",
       "      <td>Es la primera vez que compro este lubricante y...</td>\n",
       "    </tr>\n",
       "    <tr>\n",
       "      <th>2</th>\n",
       "      <td>Desliz! Lubricante íntimo de agua 100ml</td>\n",
       "      <td>lunes 10 abril, 2023</td>\n",
       "      <td>Sergio</td>\n",
       "      <td>5</td>\n",
       "      <td>He probado varios tipos de lubricante y este d...</td>\n",
       "    </tr>\n",
       "    <tr>\n",
       "      <th>3</th>\n",
       "      <td>Desliz! Lubricante íntimo de agua 100ml</td>\n",
       "      <td>lunes 23 enero, 2023</td>\n",
       "      <td>Jaime</td>\n",
       "      <td>5</td>\n",
       "      <td>Perfecto para embadurnarte el pincelin y meter...</td>\n",
       "    </tr>\n",
       "    <tr>\n",
       "      <th>4</th>\n",
       "      <td>Desliz! Lubricante íntimo de agua 100ml</td>\n",
       "      <td>miércoles 11 enero, 2023</td>\n",
       "      <td>YASMINA</td>\n",
       "      <td>5</td>\n",
       "      <td>Buen producto, tanto para el cuerpo a cuerpo c...</td>\n",
       "    </tr>\n",
       "    <tr>\n",
       "      <th>5</th>\n",
       "      <td>Desliz! Lubricante íntimo de agua 100ml</td>\n",
       "      <td>jueves 05 enero, 2023</td>\n",
       "      <td>Irene</td>\n",
       "      <td>5</td>\n",
       "      <td>Tal y como se describe, simple y efectivo, nos...</td>\n",
       "    </tr>\n",
       "    <tr>\n",
       "      <th>6</th>\n",
       "      <td>Desliz! Lubricante íntimo de agua 100ml</td>\n",
       "      <td>jueves 22 diciembre, 2022</td>\n",
       "      <td>Marta</td>\n",
       "      <td>4</td>\n",
       "      <td>Cumple su funcion como lubricante con base de ...</td>\n",
       "    </tr>\n",
       "    <tr>\n",
       "      <th>7</th>\n",
       "      <td>Desliz! Lubricante íntimo de agua 100ml</td>\n",
       "      <td>martes 13 diciembre, 2022</td>\n",
       "      <td>Francisco Javier</td>\n",
       "      <td>3</td>\n",
       "      <td>Fue el primer lubricante que compramos en esta...</td>\n",
       "    </tr>\n",
       "    <tr>\n",
       "      <th>8</th>\n",
       "      <td>Desliz! Lubricante íntimo de agua 100ml</td>\n",
       "      <td>domingo 04 diciembre, 2022</td>\n",
       "      <td>Meri</td>\n",
       "      <td>5</td>\n",
       "      <td>El lubricante Desliz de agua es indispensable ...</td>\n",
       "    </tr>\n",
       "    <tr>\n",
       "      <th>9</th>\n",
       "      <td>Desliz! Lubricante íntimo de agua 100ml</td>\n",
       "      <td>domingo 20 noviembre, 2022</td>\n",
       "      <td>Enrique</td>\n",
       "      <td>5</td>\n",
       "      <td>Buenisimo lubricante calidad precio, desde que...</td>\n",
       "    </tr>\n",
       "  </tbody>\n",
       "</table>\n",
       "</div>"
      ],
      "text/plain": [
       "                                   PRODUCT                        DATE  \\\n",
       "0  Desliz! Lubricante íntimo de agua 100ml        jueves 18 mayo, 2023   \n",
       "1  Desliz! Lubricante íntimo de agua 100ml    miércoles 12 abril, 2023   \n",
       "2  Desliz! Lubricante íntimo de agua 100ml        lunes 10 abril, 2023   \n",
       "3  Desliz! Lubricante íntimo de agua 100ml        lunes 23 enero, 2023   \n",
       "4  Desliz! Lubricante íntimo de agua 100ml    miércoles 11 enero, 2023   \n",
       "5  Desliz! Lubricante íntimo de agua 100ml       jueves 05 enero, 2023   \n",
       "6  Desliz! Lubricante íntimo de agua 100ml   jueves 22 diciembre, 2022   \n",
       "7  Desliz! Lubricante íntimo de agua 100ml   martes 13 diciembre, 2022   \n",
       "8  Desliz! Lubricante íntimo de agua 100ml  domingo 04 diciembre, 2022   \n",
       "9  Desliz! Lubricante íntimo de agua 100ml  domingo 20 noviembre, 2022   \n",
       "\n",
       "              USERS  RATIO                                            COMMENT  \n",
       "0             David      5  Muy recomendable. El bote cunde, hidrata muy b...  \n",
       "1            Ferran      5  Es la primera vez que compro este lubricante y...  \n",
       "2            Sergio      5  He probado varios tipos de lubricante y este d...  \n",
       "3             Jaime      5  Perfecto para embadurnarte el pincelin y meter...  \n",
       "4           YASMINA      5  Buen producto, tanto para el cuerpo a cuerpo c...  \n",
       "5             Irene      5  Tal y como se describe, simple y efectivo, nos...  \n",
       "6             Marta      4  Cumple su funcion como lubricante con base de ...  \n",
       "7  Francisco Javier      3  Fue el primer lubricante que compramos en esta...  \n",
       "8              Meri      5  El lubricante Desliz de agua es indispensable ...  \n",
       "9           Enrique      5  Buenisimo lubricante calidad precio, desde que...  "
      ]
     },
     "execution_count": 12,
     "metadata": {},
     "output_type": "execute_result"
    }
   ],
   "source": [
    "query='''SELECT * FROM COMMENTS_PER_PRODUCT LIMIT (10)'''\n",
    "sql_query(query)"
   ]
  },
  {
   "attachments": {},
   "cell_type": "markdown",
   "metadata": {},
   "source": [
    "### Vamos a evaluar los productos en función del descuento que se aplica:"
   ]
  },
  {
   "attachments": {},
   "cell_type": "markdown",
   "metadata": {},
   "source": [
    "#### Estudio sobre los descuentos que se aplican."
   ]
  },
  {
   "cell_type": "code",
   "execution_count": null,
   "metadata": {},
   "outputs": [],
   "source": []
  },
  {
   "attachments": {},
   "cell_type": "markdown",
   "metadata": {},
   "source": [
    "#### Estudio sobre las fechas de los comentarios que se realizan."
   ]
  },
  {
   "cell_type": "code",
   "execution_count": null,
   "metadata": {},
   "outputs": [],
   "source": []
  },
  {
   "attachments": {},
   "cell_type": "markdown",
   "metadata": {},
   "source": [
    "#### Estudio sobre el ratio de los comentarios que se realizan."
   ]
  },
  {
   "cell_type": "code",
   "execution_count": 44,
   "metadata": {},
   "outputs": [
    {
     "data": {
      "image/png": "[encoded data removed]",
      "text/plain": [
       "<Figure size 1000x500 with 1 Axes>"
      ]
     },
     "metadata": {},
     "output_type": "display_data"
    }
   ],
   "source": [
    "plt.figure(figsize=(10,5))\n",
    "query='''SELECT PRODUCT,avg(RATIO) as PROM FROM COMMENTS_PER_PRODUCT group BY PRODUCT ORDER BY avg(RATIO) DESC'''\n",
    "sns.histplot(data=sql_query(query),bins=100)\n",
    "plt.legend(\"\")\n",
    "plt.ylabel(\"Nº PRODUCTOS\")\n",
    "plt.xlabel(\"VALORACION\")\n",
    "plt.title(\"DISTRIBUCION DE RATIOS DE LOS PRODUCTOS\");"
   ]
  },
  {
   "attachments": {},
   "cell_type": "markdown",
   "metadata": {},
   "source": [
    "En general se puede observar que los productos se encuentran entre 4.0 y 5.0. \n",
    "\n",
    "Valores por debajo de 4.0 son anomalos.\n",
    "\n",
    "También se puede ver que principalmente la valoración es 5.0, esto también se puede ver con un describe, donde el último cuartil es todo 5.0"
   ]
  },
  {
   "cell_type": "code",
   "execution_count": 45,
   "metadata": {},
   "outputs": [
    {
     "data": {
      "text/html": [
       "<div>\n",
       "<style scoped>\n",
       "    .dataframe tbody tr th:only-of-type {\n",
       "        vertical-align: middle;\n",
       "    }\n",
       "\n",
       "    .dataframe tbody tr th {\n",
       "        vertical-align: top;\n",
       "    }\n",
       "\n",
       "    .dataframe thead th {\n",
       "        text-align: right;\n",
       "    }\n",
       "</style>\n",
       "<table border=\"1\" class=\"dataframe\">\n",
       "  <thead>\n",
       "    <tr style=\"text-align: right;\">\n",
       "      <th></th>\n",
       "      <th>PROM</th>\n",
       "    </tr>\n",
       "  </thead>\n",
       "  <tbody>\n",
       "    <tr>\n",
       "      <th>count</th>\n",
       "      <td>450.000000</td>\n",
       "    </tr>\n",
       "    <tr>\n",
       "      <th>mean</th>\n",
       "      <td>4.595474</td>\n",
       "    </tr>\n",
       "    <tr>\n",
       "      <th>std</th>\n",
       "      <td>0.573370</td>\n",
       "    </tr>\n",
       "    <tr>\n",
       "      <th>min</th>\n",
       "      <td>1.000000</td>\n",
       "    </tr>\n",
       "    <tr>\n",
       "      <th>25%</th>\n",
       "      <td>4.470588</td>\n",
       "    </tr>\n",
       "    <tr>\n",
       "      <th>50%</th>\n",
       "      <td>4.750000</td>\n",
       "    </tr>\n",
       "    <tr>\n",
       "      <th>75%</th>\n",
       "      <td>5.000000</td>\n",
       "    </tr>\n",
       "    <tr>\n",
       "      <th>max</th>\n",
       "      <td>5.000000</td>\n",
       "    </tr>\n",
       "  </tbody>\n",
       "</table>\n",
       "</div>"
      ],
      "text/plain": [
       "             PROM\n",
       "count  450.000000\n",
       "mean     4.595474\n",
       "std      0.573370\n",
       "min      1.000000\n",
       "25%      4.470588\n",
       "50%      4.750000\n",
       "75%      5.000000\n",
       "max      5.000000"
      ]
     },
     "execution_count": 45,
     "metadata": {},
     "output_type": "execute_result"
    }
   ],
   "source": [
    "sql_query(query).describe()"
   ]
  },
  {
   "attachments": {},
   "cell_type": "markdown",
   "metadata": {},
   "source": [
    "#### Estudio sobre los usuarios de los comentarios que se realizan.\n",
    "\n",
    "En este punto hay que tener en cuenta que tenemos pendiente ahora mismo de generar usuarios distintos cuando se encuentran el mismo usuario dentro del mismo producto, ya que no tiene sentido que sea el mismo usuario y hay que discriminarlo. \n",
    "\n",
    "Lo mejor en este punto sería tener users por nick y que esté no pudiera ser el mismo, ya que permitiría poder discernir la autoridad de cada comentario. "
   ]
  },
  {
   "cell_type": "code",
   "execution_count": null,
   "metadata": {},
   "outputs": [],
   "source": []
  },
  {
   "attachments": {},
   "cell_type": "markdown",
   "metadata": {},
   "source": []
  },
  {
   "attachments": {},
   "cell_type": "markdown",
   "metadata": {},
   "source": [
    "## Cerramos la BBDD."
   ]
  },
  {
   "cell_type": "code",
   "execution_count": 47,
   "metadata": {},
   "outputs": [],
   "source": [
    "conn.commit()\n",
    "cursor.close()\n",
    "conn.close()"
   ]
  }
 ],
 "metadata": {
  "kernelspec": {
   "display_name": "Python 3",
   "language": "python",
   "name": "python3"
  },
  "language_info": {
   "codemirror_mode": {
    "name": "ipython",
    "version": 3
   },
   "file_extension": ".py",
   "mimetype": "text/x-python",
   "name": "python",
   "nbconvert_exporter": "python",
   "pygments_lexer": "ipython3",
   "version": "3.10.11"
  },
  "orig_nbformat": 4
 },
 "nbformat": 4,
 "nbformat_minor": 2
}
