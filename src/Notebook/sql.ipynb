{
 "cells": [
  {
   "attachments": {},
   "cell_type": "markdown",
   "metadata": {},
   "source": [
    "# Almacenamiento de datos"
   ]
  },
  {
   "attachments": {},
   "cell_type": "markdown",
   "metadata": {},
   "source": [
    "## Introducción\n",
    "\n",
    "Vamos a generar una BBDD Relacional para el almacenamiento de los registros que hemos obtenido hasta ahora.\n",
    "\n",
    "En este momento del proyecto (mayo/23) prepararemos una base de datos con 2 Tablas y posteriormente generaremos una tercera tabla con las variables que habremos generado en el notebook de Engineering para generar #tags. "
   ]
  },
  {
   "attachments": {},
   "cell_type": "markdown",
   "metadata": {},
   "source": [
    "## Librerías"
   ]
  },
  {
   "cell_type": "code",
   "execution_count": 1,
   "metadata": {},
   "outputs": [],
   "source": [
    "import pandas as pd\n",
    "import numpy as np\n",
    "import os\n",
    "from datetime import datetime\n",
    "import sqlite3\n",
    "import matplotlib.pyplot as plt\n",
    "import seaborn as sns\n",
    "# import mysql.connector\n"
   ]
  },
  {
   "cell_type": "code",
   "execution_count": 3,
   "metadata": {},
   "outputs": [
    {
     "data": {
      "text/plain": [
       "'d:\\\\Data_science\\\\Javier\\\\Repositorios\\\\Proyecto_tienda_online\\\\src'"
      ]
     },
     "execution_count": 3,
     "metadata": {},
     "output_type": "execute_result"
    }
   ],
   "source": [
    "os.chdir(os.path.split(os.getcwd())[0])\n",
    "folder=os.getcwd()\n",
    "folder"
   ]
  },
  {
   "attachments": {},
   "cell_type": "markdown",
   "metadata": {},
   "source": [
    "## Estructuras de la BBDD"
   ]
  },
  {
   "attachments": {},
   "cell_type": "markdown",
   "metadata": {},
   "source": [
    "![Estructura_tablas](../Resources/image/Relacion_tablas.jpg)"
   ]
  },
  {
   "attachments": {},
   "cell_type": "markdown",
   "metadata": {},
   "source": [
    "### a.- Realizando la conexión a la Base de Datos."
   ]
  },
  {
   "cell_type": "code",
   "execution_count": 4,
   "metadata": {},
   "outputs": [],
   "source": [
    "# Conectamos con la base de datos\n",
    "conn = sqlite3.connect(\"Data/online_shop.db\")\n",
    "\n",
    "# Obtenemos un cursor que utilizaremos para hacer las queries\n",
    "cursor = conn.cursor()"
   ]
  },
  {
   "attachments": {},
   "cell_type": "markdown",
   "metadata": {},
   "source": [
    "### b.- Funciones para obtener datos y ver en un dataframe"
   ]
  },
  {
   "cell_type": "code",
   "execution_count": 5,
   "metadata": {},
   "outputs": [],
   "source": [
    "# Con esta función leemos los datos y lo pasamos a un DataFrame de Pandas\n",
    "def sql_query(query):\n",
    "\n",
    "    # Ejecuta la query\n",
    "    cursor.execute(query)\n",
    "\n",
    "    # Almacena los datos de la query \n",
    "    ans = cursor.fetchall()\n",
    "\n",
    "    # Obtenemos los nombres de las columnas de la tabla\n",
    "    names = [description[0] for description in cursor.description]\n",
    "\n",
    "    return pd.DataFrame(ans,columns=names)"
   ]
  },
  {
   "attachments": {},
   "cell_type": "markdown",
   "metadata": {},
   "source": [
    "## 1. Construyendo la BBDD"
   ]
  },
  {
   "cell_type": "code",
   "execution_count": 14,
   "metadata": {},
   "outputs": [
    {
     "name": "stdout",
     "output_type": "stream",
     "text": [
      "PRODUCT\n",
      "COMMENT\n",
      "TAGS\n"
     ]
    }
   ],
   "source": [
    "res = cursor.execute(\"SELECT name FROM sqlite_master WHERE type='table'\")\n",
    "# res = cursor.execute(\"SELECT name FROM sqlite_master WHERE type='view'\")\n",
    "for name in res:\n",
    "    print(name[0])"
   ]
  },
  {
   "attachments": {},
   "cell_type": "markdown",
   "metadata": {},
   "source": [
    "#### PRODUCT"
   ]
  },
  {
   "cell_type": "code",
   "execution_count": 7,
   "metadata": {},
   "outputs": [
    {
     "data": {
      "text/plain": [
       "<sqlite3.Cursor at 0x258e6d41940>"
      ]
     },
     "execution_count": 7,
     "metadata": {},
     "output_type": "execute_result"
    }
   ],
   "source": [
    "query = '''\n",
    "CREATE TABLE PRODUCT  (\n",
    "    ID VARCHAR (3),\n",
    "    PRODUCT VARCHAR (100),\n",
    "    SLOGAN VARCHAR (100),\n",
    "    DESCRIPTION VARCHAR (250),\n",
    "    CHARACTERISTICS VARCHAR (250),\n",
    "    LISTA_URL VARCHAR (50),\n",
    "    REGULAR_PRICE INT (3),\n",
    "    DISCOUNT_PRICE INT (3),\n",
    "    PRIMARY KEY (ID)\n",
    ")\n",
    "\n",
    "'''\n",
    "\n",
    "\n",
    "cursor.execute(query)"
   ]
  },
  {
   "attachments": {},
   "cell_type": "markdown",
   "metadata": {},
   "source": [
    "#### COMMENTS"
   ]
  },
  {
   "cell_type": "code",
   "execution_count": 8,
   "metadata": {},
   "outputs": [
    {
     "data": {
      "text/plain": [
       "<sqlite3.Cursor at 0x258e6d41940>"
      ]
     },
     "execution_count": 8,
     "metadata": {},
     "output_type": "execute_result"
    }
   ],
   "source": [
    "query = '''\n",
    "CREATE TABLE COMMENT  (\n",
    "    ID_COMMENT VARCHAR (5),\n",
    "    ID_PRODUCT VARCHAR (3),\n",
    "    DATE DATETIME (100),\n",
    "    RATIO INT (2),\n",
    "    USERS VARCHAR (50),\n",
    "    COMMENT VARCHAR (250), \n",
    "    PRIMARY KEY (ID_COMMENT),\n",
    "    FOREIGN KEY (ID_PRODUCT) REFERENCES PRODUCT (ID)\n",
    ")\n",
    "\n",
    "'''\n",
    "\n",
    "cursor.execute(query)"
   ]
  },
  {
   "attachments": {},
   "cell_type": "markdown",
   "metadata": {},
   "source": [
    "#### TAGS"
   ]
  },
  {
   "cell_type": "code",
   "execution_count": 9,
   "metadata": {},
   "outputs": [
    {
     "data": {
      "text/plain": [
       "<sqlite3.Cursor at 0x258e6d41940>"
      ]
     },
     "execution_count": 9,
     "metadata": {},
     "output_type": "execute_result"
    }
   ],
   "source": [
    "query = '''\n",
    "CREATE TABLE TAGS  (\n",
    "    ID VARCHAR (3),\n",
    "    JUGUETES INT(1),\n",
    "    MUEBLES INT(1),\n",
    "    LENCERIA INT(1),\n",
    "    MASCULINO INT(1),\n",
    "    FEMININO INT(1),\n",
    "    ANAL INT(1),\n",
    "    BDSM INT(1),\n",
    "    AMENITIES INT(1),\n",
    "    PRIMARY KEY (ID),\n",
    "    FOREIGN KEY (ID) REFERENCES PRODUCT (ID)\n",
    ")\n",
    "\n",
    "'''\n",
    "\n",
    "# En esta tabla hay que convertir primeramente los booleanos en 0 y 1 para guardarla.\n",
    "# También es importante tener esto en cuenta a la hora de extraer la información.\n",
    "cursor.execute(query)"
   ]
  },
  {
   "attachments": {},
   "cell_type": "markdown",
   "metadata": {},
   "source": [
    "### b.- Cargando los datos dentro de la BBDD"
   ]
  },
  {
   "cell_type": "code",
   "execution_count": 10,
   "metadata": {},
   "outputs": [
    {
     "name": "stdout",
     "output_type": "stream",
     "text": [
      "Long. dataframe 8\n"
     ]
    },
    {
     "data": {
      "text/html": [
       "<div>\n",
       "<style scoped>\n",
       "    .dataframe tbody tr th:only-of-type {\n",
       "        vertical-align: middle;\n",
       "    }\n",
       "\n",
       "    .dataframe tbody tr th {\n",
       "        vertical-align: top;\n",
       "    }\n",
       "\n",
       "    .dataframe thead th {\n",
       "        text-align: right;\n",
       "    }\n",
       "</style>\n",
       "<table border=\"1\" class=\"dataframe\">\n",
       "  <thead>\n",
       "    <tr style=\"text-align: right;\">\n",
       "      <th></th>\n",
       "      <th>ID</th>\n",
       "      <th>PRODUCT</th>\n",
       "      <th>SLOGAN</th>\n",
       "      <th>DESCRIPTION</th>\n",
       "      <th>CHARACTERISTICS</th>\n",
       "      <th>LISTA_URL</th>\n",
       "      <th>REGULAR_PRICE</th>\n",
       "      <th>DISCOUNT_PRICE</th>\n",
       "    </tr>\n",
       "  </thead>\n",
       "  <tbody>\n",
       "    <tr>\n",
       "      <th>0</th>\n",
       "      <td>0</td>\n",
       "      <td>MASABOOM</td>\n",
       "      <td>El gran masajeador sexual</td>\n",
       "      <td>Este es el juguete para todas, todos y todes. ...</td>\n",
       "      <td>Masajeador con forma de micrófonoMaterial: sil...</td>\n",
       "      <td>https://www.amantis.net/masaboom-el-gran-masaj...</td>\n",
       "      <td>69.99</td>\n",
       "      <td>39.99</td>\n",
       "    </tr>\n",
       "    <tr>\n",
       "      <th>1</th>\n",
       "      <td>1</td>\n",
       "      <td>MASSAJI</td>\n",
       "      <td>Potente masajeador japonés sumergible de silicona</td>\n",
       "      <td>¿Quieres una velada perfecta tras un largo día...</td>\n",
       "      <td>Masajeador Japonés Massaji Material: Silicona ...</td>\n",
       "      <td>https://www.amantis.net/massaji-potente-masaje...</td>\n",
       "      <td>99.99</td>\n",
       "      <td>44.99</td>\n",
       "    </tr>\n",
       "    <tr>\n",
       "      <th>2</th>\n",
       "      <td>2</td>\n",
       "      <td>DIGIT PRO</td>\n",
       "      <td>dedal vibrador con sujeción</td>\n",
       "      <td>Los dedos siempre han sido grandes aliados de ...</td>\n",
       "      <td>Dedal vibradorMaterial: silicona de grado médi...</td>\n",
       "      <td>https://www.amantis.net/digit-pro-dedal-vibrad...</td>\n",
       "      <td>79.99</td>\n",
       "      <td>29.99</td>\n",
       "    </tr>\n",
       "    <tr>\n",
       "      <th>3</th>\n",
       "      <td>3</td>\n",
       "      <td>MINI CARNIVAL</td>\n",
       "      <td>mini_masajeador con cuatro cabezales</td>\n",
       "      <td>¿Conoces a MINI+? Puse hoy es tu día de suerte...</td>\n",
       "      <td>Mini masajeador con cuatro cabezalesCabezales ...</td>\n",
       "      <td>https://www.amantis.net/mini-carnival-mini-mas...</td>\n",
       "      <td>34.99</td>\n",
       "      <td>17.99</td>\n",
       "    </tr>\n",
       "    <tr>\n",
       "      <th>4</th>\n",
       "      <td>4</td>\n",
       "      <td>LINGÜS</td>\n",
       "      <td>Vibrador para Sexo Oral de amantis</td>\n",
       "      <td>Milenios de sabiduría en el arte del cunniling...</td>\n",
       "      <td>Material: silicona + abs10 modos de vibraciónT...</td>\n",
       "      <td>https://www.amantis.net/lingus-vibrador-sexo-o...</td>\n",
       "      <td>79.99</td>\n",
       "      <td>59.99</td>\n",
       "    </tr>\n",
       "  </tbody>\n",
       "</table>\n",
       "</div>"
      ],
      "text/plain": [
       "   ID        PRODUCT                                             SLOGAN  \\\n",
       "0   0       MASABOOM                          El gran masajeador sexual   \n",
       "1   1        MASSAJI  Potente masajeador japonés sumergible de silicona   \n",
       "2   2      DIGIT PRO                        dedal vibrador con sujeción   \n",
       "3   3  MINI CARNIVAL               mini_masajeador con cuatro cabezales   \n",
       "4   4         LINGÜS                 Vibrador para Sexo Oral de amantis   \n",
       "\n",
       "                                         DESCRIPTION  \\\n",
       "0  Este es el juguete para todas, todos y todes. ...   \n",
       "1  ¿Quieres una velada perfecta tras un largo día...   \n",
       "2  Los dedos siempre han sido grandes aliados de ...   \n",
       "3  ¿Conoces a MINI+? Puse hoy es tu día de suerte...   \n",
       "4  Milenios de sabiduría en el arte del cunniling...   \n",
       "\n",
       "                                     CHARACTERISTICS  \\\n",
       "0  Masajeador con forma de micrófonoMaterial: sil...   \n",
       "1  Masajeador Japonés Massaji Material: Silicona ...   \n",
       "2  Dedal vibradorMaterial: silicona de grado médi...   \n",
       "3  Mini masajeador con cuatro cabezalesCabezales ...   \n",
       "4  Material: silicona + abs10 modos de vibraciónT...   \n",
       "\n",
       "                                           LISTA_URL  REGULAR_PRICE  \\\n",
       "0  https://www.amantis.net/masaboom-el-gran-masaj...          69.99   \n",
       "1  https://www.amantis.net/massaji-potente-masaje...          99.99   \n",
       "2  https://www.amantis.net/digit-pro-dedal-vibrad...          79.99   \n",
       "3  https://www.amantis.net/mini-carnival-mini-mas...          34.99   \n",
       "4  https://www.amantis.net/lingus-vibrador-sexo-o...          79.99   \n",
       "\n",
       "   DISCOUNT_PRICE  \n",
       "0           39.99  \n",
       "1           44.99  \n",
       "2           29.99  \n",
       "3           17.99  \n",
       "4           59.99  "
      ]
     },
     "execution_count": 10,
     "metadata": {},
     "output_type": "execute_result"
    }
   ],
   "source": [
    "df_products=pd.read_csv(r'Data\\productos.csv')\n",
    "print(\"Long. dataframe\",len(df_products.columns))\n",
    "df_products.head()"
   ]
  },
  {
   "cell_type": "code",
   "execution_count": 208,
   "metadata": {},
   "outputs": [
    {
     "name": "stdout",
     "output_type": "stream",
     "text": [
      "<class 'pandas.core.frame.DataFrame'>\n",
      "RangeIndex: 10479 entries, 0 to 10478\n",
      "Data columns (total 6 columns):\n",
      " #   Column      Non-Null Count  Dtype \n",
      "---  ------      --------------  ----- \n",
      " 0   ID_COMMENT  10479 non-null  int64 \n",
      " 1   ID_PRODUCT  10479 non-null  int64 \n",
      " 2   DATE        10479 non-null  object\n",
      " 3   RATIO       10479 non-null  int64 \n",
      " 4   USERS       10469 non-null  object\n",
      " 5   COMMENT     10479 non-null  object\n",
      "dtypes: int64(3), object(3)\n",
      "memory usage: 491.3+ KB\n"
     ]
    }
   ],
   "source": [
    "df_comments=pd.read_csv(r'Data\\comentarios.csv',index_col=False)\n",
    "# print(\"Long. dataframe\",len(df_comments.columns))\n",
    "df_comments.rename(columns={\"ID\":\"ID_PRODUCT\",\"Unnamed: 0\":\"ID_COMMENT\"},inplace=True)\n",
    "# df_comments.drop(columns=['DAY','MONTH','YEAR'],inplace=True)                     # Aplicar en el caso que no hayamos eliminado las columnas de YEAR, MONTH y DAY\n",
    "# Me falta pasar DATE nuevamente a DATETIME\n",
    "df_comments.info()"
   ]
  },
  {
   "cell_type": "code",
   "execution_count": 13,
   "metadata": {},
   "outputs": [
    {
     "data": {
      "text/plain": [
       "<sqlite3.Cursor at 0x258e6d41940>"
      ]
     },
     "execution_count": 13,
     "metadata": {},
     "output_type": "execute_result"
    }
   ],
   "source": [
    "lista_products= df_products.values.tolist()                                                #   Pasamos a lista el dataframe\n",
    "\n",
    "cursor.executemany(\"INSERT INTO PRODUCT VALUES (?,?,?,?,?,?,?,?)\", lista_products)           #   Salvamos directamente todos los datos en la tabla PRODUCTS\n",
    "\n",
    "lista_comments= df_comments.values.tolist()                                                #   Pasamos a lista el dataframe\n",
    "\n",
    "cursor.executemany(\"INSERT INTO COMMENT VALUES (?,?,?,?,?,?)\", lista_comments)                 #   Salvamos directamente todos los datos en la tabla COMMENTS"
   ]
  },
  {
   "attachments": {},
   "cell_type": "markdown",
   "metadata": {},
   "source": [
    "### Generamos las *views* oportunas para el tratamiento de los datos. "
   ]
  },
  {
   "cell_type": "code",
   "execution_count": 15,
   "metadata": {},
   "outputs": [
    {
     "data": {
      "text/plain": [
       "<sqlite3.Cursor at 0x258e6d41940>"
      ]
     },
     "execution_count": 15,
     "metadata": {},
     "output_type": "execute_result"
    }
   ],
   "source": [
    "view='''CREATE VIEW COMMENTS_PER_PRODUCT AS SELECT PRODUCT.PRODUCT,COMMENT.DATE,COMMENT.USERS,COMMENT.RATIO ,COMMENT.COMMENT FROM COMMENT JOIN PRODUCT ON PRODUCT.ID=COMMENT.ID_PRODUCT'''\n",
    "cursor.execute(view)"
   ]
  },
  {
   "cell_type": "code",
   "execution_count": null,
   "metadata": {},
   "outputs": [],
   "source": [
    "conn.commit()\n",
    "cursor.close()\n",
    "conn.close()"
   ]
  },
  {
   "attachments": {},
   "cell_type": "markdown",
   "metadata": {},
   "source": [
    "## 2. Realizando consultas para visualizar datos."
   ]
  },
  {
   "attachments": {},
   "cell_type": "markdown",
   "metadata": {},
   "source": [
    "Vamos a verificar los datos cargados visualizando los 10 primeros registros en cada TABLA"
   ]
  },
  {
   "cell_type": "code",
   "execution_count": 16,
   "metadata": {},
   "outputs": [
    {
     "data": {
      "text/html": [
       "<div>\n",
       "<style scoped>\n",
       "    .dataframe tbody tr th:only-of-type {\n",
       "        vertical-align: middle;\n",
       "    }\n",
       "\n",
       "    .dataframe tbody tr th {\n",
       "        vertical-align: top;\n",
       "    }\n",
       "\n",
       "    .dataframe thead th {\n",
       "        text-align: right;\n",
       "    }\n",
       "</style>\n",
       "<table border=\"1\" class=\"dataframe\">\n",
       "  <thead>\n",
       "    <tr style=\"text-align: right;\">\n",
       "      <th></th>\n",
       "      <th>ID</th>\n",
       "      <th>PRODUCT</th>\n",
       "      <th>SLOGAN</th>\n",
       "      <th>DESCRIPTION</th>\n",
       "      <th>CHARACTERISTICS</th>\n",
       "      <th>LISTA_URL</th>\n",
       "      <th>REGULAR_PRICE</th>\n",
       "      <th>DISCOUNT_PRICE</th>\n",
       "    </tr>\n",
       "  </thead>\n",
       "  <tbody>\n",
       "    <tr>\n",
       "      <th>0</th>\n",
       "      <td>0</td>\n",
       "      <td>MASABOOM</td>\n",
       "      <td>El gran masajeador sexual</td>\n",
       "      <td>Este es el juguete para todas, todos y todes. ...</td>\n",
       "      <td>Masajeador con forma de micrófonoMaterial: sil...</td>\n",
       "      <td>https://www.amantis.net/masaboom-el-gran-masaj...</td>\n",
       "      <td>69.99</td>\n",
       "      <td>39.99</td>\n",
       "    </tr>\n",
       "    <tr>\n",
       "      <th>1</th>\n",
       "      <td>1</td>\n",
       "      <td>MASSAJI</td>\n",
       "      <td>Potente masajeador japonés sumergible de silicona</td>\n",
       "      <td>¿Quieres una velada perfecta tras un largo día...</td>\n",
       "      <td>Masajeador Japonés Massaji Material: Silicona ...</td>\n",
       "      <td>https://www.amantis.net/massaji-potente-masaje...</td>\n",
       "      <td>99.99</td>\n",
       "      <td>44.99</td>\n",
       "    </tr>\n",
       "    <tr>\n",
       "      <th>2</th>\n",
       "      <td>2</td>\n",
       "      <td>DIGIT PRO</td>\n",
       "      <td>dedal vibrador con sujeción</td>\n",
       "      <td>Los dedos siempre han sido grandes aliados de ...</td>\n",
       "      <td>Dedal vibradorMaterial: silicona de grado médi...</td>\n",
       "      <td>https://www.amantis.net/digit-pro-dedal-vibrad...</td>\n",
       "      <td>79.99</td>\n",
       "      <td>29.99</td>\n",
       "    </tr>\n",
       "    <tr>\n",
       "      <th>3</th>\n",
       "      <td>3</td>\n",
       "      <td>MINI CARNIVAL</td>\n",
       "      <td>mini_masajeador con cuatro cabezales</td>\n",
       "      <td>¿Conoces a MINI+? Puse hoy es tu día de suerte...</td>\n",
       "      <td>Mini masajeador con cuatro cabezalesCabezales ...</td>\n",
       "      <td>https://www.amantis.net/mini-carnival-mini-mas...</td>\n",
       "      <td>34.99</td>\n",
       "      <td>17.99</td>\n",
       "    </tr>\n",
       "    <tr>\n",
       "      <th>4</th>\n",
       "      <td>4</td>\n",
       "      <td>LINGÜS</td>\n",
       "      <td>Vibrador para Sexo Oral de amantis</td>\n",
       "      <td>Milenios de sabiduría en el arte del cunniling...</td>\n",
       "      <td>Material: silicona + abs10 modos de vibraciónT...</td>\n",
       "      <td>https://www.amantis.net/lingus-vibrador-sexo-o...</td>\n",
       "      <td>79.99</td>\n",
       "      <td>59.99</td>\n",
       "    </tr>\n",
       "    <tr>\n",
       "      <th>5</th>\n",
       "      <td>5</td>\n",
       "      <td>MASAJE SEXY con 8 programas</td>\n",
       "      <td>potente masaje mágico de 220v</td>\n",
       "      <td>Probablemente el masajeador más potente que pu...</td>\n",
       "      <td>• Incluye cable extra largo de 3.5 metros  ...</td>\n",
       "      <td>https://www.amantis.net/masaje-sexy-8-programa...</td>\n",
       "      <td>69.99</td>\n",
       "      <td>37.99</td>\n",
       "    </tr>\n",
       "    <tr>\n",
       "      <th>6</th>\n",
       "      <td>6</td>\n",
       "      <td>MINI+ de amantis</td>\n",
       "      <td>minimasajeador sumergible con 5 cabezales</td>\n",
       "      <td>Por fin el clásico mini masajeador que ha dado...</td>\n",
       "      <td>•  Longitud 10 cm, 2.5cm diámetro de contac...</td>\n",
       "      <td>https://www.amantis.net/mini-amantis-minimasaj...</td>\n",
       "      <td>17.99</td>\n",
       "      <td>6.99</td>\n",
       "    </tr>\n",
       "    <tr>\n",
       "      <th>7</th>\n",
       "      <td>7</td>\n",
       "      <td>MINI MASSAJI</td>\n",
       "      <td>masajeador corporal portátil super potente</td>\n",
       "      <td>Está clarísimo que el masaje por vibración apo...</td>\n",
       "      <td>Medidas: 11cm de largo y 4 cm de ancho.Materia...</td>\n",
       "      <td>https://www.amantis.net/mini-massaji-masajeado...</td>\n",
       "      <td>59.99</td>\n",
       "      <td>24.99</td>\n",
       "    </tr>\n",
       "    <tr>\n",
       "      <th>8</th>\n",
       "      <td>8</td>\n",
       "      <td>PURE WAND</td>\n",
       "      <td>Sofisticada varita vibradora de metal dorada</td>\n",
       "      <td>Antes muertas que sencillas, antes muertas que...</td>\n",
       "      <td>Varita  Metálica vibradora1,85 cm de diámetro,...</td>\n",
       "      <td>https://www.amantis.net/pure-wand-varita-vibra...</td>\n",
       "      <td>44.99</td>\n",
       "      <td>26.99</td>\n",
       "    </tr>\n",
       "    <tr>\n",
       "      <th>9</th>\n",
       "      <td>9</td>\n",
       "      <td>MAX WAND el masajeador sexual más grande y pod...</td>\n",
       "      <td>None</td>\n",
       "      <td>Que te duela algo ya no es excusa para no tene...</td>\n",
       "      <td>Masajeador de silicona médica y ABS libre de f...</td>\n",
       "      <td>https://www.amantis.net/max-wand-el-masajeador...</td>\n",
       "      <td>149.99</td>\n",
       "      <td>79.99</td>\n",
       "    </tr>\n",
       "  </tbody>\n",
       "</table>\n",
       "</div>"
      ],
      "text/plain": [
       "  ID                                            PRODUCT  \\\n",
       "0  0                                           MASABOOM   \n",
       "1  1                                            MASSAJI   \n",
       "2  2                                          DIGIT PRO   \n",
       "3  3                                      MINI CARNIVAL   \n",
       "4  4                                             LINGÜS   \n",
       "5  5                        MASAJE SEXY con 8 programas   \n",
       "6  6                                   MINI+ de amantis   \n",
       "7  7                                       MINI MASSAJI   \n",
       "8  8                                          PURE WAND   \n",
       "9  9  MAX WAND el masajeador sexual más grande y pod...   \n",
       "\n",
       "                                              SLOGAN  \\\n",
       "0                          El gran masajeador sexual   \n",
       "1  Potente masajeador japonés sumergible de silicona   \n",
       "2                        dedal vibrador con sujeción   \n",
       "3               mini_masajeador con cuatro cabezales   \n",
       "4                 Vibrador para Sexo Oral de amantis   \n",
       "5                      potente masaje mágico de 220v   \n",
       "6          minimasajeador sumergible con 5 cabezales   \n",
       "7         masajeador corporal portátil super potente   \n",
       "8       Sofisticada varita vibradora de metal dorada   \n",
       "9                                               None   \n",
       "\n",
       "                                         DESCRIPTION  \\\n",
       "0  Este es el juguete para todas, todos y todes. ...   \n",
       "1  ¿Quieres una velada perfecta tras un largo día...   \n",
       "2  Los dedos siempre han sido grandes aliados de ...   \n",
       "3  ¿Conoces a MINI+? Puse hoy es tu día de suerte...   \n",
       "4  Milenios de sabiduría en el arte del cunniling...   \n",
       "5  Probablemente el masajeador más potente que pu...   \n",
       "6  Por fin el clásico mini masajeador que ha dado...   \n",
       "7  Está clarísimo que el masaje por vibración apo...   \n",
       "8  Antes muertas que sencillas, antes muertas que...   \n",
       "9  Que te duela algo ya no es excusa para no tene...   \n",
       "\n",
       "                                     CHARACTERISTICS  \\\n",
       "0  Masajeador con forma de micrófonoMaterial: sil...   \n",
       "1  Masajeador Japonés Massaji Material: Silicona ...   \n",
       "2  Dedal vibradorMaterial: silicona de grado médi...   \n",
       "3  Mini masajeador con cuatro cabezalesCabezales ...   \n",
       "4  Material: silicona + abs10 modos de vibraciónT...   \n",
       "5     • Incluye cable extra largo de 3.5 metros  ...   \n",
       "6     •  Longitud 10 cm, 2.5cm diámetro de contac...   \n",
       "7  Medidas: 11cm de largo y 4 cm de ancho.Materia...   \n",
       "8  Varita  Metálica vibradora1,85 cm de diámetro,...   \n",
       "9  Masajeador de silicona médica y ABS libre de f...   \n",
       "\n",
       "                                           LISTA_URL  REGULAR_PRICE  \\\n",
       "0  https://www.amantis.net/masaboom-el-gran-masaj...          69.99   \n",
       "1  https://www.amantis.net/massaji-potente-masaje...          99.99   \n",
       "2  https://www.amantis.net/digit-pro-dedal-vibrad...          79.99   \n",
       "3  https://www.amantis.net/mini-carnival-mini-mas...          34.99   \n",
       "4  https://www.amantis.net/lingus-vibrador-sexo-o...          79.99   \n",
       "5  https://www.amantis.net/masaje-sexy-8-programa...          69.99   \n",
       "6  https://www.amantis.net/mini-amantis-minimasaj...          17.99   \n",
       "7  https://www.amantis.net/mini-massaji-masajeado...          59.99   \n",
       "8  https://www.amantis.net/pure-wand-varita-vibra...          44.99   \n",
       "9  https://www.amantis.net/max-wand-el-masajeador...         149.99   \n",
       "\n",
       "   DISCOUNT_PRICE  \n",
       "0           39.99  \n",
       "1           44.99  \n",
       "2           29.99  \n",
       "3           17.99  \n",
       "4           59.99  \n",
       "5           37.99  \n",
       "6            6.99  \n",
       "7           24.99  \n",
       "8           26.99  \n",
       "9           79.99  "
      ]
     },
     "execution_count": 16,
     "metadata": {},
     "output_type": "execute_result"
    }
   ],
   "source": [
    "query='''SELECT * FROM PRODUCT LIMIT (10)'''\n",
    "sql_query(query)"
   ]
  },
  {
   "cell_type": "code",
   "execution_count": 17,
   "metadata": {},
   "outputs": [
    {
     "data": {
      "text/html": [
       "<div>\n",
       "<style scoped>\n",
       "    .dataframe tbody tr th:only-of-type {\n",
       "        vertical-align: middle;\n",
       "    }\n",
       "\n",
       "    .dataframe tbody tr th {\n",
       "        vertical-align: top;\n",
       "    }\n",
       "\n",
       "    .dataframe thead th {\n",
       "        text-align: right;\n",
       "    }\n",
       "</style>\n",
       "<table border=\"1\" class=\"dataframe\">\n",
       "  <thead>\n",
       "    <tr style=\"text-align: right;\">\n",
       "      <th></th>\n",
       "      <th>ID_COMMENT</th>\n",
       "      <th>ID_PRODUCT</th>\n",
       "      <th>DATE</th>\n",
       "      <th>RATIO</th>\n",
       "      <th>USERS</th>\n",
       "      <th>COMMENT</th>\n",
       "    </tr>\n",
       "  </thead>\n",
       "  <tbody>\n",
       "    <tr>\n",
       "      <th>0</th>\n",
       "      <td>0</td>\n",
       "      <td>1</td>\n",
       "      <td>2023-01-25</td>\n",
       "      <td>5</td>\n",
       "      <td>Sara</td>\n",
       "      <td>Es un vibrador discreto y eficaz. Es uno de mi...</td>\n",
       "    </tr>\n",
       "    <tr>\n",
       "      <th>1</th>\n",
       "      <td>1</td>\n",
       "      <td>1</td>\n",
       "      <td>2023-01-09</td>\n",
       "      <td>5</td>\n",
       "      <td>Jesús</td>\n",
       "      <td>el vibrador de cabecera de mi mujer. Después d...</td>\n",
       "    </tr>\n",
       "    <tr>\n",
       "      <th>2</th>\n",
       "      <td>2</td>\n",
       "      <td>1</td>\n",
       "      <td>2022-12-10</td>\n",
       "      <td>3</td>\n",
       "      <td>Sara</td>\n",
       "      <td>Tenía uno de otra tienda y compré este porque ...</td>\n",
       "    </tr>\n",
       "    <tr>\n",
       "      <th>3</th>\n",
       "      <td>3</td>\n",
       "      <td>1</td>\n",
       "      <td>2022-10-04</td>\n",
       "      <td>5</td>\n",
       "      <td>Sara</td>\n",
       "      <td>Es una buena compra. Muy agradable, con difere...</td>\n",
       "    </tr>\n",
       "    <tr>\n",
       "      <th>4</th>\n",
       "      <td>4</td>\n",
       "      <td>1</td>\n",
       "      <td>2022-07-07</td>\n",
       "      <td>5</td>\n",
       "      <td>Álvaro</td>\n",
       "      <td>Buen juguete más centrado en los precalentamie...</td>\n",
       "    </tr>\n",
       "    <tr>\n",
       "      <th>5</th>\n",
       "      <td>5</td>\n",
       "      <td>1</td>\n",
       "      <td>2022-06-24</td>\n",
       "      <td>5</td>\n",
       "      <td>Yenifer</td>\n",
       "      <td>Mi juguete de cabecera. Siempre a mano en mi m...</td>\n",
       "    </tr>\n",
       "    <tr>\n",
       "      <th>6</th>\n",
       "      <td>6</td>\n",
       "      <td>1</td>\n",
       "      <td>2022-05-05</td>\n",
       "      <td>5</td>\n",
       "      <td>Mirian</td>\n",
       "      <td>Es genial! Llevaba tiempo con ganas de algo as...</td>\n",
       "    </tr>\n",
       "    <tr>\n",
       "      <th>7</th>\n",
       "      <td>7</td>\n",
       "      <td>1</td>\n",
       "      <td>2022-01-12</td>\n",
       "      <td>5</td>\n",
       "      <td>Paula</td>\n",
       "      <td>¡Una maravilla! Como estimulación externa pued...</td>\n",
       "    </tr>\n",
       "    <tr>\n",
       "      <th>8</th>\n",
       "      <td>8</td>\n",
       "      <td>1</td>\n",
       "      <td>2022-01-03</td>\n",
       "      <td>5</td>\n",
       "      <td>María</td>\n",
       "      <td>Conocí este juguete gracias a las recomendacio...</td>\n",
       "    </tr>\n",
       "    <tr>\n",
       "      <th>9</th>\n",
       "      <td>9</td>\n",
       "      <td>1</td>\n",
       "      <td>2021-08-25</td>\n",
       "      <td>5</td>\n",
       "      <td>María de Nieves</td>\n",
       "      <td>Fabuloso. rnPotente pero no molesto.rnMás pequ...</td>\n",
       "    </tr>\n",
       "  </tbody>\n",
       "</table>\n",
       "</div>"
      ],
      "text/plain": [
       "  ID_COMMENT ID_PRODUCT        DATE  RATIO            USERS  \\\n",
       "0          0          1  2023-01-25      5             Sara   \n",
       "1          1          1  2023-01-09      5            Jesús   \n",
       "2          2          1  2022-12-10      3             Sara   \n",
       "3          3          1  2022-10-04      5             Sara   \n",
       "4          4          1  2022-07-07      5           Álvaro   \n",
       "5          5          1  2022-06-24      5          Yenifer   \n",
       "6          6          1  2022-05-05      5           Mirian   \n",
       "7          7          1  2022-01-12      5            Paula   \n",
       "8          8          1  2022-01-03      5            María   \n",
       "9          9          1  2021-08-25      5  María de Nieves   \n",
       "\n",
       "                                             COMMENT  \n",
       "0  Es un vibrador discreto y eficaz. Es uno de mi...  \n",
       "1  el vibrador de cabecera de mi mujer. Después d...  \n",
       "2  Tenía uno de otra tienda y compré este porque ...  \n",
       "3  Es una buena compra. Muy agradable, con difere...  \n",
       "4  Buen juguete más centrado en los precalentamie...  \n",
       "5  Mi juguete de cabecera. Siempre a mano en mi m...  \n",
       "6  Es genial! Llevaba tiempo con ganas de algo as...  \n",
       "7  ¡Una maravilla! Como estimulación externa pued...  \n",
       "8  Conocí este juguete gracias a las recomendacio...  \n",
       "9  Fabuloso. rnPotente pero no molesto.rnMás pequ...  "
      ]
     },
     "execution_count": 17,
     "metadata": {},
     "output_type": "execute_result"
    }
   ],
   "source": [
    "query='''SELECT * FROM COMMENT LIMIT (10)'''\n",
    "sql_query(query)"
   ]
  },
  {
   "cell_type": "code",
   "execution_count": 18,
   "metadata": {},
   "outputs": [
    {
     "data": {
      "text/html": [
       "<div>\n",
       "<style scoped>\n",
       "    .dataframe tbody tr th:only-of-type {\n",
       "        vertical-align: middle;\n",
       "    }\n",
       "\n",
       "    .dataframe tbody tr th {\n",
       "        vertical-align: top;\n",
       "    }\n",
       "\n",
       "    .dataframe thead th {\n",
       "        text-align: right;\n",
       "    }\n",
       "</style>\n",
       "<table border=\"1\" class=\"dataframe\">\n",
       "  <thead>\n",
       "    <tr style=\"text-align: right;\">\n",
       "      <th></th>\n",
       "      <th>ID</th>\n",
       "      <th>JUGUETES</th>\n",
       "      <th>MUEBLES</th>\n",
       "      <th>LENCERIA</th>\n",
       "      <th>MASCULINO</th>\n",
       "      <th>FEMININO</th>\n",
       "      <th>ANAL</th>\n",
       "      <th>BDSM</th>\n",
       "      <th>AMENITIES</th>\n",
       "    </tr>\n",
       "  </thead>\n",
       "  <tbody>\n",
       "  </tbody>\n",
       "</table>\n",
       "</div>"
      ],
      "text/plain": [
       "Empty DataFrame\n",
       "Columns: [ID, JUGUETES, MUEBLES, LENCERIA, MASCULINO, FEMININO, ANAL, BDSM, AMENITIES]\n",
       "Index: []"
      ]
     },
     "execution_count": 18,
     "metadata": {},
     "output_type": "execute_result"
    }
   ],
   "source": [
    "query='''SELECT * FROM TAGS LIMIT (10)'''\n",
    "sql_query(query)"
   ]
  },
  {
   "cell_type": "code",
   "execution_count": 207,
   "metadata": {},
   "outputs": [
    {
     "data": {
      "text/html": [
       "<div>\n",
       "<style scoped>\n",
       "    .dataframe tbody tr th:only-of-type {\n",
       "        vertical-align: middle;\n",
       "    }\n",
       "\n",
       "    .dataframe tbody tr th {\n",
       "        vertical-align: top;\n",
       "    }\n",
       "\n",
       "    .dataframe thead th {\n",
       "        text-align: right;\n",
       "    }\n",
       "</style>\n",
       "<table border=\"1\" class=\"dataframe\">\n",
       "  <thead>\n",
       "    <tr style=\"text-align: right;\">\n",
       "      <th></th>\n",
       "      <th>PRODUCT</th>\n",
       "      <th>DATE</th>\n",
       "      <th>USERS</th>\n",
       "      <th>RATIO</th>\n",
       "      <th>COMMENT</th>\n",
       "    </tr>\n",
       "  </thead>\n",
       "  <tbody>\n",
       "    <tr>\n",
       "      <th>0</th>\n",
       "      <td>MASSAJI</td>\n",
       "      <td>2023-01-25</td>\n",
       "      <td>Sara</td>\n",
       "      <td>5</td>\n",
       "      <td>Es un vibrador discreto y eficaz. Es uno de mi...</td>\n",
       "    </tr>\n",
       "    <tr>\n",
       "      <th>1</th>\n",
       "      <td>MASSAJI</td>\n",
       "      <td>2023-01-09</td>\n",
       "      <td>Jesús</td>\n",
       "      <td>5</td>\n",
       "      <td>el vibrador de cabecera de mi mujer. Después d...</td>\n",
       "    </tr>\n",
       "    <tr>\n",
       "      <th>2</th>\n",
       "      <td>MASSAJI</td>\n",
       "      <td>2022-12-10</td>\n",
       "      <td>Sara</td>\n",
       "      <td>3</td>\n",
       "      <td>Tenía uno de otra tienda y compré este porque ...</td>\n",
       "    </tr>\n",
       "    <tr>\n",
       "      <th>3</th>\n",
       "      <td>MASSAJI</td>\n",
       "      <td>2022-10-04</td>\n",
       "      <td>Sara</td>\n",
       "      <td>5</td>\n",
       "      <td>Es una buena compra. Muy agradable, con difere...</td>\n",
       "    </tr>\n",
       "    <tr>\n",
       "      <th>4</th>\n",
       "      <td>MASSAJI</td>\n",
       "      <td>2022-07-07</td>\n",
       "      <td>Álvaro</td>\n",
       "      <td>5</td>\n",
       "      <td>Buen juguete más centrado en los precalentamie...</td>\n",
       "    </tr>\n",
       "    <tr>\n",
       "      <th>5</th>\n",
       "      <td>MASSAJI</td>\n",
       "      <td>2022-06-24</td>\n",
       "      <td>Yenifer</td>\n",
       "      <td>5</td>\n",
       "      <td>Mi juguete de cabecera. Siempre a mano en mi m...</td>\n",
       "    </tr>\n",
       "    <tr>\n",
       "      <th>6</th>\n",
       "      <td>MASSAJI</td>\n",
       "      <td>2022-05-05</td>\n",
       "      <td>Mirian</td>\n",
       "      <td>5</td>\n",
       "      <td>Es genial! Llevaba tiempo con ganas de algo as...</td>\n",
       "    </tr>\n",
       "    <tr>\n",
       "      <th>7</th>\n",
       "      <td>MASSAJI</td>\n",
       "      <td>2022-01-12</td>\n",
       "      <td>Paula</td>\n",
       "      <td>5</td>\n",
       "      <td>¡Una maravilla! Como estimulación externa pued...</td>\n",
       "    </tr>\n",
       "    <tr>\n",
       "      <th>8</th>\n",
       "      <td>MASSAJI</td>\n",
       "      <td>2022-01-03</td>\n",
       "      <td>María</td>\n",
       "      <td>5</td>\n",
       "      <td>Conocí este juguete gracias a las recomendacio...</td>\n",
       "    </tr>\n",
       "    <tr>\n",
       "      <th>9</th>\n",
       "      <td>MASSAJI</td>\n",
       "      <td>2021-08-25</td>\n",
       "      <td>María de Nieves</td>\n",
       "      <td>5</td>\n",
       "      <td>Fabuloso. rnPotente pero no molesto.rnMás pequ...</td>\n",
       "    </tr>\n",
       "  </tbody>\n",
       "</table>\n",
       "</div>"
      ],
      "text/plain": [
       "   PRODUCT        DATE            USERS  RATIO  \\\n",
       "0  MASSAJI  2023-01-25             Sara      5   \n",
       "1  MASSAJI  2023-01-09            Jesús      5   \n",
       "2  MASSAJI  2022-12-10             Sara      3   \n",
       "3  MASSAJI  2022-10-04             Sara      5   \n",
       "4  MASSAJI  2022-07-07           Álvaro      5   \n",
       "5  MASSAJI  2022-06-24          Yenifer      5   \n",
       "6  MASSAJI  2022-05-05           Mirian      5   \n",
       "7  MASSAJI  2022-01-12            Paula      5   \n",
       "8  MASSAJI  2022-01-03            María      5   \n",
       "9  MASSAJI  2021-08-25  María de Nieves      5   \n",
       "\n",
       "                                             COMMENT  \n",
       "0  Es un vibrador discreto y eficaz. Es uno de mi...  \n",
       "1  el vibrador de cabecera de mi mujer. Después d...  \n",
       "2  Tenía uno de otra tienda y compré este porque ...  \n",
       "3  Es una buena compra. Muy agradable, con difere...  \n",
       "4  Buen juguete más centrado en los precalentamie...  \n",
       "5  Mi juguete de cabecera. Siempre a mano en mi m...  \n",
       "6  Es genial! Llevaba tiempo con ganas de algo as...  \n",
       "7  ¡Una maravilla! Como estimulación externa pued...  \n",
       "8  Conocí este juguete gracias a las recomendacio...  \n",
       "9  Fabuloso. rnPotente pero no molesto.rnMás pequ...  "
      ]
     },
     "execution_count": 207,
     "metadata": {},
     "output_type": "execute_result"
    }
   ],
   "source": [
    "query='''SELECT * FROM COMMENTS_PER_PRODUCT LIMIT (10)'''\n",
    "sql_query(query)"
   ]
  },
  {
   "attachments": {},
   "cell_type": "markdown",
   "metadata": {},
   "source": [
    "### Vamos a evaluar los productos en función del descuento que se aplica:"
   ]
  },
  {
   "attachments": {},
   "cell_type": "markdown",
   "metadata": {},
   "source": [
    "#### Estudio sobre los descuentos que se aplican."
   ]
  },
  {
   "cell_type": "code",
   "execution_count": null,
   "metadata": {},
   "outputs": [],
   "source": []
  },
  {
   "attachments": {},
   "cell_type": "markdown",
   "metadata": {},
   "source": [
    "#### Estudio sobre las fechas de los comentarios que se realizan."
   ]
  },
  {
   "cell_type": "code",
   "execution_count": null,
   "metadata": {},
   "outputs": [],
   "source": []
  },
  {
   "attachments": {},
   "cell_type": "markdown",
   "metadata": {},
   "source": [
    "#### Estudio sobre el ratio de los comentarios que se realizan."
   ]
  },
  {
   "attachments": {},
   "cell_type": "markdown",
   "metadata": {},
   "source": [
    "1.- Visualizamos los datos:"
   ]
  },
  {
   "cell_type": "code",
   "execution_count": 195,
   "metadata": {},
   "outputs": [
    {
     "data": {
      "image/png": "[encoded data removed]",
      "text/plain": [
       "<Figure size 1000x500 with 1 Axes>"
      ]
     },
     "metadata": {},
     "output_type": "display_data"
    }
   ],
   "source": [
    "plt.figure(figsize=(10,5))\n",
    "query='''SELECT PRODUCT,avg(RATIO) as PROM FROM COMMENTS_PER_PRODUCT group BY PRODUCT ORDER BY avg(RATIO) DESC'''\n",
    "total=sql_query(query)\n",
    "sns.histplot(data=total,bins=100)\n",
    "\n",
    "plt.ylabel(\"Nº PRODUCTOS\")\n",
    "plt.xlabel(\"VALORACION\")\n",
    "plt.title(\"DISTRIBUCION DE RATIOS DE LOS PRODUCTOS\");"
   ]
  },
  {
   "attachments": {},
   "cell_type": "markdown",
   "metadata": {},
   "source": [
    "En general se puede observar que los productos se encuentran entre 4.0 y 5.0. \n",
    "\n",
    "¿Podemos considerar  los valores por debajo de 4.0 como anómalos? ¿y los valores de 5.0?"
   ]
  },
  {
   "attachments": {},
   "cell_type": "markdown",
   "metadata": {},
   "source": [
    "Hacemos un *boxplot* para tener una visualización de los datos de la valoración por cuartiles y decidir."
   ]
  },
  {
   "cell_type": "code",
   "execution_count": 146,
   "metadata": {},
   "outputs": [
    {
     "data": {
      "image/png": "[encoded data removed]",
      "text/plain": [
       "<Figure size 1000x500 with 1 Axes>"
      ]
     },
     "metadata": {},
     "output_type": "display_data"
    }
   ],
   "source": [
    "plt.figure(figsize=(10,5))\n",
    "query='''SELECT PRODUCT,avg(RATIO) as PROM FROM COMMENTS_PER_PRODUCT group BY PRODUCT ORDER BY avg(RATIO) DESC'''\n",
    "sns.boxplot(data=sql_query(query)['PROM'])\n",
    "outlier = np.percentile(sql_query(query)['PROM'], 5.5)\n",
    "plt.axhline(y=outlier, xmin=0, xmax=1,color='r', linewidth= 1,linestyle=\"-.\")\n",
    "plt.ylabel(\"VALORACION\")\n",
    "plt.title(\"DISTRIBUCION DE RATIOS DE LOS PRODUCTOS\");"
   ]
  },
  {
   "attachments": {},
   "cell_type": "markdown",
   "metadata": {},
   "source": [
    "2.- Outliers:\n",
    "\n",
    "Podemos ver claramente  que los valores por debajo de aprox. 3.5 son *outliers*. \n",
    "\n",
    "No es habitual que un producto de la tienda tenga valores por debajo de este cantidad.\n",
    "\n",
    "¿Cuántos productos serían?"
   ]
  },
  {
   "cell_type": "code",
   "execution_count": 200,
   "metadata": {},
   "outputs": [
    {
     "name": "stdout",
     "output_type": "stream",
     "text": [
      "El número de productos que son outliers es: 23 \n",
      "lo que representa un porcentaje de 5.15 %\n"
     ]
    }
   ],
   "source": [
    "query='''SELECT PRODUCT,avg(RATIO) AS PROM FROM COMMENTS_PER_PRODUCT GROUP BY PRODUCT HAVING avg (RATIO)<3.7'''\n",
    "\n",
    "outlier=sql_query(query)\n",
    "print(\"El número de productos que son outliers es:\",len(outlier),\"\\nlo que representa un porcentaje de\",round(len(outlier)/len(total)*100,2),\"%\")\n"
   ]
  },
  {
   "attachments": {},
   "cell_type": "markdown",
   "metadata": {},
   "source": [
    "3.- Valor máximo de valoración:"
   ]
  },
  {
   "attachments": {},
   "cell_type": "markdown",
   "metadata": {},
   "source": [
    "¿Cuántos productos tienen una valoración de 5?"
   ]
  },
  {
   "cell_type": "code",
   "execution_count": 204,
   "metadata": {},
   "outputs": [
    {
     "name": "stdout",
     "output_type": "stream",
     "text": [
      "El número de productos que tienen una valoración máxima es: 129 \n",
      "lo que representa un porcentaje de 28.86 %\n"
     ]
    }
   ],
   "source": [
    "query='''SELECT PRODUCT,avg(RATIO) AS PROM FROM COMMENTS_PER_PRODUCT GROUP BY PRODUCT\n",
    " having avg (RATIO)=(SELECT max(RATIO) FROM COMMENTS_PER_PRODUCT GROUP BY PRODUCT)'''\n",
    "maximo=sql_query(query)\n",
    "\n",
    "print(\"El número de productos que tienen una valoración máxima es:\",len(maximo),\"\\nlo que representa un porcentaje de\",round(len(maximo)/len(total)*100,2),\"%\")\n"
   ]
  },
  {
   "attachments": {},
   "cell_type": "markdown",
   "metadata": {},
   "source": [
    "##### Conclusión:\n",
    "\n",
    "Los productos tienen una valoración promedio que oscila entre 3,7 y 5.0, siendo ésta la valoración máxima posible.\n",
    "\n",
    "Con la valoración promedio máxima posible hay 129 productos de los 447, lo que representa el 28,86 % de los productos.\n",
    "\n",
    "También se observa que por debajo de una valoración promedio de 3,7 hay 23 productos, lo que representa un porcentaje 5,15 %."
   ]
  },
  {
   "attachments": {},
   "cell_type": "markdown",
   "metadata": {},
   "source": [
    "#### Estudio sobre los usuarios de los comentarios que se realizan.\n",
    "\n",
    "En este punto hay que tener en cuenta que tenemos pendiente ahora mismo de generar usuarios distintos cuando se encuentran el mismo usuario dentro del mismo producto, ya que no tiene sentido que sea el mismo usuario y hay que discriminarlo. \n",
    "\n",
    "Lo mejor en este punto sería tener users por nick y que esté no pudiera ser el mismo, ya que permitiría poder discernir la autoridad de cada comentario. "
   ]
  },
  {
   "cell_type": "code",
   "execution_count": null,
   "metadata": {},
   "outputs": [],
   "source": []
  },
  {
   "attachments": {},
   "cell_type": "markdown",
   "metadata": {},
   "source": []
  },
  {
   "attachments": {},
   "cell_type": "markdown",
   "metadata": {},
   "source": [
    "## Cerramos la BBDD."
   ]
  },
  {
   "cell_type": "code",
   "execution_count": null,
   "metadata": {},
   "outputs": [],
   "source": [
    "conn.commit()\n",
    "cursor.close()\n",
    "conn.close()"
   ]
  }
 ],
 "metadata": {
  "kernelspec": {
   "display_name": "Python 3",
   "language": "python",
   "name": "python3"
  },
  "language_info": {
   "codemirror_mode": {
    "name": "ipython",
    "version": 3
   },
   "file_extension": ".py",
   "mimetype": "text/x-python",
   "name": "python",
   "nbconvert_exporter": "python",
   "pygments_lexer": "ipython3",
   "version": "3.10.11"
  },
  "orig_nbformat": 4
 },
 "nbformat": 4,
 "nbformat_minor": 2
}
