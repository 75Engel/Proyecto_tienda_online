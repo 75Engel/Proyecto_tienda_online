{
 "cells": [
  {
   "attachments": {},
   "cell_type": "markdown",
   "metadata": {},
   "source": [
    "# Realizando ingeniería de datos para realizar transformación y generación de nuevas variables"
   ]
  },
  {
   "attachments": {},
   "cell_type": "markdown",
   "metadata": {},
   "source": [
    "## 1.- Importamos las librerías necesarias y preparamos las funciones oportunas."
   ]
  },
  {
   "cell_type": "code",
   "execution_count": 1,
   "metadata": {},
   "outputs": [
    {
     "name": "stdout",
     "output_type": "stream",
     "text": [
      "Estamos en la carpeta, d:\\Data_science\\Javier\\Repositorios\\Proyecto_tienda_online\\src\n"
     ]
    }
   ],
   "source": [
    "import os\n",
    "os.chdir(os.path.split(os.getcwd())[0])\n",
    "folder=os.getcwd()\n",
    "print(\"Estamos en la carpeta,\",folder)\n",
    "\n",
    "import pandas as pd\n",
    "import numpy as np\n",
    "import pickle\n",
    "import re\n",
    "import spacy\n",
    "from nltk.stem.snowball import SnowballStemmer\n",
    "import datetime\n",
    "from Utils import functions as f\n",
    "\n",
    "nlp = spacy.load('es_core_news_lg')"
   ]
  },
  {
   "cell_type": "code",
   "execution_count": 79,
   "metadata": {},
   "outputs": [],
   "source": [
    "pd.set_option('display.max_colwidth', None)       # Visualizar todas las columnas\n",
    "pd.set_option('display.max_rows', None)           # Visualizar todas las filas"
   ]
  },
  {
   "attachments": {},
   "cell_type": "markdown",
   "metadata": {},
   "source": [
    "Generamos funciones para el tratamiento de textos"
   ]
  },
  {
   "cell_type": "code",
   "execution_count": 2,
   "metadata": {},
   "outputs": [],
   "source": [
    "def extraer_lemas(texto):\n",
    "    '''\n",
    "    Función que recibe un texto como entrada y devuelve una lista de los lemas de las palabras que se encuentran en el texto. \n",
    "    \n",
    "    La lista de lemas resultante solo contiene las palabras que son alfabéticas, es decir, que no contienen caracteres numéricos o especiales.\n",
    "\n",
    "    - Inputs:\n",
    "\n",
    "        texto (str): Texto del cual se quieren extraer los lemas.\n",
    "\n",
    "    - Outputs:\n",
    "\n",
    "        lemas (list): Lista de los lemas de las palabras alfabéticas que se encuentran en el texto.\n",
    "    '''\n",
    "    doc = nlp(texto)\n",
    "    lemas = [token.lemma_ for token in doc if token.is_alpha]\n",
    "    return lemas\n",
    "\n",
    "def eliminacion_acentos(text):\n",
    "    '''\n",
    "    Función que recibe un texto como entrada y devuelve el mismo texto pero sin los caracteres acentuados. \n",
    "    \n",
    "    Para esto, se utiliza una expresión regular y un diccionario con los caracteres a reemplazar.\n",
    "\n",
    "    - Inputs:\n",
    "\n",
    "       text (str): Texto del cual se quieren eliminar los acentos.\n",
    "\n",
    "    - Outputs:\n",
    "\n",
    "        texto (str): Texto sin los caracteres acentuados.\n",
    "         '''\n",
    "    pattern = '[áéíóúÁÉÍÓÚ]'\n",
    "    replace = {'á': 'a', 'é': 'e', 'í': 'i', 'ó': 'o', 'ú': 'u', 'Á': 'A', 'É': 'E', 'Í': 'I', 'Ó': 'O', 'Ú': 'U'}\n",
    "    return re.sub(pattern, lambda match: replace[match.group()], text)\n",
    "\n",
    "def spanish_stemmer(x):\n",
    "    '''\n",
    "    Función que recibe una cadena de texto como entrada y devuelve el texto procesado con un algoritmo de stemming en español. \n",
    "    \n",
    "    El stemming es una técnica de NLP que busca reducir una palabra a su raíz. \n",
    "    \n",
    "    En este caso, se utiliza el algoritmo SnowballStemmer de la librería NLTK.\n",
    "\n",
    "    - Inputs:\n",
    "\n",
    "        x (str): Texto que se quiere procesar con el algoritmo de stemming.\n",
    "\n",
    "    - Outputs:\n",
    "\n",
    "        str: Texto procesado con el algoritmo de stemming.\n",
    "        '''\n",
    "    stemmer = SnowballStemmer('spanish')\n",
    "    return \" \".join([stemmer.stem(word) for word in x.split()])\n",
    "\n",
    "def pickled_list(lista,nombre_archivo, carpeta=\"Utils\"):\n",
    "    '''Generar fichero picke a partir de una lista de tareas. \n",
    "    \n",
    "    Los ficheros se guardan en la carpeta Utils.\n",
    "    \n",
    "    - INPUT: \n",
    "        - lista (list):         Nombre de la lista a guardar.\n",
    "\n",
    "        - nombre_archivo (str): Nombre del fichero a generar\n",
    "\n",
    "        - carpeta: Carpeta donde se va a guardar el fichero .pickle\n",
    "\n",
    "    - OUTPUT: \n",
    "        - lista (.pickle): fichero .pickle donde esta almacenada la información de la lista.\n",
    "\n",
    "    '''\n",
    "    ruta_archivo = os.path.join(carpeta, nombre_archivo + \".pickle\")\n",
    "\n",
    "    with open(ruta_archivo, \"wb\") as archivo_pickle:\n",
    "            pickle.dump(lista, archivo_pickle)\n",
    "    return lista\n",
    "\n",
    "\n",
    "def unpickled_list(lista,nombre_archivo, carpeta=\"Utils\"):\n",
    "    '''Generar lista de tareas que existen en la carpeta Utils.\n",
    "    \n",
    "    Definir tareas nuevas a agregar dentro de la lista en el caso de haber una nueva tarea a añadir.\n",
    "    \n",
    "    - INPUT: \n",
    "        - lista (list):         Nombre de la lista a guardar.\n",
    "\n",
    "        - nombre_archivo (str): Nombre del fichero a generar\n",
    "\n",
    "        - carpeta:              Carpeta donde se va a guardar el fichero .pickle\n",
    "    \n",
    "    - OUTPUT: \n",
    "        - lista (list):         Lista de productos\n",
    "    '''\n",
    "    \n",
    "    ruta_archivo = os.path.join(carpeta, nombre_archivo + \".pickle\")\n",
    "    with open(ruta_archivo, \"rb\") as archivo_pickle:\n",
    "        lista = pickle.load(archivo_pickle)\n",
    "\n",
    "    return lista\n",
    "\n",
    "def cargar_listas_desde_pickles(nombres_archivos, carpeta=\"Utils\"):\n",
    "    listas = {}\n",
    "\n",
    "    for nombre_archivo in nombres_archivos:\n",
    "        ruta_archivo = os.path.join(carpeta, nombre_archivo + \".pickle\")\n",
    "\n",
    "        with open(ruta_archivo, \"rb\") as archivo_pickle:\n",
    "            lista = pickle.load(archivo_pickle)\n",
    "\n",
    "        # Cierra el archivo\n",
    "        archivo_pickle.close()\n",
    "\n",
    "        # Almacena la lista en el diccionario\n",
    "        listas[nombre_archivo] = lista\n",
    "\n",
    "    # Devuelve el diccionario de listas\n",
    "    return listas\n",
    "\n",
    "def aplicar_funcion_a_columna(df, listas, nombre_lista, columna=\"DESCRIPTION\"):\n",
    "    '''\n",
    "    Función que aplica la función extraer lemas a la columna DESCRIPTION\n",
    "    La función tiene como parametros de entrada:\n",
    "    Dataframe\n",
    "    Diccionario con las listas a tratar\n",
    "    Columna sobre la que realizar la separación.\n",
    "    '''\n",
    "    # Carga la lista desde el diccionario\n",
    "    lista = listas[nombre_lista]\n",
    "\n",
    "    # Aplica la función a la columna del DataFrame\n",
    "    df[nombre_lista] = df[columna].apply(lambda x: any(lematizado in lista for lematizado in extraer_lemas(x)))\n",
    "\n",
    "    return df"
   ]
  },
  {
   "attachments": {},
   "cell_type": "markdown",
   "metadata": {},
   "source": [
    "### Obtenemos los datos guardados."
   ]
  },
  {
   "cell_type": "code",
   "execution_count": 3,
   "metadata": {},
   "outputs": [],
   "source": [
    "path=r'Data\\productos_scrape.csv'"
   ]
  },
  {
   "cell_type": "code",
   "execution_count": 4,
   "metadata": {},
   "outputs": [
    {
     "data": {
      "text/plain": [
       "'d:\\\\Data_science\\\\Javier\\\\Repositorios\\\\Proyecto_tienda_online\\\\src\\\\Data\\\\productos_scrape.csv'"
      ]
     },
     "execution_count": 4,
     "metadata": {},
     "output_type": "execute_result"
    }
   ],
   "source": [
    "new_path=folder+'\\\\'+path\n",
    "new_path"
   ]
  },
  {
   "cell_type": "code",
   "execution_count": 5,
   "metadata": {},
   "outputs": [
    {
     "data": {
      "text/html": [
       "<div>\n",
       "<style scoped>\n",
       "    .dataframe tbody tr th:only-of-type {\n",
       "        vertical-align: middle;\n",
       "    }\n",
       "\n",
       "    .dataframe tbody tr th {\n",
       "        vertical-align: top;\n",
       "    }\n",
       "\n",
       "    .dataframe thead th {\n",
       "        text-align: right;\n",
       "    }\n",
       "</style>\n",
       "<table border=\"1\" class=\"dataframe\">\n",
       "  <thead>\n",
       "    <tr style=\"text-align: right;\">\n",
       "      <th></th>\n",
       "      <th>ID</th>\n",
       "      <th>NAME</th>\n",
       "      <th>INFO</th>\n",
       "      <th>LISTA_URL</th>\n",
       "      <th>REGULAR_PRICE</th>\n",
       "      <th>DISCOUNT_PRICE</th>\n",
       "    </tr>\n",
       "  </thead>\n",
       "  <tbody>\n",
       "    <tr>\n",
       "      <th>0</th>\n",
       "      <td>0</td>\n",
       "      <td>MASABOOM - El gran masajeador sexual</td>\n",
       "      <td>Este es el juguete para todas, todos y todes. ...</td>\n",
       "      <td>https://www.amantis.net/masaboom-el-gran-masaj...</td>\n",
       "      <td>69.99</td>\n",
       "      <td>39.99</td>\n",
       "    </tr>\n",
       "    <tr>\n",
       "      <th>1</th>\n",
       "      <td>1</td>\n",
       "      <td>MASSAJI, Potente masajeador japonés sumergible...</td>\n",
       "      <td>¿Quieres una velada perfecta tras un largo día...</td>\n",
       "      <td>https://www.amantis.net/massaji-potente-masaje...</td>\n",
       "      <td>99.99</td>\n",
       "      <td>44.99</td>\n",
       "    </tr>\n",
       "    <tr>\n",
       "      <th>2</th>\n",
       "      <td>2</td>\n",
       "      <td>DIGIT PRO, dedal vibrador con sujeción</td>\n",
       "      <td>Los dedos siempre han sido grandes aliados de ...</td>\n",
       "      <td>https://www.amantis.net/digit-pro-dedal-vibrad...</td>\n",
       "      <td>79.99</td>\n",
       "      <td>29.99</td>\n",
       "    </tr>\n",
       "    <tr>\n",
       "      <th>3</th>\n",
       "      <td>3</td>\n",
       "      <td>MINI CARNIVAL, mini-masajeador con cuatro cabe...</td>\n",
       "      <td>¿Conoces a MINI+? Puse hoy es tu día de suerte...</td>\n",
       "      <td>https://www.amantis.net/mini-carnival-mini-mas...</td>\n",
       "      <td>34.99</td>\n",
       "      <td>17.99</td>\n",
       "    </tr>\n",
       "    <tr>\n",
       "      <th>4</th>\n",
       "      <td>4</td>\n",
       "      <td>LINGÜS - Vibrador para Sexo Oral de amantis</td>\n",
       "      <td>Milenios de sabiduría en el arte del cunniling...</td>\n",
       "      <td>https://www.amantis.net/lingus-vibrador-sexo-o...</td>\n",
       "      <td>79.99</td>\n",
       "      <td>59.99</td>\n",
       "    </tr>\n",
       "  </tbody>\n",
       "</table>\n",
       "</div>"
      ],
      "text/plain": [
       "   ID                                               NAME  \\\n",
       "0   0               MASABOOM - El gran masajeador sexual   \n",
       "1   1  MASSAJI, Potente masajeador japonés sumergible...   \n",
       "2   2             DIGIT PRO, dedal vibrador con sujeción   \n",
       "3   3  MINI CARNIVAL, mini-masajeador con cuatro cabe...   \n",
       "4   4        LINGÜS - Vibrador para Sexo Oral de amantis   \n",
       "\n",
       "                                                INFO  \\\n",
       "0  Este es el juguete para todas, todos y todes. ...   \n",
       "1  ¿Quieres una velada perfecta tras un largo día...   \n",
       "2  Los dedos siempre han sido grandes aliados de ...   \n",
       "3  ¿Conoces a MINI+? Puse hoy es tu día de suerte...   \n",
       "4  Milenios de sabiduría en el arte del cunniling...   \n",
       "\n",
       "                                           LISTA_URL  REGULAR_PRICE  \\\n",
       "0  https://www.amantis.net/masaboom-el-gran-masaj...          69.99   \n",
       "1  https://www.amantis.net/massaji-potente-masaje...          99.99   \n",
       "2  https://www.amantis.net/digit-pro-dedal-vibrad...          79.99   \n",
       "3  https://www.amantis.net/mini-carnival-mini-mas...          34.99   \n",
       "4  https://www.amantis.net/lingus-vibrador-sexo-o...          79.99   \n",
       "\n",
       "   DISCOUNT_PRICE  \n",
       "0           39.99  \n",
       "1           44.99  \n",
       "2           29.99  \n",
       "3           17.99  \n",
       "4           59.99  "
      ]
     },
     "execution_count": 5,
     "metadata": {},
     "output_type": "execute_result"
    }
   ],
   "source": [
    "dataframe=pd.read_csv(new_path)\n",
    "dataframe.head()"
   ]
  },
  {
   "cell_type": "code",
   "execution_count": null,
   "metadata": {},
   "outputs": [
    {
     "data": {
      "text/plain": [
       "561"
      ]
     },
     "execution_count": 6,
     "metadata": {},
     "output_type": "execute_result"
    }
   ],
   "source": [
    "len(dataframe)"
   ]
  },
  {
   "attachments": {},
   "cell_type": "markdown",
   "metadata": {},
   "source": [
    "## 2.- Descomponemos las variables *Name* y *Description*.\n",
    "\n",
    "Vamos a crear 2 nuevas columnas a partir de *Name* y *Description*, donde dejaremos el nombre del producto y su slogan por un lado y por otro la descripción y las características por otro.\n",
    "\n",
    "En principio son variables que no necesitaremos para estos estudios pero las guardaremos por si hay que hacer algún estudio posterior de las mismas (comparativas de productos similares de esta página web o de otras páginas web, por ejemplo)."
   ]
  },
  {
   "attachments": {},
   "cell_type": "markdown",
   "metadata": {},
   "source": [
    "#### Generación de slogan.\n",
    "\n",
    "Primeramente vamos a realizar un visionado de los datos que tienen para discernir donde se puede realizar la separación.\n",
    "\n",
    "Por un lado extraeremos el Name en una nueva columna y varias columnas para ir separando el resto. "
   ]
  },
  {
   "cell_type": "code",
   "execution_count": 6,
   "metadata": {},
   "outputs": [
    {
     "name": "stderr",
     "output_type": "stream",
     "text": [
      "C:\\Users\\Javier\\AppData\\Local\\Temp\\ipykernel_4660\\572804979.py:1: FutureWarning: The default value of regex will change from True to False in a future version.\n",
      "  dataframe['NAME'] = dataframe['NAME'].str.replace(r'-(?=\\w)', '_')\n",
      "C:\\Users\\Javier\\AppData\\Local\\Temp\\ipykernel_4660\\572804979.py:2: FutureWarning: In a future version of pandas all arguments of StringMethods.split except for the argument 'pat' will be keyword-only.\n",
      "  dataframe[['PRODUCT', 'SLOGAN']] = dataframe['NAME'].str.split('[,-.]', 1, expand=True)\n"
     ]
    }
   ],
   "source": [
    "dataframe['NAME'] = dataframe['NAME'].str.replace(r'-(?=\\w)', '_')\n",
    "dataframe[['PRODUCT', 'SLOGAN']] = dataframe['NAME'].str.split('[,-.]', 1, expand=True)\n",
    "dataframe['PRODUCT'] = dataframe['PRODUCT'].str.strip()\n",
    "dataframe['SLOGAN'] = dataframe['SLOGAN'].str.strip()\n",
    "# dataframe.head()"
   ]
  },
  {
   "attachments": {},
   "cell_type": "markdown",
   "metadata": {},
   "source": [
    "#### Separación entre Description y Characteristics.\n",
    "\n",
    "Primeramente vamos a realizar un visionado de los datos que tienen para discernir donde se puede realizar la separación.\n",
    "\n",
    "Por un lado extraeremos las características en una nueva columna, dejando la Description en la misma. \n",
    "\n",
    "**Pendiente**: Hay que hacer una segunda separación de Description en el caso que solo aparezca *características*"
   ]
  },
  {
   "cell_type": "code",
   "execution_count": 7,
   "metadata": {},
   "outputs": [
    {
     "name": "stderr",
     "output_type": "stream",
     "text": [
      "C:\\Users\\Javier\\AppData\\Local\\Temp\\ipykernel_4660\\1793188304.py:1: FutureWarning: In a future version of pandas all arguments of StringMethods.split except for the argument 'pat' will be keyword-only.\n",
      "  dataframe['CHARACTERISTICS'] = dataframe['INFO'].str.split('Ver características y medidas|Características', 1).str[1]\n",
      "C:\\Users\\Javier\\AppData\\Local\\Temp\\ipykernel_4660\\1793188304.py:2: FutureWarning: In a future version of pandas all arguments of StringMethods.split except for the argument 'pat' will be keyword-only.\n",
      "  dataframe['DESCRIPTION'] = dataframe['INFO'].str.split('Ver características y medidas|Características', 1).str[0].str.strip()\n"
     ]
    }
   ],
   "source": [
    "dataframe['CHARACTERISTICS'] = dataframe['INFO'].str.split('Ver características y medidas|Características', 1).str[1]\n",
    "dataframe['DESCRIPTION'] = dataframe['INFO'].str.split('Ver características y medidas|Características', 1).str[0].str.strip()\n",
    "# dataframe.head()\n"
   ]
  },
  {
   "attachments": {},
   "cell_type": "markdown",
   "metadata": {},
   "source": [
    "Se observan que hay *\\r* dentro del texto generado en las nuevas columnas, por lo que vamos a proceder a sustituir esto por un espacio."
   ]
  },
  {
   "cell_type": "code",
   "execution_count": 8,
   "metadata": {},
   "outputs": [],
   "source": [
    "dataframe['CHARACTERISTICS'] = dataframe['CHARACTERISTICS'].str.replace('\\r', ' ')\n",
    "dataframe['DESCRIPTION'] = dataframe['DESCRIPTION'].str.replace('\\r', ' ')\n",
    "# dataframe.head()"
   ]
  },
  {
   "cell_type": "code",
   "execution_count": 9,
   "metadata": {},
   "outputs": [
    {
     "name": "stdout",
     "output_type": "stream",
     "text": [
      "<class 'pandas.core.frame.DataFrame'>\n",
      "RangeIndex: 561 entries, 0 to 560\n",
      "Data columns (total 10 columns):\n",
      " #   Column           Non-Null Count  Dtype  \n",
      "---  ------           --------------  -----  \n",
      " 0   ID               561 non-null    int64  \n",
      " 1   NAME             561 non-null    object \n",
      " 2   INFO             561 non-null    object \n",
      " 3   LISTA_URL        561 non-null    object \n",
      " 4   REGULAR_PRICE    561 non-null    float64\n",
      " 5   DISCOUNT_PRICE   561 non-null    float64\n",
      " 6   PRODUCT          561 non-null    object \n",
      " 7   SLOGAN           467 non-null    object \n",
      " 8   CHARACTERISTICS  501 non-null    object \n",
      " 9   DESCRIPTION      561 non-null    object \n",
      "dtypes: float64(2), int64(1), object(7)\n",
      "memory usage: 44.0+ KB\n"
     ]
    }
   ],
   "source": [
    "dataframe.info()"
   ]
  },
  {
   "attachments": {},
   "cell_type": "markdown",
   "metadata": {},
   "source": [
    "Eliminamos *Nombre* e *Info* y sustituimos por *Product*, *Slogan*, *Description* y *Characteristics*."
   ]
  },
  {
   "cell_type": "code",
   "execution_count": 10,
   "metadata": {},
   "outputs": [
    {
     "data": {
      "text/html": [
       "<div>\n",
       "<style scoped>\n",
       "    .dataframe tbody tr th:only-of-type {\n",
       "        vertical-align: middle;\n",
       "    }\n",
       "\n",
       "    .dataframe tbody tr th {\n",
       "        vertical-align: top;\n",
       "    }\n",
       "\n",
       "    .dataframe thead th {\n",
       "        text-align: right;\n",
       "    }\n",
       "</style>\n",
       "<table border=\"1\" class=\"dataframe\">\n",
       "  <thead>\n",
       "    <tr style=\"text-align: right;\">\n",
       "      <th></th>\n",
       "      <th>ID</th>\n",
       "      <th>PRODUCT</th>\n",
       "      <th>SLOGAN</th>\n",
       "      <th>DESCRIPTION</th>\n",
       "      <th>CHARACTERISTICS</th>\n",
       "      <th>LISTA_URL</th>\n",
       "      <th>REGULAR_PRICE</th>\n",
       "      <th>DISCOUNT_PRICE</th>\n",
       "    </tr>\n",
       "  </thead>\n",
       "  <tbody>\n",
       "    <tr>\n",
       "      <th>0</th>\n",
       "      <td>0</td>\n",
       "      <td>MASABOOM</td>\n",
       "      <td>El gran masajeador sexual</td>\n",
       "      <td>Este es el juguete para todas, todos y todes. ...</td>\n",
       "      <td>Masajeador con forma de micrófonoMaterial: sil...</td>\n",
       "      <td>https://www.amantis.net/masaboom-el-gran-masaj...</td>\n",
       "      <td>69.99</td>\n",
       "      <td>39.99</td>\n",
       "    </tr>\n",
       "    <tr>\n",
       "      <th>1</th>\n",
       "      <td>1</td>\n",
       "      <td>MASSAJI</td>\n",
       "      <td>Potente masajeador japonés sumergible de silicona</td>\n",
       "      <td>¿Quieres una velada perfecta tras un largo día...</td>\n",
       "      <td>Masajeador Japonés Massaji Material: Silicona ...</td>\n",
       "      <td>https://www.amantis.net/massaji-potente-masaje...</td>\n",
       "      <td>99.99</td>\n",
       "      <td>44.99</td>\n",
       "    </tr>\n",
       "    <tr>\n",
       "      <th>2</th>\n",
       "      <td>2</td>\n",
       "      <td>DIGIT PRO</td>\n",
       "      <td>dedal vibrador con sujeción</td>\n",
       "      <td>Los dedos siempre han sido grandes aliados de ...</td>\n",
       "      <td>Dedal vibradorMaterial: silicona de grado médi...</td>\n",
       "      <td>https://www.amantis.net/digit-pro-dedal-vibrad...</td>\n",
       "      <td>79.99</td>\n",
       "      <td>29.99</td>\n",
       "    </tr>\n",
       "    <tr>\n",
       "      <th>3</th>\n",
       "      <td>3</td>\n",
       "      <td>MINI CARNIVAL</td>\n",
       "      <td>mini_masajeador con cuatro cabezales</td>\n",
       "      <td>¿Conoces a MINI+? Puse hoy es tu día de suerte...</td>\n",
       "      <td>Mini masajeador con cuatro cabezalesCabezales ...</td>\n",
       "      <td>https://www.amantis.net/mini-carnival-mini-mas...</td>\n",
       "      <td>34.99</td>\n",
       "      <td>17.99</td>\n",
       "    </tr>\n",
       "    <tr>\n",
       "      <th>4</th>\n",
       "      <td>4</td>\n",
       "      <td>LINGÜS</td>\n",
       "      <td>Vibrador para Sexo Oral de amantis</td>\n",
       "      <td>Milenios de sabiduría en el arte del cunniling...</td>\n",
       "      <td>Material: silicona + abs10 modos de vibraciónT...</td>\n",
       "      <td>https://www.amantis.net/lingus-vibrador-sexo-o...</td>\n",
       "      <td>79.99</td>\n",
       "      <td>59.99</td>\n",
       "    </tr>\n",
       "  </tbody>\n",
       "</table>\n",
       "</div>"
      ],
      "text/plain": [
       "   ID        PRODUCT                                             SLOGAN  \\\n",
       "0   0       MASABOOM                          El gran masajeador sexual   \n",
       "1   1        MASSAJI  Potente masajeador japonés sumergible de silicona   \n",
       "2   2      DIGIT PRO                        dedal vibrador con sujeción   \n",
       "3   3  MINI CARNIVAL               mini_masajeador con cuatro cabezales   \n",
       "4   4         LINGÜS                 Vibrador para Sexo Oral de amantis   \n",
       "\n",
       "                                         DESCRIPTION  \\\n",
       "0  Este es el juguete para todas, todos y todes. ...   \n",
       "1  ¿Quieres una velada perfecta tras un largo día...   \n",
       "2  Los dedos siempre han sido grandes aliados de ...   \n",
       "3  ¿Conoces a MINI+? Puse hoy es tu día de suerte...   \n",
       "4  Milenios de sabiduría en el arte del cunniling...   \n",
       "\n",
       "                                     CHARACTERISTICS  \\\n",
       "0  Masajeador con forma de micrófonoMaterial: sil...   \n",
       "1  Masajeador Japonés Massaji Material: Silicona ...   \n",
       "2  Dedal vibradorMaterial: silicona de grado médi...   \n",
       "3  Mini masajeador con cuatro cabezalesCabezales ...   \n",
       "4  Material: silicona + abs10 modos de vibraciónT...   \n",
       "\n",
       "                                           LISTA_URL  REGULAR_PRICE  \\\n",
       "0  https://www.amantis.net/masaboom-el-gran-masaj...          69.99   \n",
       "1  https://www.amantis.net/massaji-potente-masaje...          99.99   \n",
       "2  https://www.amantis.net/digit-pro-dedal-vibrad...          79.99   \n",
       "3  https://www.amantis.net/mini-carnival-mini-mas...          34.99   \n",
       "4  https://www.amantis.net/lingus-vibrador-sexo-o...          79.99   \n",
       "\n",
       "   DISCOUNT_PRICE  \n",
       "0           39.99  \n",
       "1           44.99  \n",
       "2           29.99  \n",
       "3           17.99  \n",
       "4           59.99  "
      ]
     },
     "execution_count": 10,
     "metadata": {},
     "output_type": "execute_result"
    }
   ],
   "source": [
    "col_1 = dataframe.pop('PRODUCT')\n",
    "col_2=dataframe.pop('SLOGAN')\n",
    "col_3=dataframe.pop('DESCRIPTION')\n",
    "col_4=dataframe.pop('CHARACTERISTICS')\n",
    "\n",
    "dataframe.drop(columns=['NAME'],inplace=True)\n",
    "dataframe.drop(columns=['INFO'],inplace=True)\n",
    "\n",
    "dataframe.insert(loc= 1 , column= 'PRODUCT', value= col_1)\n",
    "dataframe.insert(loc= 2 , column= 'SLOGAN', value= col_2)\n",
    "dataframe.insert(loc= 3 , column= 'DESCRIPTION', value= col_3)\n",
    "dataframe.insert(loc= 4 , column= 'CHARACTERISTICS', value= col_4)\n",
    "dataframe.head()\n",
    "\n"
   ]
  },
  {
   "attachments": {},
   "cell_type": "markdown",
   "metadata": {},
   "source": [
    "Pasamos a un fichero .csv para guardarlo"
   ]
  },
  {
   "cell_type": "code",
   "execution_count": 11,
   "metadata": {},
   "outputs": [
    {
     "data": {
      "text/html": [
       "<div>\n",
       "<style scoped>\n",
       "    .dataframe tbody tr th:only-of-type {\n",
       "        vertical-align: middle;\n",
       "    }\n",
       "\n",
       "    .dataframe tbody tr th {\n",
       "        vertical-align: top;\n",
       "    }\n",
       "\n",
       "    .dataframe thead th {\n",
       "        text-align: right;\n",
       "    }\n",
       "</style>\n",
       "<table border=\"1\" class=\"dataframe\">\n",
       "  <thead>\n",
       "    <tr style=\"text-align: right;\">\n",
       "      <th></th>\n",
       "      <th>ID</th>\n",
       "      <th>PRODUCT</th>\n",
       "      <th>SLOGAN</th>\n",
       "      <th>DESCRIPTION</th>\n",
       "      <th>CHARACTERISTICS</th>\n",
       "      <th>LISTA_URL</th>\n",
       "    </tr>\n",
       "  </thead>\n",
       "  <tbody>\n",
       "    <tr>\n",
       "      <th>0</th>\n",
       "      <td>0</td>\n",
       "      <td>MASABOOM</td>\n",
       "      <td>El gran masajeador sexual</td>\n",
       "      <td>Este es el juguete para todas, todos y todes. ...</td>\n",
       "      <td>Masajeador con forma de micrófonoMaterial: sil...</td>\n",
       "      <td>https://www.amantis.net/masaboom-el-gran-masaj...</td>\n",
       "    </tr>\n",
       "    <tr>\n",
       "      <th>1</th>\n",
       "      <td>1</td>\n",
       "      <td>MASSAJI</td>\n",
       "      <td>Potente masajeador japonés sumergible de silicona</td>\n",
       "      <td>¿Quieres una velada perfecta tras un largo día...</td>\n",
       "      <td>Masajeador Japonés Massaji Material: Silicona ...</td>\n",
       "      <td>https://www.amantis.net/massaji-potente-masaje...</td>\n",
       "    </tr>\n",
       "    <tr>\n",
       "      <th>2</th>\n",
       "      <td>2</td>\n",
       "      <td>DIGIT PRO</td>\n",
       "      <td>dedal vibrador con sujeción</td>\n",
       "      <td>Los dedos siempre han sido grandes aliados de ...</td>\n",
       "      <td>Dedal vibradorMaterial: silicona de grado médi...</td>\n",
       "      <td>https://www.amantis.net/digit-pro-dedal-vibrad...</td>\n",
       "    </tr>\n",
       "    <tr>\n",
       "      <th>3</th>\n",
       "      <td>3</td>\n",
       "      <td>MINI CARNIVAL</td>\n",
       "      <td>mini_masajeador con cuatro cabezales</td>\n",
       "      <td>¿Conoces a MINI+? Puse hoy es tu día de suerte...</td>\n",
       "      <td>Mini masajeador con cuatro cabezalesCabezales ...</td>\n",
       "      <td>https://www.amantis.net/mini-carnival-mini-mas...</td>\n",
       "    </tr>\n",
       "    <tr>\n",
       "      <th>4</th>\n",
       "      <td>4</td>\n",
       "      <td>LINGÜS</td>\n",
       "      <td>Vibrador para Sexo Oral de amantis</td>\n",
       "      <td>Milenios de sabiduría en el arte del cunniling...</td>\n",
       "      <td>Material: silicona + abs10 modos de vibraciónT...</td>\n",
       "      <td>https://www.amantis.net/lingus-vibrador-sexo-o...</td>\n",
       "    </tr>\n",
       "  </tbody>\n",
       "</table>\n",
       "</div>"
      ],
      "text/plain": [
       "   ID        PRODUCT                                             SLOGAN  \\\n",
       "0   0       MASABOOM                          El gran masajeador sexual   \n",
       "1   1        MASSAJI  Potente masajeador japonés sumergible de silicona   \n",
       "2   2      DIGIT PRO                        dedal vibrador con sujeción   \n",
       "3   3  MINI CARNIVAL               mini_masajeador con cuatro cabezales   \n",
       "4   4         LINGÜS                 Vibrador para Sexo Oral de amantis   \n",
       "\n",
       "                                         DESCRIPTION  \\\n",
       "0  Este es el juguete para todas, todos y todes. ...   \n",
       "1  ¿Quieres una velada perfecta tras un largo día...   \n",
       "2  Los dedos siempre han sido grandes aliados de ...   \n",
       "3  ¿Conoces a MINI+? Puse hoy es tu día de suerte...   \n",
       "4  Milenios de sabiduría en el arte del cunniling...   \n",
       "\n",
       "                                     CHARACTERISTICS  \\\n",
       "0  Masajeador con forma de micrófonoMaterial: sil...   \n",
       "1  Masajeador Japonés Massaji Material: Silicona ...   \n",
       "2  Dedal vibradorMaterial: silicona de grado médi...   \n",
       "3  Mini masajeador con cuatro cabezalesCabezales ...   \n",
       "4  Material: silicona + abs10 modos de vibraciónT...   \n",
       "\n",
       "                                           LISTA_URL  \n",
       "0  https://www.amantis.net/masaboom-el-gran-masaj...  \n",
       "1  https://www.amantis.net/massaji-potente-masaje...  \n",
       "2  https://www.amantis.net/digit-pro-dedal-vibrad...  \n",
       "3  https://www.amantis.net/mini-carnival-mini-mas...  \n",
       "4  https://www.amantis.net/lingus-vibrador-sexo-o...  "
      ]
     },
     "execution_count": 11,
     "metadata": {},
     "output_type": "execute_result"
    }
   ],
   "source": [
    "df_product=dataframe.iloc[:,:6]\n",
    "df_product.head()"
   ]
  },
  {
   "cell_type": "code",
   "execution_count": 11,
   "metadata": {},
   "outputs": [],
   "source": [
    "df_product.to_csv('./Data/productos.csv',header=True,index=False)\n",
    "# df_product.to_csv('./Data/tags_scrape.csv',header=True,index=False)"
   ]
  },
  {
   "cell_type": "markdown",
   "metadata": {},
   "source": [
    "## 3.- Generamos el fichero de *precios* a partir de df_product.\n",
    "\n",
    "Para ello vamos a partir del anterior dataframe, donde dejaremos los datos de *ID*, *REGULAR_PRICE* y *DISCOUNT_PRICE*.\n",
    "\n",
    "Este ID, lo convertiremos en el ID_product y asignaremos un nuevo ID, ya que vamos a agregar una nueva columna con la fecha en la cual se guarda este fichero (en principio, como es un proceso continuo debería de corresponder con la fecha de descarga)."
   ]
  },
  {
   "cell_type": "code",
   "execution_count": 40,
   "metadata": {},
   "outputs": [
    {
     "data": {
      "text/html": [
       "<div>\n",
       "<style scoped>\n",
       "    .dataframe tbody tr th:only-of-type {\n",
       "        vertical-align: middle;\n",
       "    }\n",
       "\n",
       "    .dataframe tbody tr th {\n",
       "        vertical-align: top;\n",
       "    }\n",
       "\n",
       "    .dataframe thead th {\n",
       "        text-align: right;\n",
       "    }\n",
       "</style>\n",
       "<table border=\"1\" class=\"dataframe\">\n",
       "  <thead>\n",
       "    <tr style=\"text-align: right;\">\n",
       "      <th></th>\n",
       "      <th>ID</th>\n",
       "      <th>ID_PRODUCT</th>\n",
       "      <th>REGULAR_PRICE</th>\n",
       "      <th>DISCOUNT_PRICE</th>\n",
       "      <th>FECHA</th>\n",
       "    </tr>\n",
       "  </thead>\n",
       "  <tbody>\n",
       "    <tr>\n",
       "      <th>0</th>\n",
       "      <td>0</td>\n",
       "      <td>0</td>\n",
       "      <td>69.99</td>\n",
       "      <td>39.99</td>\n",
       "      <td>231012</td>\n",
       "    </tr>\n",
       "    <tr>\n",
       "      <th>1</th>\n",
       "      <td>1</td>\n",
       "      <td>1</td>\n",
       "      <td>99.99</td>\n",
       "      <td>44.99</td>\n",
       "      <td>231012</td>\n",
       "    </tr>\n",
       "    <tr>\n",
       "      <th>2</th>\n",
       "      <td>2</td>\n",
       "      <td>2</td>\n",
       "      <td>79.99</td>\n",
       "      <td>29.99</td>\n",
       "      <td>231012</td>\n",
       "    </tr>\n",
       "    <tr>\n",
       "      <th>3</th>\n",
       "      <td>3</td>\n",
       "      <td>3</td>\n",
       "      <td>34.99</td>\n",
       "      <td>17.99</td>\n",
       "      <td>231012</td>\n",
       "    </tr>\n",
       "    <tr>\n",
       "      <th>4</th>\n",
       "      <td>4</td>\n",
       "      <td>4</td>\n",
       "      <td>79.99</td>\n",
       "      <td>59.99</td>\n",
       "      <td>231012</td>\n",
       "    </tr>\n",
       "  </tbody>\n",
       "</table>\n",
       "</div>"
      ],
      "text/plain": [
       "   ID  ID_PRODUCT  REGULAR_PRICE  DISCOUNT_PRICE   FECHA\n",
       "0   0           0          69.99           39.99  231012\n",
       "1   1           1          99.99           44.99  231012\n",
       "2   2           2          79.99           29.99  231012\n",
       "3   3           3          34.99           17.99  231012\n",
       "4   4           4          79.99           59.99  231012"
      ]
     },
     "execution_count": 40,
     "metadata": {},
     "output_type": "execute_result"
    }
   ],
   "source": [
    "dataframe=pd.read_csv(new_path)\n",
    "date=str(datetime.datetime.today().strftime('%y%m%d'))\n",
    "col_1 = dataframe.pop('REGULAR_PRICE')\n",
    "col_2=dataframe.pop('DISCOUNT_PRICE')\n",
    "col_3=dataframe['ID']\n",
    "# col_4=dataframe['ID']\n",
    "\n",
    "dataframe.insert(loc= 1 , column= 'ID_PRODUCT', value= col_3)\n",
    "dataframe.insert(loc= 2 , column= 'REGULAR_PRICE', value= col_1)\n",
    "dataframe.insert(loc= 3 , column= 'DISCOUNT_PRICE', value= col_2)\n",
    "\n",
    "df_prices=dataframe.iloc[:,:4]\n",
    "df_prices['FECHA']=date\n",
    "\n",
    "df_prices.head()"
   ]
  },
  {
   "cell_type": "code",
   "execution_count": 41,
   "metadata": {},
   "outputs": [
    {
     "name": "stdout",
     "output_type": "stream",
     "text": [
      "<class 'pandas.core.frame.DataFrame'>\n",
      "RangeIndex: 561 entries, 0 to 560\n",
      "Data columns (total 5 columns):\n",
      " #   Column          Non-Null Count  Dtype  \n",
      "---  ------          --------------  -----  \n",
      " 0   ID              561 non-null    int64  \n",
      " 1   ID_PRODUCT      561 non-null    int64  \n",
      " 2   REGULAR_PRICE   561 non-null    float64\n",
      " 3   DISCOUNT_PRICE  561 non-null    float64\n",
      " 4   FECHA           561 non-null    object \n",
      "dtypes: float64(2), int64(2), object(1)\n",
      "memory usage: 22.0+ KB\n"
     ]
    }
   ],
   "source": [
    "df_prices.info()"
   ]
  },
  {
   "cell_type": "markdown",
   "metadata": {},
   "source": [
    "Vamos a guardar el dataframe en un .csv, para lo cual vamos a agregar una fecha en el nombre para saber cuándo se subio el fichero."
   ]
  },
  {
   "cell_type": "code",
   "execution_count": 47,
   "metadata": {},
   "outputs": [],
   "source": [
    "name='precios'\n",
    "new_name=name+'_'+date\n",
    "new_name\n",
    "folder_to_upload='./Data/'+new_name+'.csv'\n",
    "folder_to_upload\n",
    "df_prices.to_csv(folder_to_upload,header=True,index=False)"
   ]
  },
  {
   "attachments": {},
   "cell_type": "markdown",
   "metadata": {},
   "source": [
    "## 4.- Adecuamos el campo **Date** y el campo **Users**."
   ]
  },
  {
   "cell_type": "code",
   "execution_count": 49,
   "metadata": {},
   "outputs": [],
   "source": [
    "comentarios=r'\\Data\\comentarios_scrape.csv'"
   ]
  },
  {
   "cell_type": "code",
   "execution_count": 50,
   "metadata": {},
   "outputs": [],
   "source": [
    "folder\n",
    "new_path =folder+comentarios\n",
    "df_comments=pd.read_csv(new_path)"
   ]
  },
  {
   "cell_type": "code",
   "execution_count": 51,
   "metadata": {},
   "outputs": [
    {
     "data": {
      "text/html": [
       "<div>\n",
       "<style scoped>\n",
       "    .dataframe tbody tr th:only-of-type {\n",
       "        vertical-align: middle;\n",
       "    }\n",
       "\n",
       "    .dataframe tbody tr th {\n",
       "        vertical-align: top;\n",
       "    }\n",
       "\n",
       "    .dataframe thead th {\n",
       "        text-align: right;\n",
       "    }\n",
       "</style>\n",
       "<table border=\"1\" class=\"dataframe\">\n",
       "  <thead>\n",
       "    <tr style=\"text-align: right;\">\n",
       "      <th></th>\n",
       "      <th>Unnamed: 0</th>\n",
       "      <th>ID</th>\n",
       "      <th>DATE</th>\n",
       "      <th>RATIO</th>\n",
       "      <th>USERS</th>\n",
       "      <th>COMMENT</th>\n",
       "    </tr>\n",
       "  </thead>\n",
       "  <tbody>\n",
       "    <tr>\n",
       "      <th>0</th>\n",
       "      <td>0</td>\n",
       "      <td>1</td>\n",
       "      <td>miércoles 25 enero, 2023</td>\n",
       "      <td>5</td>\n",
       "      <td>Sara</td>\n",
       "      <td>Es un vibrador discreto y eficaz. Es uno de mi...</td>\n",
       "    </tr>\n",
       "    <tr>\n",
       "      <th>1</th>\n",
       "      <td>1</td>\n",
       "      <td>1</td>\n",
       "      <td>lunes 09 enero, 2023</td>\n",
       "      <td>5</td>\n",
       "      <td>Jesús</td>\n",
       "      <td>el vibrador de cabecera de mi mujer. Después d...</td>\n",
       "    </tr>\n",
       "    <tr>\n",
       "      <th>2</th>\n",
       "      <td>2</td>\n",
       "      <td>1</td>\n",
       "      <td>sábado 10 diciembre, 2022</td>\n",
       "      <td>3</td>\n",
       "      <td>Sara</td>\n",
       "      <td>Tenía uno de otra tienda y compré este porque ...</td>\n",
       "    </tr>\n",
       "    <tr>\n",
       "      <th>3</th>\n",
       "      <td>3</td>\n",
       "      <td>1</td>\n",
       "      <td>martes 04 octubre, 2022</td>\n",
       "      <td>5</td>\n",
       "      <td>Sara</td>\n",
       "      <td>Es una buena compra. Muy agradable, con difere...</td>\n",
       "    </tr>\n",
       "    <tr>\n",
       "      <th>4</th>\n",
       "      <td>4</td>\n",
       "      <td>1</td>\n",
       "      <td>jueves 07 julio, 2022</td>\n",
       "      <td>5</td>\n",
       "      <td>Álvaro</td>\n",
       "      <td>Buen juguete más centrado en los precalentamie...</td>\n",
       "    </tr>\n",
       "  </tbody>\n",
       "</table>\n",
       "</div>"
      ],
      "text/plain": [
       "   Unnamed: 0  ID                       DATE  RATIO   USERS  \\\n",
       "0           0   1   miércoles 25 enero, 2023      5    Sara   \n",
       "1           1   1       lunes 09 enero, 2023      5   Jesús   \n",
       "2           2   1  sábado 10 diciembre, 2022      3    Sara   \n",
       "3           3   1    martes 04 octubre, 2022      5    Sara   \n",
       "4           4   1      jueves 07 julio, 2022      5  Álvaro   \n",
       "\n",
       "                                             COMMENT  \n",
       "0  Es un vibrador discreto y eficaz. Es uno de mi...  \n",
       "1  el vibrador de cabecera de mi mujer. Después d...  \n",
       "2  Tenía uno de otra tienda y compré este porque ...  \n",
       "3  Es una buena compra. Muy agradable, con difere...  \n",
       "4  Buen juguete más centrado en los precalentamie...  "
      ]
     },
     "execution_count": 51,
     "metadata": {},
     "output_type": "execute_result"
    }
   ],
   "source": [
    "df_comments.head()"
   ]
  },
  {
   "attachments": {},
   "cell_type": "markdown",
   "metadata": {},
   "source": [
    "### a.- Date:\n",
    "\n",
    "Este campo en el fichero de comentarios es de tipo *string*, dado que no lo reconoce como date.\n",
    "\n",
    "Hay que solucionarlo, para lo cual elimineramos el día de la semana del mismo dejando el resto del texto y convirtiéndolo en tipo date.\n"
   ]
  },
  {
   "cell_type": "code",
   "execution_count": 52,
   "metadata": {},
   "outputs": [
    {
     "name": "stdout",
     "output_type": "stream",
     "text": [
      "<class 'pandas.core.frame.DataFrame'>\n",
      "RangeIndex: 10479 entries, 0 to 10478\n",
      "Data columns (total 6 columns):\n",
      " #   Column      Non-Null Count  Dtype \n",
      "---  ------      --------------  ----- \n",
      " 0   Unnamed: 0  10479 non-null  int64 \n",
      " 1   ID          10479 non-null  int64 \n",
      " 2   DATE        10479 non-null  object\n",
      " 3   RATIO       10479 non-null  int64 \n",
      " 4   USERS       10469 non-null  object\n",
      " 5   COMMENT     10479 non-null  object\n",
      "dtypes: int64(3), object(3)\n",
      "memory usage: 491.3+ KB\n"
     ]
    }
   ],
   "source": [
    "df_comments.info()"
   ]
  },
  {
   "attachments": {},
   "cell_type": "markdown",
   "metadata": {},
   "source": [
    "De la columna *DATE* extraigo los valores de *DAY*, *MONTH* y *YEAR*.\n",
    "\n",
    "Con la columna *MONTH* hago un mapeo para convertir en el número correspondiente del mes y así poder generar la nueva columna *DATE* con estos  datos."
   ]
  },
  {
   "cell_type": "code",
   "execution_count": 53,
   "metadata": {},
   "outputs": [
    {
     "data": {
      "text/html": [
       "<div>\n",
       "<style scoped>\n",
       "    .dataframe tbody tr th:only-of-type {\n",
       "        vertical-align: middle;\n",
       "    }\n",
       "\n",
       "    .dataframe tbody tr th {\n",
       "        vertical-align: top;\n",
       "    }\n",
       "\n",
       "    .dataframe thead th {\n",
       "        text-align: right;\n",
       "    }\n",
       "</style>\n",
       "<table border=\"1\" class=\"dataframe\">\n",
       "  <thead>\n",
       "    <tr style=\"text-align: right;\">\n",
       "      <th></th>\n",
       "      <th>Unnamed: 0</th>\n",
       "      <th>ID</th>\n",
       "      <th>DATE</th>\n",
       "      <th>RATIO</th>\n",
       "      <th>USERS</th>\n",
       "      <th>COMMENT</th>\n",
       "      <th>DAY</th>\n",
       "      <th>MONTH</th>\n",
       "      <th>YEAR</th>\n",
       "    </tr>\n",
       "  </thead>\n",
       "  <tbody>\n",
       "    <tr>\n",
       "      <th>0</th>\n",
       "      <td>0</td>\n",
       "      <td>1</td>\n",
       "      <td>miércoles 25 enero, 2023</td>\n",
       "      <td>5</td>\n",
       "      <td>Sara</td>\n",
       "      <td>Es un vibrador discreto y eficaz. Es uno de mi...</td>\n",
       "      <td>25</td>\n",
       "      <td>1</td>\n",
       "      <td>2023</td>\n",
       "    </tr>\n",
       "    <tr>\n",
       "      <th>1</th>\n",
       "      <td>1</td>\n",
       "      <td>1</td>\n",
       "      <td>lunes 09 enero, 2023</td>\n",
       "      <td>5</td>\n",
       "      <td>Jesús</td>\n",
       "      <td>el vibrador de cabecera de mi mujer. Después d...</td>\n",
       "      <td>9</td>\n",
       "      <td>1</td>\n",
       "      <td>2023</td>\n",
       "    </tr>\n",
       "    <tr>\n",
       "      <th>2</th>\n",
       "      <td>2</td>\n",
       "      <td>1</td>\n",
       "      <td>sábado 10 diciembre, 2022</td>\n",
       "      <td>3</td>\n",
       "      <td>Sara</td>\n",
       "      <td>Tenía uno de otra tienda y compré este porque ...</td>\n",
       "      <td>10</td>\n",
       "      <td>12</td>\n",
       "      <td>2022</td>\n",
       "    </tr>\n",
       "    <tr>\n",
       "      <th>3</th>\n",
       "      <td>3</td>\n",
       "      <td>1</td>\n",
       "      <td>martes 04 octubre, 2022</td>\n",
       "      <td>5</td>\n",
       "      <td>Sara</td>\n",
       "      <td>Es una buena compra. Muy agradable, con difere...</td>\n",
       "      <td>4</td>\n",
       "      <td>10</td>\n",
       "      <td>2022</td>\n",
       "    </tr>\n",
       "    <tr>\n",
       "      <th>4</th>\n",
       "      <td>4</td>\n",
       "      <td>1</td>\n",
       "      <td>jueves 07 julio, 2022</td>\n",
       "      <td>5</td>\n",
       "      <td>Álvaro</td>\n",
       "      <td>Buen juguete más centrado en los precalentamie...</td>\n",
       "      <td>7</td>\n",
       "      <td>7</td>\n",
       "      <td>2022</td>\n",
       "    </tr>\n",
       "  </tbody>\n",
       "</table>\n",
       "</div>"
      ],
      "text/plain": [
       "   Unnamed: 0  ID                       DATE  RATIO   USERS  \\\n",
       "0           0   1   miércoles 25 enero, 2023      5    Sara   \n",
       "1           1   1       lunes 09 enero, 2023      5   Jesús   \n",
       "2           2   1  sábado 10 diciembre, 2022      3    Sara   \n",
       "3           3   1    martes 04 octubre, 2022      5    Sara   \n",
       "4           4   1      jueves 07 julio, 2022      5  Álvaro   \n",
       "\n",
       "                                             COMMENT  DAY  MONTH  YEAR  \n",
       "0  Es un vibrador discreto y eficaz. Es uno de mi...   25      1  2023  \n",
       "1  el vibrador de cabecera de mi mujer. Después d...    9      1  2023  \n",
       "2  Tenía uno de otra tienda y compré este porque ...   10     12  2022  \n",
       "3  Es una buena compra. Muy agradable, con difere...    4     10  2022  \n",
       "4  Buen juguete más centrado en los precalentamie...    7      7  2022  "
      ]
     },
     "execution_count": 53,
     "metadata": {},
     "output_type": "execute_result"
    }
   ],
   "source": [
    "df_comments['DAY']=df_comments['DATE'].str.split(' ').str.get(1).astype('Int64')\n",
    "df_comments['MONTH']=df_comments['DATE'].str.split(' ').str.get(2).str.split(',').str.get(0)\n",
    "df_comments['YEAR']=df_comments['DATE'].str.split(' ').str.get(-1).astype('Int64')\n",
    "dm_mapping={\n",
    "    'enero':1, \n",
    "    'febrero':2, \n",
    "    'marzo':3, \n",
    "    'abril':4, \n",
    "    'mayo':5,\n",
    "    'junio':6, \n",
    "    'julio':7,\n",
    "    'agosto':8, \n",
    "    'septiembre':9, \n",
    "    'octubre':10, \n",
    "    'noviembre':11, \n",
    "    'diciembre':12,\n",
    "} \n",
    "df_comments['MONTH']=df_comments['MONTH'].map(dm_mapping)\n",
    "df_comments.head()"
   ]
  },
  {
   "attachments": {},
   "cell_type": "markdown",
   "metadata": {},
   "source": [
    "Convierto la columna *DATE* en datetime con los datos de las 3 últimas columnas."
   ]
  },
  {
   "cell_type": "code",
   "execution_count": 54,
   "metadata": {},
   "outputs": [
    {
     "data": {
      "text/html": [
       "<div>\n",
       "<style scoped>\n",
       "    .dataframe tbody tr th:only-of-type {\n",
       "        vertical-align: middle;\n",
       "    }\n",
       "\n",
       "    .dataframe tbody tr th {\n",
       "        vertical-align: top;\n",
       "    }\n",
       "\n",
       "    .dataframe thead th {\n",
       "        text-align: right;\n",
       "    }\n",
       "</style>\n",
       "<table border=\"1\" class=\"dataframe\">\n",
       "  <thead>\n",
       "    <tr style=\"text-align: right;\">\n",
       "      <th></th>\n",
       "      <th>Unnamed: 0</th>\n",
       "      <th>ID</th>\n",
       "      <th>DATE</th>\n",
       "      <th>RATIO</th>\n",
       "      <th>USERS</th>\n",
       "      <th>COMMENT</th>\n",
       "      <th>DAY</th>\n",
       "      <th>MONTH</th>\n",
       "      <th>YEAR</th>\n",
       "    </tr>\n",
       "  </thead>\n",
       "  <tbody>\n",
       "    <tr>\n",
       "      <th>10474</th>\n",
       "      <td>10925</td>\n",
       "      <td>574</td>\n",
       "      <td>2019-11-06</td>\n",
       "      <td>2</td>\n",
       "      <td>Maria</td>\n",
       "      <td>No está mal, pero puede resultar frustrante. E...</td>\n",
       "      <td>6</td>\n",
       "      <td>11</td>\n",
       "      <td>2019</td>\n",
       "    </tr>\n",
       "    <tr>\n",
       "      <th>10475</th>\n",
       "      <td>10926</td>\n",
       "      <td>574</td>\n",
       "      <td>2018-04-03</td>\n",
       "      <td>3</td>\n",
       "      <td>Miguel Ángel</td>\n",
       "      <td>Buen tacto, aunque por su forma hay que estar ...</td>\n",
       "      <td>3</td>\n",
       "      <td>4</td>\n",
       "      <td>2018</td>\n",
       "    </tr>\n",
       "    <tr>\n",
       "      <th>10476</th>\n",
       "      <td>10927</td>\n",
       "      <td>574</td>\n",
       "      <td>2018-03-12</td>\n",
       "      <td>5</td>\n",
       "      <td>j.r.d.</td>\n",
       "      <td>Tacto muy suave, no lo hemos provado mucho per...</td>\n",
       "      <td>12</td>\n",
       "      <td>3</td>\n",
       "      <td>2018</td>\n",
       "    </tr>\n",
       "    <tr>\n",
       "      <th>10477</th>\n",
       "      <td>10928</td>\n",
       "      <td>574</td>\n",
       "      <td>2018-02-08</td>\n",
       "      <td>3</td>\n",
       "      <td>Amaya</td>\n",
       "      <td>El tacto es genial, muy agradable y suave. La ...</td>\n",
       "      <td>8</td>\n",
       "      <td>2</td>\n",
       "      <td>2018</td>\n",
       "    </tr>\n",
       "    <tr>\n",
       "      <th>10478</th>\n",
       "      <td>10929</td>\n",
       "      <td>575</td>\n",
       "      <td>2019-10-08</td>\n",
       "      <td>1</td>\n",
       "      <td>Maria</td>\n",
       "      <td>OJO con este. Lo compramos porque el ARO THIN ...</td>\n",
       "      <td>8</td>\n",
       "      <td>10</td>\n",
       "      <td>2019</td>\n",
       "    </tr>\n",
       "  </tbody>\n",
       "</table>\n",
       "</div>"
      ],
      "text/plain": [
       "       Unnamed: 0   ID       DATE  RATIO         USERS  \\\n",
       "10474       10925  574 2019-11-06      2         Maria   \n",
       "10475       10926  574 2018-04-03      3  Miguel Ángel   \n",
       "10476       10927  574 2018-03-12      5        j.r.d.   \n",
       "10477       10928  574 2018-02-08      3         Amaya   \n",
       "10478       10929  575 2019-10-08      1         Maria   \n",
       "\n",
       "                                                 COMMENT  DAY  MONTH  YEAR  \n",
       "10474  No está mal, pero puede resultar frustrante. E...    6     11  2019  \n",
       "10475  Buen tacto, aunque por su forma hay que estar ...    3      4  2018  \n",
       "10476  Tacto muy suave, no lo hemos provado mucho per...   12      3  2018  \n",
       "10477  El tacto es genial, muy agradable y suave. La ...    8      2  2018  \n",
       "10478  OJO con este. Lo compramos porque el ARO THIN ...    8     10  2019  "
      ]
     },
     "execution_count": 54,
     "metadata": {},
     "output_type": "execute_result"
    }
   ],
   "source": [
    "df_comments['DATE'] = pd.to_datetime(df_comments.iloc[:,-3:])\n",
    "df_comments.tail()"
   ]
  },
  {
   "attachments": {},
   "cell_type": "markdown",
   "metadata": {},
   "source": [
    "Cabe la posibilidad de eliminar las 3 últimas columnas. \n",
    "\n",
    "Esto lo valoraremos después cuando hagamos visualizaciones.\n",
    "\n",
    "De momento lo dejaremos comentado."
   ]
  },
  {
   "cell_type": "code",
   "execution_count": 55,
   "metadata": {},
   "outputs": [
    {
     "data": {
      "text/html": [
       "<div>\n",
       "<style scoped>\n",
       "    .dataframe tbody tr th:only-of-type {\n",
       "        vertical-align: middle;\n",
       "    }\n",
       "\n",
       "    .dataframe tbody tr th {\n",
       "        vertical-align: top;\n",
       "    }\n",
       "\n",
       "    .dataframe thead th {\n",
       "        text-align: right;\n",
       "    }\n",
       "</style>\n",
       "<table border=\"1\" class=\"dataframe\">\n",
       "  <thead>\n",
       "    <tr style=\"text-align: right;\">\n",
       "      <th></th>\n",
       "      <th>Unnamed: 0</th>\n",
       "      <th>ID</th>\n",
       "      <th>DATE</th>\n",
       "      <th>RATIO</th>\n",
       "      <th>USERS</th>\n",
       "      <th>COMMENT</th>\n",
       "    </tr>\n",
       "  </thead>\n",
       "  <tbody>\n",
       "    <tr>\n",
       "      <th>0</th>\n",
       "      <td>0</td>\n",
       "      <td>1</td>\n",
       "      <td>2023-01-25</td>\n",
       "      <td>5</td>\n",
       "      <td>Sara</td>\n",
       "      <td>Es un vibrador discreto y eficaz. Es uno de mi...</td>\n",
       "    </tr>\n",
       "    <tr>\n",
       "      <th>1</th>\n",
       "      <td>1</td>\n",
       "      <td>1</td>\n",
       "      <td>2023-01-09</td>\n",
       "      <td>5</td>\n",
       "      <td>Jesús</td>\n",
       "      <td>el vibrador de cabecera de mi mujer. Después d...</td>\n",
       "    </tr>\n",
       "    <tr>\n",
       "      <th>2</th>\n",
       "      <td>2</td>\n",
       "      <td>1</td>\n",
       "      <td>2022-12-10</td>\n",
       "      <td>3</td>\n",
       "      <td>Sara</td>\n",
       "      <td>Tenía uno de otra tienda y compré este porque ...</td>\n",
       "    </tr>\n",
       "    <tr>\n",
       "      <th>3</th>\n",
       "      <td>3</td>\n",
       "      <td>1</td>\n",
       "      <td>2022-10-04</td>\n",
       "      <td>5</td>\n",
       "      <td>Sara</td>\n",
       "      <td>Es una buena compra. Muy agradable, con difere...</td>\n",
       "    </tr>\n",
       "    <tr>\n",
       "      <th>4</th>\n",
       "      <td>4</td>\n",
       "      <td>1</td>\n",
       "      <td>2022-07-07</td>\n",
       "      <td>5</td>\n",
       "      <td>Álvaro</td>\n",
       "      <td>Buen juguete más centrado en los precalentamie...</td>\n",
       "    </tr>\n",
       "    <tr>\n",
       "      <th>...</th>\n",
       "      <td>...</td>\n",
       "      <td>...</td>\n",
       "      <td>...</td>\n",
       "      <td>...</td>\n",
       "      <td>...</td>\n",
       "      <td>...</td>\n",
       "    </tr>\n",
       "    <tr>\n",
       "      <th>10474</th>\n",
       "      <td>10925</td>\n",
       "      <td>574</td>\n",
       "      <td>2019-11-06</td>\n",
       "      <td>2</td>\n",
       "      <td>Maria</td>\n",
       "      <td>No está mal, pero puede resultar frustrante. E...</td>\n",
       "    </tr>\n",
       "    <tr>\n",
       "      <th>10475</th>\n",
       "      <td>10926</td>\n",
       "      <td>574</td>\n",
       "      <td>2018-04-03</td>\n",
       "      <td>3</td>\n",
       "      <td>Miguel Ángel</td>\n",
       "      <td>Buen tacto, aunque por su forma hay que estar ...</td>\n",
       "    </tr>\n",
       "    <tr>\n",
       "      <th>10476</th>\n",
       "      <td>10927</td>\n",
       "      <td>574</td>\n",
       "      <td>2018-03-12</td>\n",
       "      <td>5</td>\n",
       "      <td>j.r.d.</td>\n",
       "      <td>Tacto muy suave, no lo hemos provado mucho per...</td>\n",
       "    </tr>\n",
       "    <tr>\n",
       "      <th>10477</th>\n",
       "      <td>10928</td>\n",
       "      <td>574</td>\n",
       "      <td>2018-02-08</td>\n",
       "      <td>3</td>\n",
       "      <td>Amaya</td>\n",
       "      <td>El tacto es genial, muy agradable y suave. La ...</td>\n",
       "    </tr>\n",
       "    <tr>\n",
       "      <th>10478</th>\n",
       "      <td>10929</td>\n",
       "      <td>575</td>\n",
       "      <td>2019-10-08</td>\n",
       "      <td>1</td>\n",
       "      <td>Maria</td>\n",
       "      <td>OJO con este. Lo compramos porque el ARO THIN ...</td>\n",
       "    </tr>\n",
       "  </tbody>\n",
       "</table>\n",
       "<p>10479 rows × 6 columns</p>\n",
       "</div>"
      ],
      "text/plain": [
       "       Unnamed: 0   ID       DATE  RATIO         USERS  \\\n",
       "0               0    1 2023-01-25      5          Sara   \n",
       "1               1    1 2023-01-09      5         Jesús   \n",
       "2               2    1 2022-12-10      3          Sara   \n",
       "3               3    1 2022-10-04      5          Sara   \n",
       "4               4    1 2022-07-07      5        Álvaro   \n",
       "...           ...  ...        ...    ...           ...   \n",
       "10474       10925  574 2019-11-06      2         Maria   \n",
       "10475       10926  574 2018-04-03      3  Miguel Ángel   \n",
       "10476       10927  574 2018-03-12      5        j.r.d.   \n",
       "10477       10928  574 2018-02-08      3         Amaya   \n",
       "10478       10929  575 2019-10-08      1         Maria   \n",
       "\n",
       "                                                 COMMENT  \n",
       "0      Es un vibrador discreto y eficaz. Es uno de mi...  \n",
       "1      el vibrador de cabecera de mi mujer. Después d...  \n",
       "2      Tenía uno de otra tienda y compré este porque ...  \n",
       "3      Es una buena compra. Muy agradable, con difere...  \n",
       "4      Buen juguete más centrado en los precalentamie...  \n",
       "...                                                  ...  \n",
       "10474  No está mal, pero puede resultar frustrante. E...  \n",
       "10475  Buen tacto, aunque por su forma hay que estar ...  \n",
       "10476  Tacto muy suave, no lo hemos provado mucho per...  \n",
       "10477  El tacto es genial, muy agradable y suave. La ...  \n",
       "10478  OJO con este. Lo compramos porque el ARO THIN ...  \n",
       "\n",
       "[10479 rows x 6 columns]"
      ]
     },
     "execution_count": 55,
     "metadata": {},
     "output_type": "execute_result"
    }
   ],
   "source": [
    "df_comments=df_comments.iloc[:,:-3]\n",
    "df_comments"
   ]
  },
  {
   "attachments": {},
   "cell_type": "markdown",
   "metadata": {},
   "source": [
    "### b. Users:\n",
    "\n",
    "Vamos a discriminar en función de si un nombre de usuario a escrito un comentario sobre un producto, si vuelve a aparecer este nombre se genere un nombre nuevo, que será el mismo con un dígito para distinguirlos.\n",
    "\n",
    "Es cierto que esta forma de presentar los datos a través de la página web aumenta el anonimato de las personas que lo compran, ya que lo habitual es que se repitan nombres sin coincidir con un mismo usuario (¿cuántos José hay en España?¿y en el mundo?)\n",
    "\n",
    "No es posible hacer un seguimiento de qué productos compran las personas de este modo, pero vamos a realizar un \"simulacro\" de cómo se debería de realizar.\n",
    "\n",
    "El modo correcto sería usando id de usuarios, lo que solo es posible por parte de la empresa o si se utilizarán nicks para que aparecieran los usuarios que realizan los comentarios por su nick."
   ]
  },
  {
   "cell_type": "code",
   "execution_count": 56,
   "metadata": {},
   "outputs": [],
   "source": [
    "nombre_count = {}\n",
    "count = {}\n",
    "\n",
    "for i, row in df_comments.iterrows():\n",
    "    id = row['ID']\n",
    "    nombre = row['USERS']\n",
    "    \n",
    "    if id not in count:\n",
    "        count[id] = {}\n",
    "        \n",
    "    if nombre in count[id]:\n",
    "        count[id][nombre] += 1\n",
    "        nueva_nombre = f\"{nombre}_{count[id][nombre]}\"\n",
    "        df_comments.loc[i, 'USERS'] = nueva_nombre\n",
    "    else:\n",
    "        count[id][nombre] = 1\n",
    "\n"
   ]
  },
  {
   "cell_type": "code",
   "execution_count": 57,
   "metadata": {},
   "outputs": [
    {
     "name": "stdout",
     "output_type": "stream",
     "text": [
      "<class 'pandas.core.frame.DataFrame'>\n",
      "RangeIndex: 10479 entries, 0 to 10478\n",
      "Data columns (total 6 columns):\n",
      " #   Column      Non-Null Count  Dtype         \n",
      "---  ------      --------------  -----         \n",
      " 0   Unnamed: 0  10479 non-null  int64         \n",
      " 1   ID          10479 non-null  int64         \n",
      " 2   DATE        10479 non-null  datetime64[ns]\n",
      " 3   RATIO       10479 non-null  int64         \n",
      " 4   USERS       10471 non-null  object        \n",
      " 5   COMMENT     10479 non-null  object        \n",
      "dtypes: datetime64[ns](1), int64(3), object(2)\n",
      "memory usage: 491.3+ KB\n"
     ]
    }
   ],
   "source": [
    "df_comments.info()"
   ]
  },
  {
   "attachments": {},
   "cell_type": "markdown",
   "metadata": {},
   "source": [
    "Verificamos.... \n",
    "\n",
    "Lo hacemos realizando sustituiciones de nombres y nombres_digito diferenciador para nombres comunes."
   ]
  },
  {
   "cell_type": "code",
   "execution_count": 58,
   "metadata": {},
   "outputs": [
    {
     "data": {
      "text/html": [
       "<div>\n",
       "<style scoped>\n",
       "    .dataframe tbody tr th:only-of-type {\n",
       "        vertical-align: middle;\n",
       "    }\n",
       "\n",
       "    .dataframe tbody tr th {\n",
       "        vertical-align: top;\n",
       "    }\n",
       "\n",
       "    .dataframe thead th {\n",
       "        text-align: right;\n",
       "    }\n",
       "</style>\n",
       "<table border=\"1\" class=\"dataframe\">\n",
       "  <thead>\n",
       "    <tr style=\"text-align: right;\">\n",
       "      <th></th>\n",
       "      <th>Unnamed: 0</th>\n",
       "      <th>ID</th>\n",
       "      <th>DATE</th>\n",
       "      <th>RATIO</th>\n",
       "      <th>USERS</th>\n",
       "      <th>COMMENT</th>\n",
       "    </tr>\n",
       "  </thead>\n",
       "  <tbody>\n",
       "    <tr>\n",
       "      <th>525</th>\n",
       "      <td>525</td>\n",
       "      <td>10</td>\n",
       "      <td>2020-06-03</td>\n",
       "      <td>5</td>\n",
       "      <td>Maria_2</td>\n",
       "      <td>Me gusta mucho la marca Desliz! Lo uso con mis...</td>\n",
       "    </tr>\n",
       "    <tr>\n",
       "      <th>1095</th>\n",
       "      <td>1095</td>\n",
       "      <td>15</td>\n",
       "      <td>2021-11-29</td>\n",
       "      <td>5</td>\n",
       "      <td>Maria_2</td>\n",
       "      <td>Buenos días, tengo una consulta. Para desinfec...</td>\n",
       "    </tr>\n",
       "    <tr>\n",
       "      <th>1439</th>\n",
       "      <td>1439</td>\n",
       "      <td>26</td>\n",
       "      <td>2013-07-17</td>\n",
       "      <td>3</td>\n",
       "      <td>Maria_2</td>\n",
       "      <td>Nunca supe ser breve así q por lo menos seré o...</td>\n",
       "    </tr>\n",
       "    <tr>\n",
       "      <th>3763</th>\n",
       "      <td>4008</td>\n",
       "      <td>126</td>\n",
       "      <td>2020-12-15</td>\n",
       "      <td>5</td>\n",
       "      <td>Maria_2</td>\n",
       "      <td>Muy práctica para guardar los juguetitos indiv...</td>\n",
       "    </tr>\n",
       "    <tr>\n",
       "      <th>4537</th>\n",
       "      <td>4782</td>\n",
       "      <td>136</td>\n",
       "      <td>2019-06-02</td>\n",
       "      <td>5</td>\n",
       "      <td>Maria_2</td>\n",
       "      <td>Enamorada me hallo. Compré por probar y me ha ...</td>\n",
       "    </tr>\n",
       "    <tr>\n",
       "      <th>5181</th>\n",
       "      <td>5507</td>\n",
       "      <td>172</td>\n",
       "      <td>2016-04-16</td>\n",
       "      <td>5</td>\n",
       "      <td>Maria_2</td>\n",
       "      <td>UUfff sin palabras te deja la maquineta ,,,, T...</td>\n",
       "    </tr>\n",
       "    <tr>\n",
       "      <th>5554</th>\n",
       "      <td>6005</td>\n",
       "      <td>203</td>\n",
       "      <td>2018-09-18</td>\n",
       "      <td>5</td>\n",
       "      <td>Maria_2</td>\n",
       "      <td>Tiene una vibración muy potente y hace mucho r...</td>\n",
       "    </tr>\n",
       "    <tr>\n",
       "      <th>5687</th>\n",
       "      <td>6138</td>\n",
       "      <td>204</td>\n",
       "      <td>2019-02-11</td>\n",
       "      <td>5</td>\n",
       "      <td>Maria_2</td>\n",
       "      <td>aún no lo he utilizado porque no he tenido oca...</td>\n",
       "    </tr>\n",
       "    <tr>\n",
       "      <th>6259</th>\n",
       "      <td>6710</td>\n",
       "      <td>205</td>\n",
       "      <td>2009-09-15</td>\n",
       "      <td>5</td>\n",
       "      <td>Maria_2</td>\n",
       "      <td>Lleva varios meses en casa y ahora ya si puedo...</td>\n",
       "    </tr>\n",
       "    <tr>\n",
       "      <th>7180</th>\n",
       "      <td>7631</td>\n",
       "      <td>279</td>\n",
       "      <td>2014-10-22</td>\n",
       "      <td>5</td>\n",
       "      <td>Maria_2</td>\n",
       "      <td>Genial, cunde muchísimo, aroma, textura y sabo...</td>\n",
       "    </tr>\n",
       "    <tr>\n",
       "      <th>7623</th>\n",
       "      <td>8074</td>\n",
       "      <td>290</td>\n",
       "      <td>2020-01-07</td>\n",
       "      <td>5</td>\n",
       "      <td>Maria_2</td>\n",
       "      <td>¡Por fin pongo orden en mi caja de juegos! Lle...</td>\n",
       "    </tr>\n",
       "    <tr>\n",
       "      <th>8582</th>\n",
       "      <td>9033</td>\n",
       "      <td>363</td>\n",
       "      <td>2014-10-22</td>\n",
       "      <td>5</td>\n",
       "      <td>Maria_2</td>\n",
       "      <td>Muy agradable y cumple lo que promete en cuant...</td>\n",
       "    </tr>\n",
       "    <tr>\n",
       "      <th>8799</th>\n",
       "      <td>9250</td>\n",
       "      <td>367</td>\n",
       "      <td>2022-10-27</td>\n",
       "      <td>5</td>\n",
       "      <td>Maria_2</td>\n",
       "      <td>Tiene el tamaño que iba buscando para iniciarm...</td>\n",
       "    </tr>\n",
       "    <tr>\n",
       "      <th>9379</th>\n",
       "      <td>9830</td>\n",
       "      <td>413</td>\n",
       "      <td>2010-04-07</td>\n",
       "      <td>5</td>\n",
       "      <td>Maria_2</td>\n",
       "      <td>Perfecto para meter en el lo justo y necesario...</td>\n",
       "    </tr>\n",
       "  </tbody>\n",
       "</table>\n",
       "</div>"
      ],
      "text/plain": [
       "      Unnamed: 0   ID       DATE  RATIO    USERS  \\\n",
       "525          525   10 2020-06-03      5  Maria_2   \n",
       "1095        1095   15 2021-11-29      5  Maria_2   \n",
       "1439        1439   26 2013-07-17      3  Maria_2   \n",
       "3763        4008  126 2020-12-15      5  Maria_2   \n",
       "4537        4782  136 2019-06-02      5  Maria_2   \n",
       "5181        5507  172 2016-04-16      5  Maria_2   \n",
       "5554        6005  203 2018-09-18      5  Maria_2   \n",
       "5687        6138  204 2019-02-11      5  Maria_2   \n",
       "6259        6710  205 2009-09-15      5  Maria_2   \n",
       "7180        7631  279 2014-10-22      5  Maria_2   \n",
       "7623        8074  290 2020-01-07      5  Maria_2   \n",
       "8582        9033  363 2014-10-22      5  Maria_2   \n",
       "8799        9250  367 2022-10-27      5  Maria_2   \n",
       "9379        9830  413 2010-04-07      5  Maria_2   \n",
       "\n",
       "                                                COMMENT  \n",
       "525   Me gusta mucho la marca Desliz! Lo uso con mis...  \n",
       "1095  Buenos días, tengo una consulta. Para desinfec...  \n",
       "1439  Nunca supe ser breve así q por lo menos seré o...  \n",
       "3763  Muy práctica para guardar los juguetitos indiv...  \n",
       "4537  Enamorada me hallo. Compré por probar y me ha ...  \n",
       "5181  UUfff sin palabras te deja la maquineta ,,,, T...  \n",
       "5554  Tiene una vibración muy potente y hace mucho r...  \n",
       "5687  aún no lo he utilizado porque no he tenido oca...  \n",
       "6259  Lleva varios meses en casa y ahora ya si puedo...  \n",
       "7180  Genial, cunde muchísimo, aroma, textura y sabo...  \n",
       "7623  ¡Por fin pongo orden en mi caja de juegos! Lle...  \n",
       "8582  Muy agradable y cumple lo que promete en cuant...  \n",
       "8799  Tiene el tamaño que iba buscando para iniciarm...  \n",
       "9379  Perfecto para meter en el lo justo y necesario...  "
      ]
     },
     "execution_count": 58,
     "metadata": {},
     "output_type": "execute_result"
    }
   ],
   "source": [
    "df_comments[df_comments['USERS']=='Maria_2']"
   ]
  },
  {
   "attachments": {},
   "cell_type": "markdown",
   "metadata": {},
   "source": [
    "Vamos a generar un nuevo dataframe con los datos de los usuarios para pasarlos posteriormente a una base de datos relacional y que así esté lo más atomizada posible."
   ]
  },
  {
   "cell_type": "code",
   "execution_count": 59,
   "metadata": {},
   "outputs": [
    {
     "data": {
      "text/plain": [
       "2021"
      ]
     },
     "execution_count": 59,
     "metadata": {},
     "output_type": "execute_result"
    }
   ],
   "source": [
    "lista_users=df_comments['USERS'].unique()\n",
    "len(lista_users)"
   ]
  },
  {
   "cell_type": "code",
   "execution_count": 60,
   "metadata": {},
   "outputs": [
    {
     "name": "stdout",
     "output_type": "stream",
     "text": [
      "{'Sara': 0, 'Jesús': 1, 'Sara_2': 2, 'Sara_3': 3, 'Álvaro': 4, 'Yenifer': 5, 'Mirian': 6, 'Paula': 7, 'María': 8, 'María de Nieves': 9, 'rocio': 10, 'Candela': 11, 'Soraya': 12, 'Ricardo': 13, 'Alonso': 14, 'Lidia': 15, 'Clara': 16, 'Ana': 17, 'Joaquín': 18, 'VIOLETA': 19, 'David': 20, 'Luis': 21, 'Sonia': 22, 'Gema': 23, 'Angeles': 24, 'Javier': 25, 'Marta': 26, 'Paula_2': 27, 'Beatriz': 28, 'Jim': 29, 'Oscar': 30, 'Silvia': 31, 'Jesús Armand': 32, 'Angel': 33, 'Natalia': 34, 'Mario': 35, 'MARINA': 36, 'Christian': 37, 'Marina': 38, 'Gloria': 39, 'Antía': 40, 'Rosa': 41, 'Virginia': 42, 'Ariadna': 43, 'MARTA': 44, 'Fer': 45, 'Andrea': 46, 'Sacha': 47, 'Sergio': 48, 'Miguel': 49, 'Niko': 50, 'Javier_2': 51, 'Daniel': 52, 'BEATRIZ': 53, 'yolanda': 54, 'Bryan': 55, 'Manuel': 56, 'Úrsula': 57, 'Markos': 58, 'ainho': 59, 'Ruben': 60, 'antonio': 61, 'Juan José': 62, 'Sacha_2': 63, 'Laura': 64, 'DANYEL': 65, 'Claudia': 66, 'Sergio_2': 67, 'Javier_3': 68, 'Irene': 69, 'Jonathan': 70, 'Veronica': 71, 'Daphne': 72, 'Ángel Manuel': 73, 'CRISTINA': 74, 'Sonia_2': 75, 'Oriol': 76, 'Monica': 77, 'Javier_4': 78, 'José Mª': 79, 'jose': 80, 'CAROLINA': 81, 'Juan Antonio': 82, 'Michelle Angela': 83, 'jc': 84, 'MARIBEL': 85, 'Ignacio': 86, 'pedro': 87, 'Leonardo': 88, 'Laura_2': 89, 'Sergio_3': 90, 'Sebastian': 91, 'Jose Francisco': 92, 'Victor': 93, 'Guillermo': 94, 'carlos': 95, 'Ana Marina': 96, 'Raúl': 97, 'Julián': 98, 'nicolas': 99, 'RAFAEL': 100, 'Valentín': 101, 'paulo': 102, 'Jesus': 103, 'MARCOS': 104, 'Enrique': 105, 'Ignacio_2': 106, 'Miguel Angel': 107, 'Natacha': 108, 'Juan': 109, 'Vicent': 110, 'Ines': 111, 'antonio_2': 112, 'Maria': 113, 'Juan_2': 114, 'Jorge': 115, 'Adrian': 116, 'gemma': 117, 'alberto': 118, 'José Mª_2': 119, 'carlos_2': 120, 'VICENTE': 121, 'Damián': 122, 'MERYEL CORDOBA': 123, 'Carlos': 124, 'Manuel_2': 125, 'Francisco Jose': 126, 'jesus': 127, 'MARIA TERESA': 128, 'Javi': 129, 'Enrique_2': 130, 'Alberto': 131, 'Sergio_4': 132, 'Vicente': 133, 'Marco': 134, 'JesÃºs': 135, 'Rocío': 136, 'ANTONIO': 137, 'Sonia_3': 138, 'Miguel Angel_2': 139, 'Sonia_4': 140, 'Pilar': 141, 'oto': 142, 'Arturo': 143, 'Toni': 144, 'Sonia_5': 145, 'Nestor': 146, 'Eloisa': 147, 'jose maria': 148, 'JUAN': 149, 'Luz': 150, 'Elena': 151, 'María de los Ángeles': 152, 'Diego': 153, 'Yenifer_2': 154, 'Jorge_2': 155, 'Itziar': 156, 'Rocío_2': 157, 'Antonio': 158, 'Alberto_2': 159, 'Jo': 160, 'Elena_2': 161, 'juan': 162, 'Tere': 163, 'JUAN CARLOS': 164, 'Cesar': 165, 'jesus_2': 166, 'Gordy': 167, 'Lydia': 168, 'Raticulin': 169, 'Jesica': 170, 'Laura_3': 171, 'Roberto': 172, 'marcos': 173, 'Saúl': 174, 'Lolin': 175, 'Gabi': 176, 'Anselmo': 177, 'Jose Antonio': 178, 'Jose Antonio_2': 179, 'Antonio_2': 180, 'florentina gabriela': 181, 'manuel': 182, 'Joan': 183, 'ESTHER': 184, 'OSCAR': 185, 'raquel': 186, 'Roberto_2': 187, 'Jose A.': 188, 'Manuel_3': 189, 'Xabi': 190, 'antonio_3': 191, 'Alberto_3': 192, 'Hugo': 193, 'Jesus_2': 194, 'joan': 195, 'Víctor': 196, 'Javier_5': 197, 'Dan': 198, 'sergio': 199, 'Jesus_3': 200, 'ROBERTO': 201, 'David_2': 202, 'Sergio_5': 203, 'Alex': 204, 'David_3': 205, 'Cristina': 206, 'Alejandro': 207, 'arancha': 208, 'jaime': 209, 'Jorge_3': 210, 'Rafael Alejandro': 211, 'Ángel': 212, 'MERYEL CORDOBA_2': 213, 'Alfonso': 214, 'Armando': 215, 'Raúl_2': 216, 'Leticia': 217, 'Maribel': 218, 'Pablo': 219, 'Andrea_2': 220, 'Carlos_2': 221, 'Jose Manuel': 222, 'Rafa': 223, 'Fernando': 224, 'Ivan': 225, 'miguel': 226, 'jaime_2': 227, 'Juan francisco': 228, 'Eme': 229, 'Alba': 230, 'nerea': 231, 'Amaia': 232, 'Nuska': 233, 'esther': 234, 'Nerea': 235, 'Begoña': 236, 'Jennifer': 237, 'irene': 238, 'Caterina': 239, 'Manuela': 240, 'esther_2': 241, 'Nerea_2': 242, 'Samara': 243, 'VERÓNICA': 244, 'LAURA MARÍA': 245, 'esther_3': 246, 'Noelia': 247, 'yulema': 248, 'Isabel': 249, 'nuria': 250, 'Yvonne': 251, 'Sheila': 252, 'Carla': 253, 'ALEXANDER': 254, 'javier': 255, 'Jose David': 256, 'Rafael': 257, 'Anamaria Susana': 258, 'Noelia_2': 259, 'Leo': 260, 'Francisco': 261, 'Mireia': 262, 'JOSE ANTONIO': 263, 'Alba_2': 264, 'Fer_2': 265, 'teodoro': 266, 'francisco javier': 267, 'Lunder': 268, 'rene': 269, 'Anna': 270, 'lourdes': 271, 'Virginia_2': 272, 'Beatriz_2': 273, 'Antonio_3': 274, 'Sonia_6': 275, 'noelia': 276, 'bobtoni': 277, 'eva': 278, 'Sergi': 279, 'jordi': 280, 'Consuelo': 281, 'Nieves': 282, 'Juan francisco_2': 283, 'cristina': 284, 'javier_2': 285, 'libertad': 286, 'Francisco_2': 287, 'miram': 288, 'samuel': 289, 'Xinita': 290, 'Carlota': 291, 'maria teresa': 292, 'ivan': 293, 'maria': 294, 'Cristina_2': 295, 'maria teresa_2': 296, 'arancha_2': 297, 'Ana_2': 298, 'Alicia': 299, 'arancha_3': 300, 'JAVI': 301, 'esther_4': 302, 'M Carmen': 303, 'Fer_3': 304, 'arancha_4': 305, 'Nuria': 306, 'abel': 307, 'libe': 308, 'BUSCADOR': 309, 'JOSE ANTONIO_2': 310, 'Tamara': 311, 'carles': 312, 'Nuria_2': 313, 'Iria': 314, 'Ana Isabel': 315, 'Marc': 316, 'mar': 317, 'Ana_3': 318, 'Norka': 319, 'Fer_4': 320, 'Jefa': 321, 'maria teresa_3': 322, 'Nona84': 323, 'Toñi': 324, 'arancha_5': 325, 'Laura_4': 326, 'Estela': 327, 'Carolina': 328, 'Fernando_2': 329, 'arancha_6': 330, 'anónimo': 331, 'andres': 332, 'carmen': 333, 'Miriam': 334, 'pastora': 335, 'cojito juguetón': 336, 'Francisco Javier': 337, 'Fernando_3': 338, 'Ana_4': 339, 'alejandra': 340, 'oscar': 341, 'alejandra_2': 342, 'Marina_2': 343, 'Mónica': 344, 'Yaroslava': 345, 'Sandra': 346, 'ruben': 347, 'RUBEN': 348, 'Pedro': 349, 'Aitor': 350, 'Cristóbal': 351, 'jose antonio': 352, 'Ferran': 353, 'Jaime': 354, 'YASMINA': 355, 'Meri': 356, 'luis ernesto': 357, 'Helena': 358, 'Alvaro': 359, 'Carmen': 360, 'Lucía': 361, 'SARA': 362, 'Santi': 363, 'Carla_2': 364, 'David_4': 365, 'Meri_2': 366, 'Jesús_2': 367, 'Jose Enrique': 368, 'Carla_3': 369, 'Patricia': 370, 'Patricia_2': 371, 'Eva': 372, 'German': 373, 'África': 374, 'Melania': 375, 'Iván': 376, 'Raquel': 377, 'JAVIER': 378, 'Juan Rafael': 379, 'Miguel_2': 380, 'Miguel_3': 381, 'Esther': 382, 'amaya': 383, 'Joana': 384, 'David_5': 385, 'Alexandru': 386, 'Adolfo': 387, 'DAVID': 388, 'Miguel_4': 389, 'Alejandro_2': 390, 'Marcello': 391, 'marco': 392, 'maria jesus': 393, 'Alejandra': 394, 'Cristian': 395, 'Alonso_2': 396, 'Marta_2': 397, 'Noemi': 398, 'Patricia_3': 399, 'Maria_2': 400, 'Lucía_2': 401, 'Esther_2': 402, 'Marta_3': 403, 'Ricardo_2': 404, 'Jesús_3': 405, 'Nerea_3': 406, 'Leire': 407, 'anna': 408, 'Miriam_2': 409, 'Juan Manuel': 410, 'Leire_2': 411, 'Lorea': 412, 'Lorena': 413, 'MIGUEL ANGEL': 414, 'José': 415, 'Elvira': 416, 'Lydia_2': 417, 'rafael': 418, 'Juan Ignacio': 419, 'Juan Manuel_2': 420, 'LAURA': 421, 'Mercedes': 422, 'Monse': 423, 'Moge': 424, 'Álvaro Javier': 425, 'Lupe': 426, 'RICARDO': 427, 'Júlia': 428, 'Rebeca': 429, 'Carol': 430, 'Nerea_4': 431, 'Roser': 432, 'rosa ana': 433, 'jose luis': 434, 'Sandra_2': 435, 'Maurici': 436, 'Blanca': 437, 'Maria_3': 438, 'Koldo': 439, 'Rosario': 440, 'paula': 441, 'Pablo_2': 442, 'ERIC': 443, 'Karen': 444, 'Tomabel': 445, 'Anónima': 446, 'Jose': 447, 'Silvia_2': 448, 'Aday': 449, 'Patricia_4': 450, 'Germán': 451, 'Florencia': 452, 'Jessica': 453, 'brujita': 454, 'Mar': 455, 'Leon': 456, 'Martin': 457, 'Abigail': 458, 'Patricia_5': 459, 'JAVIER_2': 460, 'Adrián': 461, 'Salvador': 462, 'VICTOR': 463, 'SEILA': 464, 'Jose_2': 465, 'reyes': 466, 'Roser_2': 467, 'frambuesa': 468, 'Marta_4': 469, 'Raul': 470, 'David_6': 471, 'Domingo': 472, 'Vanessa': 473, 'Lorena_2': 474, 'Sandra_3': 475, 'Jose_3': 476, 'Marta_5': 477, 'Rubén': 478, 'Francisco_3': 479, 'Rubén_2': 480, 'Sara_4': 481, 'FATIMA': 482, 'DAVID_2': 483, 'Mimi': 484, 'Sandra_4': 485, 'Jaume': 486, 'Marta_6': 487, 'Guillermo_2': 488, 'José Manuel': 489, 'Maria_4': 490, 'silvia': 491, 'Cliente': 492, 'Dani': 493, 'Rubén_3': 494, 'Oscar_2': 495, 'Albert': 496, 'Patricia_6': 497, 'Ander': 498, 'Anna_2': 499, 'Pablo_3': 500, 'Cristian_2': 501, 'raul': 502, 'Daniel_2': 503, 'JUAN MANUEL': 504, 'Iván_2': 505, 'Ramon': 506, 'Mar_2': 507, 'Lui alonso': 508, 'Jaroslaw': 509, 'Rubén_4': 510, 'Mister': 511, 'Andrea_3': 512, 'Eduard': 513, 'LUIS': 514, 'TOMAS': 515, 'JESUS': 516, 'Ruth': 517, 'Marina_3': 518, 'teresa': 519, 'Alejandra_2': 520, 'carlos_3': 521, 'DAVID_3': 522, 'Robrto': 523, 'CIRIACO': 524, 'Maria_5': 525, 'Isa': 526, 'Marta_7': 527, 'Alejandra_3': 528, 'sara lomas': 529, 'MANUEL': 530, 'Yaiza': 531, 'ANTONIO MIGUEL': 532, 'Lorena_3': 533, 'rodrigo': 534, 'Josefa': 535, 'Robrto_2': 536, 'victoria': 537, 'Patricia_7': 538, 'Acuática': 539, 'Diego_2': 540, 'Damian': 541, 'Pitu': 542, 'Ooa': 543, 'PAZ': 544, 'Jesús María': 545, 'MIGUEL ANGEL_2': 546, 'Bruno': 547, 'ivan_2': 548, 'Andreea Bianca': 549, 'Juan Abel': 550, 'Alicia_2': 551, 'santiago': 552, 'Alvaro_2': 553, 'Jose A': 554, 'David_7': 555, 'Jesús_4': 556, 'Eduard_2': 557, 'FRANCISCO': 558, 'Nico44': 559, 'Gonzalo': 560, 'Hugo José': 561, 'Raquel_2': 562, 'María José': 563, 'Marc_2': 564, 'ALBERT': 565, 'Sara_5': 566, 'Borja': 567, 'cristina_2': 568, 'MAIA': 569, 'Eva_2': 570, 'Lorena_4': 571, 'Rubén_5': 572, 'victor': 573, 'marisol': 574, 'Alejandro_3': 575, 'margarita': 576, 'Oscar_3': 577, 'José Manuel_2': 578, 'Jose_4': 579, 'nerea_2': 580, 'Francisco Javier_2': 581, 'DAVID_4': 582, 'cristina_3': 583, 'Naiara': 584, 'Jyan': 585, 'angel': 586, 'Carlos_3': 587, 'Jose_5': 588, 'Montserrat': 589, 'raul_2': 590, 'Jonatan': 591, 'Jenny': 592, 'fernando': 593, 'Jose_6': 594, 'SILVIA': 595, 'Rafael_2': 596, 'eva rosa': 597, 'Laura_5': 598, 'Inmaculada': 599, 'Ion': 600, 'Tomás': 601, 'Tripi': 602, 'fernando_2': 603, 'Elisa': 604, 'Oli': 605, 'Eva_3': 606, 'Pedro_2': 607, 'César': 608, 'TEODORO': 609, 'paula_2': 610, 'raul_3': 611, 'Alice': 612, 'vicente': 613, 'David_8': 614, 'BDSM': 615, 'Marc_3': 616, 'raul_4': 617, 'esther_5': 618, 'Yolanda': 619, 'Alicia_3': 620, 'jose_2': 621, 'Juan Jose': 622, 'Carlos_4': 623, 'Daniel_3': 624, 'DOLORES MARIA': 625, 'Alonso_3': 626, 'jesus manuel': 627, 'Carlos_5': 628, 'Juan_3': 629, 'maria jesus_2': 630, 'Carlos_6': 631, 'Irene_2': 632, 'Atenea': 633, 'Javier_6': 634, 'Carlos_7': 635, 'Jaroslaw_2': 636, 'Ismael': 637, 'Antonio_4': 638, 'Iria_2': 639, 'Miguel_5': 640, 'DAVID_5': 641, 'Llucia': 642, 'Antonio_5': 643, 'Alvaro Alejandro': 644, 'José_2': 645, 'Alexandra': 646, 'Vicenta': 647, 'Jesus Pedro': 648, 'Andrea_4': 649, 'Oscar_4': 650, 'Sara_6': 651, 'Cristina_3': 652, 'libe_2': 653, 'Moisés': 654, 'Llucia_2': 655, 'Amalia': 656, 'Laura_6': 657, 'Sex- tattoo': 658, 'laura': 659, 'Juan Carlos': 660, 'PATRICIA': 661, 'libe_3': 662, 'Laura_7': 663, 'Raquel_3': 664, 'Ainhoa': 665, 'Karla': 666, 'Raquel_4': 667, 'Javier_7': 668, 'Raquel_5': 669, 'César_2': 670, 'David_9': 671, 'Evelin': 672, 'JOSE MANUEL': 673, 'marina': 674, 'victor_2': 675, 'cristinaa': 676, 'Abraham': 677, 'Ernest': 678, 'Lara': 679, 'JORGE': 680, 'Ainoa': 681, 'Carlos_8': 682, 'Estela_2': 683, 'yomismo': 684, 'frambuesa_2': 685, 'Esteban': 686, 'Raul_2': 687, 'sara': 688, 'María_2': 689, 'David_10': 690, 'Capitán Pingüino': 691, 'Jesús_5': 692, 'Esteban_2': 693, 'Alberto_4': 694, 'Kyara': 695, 'JAVIER_3': 696, 'javier_3': 697, 'Aida': 698, 'Shur': 699, 'Iria_3': 700, 'Marta_8': 701, 'Laura_8': 702, 'Manuel_4': 703, 'emilio': 704, 'Cristina_4': 705, 'Juan_4': 706, 'Anaïs': 707, 'Belen': 708, 'Paulino': 709, 'SARA_2': 710, 'Doll': 711, 'Magda': 712, 'Laura_9': 713, 'Daniel_4': 714, 'patricia': 715, 'LARA': 716, 'Raquel_6': 717, 'alejandro': 718, 'juan jose': 719, 'BENJAMIN': 720, 'L.': 721, 'Llorenç': 722, 'Raul_3': 723, 'david': 724, 'Marc_4': 725, 'Montse': 726, 'Aroa': 727, 'Cristina_5': 728, 'Maria Fe': 729, 'yoana': 730, 'javi': 731, 'Carlota_2': 732, 'Erica': 733, 'Juan_5': 734, 'Laura_10': 735, 'Carlota_3': 736, 'Sandra_5': 737, 'Estela_3': 738, 'Marta_9': 739, 'pilar': 740, 'ali': 741, 'jonathan': 742, 'Ana María': 743, 'Fran': 744, 'Miguel_6': 745, 'FRANCISCO_2': 746, 'Silvia_3': 747, 'Manuela_2': 748, 'Sara_7': 749, 'jasp': 750, 'Cristina_6': 751, 'Juan Jesus': 752, 'Elena_3': 753, 'Felipe': 754, 'Rossi': 755, 'Noa': 756, 'JULIA': 757, 'marta': 758, 'Michael': 759, 'Gabriel': 760, 'Gabriel_2': 761, 'Almudena': 762, 'andrea': 763, 'Sasha': 764, 'andrea_2': 765, 'Elisabet': 766, 'Jose Javier': 767, 'Roberto Javier': 768, 'Hecdali': 769, 'Emma': 770, 'Eugenio': 771, 'José Ramón': 772, 'Juan Francisco': 773, 'Julio': 774, 'Nicolás': 775, 'Melissa': 776, 'José Luis': 777, 'BORJA': 778, 'Teresa': 779, 'Myriam': 780, 'Niome': 781, 'Theo': 782, 'Pilar_2': 783, 'Arancha': 784, 'Maria Jose': 785, 'Amanda': 786, 'Rosana': 787, 'Alfredo': 788, 'Elba': 789, 'ACM': 790, 'Yago': 791, 'Victoria': 792, 'Axel': 793, 'Antonio Marcos': 794, 'Christelle': 795, 'Vanesa': 796, 'Vanesa_2': 797, 'ALFONSO': 798, 'Felicio': 799, 'Estibaliz': 800, 'Luis Carlos': 801, 'Francesc': 802, 'Antonio Jose': 803, 'JOAN RAMON': 804, 'Barney': 805, 'Lucas': 806, 'Eli': 807, 'Vitalie': 808, 'Luis_2': 809, 'Ramón': 810, 'Lu': 811, 'Anne': 812, 'Jazmin': 813, 'Robert': 814, 'Víctor_2': 815, 'Maria jesus': 816, 'garbiñe': 817, 'Maria jesus_2': 818, 'Jose & María': 819, 'Lucia': 820, 'Marts': 821, 'Belén': 822, 'Tania': 823, 'Loli': 824, 'Anonimo': 825, 'Diego fernando': 826, 'Verónica': 827, 'RODOLFO JORGE': 828, 'JOSE LUIS': 829, 'Julieta': 830, 'Santiago': 831, 'Ivet': 832, 'Mery': 833, 'Ana Isabel_2': 834, 'Eduardo': 835, 'Susana': 836, 'Susana_2': 837, 'Jordi': 838, 'gerardo': 839, 'C01': 840, 'Ivet_2': 841, 'Guillem': 842, 'jordi_2': 843, 'Anabel': 844, 'isabel': 845, 'Hector': 846, 'VERONICA': 847, 'jose manuel': 848, 'Inés': 849, 'Gatita Celosa': 850, 'Pana': 851, 'Juan Luis': 852, 'eva isabel': 853, 'Isabel_2': 854, 'xx': 855, 'Angela': 856, 'Andres': 857, 'PEDRO': 858, 'Riina Maria': 859, 'Encarna': 860, 'thania': 861, 'Adán': 862, 'Samira': 863, 'Mª José': 864, 'Maria Pilar': 865, 'Zuriñe': 866, 'Mr': 867, 'María Jesús': 868, 'Antonio_6': 869, 'antuan': 870, 'Carlos L.': 871, 'Jonathan_2': 872, 'Gabriela': 873, 'Piscis': 874, 'José María': 875, 'Albert_2': 876, 'Albert_3': 877, 'Marcel': 878, 'Giulia': 879, 'Marisa': 880, 'pkyra': 881, 'francisco': 882, nan: 883, 'Maider': 884, 'Carlos L._2': 885, 'alberto_2': 886, 'Raül': 887, 'Eider': 888, 'daniel': 889, 'enrica': 890, 'mª isabel': 891, 'patricia_2': 892, 'Ana_5': 893, 'frambuesa_3': 894, 'Javi_2': 895, 'Ainara': 896, 'diana': 897, 'Jon Ander': 898, 'Miguel Ángel': 899, 'john': 900, 'roberto': 901, 'ruben_2': 902, 'Antonio Francisco': 903, 'Xabier': 904, 'IVAN': 905, 'Julia': 906, 'María_3': 907, 'María_4': 908, 'Arnau': 909, 'Mariola': 910, 'Patidifusa': 911, 'Paloma': 912, 'Bernardo': 913, 'Anónimo': 914, 'tomas': 915, 'EMILIA': 916, 'leticia': 917, 'octavio': 918, 'Julian': 919, 'Maria Elena': 920, 'Nicolas': 921, 'Javiet': 922, 'José Ramón_2': 923, 'Julian_2': 924, 'Georgina': 925, 'Dario': 926, 'Alessandro': 927, 'Tom': 928, 'luis': 929, 'alexis': 930, 'Mª ANGELES': 931, 'Anto': 932, 'jorge': 933, 'Paloma Azucena': 934, 'Corina': 935, 'Adrian_2': 936, 'Eloy': 937, 'Bárbara': 938, 'jeronimo': 939, 'Romeo': 940, 'reyes_2': 941, 'Gaby': 942, 'Bárbara_2': 943, 'Andreas': 944, 'Alexander': 945, 'Carmelo': 946, 'eva isabel_2': 947, 'Victor_2': 948, 'marga': 949, 'Valerio': 950, 'Ramon_2': 951, 'Gregorio': 952, 'Diego Martínez': 953, 'Alejo': 954, 'MBcn': 955, 'Huberto': 956, 'Francisco_4': 957, 'Julian_3': 958, 'RM- Francés': 959, 'snowz': 960, 'Freya': 961, 'Saray': 962, 'Adrian_3': 963, 'Rex': 964, 'Ohiane': 965, 'Mario_2': 966, 'dafne': 967, 'Xavier': 968, 'Francisco_5': 969, 'libertad_2': 970, 'ELENA': 971, 'pablo': 972, 'Ramon_3': 973, 'sergio_2': 974, 'Nora': 975, 'Jj': 976, 'Daniel_5': 977, 'jonatan': 978, 'Daniel_6': 979, 'Alejandro_4': 980, 'dafne_2': 981, 'susana': 982, 'Parejita': 983, 'Ivan_2': 984, 'ÁLEX': 985, 'Rogelio': 986, 'amantis': 987, 'Leyre': 988, 'Juan R': 989, 'Fran Muñoz': 990, 'Neusa': 991, 'Rodrigo': 992, 'Iris': 993, 'Daniela': 994, 'Angélica': 995, 'veronica': 996, 'Ber': 997, 'Gabino': 998, 'Pedro juan': 999, 'MARIA': 1000, 'Olaya': 1001, 'Ramón_2': 1002, 'Rodolfo': 1003, 'Merche': 1004, 'Roberto Javier_2': 1005, 'Nuria_3': 1006, 'Matteo': 1007, 'Eric': 1008, 'ANA': 1009, 'Monica_2': 1010, 'Melany': 1011, 'benedetta': 1012, 'Pere': 1013, 'adriana': 1014, 'Luna': 1015, 'Ramón_3': 1016, 'Estefanía': 1017, 'amaia': 1018, 'ipfg': 1019, 'Judith': 1020, 'Juan Pedro': 1021, 'Rakel': 1022, 'Jaime_2': 1023, 'Jaime_3': 1024, 'Jaime_4': 1025, 'Jaime_5': 1026, 'Jaime_6': 1027, 'María Teresa': 1028, 'Steven': 1029, 'Gaizka': 1030, 'CARO': 1031, 'mercedes': 1032, 'Ale': 1033, 'Bet': 1034, 'Glòria': 1035, 'Fleep': 1036, 'Lili': 1037, 'Luis Fernando': 1038, 'Bisexmadrid': 1039, 'Jose Miguel': 1040, 'NEREA': 1041, 'Yasmin': 1042, 'Melania_2': 1043, 'Esperanza': 1044, 'j.r.d.': 1045, 'Judit': 1046, 'Cliente_2': 1047, 'Cliente_3': 1048, 'Silviu Stelian': 1049, 'RITA': 1050, 'Cristobal': 1051, 'Irene_3': 1052, 'Luis_3': 1053, 'Lulu': 1054, 'beatriz': 1055, 'Tomas': 1056, 'JESÚS': 1057, 'José Gabriel': 1058, 'ORIOL': 1059, 'Luisa': 1060, 'Miguel_7': 1061, 'Maxim': 1062, 'Alberto M': 1063, 'mariano': 1064, 'MIGUEL': 1065, 'respuesta de amantis para tomás': 1066, 'Tomas_2': 1067, 'Hector_2': 1068, 'Mª Carmen': 1069, 'DOMINGO': 1070, 'camilo': 1071, 'nena': 1072, 'Novato': 1073, 'EyJ': 1074, 'Pol': 1075, 'Manolo': 1076, 'Pol_2': 1077, 'Angel Manuel': 1078, 'alba': 1079, 'iria': 1080, 'Rocio': 1081, 'sushi': 1082, 'Irene_4': 1083, 'Veronica  y Sergio': 1084, 'Rocio_2': 1085, 'MariJose': 1086, 'Marco Antonio': 1087, 'Nosferatu': 1088, 'Alan': 1089, 'Lana': 1090, 'Jac': 1091, 'Aranzazu': 1092, 'Marcela': 1093, 'GREGORIO ANTONIO': 1094, 'sonia': 1095, 'Ioan': 1096, 'Ernesto': 1097, 'María C.': 1098, 'Diana Maria': 1099, 'Jesús Angel': 1100, 'Teseo': 1101, 'Gloria Maria': 1102, 'Omar': 1103, 'Agustin': 1104, 'Lorenzo': 1105, 'Dante': 1106, 'Inmita': 1107, 'Celia': 1108, 'José Miguel': 1109, 'Luis Antonio': 1110, 'Aleix': 1111, 'Josep': 1112, 'juan miguel': 1113, 'Juanjose': 1114, 'Blue Dragon': 1115, 'sabrina': 1116, 'Giorgia': 1117, 'Hel': 1118, 'jose ramon': 1119, 'cris': 1120, 'Ignasi': 1121, 'Nuno': 1122, 'leo': 1123, 'soraya': 1124, 'Markin': 1125, 'Héctor': 1126, 'CARLOS': 1127, 'Mauilo': 1128, 'angelica': 1129, 'Adriana': 1130, 'Naim': 1131, 'clemente': 1132, 'Paula_3': 1133, 'Ester': 1134, 'Yaiza_2': 1135, 'Humberto': 1136, 'cynthia': 1137, 'salvador': 1138, 'Luis Alberto': 1139, 'JechakL': 1140, 'Ibex': 1141, 'Quique': 1142, 'Moon': 1143, 'NATALIA': 1144, 'NÚRIA': 1145, 'José Daniel': 1146, 'VIRGINIA': 1147, 'Juan carlos': 1148, 'herney': 1149, 'Apolonia': 1150, 'juan carlos': 1151, 'BENI': 1152, 'Zamyra': 1153, 'Sarah': 1154, 'AXEL': 1155, 'SViolet': 1156, 'Milena': 1157, 'Alfonso_2': 1158, 'ANNA': 1159, 'SERGIO': 1160, 'Luismy': 1161, 'RAFAELA': 1162, 'ALEXANDER_2': 1163, 'Maximiliano': 1164, 'Adrià': 1165, 'LORENA': 1166, 'Camilo': 1167, 'MARCO ANTONIO': 1168, 'Álvaro_2': 1169, 'Dolores': 1170, 'Valentín_2': 1171, 'ismael': 1172, 'Liliana': 1173, 'Coral': 1174, 'María del Mar': 1175, 'Iulian': 1176, 'Skylär': 1177, 'Imanol': 1178, 'Lluis': 1179, 'Lena': 1180, 'Marcos': 1181, 'Javier Jesús': 1182, 'Ane': 1183, 'Anna Maria': 1184, 'yolanda_2': 1185, 'Kevin': 1186, 'Jorge Manuel': 1187, 'miquel': 1188, 'teresa_2': 1189, 'Llorenç_2': 1190, 'Alejandro_5': 1191, 'ANGELA': 1192, 'natalio': 1193, 'J.Javier': 1194, 'Roberto_3': 1195, 'paula_3': 1196, 'Victor Manuel': 1197, 'Bny': 1198, 'Diego_3': 1199, 'bella galilea': 1200, 'Enrique_3': 1201, 'Roberto_4': 1202, 'Nicoleta Amelia': 1203, 'Alejandro_6': 1204, 'JOSE': 1205, 'Juan Pablo': 1206, 'diego': 1207, 'Angelina': 1208, 'Joaquin': 1209, 'lorena': 1210, 'Darling': 1211, 'Miguel Ángel_2': 1212, 'Llorenç_3': 1213, 'carla': 1214, 'Nelia': 1215, 'Juan G.': 1216, 'ruben_3': 1217, 'MÓNICA': 1218, 'Olivia': 1219, 'Jose21': 1220, 'lulu': 1221, 'nan_2': 1222, 'Chris': 1223, 'Erre': 1224, 'Rai': 1225, 'Maria jose': 1226, 'Adhara': 1227, 'DANIEL': 1228, 'Ginés': 1229, 'Juan Ramón': 1230, 'Paola': 1231, 'Francisco Manuel': 1232, 'EDUARDO': 1233, 'Gloria_2': 1234, 'Lucifer': 1235, 'Valeriano': 1236, 'Gisela': 1237, 'natalia': 1238, 'Zaida': 1239, 'JOSE ANTONIO_3': 1240, 'JOSE RAMON': 1241, 'rafa': 1242, 'John Steven': 1243, 'Maria Elena_2': 1244, 'Míriam': 1245, 'BC': 1246, 'Juanjo': 1247, 'Lola': 1248, 'ANDREU': 1249, 'Ángela': 1250, 'Raimundo': 1251, 'César Augusto': 1252, 'Patricio': 1253, 'Florin': 1254, 'Josefina': 1255, 'sofia': 1256, 'ALY': 1257, 'Inma': 1258, 'Mr.ASDFG': 1259, 'alfonso': 1260, 'Aaron': 1261, 'Coldril': 1262, 'noemi': 1263, 'Steven_2': 1264, 'Julián_2': 1265, 'Jonatan_2': 1266, 'Ricardo_3': 1267, 'León': 1268, 'celia': 1269, 'Leandro': 1270, 'Hiria': 1271, 'Hugo_2': 1272, 'Iratxe': 1273, 'jose ignacio': 1274, 'Miss': 1275, 'Juan Carlos_2': 1276, 'Lourdes': 1277, 'DANIEL_2': 1278, 'Manuel Angel': 1279, 'Grillo': 1280, 'Grillo_2': 1281, 'Jose David_2': 1282, 'Jose David_3': 1283, 'Sonia_7': 1284, 'Jorge Andrés': 1285, 'Paula_4': 1286, 'Gregorio_2': 1287, 'Eduardo_2': 1288, 'Lia': 1289, 'Luis Miguel': 1290, 'Beatriz_3': 1291, 'Ruben_2': 1292, 'Sonia_8': 1293, 'Jose Angel': 1294, 'Lucia_2': 1295, 'Beatriz_4': 1296, 'Samuel': 1297, 'Ruben_3': 1298, 'Fco.Luis': 1299, 'Parejita mimosa': 1300, 'urquijo': 1301, 'Jose David_4': 1302, 'Sisi': 1303, 'JOSE CARLOS': 1304, 'Pau': 1305, 'ROCIO': 1306, 'Jorge_4': 1307, 'Hugo_3': 1308, 'Julio_2': 1309, 'Alba_3': 1310, 'Juan_6': 1311, 'Beatriz_5': 1312, 'Aberto': 1313, 'Virginia_3': 1314, 'JOSE ANGEL': 1315, 'Nicolás_2': 1316, 'Virginia_4': 1317, 'Maria Nieves': 1318, 'Rafael Alejandro_2': 1319, 'Gema_2': 1320, 'Jaume_2': 1321, 'Javi_3': 1322, 'blanca': 1323, 'Isabel María': 1324, 'Alejandro_7': 1325, 'ruben_4': 1326, 'acido': 1327, 'Ivan_3': 1328, 'Joanan': 1329, 'Julio_3': 1330, 'Kelly': 1331, 'nestor': 1332, 'JUAN JOSE': 1333, 'Juan M': 1334, 'Thor': 1335, 'Alexi': 1336, 'Eider_2': 1337, 'DOMINGO_2': 1338, 'Oli_2': 1339, 'Isabel María_2': 1340, 'An': 1341, 'Jesuki': 1342, 'KitKat': 1343, 'amg': 1344, 'nefles': 1345, 'CRISTINA_2': 1346, 'Juan_7': 1347, 'Arándano': 1348, 'Erato': 1349, 'Roquefort': 1350, 'ana belen': 1351, 'Jorge_5': 1352, 'Manu': 1353, 'Erato_2': 1354, 'Miguel Ángel_3': 1355, 'Antoni': 1356, 'pocholada': 1357, 'Hugo_4': 1358, 'dacota': 1359, 'Goloso': 1360, 'Maria del Carmen': 1361, 'Magda_2': 1362, 'Gustavo': 1363, 'Cintia': 1364, 'Dária': 1365, 'Meritxell': 1366, 'Loli_2': 1367, 'Carmen_2': 1368, 'Cris': 1369, 'Vanessa_2': 1370, 'Ginny': 1371, 'L04': 1372, 'gema': 1373, 'gema_2': 1374, 'MARLENE': 1375, 'Kenny': 1376, 'Fatima': 1377, 'Allyson': 1378, 'Matilde': 1379, 'Matilde_2': 1380, 'Noemí': 1381, 'Janire': 1382, 'Maria_6': 1383, 'Carmen_3': 1384, 'Francesca': 1385, 'Francesca_2': 1386, 'adriana_2': 1387, 'Beatriz_6': 1388, 'carlos_4': 1389, 'MILAGROS': 1390, 'Jacobo': 1391, 'Elena_4': 1392, 'Maria_7': 1393, 'Maria_8': 1394, 'Maria_9': 1395, 'Tamara_2': 1396, 'Jordi_2': 1397, 'Beatriz_7': 1398, 'Leo_2': 1399, 'Benigno': 1400, 'Jose Antonio_3': 1401, 'esther_6': 1402, 'Natalia_2': 1403, 'soraya_2': 1404, 'Angie': 1405, 'Rosa María': 1406, 'Monica_3': 1407, 'R Juan': 1408, 'Adrián_2': 1409, 'teresa_3': 1410, 'Virginia_5': 1411, 'Jessica_2': 1412, 'teresa_4': 1413, 'reyes_3': 1414, 'Jose Luis': 1415, 'Xavi': 1416, 'Yvonne_2': 1417, 'Carmelo_2': 1418, 'Iris_2': 1419, 'Diego_4': 1420, 'JUAN CARLOS_2': 1421, 'Ana_6': 1422, 'CESAR': 1423, 'Leyre_2': 1424, 'Cristina_7': 1425, 'Lea': 1426, 'Sandra_6': 1427, 'cesar': 1428, 'Cristina_8': 1429, 'Diana': 1430, 'Cristina_9': 1431, 'Cristina_10': 1432, 'Nano': 1433, 'gelu': 1434, 'CARLOS_2': 1435, 'javier_4': 1436, 'Cristina_11': 1437, 'Felix': 1438, 'Zoraida': 1439, 'Natalia_3': 1440, 'Cristina_12': 1441, 'Natalia_4': 1442, 'Natalia_5': 1443, 'noraa': 1444, 'Francisco_6': 1445, 'hugo': 1446, 'Cyncan': 1447, 'javier_5': 1448, 'Javier_8': 1449, 'Francisco_7': 1450, 'Francisco_8': 1451, 'Ana_7': 1452, 'ana': 1453, 'Cristina_13': 1454, 'Celia_2': 1455, 'Ruben_4': 1456, 'Saray_2': 1457, 'Mónica_2': 1458, 'Alice_2': 1459, 'Alice_3': 1460, 'Ana_8': 1461, 'Vicente_2': 1462, 'Jose Manuel_2': 1463, 'Ismael_2': 1464, 'carolina': 1465, 'Ana_9': 1466, 'SilverSurfer': 1467, 'javier_6': 1468, 'Sandra_7': 1469, 'Adi': 1470, 'Claudia_2': 1471, 'JV': 1472, 'María_5': 1473, 'FRANCISCO JOSÉ': 1474, 'monica': 1475, 'Elisabeth': 1476, 'Eduard_3': 1477, 'Mónica_3': 1478, 'kacho': 1479, 'Javier_9': 1480, 'carlos_5': 1481, 'bbbbb': 1482, 'Sandra_8': 1483, 'Mariano': 1484, 'Antonio_7': 1485, 'Clara_2': 1486, 'juan_2': 1487, 'alix': 1488, 'Maria_10': 1489, 'Mariano_2': 1490, 'monica_2': 1491, 'Rocio_3': 1492, 'Fco. Javier': 1493, 'curro': 1494, 'Cecilia': 1495, 'Topema': 1496, 'Sílvi': 1497, 'vanessa': 1498, 'Jonay': 1499, 'Loreto': 1500, 'Nagore': 1501, 'Sebastián': 1502, 'virgilio': 1503, 'Francisco Javier_3': 1504, 'Pareja de mujeres': 1505, 'Hielo y Fuego': 1506, 'gloriva': 1507, 'Isabel_3': 1508, 'Pedro_3': 1509, 'saul': 1510, 'Jesús Olmedo': 1511, 'miguel angel': 1512, 'luisa fernanda': 1513, 'Victor_3': 1514, 'RAMON': 1515, 'JOSE MARÍA': 1516, 'Miguel angel': 1517, 'Mikel': 1518, 'DIEGO': 1519, 'Santiago_2': 1520, 'Sarai': 1521, 'MeryelCordoba': 1522, 'JESUS_2': 1523, 'Alexia': 1524, 'Helena_2': 1525, 'Mina': 1526, 'Lucía_3': 1527, 'ricardo': 1528, 'miriam': 1529, 'Ángela_2': 1530, 'Maria Catalina': 1531, 'Ingrid': 1532, 'Ignacio_3': 1533, 'agus': 1534, 'Ana Belén': 1535, 'Francisco José': 1536, 'David Esteban': 1537, 'ALVARO': 1538, 'Pareja Feliz': 1539, 'ANA MARIA': 1540, 'Isidro': 1541, 'herminio': 1542, 'Pili': 1543, 'herminio_2': 1544, 'ima': 1545, 'Nacho': 1546, 'Araceli': 1547, 'Araceli_2': 1548, 'MARÍA': 1549, 'david_2': 1550, 'Cyn': 1551, 'PILAR': 1552, 'felix': 1553, 'luis daniel': 1554, 'Isaac': 1555, 'Arnold': 1556, 'jimena': 1557, 'Christina': 1558, 'Emilia': 1559, 'Agustín': 1560, 'Anais': 1561, 'Vera': 1562, 'José Andres': 1563, 'TONI': 1564, 'Jose carlos': 1565, 'MELTEM': 1566, 'Yo': 1567, 'hector': 1568, 'Ainhoa Maria': 1569, 'Elisenda': 1570, 'esteban': 1571, 'fivi': 1572, 'Dani_2': 1573, 'Lilian': 1574, 'Pascual': 1575, 'Miguel Á.': 1576, 'Ptti': 1577, 'Cecy': 1578, 'Oihane': 1579, 'Amal': 1580, 'Maria florencia': 1581, 'Vip': 1582, 'Ken': 1583, 'Mary': 1584, 'Jack': 1585, 'Ana Mª': 1586, 'Hermita': 1587, 'Excelente': 1588, 'Lanena': 1589, 'Mir': 1590, 'Máximo': 1591, 'Passi': 1592, 'JUAN ALFONSO': 1593, 'Laia': 1594, 'P.': 1595, 'Peio': 1596, 'ilda': 1597, 'candy nube': 1598, 'Barbara': 1599, 'barby2122': 1600, 'jana': 1601, 'Andrea Loreto': 1602, 'jduckgs': 1603, 'Henona': 1604, 'Franco': 1605, 'ALEX': 1606, 'Iñaki': 1607, 'sarita': 1608, 'Tinno19': 1609, 'rachel': 1610, 'Sherezade': 1611, 'Joana_2': 1612, 'Leslie': 1613, 'Ana M.': 1614, 'Fátima': 1615, 'luis angel': 1616, 'Gerardo amante': 1617, 'Nighto': 1618, 'MARIA JOSE': 1619, 'Pakete': 1620, 'bea': 1621, 'Marco_2': 1622, 'Enric': 1623, 'Iona': 1624, 'Brais': 1625, 'Katherine Herrera': 1626, 'MARIA ELENA': 1627, 'Salomé': 1628, 'Bryan_2': 1629, 'Esther_3': 1630, 'TOMAS_2': 1631, 'Iker': 1632, 'Diana_2': 1633, 'Angel_2': 1634, 'Adolfo_2': 1635, 'Tania_2': 1636, 'CECILIA': 1637, 'José angel': 1638, 'irene_2': 1639, 'Esther_4': 1640, 'Marina_4': 1641, 'NIEVES': 1642, 'Esther_5': 1643, 'Carolina_2': 1644, 'Alberto_5': 1645, 'elena': 1646, 'Jesus_4': 1647, 'Alberto_6': 1648, 'juan manuel': 1649, 'Carolina_3': 1650, 'Juan Miguel': 1651, 'Cristina_14': 1652, 'Cristina_15': 1653, 'Esther_6': 1654, 'LUCIA': 1655, 'ari': 1656, 'maria_2': 1657, 'Gali': 1658, 'Cristina_16': 1659, 'maria b': 1660, 'Pablo_4': 1661, 'Juliana': 1662, 'Aitor_2': 1663, 'Bea': 1664, 'ALONSO': 1665, 'Purificación': 1666, 'Ricardo_4': 1667, 'joseba': 1668, 'Gonzalo_2': 1669, 'Grillo_3': 1670, 'BOB': 1671, 'Varvara': 1672, 'Luis Jesús': 1673, 'benjamin': 1674, 'bob': 1675, 'LEXION': 1676, 'Luispt': 1677, 'jm': 1678, 'manuel_2': 1679, 'María Laura': 1680, 'Damián_2': 1681, 'juan pedro': 1682, 'LOAN': 1683, 'marc': 1684, 'Mari Mar': 1685, 'CLEMENTE': 1686, 'Marcelino': 1687, 'Maria del Mar': 1688, 'MARIA DEL ROSARIO': 1689, 'S.': 1690, 'Xinita_2': 1691, 'gay-anonimo': 1692, 'Aran': 1693, 'Veronica_2': 1694, 'flipain': 1695, 'juanma': 1696, 'Ángel_2': 1697, 'José Mª_3': 1698, 'Juan Miguel_2': 1699, 'Nina': 1700, 'Lara_2': 1701, 'TANIA': 1702, 'Asturiano': 1703, 'Masaje': 1704, 'Lucien': 1705, 'Arkaitz': 1706, 'RA': 1707, 'FERNANDO': 1708, 'JA': 1709, 'Juan Carlos_3': 1710, 'Super Dog': 1711, 'julian ruiz': 1712, 'Fresita': 1713, 'lucia': 1714, 'Núria': 1715, 'Yeray': 1716, 'Jose Maria': 1717, 'Iulian Marius': 1718, 'Yolanda Inmaculada': 1719, 'María del Prado': 1720, 'Fermin': 1721, 'Reyes': 1722, 'Julien': 1723, 'José Antonio': 1724, 'Artur': 1725, 'Jéssica': 1726, 'io': 1727, 'Jose Martin': 1728, 'Luz_2': 1729, 'marco antonio': 1730, 'idar': 1731, 'anonima': 1732, 'Eva María': 1733, 'Lanister': 1734, 'Anthony': 1735, 'eric': 1736, 'Yessica': 1737, 'esthela': 1738, 'Nahia': 1739, 'Catalina': 1740, 'merari': 1741, 'LaPi': 1742, 'Maria Belén': 1743, 'Elenne': 1744, 'JULIO': 1745, 'Ira': 1746, 'JULIO_2': 1747, 'Quiero otro!': 1748, 'xtravaganza': 1749, 'julio': 1750, 'Robb_84': 1751, 'Yemel': 1752, 'enma': 1753, 'Eh': 1754, 'Manuel Ángel': 1755, 'Manuel Ángel_2': 1756, 'Jose Mª': 1757, 'ana_2': 1758, 'liss': 1759, 'Blanco': 1760, 'Beatrice': 1761, 'laia': 1762, 'maria begoña': 1763, 'Hilario': 1764, 'MªJulia': 1765, 'probando': 1766, 'clara': 1767, 'Coca': 1768, 'Rosa_2': 1769, 'Jesús David': 1770, 'Cati': 1771, 'Pedro Manuel': 1772, 'SOL': 1773, 'Camila': 1774, 'Lourdes Maria': 1775, 'Magdalena': 1776, 'Xuxo': 1777, 'Fanny': 1778, 'Brenda': 1779, 'vasile': 1780, 'MONTSERRAT': 1781, 'Maite': 1782, 'fernando_3': 1783, 'Alazne': 1784, 'Anonimous': 1785, 'josep': 1786, 'Sex- tattoo_2': 1787, 'laura_2': 1788, 'barbara': 1789, 'Blue Dragon_2': 1790, 'fanny': 1791, 'pececita': 1792, 'Solo': 1793, 'kansineitor': 1794, 'Carlangas': 1795, 'Igoryco': 1796, 'Su': 1797, 'only yo': 1798, 'CARLA': 1799, 'CARLA_2': 1800, 'PABLO': 1801, 'Amy': 1802, 'Eva Maria': 1803, 'mabel': 1804, 'termal': 1805, 'John': 1806, 'MONICA': 1807, 'silpreco': 1808, 'Libertad': 1809, 'FYY': 1810, 'isidro': 1811, 'Darwin': 1812, 'Mavi': 1813, 'Salva': 1814, 'juani': 1815, 'stanislav': 1816, 'Abdon': 1817, 'Iñigo': 1818, 'DARWIN': 1819, 'Paco': 1820, 'Yaisa': 1821, 'ROSA': 1822, 'ADRIAN': 1823, 'Álvaro_3': 1824, 'Joel': 1825, 'paco': 1826, 'ISI': 1827, 'Jose María': 1828, 'MªJosé': 1829, 'José Raúl': 1830, 'Salvador_2': 1831, 'María Victoria': 1832, 'Guillem_2': 1833, 'salvador_2': 1834, 'juan antonio': 1835, 'Andreu': 1836, 'Fran_2': 1837, 'Queer': 1838, 'PaPeLiTo': 1839, 'marco_2': 1840, 'ARNAU': 1841, 'FRANCISCO JOSÉ_2': 1842, 'FRANCISCO JOSÉ_3': 1843, 'Frank': 1844, 'Lenwe': 1845, 'alexandra': 1846, 'Álvaro Manuel': 1847, 'FRANCISCO JOSÉ_4': 1848, 'AINOA': 1849, 'JOSE MARIA': 1850, 'JOSE MARIA_2': 1851, 'Rocio_4': 1852, 'Mª Angeles': 1853, 'rodrigo_2': 1854, 'ANTONIO_2': 1855, 'JAUME': 1856, 'mercè': 1857, 'Mirella': 1858, 'Mayte': 1859, 'ines': 1860, 'JACK_JONES': 1861, 'JOSE IGNACIO': 1862, 'jenny': 1863, 'SU': 1864, 'Naira': 1865, 'JOSE JAVIER': 1866, 'Mssexy': 1867, 'Priscila': 1868, 'anick': 1869, 'secundino': 1870, 'isidoro': 1871, 'Lidia_2': 1872, 'bruno': 1873, 'MARIA JESUS': 1874, 'Kyle': 1875, 'pere': 1876, 'Auryn': 1877, 'Un cliente de Murcia': 1878, 'papa pikiyo': 1879, 'olatzen': 1880, 'Anita': 1881, 'penelopep': 1882, 'Nazaret': 1883, 'Itahisa': 1884, 'Francisco-Javier': 1885, 'Didak': 1886, 'Igna': 1887, 'Rys': 1888, 'carlos alberto': 1889, 'Francisco Manuel_2': 1890, 'vikadi': 1891, 'Noa_2': 1892, 'vic': 1893, 'Macho': 1894, 'María Isabel': 1895, 'Notelodigo': 1896, 'Nat': 1897, 'jeta y lara': 1898, 'Lajos': 1899, 'MAYKA': 1900, 'Me': 1901, 'jose felix': 1902, 'Luca': 1903, 'Nara': 1904, 'Mac': 1905, 'Pedro Pablo': 1906, 'Mujer&Mujer': 1907, 'Julio A.': 1908, 'Hielo y Fuego_2': 1909, 'Julio Alberto': 1910, 'Pau_2': 1911, 'Nexxter': 1912, 'Marti': 1913, 'Ana G.': 1914, 'isabel de laFiguera': 1915, 'Yedra Maria': 1916, 'Lina': 1917, 'jc_2': 1918, 'Blas': 1919, 'Nikko': 1920, 'Oleh': 1921, 'JUAN_2': 1922, 'Urbano': 1923, 'chema': 1924, 'Amante69': 1925, 'Ale_2': 1926, 'Hiria_2': 1927, 'sebastian': 1928, 'Maikel': 1929, 'Ander_2': 1930, 'Vic': 1931, 'Bernardino': 1932, 'Susanna': 1933, 'Jon': 1934, 'cordobesa': 1935, 'ESTER': 1936, 'Pepito Pérez': 1937, 'Darío': 1938, 'Fabián': 1939, 'Zoe': 1940, 'Irantzu': 1941, 'Kaisser': 1942, 'Andy': 1943, 'Arantxa': 1944, 'Laquenun': 1945, 'xabier': 1946, 'Sextattoo': 1947, 'cedric': 1948, 'Francisco Miguel': 1949, 'Gerard': 1950, 'Martina': 1951, 'titina': 1952, 'Vicki': 1953, 'E. Maria': 1954, 'LAURA MARÍA_2': 1955, 'JORDI': 1956, 'libe_4': 1957, 'Miren': 1958, 'Santi_2': 1959, 'Altius': 1960, 'Imilce': 1961, 'jorge patricio': 1962, 'guadalupe': 1963, 'Joan Pere': 1964, 'Lea_2': 1965, 'carpio': 1966, 'Óscar': 1967, 'Olguita': 1968, 'baby': 1969, 'Eder Luiz': 1970, 'eduardo': 1971, 'Olga': 1972, 'Jessy': 1973, 'albert': 1974, 'CG11': 1975, 'aroa': 1976, 'Yasmina': 1977, 'Edurne': 1978, 'Virtudes': 1979, 'Neu': 1980, 'Karen E.': 1981, 'Male': 1982, 'Ali y Rod': 1983, 'LauRau': 1984, 'georgiana': 1985, 'Vanny': 1986, 'Joe': 1987, 'Pareja feliz': 1988, 'VIOLETA_2': 1989, 'Soraya_2': 1990, 'Vlad': 1991, 'Francisca': 1992, 'Angi': 1993, 'Luis Alonso': 1994, 'jyb': 1995, 'Richard': 1996, 'joaquin': 1997, 'Ariana': 1998, 'Eliane': 1999, 'Geisha69': 2000, 'Oscar y María': 2001, 'juan diego': 2002, 'mery': 2003, 'mario': 2004, 'jcgiraldez@gmail.com': 2005, 'Mirita': 2006, 'Tita': 2007, 'nea': 2008, 'Llum': 2009, 'Tam': 2010, 'Begoña_2': 2011, 'josemo': 2012, 'Mari': 2013, 'Alma': 2014, 'Mandy': 2015, 'noelia_2': 2016, 'adrian': 2017, 'Tomasz': 2018, 'cristian': 2019, 'Amaya': 2020}\n"
     ]
    },
    {
     "data": {
      "text/html": [
       "<div>\n",
       "<style scoped>\n",
       "    .dataframe tbody tr th:only-of-type {\n",
       "        vertical-align: middle;\n",
       "    }\n",
       "\n",
       "    .dataframe tbody tr th {\n",
       "        vertical-align: top;\n",
       "    }\n",
       "\n",
       "    .dataframe thead th {\n",
       "        text-align: right;\n",
       "    }\n",
       "</style>\n",
       "<table border=\"1\" class=\"dataframe\">\n",
       "  <thead>\n",
       "    <tr style=\"text-align: right;\">\n",
       "      <th></th>\n",
       "      <th>Unnamed: 0</th>\n",
       "      <th>ID</th>\n",
       "      <th>DATE</th>\n",
       "      <th>RATIO</th>\n",
       "      <th>USERS</th>\n",
       "      <th>COMMENT</th>\n",
       "      <th>ID_USERS</th>\n",
       "    </tr>\n",
       "  </thead>\n",
       "  <tbody>\n",
       "    <tr>\n",
       "      <th>0</th>\n",
       "      <td>0</td>\n",
       "      <td>1</td>\n",
       "      <td>2023-01-25</td>\n",
       "      <td>5</td>\n",
       "      <td>Sara</td>\n",
       "      <td>Es un vibrador discreto y eficaz. Es uno de mi...</td>\n",
       "      <td>0</td>\n",
       "    </tr>\n",
       "    <tr>\n",
       "      <th>1</th>\n",
       "      <td>1</td>\n",
       "      <td>1</td>\n",
       "      <td>2023-01-09</td>\n",
       "      <td>5</td>\n",
       "      <td>Jesús</td>\n",
       "      <td>el vibrador de cabecera de mi mujer. Después d...</td>\n",
       "      <td>1</td>\n",
       "    </tr>\n",
       "    <tr>\n",
       "      <th>2</th>\n",
       "      <td>2</td>\n",
       "      <td>1</td>\n",
       "      <td>2022-12-10</td>\n",
       "      <td>3</td>\n",
       "      <td>Sara_2</td>\n",
       "      <td>Tenía uno de otra tienda y compré este porque ...</td>\n",
       "      <td>2</td>\n",
       "    </tr>\n",
       "    <tr>\n",
       "      <th>3</th>\n",
       "      <td>3</td>\n",
       "      <td>1</td>\n",
       "      <td>2022-10-04</td>\n",
       "      <td>5</td>\n",
       "      <td>Sara_3</td>\n",
       "      <td>Es una buena compra. Muy agradable, con difere...</td>\n",
       "      <td>3</td>\n",
       "    </tr>\n",
       "    <tr>\n",
       "      <th>4</th>\n",
       "      <td>4</td>\n",
       "      <td>1</td>\n",
       "      <td>2022-07-07</td>\n",
       "      <td>5</td>\n",
       "      <td>Álvaro</td>\n",
       "      <td>Buen juguete más centrado en los precalentamie...</td>\n",
       "      <td>4</td>\n",
       "    </tr>\n",
       "  </tbody>\n",
       "</table>\n",
       "</div>"
      ],
      "text/plain": [
       "   Unnamed: 0  ID       DATE  RATIO   USERS  \\\n",
       "0           0   1 2023-01-25      5    Sara   \n",
       "1           1   1 2023-01-09      5   Jesús   \n",
       "2           2   1 2022-12-10      3  Sara_2   \n",
       "3           3   1 2022-10-04      5  Sara_3   \n",
       "4           4   1 2022-07-07      5  Álvaro   \n",
       "\n",
       "                                             COMMENT  ID_USERS  \n",
       "0  Es un vibrador discreto y eficaz. Es uno de mi...         0  \n",
       "1  el vibrador de cabecera de mi mujer. Después d...         1  \n",
       "2  Tenía uno de otra tienda y compré este porque ...         2  \n",
       "3  Es una buena compra. Muy agradable, con difere...         3  \n",
       "4  Buen juguete más centrado en los precalentamie...         4  "
      ]
     },
     "execution_count": 60,
     "metadata": {},
     "output_type": "execute_result"
    }
   ],
   "source": [
    "lista_users=df_comments['USERS'].unique()                  \n",
    "mivalor = [ x for x in range(len(lista_users))]             \n",
    "lista_users=list(lista_users)                                \n",
    "lista_users_code = {k: v for k, v in zip(lista_users, mivalor)}   \n",
    "print(lista_users_code)\n",
    "df_comments['ID_USERS']= df_comments['USERS'].map(lista_users_code)\n",
    "df_comments.head()"
   ]
  },
  {
   "cell_type": "code",
   "execution_count": 61,
   "metadata": {},
   "outputs": [
    {
     "data": {
      "text/plain": [
       "2021"
      ]
     },
     "execution_count": 61,
     "metadata": {},
     "output_type": "execute_result"
    }
   ],
   "source": [
    "USERS=pd.DataFrame()\n",
    "USERS['ID_USERS']=df_comments['ID_USERS']\n",
    "USERS['USERS']=df_comments['USERS']\n",
    "USERS.drop_duplicates(subset='ID_USERS', keep='first',inplace=True)\n",
    "USERS.head()\n",
    "len(USERS)"
   ]
  },
  {
   "attachments": {},
   "cell_type": "markdown",
   "metadata": {},
   "source": [
    "Reestructuramos *df_comments*."
   ]
  },
  {
   "cell_type": "code",
   "execution_count": 62,
   "metadata": {},
   "outputs": [
    {
     "data": {
      "text/html": [
       "<div>\n",
       "<style scoped>\n",
       "    .dataframe tbody tr th:only-of-type {\n",
       "        vertical-align: middle;\n",
       "    }\n",
       "\n",
       "    .dataframe tbody tr th {\n",
       "        vertical-align: top;\n",
       "    }\n",
       "\n",
       "    .dataframe thead th {\n",
       "        text-align: right;\n",
       "    }\n",
       "</style>\n",
       "<table border=\"1\" class=\"dataframe\">\n",
       "  <thead>\n",
       "    <tr style=\"text-align: right;\">\n",
       "      <th></th>\n",
       "      <th>Unnamed: 0</th>\n",
       "      <th>ID</th>\n",
       "      <th>DATE</th>\n",
       "      <th>RATIO</th>\n",
       "      <th>ID_USERS</th>\n",
       "      <th>COMMENT</th>\n",
       "    </tr>\n",
       "  </thead>\n",
       "  <tbody>\n",
       "    <tr>\n",
       "      <th>0</th>\n",
       "      <td>0</td>\n",
       "      <td>1</td>\n",
       "      <td>2023-01-25</td>\n",
       "      <td>5</td>\n",
       "      <td>0</td>\n",
       "      <td>Es un vibrador discreto y eficaz. Es uno de mi...</td>\n",
       "    </tr>\n",
       "    <tr>\n",
       "      <th>1</th>\n",
       "      <td>1</td>\n",
       "      <td>1</td>\n",
       "      <td>2023-01-09</td>\n",
       "      <td>5</td>\n",
       "      <td>1</td>\n",
       "      <td>el vibrador de cabecera de mi mujer. Después d...</td>\n",
       "    </tr>\n",
       "    <tr>\n",
       "      <th>2</th>\n",
       "      <td>2</td>\n",
       "      <td>1</td>\n",
       "      <td>2022-12-10</td>\n",
       "      <td>3</td>\n",
       "      <td>2</td>\n",
       "      <td>Tenía uno de otra tienda y compré este porque ...</td>\n",
       "    </tr>\n",
       "    <tr>\n",
       "      <th>3</th>\n",
       "      <td>3</td>\n",
       "      <td>1</td>\n",
       "      <td>2022-10-04</td>\n",
       "      <td>5</td>\n",
       "      <td>3</td>\n",
       "      <td>Es una buena compra. Muy agradable, con difere...</td>\n",
       "    </tr>\n",
       "    <tr>\n",
       "      <th>4</th>\n",
       "      <td>4</td>\n",
       "      <td>1</td>\n",
       "      <td>2022-07-07</td>\n",
       "      <td>5</td>\n",
       "      <td>4</td>\n",
       "      <td>Buen juguete más centrado en los precalentamie...</td>\n",
       "    </tr>\n",
       "  </tbody>\n",
       "</table>\n",
       "</div>"
      ],
      "text/plain": [
       "   Unnamed: 0  ID       DATE  RATIO  ID_USERS  \\\n",
       "0           0   1 2023-01-25      5         0   \n",
       "1           1   1 2023-01-09      5         1   \n",
       "2           2   1 2022-12-10      3         2   \n",
       "3           3   1 2022-10-04      5         3   \n",
       "4           4   1 2022-07-07      5         4   \n",
       "\n",
       "                                             COMMENT  \n",
       "0  Es un vibrador discreto y eficaz. Es uno de mi...  \n",
       "1  el vibrador de cabecera de mi mujer. Después d...  \n",
       "2  Tenía uno de otra tienda y compré este porque ...  \n",
       "3  Es una buena compra. Muy agradable, con difere...  \n",
       "4  Buen juguete más centrado en los precalentamie...  "
      ]
     },
     "execution_count": 62,
     "metadata": {},
     "output_type": "execute_result"
    }
   ],
   "source": [
    "col = df_comments.pop('ID_USERS')\n",
    "\n",
    "df_comments.drop(columns=['USERS'],inplace=True)\n",
    "\n",
    "df_comments.insert(loc= 4 , column= 'ID_USERS', value= col)\n",
    "df_comments.head()"
   ]
  },
  {
   "cell_type": "code",
   "execution_count": 63,
   "metadata": {},
   "outputs": [],
   "source": [
    "df_comments.to_csv('./Data/comentarios.csv',header=True,index=False)           # Tengo que generar el path correcto\n",
    "\n",
    "USERS.to_csv('./Data/usuarios.csv',header=True,index=False)"
   ]
  },
  {
   "attachments": {},
   "cell_type": "markdown",
   "metadata": {},
   "source": [
    "## 5.- Generamos los tags para procesado de datos.\n",
    "\n",
    "Definimos la lista de tags que queremos asignar. \n",
    "\n",
    "Esto lo haremos generando listas con los nombres lemmatizados.\n",
    "\n",
    "También hay que dejar el texto utilizado en minúscula."
   ]
  },
  {
   "cell_type": "code",
   "execution_count": 12,
   "metadata": {},
   "outputs": [],
   "source": [
    "juguetes=['dildo','plug','vibrador','masturbador','cabezal','estimulador','plugs','bolas chinas','funda extensora','bomba de vacio']\n",
    "BDSM=['latex','bdsm','arnes','strap','cera','ligadura','cuerda','cuero','sumision','dominacion','latigo','watenberg','posicionador','mordaza']\n",
    "muebles=['columpio','sillon','sillones']\n",
    "lenceria=['body','panties','corse',]\n",
    "anal=['anal']\n",
    "masculino=['hombre','masculino']\n",
    "femenino=['mujer','femenino','vaginal','clitoris','dildo']\n",
    "amenities=['lubricante','limpiador','preservativo','condon']\n",
    "posicionador=[]                         # Falta por agregar parametros "
   ]
  },
  {
   "attachments": {},
   "cell_type": "markdown",
   "metadata": {},
   "source": [
    "Vamos a guardar las diferentes listas que hemos determinado en ficheros para posteriormente, cargarlas y realizar la generación de variables a partir de ellas."
   ]
  },
  {
   "cell_type": "code",
   "execution_count": 64,
   "metadata": {},
   "outputs": [
    {
     "ename": "NameError",
     "evalue": "name 'juguetes' is not defined",
     "output_type": "error",
     "traceback": [
      "\u001b[1;31m---------------------------------------------------------------------------\u001b[0m",
      "\u001b[1;31mNameError\u001b[0m                                 Traceback (most recent call last)",
      "\u001b[1;32md:\\Data_science\\Javier\\Repositorios\\Proyecto_tienda_online\\src\\Notebook\\02_Engineering.ipynb Cell 57\u001b[0m line \u001b[0;36m1\n\u001b[1;32m----> <a href='vscode-notebook-cell:/d%3A/Data_science/Javier/Repositorios/Proyecto_tienda_online/src/Notebook/02_Engineering.ipynb#Y104sZmlsZQ%3D%3D?line=0'>1</a>\u001b[0m f\u001b[39m.\u001b[39mpickled_list(juguetes,\u001b[39m'\u001b[39m\u001b[39mjuguetes\u001b[39m\u001b[39m'\u001b[39m, carpeta\u001b[39m=\u001b[39m\u001b[39m\"\u001b[39m\u001b[39mUtils\u001b[39m\u001b[39m\"\u001b[39m)\n\u001b[0;32m      <a href='vscode-notebook-cell:/d%3A/Data_science/Javier/Repositorios/Proyecto_tienda_online/src/Notebook/02_Engineering.ipynb#Y104sZmlsZQ%3D%3D?line=1'>2</a>\u001b[0m f\u001b[39m.\u001b[39mpickled_list(BDSM,\u001b[39m'\u001b[39m\u001b[39mBDSM\u001b[39m\u001b[39m'\u001b[39m, carpeta\u001b[39m=\u001b[39m\u001b[39m\"\u001b[39m\u001b[39mUtils\u001b[39m\u001b[39m\"\u001b[39m)\n\u001b[0;32m      <a href='vscode-notebook-cell:/d%3A/Data_science/Javier/Repositorios/Proyecto_tienda_online/src/Notebook/02_Engineering.ipynb#Y104sZmlsZQ%3D%3D?line=2'>3</a>\u001b[0m f\u001b[39m.\u001b[39mpickled_list(muebles,\u001b[39m'\u001b[39m\u001b[39mmuebles\u001b[39m\u001b[39m'\u001b[39m, carpeta\u001b[39m=\u001b[39m\u001b[39m\"\u001b[39m\u001b[39mUtils\u001b[39m\u001b[39m\"\u001b[39m)\n",
      "\u001b[1;31mNameError\u001b[0m: name 'juguetes' is not defined"
     ]
    }
   ],
   "source": [
    "f.pickled_list(juguetes,'juguetes', carpeta=\"Utils\")\n",
    "f.pickled_list(BDSM,'BDSM', carpeta=\"Utils\")\n",
    "f.pickled_list(muebles,'muebles', carpeta=\"Utils\")\n",
    "f.pickled_list(lenceria,'lenceria', carpeta=\"Utils\")\n",
    "f.pickled_list(anal,'anal', carpeta=\"Utils\")\n",
    "f.pickled_list(masculino,'masculino', carpeta=\"Utils\")\n",
    "f.pickled_list(femenino,'femenino', carpeta=\"Utils\")\n",
    "f.pickled_list(amenities,'amenities', carpeta=\"Utils\")\n",
    "# f.pickled_list(lista,nombre_archivo, carpeta=\"Utils\")\n",
    "# f.pickled_list(lista,nombre_archivo, carpeta=\"Utils\")"
   ]
  },
  {
   "cell_type": "code",
   "execution_count": 13,
   "metadata": {},
   "outputs": [],
   "source": [
    "path=r'\\Data\\productos.csv'\n",
    "file=folder+path"
   ]
  },
  {
   "cell_type": "code",
   "execution_count": 14,
   "metadata": {},
   "outputs": [
    {
     "data": {
      "text/html": [
       "<div>\n",
       "<style scoped>\n",
       "    .dataframe tbody tr th:only-of-type {\n",
       "        vertical-align: middle;\n",
       "    }\n",
       "\n",
       "    .dataframe tbody tr th {\n",
       "        vertical-align: top;\n",
       "    }\n",
       "\n",
       "    .dataframe thead th {\n",
       "        text-align: right;\n",
       "    }\n",
       "</style>\n",
       "<table border=\"1\" class=\"dataframe\">\n",
       "  <thead>\n",
       "    <tr style=\"text-align: right;\">\n",
       "      <th></th>\n",
       "      <th>ID</th>\n",
       "      <th>PRODUCT</th>\n",
       "      <th>SLOGAN</th>\n",
       "      <th>DESCRIPTION</th>\n",
       "      <th>CHARACTERISTICS</th>\n",
       "      <th>LISTA_URL</th>\n",
       "    </tr>\n",
       "  </thead>\n",
       "  <tbody>\n",
       "    <tr>\n",
       "      <th>0</th>\n",
       "      <td>0</td>\n",
       "      <td>MASABOOM</td>\n",
       "      <td>El gran masajeador sexual</td>\n",
       "      <td>Este es el juguete para todas, todos y todes. ...</td>\n",
       "      <td>Masajeador con forma de micrófonoMaterial: sil...</td>\n",
       "      <td>https://www.amantis.net/masaboom-el-gran-masaj...</td>\n",
       "    </tr>\n",
       "    <tr>\n",
       "      <th>1</th>\n",
       "      <td>1</td>\n",
       "      <td>MASSAJI</td>\n",
       "      <td>Potente masajeador japonés sumergible de silicona</td>\n",
       "      <td>¿Quieres una velada perfecta tras un largo día...</td>\n",
       "      <td>Masajeador Japonés Massaji Material: Silicona ...</td>\n",
       "      <td>https://www.amantis.net/massaji-potente-masaje...</td>\n",
       "    </tr>\n",
       "    <tr>\n",
       "      <th>2</th>\n",
       "      <td>2</td>\n",
       "      <td>DIGIT PRO</td>\n",
       "      <td>dedal vibrador con sujeción</td>\n",
       "      <td>Los dedos siempre han sido grandes aliados de ...</td>\n",
       "      <td>Dedal vibradorMaterial: silicona de grado médi...</td>\n",
       "      <td>https://www.amantis.net/digit-pro-dedal-vibrad...</td>\n",
       "    </tr>\n",
       "    <tr>\n",
       "      <th>3</th>\n",
       "      <td>3</td>\n",
       "      <td>MINI CARNIVAL</td>\n",
       "      <td>mini_masajeador con cuatro cabezales</td>\n",
       "      <td>¿Conoces a MINI+? Puse hoy es tu día de suerte...</td>\n",
       "      <td>Mini masajeador con cuatro cabezalesCabezales ...</td>\n",
       "      <td>https://www.amantis.net/mini-carnival-mini-mas...</td>\n",
       "    </tr>\n",
       "    <tr>\n",
       "      <th>4</th>\n",
       "      <td>4</td>\n",
       "      <td>LINGÜS</td>\n",
       "      <td>Vibrador para Sexo Oral de amantis</td>\n",
       "      <td>Milenios de sabiduría en el arte del cunniling...</td>\n",
       "      <td>Material: silicona + abs10 modos de vibraciónT...</td>\n",
       "      <td>https://www.amantis.net/lingus-vibrador-sexo-o...</td>\n",
       "    </tr>\n",
       "  </tbody>\n",
       "</table>\n",
       "</div>"
      ],
      "text/plain": [
       "   ID        PRODUCT                                             SLOGAN  \\\n",
       "0   0       MASABOOM                          El gran masajeador sexual   \n",
       "1   1        MASSAJI  Potente masajeador japonés sumergible de silicona   \n",
       "2   2      DIGIT PRO                        dedal vibrador con sujeción   \n",
       "3   3  MINI CARNIVAL               mini_masajeador con cuatro cabezales   \n",
       "4   4         LINGÜS                 Vibrador para Sexo Oral de amantis   \n",
       "\n",
       "                                         DESCRIPTION  \\\n",
       "0  Este es el juguete para todas, todos y todes. ...   \n",
       "1  ¿Quieres una velada perfecta tras un largo día...   \n",
       "2  Los dedos siempre han sido grandes aliados de ...   \n",
       "3  ¿Conoces a MINI+? Puse hoy es tu día de suerte...   \n",
       "4  Milenios de sabiduría en el arte del cunniling...   \n",
       "\n",
       "                                     CHARACTERISTICS  \\\n",
       "0  Masajeador con forma de micrófonoMaterial: sil...   \n",
       "1  Masajeador Japonés Massaji Material: Silicona ...   \n",
       "2  Dedal vibradorMaterial: silicona de grado médi...   \n",
       "3  Mini masajeador con cuatro cabezalesCabezales ...   \n",
       "4  Material: silicona + abs10 modos de vibraciónT...   \n",
       "\n",
       "                                           LISTA_URL  \n",
       "0  https://www.amantis.net/masaboom-el-gran-masaj...  \n",
       "1  https://www.amantis.net/massaji-potente-masaje...  \n",
       "2  https://www.amantis.net/digit-pro-dedal-vibrad...  \n",
       "3  https://www.amantis.net/mini-carnival-mini-mas...  \n",
       "4  https://www.amantis.net/lingus-vibrador-sexo-o...  "
      ]
     },
     "execution_count": 14,
     "metadata": {},
     "output_type": "execute_result"
    }
   ],
   "source": [
    "df_engineer=pd.read_csv(file)\n",
    "df_engineer.head()"
   ]
  },
  {
   "attachments": {},
   "cell_type": "markdown",
   "metadata": {},
   "source": [
    "#### Pasamos todos los caracteres a minúsculas y eliminamos los acentos."
   ]
  },
  {
   "cell_type": "code",
   "execution_count": 17,
   "metadata": {},
   "outputs": [
    {
     "data": {
      "text/html": [
       "<div>\n",
       "<style scoped>\n",
       "    .dataframe tbody tr th:only-of-type {\n",
       "        vertical-align: middle;\n",
       "    }\n",
       "\n",
       "    .dataframe tbody tr th {\n",
       "        vertical-align: top;\n",
       "    }\n",
       "\n",
       "    .dataframe thead th {\n",
       "        text-align: right;\n",
       "    }\n",
       "</style>\n",
       "<table border=\"1\" class=\"dataframe\">\n",
       "  <thead>\n",
       "    <tr style=\"text-align: right;\">\n",
       "      <th></th>\n",
       "      <th>ID</th>\n",
       "      <th>PRODUCT</th>\n",
       "      <th>SLOGAN</th>\n",
       "      <th>DESCRIPTION</th>\n",
       "      <th>CHARACTERISTICS</th>\n",
       "      <th>LISTA_URL</th>\n",
       "    </tr>\n",
       "  </thead>\n",
       "  <tbody>\n",
       "    <tr>\n",
       "      <th>0</th>\n",
       "      <td>0</td>\n",
       "      <td>MASABOOM</td>\n",
       "      <td>el gran masajeador sexual</td>\n",
       "      <td>este es el juguete para todas, todos y todes. ...</td>\n",
       "      <td>Masajeador con forma de micrófonoMaterial: sil...</td>\n",
       "      <td>https://www.amantis.net/masaboom-el-gran-masaj...</td>\n",
       "    </tr>\n",
       "    <tr>\n",
       "      <th>1</th>\n",
       "      <td>1</td>\n",
       "      <td>MASSAJI</td>\n",
       "      <td>potente masajeador japonés sumergible de silicona</td>\n",
       "      <td>¿quieres una velada perfecta tras un largo dia...</td>\n",
       "      <td>Masajeador Japonés Massaji Material: Silicona ...</td>\n",
       "      <td>https://www.amantis.net/massaji-potente-masaje...</td>\n",
       "    </tr>\n",
       "  </tbody>\n",
       "</table>\n",
       "</div>"
      ],
      "text/plain": [
       "   ID   PRODUCT                                             SLOGAN  \\\n",
       "0   0  MASABOOM                          el gran masajeador sexual   \n",
       "1   1   MASSAJI  potente masajeador japonés sumergible de silicona   \n",
       "\n",
       "                                         DESCRIPTION  \\\n",
       "0  este es el juguete para todas, todos y todes. ...   \n",
       "1  ¿quieres una velada perfecta tras un largo dia...   \n",
       "\n",
       "                                     CHARACTERISTICS  \\\n",
       "0  Masajeador con forma de micrófonoMaterial: sil...   \n",
       "1  Masajeador Japonés Massaji Material: Silicona ...   \n",
       "\n",
       "                                           LISTA_URL  \n",
       "0  https://www.amantis.net/masaboom-el-gran-masaj...  \n",
       "1  https://www.amantis.net/massaji-potente-masaje...  "
      ]
     },
     "execution_count": 17,
     "metadata": {},
     "output_type": "execute_result"
    }
   ],
   "source": [
    "df_engineer['SLOGAN'] = df_engineer['SLOGAN'].str.lower()\n",
    "df_engineer['DESCRIPTION'] = df_engineer['DESCRIPTION'].str.lower()\n",
    "# df_engineer['SLOGAN'] = df_engineer['SLOGAN'].apply(f.eliminacion_acentos)              # Esto da error, debe de ser porque hay NaN en el campo\n",
    "df_engineer['DESCRIPTION'] = df_engineer['DESCRIPTION'].apply(f.eliminacion_acentos)\n",
    "\n",
    "df_engineer.head(2)"
   ]
  },
  {
   "attachments": {},
   "cell_type": "markdown",
   "metadata": {},
   "source": [
    "Vamos a ver como cargamos cada fichero para proceder a la generación de *tags*.\n"
   ]
  },
  {
   "cell_type": "code",
   "execution_count": 20,
   "metadata": {},
   "outputs": [],
   "source": [
    "nombre_listas=['amenities','anal','BDSM','femenino','masculino','juguetes','lenceria','muebles']"
   ]
  },
  {
   "cell_type": "code",
   "execution_count": 21,
   "metadata": {},
   "outputs": [],
   "source": [
    "listas = f.cargar_listas_desde_pickles(nombre_listas)"
   ]
  },
  {
   "cell_type": "code",
   "execution_count": 22,
   "metadata": {},
   "outputs": [
    {
     "data": {
      "text/plain": [
       "{'amenities': ['lubricante', 'limpiador', 'preservativo', 'condon'],\n",
       " 'anal': ['anal'],\n",
       " 'BDSM': ['latex',\n",
       "  'bdsm',\n",
       "  'arnes',\n",
       "  'strap',\n",
       "  'cera',\n",
       "  'ligadura',\n",
       "  'cuerda',\n",
       "  'cuero',\n",
       "  'sumision',\n",
       "  'dominacion',\n",
       "  'latigo',\n",
       "  'watenberg',\n",
       "  'posicionador',\n",
       "  'mordaza'],\n",
       " 'femenino': ['mujer', 'femenino', 'vaginal', 'clitoris', 'dildo'],\n",
       " 'masculino': ['hombre', 'masculino'],\n",
       " 'juguetes': ['dildo',\n",
       "  'plug',\n",
       "  'vibrador',\n",
       "  'masturbador',\n",
       "  'cabezal',\n",
       "  'estimulador',\n",
       "  'plugs',\n",
       "  'bolas chinas',\n",
       "  'funda extensora',\n",
       "  'bomba de vacio'],\n",
       " 'lenceria': 'lenceria',\n",
       " 'muebles': ['chaise', 'columpio', 'moqueta', 'silla', 'sillon', 'sillones']}"
      ]
     },
     "execution_count": 22,
     "metadata": {},
     "output_type": "execute_result"
    }
   ],
   "source": [
    "listas"
   ]
  },
  {
   "cell_type": "code",
   "execution_count": 27,
   "metadata": {},
   "outputs": [],
   "source": [
    "for nombre_lista in listas:\n",
    "    df_engineer = f.aplicar_funcion_a_columna(df_engineer,listas, nombre_lista)"
   ]
  },
  {
   "cell_type": "code",
   "execution_count": 28,
   "metadata": {},
   "outputs": [
    {
     "data": {
      "text/html": [
       "<div>\n",
       "<style scoped>\n",
       "    .dataframe tbody tr th:only-of-type {\n",
       "        vertical-align: middle;\n",
       "    }\n",
       "\n",
       "    .dataframe tbody tr th {\n",
       "        vertical-align: top;\n",
       "    }\n",
       "\n",
       "    .dataframe thead th {\n",
       "        text-align: right;\n",
       "    }\n",
       "</style>\n",
       "<table border=\"1\" class=\"dataframe\">\n",
       "  <thead>\n",
       "    <tr style=\"text-align: right;\">\n",
       "      <th></th>\n",
       "      <th>ID</th>\n",
       "      <th>PRODUCT</th>\n",
       "      <th>SLOGAN</th>\n",
       "      <th>DESCRIPTION</th>\n",
       "      <th>CHARACTERISTICS</th>\n",
       "      <th>LISTA_URL</th>\n",
       "      <th>amenities</th>\n",
       "      <th>anal</th>\n",
       "      <th>BDSM</th>\n",
       "      <th>femenino</th>\n",
       "      <th>masculino</th>\n",
       "      <th>juguetes</th>\n",
       "      <th>lenceria</th>\n",
       "      <th>muebles</th>\n",
       "    </tr>\n",
       "  </thead>\n",
       "  <tbody>\n",
       "    <tr>\n",
       "      <th>0</th>\n",
       "      <td>0</td>\n",
       "      <td>MASABOOM</td>\n",
       "      <td>el gran masajeador sexual</td>\n",
       "      <td>este es el juguete para todas, todos y todes. ...</td>\n",
       "      <td>Masajeador con forma de micrófonoMaterial: sil...</td>\n",
       "      <td>https://www.amantis.net/masaboom-el-gran-masaj...</td>\n",
       "      <td>False</td>\n",
       "      <td>False</td>\n",
       "      <td>False</td>\n",
       "      <td>False</td>\n",
       "      <td>False</td>\n",
       "      <td>True</td>\n",
       "      <td>True</td>\n",
       "      <td>False</td>\n",
       "    </tr>\n",
       "    <tr>\n",
       "      <th>1</th>\n",
       "      <td>1</td>\n",
       "      <td>MASSAJI</td>\n",
       "      <td>potente masajeador japonés sumergible de silicona</td>\n",
       "      <td>¿quieres una velada perfecta tras un largo dia...</td>\n",
       "      <td>Masajeador Japonés Massaji Material: Silicona ...</td>\n",
       "      <td>https://www.amantis.net/massaji-potente-masaje...</td>\n",
       "      <td>True</td>\n",
       "      <td>False</td>\n",
       "      <td>False</td>\n",
       "      <td>False</td>\n",
       "      <td>False</td>\n",
       "      <td>True</td>\n",
       "      <td>True</td>\n",
       "      <td>False</td>\n",
       "    </tr>\n",
       "    <tr>\n",
       "      <th>2</th>\n",
       "      <td>2</td>\n",
       "      <td>DIGIT PRO</td>\n",
       "      <td>dedal vibrador con sujeción</td>\n",
       "      <td>los dedos siempre han sido grandes aliados de ...</td>\n",
       "      <td>Dedal vibradorMaterial: silicona de grado médi...</td>\n",
       "      <td>https://www.amantis.net/digit-pro-dedal-vibrad...</td>\n",
       "      <td>False</td>\n",
       "      <td>False</td>\n",
       "      <td>False</td>\n",
       "      <td>False</td>\n",
       "      <td>False</td>\n",
       "      <td>True</td>\n",
       "      <td>True</td>\n",
       "      <td>False</td>\n",
       "    </tr>\n",
       "    <tr>\n",
       "      <th>3</th>\n",
       "      <td>3</td>\n",
       "      <td>MINI CARNIVAL</td>\n",
       "      <td>mini_masajeador con cuatro cabezales</td>\n",
       "      <td>¿conoces a mini+? puse hoy es tu dia de suerte...</td>\n",
       "      <td>Mini masajeador con cuatro cabezalesCabezales ...</td>\n",
       "      <td>https://www.amantis.net/mini-carnival-mini-mas...</td>\n",
       "      <td>False</td>\n",
       "      <td>False</td>\n",
       "      <td>False</td>\n",
       "      <td>False</td>\n",
       "      <td>False</td>\n",
       "      <td>True</td>\n",
       "      <td>True</td>\n",
       "      <td>False</td>\n",
       "    </tr>\n",
       "    <tr>\n",
       "      <th>4</th>\n",
       "      <td>4</td>\n",
       "      <td>LINGÜS</td>\n",
       "      <td>vibrador para sexo oral de amantis</td>\n",
       "      <td>milenios de sabiduria en el arte del cunniling...</td>\n",
       "      <td>Material: silicona + abs10 modos de vibraciónT...</td>\n",
       "      <td>https://www.amantis.net/lingus-vibrador-sexo-o...</td>\n",
       "      <td>False</td>\n",
       "      <td>False</td>\n",
       "      <td>False</td>\n",
       "      <td>True</td>\n",
       "      <td>False</td>\n",
       "      <td>True</td>\n",
       "      <td>True</td>\n",
       "      <td>False</td>\n",
       "    </tr>\n",
       "  </tbody>\n",
       "</table>\n",
       "</div>"
      ],
      "text/plain": [
       "   ID        PRODUCT                                             SLOGAN  \\\n",
       "0   0       MASABOOM                          el gran masajeador sexual   \n",
       "1   1        MASSAJI  potente masajeador japonés sumergible de silicona   \n",
       "2   2      DIGIT PRO                        dedal vibrador con sujeción   \n",
       "3   3  MINI CARNIVAL               mini_masajeador con cuatro cabezales   \n",
       "4   4         LINGÜS                 vibrador para sexo oral de amantis   \n",
       "\n",
       "                                         DESCRIPTION  \\\n",
       "0  este es el juguete para todas, todos y todes. ...   \n",
       "1  ¿quieres una velada perfecta tras un largo dia...   \n",
       "2  los dedos siempre han sido grandes aliados de ...   \n",
       "3  ¿conoces a mini+? puse hoy es tu dia de suerte...   \n",
       "4  milenios de sabiduria en el arte del cunniling...   \n",
       "\n",
       "                                     CHARACTERISTICS  \\\n",
       "0  Masajeador con forma de micrófonoMaterial: sil...   \n",
       "1  Masajeador Japonés Massaji Material: Silicona ...   \n",
       "2  Dedal vibradorMaterial: silicona de grado médi...   \n",
       "3  Mini masajeador con cuatro cabezalesCabezales ...   \n",
       "4  Material: silicona + abs10 modos de vibraciónT...   \n",
       "\n",
       "                                           LISTA_URL  amenities   anal   BDSM  \\\n",
       "0  https://www.amantis.net/masaboom-el-gran-masaj...      False  False  False   \n",
       "1  https://www.amantis.net/massaji-potente-masaje...       True  False  False   \n",
       "2  https://www.amantis.net/digit-pro-dedal-vibrad...      False  False  False   \n",
       "3  https://www.amantis.net/mini-carnival-mini-mas...      False  False  False   \n",
       "4  https://www.amantis.net/lingus-vibrador-sexo-o...      False  False  False   \n",
       "\n",
       "   femenino  masculino  juguetes  lenceria  muebles  \n",
       "0     False      False      True      True    False  \n",
       "1     False      False      True      True    False  \n",
       "2     False      False      True      True    False  \n",
       "3     False      False      True      True    False  \n",
       "4      True      False      True      True    False  "
      ]
     },
     "execution_count": 28,
     "metadata": {},
     "output_type": "execute_result"
    }
   ],
   "source": [
    "df_engineer.head()"
   ]
  },
  {
   "cell_type": "code",
   "execution_count": 63,
   "metadata": {},
   "outputs": [
    {
     "data": {
      "text/plain": [
       "['dildo',\n",
       " 'plug',\n",
       " 'vibrador',\n",
       " 'masturbador',\n",
       " 'cabezal',\n",
       " 'estimulador',\n",
       " 'plugs',\n",
       " 'bolas chinas',\n",
       " 'funda extensora',\n",
       " 'bomba de vacio']"
      ]
     },
     "execution_count": 63,
     "metadata": {},
     "output_type": "execute_result"
    }
   ],
   "source": [
    "# juguetes=unpickled_list('juguetes', carpeta=\"Utils\")\n",
    "# juguetes"
   ]
  },
  {
   "attachments": {},
   "cell_type": "markdown",
   "metadata": {},
   "source": [
    "Generamos las variables nuevas a partir de las listas con las keywords."
   ]
  },
  {
   "cell_type": "code",
   "execution_count": 58,
   "metadata": {},
   "outputs": [],
   "source": [
    "# df_engineer['lenceria'] = df_engineer['Description'].apply(lambda x: any(lematizado in lenceria for lematizado in extraer_lemas(x)))\n",
    "# df_engineer['juguetes'] = df_engineer['Description'].apply(lambda x: any(lematizado in juguetes for lematizado in extraer_lemas(x)))\n",
    "# df_engineer['BDSM'] = df_engineer['Description'].apply(lambda x: any(lematizado in BDSM for lematizado in extraer_lemas(x)))\n",
    "# df_engineer['muebles'] = df_engineer['Description'].apply(lambda x: any(lematizado in muebles for lematizado in extraer_lemas(x)))\n",
    "# df_engineer['anal'] = df_engineer['Description'].apply(lambda x: any(lematizado in anal for lematizado in extraer_lemas(x)))\n",
    "# df_engineer['masculino'] = df_engineer['Description'].apply(lambda x: any(lematizado in masculino for lematizado in extraer_lemas(x)))\n",
    "# df_engineer['femenino'] = df_engineer['Description'].apply(lambda x: any(lematizado in femenino for lematizado in extraer_lemas(x)))\n",
    "# df_engineer['amenities'] = df_engineer['Description'].apply(lambda x: any(lematizado in amenities for lematizado in extraer_lemas(x)))\n",
    "\n",
    "# df_engineer['otros'] = ~(df_engineer['lenceria'] | df_engineer['juguetes'] | df_engineer['BDSM']| df_engineer['muebles'] | df_engineer['anal']| df_engineer['masculino'] | df_engineer['femenino'] | df_engineer['amenities']).any()\n",
    "\n",
    "\n",
    "# df_engineer['Description'] = df_engineer['Description'].apply(spanish_stemmer)\n",
    "\n",
    "# df_engineer"
   ]
  },
  {
   "attachments": {},
   "cell_type": "markdown",
   "metadata": {},
   "source": [
    "Hacemos una visualización de las cantidades que hay en cada una de las nuevas columnas para después ver si han realizado bien la separación o no y volver a definirlas.\n",
    "\n",
    "Haremos después una visualización uno a uno de los diferentes tags generados para verificar si están bien definidos y en el caso que haya que realizar una modificación generar una nueva lista para incluirla en las iniciales."
   ]
  },
  {
   "attachments": {},
   "cell_type": "markdown",
   "metadata": {},
   "source": [
    "##### Lencería"
   ]
  },
  {
   "cell_type": "code",
   "execution_count": 25,
   "metadata": {},
   "outputs": [
    {
     "data": {
      "text/plain": [
       "False    456\n",
       "True      95\n",
       "Name: lenceria, dtype: int64"
      ]
     },
     "execution_count": 25,
     "metadata": {},
     "output_type": "execute_result"
    }
   ],
   "source": [
    "df_engineer['lenceria'].value_counts()"
   ]
  },
  {
   "cell_type": "code",
   "execution_count": null,
   "metadata": {},
   "outputs": [],
   "source": [
    "df_engineer[df_engineer['lenceria']==True]"
   ]
  },
  {
   "attachments": {},
   "cell_type": "markdown",
   "metadata": {},
   "source": [
    "Hay vibradores dentro de esta lista porque en el texto está la palabra body."
   ]
  },
  {
   "cell_type": "code",
   "execution_count": null,
   "metadata": {},
   "outputs": [],
   "source": [
    "df_engineer[df_engineer['lenceria']==False]"
   ]
  },
  {
   "cell_type": "markdown",
   "metadata": {},
   "source": [
    "En el caso que tengamos que añadir algún otro texto a cada uno de los componentes del diccionario, lo aplicaremos y realizamos un pickle de éste.\n",
    "\n",
    "Extraemos los datos de la lista correspondiente."
   ]
  },
  {
   "cell_type": "code",
   "execution_count": 35,
   "metadata": {},
   "outputs": [
    {
     "data": {
      "text/plain": [
       "['babydoll',\n",
       " 'body',\n",
       " 'camiseta',\n",
       " 'corse',\n",
       " 'corset',\n",
       " 'diadema',\n",
       " 'encaje',\n",
       " 'falda',\n",
       " 'joyeria',\n",
       " 'lenceria',\n",
       " 'lencero',\n",
       " 'malla',\n",
       " 'media',\n",
       " 'panties',\n",
       " 'pantis',\n",
       " 'ropa',\n",
       " 'sujetador',\n",
       " 'vestido']"
      ]
     },
     "execution_count": 35,
     "metadata": {},
     "output_type": "execute_result"
    }
   ],
   "source": [
    "lenceria=unpickled_list('lenceria','lenceria', carpeta=\"Utils\")\n",
    "lenceria"
   ]
  },
  {
   "cell_type": "markdown",
   "metadata": {},
   "source": [
    "Generamos nuevos tags que incluimos dentro de la lista."
   ]
  },
  {
   "cell_type": "code",
   "execution_count": 36,
   "metadata": {},
   "outputs": [
    {
     "data": {
      "text/plain": [
       "['babydoll',\n",
       " 'body',\n",
       " 'camiseta',\n",
       " 'corse',\n",
       " 'corset',\n",
       " 'diadema',\n",
       " 'encaje',\n",
       " 'falda',\n",
       " 'joyeria',\n",
       " 'lenceria',\n",
       " 'lencero',\n",
       " 'malla',\n",
       " 'media',\n",
       " 'panties',\n",
       " 'pantis',\n",
       " 'ropa',\n",
       " 'sujetador',\n",
       " 'vestido']"
      ]
     },
     "execution_count": 36,
     "metadata": {},
     "output_type": "execute_result"
    }
   ],
   "source": [
    "lenceria_new=[]                         # Aquí agregamos los nuevos tags para incluir\n",
    "lenceria+=lenceria_new          \n",
    "lenceria.sort()     \n",
    "lenceria"
   ]
  },
  {
   "cell_type": "markdown",
   "metadata": {},
   "source": [
    "Volvemos a 'picklear' el fichero."
   ]
  },
  {
   "cell_type": "code",
   "execution_count": 37,
   "metadata": {},
   "outputs": [
    {
     "data": {
      "text/plain": [
       "'lenceria'"
      ]
     },
     "execution_count": 37,
     "metadata": {},
     "output_type": "execute_result"
    }
   ],
   "source": [
    "pickled_list('lenceria','lenceria')"
   ]
  },
  {
   "cell_type": "code",
   "execution_count": 30,
   "metadata": {},
   "outputs": [],
   "source": [
    "df_engineer['lenceria'] = df_engineer['Description'].apply(lambda x: any(lematizado in lenceria for lematizado in extraer_lemas(x)))"
   ]
  },
  {
   "cell_type": "code",
   "execution_count": 31,
   "metadata": {},
   "outputs": [
    {
     "data": {
      "text/plain": [
       "False    462\n",
       "True      95\n",
       "Name: lenceria, dtype: int64"
      ]
     },
     "execution_count": 31,
     "metadata": {},
     "output_type": "execute_result"
    }
   ],
   "source": [
    "df_engineer['lenceria'].value_counts()"
   ]
  },
  {
   "cell_type": "code",
   "execution_count": null,
   "metadata": {},
   "outputs": [],
   "source": [
    "df_engineer[df_engineer['lenceria']==True]"
   ]
  },
  {
   "attachments": {},
   "cell_type": "markdown",
   "metadata": {},
   "source": [
    "Hay varios productos que no deben de estar, tienen vibrador, succionador y mordaza.\n",
    "\n",
    "Estos productos deberían de cambiar de True a False."
   ]
  },
  {
   "cell_type": "code",
   "execution_count": null,
   "metadata": {},
   "outputs": [],
   "source": [
    "df_engineer[df_engineer['lenceria']==False]"
   ]
  },
  {
   "attachments": {},
   "cell_type": "markdown",
   "metadata": {},
   "source": [
    "Qué hacemos con los collares y las cadenas para pezones?"
   ]
  },
  {
   "attachments": {},
   "cell_type": "markdown",
   "metadata": {},
   "source": [
    "##### Juguetes"
   ]
  },
  {
   "cell_type": "code",
   "execution_count": 32,
   "metadata": {},
   "outputs": [
    {
     "data": {
      "text/plain": [
       "False    311\n",
       "True     246\n",
       "Name: juguetes, dtype: int64"
      ]
     },
     "execution_count": 32,
     "metadata": {},
     "output_type": "execute_result"
    }
   ],
   "source": [
    "df_engineer['juguetes'].value_counts()"
   ]
  },
  {
   "cell_type": "code",
   "execution_count": null,
   "metadata": {},
   "outputs": [],
   "source": [
    "df_engineer[df_engineer['juguetes']==True]"
   ]
  },
  {
   "attachments": {},
   "cell_type": "markdown",
   "metadata": {},
   "source": [
    "En este punto se han incluido como juguetes productos que no lo son como amenities (limpiadores, para guardar) o arneses."
   ]
  },
  {
   "cell_type": "code",
   "execution_count": null,
   "metadata": {},
   "outputs": [],
   "source": [
    "df_engineer[df_engineer['juguetes']==False]"
   ]
  },
  {
   "attachments": {},
   "cell_type": "markdown",
   "metadata": {},
   "source": [
    "Se ve que hay bastantes productos mal asignados, principalmente anillas para penes, bombas de succion, hay plugs que no se han asignado bien, bolas chinas,..."
   ]
  },
  {
   "attachments": {},
   "cell_type": "markdown",
   "metadata": {},
   "source": [
    "##### BDSM"
   ]
  },
  {
   "cell_type": "code",
   "execution_count": 33,
   "metadata": {},
   "outputs": [
    {
     "data": {
      "text/plain": [
       "False    411\n",
       "True     146\n",
       "Name: BDSM, dtype: int64"
      ]
     },
     "execution_count": 33,
     "metadata": {},
     "output_type": "execute_result"
    }
   ],
   "source": [
    "df_engineer['BDSM'].value_counts()"
   ]
  },
  {
   "cell_type": "code",
   "execution_count": null,
   "metadata": {},
   "outputs": [],
   "source": [
    "df_engineer[df_engineer['BDSM']==True]"
   ]
  },
  {
   "cell_type": "code",
   "execution_count": null,
   "metadata": {},
   "outputs": [],
   "source": [
    "df_engineer[df_engineer['BDSM']==False]"
   ]
  },
  {
   "attachments": {},
   "cell_type": "markdown",
   "metadata": {},
   "source": [
    "##### Muebles"
   ]
  },
  {
   "cell_type": "code",
   "execution_count": 34,
   "metadata": {},
   "outputs": [
    {
     "data": {
      "text/plain": [
       "False    552\n",
       "True       5\n",
       "Name: muebles, dtype: int64"
      ]
     },
     "execution_count": 34,
     "metadata": {},
     "output_type": "execute_result"
    }
   ],
   "source": [
    "df_engineer['muebles'].value_counts()"
   ]
  },
  {
   "cell_type": "code",
   "execution_count": null,
   "metadata": {},
   "outputs": [],
   "source": [
    "df_engineer[df_engineer['muebles']==True]"
   ]
  },
  {
   "attachments": {},
   "cell_type": "markdown",
   "metadata": {},
   "source": [
    "Hay que cambiar Black Line"
   ]
  },
  {
   "cell_type": "code",
   "execution_count": null,
   "metadata": {},
   "outputs": [],
   "source": [
    "df_engineer[df_engineer['muebles']==False]"
   ]
  },
  {
   "cell_type": "code",
   "execution_count": 56,
   "metadata": {},
   "outputs": [
    {
     "data": {
      "text/plain": [
       "['chaise', 'columpio', 'moqueta', 'silla', 'sillon', 'sillones']"
      ]
     },
     "execution_count": 56,
     "metadata": {},
     "output_type": "execute_result"
    }
   ],
   "source": [
    "muebles_new=['chaise','silla','moqueta']          # Pendiente de agregar, no puedo usar puerta\n",
    "muebles+=muebles_new\n",
    "muebles.sort()\n",
    "muebles"
   ]
  },
  {
   "attachments": {},
   "cell_type": "markdown",
   "metadata": {},
   "source": [
    "Agregando los nuevos valores"
   ]
  },
  {
   "cell_type": "code",
   "execution_count": 36,
   "metadata": {},
   "outputs": [
    {
     "data": {
      "text/plain": [
       "False    543\n",
       "True      14\n",
       "Name: muebles, dtype: int64"
      ]
     },
     "execution_count": 36,
     "metadata": {},
     "output_type": "execute_result"
    }
   ],
   "source": [
    "df_engineer['muebles'] = df_engineer['Description'].apply(lambda x: any(lematizado in muebles for lematizado in extraer_lemas(x)))\n",
    "df_engineer['muebles'].value_counts()"
   ]
  },
  {
   "cell_type": "code",
   "execution_count": null,
   "metadata": {},
   "outputs": [],
   "source": [
    "df_engineer[df_engineer['muebles']==True]"
   ]
  },
  {
   "attachments": {},
   "cell_type": "markdown",
   "metadata": {},
   "source": [
    "Hay que eliminar los dildos y plugs y agregar el soporte para puertas"
   ]
  },
  {
   "attachments": {},
   "cell_type": "markdown",
   "metadata": {},
   "source": [
    "##### Anal"
   ]
  },
  {
   "cell_type": "code",
   "execution_count": 24,
   "metadata": {},
   "outputs": [
    {
     "data": {
      "text/plain": [
       "False    453\n",
       "True     123\n",
       "Name: anal, dtype: int64"
      ]
     },
     "execution_count": 24,
     "metadata": {},
     "output_type": "execute_result"
    }
   ],
   "source": [
    "df_engineer['anal'].value_counts()"
   ]
  },
  {
   "cell_type": "code",
   "execution_count": null,
   "metadata": {},
   "outputs": [],
   "source": [
    "df_engineer[df_engineer['anal']==True]"
   ]
  },
  {
   "cell_type": "code",
   "execution_count": null,
   "metadata": {},
   "outputs": [],
   "source": [
    "df_engineer[df_engineer['anal']==False]"
   ]
  },
  {
   "attachments": {},
   "cell_type": "markdown",
   "metadata": {},
   "source": [
    "##### Masculino"
   ]
  },
  {
   "cell_type": "code",
   "execution_count": 27,
   "metadata": {},
   "outputs": [
    {
     "data": {
      "text/plain": [
       "False    525\n",
       "True      51\n",
       "Name: masculino, dtype: int64"
      ]
     },
     "execution_count": 27,
     "metadata": {},
     "output_type": "execute_result"
    }
   ],
   "source": [
    "df_engineer['masculino'].value_counts()"
   ]
  },
  {
   "cell_type": "code",
   "execution_count": null,
   "metadata": {},
   "outputs": [],
   "source": [
    "df_engineer[df_engineer['masculino']==True]"
   ]
  },
  {
   "cell_type": "code",
   "execution_count": null,
   "metadata": {},
   "outputs": [],
   "source": [
    "df_engineer[df_engineer['masculino']==False]"
   ]
  },
  {
   "attachments": {},
   "cell_type": "markdown",
   "metadata": {},
   "source": [
    "##### Femenino"
   ]
  },
  {
   "cell_type": "code",
   "execution_count": 38,
   "metadata": {},
   "outputs": [
    {
     "data": {
      "text/plain": [
       "False    367\n",
       "True     184\n",
       "Name: femenino, dtype: int64"
      ]
     },
     "execution_count": 38,
     "metadata": {},
     "output_type": "execute_result"
    }
   ],
   "source": [
    "df_engineer['femenino'].value_counts()"
   ]
  },
  {
   "cell_type": "code",
   "execution_count": null,
   "metadata": {},
   "outputs": [],
   "source": [
    "df_engineer[df_engineer['femenino']==True]"
   ]
  },
  {
   "attachments": {},
   "cell_type": "markdown",
   "metadata": {},
   "source": [
    "Hay juguetes masculinos que se han incluido aquí dado que tienen la palabra mujer. \n",
    "\n",
    "Estos son las muñecas para hombres. "
   ]
  },
  {
   "cell_type": "code",
   "execution_count": null,
   "metadata": {},
   "outputs": [],
   "source": [
    "df_engineer[df_engineer['femenino']==False]"
   ]
  },
  {
   "attachments": {},
   "cell_type": "markdown",
   "metadata": {},
   "source": [
    "##### Amenities"
   ]
  },
  {
   "cell_type": "code",
   "execution_count": 39,
   "metadata": {},
   "outputs": [
    {
     "data": {
      "text/plain": [
       "False    397\n",
       "True     154\n",
       "Name: amenities, dtype: int64"
      ]
     },
     "execution_count": 39,
     "metadata": {},
     "output_type": "execute_result"
    }
   ],
   "source": [
    "df_engineer['amenities'].value_counts()"
   ]
  },
  {
   "cell_type": "code",
   "execution_count": null,
   "metadata": {},
   "outputs": [],
   "source": [
    "amenities=['lubricante','limpiador','preservativo','condon']            #Tengo que aplicar primero la generación de las variables"
   ]
  },
  {
   "cell_type": "code",
   "execution_count": null,
   "metadata": {},
   "outputs": [],
   "source": [
    "df_engineer[df_engineer['amenities']==True]"
   ]
  },
  {
   "cell_type": "code",
   "execution_count": null,
   "metadata": {},
   "outputs": [],
   "source": [
    "df_engineer[df_engineer['amenities']==False]"
   ]
  },
  {
   "attachments": {},
   "cell_type": "markdown",
   "metadata": {},
   "source": [
    "##### Otros (Esta columna tengo pendiente de crear)"
   ]
  },
  {
   "cell_type": "code",
   "execution_count": 40,
   "metadata": {},
   "outputs": [
    {
     "ename": "KeyError",
     "evalue": "'otros'",
     "output_type": "error",
     "traceback": [
      "\u001b[1;31m---------------------------------------------------------------------------\u001b[0m",
      "\u001b[1;31mKeyError\u001b[0m                                  Traceback (most recent call last)",
      "File \u001b[1;32m~\\AppData\\Local\\Packages\\PythonSoftwareFoundation.Python.3.10_qbz5n2kfra8p0\\LocalCache\\local-packages\\Python310\\site-packages\\pandas\\core\\indexes\\base.py:3800\u001b[0m, in \u001b[0;36mIndex.get_loc\u001b[1;34m(self, key, method, tolerance)\u001b[0m\n\u001b[0;32m   3799\u001b[0m \u001b[39mtry\u001b[39;00m:\n\u001b[1;32m-> 3800\u001b[0m     \u001b[39mreturn\u001b[39;00m \u001b[39mself\u001b[39;49m\u001b[39m.\u001b[39;49m_engine\u001b[39m.\u001b[39;49mget_loc(casted_key)\n\u001b[0;32m   3801\u001b[0m \u001b[39mexcept\u001b[39;00m \u001b[39mKeyError\u001b[39;00m \u001b[39mas\u001b[39;00m err:\n",
      "File \u001b[1;32m~\\AppData\\Local\\Packages\\PythonSoftwareFoundation.Python.3.10_qbz5n2kfra8p0\\LocalCache\\local-packages\\Python310\\site-packages\\pandas\\_libs\\index.pyx:138\u001b[0m, in \u001b[0;36mpandas._libs.index.IndexEngine.get_loc\u001b[1;34m()\u001b[0m\n",
      "File \u001b[1;32m~\\AppData\\Local\\Packages\\PythonSoftwareFoundation.Python.3.10_qbz5n2kfra8p0\\LocalCache\\local-packages\\Python310\\site-packages\\pandas\\_libs\\index.pyx:165\u001b[0m, in \u001b[0;36mpandas._libs.index.IndexEngine.get_loc\u001b[1;34m()\u001b[0m\n",
      "File \u001b[1;32mpandas\\_libs\\hashtable_class_helper.pxi:5745\u001b[0m, in \u001b[0;36mpandas._libs.hashtable.PyObjectHashTable.get_item\u001b[1;34m()\u001b[0m\n",
      "File \u001b[1;32mpandas\\_libs\\hashtable_class_helper.pxi:5753\u001b[0m, in \u001b[0;36mpandas._libs.hashtable.PyObjectHashTable.get_item\u001b[1;34m()\u001b[0m\n",
      "\u001b[1;31mKeyError\u001b[0m: 'otros'",
      "\nThe above exception was the direct cause of the following exception:\n",
      "\u001b[1;31mKeyError\u001b[0m                                  Traceback (most recent call last)",
      "\u001b[1;32md:\\Data_science\\Javier\\Repositorios\\Proyecto_tienda_online\\src\\Notebook\\Engineering.ipynb Cell 125\u001b[0m line \u001b[0;36m1\n\u001b[1;32m----> <a href='vscode-notebook-cell:/d%3A/Data_science/Javier/Repositorios/Proyecto_tienda_online/src/Notebook/Engineering.ipynb#Y231sZmlsZQ%3D%3D?line=0'>1</a>\u001b[0m df_engineer[\u001b[39m'\u001b[39m\u001b[39motros\u001b[39m\u001b[39m'\u001b[39m]\u001b[39m.\u001b[39mvalue_counts()\n",
      "File \u001b[1;32m~\\AppData\\Local\\Packages\\PythonSoftwareFoundation.Python.3.10_qbz5n2kfra8p0\\LocalCache\\local-packages\\Python310\\site-packages\\pandas\\core\\frame.py:3805\u001b[0m, in \u001b[0;36mDataFrame.__getitem__\u001b[1;34m(self, key)\u001b[0m\n\u001b[0;32m   3803\u001b[0m \u001b[39mif\u001b[39;00m \u001b[39mself\u001b[39m\u001b[39m.\u001b[39mcolumns\u001b[39m.\u001b[39mnlevels \u001b[39m>\u001b[39m \u001b[39m1\u001b[39m:\n\u001b[0;32m   3804\u001b[0m     \u001b[39mreturn\u001b[39;00m \u001b[39mself\u001b[39m\u001b[39m.\u001b[39m_getitem_multilevel(key)\n\u001b[1;32m-> 3805\u001b[0m indexer \u001b[39m=\u001b[39m \u001b[39mself\u001b[39;49m\u001b[39m.\u001b[39;49mcolumns\u001b[39m.\u001b[39;49mget_loc(key)\n\u001b[0;32m   3806\u001b[0m \u001b[39mif\u001b[39;00m is_integer(indexer):\n\u001b[0;32m   3807\u001b[0m     indexer \u001b[39m=\u001b[39m [indexer]\n",
      "File \u001b[1;32m~\\AppData\\Local\\Packages\\PythonSoftwareFoundation.Python.3.10_qbz5n2kfra8p0\\LocalCache\\local-packages\\Python310\\site-packages\\pandas\\core\\indexes\\base.py:3802\u001b[0m, in \u001b[0;36mIndex.get_loc\u001b[1;34m(self, key, method, tolerance)\u001b[0m\n\u001b[0;32m   3800\u001b[0m     \u001b[39mreturn\u001b[39;00m \u001b[39mself\u001b[39m\u001b[39m.\u001b[39m_engine\u001b[39m.\u001b[39mget_loc(casted_key)\n\u001b[0;32m   3801\u001b[0m \u001b[39mexcept\u001b[39;00m \u001b[39mKeyError\u001b[39;00m \u001b[39mas\u001b[39;00m err:\n\u001b[1;32m-> 3802\u001b[0m     \u001b[39mraise\u001b[39;00m \u001b[39mKeyError\u001b[39;00m(key) \u001b[39mfrom\u001b[39;00m \u001b[39merr\u001b[39;00m\n\u001b[0;32m   3803\u001b[0m \u001b[39mexcept\u001b[39;00m \u001b[39mTypeError\u001b[39;00m:\n\u001b[0;32m   3804\u001b[0m     \u001b[39m# If we have a listlike key, _check_indexing_error will raise\u001b[39;00m\n\u001b[0;32m   3805\u001b[0m     \u001b[39m#  InvalidIndexError. Otherwise we fall through and re-raise\u001b[39;00m\n\u001b[0;32m   3806\u001b[0m     \u001b[39m#  the TypeError.\u001b[39;00m\n\u001b[0;32m   3807\u001b[0m     \u001b[39mself\u001b[39m\u001b[39m.\u001b[39m_check_indexing_error(key)\n",
      "\u001b[1;31mKeyError\u001b[0m: 'otros'"
     ]
    }
   ],
   "source": [
    "df_engineer['otros'].value_counts()"
   ]
  },
  {
   "cell_type": "code",
   "execution_count": 37,
   "metadata": {},
   "outputs": [
    {
     "data": {
      "text/html": [
       "<div>\n",
       "<style scoped>\n",
       "    .dataframe tbody tr th:only-of-type {\n",
       "        vertical-align: middle;\n",
       "    }\n",
       "\n",
       "    .dataframe tbody tr th {\n",
       "        vertical-align: top;\n",
       "    }\n",
       "\n",
       "    .dataframe thead th {\n",
       "        text-align: right;\n",
       "    }\n",
       "</style>\n",
       "<table border=\"1\" class=\"dataframe\">\n",
       "  <thead>\n",
       "    <tr style=\"text-align: right;\">\n",
       "      <th></th>\n",
       "      <th>Name</th>\n",
       "      <th>Description</th>\n",
       "      <th>lenceria</th>\n",
       "      <th>juguetes</th>\n",
       "      <th>BDSM</th>\n",
       "      <th>muebles</th>\n",
       "      <th>anal</th>\n",
       "      <th>masculino</th>\n",
       "      <th>femenino</th>\n",
       "      <th>amenities</th>\n",
       "      <th>otros</th>\n",
       "    </tr>\n",
       "  </thead>\n",
       "  <tbody>\n",
       "  </tbody>\n",
       "</table>\n",
       "</div>"
      ],
      "text/plain": [
       "Empty DataFrame\n",
       "Columns: [Name, Description, lenceria, juguetes, BDSM, muebles, anal, masculino, femenino, amenities, otros]\n",
       "Index: []"
      ]
     },
     "execution_count": 37,
     "metadata": {},
     "output_type": "execute_result"
    }
   ],
   "source": [
    "df_engineer[df_engineer['otros']==True]"
   ]
  },
  {
   "cell_type": "code",
   "execution_count": null,
   "metadata": {},
   "outputs": [],
   "source": [
    "df_engineer[df_engineer['otros']==False]"
   ]
  },
  {
   "cell_type": "markdown",
   "metadata": {},
   "source": [
    "Guardamos el fichero con la tabla de *Tags*, para ello tomamos todos los campos salbo **'DESCRIPTION'** Y **'SLOGAN'**"
   ]
  },
  {
   "cell_type": "code",
   "execution_count": 41,
   "metadata": {},
   "outputs": [
    {
     "data": {
      "text/plain": [
       "<bound method NDFrame.head of       ID                                            PRODUCT  amenities   anal  \\\n",
       "0      0            Desliz! Lubricante íntimo de agua 100ml       True  False   \n",
       "1      1                                            FOXTAIL       True   True   \n",
       "2      2                                             LIZO 2      False  False   \n",
       "3      3                          Bacanal FORTE TARRO 200ml       True   True   \n",
       "4      4   Vibrador Líquido con sabor Desliz! VIBRAGEL 30ml      False  False   \n",
       "..   ...                                                ...        ...    ...   \n",
       "546  571                                             BRILLI      False  False   \n",
       "547  572                                  Glup! Plug grande       True   True   \n",
       "548  573  Conjunto de encaje + collar y muñequeras con c...      False  False   \n",
       "549  574                           Cabezal para masaje_sexy      False  False   \n",
       "550  575                                           MS_DIGIT      False   True   \n",
       "\n",
       "      BDSM  femenino  masculino  juguetes  lenceria  muebles  \n",
       "0    False      True      False     False     False    False  \n",
       "1    False     False      False      True     False    False  \n",
       "2     True      True      False      True     False    False  \n",
       "3    False     False      False     False     False    False  \n",
       "4    False     False      False      True     False    False  \n",
       "..     ...       ...        ...       ...       ...      ...  \n",
       "546  False     False      False     False      True    False  \n",
       "547  False     False      False      True     False    False  \n",
       "548  False     False      False     False      True    False  \n",
       "549  False      True      False      True     False    False  \n",
       "550  False      True      False      True     False    False  \n",
       "\n",
       "[551 rows x 10 columns]>"
      ]
     },
     "execution_count": 41,
     "metadata": {},
     "output_type": "execute_result"
    }
   ],
   "source": [
    "df_engineer.drop(columns=['SLOGAN','DESCRIPTION'],inplace=True)\n",
    "df_engineer.head"
   ]
  },
  {
   "cell_type": "code",
   "execution_count": 42,
   "metadata": {},
   "outputs": [],
   "source": [
    "df_engineer.to_csv('./Data/tags.csv',header=True,index=False)"
   ]
  }
 ],
 "metadata": {
  "kernelspec": {
   "display_name": "Python 3",
   "language": "python",
   "name": "python3"
  },
  "language_info": {
   "codemirror_mode": {
    "name": "ipython",
    "version": 3
   },
   "file_extension": ".py",
   "mimetype": "text/x-python",
   "name": "python",
   "nbconvert_exporter": "python",
   "pygments_lexer": "ipython3",
   "version": "3.10.11"
  },
  "orig_nbformat": 4
 },
 "nbformat": 4,
 "nbformat_minor": 2
}
