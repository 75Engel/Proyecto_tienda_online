{
 "cells": [
  {
   "attachments": {},
   "cell_type": "markdown",
   "metadata": {},
   "source": [
    "# Realizando ingeniería de datos para realizar transformación y generación de nuevas variables"
   ]
  },
  {
   "attachments": {},
   "cell_type": "markdown",
   "metadata": {},
   "source": [
    "## 1.- Importamos las librerías necesarias y preparamos las funciones oportunas."
   ]
  },
  {
   "cell_type": "code",
   "execution_count": 1,
   "metadata": {},
   "outputs": [],
   "source": [
    "import pandas as pd\n",
    "import numpy as np\n",
    "import os\n",
    "import pickle\n",
    "import re\n",
    "import spacy\n",
    "from nltk.stem.snowball import SnowballStemmer\n",
    "import datetime\n",
    "\n",
    "nlp = spacy.load('es_core_news_lg')"
   ]
  },
  {
   "cell_type": "code",
   "execution_count": 2,
   "metadata": {},
   "outputs": [],
   "source": [
    "pd.set_option('display.max_colwidth', None)       # Visualizar todas las columnas\n",
    "pd.set_option('display.max_rows', None)           # Visualizar todas las filas"
   ]
  },
  {
   "attachments": {},
   "cell_type": "markdown",
   "metadata": {},
   "source": [
    "Generamos funciones para el tratamiento de textos"
   ]
  },
  {
   "cell_type": "code",
   "execution_count": 2,
   "metadata": {},
   "outputs": [],
   "source": [
    "def extraer_lemas(texto):\n",
    "    '''\n",
    "    Función que recibe un texto como entrada y devuelve una lista de los lemas de las palabras que se encuentran en el texto. \n",
    "    \n",
    "    La lista de lemas resultante solo contiene las palabras que son alfabéticas, es decir, que no contienen caracteres numéricos o especiales.\n",
    "\n",
    "    - Inputs:\n",
    "\n",
    "        texto (str): Texto del cual se quieren extraer los lemas.\n",
    "\n",
    "    - Outputs:\n",
    "\n",
    "        lemas (list): Lista de los lemas de las palabras alfabéticas que se encuentran en el texto.\n",
    "    '''\n",
    "    doc = nlp(texto)\n",
    "    lemas = [token.lemma_ for token in doc if token.is_alpha]\n",
    "    return lemas\n",
    "\n",
    "def eliminacion_acentos(text):\n",
    "    '''\n",
    "    Función que recibe un texto como entrada y devuelve el mismo texto pero sin los caracteres acentuados. \n",
    "    \n",
    "    Para esto, se utiliza una expresión regular y un diccionario con los caracteres a reemplazar.\n",
    "\n",
    "    - Inputs:\n",
    "\n",
    "       text (str): Texto del cual se quieren eliminar los acentos.\n",
    "\n",
    "    - Outputs:\n",
    "\n",
    "        texto (str): Texto sin los caracteres acentuados.\n",
    "         '''\n",
    "    pattern = '[áéíóúÁÉÍÓÚ]'\n",
    "    replace = {'á': 'a', 'é': 'e', 'í': 'i', 'ó': 'o', 'ú': 'u', 'Á': 'A', 'É': 'E', 'Í': 'I', 'Ó': 'O', 'Ú': 'U'}\n",
    "    return re.sub(pattern, lambda match: replace[match.group()], text)\n",
    "\n",
    "def spanish_stemmer(x):\n",
    "    '''\n",
    "    Función que recibe una cadena de texto como entrada y devuelve el texto procesado con un algoritmo de stemming en español. \n",
    "    \n",
    "    El stemming es una técnica de NLP que busca reducir una palabra a su raíz. \n",
    "    \n",
    "    En este caso, se utiliza el algoritmo SnowballStemmer de la librería NLTK.\n",
    "\n",
    "    - Inputs:\n",
    "\n",
    "        x (str): Texto que se quiere procesar con el algoritmo de stemming.\n",
    "\n",
    "    - Outputs:\n",
    "\n",
    "        str: Texto procesado con el algoritmo de stemming.\n",
    "        '''\n",
    "    stemmer = SnowballStemmer('spanish')\n",
    "    return \" \".join([stemmer.stem(word) for word in x.split()])\n",
    "\n",
    "def pickled_list(lista,nombre_archivo, carpeta=\"Utils\"):\n",
    "    '''Generar fichero picke a partir de una lista de tareas. \n",
    "    \n",
    "    Los ficheros se guardan en la carpeta Utils.\n",
    "    \n",
    "    - INPUT: \n",
    "        - lista (list):         Nombre de la lista a guardar.\n",
    "\n",
    "        - nombre_archivo (str): Nombre del fichero a generar\n",
    "\n",
    "        - carpeta: Carpeta donde se va a guardar el fichero .pickle\n",
    "\n",
    "    - OUTPUT: \n",
    "        - lista (.pickle): fichero .pickle donde esta almacenada la información de la lista.\n",
    "\n",
    "    '''\n",
    "    ruta_archivo = os.path.join(carpeta, nombre_archivo + \".pickle\")\n",
    "\n",
    "    with open(ruta_archivo, \"wb\") as archivo_pickle:\n",
    "            pickle.dump(lista, archivo_pickle)\n",
    "    return lista\n",
    "\n",
    "def unpickled_list(lista,nombre_archivo, carpeta=\"Utils\"):\n",
    "    '''Generar lista de tareas que existen en la carpeta Utils.\n",
    "    \n",
    "    Definir tareas nuevas a agregar dentro de la lista en el caso de haber una nueva tarea a añadir.\n",
    "    \n",
    "    - INPUT: \n",
    "        - lista (list):         Nombre de la lista a guardar.\n",
    "\n",
    "        - nombre_archivo (str): Nombre del fichero a generar\n",
    "\n",
    "        - carpeta:              Carpeta donde se va a guardar el fichero .pickle\n",
    "    \n",
    "    - OUTPUT: \n",
    "        - lista (list):         Lista de productos\n",
    "    '''\n",
    "    \n",
    "    ruta_archivo = os.path.join(carpeta, nombre_archivo + \".pickle\")\n",
    "    with open(ruta_archivo, \"rb\") as archivo_pickle:\n",
    "        lista = pickle.load(archivo_pickle)\n",
    "\n",
    "    return lista\n",
    "\n",
    "\n",
    "\n"
   ]
  },
  {
   "attachments": {},
   "cell_type": "markdown",
   "metadata": {},
   "source": [
    "### Obtenemos los datos guardados."
   ]
  },
  {
   "cell_type": "code",
   "execution_count": 2,
   "metadata": {},
   "outputs": [],
   "source": [
    "path=r'Data\\productos_scrape.csv'"
   ]
  },
  {
   "cell_type": "code",
   "execution_count": 3,
   "metadata": {},
   "outputs": [
    {
     "data": {
      "text/plain": [
       "'d:\\\\Data_science\\\\Javier\\\\Repositorios\\\\Proyecto_tienda_online\\\\src'"
      ]
     },
     "execution_count": 3,
     "metadata": {},
     "output_type": "execute_result"
    }
   ],
   "source": [
    "os.chdir(os.path.split(os.getcwd())[0])\n",
    "folder=os.getcwd()\n",
    "folder"
   ]
  },
  {
   "cell_type": "code",
   "execution_count": 4,
   "metadata": {},
   "outputs": [
    {
     "data": {
      "text/plain": [
       "'d:\\\\Data_science\\\\Javier\\\\Repositorios\\\\Proyecto_tienda_online\\\\src\\\\Data\\\\productos_scrape.csv'"
      ]
     },
     "execution_count": 4,
     "metadata": {},
     "output_type": "execute_result"
    }
   ],
   "source": [
    "new_path=folder+'\\\\'+path\n",
    "new_path"
   ]
  },
  {
   "attachments": {},
   "cell_type": "markdown",
   "metadata": {},
   "source": [
    "Vamos a eliminar duplicados del dataframe (esto es una operación a realizar en el anterior Notebook)"
   ]
  },
  {
   "cell_type": "code",
   "execution_count": 5,
   "metadata": {},
   "outputs": [
    {
     "data": {
      "text/html": [
       "<div>\n",
       "<style scoped>\n",
       "    .dataframe tbody tr th:only-of-type {\n",
       "        vertical-align: middle;\n",
       "    }\n",
       "\n",
       "    .dataframe tbody tr th {\n",
       "        vertical-align: top;\n",
       "    }\n",
       "\n",
       "    .dataframe thead th {\n",
       "        text-align: right;\n",
       "    }\n",
       "</style>\n",
       "<table border=\"1\" class=\"dataframe\">\n",
       "  <thead>\n",
       "    <tr style=\"text-align: right;\">\n",
       "      <th></th>\n",
       "      <th>ID</th>\n",
       "      <th>NAME</th>\n",
       "      <th>INFO</th>\n",
       "      <th>LISTA_URL</th>\n",
       "      <th>REGULAR_PRICE</th>\n",
       "      <th>DISCOUNT_PRICE</th>\n",
       "    </tr>\n",
       "  </thead>\n",
       "  <tbody>\n",
       "    <tr>\n",
       "      <th>0</th>\n",
       "      <td>0</td>\n",
       "      <td>MASABOOM - El gran masajeador sexual</td>\n",
       "      <td>Este es el juguete para todas, todos y todes. ...</td>\n",
       "      <td>https://www.amantis.net/masaboom-el-gran-masaj...</td>\n",
       "      <td>69.99</td>\n",
       "      <td>39.99</td>\n",
       "    </tr>\n",
       "    <tr>\n",
       "      <th>1</th>\n",
       "      <td>1</td>\n",
       "      <td>MASSAJI, Potente masajeador japonés sumergible...</td>\n",
       "      <td>¿Quieres una velada perfecta tras un largo día...</td>\n",
       "      <td>https://www.amantis.net/massaji-potente-masaje...</td>\n",
       "      <td>99.99</td>\n",
       "      <td>44.99</td>\n",
       "    </tr>\n",
       "    <tr>\n",
       "      <th>2</th>\n",
       "      <td>2</td>\n",
       "      <td>DIGIT PRO, dedal vibrador con sujeción</td>\n",
       "      <td>Los dedos siempre han sido grandes aliados de ...</td>\n",
       "      <td>https://www.amantis.net/digit-pro-dedal-vibrad...</td>\n",
       "      <td>79.99</td>\n",
       "      <td>29.99</td>\n",
       "    </tr>\n",
       "    <tr>\n",
       "      <th>3</th>\n",
       "      <td>3</td>\n",
       "      <td>MINI CARNIVAL, mini-masajeador con cuatro cabe...</td>\n",
       "      <td>¿Conoces a MINI+? Puse hoy es tu día de suerte...</td>\n",
       "      <td>https://www.amantis.net/mini-carnival-mini-mas...</td>\n",
       "      <td>34.99</td>\n",
       "      <td>17.99</td>\n",
       "    </tr>\n",
       "    <tr>\n",
       "      <th>4</th>\n",
       "      <td>4</td>\n",
       "      <td>LINGÜS - Vibrador para Sexo Oral de amantis</td>\n",
       "      <td>Milenios de sabiduría en el arte del cunniling...</td>\n",
       "      <td>https://www.amantis.net/lingus-vibrador-sexo-o...</td>\n",
       "      <td>79.99</td>\n",
       "      <td>59.99</td>\n",
       "    </tr>\n",
       "  </tbody>\n",
       "</table>\n",
       "</div>"
      ],
      "text/plain": [
       "   ID                                               NAME  \\\n",
       "0   0               MASABOOM - El gran masajeador sexual   \n",
       "1   1  MASSAJI, Potente masajeador japonés sumergible...   \n",
       "2   2             DIGIT PRO, dedal vibrador con sujeción   \n",
       "3   3  MINI CARNIVAL, mini-masajeador con cuatro cabe...   \n",
       "4   4        LINGÜS - Vibrador para Sexo Oral de amantis   \n",
       "\n",
       "                                                INFO  \\\n",
       "0  Este es el juguete para todas, todos y todes. ...   \n",
       "1  ¿Quieres una velada perfecta tras un largo día...   \n",
       "2  Los dedos siempre han sido grandes aliados de ...   \n",
       "3  ¿Conoces a MINI+? Puse hoy es tu día de suerte...   \n",
       "4  Milenios de sabiduría en el arte del cunniling...   \n",
       "\n",
       "                                           LISTA_URL  REGULAR_PRICE  \\\n",
       "0  https://www.amantis.net/masaboom-el-gran-masaj...          69.99   \n",
       "1  https://www.amantis.net/massaji-potente-masaje...          99.99   \n",
       "2  https://www.amantis.net/digit-pro-dedal-vibrad...          79.99   \n",
       "3  https://www.amantis.net/mini-carnival-mini-mas...          34.99   \n",
       "4  https://www.amantis.net/lingus-vibrador-sexo-o...          79.99   \n",
       "\n",
       "   DISCOUNT_PRICE  \n",
       "0           39.99  \n",
       "1           44.99  \n",
       "2           29.99  \n",
       "3           17.99  \n",
       "4           59.99  "
      ]
     },
     "execution_count": 5,
     "metadata": {},
     "output_type": "execute_result"
    }
   ],
   "source": [
    "dataframe=pd.read_csv(new_path)\n",
    "dataframe.head()"
   ]
  },
  {
   "cell_type": "code",
   "execution_count": 6,
   "metadata": {},
   "outputs": [
    {
     "data": {
      "text/plain": [
       "561"
      ]
     },
     "execution_count": 6,
     "metadata": {},
     "output_type": "execute_result"
    }
   ],
   "source": [
    "len(dataframe)"
   ]
  },
  {
   "attachments": {},
   "cell_type": "markdown",
   "metadata": {},
   "source": [
    "## 2.- Descomponemos las variables *Name* y *Description*.\n",
    "\n",
    "Vamos a crear 2 nuevas columnas a partir de *Name* y *Description*, donde dejaremos el nombre del producto y su slogan por un lado y por otro la descripción y las características por otro.\n",
    "\n",
    "En principio son variables que no necesitaremos para estos estudios pero las guardaremos por si hay que hacer algún estudio posterior de las mismas (comparativas de productos similares de esta página web o de otras páginas web, por ejemplo)."
   ]
  },
  {
   "attachments": {},
   "cell_type": "markdown",
   "metadata": {},
   "source": [
    "#### Generación de slogan.\n",
    "\n",
    "Primeramente vamos a realizar un visionado de los datos que tienen para discernir donde se puede realizar la separación.\n",
    "\n",
    "Por un lado extraeremos el Name en una nueva columna y varias columnas para ir separando el resto. "
   ]
  },
  {
   "cell_type": "code",
   "execution_count": 7,
   "metadata": {},
   "outputs": [
    {
     "name": "stderr",
     "output_type": "stream",
     "text": [
      "C:\\Users\\Javier\\AppData\\Local\\Temp\\ipykernel_12876\\572804979.py:1: FutureWarning: The default value of regex will change from True to False in a future version.\n",
      "  dataframe['NAME'] = dataframe['NAME'].str.replace(r'-(?=\\w)', '_')\n",
      "C:\\Users\\Javier\\AppData\\Local\\Temp\\ipykernel_12876\\572804979.py:2: FutureWarning: In a future version of pandas all arguments of StringMethods.split except for the argument 'pat' will be keyword-only.\n",
      "  dataframe[['PRODUCT', 'SLOGAN']] = dataframe['NAME'].str.split('[,-.]', 1, expand=True)\n"
     ]
    }
   ],
   "source": [
    "dataframe['NAME'] = dataframe['NAME'].str.replace(r'-(?=\\w)', '_')\n",
    "dataframe[['PRODUCT', 'SLOGAN']] = dataframe['NAME'].str.split('[,-.]', 1, expand=True)\n",
    "dataframe['PRODUCT'] = dataframe['PRODUCT'].str.strip()\n",
    "dataframe['SLOGAN'] = dataframe['SLOGAN'].str.strip()\n",
    "# dataframe.head()"
   ]
  },
  {
   "attachments": {},
   "cell_type": "markdown",
   "metadata": {},
   "source": [
    "#### Separación entre Description y Characteristics.\n",
    "\n",
    "Primeramente vamos a realizar un visionado de los datos que tienen para discernir donde se puede realizar la separación.\n",
    "\n",
    "Por un lado extraeremos las características en una nueva columna, dejando la Description en la misma. \n",
    "\n",
    "**Pendiente**: Hay que hacer una segunda separación de Description en el caso que solo aparezca *características*"
   ]
  },
  {
   "cell_type": "code",
   "execution_count": 8,
   "metadata": {},
   "outputs": [
    {
     "name": "stderr",
     "output_type": "stream",
     "text": [
      "C:\\Users\\Javier\\AppData\\Local\\Temp\\ipykernel_12876\\1793188304.py:1: FutureWarning: In a future version of pandas all arguments of StringMethods.split except for the argument 'pat' will be keyword-only.\n",
      "  dataframe['CHARACTERISTICS'] = dataframe['INFO'].str.split('Ver características y medidas|Características', 1).str[1]\n",
      "C:\\Users\\Javier\\AppData\\Local\\Temp\\ipykernel_12876\\1793188304.py:2: FutureWarning: In a future version of pandas all arguments of StringMethods.split except for the argument 'pat' will be keyword-only.\n",
      "  dataframe['DESCRIPTION'] = dataframe['INFO'].str.split('Ver características y medidas|Características', 1).str[0].str.strip()\n"
     ]
    }
   ],
   "source": [
    "dataframe['CHARACTERISTICS'] = dataframe['INFO'].str.split('Ver características y medidas|Características', 1).str[1]\n",
    "dataframe['DESCRIPTION'] = dataframe['INFO'].str.split('Ver características y medidas|Características', 1).str[0].str.strip()\n",
    "# dataframe.head()\n"
   ]
  },
  {
   "attachments": {},
   "cell_type": "markdown",
   "metadata": {},
   "source": [
    "Se observan que hay *\\r* dentro del texto generado en las nuevas columnas, por lo que vamos a proceder a sustituir esto por un espacio."
   ]
  },
  {
   "cell_type": "code",
   "execution_count": 9,
   "metadata": {},
   "outputs": [],
   "source": [
    "dataframe['CHARACTERISTICS'] = dataframe['CHARACTERISTICS'].str.replace('\\r', ' ')\n",
    "dataframe['DESCRIPTION'] = dataframe['DESCRIPTION'].str.replace('\\r', ' ')\n",
    "# dataframe.head()"
   ]
  },
  {
   "cell_type": "code",
   "execution_count": 10,
   "metadata": {},
   "outputs": [
    {
     "name": "stdout",
     "output_type": "stream",
     "text": [
      "<class 'pandas.core.frame.DataFrame'>\n",
      "RangeIndex: 561 entries, 0 to 560\n",
      "Data columns (total 10 columns):\n",
      " #   Column           Non-Null Count  Dtype  \n",
      "---  ------           --------------  -----  \n",
      " 0   ID               561 non-null    int64  \n",
      " 1   NAME             561 non-null    object \n",
      " 2   INFO             561 non-null    object \n",
      " 3   LISTA_URL        561 non-null    object \n",
      " 4   REGULAR_PRICE    561 non-null    float64\n",
      " 5   DISCOUNT_PRICE   561 non-null    float64\n",
      " 6   PRODUCT          561 non-null    object \n",
      " 7   SLOGAN           467 non-null    object \n",
      " 8   CHARACTERISTICS  501 non-null    object \n",
      " 9   DESCRIPTION      561 non-null    object \n",
      "dtypes: float64(2), int64(1), object(7)\n",
      "memory usage: 44.0+ KB\n"
     ]
    }
   ],
   "source": [
    "dataframe.info()"
   ]
  },
  {
   "attachments": {},
   "cell_type": "markdown",
   "metadata": {},
   "source": [
    "Eliminamos *Nombre* y sustituimos por *Product*, *Slogan*, *Description* y *Characteristics*."
   ]
  },
  {
   "cell_type": "code",
   "execution_count": 11,
   "metadata": {},
   "outputs": [
    {
     "data": {
      "text/html": [
       "<div>\n",
       "<style scoped>\n",
       "    .dataframe tbody tr th:only-of-type {\n",
       "        vertical-align: middle;\n",
       "    }\n",
       "\n",
       "    .dataframe tbody tr th {\n",
       "        vertical-align: top;\n",
       "    }\n",
       "\n",
       "    .dataframe thead th {\n",
       "        text-align: right;\n",
       "    }\n",
       "</style>\n",
       "<table border=\"1\" class=\"dataframe\">\n",
       "  <thead>\n",
       "    <tr style=\"text-align: right;\">\n",
       "      <th></th>\n",
       "      <th>ID</th>\n",
       "      <th>PRODUCT</th>\n",
       "      <th>SLOGAN</th>\n",
       "      <th>DESCRIPTION</th>\n",
       "      <th>CHARACTERISTICS</th>\n",
       "      <th>LISTA_URL</th>\n",
       "      <th>REGULAR_PRICE</th>\n",
       "      <th>DISCOUNT_PRICE</th>\n",
       "    </tr>\n",
       "  </thead>\n",
       "  <tbody>\n",
       "    <tr>\n",
       "      <th>0</th>\n",
       "      <td>0</td>\n",
       "      <td>MASABOOM</td>\n",
       "      <td>El gran masajeador sexual</td>\n",
       "      <td>Este es el juguete para todas, todos y todes. ...</td>\n",
       "      <td>Masajeador con forma de micrófonoMaterial: sil...</td>\n",
       "      <td>https://www.amantis.net/masaboom-el-gran-masaj...</td>\n",
       "      <td>69.99</td>\n",
       "      <td>39.99</td>\n",
       "    </tr>\n",
       "    <tr>\n",
       "      <th>1</th>\n",
       "      <td>1</td>\n",
       "      <td>MASSAJI</td>\n",
       "      <td>Potente masajeador japonés sumergible de silicona</td>\n",
       "      <td>¿Quieres una velada perfecta tras un largo día...</td>\n",
       "      <td>Masajeador Japonés Massaji Material: Silicona ...</td>\n",
       "      <td>https://www.amantis.net/massaji-potente-masaje...</td>\n",
       "      <td>99.99</td>\n",
       "      <td>44.99</td>\n",
       "    </tr>\n",
       "    <tr>\n",
       "      <th>2</th>\n",
       "      <td>2</td>\n",
       "      <td>DIGIT PRO</td>\n",
       "      <td>dedal vibrador con sujeción</td>\n",
       "      <td>Los dedos siempre han sido grandes aliados de ...</td>\n",
       "      <td>Dedal vibradorMaterial: silicona de grado médi...</td>\n",
       "      <td>https://www.amantis.net/digit-pro-dedal-vibrad...</td>\n",
       "      <td>79.99</td>\n",
       "      <td>29.99</td>\n",
       "    </tr>\n",
       "    <tr>\n",
       "      <th>3</th>\n",
       "      <td>3</td>\n",
       "      <td>MINI CARNIVAL</td>\n",
       "      <td>mini_masajeador con cuatro cabezales</td>\n",
       "      <td>¿Conoces a MINI+? Puse hoy es tu día de suerte...</td>\n",
       "      <td>Mini masajeador con cuatro cabezalesCabezales ...</td>\n",
       "      <td>https://www.amantis.net/mini-carnival-mini-mas...</td>\n",
       "      <td>34.99</td>\n",
       "      <td>17.99</td>\n",
       "    </tr>\n",
       "    <tr>\n",
       "      <th>4</th>\n",
       "      <td>4</td>\n",
       "      <td>LINGÜS</td>\n",
       "      <td>Vibrador para Sexo Oral de amantis</td>\n",
       "      <td>Milenios de sabiduría en el arte del cunniling...</td>\n",
       "      <td>Material: silicona + abs10 modos de vibraciónT...</td>\n",
       "      <td>https://www.amantis.net/lingus-vibrador-sexo-o...</td>\n",
       "      <td>79.99</td>\n",
       "      <td>59.99</td>\n",
       "    </tr>\n",
       "  </tbody>\n",
       "</table>\n",
       "</div>"
      ],
      "text/plain": [
       "   ID        PRODUCT                                             SLOGAN  \\\n",
       "0   0       MASABOOM                          El gran masajeador sexual   \n",
       "1   1        MASSAJI  Potente masajeador japonés sumergible de silicona   \n",
       "2   2      DIGIT PRO                        dedal vibrador con sujeción   \n",
       "3   3  MINI CARNIVAL               mini_masajeador con cuatro cabezales   \n",
       "4   4         LINGÜS                 Vibrador para Sexo Oral de amantis   \n",
       "\n",
       "                                         DESCRIPTION  \\\n",
       "0  Este es el juguete para todas, todos y todes. ...   \n",
       "1  ¿Quieres una velada perfecta tras un largo día...   \n",
       "2  Los dedos siempre han sido grandes aliados de ...   \n",
       "3  ¿Conoces a MINI+? Puse hoy es tu día de suerte...   \n",
       "4  Milenios de sabiduría en el arte del cunniling...   \n",
       "\n",
       "                                     CHARACTERISTICS  \\\n",
       "0  Masajeador con forma de micrófonoMaterial: sil...   \n",
       "1  Masajeador Japonés Massaji Material: Silicona ...   \n",
       "2  Dedal vibradorMaterial: silicona de grado médi...   \n",
       "3  Mini masajeador con cuatro cabezalesCabezales ...   \n",
       "4  Material: silicona + abs10 modos de vibraciónT...   \n",
       "\n",
       "                                           LISTA_URL  REGULAR_PRICE  \\\n",
       "0  https://www.amantis.net/masaboom-el-gran-masaj...          69.99   \n",
       "1  https://www.amantis.net/massaji-potente-masaje...          99.99   \n",
       "2  https://www.amantis.net/digit-pro-dedal-vibrad...          79.99   \n",
       "3  https://www.amantis.net/mini-carnival-mini-mas...          34.99   \n",
       "4  https://www.amantis.net/lingus-vibrador-sexo-o...          79.99   \n",
       "\n",
       "   DISCOUNT_PRICE  \n",
       "0           39.99  \n",
       "1           44.99  \n",
       "2           29.99  \n",
       "3           17.99  \n",
       "4           59.99  "
      ]
     },
     "execution_count": 11,
     "metadata": {},
     "output_type": "execute_result"
    }
   ],
   "source": [
    "col_1 = dataframe.pop('PRODUCT')\n",
    "col_2=dataframe.pop('SLOGAN')\n",
    "col_3=dataframe.pop('DESCRIPTION')\n",
    "col_4=dataframe.pop('CHARACTERISTICS')\n",
    "\n",
    "dataframe.drop(columns=['NAME'],inplace=True)\n",
    "dataframe.drop(columns=['INFO'],inplace=True)\n",
    "\n",
    "dataframe.insert(loc= 1 , column= 'PRODUCT', value= col_1)\n",
    "dataframe.insert(loc= 2 , column= 'SLOGAN', value= col_2)\n",
    "dataframe.insert(loc= 3 , column= 'DESCRIPTION', value= col_3)\n",
    "dataframe.insert(loc= 4 , column= 'CHARACTERISTICS', value= col_4)\n",
    "dataframe.head()\n",
    "\n"
   ]
  },
  {
   "attachments": {},
   "cell_type": "markdown",
   "metadata": {},
   "source": [
    "Pasamos a un fichero .csv para guardarlo"
   ]
  },
  {
   "cell_type": "code",
   "execution_count": 22,
   "metadata": {},
   "outputs": [
    {
     "data": {
      "text/html": [
       "<div>\n",
       "<style scoped>\n",
       "    .dataframe tbody tr th:only-of-type {\n",
       "        vertical-align: middle;\n",
       "    }\n",
       "\n",
       "    .dataframe tbody tr th {\n",
       "        vertical-align: top;\n",
       "    }\n",
       "\n",
       "    .dataframe thead th {\n",
       "        text-align: right;\n",
       "    }\n",
       "</style>\n",
       "<table border=\"1\" class=\"dataframe\">\n",
       "  <thead>\n",
       "    <tr style=\"text-align: right;\">\n",
       "      <th></th>\n",
       "      <th>ID</th>\n",
       "      <th>PRODUCT</th>\n",
       "      <th>SLOGAN</th>\n",
       "      <th>DESCRIPTION</th>\n",
       "    </tr>\n",
       "  </thead>\n",
       "  <tbody>\n",
       "    <tr>\n",
       "      <th>0</th>\n",
       "      <td>0</td>\n",
       "      <td>Desliz! Lubricante íntimo de agua 100ml</td>\n",
       "      <td>None</td>\n",
       "      <td>Algunos lubricantes son un poco densos, otros ...</td>\n",
       "    </tr>\n",
       "    <tr>\n",
       "      <th>1</th>\n",
       "      <td>1</td>\n",
       "      <td>FOXTAIL</td>\n",
       "      <td>plug anal cola de zorro de 35cm</td>\n",
       "      <td>Deja volar la imaginación y saca tu lado más s...</td>\n",
       "    </tr>\n",
       "    <tr>\n",
       "      <th>2</th>\n",
       "      <td>2</td>\n",
       "      <td>LIZO 2</td>\n",
       "      <td>Dildo de suave silicona en 3 tamaños</td>\n",
       "      <td>En un azulejo de la cocina, en una puerta, en ...</td>\n",
       "    </tr>\n",
       "    <tr>\n",
       "      <th>3</th>\n",
       "      <td>3</td>\n",
       "      <td>Bacanal FORTE TARRO 200ml</td>\n",
       "      <td>lubricante anal concentrado con aloe</td>\n",
       "      <td>Si alguna vez has pensado que el sexo anal es ...</td>\n",
       "    </tr>\n",
       "    <tr>\n",
       "      <th>4</th>\n",
       "      <td>4</td>\n",
       "      <td>Vibrador Líquido con sabor Desliz! VIBRAGEL 30ml</td>\n",
       "      <td>hormigueo oral</td>\n",
       "      <td>¿Alguna vez has sentido un hormigueo en lo más...</td>\n",
       "    </tr>\n",
       "  </tbody>\n",
       "</table>\n",
       "</div>"
      ],
      "text/plain": [
       "   ID                                           PRODUCT  \\\n",
       "0   0           Desliz! Lubricante íntimo de agua 100ml   \n",
       "1   1                                           FOXTAIL   \n",
       "2   2                                            LIZO 2   \n",
       "3   3                         Bacanal FORTE TARRO 200ml   \n",
       "4   4  Vibrador Líquido con sabor Desliz! VIBRAGEL 30ml   \n",
       "\n",
       "                                 SLOGAN  \\\n",
       "0                                  None   \n",
       "1       plug anal cola de zorro de 35cm   \n",
       "2  Dildo de suave silicona en 3 tamaños   \n",
       "3  lubricante anal concentrado con aloe   \n",
       "4                        hormigueo oral   \n",
       "\n",
       "                                         DESCRIPTION  \n",
       "0  Algunos lubricantes son un poco densos, otros ...  \n",
       "1  Deja volar la imaginación y saca tu lado más s...  \n",
       "2  En un azulejo de la cocina, en una puerta, en ...  \n",
       "3  Si alguna vez has pensado que el sexo anal es ...  \n",
       "4  ¿Alguna vez has sentido un hormigueo en lo más...  "
      ]
     },
     "execution_count": 22,
     "metadata": {},
     "output_type": "execute_result"
    }
   ],
   "source": [
    "df_engineer=dataframe.iloc[:,:4]\n",
    "df_engineer.head()"
   ]
  },
  {
   "cell_type": "code",
   "execution_count": 12,
   "metadata": {},
   "outputs": [],
   "source": [
    "dataframe.to_csv('./Data/productos.csv',header=True,index=False)\n",
    "# df_engineer.to_csv('./Data/tags.csv',header=True,index=False)"
   ]
  },
  {
   "attachments": {},
   "cell_type": "markdown",
   "metadata": {},
   "source": [
    "## 3.- Adecuamos el campo **Date**.\n",
    "\n",
    "Este campo en el fichero de comentarios es de tipo *string*, dado que no lo reconoce como date.\n",
    "\n",
    "Hay que solucionarlo, para lo cual elimineramos el día de la semana del mismo dejando el resto del texto y convirtiéndolo en tipo date.\n"
   ]
  },
  {
   "cell_type": "code",
   "execution_count": 13,
   "metadata": {},
   "outputs": [],
   "source": [
    "comentarios=r'\\Data\\comentarios_scrape.csv'"
   ]
  },
  {
   "cell_type": "code",
   "execution_count": 14,
   "metadata": {},
   "outputs": [],
   "source": [
    "folder\n",
    "new_path =folder+comentarios\n",
    "df_comments=pd.read_csv(new_path)"
   ]
  },
  {
   "cell_type": "code",
   "execution_count": 15,
   "metadata": {},
   "outputs": [
    {
     "data": {
      "text/html": [
       "<div>\n",
       "<style scoped>\n",
       "    .dataframe tbody tr th:only-of-type {\n",
       "        vertical-align: middle;\n",
       "    }\n",
       "\n",
       "    .dataframe tbody tr th {\n",
       "        vertical-align: top;\n",
       "    }\n",
       "\n",
       "    .dataframe thead th {\n",
       "        text-align: right;\n",
       "    }\n",
       "</style>\n",
       "<table border=\"1\" class=\"dataframe\">\n",
       "  <thead>\n",
       "    <tr style=\"text-align: right;\">\n",
       "      <th></th>\n",
       "      <th>Unnamed: 0</th>\n",
       "      <th>ID</th>\n",
       "      <th>DATE</th>\n",
       "      <th>RATIO</th>\n",
       "      <th>USERS</th>\n",
       "      <th>COMMENT</th>\n",
       "    </tr>\n",
       "  </thead>\n",
       "  <tbody>\n",
       "    <tr>\n",
       "      <th>0</th>\n",
       "      <td>0</td>\n",
       "      <td>1</td>\n",
       "      <td>miércoles 25 enero, 2023</td>\n",
       "      <td>5</td>\n",
       "      <td>Sara</td>\n",
       "      <td>Es un vibrador discreto y eficaz. Es uno de mi...</td>\n",
       "    </tr>\n",
       "    <tr>\n",
       "      <th>1</th>\n",
       "      <td>1</td>\n",
       "      <td>1</td>\n",
       "      <td>lunes 09 enero, 2023</td>\n",
       "      <td>5</td>\n",
       "      <td>Jesús</td>\n",
       "      <td>el vibrador de cabecera de mi mujer. Después d...</td>\n",
       "    </tr>\n",
       "    <tr>\n",
       "      <th>2</th>\n",
       "      <td>2</td>\n",
       "      <td>1</td>\n",
       "      <td>sábado 10 diciembre, 2022</td>\n",
       "      <td>3</td>\n",
       "      <td>Sara</td>\n",
       "      <td>Tenía uno de otra tienda y compré este porque ...</td>\n",
       "    </tr>\n",
       "    <tr>\n",
       "      <th>3</th>\n",
       "      <td>3</td>\n",
       "      <td>1</td>\n",
       "      <td>martes 04 octubre, 2022</td>\n",
       "      <td>5</td>\n",
       "      <td>Sara</td>\n",
       "      <td>Es una buena compra. Muy agradable, con difere...</td>\n",
       "    </tr>\n",
       "    <tr>\n",
       "      <th>4</th>\n",
       "      <td>4</td>\n",
       "      <td>1</td>\n",
       "      <td>jueves 07 julio, 2022</td>\n",
       "      <td>5</td>\n",
       "      <td>Álvaro</td>\n",
       "      <td>Buen juguete más centrado en los precalentamie...</td>\n",
       "    </tr>\n",
       "  </tbody>\n",
       "</table>\n",
       "</div>"
      ],
      "text/plain": [
       "   Unnamed: 0  ID                       DATE  RATIO   USERS  \\\n",
       "0           0   1   miércoles 25 enero, 2023      5    Sara   \n",
       "1           1   1       lunes 09 enero, 2023      5   Jesús   \n",
       "2           2   1  sábado 10 diciembre, 2022      3    Sara   \n",
       "3           3   1    martes 04 octubre, 2022      5    Sara   \n",
       "4           4   1      jueves 07 julio, 2022      5  Álvaro   \n",
       "\n",
       "                                             COMMENT  \n",
       "0  Es un vibrador discreto y eficaz. Es uno de mi...  \n",
       "1  el vibrador de cabecera de mi mujer. Después d...  \n",
       "2  Tenía uno de otra tienda y compré este porque ...  \n",
       "3  Es una buena compra. Muy agradable, con difere...  \n",
       "4  Buen juguete más centrado en los precalentamie...  "
      ]
     },
     "execution_count": 15,
     "metadata": {},
     "output_type": "execute_result"
    }
   ],
   "source": [
    "df_comments.head()"
   ]
  },
  {
   "cell_type": "code",
   "execution_count": 16,
   "metadata": {},
   "outputs": [
    {
     "name": "stdout",
     "output_type": "stream",
     "text": [
      "<class 'pandas.core.frame.DataFrame'>\n",
      "RangeIndex: 10479 entries, 0 to 10478\n",
      "Data columns (total 6 columns):\n",
      " #   Column      Non-Null Count  Dtype \n",
      "---  ------      --------------  ----- \n",
      " 0   Unnamed: 0  10479 non-null  int64 \n",
      " 1   ID          10479 non-null  int64 \n",
      " 2   DATE        10479 non-null  object\n",
      " 3   RATIO       10479 non-null  int64 \n",
      " 4   USERS       10469 non-null  object\n",
      " 5   COMMENT     10479 non-null  object\n",
      "dtypes: int64(3), object(3)\n",
      "memory usage: 491.3+ KB\n"
     ]
    }
   ],
   "source": [
    "df_comments.info()"
   ]
  },
  {
   "attachments": {},
   "cell_type": "markdown",
   "metadata": {},
   "source": [
    "De la columna *DATE* extraigo los valores de *DAY*, *MONTH* y *YEAR*.\n",
    "\n",
    "Con la columna *MONTH* hago un mapeo para convertir en el número correspondiente del mes y así poder generar la nueva columna *DATE* con estos  datos."
   ]
  },
  {
   "cell_type": "code",
   "execution_count": 17,
   "metadata": {},
   "outputs": [
    {
     "data": {
      "text/html": [
       "<div>\n",
       "<style scoped>\n",
       "    .dataframe tbody tr th:only-of-type {\n",
       "        vertical-align: middle;\n",
       "    }\n",
       "\n",
       "    .dataframe tbody tr th {\n",
       "        vertical-align: top;\n",
       "    }\n",
       "\n",
       "    .dataframe thead th {\n",
       "        text-align: right;\n",
       "    }\n",
       "</style>\n",
       "<table border=\"1\" class=\"dataframe\">\n",
       "  <thead>\n",
       "    <tr style=\"text-align: right;\">\n",
       "      <th></th>\n",
       "      <th>Unnamed: 0</th>\n",
       "      <th>ID</th>\n",
       "      <th>DATE</th>\n",
       "      <th>RATIO</th>\n",
       "      <th>USERS</th>\n",
       "      <th>COMMENT</th>\n",
       "      <th>DAY</th>\n",
       "      <th>MONTH</th>\n",
       "      <th>YEAR</th>\n",
       "    </tr>\n",
       "  </thead>\n",
       "  <tbody>\n",
       "    <tr>\n",
       "      <th>0</th>\n",
       "      <td>0</td>\n",
       "      <td>1</td>\n",
       "      <td>miércoles 25 enero, 2023</td>\n",
       "      <td>5</td>\n",
       "      <td>Sara</td>\n",
       "      <td>Es un vibrador discreto y eficaz. Es uno de mi...</td>\n",
       "      <td>25</td>\n",
       "      <td>1</td>\n",
       "      <td>2023</td>\n",
       "    </tr>\n",
       "    <tr>\n",
       "      <th>1</th>\n",
       "      <td>1</td>\n",
       "      <td>1</td>\n",
       "      <td>lunes 09 enero, 2023</td>\n",
       "      <td>5</td>\n",
       "      <td>Jesús</td>\n",
       "      <td>el vibrador de cabecera de mi mujer. Después d...</td>\n",
       "      <td>9</td>\n",
       "      <td>1</td>\n",
       "      <td>2023</td>\n",
       "    </tr>\n",
       "    <tr>\n",
       "      <th>2</th>\n",
       "      <td>2</td>\n",
       "      <td>1</td>\n",
       "      <td>sábado 10 diciembre, 2022</td>\n",
       "      <td>3</td>\n",
       "      <td>Sara</td>\n",
       "      <td>Tenía uno de otra tienda y compré este porque ...</td>\n",
       "      <td>10</td>\n",
       "      <td>12</td>\n",
       "      <td>2022</td>\n",
       "    </tr>\n",
       "    <tr>\n",
       "      <th>3</th>\n",
       "      <td>3</td>\n",
       "      <td>1</td>\n",
       "      <td>martes 04 octubre, 2022</td>\n",
       "      <td>5</td>\n",
       "      <td>Sara</td>\n",
       "      <td>Es una buena compra. Muy agradable, con difere...</td>\n",
       "      <td>4</td>\n",
       "      <td>10</td>\n",
       "      <td>2022</td>\n",
       "    </tr>\n",
       "    <tr>\n",
       "      <th>4</th>\n",
       "      <td>4</td>\n",
       "      <td>1</td>\n",
       "      <td>jueves 07 julio, 2022</td>\n",
       "      <td>5</td>\n",
       "      <td>Álvaro</td>\n",
       "      <td>Buen juguete más centrado en los precalentamie...</td>\n",
       "      <td>7</td>\n",
       "      <td>7</td>\n",
       "      <td>2022</td>\n",
       "    </tr>\n",
       "  </tbody>\n",
       "</table>\n",
       "</div>"
      ],
      "text/plain": [
       "   Unnamed: 0  ID                       DATE  RATIO   USERS  \\\n",
       "0           0   1   miércoles 25 enero, 2023      5    Sara   \n",
       "1           1   1       lunes 09 enero, 2023      5   Jesús   \n",
       "2           2   1  sábado 10 diciembre, 2022      3    Sara   \n",
       "3           3   1    martes 04 octubre, 2022      5    Sara   \n",
       "4           4   1      jueves 07 julio, 2022      5  Álvaro   \n",
       "\n",
       "                                             COMMENT  DAY  MONTH  YEAR  \n",
       "0  Es un vibrador discreto y eficaz. Es uno de mi...   25      1  2023  \n",
       "1  el vibrador de cabecera de mi mujer. Después d...    9      1  2023  \n",
       "2  Tenía uno de otra tienda y compré este porque ...   10     12  2022  \n",
       "3  Es una buena compra. Muy agradable, con difere...    4     10  2022  \n",
       "4  Buen juguete más centrado en los precalentamie...    7      7  2022  "
      ]
     },
     "execution_count": 17,
     "metadata": {},
     "output_type": "execute_result"
    }
   ],
   "source": [
    "df_comments['DAY']=df_comments['DATE'].str.split(' ').str.get(1).astype('Int64')\n",
    "df_comments['MONTH']=df_comments['DATE'].str.split(' ').str.get(2).str.split(',').str.get(0)\n",
    "df_comments['YEAR']=df_comments['DATE'].str.split(' ').str.get(-1).astype('Int64')\n",
    "dm_mapping={\n",
    "    'enero':1, \n",
    "    'febrero':2, \n",
    "    'marzo':3, \n",
    "    'abril':4, \n",
    "    'mayo':5,\n",
    "    'junio':6, \n",
    "    'julio':7,\n",
    "    'agosto':8, \n",
    "    'septiembre':9, \n",
    "    'octubre':10, \n",
    "    'noviembre':11, \n",
    "    'diciembre':12,\n",
    "} \n",
    "df_comments['MONTH']=df_comments['MONTH'].map(dm_mapping)\n",
    "df_comments.head()"
   ]
  },
  {
   "attachments": {},
   "cell_type": "markdown",
   "metadata": {},
   "source": [
    "Convierto la columna *DATE* en datetime con los datos de las 3 últimas columnas."
   ]
  },
  {
   "cell_type": "code",
   "execution_count": 18,
   "metadata": {},
   "outputs": [
    {
     "data": {
      "text/html": [
       "<div>\n",
       "<style scoped>\n",
       "    .dataframe tbody tr th:only-of-type {\n",
       "        vertical-align: middle;\n",
       "    }\n",
       "\n",
       "    .dataframe tbody tr th {\n",
       "        vertical-align: top;\n",
       "    }\n",
       "\n",
       "    .dataframe thead th {\n",
       "        text-align: right;\n",
       "    }\n",
       "</style>\n",
       "<table border=\"1\" class=\"dataframe\">\n",
       "  <thead>\n",
       "    <tr style=\"text-align: right;\">\n",
       "      <th></th>\n",
       "      <th>Unnamed: 0</th>\n",
       "      <th>ID</th>\n",
       "      <th>DATE</th>\n",
       "      <th>RATIO</th>\n",
       "      <th>USERS</th>\n",
       "      <th>COMMENT</th>\n",
       "      <th>DAY</th>\n",
       "      <th>MONTH</th>\n",
       "      <th>YEAR</th>\n",
       "    </tr>\n",
       "  </thead>\n",
       "  <tbody>\n",
       "    <tr>\n",
       "      <th>10474</th>\n",
       "      <td>10925</td>\n",
       "      <td>574</td>\n",
       "      <td>2019-11-06</td>\n",
       "      <td>2</td>\n",
       "      <td>Maria</td>\n",
       "      <td>No está mal, pero puede resultar frustrante. E...</td>\n",
       "      <td>6</td>\n",
       "      <td>11</td>\n",
       "      <td>2019</td>\n",
       "    </tr>\n",
       "    <tr>\n",
       "      <th>10475</th>\n",
       "      <td>10926</td>\n",
       "      <td>574</td>\n",
       "      <td>2018-04-03</td>\n",
       "      <td>3</td>\n",
       "      <td>Miguel Ángel</td>\n",
       "      <td>Buen tacto, aunque por su forma hay que estar ...</td>\n",
       "      <td>3</td>\n",
       "      <td>4</td>\n",
       "      <td>2018</td>\n",
       "    </tr>\n",
       "    <tr>\n",
       "      <th>10476</th>\n",
       "      <td>10927</td>\n",
       "      <td>574</td>\n",
       "      <td>2018-03-12</td>\n",
       "      <td>5</td>\n",
       "      <td>j.r.d.</td>\n",
       "      <td>Tacto muy suave, no lo hemos provado mucho per...</td>\n",
       "      <td>12</td>\n",
       "      <td>3</td>\n",
       "      <td>2018</td>\n",
       "    </tr>\n",
       "    <tr>\n",
       "      <th>10477</th>\n",
       "      <td>10928</td>\n",
       "      <td>574</td>\n",
       "      <td>2018-02-08</td>\n",
       "      <td>3</td>\n",
       "      <td>Amaya</td>\n",
       "      <td>El tacto es genial, muy agradable y suave. La ...</td>\n",
       "      <td>8</td>\n",
       "      <td>2</td>\n",
       "      <td>2018</td>\n",
       "    </tr>\n",
       "    <tr>\n",
       "      <th>10478</th>\n",
       "      <td>10929</td>\n",
       "      <td>575</td>\n",
       "      <td>2019-10-08</td>\n",
       "      <td>1</td>\n",
       "      <td>Maria</td>\n",
       "      <td>OJO con este. Lo compramos porque el ARO THIN ...</td>\n",
       "      <td>8</td>\n",
       "      <td>10</td>\n",
       "      <td>2019</td>\n",
       "    </tr>\n",
       "  </tbody>\n",
       "</table>\n",
       "</div>"
      ],
      "text/plain": [
       "       Unnamed: 0   ID       DATE  RATIO         USERS  \\\n",
       "10474       10925  574 2019-11-06      2         Maria   \n",
       "10475       10926  574 2018-04-03      3  Miguel Ángel   \n",
       "10476       10927  574 2018-03-12      5        j.r.d.   \n",
       "10477       10928  574 2018-02-08      3         Amaya   \n",
       "10478       10929  575 2019-10-08      1         Maria   \n",
       "\n",
       "                                                 COMMENT  DAY  MONTH  YEAR  \n",
       "10474  No está mal, pero puede resultar frustrante. E...    6     11  2019  \n",
       "10475  Buen tacto, aunque por su forma hay que estar ...    3      4  2018  \n",
       "10476  Tacto muy suave, no lo hemos provado mucho per...   12      3  2018  \n",
       "10477  El tacto es genial, muy agradable y suave. La ...    8      2  2018  \n",
       "10478  OJO con este. Lo compramos porque el ARO THIN ...    8     10  2019  "
      ]
     },
     "execution_count": 18,
     "metadata": {},
     "output_type": "execute_result"
    }
   ],
   "source": [
    "df_comments['DATE'] = pd.to_datetime(df_comments.iloc[:,-3:])\n",
    "df_comments.tail()"
   ]
  },
  {
   "attachments": {},
   "cell_type": "markdown",
   "metadata": {},
   "source": [
    "Cabe la posibilidad de eliminar las 3 últimas columnas. \n",
    "\n",
    "Esto lo valoraremos después cuando hagamos visualizaciones.\n",
    "\n",
    "De momento lo dejaremos comentado."
   ]
  },
  {
   "cell_type": "code",
   "execution_count": 19,
   "metadata": {},
   "outputs": [
    {
     "data": {
      "text/html": [
       "<div>\n",
       "<style scoped>\n",
       "    .dataframe tbody tr th:only-of-type {\n",
       "        vertical-align: middle;\n",
       "    }\n",
       "\n",
       "    .dataframe tbody tr th {\n",
       "        vertical-align: top;\n",
       "    }\n",
       "\n",
       "    .dataframe thead th {\n",
       "        text-align: right;\n",
       "    }\n",
       "</style>\n",
       "<table border=\"1\" class=\"dataframe\">\n",
       "  <thead>\n",
       "    <tr style=\"text-align: right;\">\n",
       "      <th></th>\n",
       "      <th>Unnamed: 0</th>\n",
       "      <th>ID</th>\n",
       "      <th>DATE</th>\n",
       "      <th>RATIO</th>\n",
       "      <th>USERS</th>\n",
       "      <th>COMMENT</th>\n",
       "    </tr>\n",
       "  </thead>\n",
       "  <tbody>\n",
       "    <tr>\n",
       "      <th>0</th>\n",
       "      <td>0</td>\n",
       "      <td>1</td>\n",
       "      <td>2023-01-25</td>\n",
       "      <td>5</td>\n",
       "      <td>Sara</td>\n",
       "      <td>Es un vibrador discreto y eficaz. Es uno de mi...</td>\n",
       "    </tr>\n",
       "    <tr>\n",
       "      <th>1</th>\n",
       "      <td>1</td>\n",
       "      <td>1</td>\n",
       "      <td>2023-01-09</td>\n",
       "      <td>5</td>\n",
       "      <td>Jesús</td>\n",
       "      <td>el vibrador de cabecera de mi mujer. Después d...</td>\n",
       "    </tr>\n",
       "    <tr>\n",
       "      <th>2</th>\n",
       "      <td>2</td>\n",
       "      <td>1</td>\n",
       "      <td>2022-12-10</td>\n",
       "      <td>3</td>\n",
       "      <td>Sara</td>\n",
       "      <td>Tenía uno de otra tienda y compré este porque ...</td>\n",
       "    </tr>\n",
       "    <tr>\n",
       "      <th>3</th>\n",
       "      <td>3</td>\n",
       "      <td>1</td>\n",
       "      <td>2022-10-04</td>\n",
       "      <td>5</td>\n",
       "      <td>Sara</td>\n",
       "      <td>Es una buena compra. Muy agradable, con difere...</td>\n",
       "    </tr>\n",
       "    <tr>\n",
       "      <th>4</th>\n",
       "      <td>4</td>\n",
       "      <td>1</td>\n",
       "      <td>2022-07-07</td>\n",
       "      <td>5</td>\n",
       "      <td>Álvaro</td>\n",
       "      <td>Buen juguete más centrado en los precalentamie...</td>\n",
       "    </tr>\n",
       "    <tr>\n",
       "      <th>...</th>\n",
       "      <td>...</td>\n",
       "      <td>...</td>\n",
       "      <td>...</td>\n",
       "      <td>...</td>\n",
       "      <td>...</td>\n",
       "      <td>...</td>\n",
       "    </tr>\n",
       "    <tr>\n",
       "      <th>10474</th>\n",
       "      <td>10925</td>\n",
       "      <td>574</td>\n",
       "      <td>2019-11-06</td>\n",
       "      <td>2</td>\n",
       "      <td>Maria</td>\n",
       "      <td>No está mal, pero puede resultar frustrante. E...</td>\n",
       "    </tr>\n",
       "    <tr>\n",
       "      <th>10475</th>\n",
       "      <td>10926</td>\n",
       "      <td>574</td>\n",
       "      <td>2018-04-03</td>\n",
       "      <td>3</td>\n",
       "      <td>Miguel Ángel</td>\n",
       "      <td>Buen tacto, aunque por su forma hay que estar ...</td>\n",
       "    </tr>\n",
       "    <tr>\n",
       "      <th>10476</th>\n",
       "      <td>10927</td>\n",
       "      <td>574</td>\n",
       "      <td>2018-03-12</td>\n",
       "      <td>5</td>\n",
       "      <td>j.r.d.</td>\n",
       "      <td>Tacto muy suave, no lo hemos provado mucho per...</td>\n",
       "    </tr>\n",
       "    <tr>\n",
       "      <th>10477</th>\n",
       "      <td>10928</td>\n",
       "      <td>574</td>\n",
       "      <td>2018-02-08</td>\n",
       "      <td>3</td>\n",
       "      <td>Amaya</td>\n",
       "      <td>El tacto es genial, muy agradable y suave. La ...</td>\n",
       "    </tr>\n",
       "    <tr>\n",
       "      <th>10478</th>\n",
       "      <td>10929</td>\n",
       "      <td>575</td>\n",
       "      <td>2019-10-08</td>\n",
       "      <td>1</td>\n",
       "      <td>Maria</td>\n",
       "      <td>OJO con este. Lo compramos porque el ARO THIN ...</td>\n",
       "    </tr>\n",
       "  </tbody>\n",
       "</table>\n",
       "<p>10479 rows × 6 columns</p>\n",
       "</div>"
      ],
      "text/plain": [
       "       Unnamed: 0   ID       DATE  RATIO         USERS  \\\n",
       "0               0    1 2023-01-25      5          Sara   \n",
       "1               1    1 2023-01-09      5         Jesús   \n",
       "2               2    1 2022-12-10      3          Sara   \n",
       "3               3    1 2022-10-04      5          Sara   \n",
       "4               4    1 2022-07-07      5        Álvaro   \n",
       "...           ...  ...        ...    ...           ...   \n",
       "10474       10925  574 2019-11-06      2         Maria   \n",
       "10475       10926  574 2018-04-03      3  Miguel Ángel   \n",
       "10476       10927  574 2018-03-12      5        j.r.d.   \n",
       "10477       10928  574 2018-02-08      3         Amaya   \n",
       "10478       10929  575 2019-10-08      1         Maria   \n",
       "\n",
       "                                                 COMMENT  \n",
       "0      Es un vibrador discreto y eficaz. Es uno de mi...  \n",
       "1      el vibrador de cabecera de mi mujer. Después d...  \n",
       "2      Tenía uno de otra tienda y compré este porque ...  \n",
       "3      Es una buena compra. Muy agradable, con difere...  \n",
       "4      Buen juguete más centrado en los precalentamie...  \n",
       "...                                                  ...  \n",
       "10474  No está mal, pero puede resultar frustrante. E...  \n",
       "10475  Buen tacto, aunque por su forma hay que estar ...  \n",
       "10476  Tacto muy suave, no lo hemos provado mucho per...  \n",
       "10477  El tacto es genial, muy agradable y suave. La ...  \n",
       "10478  OJO con este. Lo compramos porque el ARO THIN ...  \n",
       "\n",
       "[10479 rows x 6 columns]"
      ]
     },
     "execution_count": 19,
     "metadata": {},
     "output_type": "execute_result"
    }
   ],
   "source": [
    "df_comments=df_comments.iloc[:,:-3]\n",
    "df_comments"
   ]
  },
  {
   "cell_type": "code",
   "execution_count": 20,
   "metadata": {},
   "outputs": [
    {
     "name": "stdout",
     "output_type": "stream",
     "text": [
      "<class 'pandas.core.frame.DataFrame'>\n",
      "RangeIndex: 10479 entries, 0 to 10478\n",
      "Data columns (total 6 columns):\n",
      " #   Column      Non-Null Count  Dtype         \n",
      "---  ------      --------------  -----         \n",
      " 0   Unnamed: 0  10479 non-null  int64         \n",
      " 1   ID          10479 non-null  int64         \n",
      " 2   DATE        10479 non-null  datetime64[ns]\n",
      " 3   RATIO       10479 non-null  int64         \n",
      " 4   USERS       10469 non-null  object        \n",
      " 5   COMMENT     10479 non-null  object        \n",
      "dtypes: datetime64[ns](1), int64(3), object(2)\n",
      "memory usage: 491.3+ KB\n"
     ]
    }
   ],
   "source": [
    "df_comments.info()"
   ]
  },
  {
   "cell_type": "code",
   "execution_count": 21,
   "metadata": {},
   "outputs": [],
   "source": [
    "df_comments.to_csv('./Data/comentarios.csv',header=True,index=False)           # Tengo que generar el path correcto"
   ]
  },
  {
   "attachments": {},
   "cell_type": "markdown",
   "metadata": {},
   "source": [
    "## 4.- Generamos los tags para procesado de datos.\n",
    "\n",
    "Definimos la lista de tags que queremos asignar. \n",
    "\n",
    "Esto lo haremos generando listas con los nombres lemmatizados.\n",
    "\n",
    "También hay que dejar el texto utilizado en minúscula."
   ]
  },
  {
   "cell_type": "code",
   "execution_count": 13,
   "metadata": {},
   "outputs": [],
   "source": [
    "# juguetes=['dildo','plug','vibrador','masturbador','cabezal','estimulador','plugs','bolas chinas','funda extensora','bomba de vacio']\n",
    "# BDSM=['latex','bdsm','arnes','strap','cera','ligadura','cuerda','cuero','sumision','dominacion','latigo','watenberg','posicionador','mordaza']\n",
    "# muebles=['columpio','sillon','sillones']\n",
    "# lenceria=['body','panties','corse',]\n",
    "# anal=['anal']\n",
    "# masculino=['hombre','masculino']\n",
    "# femenino=['mujer','femenino','vaginal','clitoris','dildo']\n",
    "# amenities=['lubricante','limpiador','preservativo','condon']\n",
    "# posicionador=[]                         # Falta por agregar parametros "
   ]
  },
  {
   "attachments": {},
   "cell_type": "markdown",
   "metadata": {},
   "source": [
    "Vamos a guardar las diferentes listas que hemos determinado en ficheros para posteriormente, cargarlas y realizar la generación de variables a partir de ellas."
   ]
  },
  {
   "cell_type": "code",
   "execution_count": 58,
   "metadata": {},
   "outputs": [
    {
     "data": {
      "text/plain": [
       "['lubricante', 'limpiador', 'preservativo', 'condon']"
      ]
     },
     "execution_count": 58,
     "metadata": {},
     "output_type": "execute_result"
    }
   ],
   "source": [
    "# pickled_list(juguetes,'juguetes', carpeta=\"Utils\")\n",
    "# pickled_list(BDSM,'BDSM', carpeta=\"Utils\")\n",
    "# pickled_list(muebles,'muebles', carpeta=\"Utils\")\n",
    "# pickled_list(lenceria,'lenceria', carpeta=\"Utils\")\n",
    "# pickled_list(anal,'anal', carpeta=\"Utils\")\n",
    "# pickled_list(masculino,'masculino', carpeta=\"Utils\")\n",
    "# pickled_list(femenino,'femenino', carpeta=\"Utils\")\n",
    "# pickled_list(amenities,'amenities', carpeta=\"Utils\")\n",
    "# pickled_list(lista,nombre_archivo, carpeta=\"Utils\")\n",
    "# pickled_list(lista,nombre_archivo, carpeta=\"Utils\")"
   ]
  },
  {
   "cell_type": "code",
   "execution_count": null,
   "metadata": {},
   "outputs": [],
   "source": [
    "df_engineer=dataframe.iloc[:,:3]\n",
    "df_engineer.head()"
   ]
  },
  {
   "attachments": {},
   "cell_type": "markdown",
   "metadata": {},
   "source": [
    "#### Pasamos todos los caracteres a minúsculas y eliminamos los acentos."
   ]
  },
  {
   "cell_type": "code",
   "execution_count": null,
   "metadata": {},
   "outputs": [],
   "source": [
    "df_engineer['Description'] = df_engineer['Description'].str.lower()\n",
    "df_engineer['Description'] = df_engineer['Description'].apply(eliminacion_acentos)\n",
    "df_engineer.head(2)"
   ]
  },
  {
   "attachments": {},
   "cell_type": "markdown",
   "metadata": {},
   "source": [
    "Vamos a ver como cargamos cada fichero para proceder a la generación de *tags*.\n"
   ]
  },
  {
   "cell_type": "code",
   "execution_count": 62,
   "metadata": {},
   "outputs": [],
   "source": [
    "def unpickled_list(nombre_archivo, carpeta=\"Utils\"):\n",
    "    '''Generar lista de tareas que existen en la carpeta Utils.\n",
    "    \n",
    "    Definir tareas nuevas a agregar dentro de la lista en el caso de haber una nueva tarea a añadir.\n",
    "    \n",
    "    - INPUT: \n",
    "        - lista (list):         Nombre de la lista a guardar.\n",
    "\n",
    "        - nombre_archivo (str): Nombre del fichero a generar\n",
    "\n",
    "        - carpeta:              Carpeta donde se va a guardar el fichero .pickle\n",
    "    \n",
    "    - OUTPUT: \n",
    "        - lista (list):         Lista de productos\n",
    "    '''\n",
    "    \n",
    "    ruta_archivo = os.path.join(carpeta, nombre_archivo + \".pickle\")\n",
    "    with open(ruta_archivo, \"rb\") as archivo_pickle:\n",
    "        lista = pickle.load(archivo_pickle)\n",
    "\n",
    "    return lista"
   ]
  },
  {
   "cell_type": "code",
   "execution_count": 64,
   "metadata": {},
   "outputs": [],
   "source": [
    "nombre_listas=['amenities','anal','BDSM','femenino','masculino','juguetes','lenceria','muebles']\n",
    "def cargar_listas_desde_pickles(nombres_archivos, carpeta=\"Utils\"):\n",
    "    listas = {}\n",
    "\n",
    "    for nombre_archivo in nombres_archivos:\n",
    "        ruta_archivo = os.path.join(carpeta, nombre_archivo + \".pickle\")\n",
    "\n",
    "        with open(ruta_archivo, \"rb\") as archivo_pickle:\n",
    "            lista = pickle.load(archivo_pickle)\n",
    "\n",
    "        # Cierra el archivo\n",
    "        archivo_pickle.close()\n",
    "\n",
    "        # Almacena la lista en el diccionario\n",
    "        listas[nombre_archivo] = lista\n",
    "\n",
    "    # Devuelve el diccionario de listas\n",
    "    return listas\n"
   ]
  },
  {
   "cell_type": "code",
   "execution_count": 66,
   "metadata": {},
   "outputs": [],
   "source": [
    "listas = cargar_listas_desde_pickles(nombre_listas)"
   ]
  },
  {
   "cell_type": "code",
   "execution_count": 71,
   "metadata": {},
   "outputs": [],
   "source": [
    "def aplicar_funcion_a_columna(df, nombre_lista, columna=\"Description\"):\n",
    "    # Carga la lista desde el diccionario\n",
    "    lista = listas[nombre_lista]\n",
    "\n",
    "    # Aplica la función a la columna del DataFrame\n",
    "    df[nombre_lista] = df[columna].apply(lambda x: any(lematizado in lista for lematizado in extraer_lemas(x)))\n",
    "\n",
    "    return df\n"
   ]
  },
  {
   "cell_type": "code",
   "execution_count": 74,
   "metadata": {},
   "outputs": [],
   "source": [
    "for nombre_lista in listas:\n",
    "    df_engineer = aplicar_funcion_a_columna(df_engineer, nombre_lista)"
   ]
  },
  {
   "cell_type": "code",
   "execution_count": null,
   "metadata": {},
   "outputs": [],
   "source": [
    "df_engineer.head()"
   ]
  },
  {
   "cell_type": "code",
   "execution_count": 67,
   "metadata": {},
   "outputs": [
    {
     "data": {
      "text/plain": [
       "{'amenities': ['lubricante', 'limpiador', 'preservativo', 'condon'],\n",
       " 'anal': ['anal'],\n",
       " 'BDSM': ['latex',\n",
       "  'bdsm',\n",
       "  'arnes',\n",
       "  'strap',\n",
       "  'cera',\n",
       "  'ligadura',\n",
       "  'cuerda',\n",
       "  'cuero',\n",
       "  'sumision',\n",
       "  'dominacion',\n",
       "  'latigo',\n",
       "  'watenberg',\n",
       "  'posicionador',\n",
       "  'mordaza'],\n",
       " 'femenino': ['mujer', 'femenino', 'vaginal', 'clitoris', 'dildo'],\n",
       " 'masculino': ['hombre', 'masculino'],\n",
       " 'juguetes': ['dildo',\n",
       "  'plug',\n",
       "  'vibrador',\n",
       "  'masturbador',\n",
       "  'cabezal',\n",
       "  'estimulador',\n",
       "  'plugs',\n",
       "  'bolas chinas',\n",
       "  'funda extensora',\n",
       "  'bomba de vacio'],\n",
       " 'lenceria': ['babydoll',\n",
       "  'body',\n",
       "  'camiseta',\n",
       "  'corse',\n",
       "  'corset',\n",
       "  'diadema',\n",
       "  'encaje',\n",
       "  'falda',\n",
       "  'joyeria',\n",
       "  'lenceria',\n",
       "  'lencero',\n",
       "  'malla',\n",
       "  'media',\n",
       "  'panties',\n",
       "  'pantis',\n",
       "  'ropa',\n",
       "  'sujetador',\n",
       "  'vestido'],\n",
       " 'muebles': ['chaise', 'columpio', 'moqueta', 'silla', 'sillon', 'sillones']}"
      ]
     },
     "execution_count": 67,
     "metadata": {},
     "output_type": "execute_result"
    }
   ],
   "source": [
    "listas"
   ]
  },
  {
   "cell_type": "code",
   "execution_count": 63,
   "metadata": {},
   "outputs": [
    {
     "data": {
      "text/plain": [
       "['dildo',\n",
       " 'plug',\n",
       " 'vibrador',\n",
       " 'masturbador',\n",
       " 'cabezal',\n",
       " 'estimulador',\n",
       " 'plugs',\n",
       " 'bolas chinas',\n",
       " 'funda extensora',\n",
       " 'bomba de vacio']"
      ]
     },
     "execution_count": 63,
     "metadata": {},
     "output_type": "execute_result"
    }
   ],
   "source": [
    "juguetes=unpickled_list('juguetes', carpeta=\"Utils\")\n",
    "juguetes"
   ]
  },
  {
   "attachments": {},
   "cell_type": "markdown",
   "metadata": {},
   "source": [
    "Generamos las variables nuevas a partir de las listas con las keywords."
   ]
  },
  {
   "cell_type": "code",
   "execution_count": 58,
   "metadata": {},
   "outputs": [],
   "source": [
    "# df_engineer['lenceria'] = df_engineer['Description'].apply(lambda x: any(lematizado in lenceria for lematizado in extraer_lemas(x)))\n",
    "# df_engineer['juguetes'] = df_engineer['Description'].apply(lambda x: any(lematizado in juguetes for lematizado in extraer_lemas(x)))\n",
    "# df_engineer['BDSM'] = df_engineer['Description'].apply(lambda x: any(lematizado in BDSM for lematizado in extraer_lemas(x)))\n",
    "# df_engineer['muebles'] = df_engineer['Description'].apply(lambda x: any(lematizado in muebles for lematizado in extraer_lemas(x)))\n",
    "# df_engineer['anal'] = df_engineer['Description'].apply(lambda x: any(lematizado in anal for lematizado in extraer_lemas(x)))\n",
    "# df_engineer['masculino'] = df_engineer['Description'].apply(lambda x: any(lematizado in masculino for lematizado in extraer_lemas(x)))\n",
    "# df_engineer['femenino'] = df_engineer['Description'].apply(lambda x: any(lematizado in femenino for lematizado in extraer_lemas(x)))\n",
    "# df_engineer['amenities'] = df_engineer['Description'].apply(lambda x: any(lematizado in amenities for lematizado in extraer_lemas(x)))\n",
    "\n",
    "# df_engineer['otros'] = ~(df_engineer['lenceria'] | df_engineer['juguetes'] | df_engineer['BDSM']| df_engineer['muebles'] | df_engineer['anal']| df_engineer['masculino'] | df_engineer['femenino'] | df_engineer['amenities']).any()\n",
    "\n",
    "\n",
    "# df_engineer['Description'] = df_engineer['Description'].apply(spanish_stemmer)\n",
    "\n",
    "# df_engineer"
   ]
  },
  {
   "attachments": {},
   "cell_type": "markdown",
   "metadata": {},
   "source": [
    "Hacemos una visualización de las cantidades que hay en cada una de las nuevas columnas para después ver si han realizado bien la separación o no y volver a definirlas.\n",
    "\n",
    "Haremos después una visualización uno a uno de los diferentes tags generados para verificar si están bien definidos y en el caso que haya que realizar una modificación generar una nueva lista para incluirla en las iniciales."
   ]
  },
  {
   "attachments": {},
   "cell_type": "markdown",
   "metadata": {},
   "source": [
    "##### Lencería"
   ]
  },
  {
   "cell_type": "code",
   "execution_count": 28,
   "metadata": {},
   "outputs": [
    {
     "data": {
      "text/plain": [
       "False    525\n",
       "True      32\n",
       "Name: lenceria, dtype: int64"
      ]
     },
     "execution_count": 28,
     "metadata": {},
     "output_type": "execute_result"
    }
   ],
   "source": [
    "df_engineer['lenceria'].value_counts()"
   ]
  },
  {
   "cell_type": "code",
   "execution_count": null,
   "metadata": {},
   "outputs": [],
   "source": [
    "df_engineer[df_engineer['lenceria']==True]"
   ]
  },
  {
   "attachments": {},
   "cell_type": "markdown",
   "metadata": {},
   "source": [
    "Hay vibradores dentro de esta lista porque en el texto está la palabra body."
   ]
  },
  {
   "cell_type": "code",
   "execution_count": null,
   "metadata": {},
   "outputs": [],
   "source": [
    "df_engineer[df_engineer['lenceria']==False]"
   ]
  },
  {
   "cell_type": "code",
   "execution_count": 55,
   "metadata": {},
   "outputs": [
    {
     "data": {
      "text/plain": [
       "['babydoll',\n",
       " 'body',\n",
       " 'camiseta',\n",
       " 'corse',\n",
       " 'corset',\n",
       " 'diadema',\n",
       " 'encaje',\n",
       " 'falda',\n",
       " 'joyeria',\n",
       " 'lenceria',\n",
       " 'lencero',\n",
       " 'malla',\n",
       " 'media',\n",
       " 'panties',\n",
       " 'pantis',\n",
       " 'ropa',\n",
       " 'sujetador',\n",
       " 'vestido']"
      ]
     },
     "execution_count": 55,
     "metadata": {},
     "output_type": "execute_result"
    }
   ],
   "source": [
    "lenceria_new=['vestido','media','falda','ropa','lenceria','lencero','malla','sujetador','corset','camiseta','pantis','encaje','babydoll','diadema','joyeria']\n",
    "lenceria+=lenceria_new\n",
    "lenceria.sort()\n",
    "lenceria"
   ]
  },
  {
   "cell_type": "code",
   "execution_count": 30,
   "metadata": {},
   "outputs": [],
   "source": [
    "df_engineer['lenceria'] = df_engineer['Description'].apply(lambda x: any(lematizado in lenceria for lematizado in extraer_lemas(x)))"
   ]
  },
  {
   "cell_type": "code",
   "execution_count": 31,
   "metadata": {},
   "outputs": [
    {
     "data": {
      "text/plain": [
       "False    462\n",
       "True      95\n",
       "Name: lenceria, dtype: int64"
      ]
     },
     "execution_count": 31,
     "metadata": {},
     "output_type": "execute_result"
    }
   ],
   "source": [
    "df_engineer['lenceria'].value_counts()"
   ]
  },
  {
   "cell_type": "code",
   "execution_count": null,
   "metadata": {},
   "outputs": [],
   "source": [
    "df_engineer[df_engineer['lenceria']==True]"
   ]
  },
  {
   "attachments": {},
   "cell_type": "markdown",
   "metadata": {},
   "source": [
    "Hay varios productos que no deben de estar, tienen vibrador, succionador y mordaza.\n",
    "\n",
    "Estos productos deberían de cambiar de True a False."
   ]
  },
  {
   "cell_type": "code",
   "execution_count": null,
   "metadata": {},
   "outputs": [],
   "source": [
    "df_engineer[df_engineer['lenceria']==False]"
   ]
  },
  {
   "attachments": {},
   "cell_type": "markdown",
   "metadata": {},
   "source": [
    "Qué hacemos con los collares y las cadenas para pezones?"
   ]
  },
  {
   "attachments": {},
   "cell_type": "markdown",
   "metadata": {},
   "source": [
    "##### Juguetes"
   ]
  },
  {
   "cell_type": "code",
   "execution_count": 32,
   "metadata": {},
   "outputs": [
    {
     "data": {
      "text/plain": [
       "False    311\n",
       "True     246\n",
       "Name: juguetes, dtype: int64"
      ]
     },
     "execution_count": 32,
     "metadata": {},
     "output_type": "execute_result"
    }
   ],
   "source": [
    "df_engineer['juguetes'].value_counts()"
   ]
  },
  {
   "cell_type": "code",
   "execution_count": null,
   "metadata": {},
   "outputs": [],
   "source": [
    "df_engineer[df_engineer['juguetes']==True]"
   ]
  },
  {
   "attachments": {},
   "cell_type": "markdown",
   "metadata": {},
   "source": [
    "En este punto se han incluido como juguetes productos que no lo son como amenities (limpiadores, para guardar) o arneses."
   ]
  },
  {
   "cell_type": "code",
   "execution_count": null,
   "metadata": {},
   "outputs": [],
   "source": [
    "df_engineer[df_engineer['juguetes']==False]"
   ]
  },
  {
   "attachments": {},
   "cell_type": "markdown",
   "metadata": {},
   "source": [
    "Se ve que hay bastantes productos mal asignados, principalmente anillas para penes, bombas de succion, hay plugs que no se han asignado bien, bolas chinas,..."
   ]
  },
  {
   "attachments": {},
   "cell_type": "markdown",
   "metadata": {},
   "source": [
    "##### BDSM"
   ]
  },
  {
   "cell_type": "code",
   "execution_count": 33,
   "metadata": {},
   "outputs": [
    {
     "data": {
      "text/plain": [
       "False    411\n",
       "True     146\n",
       "Name: BDSM, dtype: int64"
      ]
     },
     "execution_count": 33,
     "metadata": {},
     "output_type": "execute_result"
    }
   ],
   "source": [
    "df_engineer['BDSM'].value_counts()"
   ]
  },
  {
   "cell_type": "code",
   "execution_count": null,
   "metadata": {},
   "outputs": [],
   "source": [
    "df_engineer[df_engineer['BDSM']==True]"
   ]
  },
  {
   "cell_type": "code",
   "execution_count": null,
   "metadata": {},
   "outputs": [],
   "source": [
    "df_engineer[df_engineer['BDSM']==False]"
   ]
  },
  {
   "attachments": {},
   "cell_type": "markdown",
   "metadata": {},
   "source": [
    "##### Muebles"
   ]
  },
  {
   "cell_type": "code",
   "execution_count": 34,
   "metadata": {},
   "outputs": [
    {
     "data": {
      "text/plain": [
       "False    552\n",
       "True       5\n",
       "Name: muebles, dtype: int64"
      ]
     },
     "execution_count": 34,
     "metadata": {},
     "output_type": "execute_result"
    }
   ],
   "source": [
    "df_engineer['muebles'].value_counts()"
   ]
  },
  {
   "cell_type": "code",
   "execution_count": null,
   "metadata": {},
   "outputs": [],
   "source": [
    "df_engineer[df_engineer['muebles']==True]"
   ]
  },
  {
   "attachments": {},
   "cell_type": "markdown",
   "metadata": {},
   "source": [
    "Hay que cambiar Black Line"
   ]
  },
  {
   "cell_type": "code",
   "execution_count": null,
   "metadata": {},
   "outputs": [],
   "source": [
    "df_engineer[df_engineer['muebles']==False]"
   ]
  },
  {
   "cell_type": "code",
   "execution_count": 56,
   "metadata": {},
   "outputs": [
    {
     "data": {
      "text/plain": [
       "['chaise', 'columpio', 'moqueta', 'silla', 'sillon', 'sillones']"
      ]
     },
     "execution_count": 56,
     "metadata": {},
     "output_type": "execute_result"
    }
   ],
   "source": [
    "muebles_new=['chaise','silla','moqueta']          # Pendiente de agregar, no puedo usar puerta\n",
    "muebles+=muebles_new\n",
    "muebles.sort()\n",
    "muebles"
   ]
  },
  {
   "attachments": {},
   "cell_type": "markdown",
   "metadata": {},
   "source": [
    "Agregando los nuevos valores"
   ]
  },
  {
   "cell_type": "code",
   "execution_count": 36,
   "metadata": {},
   "outputs": [
    {
     "data": {
      "text/plain": [
       "False    543\n",
       "True      14\n",
       "Name: muebles, dtype: int64"
      ]
     },
     "execution_count": 36,
     "metadata": {},
     "output_type": "execute_result"
    }
   ],
   "source": [
    "df_engineer['muebles'] = df_engineer['Description'].apply(lambda x: any(lematizado in muebles for lematizado in extraer_lemas(x)))\n",
    "df_engineer['muebles'].value_counts()"
   ]
  },
  {
   "cell_type": "code",
   "execution_count": null,
   "metadata": {},
   "outputs": [],
   "source": [
    "df_engineer[df_engineer['muebles']==True]"
   ]
  },
  {
   "attachments": {},
   "cell_type": "markdown",
   "metadata": {},
   "source": [
    "Hay que eliminar los dildos y plugs y agregar el soporte para puertas"
   ]
  },
  {
   "attachments": {},
   "cell_type": "markdown",
   "metadata": {},
   "source": [
    "##### Anal"
   ]
  },
  {
   "cell_type": "code",
   "execution_count": 24,
   "metadata": {},
   "outputs": [
    {
     "data": {
      "text/plain": [
       "False    453\n",
       "True     123\n",
       "Name: anal, dtype: int64"
      ]
     },
     "execution_count": 24,
     "metadata": {},
     "output_type": "execute_result"
    }
   ],
   "source": [
    "df_engineer['anal'].value_counts()"
   ]
  },
  {
   "cell_type": "code",
   "execution_count": null,
   "metadata": {},
   "outputs": [],
   "source": [
    "df_engineer[df_engineer['anal']==True]"
   ]
  },
  {
   "cell_type": "code",
   "execution_count": null,
   "metadata": {},
   "outputs": [],
   "source": [
    "df_engineer[df_engineer['anal']==False]"
   ]
  },
  {
   "attachments": {},
   "cell_type": "markdown",
   "metadata": {},
   "source": [
    "##### Masculino"
   ]
  },
  {
   "cell_type": "code",
   "execution_count": 27,
   "metadata": {},
   "outputs": [
    {
     "data": {
      "text/plain": [
       "False    525\n",
       "True      51\n",
       "Name: masculino, dtype: int64"
      ]
     },
     "execution_count": 27,
     "metadata": {},
     "output_type": "execute_result"
    }
   ],
   "source": [
    "df_engineer['masculino'].value_counts()"
   ]
  },
  {
   "cell_type": "code",
   "execution_count": null,
   "metadata": {},
   "outputs": [],
   "source": [
    "df_engineer[df_engineer['masculino']==True]"
   ]
  },
  {
   "cell_type": "code",
   "execution_count": null,
   "metadata": {},
   "outputs": [],
   "source": [
    "df_engineer[df_engineer['masculino']==False]"
   ]
  },
  {
   "attachments": {},
   "cell_type": "markdown",
   "metadata": {},
   "source": [
    "##### Femenino"
   ]
  },
  {
   "cell_type": "code",
   "execution_count": 59,
   "metadata": {},
   "outputs": [
    {
     "data": {
      "text/plain": [
       "False    376\n",
       "True     200\n",
       "Name: femenino, dtype: int64"
      ]
     },
     "execution_count": 59,
     "metadata": {},
     "output_type": "execute_result"
    }
   ],
   "source": [
    "df_engineer['femenino'].value_counts()"
   ]
  },
  {
   "cell_type": "code",
   "execution_count": null,
   "metadata": {},
   "outputs": [],
   "source": [
    "df_engineer[df_engineer['femenino']==True]"
   ]
  },
  {
   "attachments": {},
   "cell_type": "markdown",
   "metadata": {},
   "source": [
    "Hay juguetes masculinos que se han incluido aquí dado que tienen la palabra mujer. \n",
    "\n",
    "Estos son las muñecas para hombres. "
   ]
  },
  {
   "cell_type": "code",
   "execution_count": null,
   "metadata": {},
   "outputs": [],
   "source": [
    "df_engineer[df_engineer['femenino']==False]"
   ]
  },
  {
   "attachments": {},
   "cell_type": "markdown",
   "metadata": {},
   "source": [
    "##### Amenities"
   ]
  },
  {
   "cell_type": "code",
   "execution_count": 37,
   "metadata": {},
   "outputs": [
    {
     "data": {
      "text/plain": [
       "False    389\n",
       "True     168\n",
       "Name: amenities, dtype: int64"
      ]
     },
     "execution_count": 37,
     "metadata": {},
     "output_type": "execute_result"
    }
   ],
   "source": [
    "df_engineer['amenities'].value_counts()"
   ]
  },
  {
   "cell_type": "code",
   "execution_count": null,
   "metadata": {},
   "outputs": [],
   "source": [
    "amenities=['lubricante','limpiador','preservativo','condon']            #Tengo que aplicar primero la generación de las variables"
   ]
  },
  {
   "cell_type": "code",
   "execution_count": null,
   "metadata": {},
   "outputs": [],
   "source": [
    "df_engineer[df_engineer['amenities']==True]"
   ]
  },
  {
   "cell_type": "code",
   "execution_count": null,
   "metadata": {},
   "outputs": [],
   "source": [
    "df_engineer[df_engineer['amenities']==False]"
   ]
  },
  {
   "attachments": {},
   "cell_type": "markdown",
   "metadata": {},
   "source": [
    "##### Otros"
   ]
  },
  {
   "cell_type": "code",
   "execution_count": 31,
   "metadata": {},
   "outputs": [
    {
     "data": {
      "text/plain": [
       "False    576\n",
       "Name: otros, dtype: int64"
      ]
     },
     "execution_count": 31,
     "metadata": {},
     "output_type": "execute_result"
    }
   ],
   "source": [
    "df_engineer['otros'].value_counts()"
   ]
  },
  {
   "cell_type": "code",
   "execution_count": 37,
   "metadata": {},
   "outputs": [
    {
     "data": {
      "text/html": [
       "<div>\n",
       "<style scoped>\n",
       "    .dataframe tbody tr th:only-of-type {\n",
       "        vertical-align: middle;\n",
       "    }\n",
       "\n",
       "    .dataframe tbody tr th {\n",
       "        vertical-align: top;\n",
       "    }\n",
       "\n",
       "    .dataframe thead th {\n",
       "        text-align: right;\n",
       "    }\n",
       "</style>\n",
       "<table border=\"1\" class=\"dataframe\">\n",
       "  <thead>\n",
       "    <tr style=\"text-align: right;\">\n",
       "      <th></th>\n",
       "      <th>Name</th>\n",
       "      <th>Description</th>\n",
       "      <th>lenceria</th>\n",
       "      <th>juguetes</th>\n",
       "      <th>BDSM</th>\n",
       "      <th>muebles</th>\n",
       "      <th>anal</th>\n",
       "      <th>masculino</th>\n",
       "      <th>femenino</th>\n",
       "      <th>amenities</th>\n",
       "      <th>otros</th>\n",
       "    </tr>\n",
       "  </thead>\n",
       "  <tbody>\n",
       "  </tbody>\n",
       "</table>\n",
       "</div>"
      ],
      "text/plain": [
       "Empty DataFrame\n",
       "Columns: [Name, Description, lenceria, juguetes, BDSM, muebles, anal, masculino, femenino, amenities, otros]\n",
       "Index: []"
      ]
     },
     "execution_count": 37,
     "metadata": {},
     "output_type": "execute_result"
    }
   ],
   "source": [
    "df_engineer[df_engineer['otros']==True]"
   ]
  },
  {
   "cell_type": "code",
   "execution_count": null,
   "metadata": {},
   "outputs": [],
   "source": [
    "df_engineer[df_engineer['otros']==False]"
   ]
  },
  {
   "cell_type": "code",
   "execution_count": null,
   "metadata": {},
   "outputs": [],
   "source": []
  },
  {
   "cell_type": "code",
   "execution_count": null,
   "metadata": {},
   "outputs": [],
   "source": []
  },
  {
   "cell_type": "code",
   "execution_count": null,
   "metadata": {},
   "outputs": [],
   "source": []
  },
  {
   "cell_type": "code",
   "execution_count": null,
   "metadata": {},
   "outputs": [],
   "source": []
  },
  {
   "cell_type": "code",
   "execution_count": null,
   "metadata": {},
   "outputs": [],
   "source": []
  },
  {
   "cell_type": "code",
   "execution_count": null,
   "metadata": {},
   "outputs": [],
   "source": []
  },
  {
   "cell_type": "code",
   "execution_count": null,
   "metadata": {},
   "outputs": [],
   "source": []
  },
  {
   "attachments": {},
   "cell_type": "markdown",
   "metadata": {},
   "source": [
    "#### Generación de tags.\n",
    "\n",
    "Vamos a tratar un texto para ver como se puede generar tags de los mismos. Para ello vamos a cargar la librería *spaCy* y tratar un texto para tokenizar y demás ..."
   ]
  },
  {
   "cell_type": "code",
   "execution_count": null,
   "metadata": {},
   "outputs": [],
   "source": [
    "text = \"\"\"\n",
    "¿Encuentras placer en que te dominen? ¿Sientes que dominas tu desde la sumisión? Todo este juego de roles es altamente excitante, y desde amantis te invitamos a que lo explores.\n",
    "\n",
    "Una buena manera de empezar, y uno de los símbolos más conocidos en la sumisión son los collares, digamos que sería el equivalente al anillo de compromiso cuando te casas. De hecho, existe una ceremonia llamada la coronización, en donde la persona sumisa acepta estar en una relación de confianza, estabilidad, lealtad y protección.\n",
    "\n",
    "YOURS es un collar perteneciente a la categoría de sumisión de BDSM, y podremos usarlo tanto en público como en nuestras sesiones privadas con nuestro amo o ama. Tiene una potente hebilla con ocho agujeros, por lo que acepta todo tipo de tamaño de cuellos. A su vez, YOURS tiene un amarre en el centro por si quisiéramos llevarlo más allá de la simbología y quisieramos atarle una correa para que las persona que nos dirige sea dueña de nuestro movimientos.\n",
    "\n",
    "A diferencia de otros collares tradicionalmente negros o rojos y de estética fetiche, este collar opta por otros colores abriendo más la gama de esta categoria. Además, YOURS apuesta por la comodidad, y el material del que está hecho es blando, estilo neopreno, que será más amable con nuestra piel permitiéndonos llevarlo más tiempo sin tener rozaduras.\n",
    "\n",
    "Cada pieza tiene hebillas y agarres plateadas, y los que son amarres vienen con zona de agujeros que harán que puedas ajustarlas a la medidas que quieras.\n",
    "\n",
    "Ten cuenta principio fundamental del BDSM, el SCCP (sexo seguro, sensato, consensuado y placentero) y no olvideis tener una palabra de seguridad que nos ayude a entender si algún límite está siendo sobrepasado.\"\"\"\n",
    "\n",
    "doc = nlp(text)\n",
    "\n",
    "print(doc)\n",
    "\n",
    "for num, sentence in enumerate(doc.sents):\n",
    "  print(num, sentence)\n"
   ]
  }
 ],
 "metadata": {
  "kernelspec": {
   "display_name": "Python 3",
   "language": "python",
   "name": "python3"
  },
  "language_info": {
   "codemirror_mode": {
    "name": "ipython",
    "version": 3
   },
   "file_extension": ".py",
   "mimetype": "text/x-python",
   "name": "python",
   "nbconvert_exporter": "python",
   "pygments_lexer": "ipython3",
   "version": "3.10.11"
  },
  "orig_nbformat": 4
 },
 "nbformat": 4,
 "nbformat_minor": 2
}
